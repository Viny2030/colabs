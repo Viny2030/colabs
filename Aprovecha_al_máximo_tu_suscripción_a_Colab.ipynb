{
  "cells": [
    {
      "cell_type": "markdown",
      "metadata": {
        "id": "view-in-github",
        "colab_type": "text"
      },
      "source": [
        "<a href=\"https://colab.research.google.com/github/Viny2030/colabs/blob/main/Aprovecha_al_m%C3%A1ximo_tu_suscripci%C3%B3n_a_Colab.ipynb\" target=\"_parent\"><img src=\"https://colab.research.google.com/assets/colab-badge.svg\" alt=\"Open In Colab\"/></a>"
      ]
    },
    {
      "cell_type": "markdown",
      "metadata": {
        "id": "SKQ4bH7qMGrA"
      },
      "source": [
        "# Aprovecha al máximo tu suscripción a Colab\n",
        "\n"
      ]
    },
    {
      "cell_type": "markdown",
      "metadata": {
        "id": "QMMqmdiYMkvi"
      },
      "source": [
        "## GPU más rápidas\n",
        "\n",
        "<p>Los usuarios que compraron uno de los planes de pagos de Colab tienen acceso a GPUs premium. Puedes actualizar la configuración de la GPU de tu notebook en <code>Entorno de ejecución &gt; Cambiar tipo de entorno de ejecución</code> en el menú para habilitar el acelerador premium. Si seleccionas una GPU premium, es posible que tengas acceso a una GPU L4 o A100 de Nvidia &#40;sujetas a la disponibilidad&#41;.</p>\n",
        "<p>La versión sin costo de Colab te otorga acceso a las GPUs T4 de Nvidia, sujetas a la disponibilidad y a restricciones de cuota.</p>\n",
        "\n",
        "Puedes ver en cualquier momento qué GPU se te asignó si ejecutas la siguiente celda. Si el resultado de la ejecución de la celda de código indica \"Not connected to a GPU\", puedes cambiar el entorno de ejecución en el menú <code>Entorno de ejecución &gt; Cambiar tipo de entorno de ejecución</code> para habilitar el acelerador de GPU. Luego, vuelve a ejecutar la celda de código."
      ]
    },
    {
      "cell_type": "code",
      "execution_count": null,
      "metadata": {
        "id": "23TOba33L4qf"
      },
      "outputs": [],
      "source": [
        "gpu_info = !nvidia-smi\n",
        "gpu_info = '\\n'.join(gpu_info)\n",
        "if gpu_info.find('failed') >= 0:\n",
        "  print('Not connected to a GPU')\n",
        "else:\n",
        "  print(gpu_info)"
      ]
    },
    {
      "cell_type": "markdown",
      "metadata": {
        "id": "Sa-IrJS1aRVJ"
      },
      "source": [
        "Para usar una GPU con tu notebook, selecciona el menú <code>Entorno de ejecución &gt; Cambiar tipo de entorno de ejecución</code> y, luego, selecciona GPU en el menú desplegable de aceleración de hardware."
      ]
    },
    {
      "cell_type": "markdown",
      "metadata": {
        "id": "65MSuHKqNeBZ"
      },
      "source": [
        "## Más memoria\n",
        "\n",
        "Los usuarios que compraron uno de los planes de pagos de Colab tienen acceso a VMs con memoria amplia cuando están disponibles.\n",
        "Para ver cuánta memoria te queda disponible en cualquier momento, ejecuta la siguiente celda de código. Si el resultado de la ejecución del código de la celda indica \"Not using a high-RAM runtime\", puedes habilitar un entorno de ejecución de RAM amplia en el menú <code>Entorno de ejecución &gt; Cambiar tipo de entorno de ejecución</code>. Luego, selecciona RAM amplia en el menú desplegable de tipo de entorno de ejecución. Por último, vuelve a ejecutar la celda de código."
      ]
    },
    {
      "cell_type": "code",
      "execution_count": null,
      "metadata": {
        "id": "V1G82GuO-tez"
      },
      "outputs": [],
      "source": [
        "from psutil import virtual_memory\n",
        "ram_gb = virtual_memory().total / 1e9\n",
        "print('Your runtime has {:.1f} gigabytes of available RAM\\n'.format(ram_gb))\n",
        "\n",
        "if ram_gb < 20:\n",
        "  print('Not using a high-RAM runtime')\n",
        "else:\n",
        "  print('You are using a high-RAM runtime!')"
      ]
    },
    {
      "cell_type": "markdown",
      "metadata": {
        "id": "BJW8Qi-pPpep"
      },
      "source": [
        "## Tiempos de ejecución más extensos\n",
        "\n",
        "Todos los entornos de ejecución de Colab se restablecen luego de cierto período &#40;que es más corto si el entorno no está ejecutando código&#41;. Los usuarios de Colab Pro y Pro+ tienen acceso a tiempos de ejecución más largos que aquellos usuarios que usan Colab sin costo.\n",
        "\n",
        "## Ejecución en segundo plano\n",
        "\n",
        "Los usuarios de Colab Pro+ pueden utilizar la ejecución en segundo plano. Con esta función, los notebooks se siguen ejecutando incluso después de cerrar una pestaña del navegador. Esta opción siempre estará habilitada en los tiempos de ejecución de Pro+, siempre y cuando tengas unidades de procesamiento disponibles.\n"
      ]
    },
    {
      "cell_type": "markdown",
      "metadata": {
        "id": "uLlTRcMM_h0k"
      },
      "source": [
        "## Flexibiliza los límites de recursos en Colab Pro\n",
        "\n",
        "Tus recursos no son ilimitados en Colab. Para aprovechar Colab al máximo, evita usar recursos cuando no los necesites. Por ejemplo, solo usa una GPU cuando se requiera y cierra las pestañas de Colab cuando finalices.\n",
        "\n",
        "Si llegas a límites de uso, puedes flexibilizarlos comprando más unidades de procesamiento por medio del pago por uso. Cualquier persona puede comprarlas mediante el <a href=\"https://colab.research.google.com/signup\">pago por uso</a>, ya que no requiere una suscripción."
      ]
    },
    {
      "cell_type": "markdown",
      "metadata": {
        "id": "mm8FzEidvPs6"
      },
      "source": [
        "## Envíanos tus comentarios\n",
        "\n",
        "<p>Si tienes algún comentario, comunícate con nosotros. La mejor manera de enviar comentarios es por medio del menú Ayuda &#62; \"Enviar comentarios…\". Si llegas a límites de uso en Colab Pro, considera suscribirte a Pro+.</p>\n",
        "<p>Si tienes algún inconveniente con la facturación &#40;pagos&#41; de Colab Pro, Pro+ o pago por uso, envía un correo electrónico a <a href=\"mailto:colab-billing@google.com\">colab-billing@google.com</a>.</p>"
      ]
    },
    {
      "cell_type": "markdown",
      "metadata": {
        "id": "qB3bdLe8jkAa"
      },
      "source": [
        "## Más recursos\n",
        "\n",
        "### Cómo trabajar con notebooks en Colab\n",
        "- [Descripción general de Colab](/notebooks/basic_features_overview.ipynb)\n",
        "- [Guía para usar Markdown](/notebooks/markdown_guide.ipynb)\n",
        "- [Cómo importar bibliotecas y luego instalar dependencias](/notebooks/snippets/importing_libraries.ipynb)\n",
        "- [Cómo guardar y cargar notebooks en GitHub](https://colab.research.google.com/github/googlecolab/colabtools/blob/main/notebooks/colab-github-demo.ipynb)\n",
        "- [Formularios interactivos](/notebooks/forms.ipynb)\n",
        "- [Widgets interactivos](/notebooks/widgets.ipynb)\n",
        "\n",
        "<a name=\"working-with-data\"></a>\n",
        "### Cómo trabajar con datos\n",
        "- [Cómo cargar datos: Drive, Hojas de cálculo y Google Cloud Storage](/notebooks/io.ipynb)\n",
        "- [Gráficos: visualización de datos](/notebooks/charts.ipynb)\n",
        "- [Cómo comenzar a usar BigQuery](/notebooks/bigquery.ipynb)\n",
        "\n",
        "### Curso intensivo de aprendizaje automático\n",
        "Estos son algunos de los notebooks del curso de aprendizaje automático en línea de Google. Para obtener más información, consulta el <a href=\"https://developers.google.com/machine-learning/crash-course/\">sitio web del curso completo</a>.\n",
        "- [Introducción a Pandas DataFrame](https://colab.research.google.com/github/google/eng-edu/blob/main/ml/cc/exercises/pandas_dataframe_ultraquick_tutorial.ipynb)\n",
        "- [Regresión lineal con tf.keras usando datos sintéticos](https://colab.research.google.com/github/google/eng-edu/blob/main/ml/cc/exercises/linear_regression_with_synthetic_data.ipynb)\n",
        "\n",
        "\n",
        "<a name=\"using-accelerated-hardware\"></a>\n",
        "### Uso de aceleración de hardware\n",
        "- [TensorFlow con GPU](/notebooks/gpu.ipynb)\n",
        "- [TensorFlow con TPU](/notebooks/tpu.ipynb)"
      ]
    },
    {
      "cell_type": "markdown",
      "metadata": {
        "id": "RFm2S0Gijqo8"
      },
      "source": [
        "<a name=\"machine-learning-examples\"></a>\n",
        "\n",
        "## Ejemplos de aprendizaje automático\n",
        "\n",
        "Para ver ejemplos de extremo a extremo de los análisis de aprendizaje automático interactivo que Colab permite realizar, consulta estos instructivos con modelos de <a href=\"https://tfhub.dev\">TensorFlow Hub</a>.\n",
        "\n",
        "Algunos ejemplos destacados son los siguientes:\n",
        "\n",
        "- <a href=\"https://tensorflow.org/hub/tutorials/tf2_image_retraining\">Reentrenamiento de un clasificador de imágenes</a>: compila un modelo de Keras sobre un clasificador de imágenes previamente entrenado para distinguir flores.\n",
        "- <a href=\"https://tensorflow.org/hub/tutorials/tf2_text_classification\">Clasificación de texto</a>: clasifica opiniones sobre películas de IMDB como <em>positivas</em> o <em>negativas</em>.\n",
        "- <a href=\"https://tensorflow.org/hub/tutorials/tf2_arbitrary_image_stylization\">Transferencia de estilos</a>: usa el aprendizaje profundo para transferir el estilo de una imagen a otra.\n",
        "- <a href=\"https://tensorflow.org/hub/tutorials/retrieval_with_tf_hub_universal_encoder_qa\">Codificador universal de oraciones en varios idiomas para preguntas y respuestas</a>: usa un modelo de aprendizaje automático para responder preguntas del conjunto de datos SQuAD.\n",
        "- <a href=\"https://tensorflow.org/hub/tutorials/tweening_conv3d\">Interpolación de videos</a>: predice lo que sucedió en un video entre el primer y el último fotograma.\n"
      ]
    }
  ],
  "metadata": {
    "colab": {
      "provenance": [],
      "include_colab_link": true
    },
    "kernelspec": {
      "display_name": "Python 3",
      "name": "python3"
    }
  },
  "nbformat": 4,
  "nbformat_minor": 0
}