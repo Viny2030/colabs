{
  "cells": [
    {
      "cell_type": "markdown",
      "metadata": {
        "id": "view-in-github",
        "colab_type": "text"
      },
      "source": [
        "<a href=\"https://colab.research.google.com/github/Viny2030/colabs/blob/main/Lazy_Frames.ipynb\" target=\"_parent\"><img src=\"https://colab.research.google.com/assets/colab-badge.svg\" alt=\"Open In Colab\"/></a>"
      ]
    },
    {
      "cell_type": "markdown",
      "metadata": {
        "id": "5z0PDPHyMfdB"
      },
      "source": [
        "\n",
        "# **<font color=\"#07a8ed\">API lazy VS API eager**"
      ]
    },
    {
      "cell_type": "markdown",
      "metadata": {
        "id": "6Q1wcl_XcIGD"
      },
      "source": [
        "# Lazy evaluation\n",
        "`Hasta el momento, todo lo que hemos ejecutado en nuestro DataFrame (df:polars.DataFrame) se ejecutó en modo Eager, es decir, de manera instantánea de acuerdo con lo que hemos definido en las celdas, tal cómo ocurriría si fuera un DataFrame de Pandas.`\n",
        "\n",
        "`Sin embargo, Polars también tiene una forma Lazy para evaluar/ejecutar las instrucciones de código.`\n",
        "\n",
        "`Esta forma Lazy permite a Polars evaluar la sintaxis de nuestro código/expresión, optimizarla y finalmente ejecutarla dentro de su engine. Esto permite, en general, mejorar aún más el rendimiento y optimizar el uso de la memoria. En modo Lazy, Polars crea y realiza un seguimiento de nuestro código en un plan lógico donde es capaz de optimizar y reordenar cada tarea antes de ejecutarlo. Vamos ahora a explorar un poco el universo de las Lazy Evaluations.`"
      ]
    },
    {
      "cell_type": "code",
      "execution_count": 1,
      "metadata": {
        "colab": {
          "base_uri": "https://localhost:8080/"
        },
        "id": "-SFYXyQfoa4Z",
        "outputId": "eda33d0f-6aa6-4aae-9dd2-3d5a35841610"
      },
      "outputs": [
        {
          "output_type": "stream",
          "name": "stdout",
          "text": [
            "Requirement already satisfied: polars in /usr/local/lib/python3.10/dist-packages (1.9.0)\n",
            "Collecting polars\n",
            "  Downloading polars-1.13.1-cp39-abi3-manylinux_2_17_x86_64.manylinux2014_x86_64.whl.metadata (14 kB)\n",
            "Downloading polars-1.13.1-cp39-abi3-manylinux_2_17_x86_64.manylinux2014_x86_64.whl (35.4 MB)\n",
            "\u001b[2K   \u001b[90m━━━━━━━━━━━━━━━━━━━━━━━━━━━━━━━━━━━━━━━━\u001b[0m \u001b[32m35.4/35.4 MB\u001b[0m \u001b[31m67.9 MB/s\u001b[0m eta \u001b[36m0:00:00\u001b[0m\n",
            "\u001b[?25hInstalling collected packages: polars\n",
            "  Attempting uninstall: polars\n",
            "    Found existing installation: polars 1.9.0\n",
            "    Uninstalling polars-1.9.0:\n",
            "      Successfully uninstalled polars-1.9.0\n",
            "Successfully installed polars-1.13.1\n"
          ]
        }
      ],
      "source": [
        "!pip install polars -U  ## instalacion de polars"
      ]
    },
    {
      "cell_type": "code",
      "execution_count": 2,
      "metadata": {
        "colab": {
          "base_uri": "https://localhost:8080/"
        },
        "id": "9LLjIuAyoma8",
        "outputId": "f81ec1d8-85f0-413f-875b-01b11519511c"
      },
      "outputs": [
        {
          "output_type": "stream",
          "name": "stdout",
          "text": [
            "Looking in indexes: https://pypi.org/simple, https://pypi.nvidia.com\n",
            "Requirement already satisfied: polars[gpu] in /usr/local/lib/python3.10/dist-packages (1.13.1)\n",
            "\u001b[33mWARNING: Skipping page https://pypi.nvidia.com/cudf-polars-cu12/ because the GET request got Content-Type: public, must-revalidate, proxy-revalidate, max-age=0. The only supported Content-Types are application/vnd.pypi.simple.v1+json, application/vnd.pypi.simple.v1+html, and text/html\u001b[0m\u001b[33m\n",
            "\u001b[0mCollecting cudf-polars-cu12 (from polars[gpu])\n",
            "  Downloading cudf_polars_cu12-24.10.1.tar.gz (2.2 kB)\n",
            "  Installing build dependencies ... \u001b[?25l\u001b[?25hdone\n",
            "  Getting requirements to build wheel ... \u001b[?25l\u001b[?25hdone\n",
            "  Preparing metadata (pyproject.toml) ... \u001b[?25l\u001b[?25hdone\n",
            "INFO: pip is looking at multiple versions of cudf-polars-cu12 to determine which version is compatible with other requirements. This could take a while.\n",
            "Collecting polars[gpu]\n",
            "  Using cached polars-1.13.1-cp39-abi3-manylinux_2_17_x86_64.manylinux2014_x86_64.whl.metadata (14 kB)\n",
            "  Downloading polars-1.13.0-cp39-abi3-manylinux_2_17_x86_64.manylinux2014_x86_64.whl.metadata (14 kB)\n",
            "  Downloading polars-1.12.0-cp39-abi3-manylinux_2_17_x86_64.manylinux2014_x86_64.whl.metadata (14 kB)\n",
            "  Downloading polars-1.11.0-cp39-abi3-manylinux_2_17_x86_64.manylinux2014_x86_64.whl.metadata (14 kB)\n",
            "  Downloading polars-1.10.0-cp39-abi3-manylinux_2_17_x86_64.manylinux2014_x86_64.whl.metadata (14 kB)\n",
            "  Downloading polars-1.9.0-cp38-abi3-manylinux_2_17_x86_64.manylinux2014_x86_64.whl.metadata (14 kB)\n",
            "  Downloading polars-1.8.2-cp38-abi3-manylinux_2_17_x86_64.manylinux2014_x86_64.whl.metadata (14 kB)\n",
            "Requirement already satisfied: pylibcudf-cu12==24.10.* in /usr/local/lib/python3.10/dist-packages (from cudf-polars-cu12->polars[gpu]) (24.10.1)\n",
            "Requirement already satisfied: cuda-python<13.0a0,>=12.0 in /usr/local/lib/python3.10/dist-packages (from pylibcudf-cu12==24.10.*->cudf-polars-cu12->polars[gpu]) (12.2.1)\n",
            "Requirement already satisfied: libcudf-cu12==24.10.* in /usr/local/lib/python3.10/dist-packages (from pylibcudf-cu12==24.10.*->cudf-polars-cu12->polars[gpu]) (24.10.1)\n",
            "Requirement already satisfied: nvtx>=0.2.1 in /usr/local/lib/python3.10/dist-packages (from pylibcudf-cu12==24.10.*->cudf-polars-cu12->polars[gpu]) (0.2.10)\n",
            "Requirement already satisfied: packaging in /usr/local/lib/python3.10/dist-packages (from pylibcudf-cu12==24.10.*->cudf-polars-cu12->polars[gpu]) (24.2)\n",
            "Requirement already satisfied: pyarrow<18.0.0a0,>=14.0.0 in /usr/local/lib/python3.10/dist-packages (from pylibcudf-cu12==24.10.*->cudf-polars-cu12->polars[gpu]) (17.0.0)\n",
            "Requirement already satisfied: rmm-cu12==24.10.* in /usr/local/lib/python3.10/dist-packages (from pylibcudf-cu12==24.10.*->cudf-polars-cu12->polars[gpu]) (24.10.0)\n",
            "Requirement already satisfied: typing_extensions>=4.0.0 in /usr/local/lib/python3.10/dist-packages (from pylibcudf-cu12==24.10.*->cudf-polars-cu12->polars[gpu]) (4.12.2)\n",
            "Requirement already satisfied: numba>=0.57 in /usr/local/lib/python3.10/dist-packages (from rmm-cu12==24.10.*->pylibcudf-cu12==24.10.*->cudf-polars-cu12->polars[gpu]) (0.60.0)\n",
            "Requirement already satisfied: numpy<3.0a0,>=1.23 in /usr/local/lib/python3.10/dist-packages (from rmm-cu12==24.10.*->pylibcudf-cu12==24.10.*->cudf-polars-cu12->polars[gpu]) (1.26.4)\n",
            "Requirement already satisfied: cython in /usr/local/lib/python3.10/dist-packages (from cuda-python<13.0a0,>=12.0->pylibcudf-cu12==24.10.*->cudf-polars-cu12->polars[gpu]) (3.0.11)\n",
            "Requirement already satisfied: llvmlite<0.44,>=0.43.0dev0 in /usr/local/lib/python3.10/dist-packages (from numba>=0.57->rmm-cu12==24.10.*->pylibcudf-cu12==24.10.*->cudf-polars-cu12->polars[gpu]) (0.43.0)\n",
            "Downloading polars-1.8.2-cp38-abi3-manylinux_2_17_x86_64.manylinux2014_x86_64.whl (32.5 MB)\n",
            "\u001b[2K   \u001b[90m━━━━━━━━━━━━━━━━━━━━━━━━━━━━━━━━━━━━━━━━\u001b[0m \u001b[32m32.5/32.5 MB\u001b[0m \u001b[31m72.6 MB/s\u001b[0m eta \u001b[36m0:00:00\u001b[0m\n",
            "\u001b[?25hBuilding wheels for collected packages: cudf-polars-cu12\n",
            "  Building wheel for cudf-polars-cu12 (pyproject.toml) ... \u001b[?25l\u001b[?25hdone\n",
            "  Created wheel for cudf-polars-cu12: filename=cudf_polars_cu12-24.10.1-py3-none-any.whl size=53357 sha256=3aeb03d20bbf944106c86e22714437316148c86f659d9e691bf2a11cccbae8f5\n",
            "  Stored in directory: /root/.cache/pip/wheels/0b/60/a0/e6aa0053e52d34019bf87cb78f0215e71499afd0ca060b43f5\n",
            "Successfully built cudf-polars-cu12\n",
            "Installing collected packages: polars, cudf-polars-cu12\n",
            "  Attempting uninstall: polars\n",
            "    Found existing installation: polars 1.13.1\n",
            "    Uninstalling polars-1.13.1:\n",
            "      Successfully uninstalled polars-1.13.1\n",
            "Successfully installed cudf-polars-cu12-24.10.1 polars-1.8.2\n"
          ]
        }
      ],
      "source": [
        "!pip install polars[gpu] --extra-index-url=https://pypi.nvidia.com  ## instalacion de extra de nvidia para procesos"
      ]
    },
    {
      "cell_type": "code",
      "execution_count": 3,
      "metadata": {
        "id": "6r1Tn0JH_9ME"
      },
      "outputs": [],
      "source": [
        "import polars as pl  ## importar polars"
      ]
    },
    {
      "cell_type": "code",
      "execution_count": 4,
      "metadata": {
        "id": "wPV6Q0Py_53b"
      },
      "outputs": [],
      "source": [
        "import polars as col  ## importar modulo columnas"
      ]
    },
    {
      "cell_type": "code",
      "execution_count": 5,
      "metadata": {
        "colab": {
          "base_uri": "https://localhost:8080/",
          "height": 567
        },
        "id": "XC8fQkmWAF69",
        "outputId": "8aab7d75-6056-4724-d62e-e3dd27de5d3c"
      },
      "outputs": [
        {
          "output_type": "stream",
          "name": "stdout",
          "text": [
            "CPU times: user 10.9 ms, sys: 5.45 ms, total: 16.3 ms\n",
            "Wall time: 190 ms\n"
          ]
        },
        {
          "output_type": "execute_result",
          "data": {
            "text/plain": [
              "shape: (1_728, 16)\n",
              "┌──────┬────────┬─────────────┬────────────┬───┬────────────┬────────────┬────────────┬────────────┐\n",
              "│      ┆ precio ┆ metros_tota ┆ antiguedad ┆ … ┆ desague    ┆ vistas_lag ┆ nueva_cons ┆ aire_acond │\n",
              "│ ---  ┆ ---    ┆ les         ┆ ---        ┆   ┆ ---        ┆ o          ┆ truccion   ┆ icionado   │\n",
              "│ i64  ┆ i64    ┆ ---         ┆ i64        ┆   ┆ str        ┆ ---        ┆ ---        ┆ ---        │\n",
              "│      ┆        ┆ f64         ┆            ┆   ┆            ┆ str        ┆ str        ┆ str        │\n",
              "╞══════╪════════╪═════════════╪════════════╪═══╪════════════╪════════════╪════════════╪════════════╡\n",
              "│ 0    ┆ 132500 ┆ 0.09        ┆ 42         ┆ … ┆ septic     ┆ No         ┆ No         ┆ No         │\n",
              "│ 1    ┆ 181115 ┆ 0.92        ┆ 0          ┆ … ┆ septic     ┆ No         ┆ No         ┆ No         │\n",
              "│ 2    ┆ 109000 ┆ 0.19        ┆ 133        ┆ … ┆ public/com ┆ No         ┆ No         ┆ No         │\n",
              "│      ┆        ┆             ┆            ┆   ┆ mercial    ┆            ┆            ┆            │\n",
              "│ 3    ┆ 155000 ┆ 0.41        ┆ 13         ┆ … ┆ septic     ┆ No         ┆ No         ┆ No         │\n",
              "│ 4    ┆ 86060  ┆ 0.11        ┆ 0          ┆ … ┆ public/com ┆ No         ┆ Yes        ┆ Yes        │\n",
              "│      ┆        ┆             ┆            ┆   ┆ mercial    ┆            ┆            ┆            │\n",
              "│ …    ┆ …      ┆ …           ┆ …          ┆ … ┆ …          ┆ …          ┆ …          ┆ …          │\n",
              "│ 1723 ┆ 289000 ┆ 0.38        ┆ 32         ┆ … ┆ public/com ┆ No         ┆ No         ┆ No         │\n",
              "│      ┆        ┆             ┆            ┆   ┆ mercial    ┆            ┆            ┆            │\n",
              "│ 1724 ┆ 285000 ┆ 0.94        ┆ 37         ┆ … ┆ public/com ┆ No         ┆ No         ┆ No         │\n",
              "│      ┆        ┆             ┆            ┆   ┆ mercial    ┆            ┆            ┆            │\n",
              "│ 1725 ┆ 194900 ┆ 0.39        ┆ 9          ┆ … ┆ public/com ┆ No         ┆ No         ┆ No         │\n",
              "│      ┆        ┆             ┆            ┆   ┆ mercial    ┆            ┆            ┆            │\n",
              "│ 1726 ┆ 125000 ┆ 0.24        ┆ 48         ┆ … ┆ public/com ┆ No         ┆ No         ┆ No         │\n",
              "│      ┆        ┆             ┆            ┆   ┆ mercial    ┆            ┆            ┆            │\n",
              "│ 1727 ┆ 111300 ┆ 0.59        ┆ 86         ┆ … ┆ septic     ┆ No         ┆ No         ┆ No         │\n",
              "└──────┴────────┴─────────────┴────────────┴───┴────────────┴────────────┴────────────┴────────────┘"
            ],
            "text/html": [
              "<div><style>\n",
              ".dataframe > thead > tr,\n",
              ".dataframe > tbody > tr {\n",
              "  text-align: right;\n",
              "  white-space: pre-wrap;\n",
              "}\n",
              "</style>\n",
              "<small>shape: (1_728, 16)</small><table border=\"1\" class=\"dataframe\"><thead><tr><th></th><th>precio</th><th>metros_totales</th><th>antiguedad</th><th>precio_terreno</th><th>metros_habitables</th><th>universitarios</th><th>dormitorios</th><th>baños</th><th>habitaciones</th><th>calefaccion</th><th>consumo_calefacion</th><th>desague</th><th>vistas_lago</th><th>nueva_construccion</th><th>aire_acondicionado</th></tr><tr><td>i64</td><td>i64</td><td>f64</td><td>i64</td><td>i64</td><td>i64</td><td>i64</td><td>i64</td><td>f64</td><td>i64</td><td>str</td><td>str</td><td>str</td><td>str</td><td>str</td><td>str</td></tr></thead><tbody><tr><td>0</td><td>132500</td><td>0.09</td><td>42</td><td>50000</td><td>906</td><td>35</td><td>2</td><td>1.0</td><td>5</td><td>&quot;electric&quot;</td><td>&quot;electric&quot;</td><td>&quot;septic&quot;</td><td>&quot;No&quot;</td><td>&quot;No&quot;</td><td>&quot;No&quot;</td></tr><tr><td>1</td><td>181115</td><td>0.92</td><td>0</td><td>22300</td><td>1953</td><td>51</td><td>3</td><td>2.5</td><td>6</td><td>&quot;hot water/steam&quot;</td><td>&quot;gas&quot;</td><td>&quot;septic&quot;</td><td>&quot;No&quot;</td><td>&quot;No&quot;</td><td>&quot;No&quot;</td></tr><tr><td>2</td><td>109000</td><td>0.19</td><td>133</td><td>7300</td><td>1944</td><td>51</td><td>4</td><td>1.0</td><td>8</td><td>&quot;hot water/steam&quot;</td><td>&quot;gas&quot;</td><td>&quot;public/commercial&quot;</td><td>&quot;No&quot;</td><td>&quot;No&quot;</td><td>&quot;No&quot;</td></tr><tr><td>3</td><td>155000</td><td>0.41</td><td>13</td><td>18700</td><td>1944</td><td>51</td><td>3</td><td>1.5</td><td>5</td><td>&quot;hot air&quot;</td><td>&quot;gas&quot;</td><td>&quot;septic&quot;</td><td>&quot;No&quot;</td><td>&quot;No&quot;</td><td>&quot;No&quot;</td></tr><tr><td>4</td><td>86060</td><td>0.11</td><td>0</td><td>15000</td><td>840</td><td>51</td><td>2</td><td>1.0</td><td>3</td><td>&quot;hot air&quot;</td><td>&quot;gas&quot;</td><td>&quot;public/commercial&quot;</td><td>&quot;No&quot;</td><td>&quot;Yes&quot;</td><td>&quot;Yes&quot;</td></tr><tr><td>&hellip;</td><td>&hellip;</td><td>&hellip;</td><td>&hellip;</td><td>&hellip;</td><td>&hellip;</td><td>&hellip;</td><td>&hellip;</td><td>&hellip;</td><td>&hellip;</td><td>&hellip;</td><td>&hellip;</td><td>&hellip;</td><td>&hellip;</td><td>&hellip;</td><td>&hellip;</td></tr><tr><td>1723</td><td>289000</td><td>0.38</td><td>32</td><td>24200</td><td>2310</td><td>61</td><td>5</td><td>2.5</td><td>11</td><td>&quot;hot water/steam&quot;</td><td>&quot;gas&quot;</td><td>&quot;public/commercial&quot;</td><td>&quot;No&quot;</td><td>&quot;No&quot;</td><td>&quot;No&quot;</td></tr><tr><td>1724</td><td>285000</td><td>0.94</td><td>37</td><td>36200</td><td>2564</td><td>61</td><td>4</td><td>2.5</td><td>11</td><td>&quot;hot water/steam&quot;</td><td>&quot;gas&quot;</td><td>&quot;public/commercial&quot;</td><td>&quot;No&quot;</td><td>&quot;No&quot;</td><td>&quot;No&quot;</td></tr><tr><td>1725</td><td>194900</td><td>0.39</td><td>9</td><td>20400</td><td>1099</td><td>51</td><td>2</td><td>1.0</td><td>3</td><td>&quot;hot air&quot;</td><td>&quot;gas&quot;</td><td>&quot;public/commercial&quot;</td><td>&quot;No&quot;</td><td>&quot;No&quot;</td><td>&quot;No&quot;</td></tr><tr><td>1726</td><td>125000</td><td>0.24</td><td>48</td><td>16800</td><td>1225</td><td>51</td><td>3</td><td>1.0</td><td>7</td><td>&quot;hot air&quot;</td><td>&quot;gas&quot;</td><td>&quot;public/commercial&quot;</td><td>&quot;No&quot;</td><td>&quot;No&quot;</td><td>&quot;No&quot;</td></tr><tr><td>1727</td><td>111300</td><td>0.59</td><td>86</td><td>26000</td><td>1959</td><td>51</td><td>3</td><td>1.0</td><td>6</td><td>&quot;hot air&quot;</td><td>&quot;gas&quot;</td><td>&quot;septic&quot;</td><td>&quot;No&quot;</td><td>&quot;No&quot;</td><td>&quot;No&quot;</td></tr></tbody></table></div>"
            ]
          },
          "metadata": {},
          "execution_count": 5
        }
      ],
      "source": [
        "%%time\n",
        "casas = pl.read_csv(\"https://raw.githubusercontent.com/VINY2030/datasets/refs/heads/main/SaratogaHouses.csv\")\n",
        "casas   ### carga de dataset eager de polars"
      ]
    },
    {
      "cell_type": "code",
      "execution_count": 6,
      "metadata": {
        "colab": {
          "base_uri": "https://localhost:8080/"
        },
        "id": "zx3Ryl7aCfJ2",
        "outputId": "322d1bff-30bf-4db7-9686-bc099b500739"
      },
      "outputs": [
        {
          "output_type": "execute_result",
          "data": {
            "text/plain": [
              "['',\n",
              " 'precio',\n",
              " 'metros_totales',\n",
              " 'antiguedad',\n",
              " 'precio_terreno',\n",
              " 'metros_habitables',\n",
              " 'universitarios',\n",
              " 'dormitorios',\n",
              " 'baños',\n",
              " 'habitaciones',\n",
              " 'calefaccion',\n",
              " 'consumo_calefacion',\n",
              " 'desague',\n",
              " 'vistas_lago',\n",
              " 'nueva_construccion',\n",
              " 'aire_acondicionado']"
            ]
          },
          "metadata": {},
          "execution_count": 6
        }
      ],
      "source": [
        "casas.columns  ## descripcion de columnas del df casas"
      ]
    },
    {
      "cell_type": "code",
      "execution_count": 7,
      "metadata": {
        "colab": {
          "base_uri": "https://localhost:8080/",
          "height": 221
        },
        "id": "_9_oSrBUoA8O",
        "outputId": "735e4be8-6277-4abf-924a-0fbd40f107a1"
      },
      "outputs": [
        {
          "output_type": "execute_result",
          "data": {
            "text/plain": [
              "polars.dataframe.frame.DataFrame"
            ],
            "text/html": [
              "<div style=\"max-width:800px; border: 1px solid var(--colab-border-color);\"><style>\n",
              "      pre.function-repr-contents {\n",
              "        overflow-x: auto;\n",
              "        padding: 8px 12px;\n",
              "        max-height: 500px;\n",
              "      }\n",
              "\n",
              "      pre.function-repr-contents.function-repr-contents-collapsed {\n",
              "        cursor: pointer;\n",
              "        max-height: 100px;\n",
              "      }\n",
              "    </style>\n",
              "    <pre style=\"white-space: initial; background:\n",
              "         var(--colab-secondary-surface-color); padding: 8px 12px;\n",
              "         border-bottom: 1px solid var(--colab-border-color);\"><b>polars.dataframe.frame.DataFrame</b><br/>def __init__(data: FrameInitTypes | None=None, schema: SchemaDefinition | None=None, *, schema_overrides: SchemaDict | None=None, strict: bool=True, orient: Orientation | None=None, infer_schema_length: int | None=N_INFER_DEFAULT, nan_to_null: bool=False) -&gt; None</pre><pre class=\"function-repr-contents function-repr-contents-collapsed\" style=\"\"><a class=\"filepath\" style=\"display:none\" href=\"#\">/usr/local/lib/python3.10/dist-packages/polars/dataframe/frame.py</a>Two-dimensional data structure representing data as a table with rows and columns.\n",
              "\n",
              "Parameters\n",
              "----------\n",
              "data : dict, Sequence, ndarray, Series, or pandas.DataFrame\n",
              "    Two-dimensional data in various forms; dict input must contain Sequences,\n",
              "    Generators, or a `range`. Sequence may contain Series or other Sequences.\n",
              "schema : Sequence of str, (str,DataType) pairs, or a {str:DataType,} dict\n",
              "    The schema of the resulting DataFrame. The schema may be declared in several\n",
              "    ways:\n",
              "\n",
              "    * As a dict of {name:type} pairs; if type is None, it will be auto-inferred.\n",
              "    * As a list of column names; in this case types are automatically inferred.\n",
              "    * As a list of (name,type) pairs; this is equivalent to the dictionary form.\n",
              "\n",
              "    If you supply a list of column names that does not match the names in the\n",
              "    underlying data, the names given here will overwrite them. The number\n",
              "    of names given in the schema should match the underlying data dimensions.\n",
              "\n",
              "    If set to `None` (default), the schema is inferred from the data.\n",
              "schema_overrides : dict, default None\n",
              "    Support type specification or override of one or more columns; note that\n",
              "    any dtypes inferred from the schema param will be overridden.\n",
              "\n",
              "    The number of entries in the schema should match the underlying data\n",
              "    dimensions, unless a sequence of dictionaries is being passed, in which case\n",
              "    a *partial* schema can be declared to prevent specific fields from being loaded.\n",
              "strict : bool, default True\n",
              "    Throw an error if any `data` value does not exactly match the given or inferred\n",
              "    data type for that column. If set to `False`, values that do not match the data\n",
              "    type are cast to that data type or, if casting is not possible, set to null\n",
              "    instead.\n",
              "orient : {&#x27;col&#x27;, &#x27;row&#x27;}, default None\n",
              "    Whether to interpret two-dimensional data as columns or as rows. If None,\n",
              "    the orientation is inferred by matching the columns and data dimensions. If\n",
              "    this does not yield conclusive results, column orientation is used.\n",
              "infer_schema_length : int or None\n",
              "    The maximum number of rows to scan for schema inference. If set to `None`, the\n",
              "    full data may be scanned *(this can be slow)*. This parameter only applies if\n",
              "    the input data is a sequence or generator of rows; other input is read as-is.\n",
              "nan_to_null : bool, default False\n",
              "    If the data comes from one or more numpy arrays, can optionally convert input\n",
              "    data np.nan values to null instead. This is a no-op for all other input data.\n",
              "\n",
              "Notes\n",
              "-----\n",
              "Polars explicitly does not support subclassing of its core data types. See\n",
              "the following GitHub issue for possible workarounds:\n",
              "https://github.com/pola-rs/polars/issues/2846#issuecomment-1711799869\n",
              "\n",
              "Examples\n",
              "--------\n",
              "Constructing a DataFrame from a dictionary:\n",
              "\n",
              "&gt;&gt;&gt; data = {&quot;a&quot;: [1, 2], &quot;b&quot;: [3, 4]}\n",
              "&gt;&gt;&gt; df = pl.DataFrame(data)\n",
              "&gt;&gt;&gt; df\n",
              "shape: (2, 2)\n",
              "┌─────┬─────┐\n",
              "│ a   ┆ b   │\n",
              "│ --- ┆ --- │\n",
              "│ i64 ┆ i64 │\n",
              "╞═════╪═════╡\n",
              "│ 1   ┆ 3   │\n",
              "│ 2   ┆ 4   │\n",
              "└─────┴─────┘\n",
              "\n",
              "Notice that the dtypes are automatically inferred as polars Int64:\n",
              "\n",
              "&gt;&gt;&gt; df.dtypes\n",
              "[Int64, Int64]\n",
              "\n",
              "To specify a more detailed/specific frame schema you can supply the `schema`\n",
              "parameter with a dictionary of (name,dtype) pairs...\n",
              "\n",
              "&gt;&gt;&gt; data = {&quot;col1&quot;: [0, 2], &quot;col2&quot;: [3, 7]}\n",
              "&gt;&gt;&gt; df2 = pl.DataFrame(data, schema={&quot;col1&quot;: pl.Float32, &quot;col2&quot;: pl.Int64})\n",
              "&gt;&gt;&gt; df2\n",
              "shape: (2, 2)\n",
              "┌──────┬──────┐\n",
              "│ col1 ┆ col2 │\n",
              "│ ---  ┆ ---  │\n",
              "│ f32  ┆ i64  │\n",
              "╞══════╪══════╡\n",
              "│ 0.0  ┆ 3    │\n",
              "│ 2.0  ┆ 7    │\n",
              "└──────┴──────┘\n",
              "\n",
              "...a sequence of (name,dtype) pairs...\n",
              "\n",
              "&gt;&gt;&gt; data = {&quot;col1&quot;: [1, 2], &quot;col2&quot;: [3, 4]}\n",
              "&gt;&gt;&gt; df3 = pl.DataFrame(data, schema=[(&quot;col1&quot;, pl.Float32), (&quot;col2&quot;, pl.Int64)])\n",
              "&gt;&gt;&gt; df3\n",
              "shape: (2, 2)\n",
              "┌──────┬──────┐\n",
              "│ col1 ┆ col2 │\n",
              "│ ---  ┆ ---  │\n",
              "│ f32  ┆ i64  │\n",
              "╞══════╪══════╡\n",
              "│ 1.0  ┆ 3    │\n",
              "│ 2.0  ┆ 4    │\n",
              "└──────┴──────┘\n",
              "\n",
              "...or a list of typed Series.\n",
              "\n",
              "&gt;&gt;&gt; data = [\n",
              "...     pl.Series(&quot;col1&quot;, [1, 2], dtype=pl.Float32),\n",
              "...     pl.Series(&quot;col2&quot;, [3, 4], dtype=pl.Int64),\n",
              "... ]\n",
              "&gt;&gt;&gt; df4 = pl.DataFrame(data)\n",
              "&gt;&gt;&gt; df4\n",
              "shape: (2, 2)\n",
              "┌──────┬──────┐\n",
              "│ col1 ┆ col2 │\n",
              "│ ---  ┆ ---  │\n",
              "│ f32  ┆ i64  │\n",
              "╞══════╪══════╡\n",
              "│ 1.0  ┆ 3    │\n",
              "│ 2.0  ┆ 4    │\n",
              "└──────┴──────┘\n",
              "\n",
              "Constructing a DataFrame from a numpy ndarray, specifying column names:\n",
              "\n",
              "&gt;&gt;&gt; import numpy as np\n",
              "&gt;&gt;&gt; data = np.array([(1, 2), (3, 4)], dtype=np.int64)\n",
              "&gt;&gt;&gt; df5 = pl.DataFrame(data, schema=[&quot;a&quot;, &quot;b&quot;], orient=&quot;col&quot;)\n",
              "&gt;&gt;&gt; df5\n",
              "shape: (2, 2)\n",
              "┌─────┬─────┐\n",
              "│ a   ┆ b   │\n",
              "│ --- ┆ --- │\n",
              "│ i64 ┆ i64 │\n",
              "╞═════╪═════╡\n",
              "│ 1   ┆ 3   │\n",
              "│ 2   ┆ 4   │\n",
              "└─────┴─────┘\n",
              "\n",
              "Constructing a DataFrame from a list of lists, row orientation specified:\n",
              "\n",
              "&gt;&gt;&gt; data = [[1, 2, 3], [4, 5, 6]]\n",
              "&gt;&gt;&gt; df6 = pl.DataFrame(data, schema=[&quot;a&quot;, &quot;b&quot;, &quot;c&quot;], orient=&quot;row&quot;)\n",
              "&gt;&gt;&gt; df6\n",
              "shape: (2, 3)\n",
              "┌─────┬─────┬─────┐\n",
              "│ a   ┆ b   ┆ c   │\n",
              "│ --- ┆ --- ┆ --- │\n",
              "│ i64 ┆ i64 ┆ i64 │\n",
              "╞═════╪═════╪═════╡\n",
              "│ 1   ┆ 2   ┆ 3   │\n",
              "│ 4   ┆ 5   ┆ 6   │\n",
              "└─────┴─────┴─────┘</pre>\n",
              "      <script>\n",
              "      if (google.colab.kernel.accessAllowed && google.colab.files && google.colab.files.view) {\n",
              "        for (const element of document.querySelectorAll('.filepath')) {\n",
              "          element.style.display = 'block'\n",
              "          element.onclick = (event) => {\n",
              "            event.preventDefault();\n",
              "            event.stopPropagation();\n",
              "            google.colab.files.view(element.textContent, 186);\n",
              "          };\n",
              "        }\n",
              "      }\n",
              "      for (const element of document.querySelectorAll('.function-repr-contents')) {\n",
              "        element.onclick = (event) => {\n",
              "          event.preventDefault();\n",
              "          event.stopPropagation();\n",
              "          element.classList.toggle('function-repr-contents-collapsed');\n",
              "        };\n",
              "      }\n",
              "      </script>\n",
              "      </div>"
            ]
          },
          "metadata": {},
          "execution_count": 7
        }
      ],
      "source": [
        "type(casas)"
      ]
    },
    {
      "cell_type": "code",
      "execution_count": 8,
      "metadata": {
        "colab": {
          "base_uri": "https://localhost:8080/",
          "height": 549
        },
        "id": "8uJkTTpKCo65",
        "outputId": "087ae8ad-9112-4826-cc3b-6fb1e07df406"
      },
      "outputs": [
        {
          "output_type": "execute_result",
          "data": {
            "text/plain": [
              "shape: (1_365, 16)\n",
              "┌──────┬────────┬─────────────┬────────────┬───┬────────────┬────────────┬────────────┬────────────┐\n",
              "│      ┆ precio ┆ metros_tota ┆ antiguedad ┆ … ┆ desague    ┆ vistas_lag ┆ nueva_cons ┆ aire_acond │\n",
              "│ ---  ┆ ---    ┆ les         ┆ ---        ┆   ┆ ---        ┆ o          ┆ truccion   ┆ icionado   │\n",
              "│ i64  ┆ i64    ┆ ---         ┆ i64        ┆   ┆ str        ┆ ---        ┆ ---        ┆ ---        │\n",
              "│      ┆        ┆ f64         ┆            ┆   ┆            ┆ str        ┆ str        ┆ str        │\n",
              "╞══════╪════════╪═════════════╪════════════╪═══╪════════════╪════════════╪════════════╪════════════╡\n",
              "│ 0    ┆ 132500 ┆ 0.09        ┆ 42         ┆ … ┆ septic     ┆ No         ┆ No         ┆ No         │\n",
              "│ 2    ┆ 109000 ┆ 0.19        ┆ 133        ┆ … ┆ public/com ┆ No         ┆ No         ┆ No         │\n",
              "│      ┆        ┆             ┆            ┆   ┆ mercial    ┆            ┆            ┆            │\n",
              "│ 3    ┆ 155000 ┆ 0.41        ┆ 13         ┆ … ┆ septic     ┆ No         ┆ No         ┆ No         │\n",
              "│ 5    ┆ 120000 ┆ 0.68        ┆ 31         ┆ … ┆ septic     ┆ No         ┆ No         ┆ No         │\n",
              "│ 6    ┆ 153000 ┆ 0.4         ┆ 33         ┆ … ┆ septic     ┆ No         ┆ No         ┆ No         │\n",
              "│ …    ┆ …      ┆ …           ┆ …          ┆ … ┆ …          ┆ …          ┆ …          ┆ …          │\n",
              "│ 1722 ┆ 249000 ┆ 0.43        ┆ 41         ┆ … ┆ public/com ┆ No         ┆ No         ┆ No         │\n",
              "│      ┆        ┆             ┆            ┆   ┆ mercial    ┆            ┆            ┆            │\n",
              "│ 1723 ┆ 289000 ┆ 0.38        ┆ 32         ┆ … ┆ public/com ┆ No         ┆ No         ┆ No         │\n",
              "│      ┆        ┆             ┆            ┆   ┆ mercial    ┆            ┆            ┆            │\n",
              "│ 1724 ┆ 285000 ┆ 0.94        ┆ 37         ┆ … ┆ public/com ┆ No         ┆ No         ┆ No         │\n",
              "│      ┆        ┆             ┆            ┆   ┆ mercial    ┆            ┆            ┆            │\n",
              "│ 1726 ┆ 125000 ┆ 0.24        ┆ 48         ┆ … ┆ public/com ┆ No         ┆ No         ┆ No         │\n",
              "│      ┆        ┆             ┆            ┆   ┆ mercial    ┆            ┆            ┆            │\n",
              "│ 1727 ┆ 111300 ┆ 0.59        ┆ 86         ┆ … ┆ septic     ┆ No         ┆ No         ┆ No         │\n",
              "└──────┴────────┴─────────────┴────────────┴───┴────────────┴────────────┴────────────┴────────────┘"
            ],
            "text/html": [
              "<div><style>\n",
              ".dataframe > thead > tr,\n",
              ".dataframe > tbody > tr {\n",
              "  text-align: right;\n",
              "  white-space: pre-wrap;\n",
              "}\n",
              "</style>\n",
              "<small>shape: (1_365, 16)</small><table border=\"1\" class=\"dataframe\"><thead><tr><th></th><th>precio</th><th>metros_totales</th><th>antiguedad</th><th>precio_terreno</th><th>metros_habitables</th><th>universitarios</th><th>dormitorios</th><th>baños</th><th>habitaciones</th><th>calefaccion</th><th>consumo_calefacion</th><th>desague</th><th>vistas_lago</th><th>nueva_construccion</th><th>aire_acondicionado</th></tr><tr><td>i64</td><td>i64</td><td>f64</td><td>i64</td><td>i64</td><td>i64</td><td>i64</td><td>i64</td><td>f64</td><td>i64</td><td>str</td><td>str</td><td>str</td><td>str</td><td>str</td><td>str</td></tr></thead><tbody><tr><td>0</td><td>132500</td><td>0.09</td><td>42</td><td>50000</td><td>906</td><td>35</td><td>2</td><td>1.0</td><td>5</td><td>&quot;electric&quot;</td><td>&quot;electric&quot;</td><td>&quot;septic&quot;</td><td>&quot;No&quot;</td><td>&quot;No&quot;</td><td>&quot;No&quot;</td></tr><tr><td>2</td><td>109000</td><td>0.19</td><td>133</td><td>7300</td><td>1944</td><td>51</td><td>4</td><td>1.0</td><td>8</td><td>&quot;hot water/steam&quot;</td><td>&quot;gas&quot;</td><td>&quot;public/commercial&quot;</td><td>&quot;No&quot;</td><td>&quot;No&quot;</td><td>&quot;No&quot;</td></tr><tr><td>3</td><td>155000</td><td>0.41</td><td>13</td><td>18700</td><td>1944</td><td>51</td><td>3</td><td>1.5</td><td>5</td><td>&quot;hot air&quot;</td><td>&quot;gas&quot;</td><td>&quot;septic&quot;</td><td>&quot;No&quot;</td><td>&quot;No&quot;</td><td>&quot;No&quot;</td></tr><tr><td>5</td><td>120000</td><td>0.68</td><td>31</td><td>14000</td><td>1152</td><td>22</td><td>4</td><td>1.0</td><td>8</td><td>&quot;hot air&quot;</td><td>&quot;gas&quot;</td><td>&quot;septic&quot;</td><td>&quot;No&quot;</td><td>&quot;No&quot;</td><td>&quot;No&quot;</td></tr><tr><td>6</td><td>153000</td><td>0.4</td><td>33</td><td>23300</td><td>2752</td><td>51</td><td>4</td><td>1.5</td><td>8</td><td>&quot;hot water/steam&quot;</td><td>&quot;oil&quot;</td><td>&quot;septic&quot;</td><td>&quot;No&quot;</td><td>&quot;No&quot;</td><td>&quot;No&quot;</td></tr><tr><td>&hellip;</td><td>&hellip;</td><td>&hellip;</td><td>&hellip;</td><td>&hellip;</td><td>&hellip;</td><td>&hellip;</td><td>&hellip;</td><td>&hellip;</td><td>&hellip;</td><td>&hellip;</td><td>&hellip;</td><td>&hellip;</td><td>&hellip;</td><td>&hellip;</td><td>&hellip;</td></tr><tr><td>1722</td><td>249000</td><td>0.43</td><td>41</td><td>45800</td><td>2426</td><td>61</td><td>4</td><td>2.0</td><td>7</td><td>&quot;hot water/steam&quot;</td><td>&quot;gas&quot;</td><td>&quot;public/commercial&quot;</td><td>&quot;No&quot;</td><td>&quot;No&quot;</td><td>&quot;No&quot;</td></tr><tr><td>1723</td><td>289000</td><td>0.38</td><td>32</td><td>24200</td><td>2310</td><td>61</td><td>5</td><td>2.5</td><td>11</td><td>&quot;hot water/steam&quot;</td><td>&quot;gas&quot;</td><td>&quot;public/commercial&quot;</td><td>&quot;No&quot;</td><td>&quot;No&quot;</td><td>&quot;No&quot;</td></tr><tr><td>1724</td><td>285000</td><td>0.94</td><td>37</td><td>36200</td><td>2564</td><td>61</td><td>4</td><td>2.5</td><td>11</td><td>&quot;hot water/steam&quot;</td><td>&quot;gas&quot;</td><td>&quot;public/commercial&quot;</td><td>&quot;No&quot;</td><td>&quot;No&quot;</td><td>&quot;No&quot;</td></tr><tr><td>1726</td><td>125000</td><td>0.24</td><td>48</td><td>16800</td><td>1225</td><td>51</td><td>3</td><td>1.0</td><td>7</td><td>&quot;hot air&quot;</td><td>&quot;gas&quot;</td><td>&quot;public/commercial&quot;</td><td>&quot;No&quot;</td><td>&quot;No&quot;</td><td>&quot;No&quot;</td></tr><tr><td>1727</td><td>111300</td><td>0.59</td><td>86</td><td>26000</td><td>1959</td><td>51</td><td>3</td><td>1.0</td><td>6</td><td>&quot;hot air&quot;</td><td>&quot;gas&quot;</td><td>&quot;septic&quot;</td><td>&quot;No&quot;</td><td>&quot;No&quot;</td><td>&quot;No&quot;</td></tr></tbody></table></div>"
            ]
          },
          "metadata": {},
          "execution_count": 8
        }
      ],
      "source": [
        "casas_filtrado = casas.filter(pl.col('antiguedad')>10)  ## filtrado de casas por antiguedad mayor a 10 años\n",
        "casas_filtrado"
      ]
    },
    {
      "cell_type": "code",
      "execution_count": 9,
      "metadata": {
        "colab": {
          "base_uri": "https://localhost:8080/",
          "height": 443
        },
        "id": "rSHPVu_oC86q",
        "outputId": "3e7b7e54-be60-492d-adfc-53d2adaa4e74"
      },
      "outputs": [
        {
          "output_type": "execute_result",
          "data": {
            "text/plain": [
              "shape: (551, 2)\n",
              "┌────────┬───────────────┐\n",
              "│ precio ┆ media_precios │\n",
              "│ ---    ┆ ---           │\n",
              "│ i64    ┆ f64           │\n",
              "╞════════╪═══════════════╡\n",
              "│ 315000 ┆ 315000.0      │\n",
              "│ 295600 ┆ 295600.0      │\n",
              "│ 186030 ┆ 186030.0      │\n",
              "│ 169000 ┆ 169000.0      │\n",
              "│ 112500 ┆ 112500.0      │\n",
              "│ …      ┆ …             │\n",
              "│ 106000 ┆ 106000.0      │\n",
              "│ 148900 ┆ 148900.0      │\n",
              "│ 178500 ┆ 178500.0      │\n",
              "│ 162000 ┆ 162000.0      │\n",
              "│ 647000 ┆ 647000.0      │\n",
              "└────────┴───────────────┘"
            ],
            "text/html": [
              "<div><style>\n",
              ".dataframe > thead > tr,\n",
              ".dataframe > tbody > tr {\n",
              "  text-align: right;\n",
              "  white-space: pre-wrap;\n",
              "}\n",
              "</style>\n",
              "<small>shape: (551, 2)</small><table border=\"1\" class=\"dataframe\"><thead><tr><th>precio</th><th>media_precios</th></tr><tr><td>i64</td><td>f64</td></tr></thead><tbody><tr><td>315000</td><td>315000.0</td></tr><tr><td>295600</td><td>295600.0</td></tr><tr><td>186030</td><td>186030.0</td></tr><tr><td>169000</td><td>169000.0</td></tr><tr><td>112500</td><td>112500.0</td></tr><tr><td>&hellip;</td><td>&hellip;</td></tr><tr><td>106000</td><td>106000.0</td></tr><tr><td>148900</td><td>148900.0</td></tr><tr><td>178500</td><td>178500.0</td></tr><tr><td>162000</td><td>162000.0</td></tr><tr><td>647000</td><td>647000.0</td></tr></tbody></table></div>"
            ]
          },
          "metadata": {},
          "execution_count": 9
        }
      ],
      "source": [
        "casas_agregado = casas_filtrado.group_by('precio').agg(media_precios=pl.col('precio').mean()\n",
        ")\n",
        "casas_agregado  ### agrupo por precios y creo columna media precios en el group_by"
      ]
    },
    {
      "cell_type": "code",
      "execution_count": 10,
      "metadata": {
        "colab": {
          "base_uri": "https://localhost:8080/",
          "height": 221
        },
        "id": "WuyvvvjcoF6N",
        "outputId": "c9cdd35f-5c17-4152-89d5-a6e342b4d462"
      },
      "outputs": [
        {
          "output_type": "execute_result",
          "data": {
            "text/plain": [
              "polars.dataframe.frame.DataFrame"
            ],
            "text/html": [
              "<div style=\"max-width:800px; border: 1px solid var(--colab-border-color);\"><style>\n",
              "      pre.function-repr-contents {\n",
              "        overflow-x: auto;\n",
              "        padding: 8px 12px;\n",
              "        max-height: 500px;\n",
              "      }\n",
              "\n",
              "      pre.function-repr-contents.function-repr-contents-collapsed {\n",
              "        cursor: pointer;\n",
              "        max-height: 100px;\n",
              "      }\n",
              "    </style>\n",
              "    <pre style=\"white-space: initial; background:\n",
              "         var(--colab-secondary-surface-color); padding: 8px 12px;\n",
              "         border-bottom: 1px solid var(--colab-border-color);\"><b>polars.dataframe.frame.DataFrame</b><br/>def __init__(data: FrameInitTypes | None=None, schema: SchemaDefinition | None=None, *, schema_overrides: SchemaDict | None=None, strict: bool=True, orient: Orientation | None=None, infer_schema_length: int | None=N_INFER_DEFAULT, nan_to_null: bool=False) -&gt; None</pre><pre class=\"function-repr-contents function-repr-contents-collapsed\" style=\"\"><a class=\"filepath\" style=\"display:none\" href=\"#\">/usr/local/lib/python3.10/dist-packages/polars/dataframe/frame.py</a>Two-dimensional data structure representing data as a table with rows and columns.\n",
              "\n",
              "Parameters\n",
              "----------\n",
              "data : dict, Sequence, ndarray, Series, or pandas.DataFrame\n",
              "    Two-dimensional data in various forms; dict input must contain Sequences,\n",
              "    Generators, or a `range`. Sequence may contain Series or other Sequences.\n",
              "schema : Sequence of str, (str,DataType) pairs, or a {str:DataType,} dict\n",
              "    The schema of the resulting DataFrame. The schema may be declared in several\n",
              "    ways:\n",
              "\n",
              "    * As a dict of {name:type} pairs; if type is None, it will be auto-inferred.\n",
              "    * As a list of column names; in this case types are automatically inferred.\n",
              "    * As a list of (name,type) pairs; this is equivalent to the dictionary form.\n",
              "\n",
              "    If you supply a list of column names that does not match the names in the\n",
              "    underlying data, the names given here will overwrite them. The number\n",
              "    of names given in the schema should match the underlying data dimensions.\n",
              "\n",
              "    If set to `None` (default), the schema is inferred from the data.\n",
              "schema_overrides : dict, default None\n",
              "    Support type specification or override of one or more columns; note that\n",
              "    any dtypes inferred from the schema param will be overridden.\n",
              "\n",
              "    The number of entries in the schema should match the underlying data\n",
              "    dimensions, unless a sequence of dictionaries is being passed, in which case\n",
              "    a *partial* schema can be declared to prevent specific fields from being loaded.\n",
              "strict : bool, default True\n",
              "    Throw an error if any `data` value does not exactly match the given or inferred\n",
              "    data type for that column. If set to `False`, values that do not match the data\n",
              "    type are cast to that data type or, if casting is not possible, set to null\n",
              "    instead.\n",
              "orient : {&#x27;col&#x27;, &#x27;row&#x27;}, default None\n",
              "    Whether to interpret two-dimensional data as columns or as rows. If None,\n",
              "    the orientation is inferred by matching the columns and data dimensions. If\n",
              "    this does not yield conclusive results, column orientation is used.\n",
              "infer_schema_length : int or None\n",
              "    The maximum number of rows to scan for schema inference. If set to `None`, the\n",
              "    full data may be scanned *(this can be slow)*. This parameter only applies if\n",
              "    the input data is a sequence or generator of rows; other input is read as-is.\n",
              "nan_to_null : bool, default False\n",
              "    If the data comes from one or more numpy arrays, can optionally convert input\n",
              "    data np.nan values to null instead. This is a no-op for all other input data.\n",
              "\n",
              "Notes\n",
              "-----\n",
              "Polars explicitly does not support subclassing of its core data types. See\n",
              "the following GitHub issue for possible workarounds:\n",
              "https://github.com/pola-rs/polars/issues/2846#issuecomment-1711799869\n",
              "\n",
              "Examples\n",
              "--------\n",
              "Constructing a DataFrame from a dictionary:\n",
              "\n",
              "&gt;&gt;&gt; data = {&quot;a&quot;: [1, 2], &quot;b&quot;: [3, 4]}\n",
              "&gt;&gt;&gt; df = pl.DataFrame(data)\n",
              "&gt;&gt;&gt; df\n",
              "shape: (2, 2)\n",
              "┌─────┬─────┐\n",
              "│ a   ┆ b   │\n",
              "│ --- ┆ --- │\n",
              "│ i64 ┆ i64 │\n",
              "╞═════╪═════╡\n",
              "│ 1   ┆ 3   │\n",
              "│ 2   ┆ 4   │\n",
              "└─────┴─────┘\n",
              "\n",
              "Notice that the dtypes are automatically inferred as polars Int64:\n",
              "\n",
              "&gt;&gt;&gt; df.dtypes\n",
              "[Int64, Int64]\n",
              "\n",
              "To specify a more detailed/specific frame schema you can supply the `schema`\n",
              "parameter with a dictionary of (name,dtype) pairs...\n",
              "\n",
              "&gt;&gt;&gt; data = {&quot;col1&quot;: [0, 2], &quot;col2&quot;: [3, 7]}\n",
              "&gt;&gt;&gt; df2 = pl.DataFrame(data, schema={&quot;col1&quot;: pl.Float32, &quot;col2&quot;: pl.Int64})\n",
              "&gt;&gt;&gt; df2\n",
              "shape: (2, 2)\n",
              "┌──────┬──────┐\n",
              "│ col1 ┆ col2 │\n",
              "│ ---  ┆ ---  │\n",
              "│ f32  ┆ i64  │\n",
              "╞══════╪══════╡\n",
              "│ 0.0  ┆ 3    │\n",
              "│ 2.0  ┆ 7    │\n",
              "└──────┴──────┘\n",
              "\n",
              "...a sequence of (name,dtype) pairs...\n",
              "\n",
              "&gt;&gt;&gt; data = {&quot;col1&quot;: [1, 2], &quot;col2&quot;: [3, 4]}\n",
              "&gt;&gt;&gt; df3 = pl.DataFrame(data, schema=[(&quot;col1&quot;, pl.Float32), (&quot;col2&quot;, pl.Int64)])\n",
              "&gt;&gt;&gt; df3\n",
              "shape: (2, 2)\n",
              "┌──────┬──────┐\n",
              "│ col1 ┆ col2 │\n",
              "│ ---  ┆ ---  │\n",
              "│ f32  ┆ i64  │\n",
              "╞══════╪══════╡\n",
              "│ 1.0  ┆ 3    │\n",
              "│ 2.0  ┆ 4    │\n",
              "└──────┴──────┘\n",
              "\n",
              "...or a list of typed Series.\n",
              "\n",
              "&gt;&gt;&gt; data = [\n",
              "...     pl.Series(&quot;col1&quot;, [1, 2], dtype=pl.Float32),\n",
              "...     pl.Series(&quot;col2&quot;, [3, 4], dtype=pl.Int64),\n",
              "... ]\n",
              "&gt;&gt;&gt; df4 = pl.DataFrame(data)\n",
              "&gt;&gt;&gt; df4\n",
              "shape: (2, 2)\n",
              "┌──────┬──────┐\n",
              "│ col1 ┆ col2 │\n",
              "│ ---  ┆ ---  │\n",
              "│ f32  ┆ i64  │\n",
              "╞══════╪══════╡\n",
              "│ 1.0  ┆ 3    │\n",
              "│ 2.0  ┆ 4    │\n",
              "└──────┴──────┘\n",
              "\n",
              "Constructing a DataFrame from a numpy ndarray, specifying column names:\n",
              "\n",
              "&gt;&gt;&gt; import numpy as np\n",
              "&gt;&gt;&gt; data = np.array([(1, 2), (3, 4)], dtype=np.int64)\n",
              "&gt;&gt;&gt; df5 = pl.DataFrame(data, schema=[&quot;a&quot;, &quot;b&quot;], orient=&quot;col&quot;)\n",
              "&gt;&gt;&gt; df5\n",
              "shape: (2, 2)\n",
              "┌─────┬─────┐\n",
              "│ a   ┆ b   │\n",
              "│ --- ┆ --- │\n",
              "│ i64 ┆ i64 │\n",
              "╞═════╪═════╡\n",
              "│ 1   ┆ 3   │\n",
              "│ 2   ┆ 4   │\n",
              "└─────┴─────┘\n",
              "\n",
              "Constructing a DataFrame from a list of lists, row orientation specified:\n",
              "\n",
              "&gt;&gt;&gt; data = [[1, 2, 3], [4, 5, 6]]\n",
              "&gt;&gt;&gt; df6 = pl.DataFrame(data, schema=[&quot;a&quot;, &quot;b&quot;, &quot;c&quot;], orient=&quot;row&quot;)\n",
              "&gt;&gt;&gt; df6\n",
              "shape: (2, 3)\n",
              "┌─────┬─────┬─────┐\n",
              "│ a   ┆ b   ┆ c   │\n",
              "│ --- ┆ --- ┆ --- │\n",
              "│ i64 ┆ i64 ┆ i64 │\n",
              "╞═════╪═════╪═════╡\n",
              "│ 1   ┆ 2   ┆ 3   │\n",
              "│ 4   ┆ 5   ┆ 6   │\n",
              "└─────┴─────┴─────┘</pre>\n",
              "      <script>\n",
              "      if (google.colab.kernel.accessAllowed && google.colab.files && google.colab.files.view) {\n",
              "        for (const element of document.querySelectorAll('.filepath')) {\n",
              "          element.style.display = 'block'\n",
              "          element.onclick = (event) => {\n",
              "            event.preventDefault();\n",
              "            event.stopPropagation();\n",
              "            google.colab.files.view(element.textContent, 186);\n",
              "          };\n",
              "        }\n",
              "      }\n",
              "      for (const element of document.querySelectorAll('.function-repr-contents')) {\n",
              "        element.onclick = (event) => {\n",
              "          event.preventDefault();\n",
              "          event.stopPropagation();\n",
              "          element.classList.toggle('function-repr-contents-collapsed');\n",
              "        };\n",
              "      }\n",
              "      </script>\n",
              "      </div>"
            ]
          },
          "metadata": {},
          "execution_count": 10
        }
      ],
      "source": [
        "type(casas_agregado)"
      ]
    },
    {
      "cell_type": "markdown",
      "metadata": {
        "id": "sAaU_uv8DsCw"
      },
      "source": [
        "\n",
        "# **<font color=\"#07a8ed\">Optimizaciones realizadas con el API Lazy**\n",
        "\n",
        "`= en Pandas la funcion  filter es similar.`\n",
        "\n"
      ]
    },
    {
      "cell_type": "markdown",
      "metadata": {
        "id": "Uz7UQe0F4pna"
      },
      "source": [
        "### **Operaciones \"Lazy\" y \"Eager\"**\n",
        "\n",
        "`Una característica única de Polars es su enfoque en las operaciones \"Lazy\" y \"Eager\". Las operaciones \"Lazy\" permiten construir una secuencia de operaciones en un DataFrame sin ejecutarlas de inmediato. Esto puede ser útil para optimizar el rendimiento y evitar cálculos innecesarios. Por otro lado, las operaciones \"Eager\" ejecutan inmediatamente las operaciones en el DataFrame y devuelven los resultados.`\n"
      ]
    },
    {
      "cell_type": "code",
      "execution_count": 11,
      "metadata": {
        "colab": {
          "base_uri": "https://localhost:8080/",
          "height": 398
        },
        "id": "7am5DgxJEhrg",
        "outputId": "0ed7db07-6f36-4a9c-abd9-cd12605b0f97"
      },
      "outputs": [
        {
          "output_type": "stream",
          "name": "stdout",
          "text": [
            "CPU times: user 188 µs, sys: 41 µs, total: 229 µs\n",
            "Wall time: 231 µs\n"
          ]
        },
        {
          "output_type": "execute_result",
          "data": {
            "text/plain": [
              "<LazyFrame at 0x7C70140B7370>"
            ],
            "text/html": [
              "<h4>NAIVE QUERY PLAN</h4><p>run <b>LazyFrame.show_graph()</b> to see the optimized version</p><?xml version=\"1.0\" encoding=\"UTF-8\" standalone=\"no\"?>\n",
              "<!DOCTYPE svg PUBLIC \"-//W3C//DTD SVG 1.1//EN\"\n",
              " \"http://www.w3.org/Graphics/SVG/1.1/DTD/svg11.dtd\">\n",
              "<!-- Generated by graphviz version 2.43.0 (0)\n",
              " -->\n",
              "<!-- Title: polars_query Pages: 1 -->\n",
              "<svg width=\"597pt\" height=\"207pt\"\n",
              " viewBox=\"0.00 0.00 597.00 207.00\" xmlns=\"http://www.w3.org/2000/svg\" xmlns:xlink=\"http://www.w3.org/1999/xlink\">\n",
              "<g id=\"graph0\" class=\"graph\" transform=\"scale(1 1) rotate(0) translate(4 203)\">\n",
              "<title>polars_query</title>\n",
              "<polygon fill=\"white\" stroke=\"transparent\" points=\"-4,4 -4,-203 593,-203 593,4 -4,4\"/>\n",
              "<!-- p1 -->\n",
              "<g id=\"node1\" class=\"node\">\n",
              "<title>p1</title>\n",
              "<polygon fill=\"none\" stroke=\"black\" points=\"442.5,-199 146.5,-199 146.5,-146 442.5,-146 442.5,-199\"/>\n",
              "<text text-anchor=\"middle\" x=\"294.5\" y=\"-183.8\" font-family=\"Times,serif\" font-size=\"14.00\">AGG [col(&quot;precio&quot;).mean().alias(&quot;media_precio&quot;)]</text>\n",
              "<text text-anchor=\"middle\" x=\"294.5\" y=\"-168.8\" font-family=\"Times,serif\" font-size=\"14.00\">BY</text>\n",
              "<text text-anchor=\"middle\" x=\"294.5\" y=\"-153.8\" font-family=\"Times,serif\" font-size=\"14.00\">[col(&quot;precio&quot;)]</text>\n",
              "</g>\n",
              "<!-- p2 -->\n",
              "<g id=\"node2\" class=\"node\">\n",
              "<title>p2</title>\n",
              "<polygon fill=\"none\" stroke=\"black\" points=\"415,-110 174,-110 174,-74 415,-74 415,-110\"/>\n",
              "<text text-anchor=\"middle\" x=\"294.5\" y=\"-88.3\" font-family=\"Times,serif\" font-size=\"14.00\">FILTER BY [(col(&quot;antiguedad&quot;)) &gt; (10)]</text>\n",
              "</g>\n",
              "<!-- p1&#45;&#45;p2 -->\n",
              "<g id=\"edge1\" class=\"edge\">\n",
              "<title>p1&#45;&#45;p2</title>\n",
              "<path fill=\"none\" stroke=\"black\" d=\"M294.5,-145.8C294.5,-134.17 294.5,-120.74 294.5,-110.33\"/>\n",
              "</g>\n",
              "<!-- p3 -->\n",
              "<g id=\"node3\" class=\"node\">\n",
              "<title>p3</title>\n",
              "<polygon fill=\"none\" stroke=\"black\" points=\"589,-38 0,-38 0,0 589,0 589,-38\"/>\n",
              "<text text-anchor=\"middle\" x=\"294.5\" y=\"-22.8\" font-family=\"Times,serif\" font-size=\"14.00\">Csv SCAN [https://raw.githubusercontent.com/VINY2030/datasets/refs/heads/main/SaratogaHouses.csv]</text>\n",
              "<text text-anchor=\"middle\" x=\"294.5\" y=\"-7.8\" font-family=\"Times,serif\" font-size=\"14.00\">π */16;</text>\n",
              "</g>\n",
              "<!-- p2&#45;&#45;p3 -->\n",
              "<g id=\"edge2\" class=\"edge\">\n",
              "<title>p2&#45;&#45;p3</title>\n",
              "<path fill=\"none\" stroke=\"black\" d=\"M294.5,-73.81C294.5,-62.98 294.5,-49.01 294.5,-38.02\"/>\n",
              "</g>\n",
              "</g>\n",
              "</svg>\n"
            ]
          },
          "metadata": {},
          "execution_count": 11
        }
      ],
      "source": [
        "%%time\n",
        "query = (\n",
        "    pl.scan_csv('https://raw.githubusercontent.com/VINY2030/datasets/refs/heads/main/SaratogaHouses.csv')\n",
        "    .filter(pl.col('antiguedad')>10)\n",
        "    .group_by('precio').agg(media_precio=pl.col('precio').mean()\n",
        "    )\n",
        ")\n",
        "query"
      ]
    },
    {
      "cell_type": "markdown",
      "metadata": {
        "id": "msznAy1KcUlZ"
      },
      "source": [
        "`Nuestra función se ha ejecutado sin problemas y nos ha devuelto un otro objeto LazyFrame. `\n",
        "`Al intentar visualizar este objeto, cómo ya sabemos, nos salta su plan de ejecución no optimizado (NAIVE QUERY PLAN). Podemos visualizar los planes de ejecución (NAIVE QUERY PLAN/OPTIMIZED QUERY PLAN) de nuestro DataFrame a través del método: lazy_nhs_processed_df.show_graph(optimized_graph:bool)`\n",
        "\n",
        "`Si comparamos el plan optimizado con el naive podemos notar que la optimizador de queries de Polars ha sido capaz de cambiar el orden de las transformaciones, poniendo la operación de filtrado de la columna \"region_name\" (FILTER BY) antes de la creación de las nuevas columnas (WITH COLUMNS).`\n",
        "\n",
        "`Nota: Para poder visualizar los planos de ejecución puede ser necesario tener instalado graphviz en el sistema`\n",
        "\n",
        "."
      ]
    },
    {
      "cell_type": "code",
      "execution_count": 12,
      "metadata": {
        "colab": {
          "base_uri": "https://localhost:8080/",
          "height": 443
        },
        "id": "w_V6axlmkIaM",
        "outputId": "73cafbd0-d623-44c5-fcf7-18d4f807e10c"
      },
      "outputs": [
        {
          "output_type": "execute_result",
          "data": {
            "text/plain": [
              "shape: (551, 2)\n",
              "┌────────┬──────────────┐\n",
              "│ precio ┆ media_precio │\n",
              "│ ---    ┆ ---          │\n",
              "│ i64    ┆ f64          │\n",
              "╞════════╪══════════════╡\n",
              "│ 193777 ┆ 193777.0     │\n",
              "│ 392499 ┆ 392499.0     │\n",
              "│ 72000  ┆ 72000.0      │\n",
              "│ 282000 ┆ 282000.0     │\n",
              "│ 244900 ┆ 244900.0     │\n",
              "│ …      ┆ …            │\n",
              "│ 267000 ┆ 267000.0     │\n",
              "│ 132870 ┆ 132870.0     │\n",
              "│ 154500 ┆ 154500.0     │\n",
              "│ 259000 ┆ 259000.0     │\n",
              "│ 219000 ┆ 219000.0     │\n",
              "└────────┴──────────────┘"
            ],
            "text/html": [
              "<div><style>\n",
              ".dataframe > thead > tr,\n",
              ".dataframe > tbody > tr {\n",
              "  text-align: right;\n",
              "  white-space: pre-wrap;\n",
              "}\n",
              "</style>\n",
              "<small>shape: (551, 2)</small><table border=\"1\" class=\"dataframe\"><thead><tr><th>precio</th><th>media_precio</th></tr><tr><td>i64</td><td>f64</td></tr></thead><tbody><tr><td>193777</td><td>193777.0</td></tr><tr><td>392499</td><td>392499.0</td></tr><tr><td>72000</td><td>72000.0</td></tr><tr><td>282000</td><td>282000.0</td></tr><tr><td>244900</td><td>244900.0</td></tr><tr><td>&hellip;</td><td>&hellip;</td></tr><tr><td>267000</td><td>267000.0</td></tr><tr><td>132870</td><td>132870.0</td></tr><tr><td>154500</td><td>154500.0</td></tr><tr><td>259000</td><td>259000.0</td></tr><tr><td>219000</td><td>219000.0</td></tr></tbody></table></div>"
            ]
          },
          "metadata": {},
          "execution_count": 12
        }
      ],
      "source": [
        "casas_agregado = query.collect()\n",
        "casas_agregado"
      ]
    },
    {
      "cell_type": "markdown",
      "metadata": {
        "id": "7Q_IUQ5rPuXi"
      },
      "source": [
        "`Polars utiliza un enfoque de lazy execution, lo que significa que las operaciones no se ejecutan de inmediato. En su lugar, se registran como un plan de consulta, optimizando la secuencia de ejecución para obtener el resultado más eficiente. Este enfoque puede llevar a ganancias significativas en rendimiento.`"
      ]
    },
    {
      "cell_type": "markdown",
      "metadata": {
        "id": "f-ZQUReOP8IQ"
      },
      "source": [
        "`Polars proporciona una interfaz de consulta similar a SQL, lo que te permite expresar manipulaciones de datos complejas de una manera más intuitiva y legible.`"
      ]
    },
    {
      "cell_type": "markdown",
      "metadata": {
        "id": "vHTXFMGIQAey"
      },
      "source": [
        "`Polars se integra sin problemas con otras bibliotecas de Python como NumPy y Arrow, facilitando el trabajo con datos en diferentes formatos.`"
      ]
    },
    {
      "cell_type": "code",
      "execution_count": 13,
      "metadata": {
        "colab": {
          "base_uri": "https://localhost:8080/",
          "height": 363
        },
        "id": "BSm5STAcoPbW",
        "outputId": "b005acf4-96cc-45fe-92d0-173a1c48f0d2"
      },
      "outputs": [
        {
          "output_type": "execute_result",
          "data": {
            "text/plain": [
              "<LazyFrame at 0x7C70140B7370>"
            ],
            "text/html": [
              "<h4>NAIVE QUERY PLAN</h4><p>run <b>LazyFrame.show_graph()</b> to see the optimized version</p><?xml version=\"1.0\" encoding=\"UTF-8\" standalone=\"no\"?>\n",
              "<!DOCTYPE svg PUBLIC \"-//W3C//DTD SVG 1.1//EN\"\n",
              " \"http://www.w3.org/Graphics/SVG/1.1/DTD/svg11.dtd\">\n",
              "<!-- Generated by graphviz version 2.43.0 (0)\n",
              " -->\n",
              "<!-- Title: polars_query Pages: 1 -->\n",
              "<svg width=\"597pt\" height=\"207pt\"\n",
              " viewBox=\"0.00 0.00 597.00 207.00\" xmlns=\"http://www.w3.org/2000/svg\" xmlns:xlink=\"http://www.w3.org/1999/xlink\">\n",
              "<g id=\"graph0\" class=\"graph\" transform=\"scale(1 1) rotate(0) translate(4 203)\">\n",
              "<title>polars_query</title>\n",
              "<polygon fill=\"white\" stroke=\"transparent\" points=\"-4,4 -4,-203 593,-203 593,4 -4,4\"/>\n",
              "<!-- p1 -->\n",
              "<g id=\"node1\" class=\"node\">\n",
              "<title>p1</title>\n",
              "<polygon fill=\"none\" stroke=\"black\" points=\"442.5,-199 146.5,-199 146.5,-146 442.5,-146 442.5,-199\"/>\n",
              "<text text-anchor=\"middle\" x=\"294.5\" y=\"-183.8\" font-family=\"Times,serif\" font-size=\"14.00\">AGG [col(&quot;precio&quot;).mean().alias(&quot;media_precio&quot;)]</text>\n",
              "<text text-anchor=\"middle\" x=\"294.5\" y=\"-168.8\" font-family=\"Times,serif\" font-size=\"14.00\">BY</text>\n",
              "<text text-anchor=\"middle\" x=\"294.5\" y=\"-153.8\" font-family=\"Times,serif\" font-size=\"14.00\">[col(&quot;precio&quot;)]</text>\n",
              "</g>\n",
              "<!-- p2 -->\n",
              "<g id=\"node2\" class=\"node\">\n",
              "<title>p2</title>\n",
              "<polygon fill=\"none\" stroke=\"black\" points=\"415,-110 174,-110 174,-74 415,-74 415,-110\"/>\n",
              "<text text-anchor=\"middle\" x=\"294.5\" y=\"-88.3\" font-family=\"Times,serif\" font-size=\"14.00\">FILTER BY [(col(&quot;antiguedad&quot;)) &gt; (10)]</text>\n",
              "</g>\n",
              "<!-- p1&#45;&#45;p2 -->\n",
              "<g id=\"edge1\" class=\"edge\">\n",
              "<title>p1&#45;&#45;p2</title>\n",
              "<path fill=\"none\" stroke=\"black\" d=\"M294.5,-145.8C294.5,-134.17 294.5,-120.74 294.5,-110.33\"/>\n",
              "</g>\n",
              "<!-- p3 -->\n",
              "<g id=\"node3\" class=\"node\">\n",
              "<title>p3</title>\n",
              "<polygon fill=\"none\" stroke=\"black\" points=\"589,-38 0,-38 0,0 589,0 589,-38\"/>\n",
              "<text text-anchor=\"middle\" x=\"294.5\" y=\"-22.8\" font-family=\"Times,serif\" font-size=\"14.00\">Csv SCAN [https://raw.githubusercontent.com/VINY2030/datasets/refs/heads/main/SaratogaHouses.csv]</text>\n",
              "<text text-anchor=\"middle\" x=\"294.5\" y=\"-7.8\" font-family=\"Times,serif\" font-size=\"14.00\">π */16;</text>\n",
              "</g>\n",
              "<!-- p2&#45;&#45;p3 -->\n",
              "<g id=\"edge2\" class=\"edge\">\n",
              "<title>p2&#45;&#45;p3</title>\n",
              "<path fill=\"none\" stroke=\"black\" d=\"M294.5,-73.81C294.5,-62.98 294.5,-49.01 294.5,-38.02\"/>\n",
              "</g>\n",
              "</g>\n",
              "</svg>\n"
            ]
          },
          "metadata": {},
          "execution_count": 13
        }
      ],
      "source": [
        "query  ### metodo scan_csv genera un lazy frame no read_csv genera dataframe eager de polars"
      ]
    },
    {
      "cell_type": "code",
      "execution_count": 14,
      "metadata": {
        "colab": {
          "base_uri": "https://localhost:8080/",
          "height": 443
        },
        "id": "Mm-niIjnoc1I",
        "outputId": "1f18362b-55f7-4c31-a92a-a6351be62f2f"
      },
      "outputs": [
        {
          "output_type": "execute_result",
          "data": {
            "text/plain": [
              "shape: (551, 2)\n",
              "┌────────┬──────────────┐\n",
              "│ precio ┆ media_precio │\n",
              "│ ---    ┆ ---          │\n",
              "│ i64    ┆ f64          │\n",
              "╞════════╪══════════════╡\n",
              "│ 282500 ┆ 282500.0     │\n",
              "│ 186030 ┆ 186030.0     │\n",
              "│ 177000 ┆ 177000.0     │\n",
              "│ 210000 ┆ 210000.0     │\n",
              "│ 242000 ┆ 242000.0     │\n",
              "│ …      ┆ …            │\n",
              "│ 205900 ┆ 205900.0     │\n",
              "│ 203000 ┆ 203000.0     │\n",
              "│ 300000 ┆ 300000.0     │\n",
              "│ 186000 ┆ 186000.0     │\n",
              "│ 195000 ┆ 195000.0     │\n",
              "└────────┴──────────────┘"
            ],
            "text/html": [
              "<div><style>\n",
              ".dataframe > thead > tr,\n",
              ".dataframe > tbody > tr {\n",
              "  text-align: right;\n",
              "  white-space: pre-wrap;\n",
              "}\n",
              "</style>\n",
              "<small>shape: (551, 2)</small><table border=\"1\" class=\"dataframe\"><thead><tr><th>precio</th><th>media_precio</th></tr><tr><td>i64</td><td>f64</td></tr></thead><tbody><tr><td>282500</td><td>282500.0</td></tr><tr><td>186030</td><td>186030.0</td></tr><tr><td>177000</td><td>177000.0</td></tr><tr><td>210000</td><td>210000.0</td></tr><tr><td>242000</td><td>242000.0</td></tr><tr><td>&hellip;</td><td>&hellip;</td></tr><tr><td>205900</td><td>205900.0</td></tr><tr><td>203000</td><td>203000.0</td></tr><tr><td>300000</td><td>300000.0</td></tr><tr><td>186000</td><td>186000.0</td></tr><tr><td>195000</td><td>195000.0</td></tr></tbody></table></div>"
            ]
          },
          "metadata": {},
          "execution_count": 14
        }
      ],
      "source": [
        "query.collect()  ## metodo collect ejecuta el lazy frame"
      ]
    },
    {
      "cell_type": "markdown",
      "metadata": {
        "id": "u_9-UTS4FOW-"
      },
      "source": [
        "\n",
        "# **<font color=\"#07a8ed\">Cuando usar Lazy o Eager**\n"
      ]
    },
    {
      "cell_type": "code",
      "execution_count": 15,
      "metadata": {
        "colab": {
          "base_uri": "https://localhost:8080/",
          "height": 221
        },
        "id": "ZaBec1ZiokE9",
        "outputId": "1911d136-b6cb-4b0b-c78c-7e7a3c57f1bb"
      },
      "outputs": [
        {
          "output_type": "execute_result",
          "data": {
            "text/plain": [
              "polars.dataframe.frame.DataFrame"
            ],
            "text/html": [
              "<div style=\"max-width:800px; border: 1px solid var(--colab-border-color);\"><style>\n",
              "      pre.function-repr-contents {\n",
              "        overflow-x: auto;\n",
              "        padding: 8px 12px;\n",
              "        max-height: 500px;\n",
              "      }\n",
              "\n",
              "      pre.function-repr-contents.function-repr-contents-collapsed {\n",
              "        cursor: pointer;\n",
              "        max-height: 100px;\n",
              "      }\n",
              "    </style>\n",
              "    <pre style=\"white-space: initial; background:\n",
              "         var(--colab-secondary-surface-color); padding: 8px 12px;\n",
              "         border-bottom: 1px solid var(--colab-border-color);\"><b>polars.dataframe.frame.DataFrame</b><br/>def __init__(data: FrameInitTypes | None=None, schema: SchemaDefinition | None=None, *, schema_overrides: SchemaDict | None=None, strict: bool=True, orient: Orientation | None=None, infer_schema_length: int | None=N_INFER_DEFAULT, nan_to_null: bool=False) -&gt; None</pre><pre class=\"function-repr-contents function-repr-contents-collapsed\" style=\"\"><a class=\"filepath\" style=\"display:none\" href=\"#\">/usr/local/lib/python3.10/dist-packages/polars/dataframe/frame.py</a>Two-dimensional data structure representing data as a table with rows and columns.\n",
              "\n",
              "Parameters\n",
              "----------\n",
              "data : dict, Sequence, ndarray, Series, or pandas.DataFrame\n",
              "    Two-dimensional data in various forms; dict input must contain Sequences,\n",
              "    Generators, or a `range`. Sequence may contain Series or other Sequences.\n",
              "schema : Sequence of str, (str,DataType) pairs, or a {str:DataType,} dict\n",
              "    The schema of the resulting DataFrame. The schema may be declared in several\n",
              "    ways:\n",
              "\n",
              "    * As a dict of {name:type} pairs; if type is None, it will be auto-inferred.\n",
              "    * As a list of column names; in this case types are automatically inferred.\n",
              "    * As a list of (name,type) pairs; this is equivalent to the dictionary form.\n",
              "\n",
              "    If you supply a list of column names that does not match the names in the\n",
              "    underlying data, the names given here will overwrite them. The number\n",
              "    of names given in the schema should match the underlying data dimensions.\n",
              "\n",
              "    If set to `None` (default), the schema is inferred from the data.\n",
              "schema_overrides : dict, default None\n",
              "    Support type specification or override of one or more columns; note that\n",
              "    any dtypes inferred from the schema param will be overridden.\n",
              "\n",
              "    The number of entries in the schema should match the underlying data\n",
              "    dimensions, unless a sequence of dictionaries is being passed, in which case\n",
              "    a *partial* schema can be declared to prevent specific fields from being loaded.\n",
              "strict : bool, default True\n",
              "    Throw an error if any `data` value does not exactly match the given or inferred\n",
              "    data type for that column. If set to `False`, values that do not match the data\n",
              "    type are cast to that data type or, if casting is not possible, set to null\n",
              "    instead.\n",
              "orient : {&#x27;col&#x27;, &#x27;row&#x27;}, default None\n",
              "    Whether to interpret two-dimensional data as columns or as rows. If None,\n",
              "    the orientation is inferred by matching the columns and data dimensions. If\n",
              "    this does not yield conclusive results, column orientation is used.\n",
              "infer_schema_length : int or None\n",
              "    The maximum number of rows to scan for schema inference. If set to `None`, the\n",
              "    full data may be scanned *(this can be slow)*. This parameter only applies if\n",
              "    the input data is a sequence or generator of rows; other input is read as-is.\n",
              "nan_to_null : bool, default False\n",
              "    If the data comes from one or more numpy arrays, can optionally convert input\n",
              "    data np.nan values to null instead. This is a no-op for all other input data.\n",
              "\n",
              "Notes\n",
              "-----\n",
              "Polars explicitly does not support subclassing of its core data types. See\n",
              "the following GitHub issue for possible workarounds:\n",
              "https://github.com/pola-rs/polars/issues/2846#issuecomment-1711799869\n",
              "\n",
              "Examples\n",
              "--------\n",
              "Constructing a DataFrame from a dictionary:\n",
              "\n",
              "&gt;&gt;&gt; data = {&quot;a&quot;: [1, 2], &quot;b&quot;: [3, 4]}\n",
              "&gt;&gt;&gt; df = pl.DataFrame(data)\n",
              "&gt;&gt;&gt; df\n",
              "shape: (2, 2)\n",
              "┌─────┬─────┐\n",
              "│ a   ┆ b   │\n",
              "│ --- ┆ --- │\n",
              "│ i64 ┆ i64 │\n",
              "╞═════╪═════╡\n",
              "│ 1   ┆ 3   │\n",
              "│ 2   ┆ 4   │\n",
              "└─────┴─────┘\n",
              "\n",
              "Notice that the dtypes are automatically inferred as polars Int64:\n",
              "\n",
              "&gt;&gt;&gt; df.dtypes\n",
              "[Int64, Int64]\n",
              "\n",
              "To specify a more detailed/specific frame schema you can supply the `schema`\n",
              "parameter with a dictionary of (name,dtype) pairs...\n",
              "\n",
              "&gt;&gt;&gt; data = {&quot;col1&quot;: [0, 2], &quot;col2&quot;: [3, 7]}\n",
              "&gt;&gt;&gt; df2 = pl.DataFrame(data, schema={&quot;col1&quot;: pl.Float32, &quot;col2&quot;: pl.Int64})\n",
              "&gt;&gt;&gt; df2\n",
              "shape: (2, 2)\n",
              "┌──────┬──────┐\n",
              "│ col1 ┆ col2 │\n",
              "│ ---  ┆ ---  │\n",
              "│ f32  ┆ i64  │\n",
              "╞══════╪══════╡\n",
              "│ 0.0  ┆ 3    │\n",
              "│ 2.0  ┆ 7    │\n",
              "└──────┴──────┘\n",
              "\n",
              "...a sequence of (name,dtype) pairs...\n",
              "\n",
              "&gt;&gt;&gt; data = {&quot;col1&quot;: [1, 2], &quot;col2&quot;: [3, 4]}\n",
              "&gt;&gt;&gt; df3 = pl.DataFrame(data, schema=[(&quot;col1&quot;, pl.Float32), (&quot;col2&quot;, pl.Int64)])\n",
              "&gt;&gt;&gt; df3\n",
              "shape: (2, 2)\n",
              "┌──────┬──────┐\n",
              "│ col1 ┆ col2 │\n",
              "│ ---  ┆ ---  │\n",
              "│ f32  ┆ i64  │\n",
              "╞══════╪══════╡\n",
              "│ 1.0  ┆ 3    │\n",
              "│ 2.0  ┆ 4    │\n",
              "└──────┴──────┘\n",
              "\n",
              "...or a list of typed Series.\n",
              "\n",
              "&gt;&gt;&gt; data = [\n",
              "...     pl.Series(&quot;col1&quot;, [1, 2], dtype=pl.Float32),\n",
              "...     pl.Series(&quot;col2&quot;, [3, 4], dtype=pl.Int64),\n",
              "... ]\n",
              "&gt;&gt;&gt; df4 = pl.DataFrame(data)\n",
              "&gt;&gt;&gt; df4\n",
              "shape: (2, 2)\n",
              "┌──────┬──────┐\n",
              "│ col1 ┆ col2 │\n",
              "│ ---  ┆ ---  │\n",
              "│ f32  ┆ i64  │\n",
              "╞══════╪══════╡\n",
              "│ 1.0  ┆ 3    │\n",
              "│ 2.0  ┆ 4    │\n",
              "└──────┴──────┘\n",
              "\n",
              "Constructing a DataFrame from a numpy ndarray, specifying column names:\n",
              "\n",
              "&gt;&gt;&gt; import numpy as np\n",
              "&gt;&gt;&gt; data = np.array([(1, 2), (3, 4)], dtype=np.int64)\n",
              "&gt;&gt;&gt; df5 = pl.DataFrame(data, schema=[&quot;a&quot;, &quot;b&quot;], orient=&quot;col&quot;)\n",
              "&gt;&gt;&gt; df5\n",
              "shape: (2, 2)\n",
              "┌─────┬─────┐\n",
              "│ a   ┆ b   │\n",
              "│ --- ┆ --- │\n",
              "│ i64 ┆ i64 │\n",
              "╞═════╪═════╡\n",
              "│ 1   ┆ 3   │\n",
              "│ 2   ┆ 4   │\n",
              "└─────┴─────┘\n",
              "\n",
              "Constructing a DataFrame from a list of lists, row orientation specified:\n",
              "\n",
              "&gt;&gt;&gt; data = [[1, 2, 3], [4, 5, 6]]\n",
              "&gt;&gt;&gt; df6 = pl.DataFrame(data, schema=[&quot;a&quot;, &quot;b&quot;, &quot;c&quot;], orient=&quot;row&quot;)\n",
              "&gt;&gt;&gt; df6\n",
              "shape: (2, 3)\n",
              "┌─────┬─────┬─────┐\n",
              "│ a   ┆ b   ┆ c   │\n",
              "│ --- ┆ --- ┆ --- │\n",
              "│ i64 ┆ i64 ┆ i64 │\n",
              "╞═════╪═════╪═════╡\n",
              "│ 1   ┆ 2   ┆ 3   │\n",
              "│ 4   ┆ 5   ┆ 6   │\n",
              "└─────┴─────┴─────┘</pre>\n",
              "      <script>\n",
              "      if (google.colab.kernel.accessAllowed && google.colab.files && google.colab.files.view) {\n",
              "        for (const element of document.querySelectorAll('.filepath')) {\n",
              "          element.style.display = 'block'\n",
              "          element.onclick = (event) => {\n",
              "            event.preventDefault();\n",
              "            event.stopPropagation();\n",
              "            google.colab.files.view(element.textContent, 186);\n",
              "          };\n",
              "        }\n",
              "      }\n",
              "      for (const element of document.querySelectorAll('.function-repr-contents')) {\n",
              "        element.onclick = (event) => {\n",
              "          event.preventDefault();\n",
              "          event.stopPropagation();\n",
              "          element.classList.toggle('function-repr-contents-collapsed');\n",
              "        };\n",
              "      }\n",
              "      </script>\n",
              "      </div>"
            ]
          },
          "metadata": {},
          "execution_count": 15
        }
      ],
      "source": [
        "type(casas_agregado)"
      ]
    },
    {
      "cell_type": "code",
      "execution_count": 16,
      "metadata": {
        "colab": {
          "base_uri": "https://localhost:8080/",
          "height": 443
        },
        "id": "v5WvWvxWO7ON",
        "outputId": "4b63b256-a4f3-494d-a15c-f56f3785be1b"
      },
      "outputs": [
        {
          "output_type": "execute_result",
          "data": {
            "text/plain": [
              "shape: (551, 2)\n",
              "┌────────┬──────────────┐\n",
              "│ precio ┆ media_precio │\n",
              "│ ---    ┆ ---          │\n",
              "│ i64    ┆ f64          │\n",
              "╞════════╪══════════════╡\n",
              "│ 193777 ┆ 193777.0     │\n",
              "│ 392499 ┆ 392499.0     │\n",
              "│ 72000  ┆ 72000.0      │\n",
              "│ 282000 ┆ 282000.0     │\n",
              "│ 244900 ┆ 244900.0     │\n",
              "│ …      ┆ …            │\n",
              "│ 267000 ┆ 267000.0     │\n",
              "│ 132870 ┆ 132870.0     │\n",
              "│ 154500 ┆ 154500.0     │\n",
              "│ 259000 ┆ 259000.0     │\n",
              "│ 219000 ┆ 219000.0     │\n",
              "└────────┴──────────────┘"
            ],
            "text/html": [
              "<div><style>\n",
              ".dataframe > thead > tr,\n",
              ".dataframe > tbody > tr {\n",
              "  text-align: right;\n",
              "  white-space: pre-wrap;\n",
              "}\n",
              "</style>\n",
              "<small>shape: (551, 2)</small><table border=\"1\" class=\"dataframe\"><thead><tr><th>precio</th><th>media_precio</th></tr><tr><td>i64</td><td>f64</td></tr></thead><tbody><tr><td>193777</td><td>193777.0</td></tr><tr><td>392499</td><td>392499.0</td></tr><tr><td>72000</td><td>72000.0</td></tr><tr><td>282000</td><td>282000.0</td></tr><tr><td>244900</td><td>244900.0</td></tr><tr><td>&hellip;</td><td>&hellip;</td></tr><tr><td>267000</td><td>267000.0</td></tr><tr><td>132870</td><td>132870.0</td></tr><tr><td>154500</td><td>154500.0</td></tr><tr><td>259000</td><td>259000.0</td></tr><tr><td>219000</td><td>219000.0</td></tr></tbody></table></div>"
            ]
          },
          "metadata": {},
          "execution_count": 16
        }
      ],
      "source": [
        "casas_agregado ## dataset eager agrupado por precio y media precio"
      ]
    },
    {
      "cell_type": "code",
      "execution_count": 17,
      "metadata": {
        "colab": {
          "base_uri": "https://localhost:8080/"
        },
        "id": "zy57FjjkPSlq",
        "outputId": "8ca233bf-bf0b-4a08-8005-70990d29b209"
      },
      "outputs": [
        {
          "output_type": "stream",
          "name": "stdout",
          "text": [
            "STREAMING:\n",
            "  AGGREGATE\n",
            "  \t[col(\"precio\").mean().alias(\"media_precio\")] BY [col(\"precio\")] FROM\n",
            "    Csv SCAN [https://raw.githubusercontent.com/VINY2030/datasets/refs/heads/main/SaratogaHouses.csv]\n",
            "    PROJECT 2/16 COLUMNS\n",
            "    SELECTION: [(col(\"antiguedad\")) > (10)]\n"
          ]
        }
      ],
      "source": [
        "print(query.explain(streaming=True))  ## imprimir la query como lazy frame explicado"
      ]
    },
    {
      "cell_type": "code",
      "execution_count": 18,
      "metadata": {
        "colab": {
          "base_uri": "https://localhost:8080/",
          "height": 222
        },
        "id": "TCz9zF3JaW2w",
        "outputId": "f5ea6983-2a07-4127-c5c7-b3d7d59aebfc"
      },
      "outputs": [
        {
          "output_type": "display_data",
          "data": {
            "text/plain": [
              "<IPython.core.display.SVG object>"
            ],
            "image/svg+xml": "<svg xmlns=\"http://www.w3.org/2000/svg\" xmlns:xlink=\"http://www.w3.org/1999/xlink\" width=\"597pt\" height=\"150pt\" viewBox=\"0.00 0.00 597.00 150.00\">\n<g id=\"graph0\" class=\"graph\" transform=\"scale(1 1) rotate(0) translate(4 146)\">\n<title>polars_query</title>\n<polygon fill=\"white\" stroke=\"transparent\" points=\"-4,4 -4,-146 593,-146 593,4 -4,4\"/>\n<!-- p1 -->\n<g id=\"node1\" class=\"node\">\n<title>p1</title>\n<polygon fill=\"none\" stroke=\"black\" points=\"442.5,-142 146.5,-142 146.5,-89 442.5,-89 442.5,-142\"/>\n<text text-anchor=\"middle\" x=\"294.5\" y=\"-126.8\" font-family=\"Times,serif\" font-size=\"14.00\">AGG [col(&quot;precio&quot;).mean().alias(&quot;media_precio&quot;)]</text>\n<text text-anchor=\"middle\" x=\"294.5\" y=\"-111.8\" font-family=\"Times,serif\" font-size=\"14.00\">BY</text>\n<text text-anchor=\"middle\" x=\"294.5\" y=\"-96.8\" font-family=\"Times,serif\" font-size=\"14.00\">[col(&quot;precio&quot;)]</text>\n</g>\n<!-- p2 -->\n<g id=\"node2\" class=\"node\">\n<title>p2</title>\n<polygon fill=\"none\" stroke=\"black\" points=\"589,-53 0,-53 0,0 589,0 589,-53\"/>\n<text text-anchor=\"middle\" x=\"294.5\" y=\"-37.8\" font-family=\"Times,serif\" font-size=\"14.00\">Csv SCAN [https://raw.githubusercontent.com/VINY2030/datasets/refs/heads/main/SaratogaHouses.csv]</text>\n<text text-anchor=\"middle\" x=\"294.5\" y=\"-22.8\" font-family=\"Times,serif\" font-size=\"14.00\">π 2/16;</text>\n<text text-anchor=\"middle\" x=\"294.5\" y=\"-7.8\" font-family=\"Times,serif\" font-size=\"14.00\">σ [(col(&quot;antiguedad&quot;)) &gt; (10)]</text>\n</g>\n<!-- p1&#45;&#45;p2 -->\n<g id=\"edge1\" class=\"edge\">\n<title>p1--p2</title>\n<path fill=\"none\" stroke=\"black\" d=\"M294.5,-88.87C294.5,-77.64 294.5,-64.49 294.5,-53.25\"/>\n</g>\n</g>\n</svg>"
          },
          "metadata": {}
        }
      ],
      "source": [
        "query.show_graph(optimized=True)  ##  observo el show graph con el detalle del lazy frame"
      ]
    },
    {
      "cell_type": "markdown",
      "metadata": {
        "id": "UnkA63R3ciXi"
      },
      "source": [
        "`Al intentar visualizar este objeto, cómo ya sabemos, nos salta su plan de ejecución no optimizado (NAIVE QUERY PLAN). Podemos visualizar los planes de ejecución (NAIVE QUERY PLAN/OPTIMIZED QUERY PLAN) de nuestro DataFrame a través del método: query.show_graph(optimized=True`"
      ]
    },
    {
      "cell_type": "markdown",
      "metadata": {
        "id": "GcRwHKPJQWVG"
      },
      "source": [
        "\n",
        "# **<font color=\"#07a8ed\">Uso de la consulta Lazy a partir de la lectura de un archivo**\n",
        "\n",
        "\n",
        "`= en Pandas tengo la lectura de los archivos metodo read, ejemplo read_csv`\n",
        "\n",
        "\n",
        "\n",
        "\n",
        "\n"
      ]
    },
    {
      "cell_type": "markdown",
      "metadata": {
        "id": "gFbj9NDBQkRN"
      },
      "source": [
        "# **#En esta consulta le decimos a Polars que queremos:**\n",
        "\n",
        "`Cargar datos desde el archivo csv`\n",
        "\n",
        "`Realizar filtro universitarios mayores a 40`\n",
        "\n",
        "`convertir la columna precio_terreno en la media`\n",
        "\n",
        "`La consulta lazy no se ejecutará en este momento a menos que le apliquemos un .collect() .`"
      ]
    },
    {
      "cell_type": "code",
      "execution_count": 19,
      "metadata": {
        "colab": {
          "base_uri": "https://localhost:8080/",
          "height": 340
        },
        "id": "e5wxq-lQSkYW",
        "outputId": "13dcb667-6f60-41c3-c50d-2caa13838ac2"
      },
      "outputs": [
        {
          "output_type": "execute_result",
          "data": {
            "text/plain": [
              "<LazyFrame at 0x7C70076435B0>"
            ],
            "text/html": [
              "<h4>NAIVE QUERY PLAN</h4><p>run <b>LazyFrame.show_graph()</b> to see the optimized version</p><?xml version=\"1.0\" encoding=\"UTF-8\" standalone=\"no\"?>\n",
              "<!DOCTYPE svg PUBLIC \"-//W3C//DTD SVG 1.1//EN\"\n",
              " \"http://www.w3.org/Graphics/SVG/1.1/DTD/svg11.dtd\">\n",
              "<!-- Generated by graphviz version 2.43.0 (0)\n",
              " -->\n",
              "<!-- Title: polars_query Pages: 1 -->\n",
              "<svg width=\"597pt\" height=\"190pt\"\n",
              " viewBox=\"0.00 0.00 597.00 190.00\" xmlns=\"http://www.w3.org/2000/svg\" xmlns:xlink=\"http://www.w3.org/1999/xlink\">\n",
              "<g id=\"graph0\" class=\"graph\" transform=\"scale(1 1) rotate(0) translate(4 186)\">\n",
              "<title>polars_query</title>\n",
              "<polygon fill=\"white\" stroke=\"transparent\" points=\"-4,4 -4,-186 593,-186 593,4 -4,4\"/>\n",
              "<!-- p1 -->\n",
              "<g id=\"node1\" class=\"node\">\n",
              "<title>p1</title>\n",
              "<polygon fill=\"none\" stroke=\"black\" points=\"321.5,-182 267.5,-182 267.5,-146 321.5,-146 321.5,-182\"/>\n",
              "<text text-anchor=\"middle\" x=\"294.5\" y=\"-160.3\" font-family=\"Times,serif\" font-size=\"14.00\">π 1/1</text>\n",
              "</g>\n",
              "<!-- p2 -->\n",
              "<g id=\"node2\" class=\"node\">\n",
              "<title>p2</title>\n",
              "<polygon fill=\"none\" stroke=\"black\" points=\"422,-110 167,-110 167,-74 422,-74 422,-110\"/>\n",
              "<text text-anchor=\"middle\" x=\"294.5\" y=\"-88.3\" font-family=\"Times,serif\" font-size=\"14.00\">FILTER BY [(col(&quot;universitarios&quot;)) &gt; (40)]</text>\n",
              "</g>\n",
              "<!-- p1&#45;&#45;p2 -->\n",
              "<g id=\"edge1\" class=\"edge\">\n",
              "<title>p1&#45;&#45;p2</title>\n",
              "<path fill=\"none\" stroke=\"black\" d=\"M294.5,-145.7C294.5,-134.85 294.5,-120.92 294.5,-110.1\"/>\n",
              "</g>\n",
              "<!-- p3 -->\n",
              "<g id=\"node3\" class=\"node\">\n",
              "<title>p3</title>\n",
              "<polygon fill=\"none\" stroke=\"black\" points=\"589,-38 0,-38 0,0 589,0 589,-38\"/>\n",
              "<text text-anchor=\"middle\" x=\"294.5\" y=\"-22.8\" font-family=\"Times,serif\" font-size=\"14.00\">Csv SCAN [https://raw.githubusercontent.com/VINY2030/datasets/refs/heads/main/SaratogaHouses.csv]</text>\n",
              "<text text-anchor=\"middle\" x=\"294.5\" y=\"-7.8\" font-family=\"Times,serif\" font-size=\"14.00\">π */16;</text>\n",
              "</g>\n",
              "<!-- p2&#45;&#45;p3 -->\n",
              "<g id=\"edge2\" class=\"edge\">\n",
              "<title>p2&#45;&#45;p3</title>\n",
              "<path fill=\"none\" stroke=\"black\" d=\"M294.5,-73.81C294.5,-62.98 294.5,-49.01 294.5,-38.02\"/>\n",
              "</g>\n",
              "</g>\n",
              "</svg>\n"
            ]
          },
          "metadata": {},
          "execution_count": 19
        }
      ],
      "source": [
        "\n",
        "query_2 = (\n",
        "    pl.scan_csv('https://raw.githubusercontent.com/VINY2030/datasets/refs/heads/main/SaratogaHouses.csv')\n",
        "    .filter(pl.col('universitarios') > 40)  # Move filter before select\n",
        "    .select(\n",
        "        pl.col('precio_terreno').mean().over('precio_terreno')\n",
        "    )\n",
        ")  ## descargo y filtro el datset por universitarios mayores a 40 y precio terreno con el valor de la media sobre el precio del terreno\n",
        "\n",
        "query_2"
      ]
    },
    {
      "cell_type": "code",
      "execution_count": 20,
      "metadata": {
        "colab": {
          "base_uri": "https://localhost:8080/"
        },
        "id": "di7LEqehoOd_",
        "outputId": "8ffc6641-0af8-4391-dbee-f1e670fca61a"
      },
      "outputs": [
        {
          "output_type": "stream",
          "name": "stdout",
          "text": [
            " SELECT [col(\"precio_terreno\").mean().over([col(\"precio_terreno\")])] FROM\n",
            "  STREAMING:\n",
            "    Csv SCAN [https://raw.githubusercontent.com/VINY2030/datasets/refs/heads/main/SaratogaHouses.csv]\n",
            "    PROJECT 2/16 COLUMNS\n",
            "    SELECTION: [(col(\"universitarios\")) > (40)]\n"
          ]
        }
      ],
      "source": [
        "print(query_2.explain(streaming=True))  ## imprimo el lazy plan"
      ]
    },
    {
      "cell_type": "code",
      "execution_count": 21,
      "metadata": {
        "colab": {
          "base_uri": "https://localhost:8080/",
          "height": 221
        },
        "id": "EzibnwNWkksz",
        "outputId": "436ba496-bce0-4846-bc68-1ca13898e2a7"
      },
      "outputs": [
        {
          "output_type": "execute_result",
          "data": {
            "text/plain": [
              "polars.lazyframe.frame.LazyFrame"
            ],
            "text/html": [
              "<div style=\"max-width:800px; border: 1px solid var(--colab-border-color);\"><style>\n",
              "      pre.function-repr-contents {\n",
              "        overflow-x: auto;\n",
              "        padding: 8px 12px;\n",
              "        max-height: 500px;\n",
              "      }\n",
              "\n",
              "      pre.function-repr-contents.function-repr-contents-collapsed {\n",
              "        cursor: pointer;\n",
              "        max-height: 100px;\n",
              "      }\n",
              "    </style>\n",
              "    <pre style=\"white-space: initial; background:\n",
              "         var(--colab-secondary-surface-color); padding: 8px 12px;\n",
              "         border-bottom: 1px solid var(--colab-border-color);\"><b>polars.lazyframe.frame.LazyFrame</b><br/>def __init__(data: FrameInitTypes | None=None, schema: SchemaDefinition | None=None, *, schema_overrides: SchemaDict | None=None, strict: bool=True, orient: Orientation | None=None, infer_schema_length: int | None=N_INFER_DEFAULT, nan_to_null: bool=False) -&gt; None</pre><pre class=\"function-repr-contents function-repr-contents-collapsed\" style=\"\"><a class=\"filepath\" style=\"display:none\" href=\"#\">/usr/local/lib/python3.10/dist-packages/polars/lazyframe/frame.py</a>Representation of a Lazy computation graph/query against a DataFrame.\n",
              "\n",
              "This allows for whole-query optimisation in addition to parallelism, and\n",
              "is the preferred (and highest-performance) mode of operation for polars.\n",
              "\n",
              "Parameters\n",
              "----------\n",
              "data : dict, Sequence, ndarray, Series, or pandas.DataFrame\n",
              "    Two-dimensional data in various forms; dict input must contain Sequences,\n",
              "    Generators, or a `range`. Sequence may contain Series or other Sequences.\n",
              "schema : Sequence of str, (str,DataType) pairs, or a {str:DataType,} dict\n",
              "    The LazyFrame schema may be declared in several ways:\n",
              "\n",
              "    * As a dict of {name:type} pairs; if type is None, it will be auto-inferred.\n",
              "    * As a list of column names; in this case types are automatically inferred.\n",
              "    * As a list of (name,type) pairs; this is equivalent to the dictionary form.\n",
              "\n",
              "    If you supply a list of column names that does not match the names in the\n",
              "    underlying data, the names given here will overwrite them. The number\n",
              "    of names given in the schema should match the underlying data dimensions.\n",
              "schema_overrides : dict, default None\n",
              "    Support type specification or override of one or more columns; note that\n",
              "    any dtypes inferred from the schema param will be overridden.\n",
              "\n",
              "    The number of entries in the schema should match the underlying data\n",
              "    dimensions, unless a sequence of dictionaries is being passed, in which case\n",
              "    a *partial* schema can be declared to prevent specific fields from being loaded.\n",
              "strict : bool, default True\n",
              "    Throw an error if any `data` value does not exactly match the given or inferred\n",
              "    data type for that column. If set to `False`, values that do not match the data\n",
              "    type are cast to that data type or, if casting is not possible, set to null\n",
              "    instead.\n",
              "orient : {&#x27;col&#x27;, &#x27;row&#x27;}, default None\n",
              "    Whether to interpret two-dimensional data as columns or as rows. If None,\n",
              "    the orientation is inferred by matching the columns and data dimensions. If\n",
              "    this does not yield conclusive results, column orientation is used.\n",
              "infer_schema_length : int or None\n",
              "    The maximum number of rows to scan for schema inference. If set to `None`, the\n",
              "    full data may be scanned *(this can be slow)*. This parameter only applies if\n",
              "    the input data is a sequence or generator of rows; other input is read as-is.\n",
              "nan_to_null : bool, default False\n",
              "    If the data comes from one or more numpy arrays, can optionally convert input\n",
              "    data np.nan values to null instead. This is a no-op for all other input data.\n",
              "\n",
              "Notes\n",
              "-----\n",
              "Initialising `LazyFrame(...)` directly is equivalent to `DataFrame(...).lazy()`.\n",
              "\n",
              "Examples\n",
              "--------\n",
              "Constructing a LazyFrame directly from a dictionary:\n",
              "\n",
              "&gt;&gt;&gt; data = {&quot;a&quot;: [1, 2], &quot;b&quot;: [3, 4]}\n",
              "&gt;&gt;&gt; lf = pl.LazyFrame(data)\n",
              "&gt;&gt;&gt; lf.collect()\n",
              "shape: (2, 2)\n",
              "┌─────┬─────┐\n",
              "│ a   ┆ b   │\n",
              "│ --- ┆ --- │\n",
              "│ i64 ┆ i64 │\n",
              "╞═════╪═════╡\n",
              "│ 1   ┆ 3   │\n",
              "│ 2   ┆ 4   │\n",
              "└─────┴─────┘\n",
              "\n",
              "Notice that the dtypes are automatically inferred as Polars Int64:\n",
              "\n",
              "&gt;&gt;&gt; lf.collect_schema().dtypes()\n",
              "[Int64, Int64]\n",
              "\n",
              "To specify a more detailed/specific frame schema you can supply the `schema`\n",
              "parameter with a dictionary of (name,dtype) pairs...\n",
              "\n",
              "&gt;&gt;&gt; data = {&quot;col1&quot;: [0, 2], &quot;col2&quot;: [3, 7]}\n",
              "&gt;&gt;&gt; lf2 = pl.LazyFrame(data, schema={&quot;col1&quot;: pl.Float32, &quot;col2&quot;: pl.Int64})\n",
              "&gt;&gt;&gt; lf2.collect()\n",
              "shape: (2, 2)\n",
              "┌──────┬──────┐\n",
              "│ col1 ┆ col2 │\n",
              "│ ---  ┆ ---  │\n",
              "│ f32  ┆ i64  │\n",
              "╞══════╪══════╡\n",
              "│ 0.0  ┆ 3    │\n",
              "│ 2.0  ┆ 7    │\n",
              "└──────┴──────┘\n",
              "\n",
              "...a sequence of (name,dtype) pairs...\n",
              "\n",
              "&gt;&gt;&gt; data = {&quot;col1&quot;: [1, 2], &quot;col2&quot;: [3, 4]}\n",
              "&gt;&gt;&gt; lf3 = pl.LazyFrame(data, schema=[(&quot;col1&quot;, pl.Float32), (&quot;col2&quot;, pl.Int64)])\n",
              "&gt;&gt;&gt; lf3.collect()\n",
              "shape: (2, 2)\n",
              "┌──────┬──────┐\n",
              "│ col1 ┆ col2 │\n",
              "│ ---  ┆ ---  │\n",
              "│ f32  ┆ i64  │\n",
              "╞══════╪══════╡\n",
              "│ 1.0  ┆ 3    │\n",
              "│ 2.0  ┆ 4    │\n",
              "└──────┴──────┘\n",
              "\n",
              "...or a list of typed Series.\n",
              "\n",
              "&gt;&gt;&gt; data = [\n",
              "...     pl.Series(&quot;col1&quot;, [1, 2], dtype=pl.Float32),\n",
              "...     pl.Series(&quot;col2&quot;, [3, 4], dtype=pl.Int64),\n",
              "... ]\n",
              "&gt;&gt;&gt; lf4 = pl.LazyFrame(data)\n",
              "&gt;&gt;&gt; lf4.collect()\n",
              "shape: (2, 2)\n",
              "┌──────┬──────┐\n",
              "│ col1 ┆ col2 │\n",
              "│ ---  ┆ ---  │\n",
              "│ f32  ┆ i64  │\n",
              "╞══════╪══════╡\n",
              "│ 1.0  ┆ 3    │\n",
              "│ 2.0  ┆ 4    │\n",
              "└──────┴──────┘\n",
              "\n",
              "Constructing a LazyFrame from a numpy ndarray, specifying column names:\n",
              "\n",
              "&gt;&gt;&gt; import numpy as np\n",
              "&gt;&gt;&gt; data = np.array([(1, 2), (3, 4)], dtype=np.int64)\n",
              "&gt;&gt;&gt; lf5 = pl.LazyFrame(data, schema=[&quot;a&quot;, &quot;b&quot;], orient=&quot;col&quot;)\n",
              "&gt;&gt;&gt; lf5.collect()\n",
              "shape: (2, 2)\n",
              "┌─────┬─────┐\n",
              "│ a   ┆ b   │\n",
              "│ --- ┆ --- │\n",
              "│ i64 ┆ i64 │\n",
              "╞═════╪═════╡\n",
              "│ 1   ┆ 3   │\n",
              "│ 2   ┆ 4   │\n",
              "└─────┴─────┘\n",
              "\n",
              "Constructing a LazyFrame from a list of lists, row orientation specified:\n",
              "\n",
              "&gt;&gt;&gt; data = [[1, 2, 3], [4, 5, 6]]\n",
              "&gt;&gt;&gt; lf6 = pl.LazyFrame(data, schema=[&quot;a&quot;, &quot;b&quot;, &quot;c&quot;], orient=&quot;row&quot;)\n",
              "&gt;&gt;&gt; lf6.collect()\n",
              "shape: (2, 3)\n",
              "┌─────┬─────┬─────┐\n",
              "│ a   ┆ b   ┆ c   │\n",
              "│ --- ┆ --- ┆ --- │\n",
              "│ i64 ┆ i64 ┆ i64 │\n",
              "╞═════╪═════╪═════╡\n",
              "│ 1   ┆ 2   ┆ 3   │\n",
              "│ 4   ┆ 5   ┆ 6   │\n",
              "└─────┴─────┴─────┘</pre>\n",
              "      <script>\n",
              "      if (google.colab.kernel.accessAllowed && google.colab.files && google.colab.files.view) {\n",
              "        for (const element of document.querySelectorAll('.filepath')) {\n",
              "          element.style.display = 'block'\n",
              "          element.onclick = (event) => {\n",
              "            event.preventDefault();\n",
              "            event.stopPropagation();\n",
              "            google.colab.files.view(element.textContent, 139);\n",
              "          };\n",
              "        }\n",
              "      }\n",
              "      for (const element of document.querySelectorAll('.function-repr-contents')) {\n",
              "        element.onclick = (event) => {\n",
              "          event.preventDefault();\n",
              "          event.stopPropagation();\n",
              "          element.classList.toggle('function-repr-contents-collapsed');\n",
              "        };\n",
              "      }\n",
              "      </script>\n",
              "      </div>"
            ]
          },
          "metadata": {},
          "execution_count": 21
        }
      ],
      "source": [
        "type(query_2)"
      ]
    },
    {
      "cell_type": "code",
      "execution_count": 22,
      "metadata": {
        "colab": {
          "base_uri": "https://localhost:8080/",
          "height": 443
        },
        "id": "zXgmhGAVQD52",
        "outputId": "a7ef06b6-fd5b-4929-d32e-0a4334df10cd"
      },
      "outputs": [
        {
          "output_type": "execute_result",
          "data": {
            "text/plain": [
              "shape: (1_433, 1)\n",
              "┌────────────────┐\n",
              "│ precio_terreno │\n",
              "│ ---            │\n",
              "│ f64            │\n",
              "╞════════════════╡\n",
              "│ 22300.0        │\n",
              "│ 7300.0         │\n",
              "│ 18700.0        │\n",
              "│ 15000.0        │\n",
              "│ 23300.0        │\n",
              "│ …              │\n",
              "│ 24200.0        │\n",
              "│ 36200.0        │\n",
              "│ 20400.0        │\n",
              "│ 16800.0        │\n",
              "│ 26000.0        │\n",
              "└────────────────┘"
            ],
            "text/html": [
              "<div><style>\n",
              ".dataframe > thead > tr,\n",
              ".dataframe > tbody > tr {\n",
              "  text-align: right;\n",
              "  white-space: pre-wrap;\n",
              "}\n",
              "</style>\n",
              "<small>shape: (1_433, 1)</small><table border=\"1\" class=\"dataframe\"><thead><tr><th>precio_terreno</th></tr><tr><td>f64</td></tr></thead><tbody><tr><td>22300.0</td></tr><tr><td>7300.0</td></tr><tr><td>18700.0</td></tr><tr><td>15000.0</td></tr><tr><td>23300.0</td></tr><tr><td>&hellip;</td></tr><tr><td>24200.0</td></tr><tr><td>36200.0</td></tr><tr><td>20400.0</td></tr><tr><td>16800.0</td></tr><tr><td>26000.0</td></tr></tbody></table></div>"
            ]
          },
          "metadata": {},
          "execution_count": 22
        }
      ],
      "source": [
        "query_2.collect()  ## imprimimos la consulta lazy a traves del metodo collect()"
      ]
    },
    {
      "cell_type": "markdown",
      "metadata": {
        "id": "Pb8ANGqnS94F"
      },
      "source": [
        "\n",
        "# **<font color=\"#07a8ed\">Uso de la API lazy desde un DataFrame**"
      ]
    },
    {
      "cell_type": "markdown",
      "metadata": {
        "id": "E8Q0TCnCTF-G"
      },
      "source": [
        "`Una forma alternativa de acceder a la API lazy es llamar a .lazy en un DataFrame que ya se ha creado en la memoria`.\n",
        "\n",
        "`Al llamar a .lazy convertimos el DataFrame en un LazyFrame.`"
      ]
    },
    {
      "cell_type": "code",
      "execution_count": 23,
      "metadata": {
        "colab": {
          "base_uri": "https://localhost:8080/",
          "height": 192
        },
        "id": "sYNzI8YXTLNX",
        "outputId": "15aa2ef7-8776-47c9-fa2e-7e2f98ca98bc"
      },
      "outputs": [
        {
          "output_type": "execute_result",
          "data": {
            "text/plain": [
              "shape: (3, 2)\n",
              "┌─────┬────────┐\n",
              "│ id  ┆ nombre │\n",
              "│ --- ┆ ---    │\n",
              "│ i64 ┆ str    │\n",
              "╞═════╪════════╡\n",
              "│ 1   ┆ Rosa   │\n",
              "│ 2   ┆ Ana    │\n",
              "│ 3   ┆ Pedro  │\n",
              "└─────┴────────┘"
            ],
            "text/html": [
              "<div><style>\n",
              ".dataframe > thead > tr,\n",
              ".dataframe > tbody > tr {\n",
              "  text-align: right;\n",
              "  white-space: pre-wrap;\n",
              "}\n",
              "</style>\n",
              "<small>shape: (3, 2)</small><table border=\"1\" class=\"dataframe\"><thead><tr><th>id</th><th>nombre</th></tr><tr><td>i64</td><td>str</td></tr></thead><tbody><tr><td>1</td><td>&quot;Rosa&quot;</td></tr><tr><td>2</td><td>&quot;Ana&quot;</td></tr><tr><td>3</td><td>&quot;Pedro&quot;</td></tr></tbody></table></div>"
            ]
          },
          "metadata": {},
          "execution_count": 23
        }
      ],
      "source": [
        "df = pl.DataFrame(\n",
        "    {\n",
        "        'id': [1, 2, 3],\n",
        "        'nombre': ['Rosa', 'Ana', 'Pedro']\n",
        "    }\n",
        ")\n",
        "\n",
        "df  ## cargo dataframe eager de polars"
      ]
    },
    {
      "cell_type": "code",
      "execution_count": 24,
      "metadata": {
        "id": "27Q3MlPxoqs_"
      },
      "outputs": [],
      "source": [
        "df_lazy = df.lazy() ## conversion del dataset eager a dataset lazy"
      ]
    },
    {
      "cell_type": "code",
      "execution_count": 25,
      "metadata": {
        "colab": {
          "base_uri": "https://localhost:8080/",
          "height": 168
        },
        "id": "mgXqt19MTN6P",
        "outputId": "13187785-aed7-4a2c-c1b2-265bcf205d30"
      },
      "outputs": [
        {
          "output_type": "execute_result",
          "data": {
            "text/plain": [
              "<LazyFrame at 0x7C70076435E0>"
            ],
            "text/html": [
              "<h4>NAIVE QUERY PLAN</h4><p>run <b>LazyFrame.show_graph()</b> to see the optimized version</p><?xml version=\"1.0\" encoding=\"UTF-8\" standalone=\"no\"?>\n",
              "<!DOCTYPE svg PUBLIC \"-//W3C//DTD SVG 1.1//EN\"\n",
              " \"http://www.w3.org/Graphics/SVG/1.1/DTD/svg11.dtd\">\n",
              "<!-- Generated by graphviz version 2.43.0 (0)\n",
              " -->\n",
              "<!-- Title: polars_query Pages: 1 -->\n",
              "<svg width=\"67pt\" height=\"61pt\"\n",
              " viewBox=\"0.00 0.00 67.00 61.00\" xmlns=\"http://www.w3.org/2000/svg\" xmlns:xlink=\"http://www.w3.org/1999/xlink\">\n",
              "<g id=\"graph0\" class=\"graph\" transform=\"scale(1 1) rotate(0) translate(4 57)\">\n",
              "<title>polars_query</title>\n",
              "<polygon fill=\"white\" stroke=\"transparent\" points=\"-4,4 -4,-57 63,-57 63,4 -4,4\"/>\n",
              "<!-- p1 -->\n",
              "<g id=\"node1\" class=\"node\">\n",
              "<title>p1</title>\n",
              "<polygon fill=\"none\" stroke=\"black\" points=\"59,-53 0,-53 0,0 59,0 59,-53\"/>\n",
              "<text text-anchor=\"middle\" x=\"29.5\" y=\"-37.8\" font-family=\"Times,serif\" font-size=\"14.00\">TABLE</text>\n",
              "<text text-anchor=\"middle\" x=\"29.5\" y=\"-22.8\" font-family=\"Times,serif\" font-size=\"14.00\">π */2;</text>\n",
              "<text text-anchor=\"middle\" x=\"29.5\" y=\"-7.8\" font-family=\"Times,serif\" font-size=\"14.00\">σ None</text>\n",
              "</g>\n",
              "</g>\n",
              "</svg>\n"
            ]
          },
          "metadata": {},
          "execution_count": 25
        }
      ],
      "source": [
        "df_lazy  ## detalle dataset lazy"
      ]
    },
    {
      "cell_type": "code",
      "execution_count": 26,
      "metadata": {
        "colab": {
          "base_uri": "https://localhost:8080/",
          "height": 192
        },
        "id": "zLRDrPpKTPaQ",
        "outputId": "ce3ccd5c-da71-4a4b-db04-e8a3afb95ffc"
      },
      "outputs": [
        {
          "output_type": "execute_result",
          "data": {
            "text/plain": [
              "shape: (3, 2)\n",
              "┌─────┬────────┐\n",
              "│ id  ┆ nombre │\n",
              "│ --- ┆ ---    │\n",
              "│ i64 ┆ str    │\n",
              "╞═════╪════════╡\n",
              "│ 1   ┆ Rosa   │\n",
              "│ 2   ┆ Ana    │\n",
              "│ 3   ┆ Pedro  │\n",
              "└─────┴────────┘"
            ],
            "text/html": [
              "<div><style>\n",
              ".dataframe > thead > tr,\n",
              ".dataframe > tbody > tr {\n",
              "  text-align: right;\n",
              "  white-space: pre-wrap;\n",
              "}\n",
              "</style>\n",
              "<small>shape: (3, 2)</small><table border=\"1\" class=\"dataframe\"><thead><tr><th>id</th><th>nombre</th></tr><tr><td>i64</td><td>str</td></tr></thead><tbody><tr><td>1</td><td>&quot;Rosa&quot;</td></tr><tr><td>2</td><td>&quot;Ana&quot;</td></tr><tr><td>3</td><td>&quot;Pedro&quot;</td></tr></tbody></table></div>"
            ]
          },
          "metadata": {},
          "execution_count": 26
        }
      ],
      "source": [
        "df_lazy.collect()## con el metodo collect el detalle del dataset lazy"
      ]
    },
    {
      "cell_type": "markdown",
      "metadata": {
        "id": "bCudE2clTXcg"
      },
      "source": [
        "\n",
        "# **<font color=\"#07a8ed\">Schema**\n",
        "\n",
        "`= en Pandas es un parametro table_schema=None, en la funcion pd_gbq.to_gbq, en el servicio de web query de Pandas`"
      ]
    },
    {
      "cell_type": "markdown",
      "metadata": {
        "id": "O9IKmXSVTeIF"
      },
      "source": [
        "`El esquema de un DataFrame o un LazyFrame establece los nombres de las columnas y sus tipos de datos. Si recordamos podemos ver el esquema de un DataFrame o un LazyFrame con el método .schema.`"
      ]
    },
    {
      "cell_type": "code",
      "execution_count": 27,
      "metadata": {
        "colab": {
          "base_uri": "https://localhost:8080/"
        },
        "id": "ir-cxg9yTg7N",
        "outputId": "2e6cc5a0-781a-4aac-a445-631d3a94dfb8"
      },
      "outputs": [
        {
          "output_type": "execute_result",
          "data": {
            "text/plain": [
              "Schema([('id', Int64), ('nombre', String)])"
            ]
          },
          "metadata": {},
          "execution_count": 27
        }
      ],
      "source": [
        "df.schema  ## el schema nos brinda las columnas y los tipos de datos de ellas"
      ]
    },
    {
      "cell_type": "code",
      "execution_count": 28,
      "metadata": {
        "colab": {
          "base_uri": "https://localhost:8080/"
        },
        "id": "hFA9tXmJTky1",
        "outputId": "3712f13a-3ac7-41e5-8f9f-78fa9d66bb2f"
      },
      "outputs": [
        {
          "output_type": "stream",
          "name": "stderr",
          "text": [
            "<ipython-input-28-13d88cbe9906>:1: PerformanceWarning: Resolving the schema of a LazyFrame is a potentially expensive operation. Use `LazyFrame.collect_schema()` to get the schema without this warning.\n",
            "  df_lazy.schema  ## el schema en un lazy frame\n"
          ]
        },
        {
          "output_type": "execute_result",
          "data": {
            "text/plain": [
              "Schema([('id', Int64), ('nombre', String)])"
            ]
          },
          "metadata": {},
          "execution_count": 28
        }
      ],
      "source": [
        "df_lazy.schema  ## el schema en un lazy frame"
      ]
    },
    {
      "cell_type": "code",
      "execution_count": 29,
      "metadata": {
        "colab": {
          "base_uri": "https://localhost:8080/"
        },
        "id": "kWwiece-fD0h",
        "outputId": "dc19ecbb-adec-41cb-bd9f-69062b67d165"
      },
      "outputs": [
        {
          "output_type": "execute_result",
          "data": {
            "text/plain": [
              "Schema([('id', Int64), ('nombre', String)])"
            ]
          },
          "metadata": {},
          "execution_count": 29
        }
      ],
      "source": [
        "df_lazy.collect_schema()"
      ]
    },
    {
      "cell_type": "markdown",
      "metadata": {
        "id": "hzMVCJO8Tsd4"
      },
      "source": [
        "\n",
        "# **<font color=\"#07a8ed\">Comprobación de tipos de datos en la API lazy**"
      ]
    },
    {
      "cell_type": "markdown",
      "metadata": {
        "id": "6eSCYZODTyYd"
      },
      "source": [
        "`El esquema juega un papel importante en la API lazy.`\n",
        "\n",
        "\n",
        "`= en Pandas no existe el metodo Lazy`\n",
        "\n",
        "`Una ventaja de la API lazy es que Polars comprobará el esquema antes de procesar cualquier dato. Esta verificación ocurre cuando ejecutamos nuestra consulta lazy.`\n",
        "\n",
        "`Vemos cómo funciona esto en el siguiente ejemplo donde llamamos a la expresión .round en la columna id del DataFrame que previamente hemos creado.El esquema juega un papel importante en la API lazy.`\n",
        "\n",
        "`Una ventaja de la API lazy es que Polars comprobará el esquema antes de procesar cualquier dato. Esta verificación ocurre cuando ejecutamos nuestra consulta lazy.`\n",
        "\n",
        "`Vemos cómo funciona esto en el siguiente ejemplo donde llamamos a la expresión .round en la columna id del DataFrame que previamente hemos creado.`"
      ]
    },
    {
      "cell_type": "code",
      "execution_count": 30,
      "metadata": {
        "colab": {
          "base_uri": "https://localhost:8080/",
          "height": 192
        },
        "id": "EA_ctdDET9OV",
        "outputId": "3e9b47ab-5383-4e6b-abfe-8a9f6c51a356"
      },
      "outputs": [
        {
          "output_type": "execute_result",
          "data": {
            "text/plain": [
              "shape: (3, 2)\n",
              "┌─────┬────────┐\n",
              "│ id  ┆ nombre │\n",
              "│ --- ┆ ---    │\n",
              "│ i64 ┆ str    │\n",
              "╞═════╪════════╡\n",
              "│ 1   ┆ Rosa   │\n",
              "│ 2   ┆ Ana    │\n",
              "│ 3   ┆ Pedro  │\n",
              "└─────┴────────┘"
            ],
            "text/html": [
              "<div><style>\n",
              ".dataframe > thead > tr,\n",
              ".dataframe > tbody > tr {\n",
              "  text-align: right;\n",
              "  white-space: pre-wrap;\n",
              "}\n",
              "</style>\n",
              "<small>shape: (3, 2)</small><table border=\"1\" class=\"dataframe\"><thead><tr><th>id</th><th>nombre</th></tr><tr><td>i64</td><td>str</td></tr></thead><tbody><tr><td>1</td><td>&quot;Rosa&quot;</td></tr><tr><td>2</td><td>&quot;Ana&quot;</td></tr><tr><td>3</td><td>&quot;Pedro&quot;</td></tr></tbody></table></div>"
            ]
          },
          "metadata": {},
          "execution_count": 30
        }
      ],
      "source": [
        "df_lazy.with_columns(pl.col('id').round(0)).collect()  ### redondeo columna id en o decimales"
      ]
    },
    {
      "cell_type": "markdown",
      "metadata": {
        "id": "KVA0Dz4JUJaX"
      },
      "source": [
        "`Los que ha sucedido es que la expresión .round solo es válida para columnas de tipo float. Llamar a .round en una columna de números enteros significa que la operación generará un error de tipo InvalidOperationError cuando evaluemos la consulta con collect. Esta verificación de esquema ocurre antes de que se procesen los datos cuando llamamos a collect.` = en pandas la funcion round es similar"
      ]
    },
    {
      "cell_type": "markdown",
      "metadata": {
        "id": "bAUmP_fnUPzF"
      },
      "source": [
        "\n",
        "# **<font color=\"#07a8ed\">Manejo de operaciones no disponibles en la API lazy**"
      ]
    },
    {
      "cell_type": "code",
      "execution_count": 31,
      "metadata": {
        "colab": {
          "base_uri": "https://localhost:8080/"
        },
        "id": "XiebyUFiU3ku",
        "outputId": "ccf74f82-7281-4a99-edcf-fc940b33052f"
      },
      "outputs": [
        {
          "output_type": "execute_result",
          "data": {
            "text/plain": [
              "['',\n",
              " 'precio',\n",
              " 'metros_totales',\n",
              " 'antiguedad',\n",
              " 'precio_terreno',\n",
              " 'metros_habitables',\n",
              " 'universitarios',\n",
              " 'dormitorios',\n",
              " 'baños',\n",
              " 'habitaciones',\n",
              " 'calefaccion',\n",
              " 'consumo_calefacion',\n",
              " 'desague',\n",
              " 'vistas_lago',\n",
              " 'nueva_construccion',\n",
              " 'aire_acondicionado']"
            ]
          },
          "metadata": {},
          "execution_count": 31
        }
      ],
      "source": [
        "casas.columns  ## detalle de columnas en dataset casas"
      ]
    },
    {
      "cell_type": "code",
      "execution_count": 32,
      "metadata": {
        "colab": {
          "base_uri": "https://localhost:8080/"
        },
        "id": "tMbNlN-EWDAZ",
        "outputId": "b7863d30-6361-460c-8fac-14840e36425a"
      },
      "outputs": [
        {
          "output_type": "stream",
          "name": "stderr",
          "text": [
            "<ipython-input-32-618eecbc7a58>:2: DeprecationWarning: The argument `columns` for `DataFrame.pivot` is deprecated. It has been renamed to `on`.\n",
            "  pl.scan_csv('https://raw.githubusercontent.com/VINY2030/datasets/refs/heads/main/SaratogaHouses.csv')\n"
          ]
        }
      ],
      "source": [
        "eager_query = (\n",
        "    pl.scan_csv('https://raw.githubusercontent.com/VINY2030/datasets/refs/heads/main/SaratogaHouses.csv')\n",
        "    .with_columns(\n",
        "        pl.col(\"antiguedad\").cast(pl.Int64) # Convert 'antiguedad' to Int64\n",
        "    )\n",
        "    .collect()\n",
        "    .pivot(   ## el lazy frame no tiene atributo pivot\n",
        "        index='antiguedad',\n",
        "        columns='calefaccion',\n",
        "        values='habitaciones',\n",
        "        aggregate_function='mean'\n",
        "    )\n",
        ")  ## cargue dataset eager con filtro columna antiguedad convertir la variable a Int64\n",
        "### el pivoteo no funciono en el lazyframe\n",
        "\n"
      ]
    },
    {
      "cell_type": "code",
      "execution_count": 33,
      "metadata": {
        "colab": {
          "base_uri": "https://localhost:8080/",
          "height": 221
        },
        "id": "N55BTb_3pnGp",
        "outputId": "5b72d41c-f697-405d-dfdb-77fd2b8b67a7"
      },
      "outputs": [
        {
          "output_type": "execute_result",
          "data": {
            "text/plain": [
              "polars.dataframe.frame.DataFrame"
            ],
            "text/html": [
              "<div style=\"max-width:800px; border: 1px solid var(--colab-border-color);\"><style>\n",
              "      pre.function-repr-contents {\n",
              "        overflow-x: auto;\n",
              "        padding: 8px 12px;\n",
              "        max-height: 500px;\n",
              "      }\n",
              "\n",
              "      pre.function-repr-contents.function-repr-contents-collapsed {\n",
              "        cursor: pointer;\n",
              "        max-height: 100px;\n",
              "      }\n",
              "    </style>\n",
              "    <pre style=\"white-space: initial; background:\n",
              "         var(--colab-secondary-surface-color); padding: 8px 12px;\n",
              "         border-bottom: 1px solid var(--colab-border-color);\"><b>polars.dataframe.frame.DataFrame</b><br/>def __init__(data: FrameInitTypes | None=None, schema: SchemaDefinition | None=None, *, schema_overrides: SchemaDict | None=None, strict: bool=True, orient: Orientation | None=None, infer_schema_length: int | None=N_INFER_DEFAULT, nan_to_null: bool=False) -&gt; None</pre><pre class=\"function-repr-contents function-repr-contents-collapsed\" style=\"\"><a class=\"filepath\" style=\"display:none\" href=\"#\">/usr/local/lib/python3.10/dist-packages/polars/dataframe/frame.py</a>Two-dimensional data structure representing data as a table with rows and columns.\n",
              "\n",
              "Parameters\n",
              "----------\n",
              "data : dict, Sequence, ndarray, Series, or pandas.DataFrame\n",
              "    Two-dimensional data in various forms; dict input must contain Sequences,\n",
              "    Generators, or a `range`. Sequence may contain Series or other Sequences.\n",
              "schema : Sequence of str, (str,DataType) pairs, or a {str:DataType,} dict\n",
              "    The schema of the resulting DataFrame. The schema may be declared in several\n",
              "    ways:\n",
              "\n",
              "    * As a dict of {name:type} pairs; if type is None, it will be auto-inferred.\n",
              "    * As a list of column names; in this case types are automatically inferred.\n",
              "    * As a list of (name,type) pairs; this is equivalent to the dictionary form.\n",
              "\n",
              "    If you supply a list of column names that does not match the names in the\n",
              "    underlying data, the names given here will overwrite them. The number\n",
              "    of names given in the schema should match the underlying data dimensions.\n",
              "\n",
              "    If set to `None` (default), the schema is inferred from the data.\n",
              "schema_overrides : dict, default None\n",
              "    Support type specification or override of one or more columns; note that\n",
              "    any dtypes inferred from the schema param will be overridden.\n",
              "\n",
              "    The number of entries in the schema should match the underlying data\n",
              "    dimensions, unless a sequence of dictionaries is being passed, in which case\n",
              "    a *partial* schema can be declared to prevent specific fields from being loaded.\n",
              "strict : bool, default True\n",
              "    Throw an error if any `data` value does not exactly match the given or inferred\n",
              "    data type for that column. If set to `False`, values that do not match the data\n",
              "    type are cast to that data type or, if casting is not possible, set to null\n",
              "    instead.\n",
              "orient : {&#x27;col&#x27;, &#x27;row&#x27;}, default None\n",
              "    Whether to interpret two-dimensional data as columns or as rows. If None,\n",
              "    the orientation is inferred by matching the columns and data dimensions. If\n",
              "    this does not yield conclusive results, column orientation is used.\n",
              "infer_schema_length : int or None\n",
              "    The maximum number of rows to scan for schema inference. If set to `None`, the\n",
              "    full data may be scanned *(this can be slow)*. This parameter only applies if\n",
              "    the input data is a sequence or generator of rows; other input is read as-is.\n",
              "nan_to_null : bool, default False\n",
              "    If the data comes from one or more numpy arrays, can optionally convert input\n",
              "    data np.nan values to null instead. This is a no-op for all other input data.\n",
              "\n",
              "Notes\n",
              "-----\n",
              "Polars explicitly does not support subclassing of its core data types. See\n",
              "the following GitHub issue for possible workarounds:\n",
              "https://github.com/pola-rs/polars/issues/2846#issuecomment-1711799869\n",
              "\n",
              "Examples\n",
              "--------\n",
              "Constructing a DataFrame from a dictionary:\n",
              "\n",
              "&gt;&gt;&gt; data = {&quot;a&quot;: [1, 2], &quot;b&quot;: [3, 4]}\n",
              "&gt;&gt;&gt; df = pl.DataFrame(data)\n",
              "&gt;&gt;&gt; df\n",
              "shape: (2, 2)\n",
              "┌─────┬─────┐\n",
              "│ a   ┆ b   │\n",
              "│ --- ┆ --- │\n",
              "│ i64 ┆ i64 │\n",
              "╞═════╪═════╡\n",
              "│ 1   ┆ 3   │\n",
              "│ 2   ┆ 4   │\n",
              "└─────┴─────┘\n",
              "\n",
              "Notice that the dtypes are automatically inferred as polars Int64:\n",
              "\n",
              "&gt;&gt;&gt; df.dtypes\n",
              "[Int64, Int64]\n",
              "\n",
              "To specify a more detailed/specific frame schema you can supply the `schema`\n",
              "parameter with a dictionary of (name,dtype) pairs...\n",
              "\n",
              "&gt;&gt;&gt; data = {&quot;col1&quot;: [0, 2], &quot;col2&quot;: [3, 7]}\n",
              "&gt;&gt;&gt; df2 = pl.DataFrame(data, schema={&quot;col1&quot;: pl.Float32, &quot;col2&quot;: pl.Int64})\n",
              "&gt;&gt;&gt; df2\n",
              "shape: (2, 2)\n",
              "┌──────┬──────┐\n",
              "│ col1 ┆ col2 │\n",
              "│ ---  ┆ ---  │\n",
              "│ f32  ┆ i64  │\n",
              "╞══════╪══════╡\n",
              "│ 0.0  ┆ 3    │\n",
              "│ 2.0  ┆ 7    │\n",
              "└──────┴──────┘\n",
              "\n",
              "...a sequence of (name,dtype) pairs...\n",
              "\n",
              "&gt;&gt;&gt; data = {&quot;col1&quot;: [1, 2], &quot;col2&quot;: [3, 4]}\n",
              "&gt;&gt;&gt; df3 = pl.DataFrame(data, schema=[(&quot;col1&quot;, pl.Float32), (&quot;col2&quot;, pl.Int64)])\n",
              "&gt;&gt;&gt; df3\n",
              "shape: (2, 2)\n",
              "┌──────┬──────┐\n",
              "│ col1 ┆ col2 │\n",
              "│ ---  ┆ ---  │\n",
              "│ f32  ┆ i64  │\n",
              "╞══════╪══════╡\n",
              "│ 1.0  ┆ 3    │\n",
              "│ 2.0  ┆ 4    │\n",
              "└──────┴──────┘\n",
              "\n",
              "...or a list of typed Series.\n",
              "\n",
              "&gt;&gt;&gt; data = [\n",
              "...     pl.Series(&quot;col1&quot;, [1, 2], dtype=pl.Float32),\n",
              "...     pl.Series(&quot;col2&quot;, [3, 4], dtype=pl.Int64),\n",
              "... ]\n",
              "&gt;&gt;&gt; df4 = pl.DataFrame(data)\n",
              "&gt;&gt;&gt; df4\n",
              "shape: (2, 2)\n",
              "┌──────┬──────┐\n",
              "│ col1 ┆ col2 │\n",
              "│ ---  ┆ ---  │\n",
              "│ f32  ┆ i64  │\n",
              "╞══════╪══════╡\n",
              "│ 1.0  ┆ 3    │\n",
              "│ 2.0  ┆ 4    │\n",
              "└──────┴──────┘\n",
              "\n",
              "Constructing a DataFrame from a numpy ndarray, specifying column names:\n",
              "\n",
              "&gt;&gt;&gt; import numpy as np\n",
              "&gt;&gt;&gt; data = np.array([(1, 2), (3, 4)], dtype=np.int64)\n",
              "&gt;&gt;&gt; df5 = pl.DataFrame(data, schema=[&quot;a&quot;, &quot;b&quot;], orient=&quot;col&quot;)\n",
              "&gt;&gt;&gt; df5\n",
              "shape: (2, 2)\n",
              "┌─────┬─────┐\n",
              "│ a   ┆ b   │\n",
              "│ --- ┆ --- │\n",
              "│ i64 ┆ i64 │\n",
              "╞═════╪═════╡\n",
              "│ 1   ┆ 3   │\n",
              "│ 2   ┆ 4   │\n",
              "└─────┴─────┘\n",
              "\n",
              "Constructing a DataFrame from a list of lists, row orientation specified:\n",
              "\n",
              "&gt;&gt;&gt; data = [[1, 2, 3], [4, 5, 6]]\n",
              "&gt;&gt;&gt; df6 = pl.DataFrame(data, schema=[&quot;a&quot;, &quot;b&quot;, &quot;c&quot;], orient=&quot;row&quot;)\n",
              "&gt;&gt;&gt; df6\n",
              "shape: (2, 3)\n",
              "┌─────┬─────┬─────┐\n",
              "│ a   ┆ b   ┆ c   │\n",
              "│ --- ┆ --- ┆ --- │\n",
              "│ i64 ┆ i64 ┆ i64 │\n",
              "╞═════╪═════╪═════╡\n",
              "│ 1   ┆ 2   ┆ 3   │\n",
              "│ 4   ┆ 5   ┆ 6   │\n",
              "└─────┴─────┴─────┘</pre>\n",
              "      <script>\n",
              "      if (google.colab.kernel.accessAllowed && google.colab.files && google.colab.files.view) {\n",
              "        for (const element of document.querySelectorAll('.filepath')) {\n",
              "          element.style.display = 'block'\n",
              "          element.onclick = (event) => {\n",
              "            event.preventDefault();\n",
              "            event.stopPropagation();\n",
              "            google.colab.files.view(element.textContent, 186);\n",
              "          };\n",
              "        }\n",
              "      }\n",
              "      for (const element of document.querySelectorAll('.function-repr-contents')) {\n",
              "        element.onclick = (event) => {\n",
              "          event.preventDefault();\n",
              "          event.stopPropagation();\n",
              "          element.classList.toggle('function-repr-contents-collapsed');\n",
              "        };\n",
              "      }\n",
              "      </script>\n",
              "      </div>"
            ]
          },
          "metadata": {},
          "execution_count": 33
        }
      ],
      "source": [
        "type(eager_query)"
      ]
    },
    {
      "cell_type": "code",
      "execution_count": 34,
      "metadata": {
        "colab": {
          "base_uri": "https://localhost:8080/",
          "height": 443
        },
        "id": "XsFmEY79flap",
        "outputId": "f6250a92-c1fa-49cf-e830-c4d673adef3a"
      },
      "outputs": [
        {
          "output_type": "execute_result",
          "data": {
            "text/plain": [
              "shape: (136, 4)\n",
              "┌────────────┬──────────┬─────────────────┬──────────┐\n",
              "│ antiguedad ┆ electric ┆ hot water/steam ┆ hot air  │\n",
              "│ ---        ┆ ---      ┆ ---             ┆ ---      │\n",
              "│ i64        ┆ f64      ┆ f64             ┆ f64      │\n",
              "╞════════════╪══════════╪═════════════════╪══════════╡\n",
              "│ 42         ┆ 5.0      ┆ 7.0             ┆ 6.5      │\n",
              "│ 0          ┆ null     ┆ 7.0             ┆ 8.765432 │\n",
              "│ 133        ┆ null     ┆ 9.5             ┆ null     │\n",
              "│ 13         ┆ 6.666667 ┆ 8.75            ┆ 7.068966 │\n",
              "│ 31         ┆ null     ┆ 7.5             ┆ 7.076923 │\n",
              "│ …          ┆ …        ┆ …               ┆ …        │\n",
              "│ 155        ┆ null     ┆ 3.0             ┆ null     │\n",
              "│ 149        ┆ null     ┆ null            ┆ 8.0      │\n",
              "│ 106        ┆ null     ┆ null            ┆ 7.0      │\n",
              "│ 176        ┆ null     ┆ 12.0            ┆ null     │\n",
              "│ 86         ┆ null     ┆ null            ┆ 6.0      │\n",
              "└────────────┴──────────┴─────────────────┴──────────┘"
            ],
            "text/html": [
              "<div><style>\n",
              ".dataframe > thead > tr,\n",
              ".dataframe > tbody > tr {\n",
              "  text-align: right;\n",
              "  white-space: pre-wrap;\n",
              "}\n",
              "</style>\n",
              "<small>shape: (136, 4)</small><table border=\"1\" class=\"dataframe\"><thead><tr><th>antiguedad</th><th>electric</th><th>hot water/steam</th><th>hot air</th></tr><tr><td>i64</td><td>f64</td><td>f64</td><td>f64</td></tr></thead><tbody><tr><td>42</td><td>5.0</td><td>7.0</td><td>6.5</td></tr><tr><td>0</td><td>null</td><td>7.0</td><td>8.765432</td></tr><tr><td>133</td><td>null</td><td>9.5</td><td>null</td></tr><tr><td>13</td><td>6.666667</td><td>8.75</td><td>7.068966</td></tr><tr><td>31</td><td>null</td><td>7.5</td><td>7.076923</td></tr><tr><td>&hellip;</td><td>&hellip;</td><td>&hellip;</td><td>&hellip;</td></tr><tr><td>155</td><td>null</td><td>3.0</td><td>null</td></tr><tr><td>149</td><td>null</td><td>null</td><td>8.0</td></tr><tr><td>106</td><td>null</td><td>null</td><td>7.0</td></tr><tr><td>176</td><td>null</td><td>12.0</td><td>null</td></tr><tr><td>86</td><td>null</td><td>null</td><td>6.0</td></tr></tbody></table></div>"
            ]
          },
          "metadata": {},
          "execution_count": 34
        }
      ],
      "source": [
        "eager_query  ## detalle eager_query"
      ]
    },
    {
      "cell_type": "code",
      "execution_count": 35,
      "metadata": {
        "id": "jbwqtrG0fruv"
      },
      "outputs": [],
      "source": [
        "lazy_eager_query = (\n",
        "    pl.scan_csv('https://raw.githubusercontent.com/VINY2030/datasets/refs/heads/main/SaratogaHouses.csv')\n",
        "    .with_columns(\n",
        "        pl.col(\"antiguedad\").cast(pl.Int64) # Convert 'antiguedad' to Int64\n",
        "    )\n",
        "    .collect()\n",
        ").lazy()  ## cargue dataset eager con filtro columna antiguedad convertir la variable a Int64\n"
      ]
    },
    {
      "cell_type": "code",
      "execution_count": 36,
      "metadata": {
        "colab": {
          "base_uri": "https://localhost:8080/",
          "height": 168
        },
        "id": "Pr9uwyCMp7EM",
        "outputId": "eb6e3e7c-bced-48d8-e338-dd0adae3a9c2"
      },
      "outputs": [
        {
          "output_type": "execute_result",
          "data": {
            "text/plain": [
              "<LazyFrame at 0x7C701402E9E0>"
            ],
            "text/html": [
              "<h4>NAIVE QUERY PLAN</h4><p>run <b>LazyFrame.show_graph()</b> to see the optimized version</p><?xml version=\"1.0\" encoding=\"UTF-8\" standalone=\"no\"?>\n",
              "<!DOCTYPE svg PUBLIC \"-//W3C//DTD SVG 1.1//EN\"\n",
              " \"http://www.w3.org/Graphics/SVG/1.1/DTD/svg11.dtd\">\n",
              "<!-- Generated by graphviz version 2.43.0 (0)\n",
              " -->\n",
              "<!-- Title: polars_query Pages: 1 -->\n",
              "<svg width=\"67pt\" height=\"61pt\"\n",
              " viewBox=\"0.00 0.00 67.00 61.00\" xmlns=\"http://www.w3.org/2000/svg\" xmlns:xlink=\"http://www.w3.org/1999/xlink\">\n",
              "<g id=\"graph0\" class=\"graph\" transform=\"scale(1 1) rotate(0) translate(4 57)\">\n",
              "<title>polars_query</title>\n",
              "<polygon fill=\"white\" stroke=\"transparent\" points=\"-4,4 -4,-57 63,-57 63,4 -4,4\"/>\n",
              "<!-- p1 -->\n",
              "<g id=\"node1\" class=\"node\">\n",
              "<title>p1</title>\n",
              "<polygon fill=\"none\" stroke=\"black\" points=\"59,-53 0,-53 0,0 59,0 59,-53\"/>\n",
              "<text text-anchor=\"middle\" x=\"29.5\" y=\"-37.8\" font-family=\"Times,serif\" font-size=\"14.00\">TABLE</text>\n",
              "<text text-anchor=\"middle\" x=\"29.5\" y=\"-22.8\" font-family=\"Times,serif\" font-size=\"14.00\">π */16;</text>\n",
              "<text text-anchor=\"middle\" x=\"29.5\" y=\"-7.8\" font-family=\"Times,serif\" font-size=\"14.00\">σ None</text>\n",
              "</g>\n",
              "</g>\n",
              "</svg>\n"
            ]
          },
          "metadata": {},
          "execution_count": 36
        }
      ],
      "source": [
        "lazy_eager_query  ## detalle lazy_eager_query   es lazy frame"
      ]
    },
    {
      "cell_type": "code",
      "execution_count": 37,
      "metadata": {
        "colab": {
          "base_uri": "https://localhost:8080/",
          "height": 221
        },
        "id": "RuU6uonkp2R3",
        "outputId": "0ef43c79-0666-46ad-e516-ddddd0e08bee"
      },
      "outputs": [
        {
          "output_type": "execute_result",
          "data": {
            "text/plain": [
              "polars.lazyframe.frame.LazyFrame"
            ],
            "text/html": [
              "<div style=\"max-width:800px; border: 1px solid var(--colab-border-color);\"><style>\n",
              "      pre.function-repr-contents {\n",
              "        overflow-x: auto;\n",
              "        padding: 8px 12px;\n",
              "        max-height: 500px;\n",
              "      }\n",
              "\n",
              "      pre.function-repr-contents.function-repr-contents-collapsed {\n",
              "        cursor: pointer;\n",
              "        max-height: 100px;\n",
              "      }\n",
              "    </style>\n",
              "    <pre style=\"white-space: initial; background:\n",
              "         var(--colab-secondary-surface-color); padding: 8px 12px;\n",
              "         border-bottom: 1px solid var(--colab-border-color);\"><b>polars.lazyframe.frame.LazyFrame</b><br/>def __init__(data: FrameInitTypes | None=None, schema: SchemaDefinition | None=None, *, schema_overrides: SchemaDict | None=None, strict: bool=True, orient: Orientation | None=None, infer_schema_length: int | None=N_INFER_DEFAULT, nan_to_null: bool=False) -&gt; None</pre><pre class=\"function-repr-contents function-repr-contents-collapsed\" style=\"\"><a class=\"filepath\" style=\"display:none\" href=\"#\">/usr/local/lib/python3.10/dist-packages/polars/lazyframe/frame.py</a>Representation of a Lazy computation graph/query against a DataFrame.\n",
              "\n",
              "This allows for whole-query optimisation in addition to parallelism, and\n",
              "is the preferred (and highest-performance) mode of operation for polars.\n",
              "\n",
              "Parameters\n",
              "----------\n",
              "data : dict, Sequence, ndarray, Series, or pandas.DataFrame\n",
              "    Two-dimensional data in various forms; dict input must contain Sequences,\n",
              "    Generators, or a `range`. Sequence may contain Series or other Sequences.\n",
              "schema : Sequence of str, (str,DataType) pairs, or a {str:DataType,} dict\n",
              "    The LazyFrame schema may be declared in several ways:\n",
              "\n",
              "    * As a dict of {name:type} pairs; if type is None, it will be auto-inferred.\n",
              "    * As a list of column names; in this case types are automatically inferred.\n",
              "    * As a list of (name,type) pairs; this is equivalent to the dictionary form.\n",
              "\n",
              "    If you supply a list of column names that does not match the names in the\n",
              "    underlying data, the names given here will overwrite them. The number\n",
              "    of names given in the schema should match the underlying data dimensions.\n",
              "schema_overrides : dict, default None\n",
              "    Support type specification or override of one or more columns; note that\n",
              "    any dtypes inferred from the schema param will be overridden.\n",
              "\n",
              "    The number of entries in the schema should match the underlying data\n",
              "    dimensions, unless a sequence of dictionaries is being passed, in which case\n",
              "    a *partial* schema can be declared to prevent specific fields from being loaded.\n",
              "strict : bool, default True\n",
              "    Throw an error if any `data` value does not exactly match the given or inferred\n",
              "    data type for that column. If set to `False`, values that do not match the data\n",
              "    type are cast to that data type or, if casting is not possible, set to null\n",
              "    instead.\n",
              "orient : {&#x27;col&#x27;, &#x27;row&#x27;}, default None\n",
              "    Whether to interpret two-dimensional data as columns or as rows. If None,\n",
              "    the orientation is inferred by matching the columns and data dimensions. If\n",
              "    this does not yield conclusive results, column orientation is used.\n",
              "infer_schema_length : int or None\n",
              "    The maximum number of rows to scan for schema inference. If set to `None`, the\n",
              "    full data may be scanned *(this can be slow)*. This parameter only applies if\n",
              "    the input data is a sequence or generator of rows; other input is read as-is.\n",
              "nan_to_null : bool, default False\n",
              "    If the data comes from one or more numpy arrays, can optionally convert input\n",
              "    data np.nan values to null instead. This is a no-op for all other input data.\n",
              "\n",
              "Notes\n",
              "-----\n",
              "Initialising `LazyFrame(...)` directly is equivalent to `DataFrame(...).lazy()`.\n",
              "\n",
              "Examples\n",
              "--------\n",
              "Constructing a LazyFrame directly from a dictionary:\n",
              "\n",
              "&gt;&gt;&gt; data = {&quot;a&quot;: [1, 2], &quot;b&quot;: [3, 4]}\n",
              "&gt;&gt;&gt; lf = pl.LazyFrame(data)\n",
              "&gt;&gt;&gt; lf.collect()\n",
              "shape: (2, 2)\n",
              "┌─────┬─────┐\n",
              "│ a   ┆ b   │\n",
              "│ --- ┆ --- │\n",
              "│ i64 ┆ i64 │\n",
              "╞═════╪═════╡\n",
              "│ 1   ┆ 3   │\n",
              "│ 2   ┆ 4   │\n",
              "└─────┴─────┘\n",
              "\n",
              "Notice that the dtypes are automatically inferred as Polars Int64:\n",
              "\n",
              "&gt;&gt;&gt; lf.collect_schema().dtypes()\n",
              "[Int64, Int64]\n",
              "\n",
              "To specify a more detailed/specific frame schema you can supply the `schema`\n",
              "parameter with a dictionary of (name,dtype) pairs...\n",
              "\n",
              "&gt;&gt;&gt; data = {&quot;col1&quot;: [0, 2], &quot;col2&quot;: [3, 7]}\n",
              "&gt;&gt;&gt; lf2 = pl.LazyFrame(data, schema={&quot;col1&quot;: pl.Float32, &quot;col2&quot;: pl.Int64})\n",
              "&gt;&gt;&gt; lf2.collect()\n",
              "shape: (2, 2)\n",
              "┌──────┬──────┐\n",
              "│ col1 ┆ col2 │\n",
              "│ ---  ┆ ---  │\n",
              "│ f32  ┆ i64  │\n",
              "╞══════╪══════╡\n",
              "│ 0.0  ┆ 3    │\n",
              "│ 2.0  ┆ 7    │\n",
              "└──────┴──────┘\n",
              "\n",
              "...a sequence of (name,dtype) pairs...\n",
              "\n",
              "&gt;&gt;&gt; data = {&quot;col1&quot;: [1, 2], &quot;col2&quot;: [3, 4]}\n",
              "&gt;&gt;&gt; lf3 = pl.LazyFrame(data, schema=[(&quot;col1&quot;, pl.Float32), (&quot;col2&quot;, pl.Int64)])\n",
              "&gt;&gt;&gt; lf3.collect()\n",
              "shape: (2, 2)\n",
              "┌──────┬──────┐\n",
              "│ col1 ┆ col2 │\n",
              "│ ---  ┆ ---  │\n",
              "│ f32  ┆ i64  │\n",
              "╞══════╪══════╡\n",
              "│ 1.0  ┆ 3    │\n",
              "│ 2.0  ┆ 4    │\n",
              "└──────┴──────┘\n",
              "\n",
              "...or a list of typed Series.\n",
              "\n",
              "&gt;&gt;&gt; data = [\n",
              "...     pl.Series(&quot;col1&quot;, [1, 2], dtype=pl.Float32),\n",
              "...     pl.Series(&quot;col2&quot;, [3, 4], dtype=pl.Int64),\n",
              "... ]\n",
              "&gt;&gt;&gt; lf4 = pl.LazyFrame(data)\n",
              "&gt;&gt;&gt; lf4.collect()\n",
              "shape: (2, 2)\n",
              "┌──────┬──────┐\n",
              "│ col1 ┆ col2 │\n",
              "│ ---  ┆ ---  │\n",
              "│ f32  ┆ i64  │\n",
              "╞══════╪══════╡\n",
              "│ 1.0  ┆ 3    │\n",
              "│ 2.0  ┆ 4    │\n",
              "└──────┴──────┘\n",
              "\n",
              "Constructing a LazyFrame from a numpy ndarray, specifying column names:\n",
              "\n",
              "&gt;&gt;&gt; import numpy as np\n",
              "&gt;&gt;&gt; data = np.array([(1, 2), (3, 4)], dtype=np.int64)\n",
              "&gt;&gt;&gt; lf5 = pl.LazyFrame(data, schema=[&quot;a&quot;, &quot;b&quot;], orient=&quot;col&quot;)\n",
              "&gt;&gt;&gt; lf5.collect()\n",
              "shape: (2, 2)\n",
              "┌─────┬─────┐\n",
              "│ a   ┆ b   │\n",
              "│ --- ┆ --- │\n",
              "│ i64 ┆ i64 │\n",
              "╞═════╪═════╡\n",
              "│ 1   ┆ 3   │\n",
              "│ 2   ┆ 4   │\n",
              "└─────┴─────┘\n",
              "\n",
              "Constructing a LazyFrame from a list of lists, row orientation specified:\n",
              "\n",
              "&gt;&gt;&gt; data = [[1, 2, 3], [4, 5, 6]]\n",
              "&gt;&gt;&gt; lf6 = pl.LazyFrame(data, schema=[&quot;a&quot;, &quot;b&quot;, &quot;c&quot;], orient=&quot;row&quot;)\n",
              "&gt;&gt;&gt; lf6.collect()\n",
              "shape: (2, 3)\n",
              "┌─────┬─────┬─────┐\n",
              "│ a   ┆ b   ┆ c   │\n",
              "│ --- ┆ --- ┆ --- │\n",
              "│ i64 ┆ i64 ┆ i64 │\n",
              "╞═════╪═════╪═════╡\n",
              "│ 1   ┆ 2   ┆ 3   │\n",
              "│ 4   ┆ 5   ┆ 6   │\n",
              "└─────┴─────┴─────┘</pre>\n",
              "      <script>\n",
              "      if (google.colab.kernel.accessAllowed && google.colab.files && google.colab.files.view) {\n",
              "        for (const element of document.querySelectorAll('.filepath')) {\n",
              "          element.style.display = 'block'\n",
              "          element.onclick = (event) => {\n",
              "            event.preventDefault();\n",
              "            event.stopPropagation();\n",
              "            google.colab.files.view(element.textContent, 139);\n",
              "          };\n",
              "        }\n",
              "      }\n",
              "      for (const element of document.querySelectorAll('.function-repr-contents')) {\n",
              "        element.onclick = (event) => {\n",
              "          event.preventDefault();\n",
              "          event.stopPropagation();\n",
              "          element.classList.toggle('function-repr-contents-collapsed');\n",
              "        };\n",
              "      }\n",
              "      </script>\n",
              "      </div>"
            ]
          },
          "metadata": {},
          "execution_count": 37
        }
      ],
      "source": [
        "type(lazy_eager_query)"
      ]
    },
    {
      "cell_type": "code",
      "execution_count": 38,
      "metadata": {
        "colab": {
          "base_uri": "https://localhost:8080/"
        },
        "id": "YYW-YMThWRKO",
        "outputId": "dd5d3e02-2937-4235-b619-bc637bd28656"
      },
      "outputs": [
        {
          "output_type": "stream",
          "name": "stdout",
          "text": [
            "shape: (1_728, 16)\n",
            "┌──────┬────────┬─────────────┬────────────┬───┬────────────┬────────────┬────────────┬────────────┐\n",
            "│      ┆ precio ┆ metros_tota ┆ antiguedad ┆ … ┆ desague    ┆ vistas_lag ┆ nueva_cons ┆ aire_acond │\n",
            "│ ---  ┆ ---    ┆ les         ┆ ---        ┆   ┆ ---        ┆ o          ┆ truccion   ┆ icionado   │\n",
            "│ i64  ┆ i64    ┆ ---         ┆ i64        ┆   ┆ str        ┆ ---        ┆ ---        ┆ ---        │\n",
            "│      ┆        ┆ f64         ┆            ┆   ┆            ┆ str        ┆ str        ┆ str        │\n",
            "╞══════╪════════╪═════════════╪════════════╪═══╪════════════╪════════════╪════════════╪════════════╡\n",
            "│ 0    ┆ 132500 ┆ 0.09        ┆ 42         ┆ … ┆ septic     ┆ No         ┆ No         ┆ No         │\n",
            "│ 1    ┆ 181115 ┆ 0.92        ┆ 0          ┆ … ┆ septic     ┆ No         ┆ No         ┆ No         │\n",
            "│ 2    ┆ 109000 ┆ 0.19        ┆ 133        ┆ … ┆ public/com ┆ No         ┆ No         ┆ No         │\n",
            "│      ┆        ┆             ┆            ┆   ┆ mercial    ┆            ┆            ┆            │\n",
            "│ 3    ┆ 155000 ┆ 0.41        ┆ 13         ┆ … ┆ septic     ┆ No         ┆ No         ┆ No         │\n",
            "│ 4    ┆ 86060  ┆ 0.11        ┆ 0          ┆ … ┆ public/com ┆ No         ┆ Yes        ┆ Yes        │\n",
            "│      ┆        ┆             ┆            ┆   ┆ mercial    ┆            ┆            ┆            │\n",
            "│ …    ┆ …      ┆ …           ┆ …          ┆ … ┆ …          ┆ …          ┆ …          ┆ …          │\n",
            "│ 1723 ┆ 289000 ┆ 0.38        ┆ 32         ┆ … ┆ public/com ┆ No         ┆ No         ┆ No         │\n",
            "│      ┆        ┆             ┆            ┆   ┆ mercial    ┆            ┆            ┆            │\n",
            "│ 1724 ┆ 285000 ┆ 0.94        ┆ 37         ┆ … ┆ public/com ┆ No         ┆ No         ┆ No         │\n",
            "│      ┆        ┆             ┆            ┆   ┆ mercial    ┆            ┆            ┆            │\n",
            "│ 1725 ┆ 194900 ┆ 0.39        ┆ 9          ┆ … ┆ public/com ┆ No         ┆ No         ┆ No         │\n",
            "│      ┆        ┆             ┆            ┆   ┆ mercial    ┆            ┆            ┆            │\n",
            "│ 1726 ┆ 125000 ┆ 0.24        ┆ 48         ┆ … ┆ public/com ┆ No         ┆ No         ┆ No         │\n",
            "│      ┆        ┆             ┆            ┆   ┆ mercial    ┆            ┆            ┆            │\n",
            "│ 1727 ┆ 111300 ┆ 0.59        ┆ 86         ┆ … ┆ septic     ┆ No         ┆ No         ┆ No         │\n",
            "└──────┴────────┴─────────────┴────────────┴───┴────────────┴────────────┴────────────┴────────────┘\n"
          ]
        }
      ],
      "source": [
        "print(lazy_eager_query.collect()) ##leo el dataframe lazy con collect()"
      ]
    },
    {
      "cell_type": "markdown",
      "metadata": {
        "id": "J5binbvpZ7DK"
      },
      "source": [
        "\n",
        "# **<font color=\"#07a8ed\">Pan de ejecucion de una consulta en la  API lazy**"
      ]
    },
    {
      "cell_type": "markdown",
      "metadata": {
        "id": "e4ok9dH0aEr1"
      },
      "source": [
        "## **Plan de consulta**\n",
        "`Para cualquier consulta lazy, Polars tiene ambos:`\n",
        "\n",
        "`Un plan no optimizado: este contiene el conjunto de pasos en código que le proporcionamos.`\n",
        "`Un plan optimizado: que contiene cambios realizados por el optimizador de consultas`\n",
        "\n",
        "`= en Pandas la el metodo query es similar.`\n",
        "`= en Pandas NO existe el lazy frame.`\n",
        "\n",
        "\n",
        "\n",
        "\n",
        "\n",
        "\n",
        "\n",
        "\n",
        "\n",
        "\n"
      ]
    },
    {
      "cell_type": "code",
      "execution_count": 39,
      "metadata": {
        "colab": {
          "base_uri": "https://localhost:8080/"
        },
        "id": "d4AFsyKzbHOg",
        "outputId": "439b832c-4d18-4ca6-9c12-d9c8d8d7a8f7"
      },
      "outputs": [
        {
          "output_type": "execute_result",
          "data": {
            "text/plain": [
              "['',\n",
              " 'precio',\n",
              " 'metros_totales',\n",
              " 'antiguedad',\n",
              " 'precio_terreno',\n",
              " 'metros_habitables',\n",
              " 'universitarios',\n",
              " 'dormitorios',\n",
              " 'baños',\n",
              " 'habitaciones',\n",
              " 'calefaccion',\n",
              " 'consumo_calefacion',\n",
              " 'desague',\n",
              " 'vistas_lago',\n",
              " 'nueva_construccion',\n",
              " 'aire_acondicionado']"
            ]
          },
          "metadata": {},
          "execution_count": 39
        }
      ],
      "source": [
        "casas.columns  ## columnas"
      ]
    },
    {
      "cell_type": "code",
      "execution_count": 40,
      "metadata": {
        "id": "dOew5W7sbbs3"
      },
      "outputs": [],
      "source": [
        "\n",
        "query = (\n",
        "    pl.scan_csv('https://raw.githubusercontent.com/VINY2030/datasets/refs/heads/main/SaratogaHouses.csv')\n",
        "    .filter(pl.col('antiguedad') > 10)  ## filtra por antiguedad mayor a 10 años\n",
        "    .group_by('precio')\n",
        "    .agg(media_precio=pl.col('precio').mean(),\n",
        "         media_habitaciones=pl.col('habitaciones').mean()) # Calcula la media de las habitaciones dentro del grupo\n",
        "    )"
      ]
    },
    {
      "cell_type": "code",
      "execution_count": null,
      "metadata": {
        "colab": {
          "base_uri": "https://localhost:8080/",
          "height": 363
        },
        "id": "ViFG2GaYqJmf",
        "outputId": "cb109f19-5ca1-44a4-8a5a-9151cca3f5ec"
      },
      "outputs": [
        {
          "data": {
            "text/html": [
              "<h4>NAIVE QUERY PLAN</h4><p>run <b>LazyFrame.show_graph()</b> to see the optimized version</p><?xml version=\"1.0\" encoding=\"UTF-8\" standalone=\"no\"?>\n",
              "<!DOCTYPE svg PUBLIC \"-//W3C//DTD SVG 1.1//EN\"\n",
              " \"http://www.w3.org/Graphics/SVG/1.1/DTD/svg11.dtd\">\n",
              "<!-- Generated by graphviz version 2.43.0 (0)\n",
              " -->\n",
              "<!-- Title: polars_query Pages: 1 -->\n",
              "<svg width=\"617pt\" height=\"207pt\"\n",
              " viewBox=\"0.00 0.00 617.00 207.00\" xmlns=\"http://www.w3.org/2000/svg\" xmlns:xlink=\"http://www.w3.org/1999/xlink\">\n",
              "<g id=\"graph0\" class=\"graph\" transform=\"scale(1 1) rotate(0) translate(4 203)\">\n",
              "<title>polars_query</title>\n",
              "<polygon fill=\"white\" stroke=\"transparent\" points=\"-4,4 -4,-203 613,-203 613,4 -4,4\"/>\n",
              "<!-- p1 -->\n",
              "<g id=\"node1\" class=\"node\">\n",
              "<title>p1</title>\n",
              "<polygon fill=\"none\" stroke=\"black\" points=\"609,-199 0,-199 0,-146 609,-146 609,-199\"/>\n",
              "<text text-anchor=\"middle\" x=\"304.5\" y=\"-183.8\" font-family=\"Times,serif\" font-size=\"14.00\">AGG [col(&quot;precio&quot;).mean().alias(&quot;media_precio&quot;), col(&quot;habitaciones&quot;).mean().alias(&quot;media_habitaciones&quot;)]</text>\n",
              "<text text-anchor=\"middle\" x=\"304.5\" y=\"-168.8\" font-family=\"Times,serif\" font-size=\"14.00\">BY</text>\n",
              "<text text-anchor=\"middle\" x=\"304.5\" y=\"-153.8\" font-family=\"Times,serif\" font-size=\"14.00\">[col(&quot;precio&quot;)]</text>\n",
              "</g>\n",
              "<!-- p2 -->\n",
              "<g id=\"node2\" class=\"node\">\n",
              "<title>p2</title>\n",
              "<polygon fill=\"none\" stroke=\"black\" points=\"425,-110 184,-110 184,-74 425,-74 425,-110\"/>\n",
              "<text text-anchor=\"middle\" x=\"304.5\" y=\"-88.3\" font-family=\"Times,serif\" font-size=\"14.00\">FILTER BY [(col(&quot;antiguedad&quot;)) &gt; (10)]</text>\n",
              "</g>\n",
              "<!-- p1&#45;&#45;p2 -->\n",
              "<g id=\"edge1\" class=\"edge\">\n",
              "<title>p1&#45;&#45;p2</title>\n",
              "<path fill=\"none\" stroke=\"black\" d=\"M304.5,-145.8C304.5,-134.17 304.5,-120.74 304.5,-110.33\"/>\n",
              "</g>\n",
              "<!-- p3 -->\n",
              "<g id=\"node3\" class=\"node\">\n",
              "<title>p3</title>\n",
              "<polygon fill=\"none\" stroke=\"black\" points=\"599,-38 10,-38 10,0 599,0 599,-38\"/>\n",
              "<text text-anchor=\"middle\" x=\"304.5\" y=\"-22.8\" font-family=\"Times,serif\" font-size=\"14.00\">Csv SCAN [https://raw.githubusercontent.com/VINY2030/datasets/refs/heads/main/SaratogaHouses.csv]</text>\n",
              "<text text-anchor=\"middle\" x=\"304.5\" y=\"-7.8\" font-family=\"Times,serif\" font-size=\"14.00\">π */16;</text>\n",
              "</g>\n",
              "<!-- p2&#45;&#45;p3 -->\n",
              "<g id=\"edge2\" class=\"edge\">\n",
              "<title>p2&#45;&#45;p3</title>\n",
              "<path fill=\"none\" stroke=\"black\" d=\"M304.5,-73.81C304.5,-62.98 304.5,-49.01 304.5,-38.02\"/>\n",
              "</g>\n",
              "</g>\n",
              "</svg>\n"
            ],
            "text/plain": [
              "<LazyFrame at 0x7EB0E21477C0>"
            ]
          },
          "execution_count": 45,
          "metadata": {},
          "output_type": "execute_result"
        }
      ],
      "source": [
        "query ## detalle del lazy frame"
      ]
    },
    {
      "cell_type": "code",
      "execution_count": 41,
      "metadata": {
        "colab": {
          "base_uri": "https://localhost:8080/",
          "height": 443
        },
        "id": "7Akp_1P9cIIe",
        "outputId": "604e9f22-4ef6-46b8-d21f-17cc52277fcd"
      },
      "outputs": [
        {
          "output_type": "execute_result",
          "data": {
            "text/plain": [
              "shape: (551, 3)\n",
              "┌────────┬──────────────┬────────────────────┐\n",
              "│ precio ┆ media_precio ┆ media_habitaciones │\n",
              "│ ---    ┆ ---          ┆ ---                │\n",
              "│ i64    ┆ f64          ┆ f64                │\n",
              "╞════════╪══════════════╪════════════════════╡\n",
              "│ 299000 ┆ 299000.0     ┆ 5.0                │\n",
              "│ 97000  ┆ 97000.0      ┆ 4.75               │\n",
              "│ 217500 ┆ 217500.0     ┆ 8.0                │\n",
              "│ 392499 ┆ 392499.0     ┆ 11.0               │\n",
              "│ 113000 ┆ 113000.0     ┆ 7.5                │\n",
              "│ …      ┆ …            ┆ …                  │\n",
              "│ 150600 ┆ 150600.0     ┆ 7.0                │\n",
              "│ 332000 ┆ 332000.0     ┆ 11.0               │\n",
              "│ 178000 ┆ 178000.0     ┆ 6.0                │\n",
              "│ 107325 ┆ 107325.0     ┆ 7.0                │\n",
              "│ 156900 ┆ 156900.0     ┆ 5.0                │\n",
              "└────────┴──────────────┴────────────────────┘"
            ],
            "text/html": [
              "<div><style>\n",
              ".dataframe > thead > tr,\n",
              ".dataframe > tbody > tr {\n",
              "  text-align: right;\n",
              "  white-space: pre-wrap;\n",
              "}\n",
              "</style>\n",
              "<small>shape: (551, 3)</small><table border=\"1\" class=\"dataframe\"><thead><tr><th>precio</th><th>media_precio</th><th>media_habitaciones</th></tr><tr><td>i64</td><td>f64</td><td>f64</td></tr></thead><tbody><tr><td>299000</td><td>299000.0</td><td>5.0</td></tr><tr><td>97000</td><td>97000.0</td><td>4.75</td></tr><tr><td>217500</td><td>217500.0</td><td>8.0</td></tr><tr><td>392499</td><td>392499.0</td><td>11.0</td></tr><tr><td>113000</td><td>113000.0</td><td>7.5</td></tr><tr><td>&hellip;</td><td>&hellip;</td><td>&hellip;</td></tr><tr><td>150600</td><td>150600.0</td><td>7.0</td></tr><tr><td>332000</td><td>332000.0</td><td>11.0</td></tr><tr><td>178000</td><td>178000.0</td><td>6.0</td></tr><tr><td>107325</td><td>107325.0</td><td>7.0</td></tr><tr><td>156900</td><td>156900.0</td><td>5.0</td></tr></tbody></table></div>"
            ]
          },
          "metadata": {},
          "execution_count": 41
        }
      ],
      "source": [
        "query.collect()  ## consulta lazy ejecutada"
      ]
    },
    {
      "cell_type": "markdown",
      "metadata": {
        "id": "qvVPAgVlaceG"
      },
      "source": [
        "`Primero visualizaremos el plan no optimizado con la función show_graph estableciendo el parámetro optimized=False.` = en Pandas no existe esta funcion\n",
        "\n",
        "Nota Importante:\n",
        "\n",
        "`Para visualizar los gráficos será necesario instalar la librería graphviz la cual la podemos instalar ejecutando en una celda de código el comando pip install graphviz. Además, necesitará instalar el programa graphviz en su sistema operativo`."
      ]
    },
    {
      "cell_type": "code",
      "execution_count": 42,
      "metadata": {
        "colab": {
          "base_uri": "https://localhost:8080/"
        },
        "id": "eH-l2sbSag2f",
        "outputId": "370cfb07-d39f-4598-fca4-d6850586b81f"
      },
      "outputs": [
        {
          "output_type": "stream",
          "name": "stdout",
          "text": [
            "Requirement already satisfied: graphviz in /usr/local/lib/python3.10/dist-packages (0.20.3)\n"
          ]
        }
      ],
      "source": [
        "!pip3 install graphviz  ## instalacion de graphivz para lectura del lazy frame"
      ]
    },
    {
      "cell_type": "code",
      "execution_count": 43,
      "metadata": {
        "colab": {
          "base_uri": "https://localhost:8080/",
          "height": 298
        },
        "id": "jkYucSijb0WX",
        "outputId": "47508c64-6acb-48fa-a692-edff6518a844"
      },
      "outputs": [
        {
          "output_type": "display_data",
          "data": {
            "text/plain": [
              "<IPython.core.display.SVG object>"
            ],
            "image/svg+xml": "<svg xmlns=\"http://www.w3.org/2000/svg\" xmlns:xlink=\"http://www.w3.org/1999/xlink\" width=\"617pt\" height=\"207pt\" viewBox=\"0.00 0.00 617.00 207.00\">\n<g id=\"graph0\" class=\"graph\" transform=\"scale(1 1) rotate(0) translate(4 203)\">\n<title>polars_query</title>\n<polygon fill=\"white\" stroke=\"transparent\" points=\"-4,4 -4,-203 613,-203 613,4 -4,4\"/>\n<!-- p1 -->\n<g id=\"node1\" class=\"node\">\n<title>p1</title>\n<polygon fill=\"none\" stroke=\"black\" points=\"609,-199 0,-199 0,-146 609,-146 609,-199\"/>\n<text text-anchor=\"middle\" x=\"304.5\" y=\"-183.8\" font-family=\"Times,serif\" font-size=\"14.00\">AGG [col(&quot;precio&quot;).mean().alias(&quot;media_precio&quot;), col(&quot;habitaciones&quot;).mean().alias(&quot;media_habitaciones&quot;)]</text>\n<text text-anchor=\"middle\" x=\"304.5\" y=\"-168.8\" font-family=\"Times,serif\" font-size=\"14.00\">BY</text>\n<text text-anchor=\"middle\" x=\"304.5\" y=\"-153.8\" font-family=\"Times,serif\" font-size=\"14.00\">[col(&quot;precio&quot;)]</text>\n</g>\n<!-- p2 -->\n<g id=\"node2\" class=\"node\">\n<title>p2</title>\n<polygon fill=\"none\" stroke=\"black\" points=\"425,-110 184,-110 184,-74 425,-74 425,-110\"/>\n<text text-anchor=\"middle\" x=\"304.5\" y=\"-88.3\" font-family=\"Times,serif\" font-size=\"14.00\">FILTER BY [(col(&quot;antiguedad&quot;)) &gt; (10)]</text>\n</g>\n<!-- p1&#45;&#45;p2 -->\n<g id=\"edge1\" class=\"edge\">\n<title>p1--p2</title>\n<path fill=\"none\" stroke=\"black\" d=\"M304.5,-145.8C304.5,-134.17 304.5,-120.74 304.5,-110.33\"/>\n</g>\n<!-- p3 -->\n<g id=\"node3\" class=\"node\">\n<title>p3</title>\n<polygon fill=\"none\" stroke=\"black\" points=\"599,-38 10,-38 10,0 599,0 599,-38\"/>\n<text text-anchor=\"middle\" x=\"304.5\" y=\"-22.8\" font-family=\"Times,serif\" font-size=\"14.00\">Csv SCAN [https://raw.githubusercontent.com/VINY2030/datasets/refs/heads/main/SaratogaHouses.csv]</text>\n<text text-anchor=\"middle\" x=\"304.5\" y=\"-7.8\" font-family=\"Times,serif\" font-size=\"14.00\">π */16;</text>\n</g>\n<!-- p2&#45;&#45;p3 -->\n<g id=\"edge2\" class=\"edge\">\n<title>p2--p3</title>\n<path fill=\"none\" stroke=\"black\" d=\"M304.5,-73.81C304.5,-62.98 304.5,-49.01 304.5,-38.02\"/>\n</g>\n</g>\n</svg>"
          },
          "metadata": {}
        }
      ],
      "source": [
        "#  grafico el plan del lazyframe\n",
        "query.show_graph(optimized=False)\n",
        "\n"
      ]
    },
    {
      "cell_type": "markdown",
      "metadata": {
        "id": "i4v-R5qnaqi_"
      },
      "source": [
        "`La visualización del plan de consulta debe leerse de abajo hacia arriba. Expliquemos como leer esta salida:**`\n",
        "\n",
        "`Cada rectángulo corresponde a una etapa del plan de consulta`\n",
        "\n",
        "`El sigma significa SELECCIÓN e indica cualquier condición de filtro`\n",
        "\n",
        "`El pi significa PROYECCIÓN e indica la elección de un subconjunto de columnas`"
      ]
    },
    {
      "cell_type": "code",
      "execution_count": 44,
      "metadata": {
        "id": "P4O8sJ_B4ZIX"
      },
      "outputs": [],
      "source": [
        "# determinamos un objeto para el lazyframe.collect y ejecutar la consulta\n",
        "result = query.collect()"
      ]
    },
    {
      "cell_type": "code",
      "execution_count": 45,
      "metadata": {
        "colab": {
          "base_uri": "https://localhost:8080/",
          "height": 443
        },
        "id": "wsch-hGW4atQ",
        "outputId": "7ea3f2f6-97d0-49a1-e430-c844290c244d"
      },
      "outputs": [
        {
          "output_type": "execute_result",
          "data": {
            "text/plain": [
              "shape: (551, 3)\n",
              "┌────────┬──────────────┬────────────────────┐\n",
              "│ precio ┆ media_precio ┆ media_habitaciones │\n",
              "│ ---    ┆ ---          ┆ ---                │\n",
              "│ i64    ┆ f64          ┆ f64                │\n",
              "╞════════╪══════════════╪════════════════════╡\n",
              "│ 145500 ┆ 145500.0     ┆ 4.0                │\n",
              "│ 188900 ┆ 188900.0     ┆ 4.0                │\n",
              "│ 190100 ┆ 190100.0     ┆ 8.0                │\n",
              "│ 121000 ┆ 121000.0     ┆ 8.0                │\n",
              "│ 80500  ┆ 80500.0      ┆ 3.0                │\n",
              "│ …      ┆ …            ┆ …                  │\n",
              "│ 210500 ┆ 210500.0     ┆ 5.5                │\n",
              "│ 518000 ┆ 518000.0     ┆ 7.0                │\n",
              "│ 235000 ┆ 235000.0     ┆ 7.875              │\n",
              "│ 267500 ┆ 267500.0     ┆ 9.0                │\n",
              "│ 399900 ┆ 399900.0     ┆ 7.0                │\n",
              "└────────┴──────────────┴────────────────────┘"
            ],
            "text/html": [
              "<div><style>\n",
              ".dataframe > thead > tr,\n",
              ".dataframe > tbody > tr {\n",
              "  text-align: right;\n",
              "  white-space: pre-wrap;\n",
              "}\n",
              "</style>\n",
              "<small>shape: (551, 3)</small><table border=\"1\" class=\"dataframe\"><thead><tr><th>precio</th><th>media_precio</th><th>media_habitaciones</th></tr><tr><td>i64</td><td>f64</td><td>f64</td></tr></thead><tbody><tr><td>145500</td><td>145500.0</td><td>4.0</td></tr><tr><td>188900</td><td>188900.0</td><td>4.0</td></tr><tr><td>190100</td><td>190100.0</td><td>8.0</td></tr><tr><td>121000</td><td>121000.0</td><td>8.0</td></tr><tr><td>80500</td><td>80500.0</td><td>3.0</td></tr><tr><td>&hellip;</td><td>&hellip;</td><td>&hellip;</td></tr><tr><td>210500</td><td>210500.0</td><td>5.5</td></tr><tr><td>518000</td><td>518000.0</td><td>7.0</td></tr><tr><td>235000</td><td>235000.0</td><td>7.875</td></tr><tr><td>267500</td><td>267500.0</td><td>9.0</td></tr><tr><td>399900</td><td>399900.0</td><td>7.0</td></tr></tbody></table></div>"
            ]
          },
          "metadata": {},
          "execution_count": 45
        }
      ],
      "source": [
        "result"
      ]
    },
    {
      "cell_type": "markdown",
      "metadata": {
        "id": "qwXgyJIgcPum"
      },
      "source": [
        "#Imprimir el plan de consulta\n",
        "\n",
        "`= en Pandas no existe la funcion explain**`\n",
        "\n",
        "`También podemos imprimir el plan no optimizado con explain(optimized=False).`"
      ]
    },
    {
      "cell_type": "code",
      "execution_count": 46,
      "metadata": {
        "colab": {
          "base_uri": "https://localhost:8080/"
        },
        "id": "pDDw9CobcTbQ",
        "outputId": "1725a7c0-3881-4a20-9819-0175cc6de9e1"
      },
      "outputs": [
        {
          "output_type": "stream",
          "name": "stdout",
          "text": [
            "AGGREGATE\n",
            "\t[col(\"precio\").mean().alias(\"media_precio\"), col(\"habitaciones\").mean().alias(\"media_habitaciones\")] BY [col(\"precio\")] FROM\n",
            "  FILTER [(col(\"antiguedad\")) > (10)] FROM\n",
            "    Csv SCAN [https://raw.githubusercontent.com/VINY2030/datasets/refs/heads/main/SaratogaHouses.csv]\n",
            "    PROJECT */16 COLUMNS\n"
          ]
        }
      ],
      "source": [
        "print(query.explain(optimized=False))  #3 se imprime el plan del lazy frame"
      ]
    },
    {
      "cell_type": "code",
      "execution_count": 47,
      "metadata": {
        "colab": {
          "base_uri": "https://localhost:8080/"
        },
        "id": "7B5KJW20cb2d",
        "outputId": "8a29651f-1183-4f62-b0e0-f40f985418a8"
      },
      "outputs": [
        {
          "output_type": "stream",
          "name": "stdout",
          "text": [
            "AGGREGATE\n",
            "\t[col(\"precio\").mean().alias(\"media_precio\"), col(\"habitaciones\").mean().alias(\"media_habitaciones\")] BY [col(\"precio\")] FROM\n",
            "  Csv SCAN [https://raw.githubusercontent.com/VINY2030/datasets/refs/heads/main/SaratogaHouses.csv]\n",
            "  PROJECT 3/16 COLUMNS\n",
            "  SELECTION: [(col(\"antiguedad\")) > (10)]\n"
          ]
        }
      ],
      "source": [
        "print(query.explain())"
      ]
    },
    {
      "cell_type": "markdown",
      "metadata": {
        "id": "LUST_3HBckai"
      },
      "source": [
        "\n",
        "# **<font color=\"#07a8ed\">Ejecucion de una consulta en la  API lazy**"
      ]
    },
    {
      "cell_type": "code",
      "execution_count": 48,
      "metadata": {
        "id": "aaLhxKzhdEJ4"
      },
      "outputs": [],
      "source": [
        "query3 = (\n",
        "    pl.scan_csv('https://raw.githubusercontent.com/VINY2030/datasets/refs/heads/main/SaratogaHouses.csv')\n",
        "    .with_columns(antiguedad=(pl.col('antiguedad') > 60))\n",
        "    .filter(pl.col('precio') > 50000) # Usar pl.col para su consistencia\n",
        ")"
      ]
    },
    {
      "cell_type": "code",
      "execution_count": 49,
      "metadata": {
        "colab": {
          "base_uri": "https://localhost:8080/",
          "height": 340
        },
        "id": "KX32GX91qZZu",
        "outputId": "c316dd01-4c0a-438f-a034-19b193abc106"
      },
      "outputs": [
        {
          "output_type": "execute_result",
          "data": {
            "text/plain": [
              "<LazyFrame at 0x7C701402EAA0>"
            ],
            "text/html": [
              "<h4>NAIVE QUERY PLAN</h4><p>run <b>LazyFrame.show_graph()</b> to see the optimized version</p><?xml version=\"1.0\" encoding=\"UTF-8\" standalone=\"no\"?>\n",
              "<!DOCTYPE svg PUBLIC \"-//W3C//DTD SVG 1.1//EN\"\n",
              " \"http://www.w3.org/Graphics/SVG/1.1/DTD/svg11.dtd\">\n",
              "<!-- Generated by graphviz version 2.43.0 (0)\n",
              " -->\n",
              "<!-- Title: polars_query Pages: 1 -->\n",
              "<svg width=\"597pt\" height=\"190pt\"\n",
              " viewBox=\"0.00 0.00 597.00 190.00\" xmlns=\"http://www.w3.org/2000/svg\" xmlns:xlink=\"http://www.w3.org/1999/xlink\">\n",
              "<g id=\"graph0\" class=\"graph\" transform=\"scale(1 1) rotate(0) translate(4 186)\">\n",
              "<title>polars_query</title>\n",
              "<polygon fill=\"white\" stroke=\"transparent\" points=\"-4,4 -4,-186 593,-186 593,4 -4,4\"/>\n",
              "<!-- p1 -->\n",
              "<g id=\"node1\" class=\"node\">\n",
              "<title>p1</title>\n",
              "<polygon fill=\"none\" stroke=\"black\" points=\"412.5,-182 176.5,-182 176.5,-146 412.5,-146 412.5,-182\"/>\n",
              "<text text-anchor=\"middle\" x=\"294.5\" y=\"-160.3\" font-family=\"Times,serif\" font-size=\"14.00\">FILTER BY [(col(&quot;precio&quot;)) &gt; (50000)]</text>\n",
              "</g>\n",
              "<!-- p2 -->\n",
              "<g id=\"node2\" class=\"node\">\n",
              "<title>p2</title>\n",
              "<polygon fill=\"none\" stroke=\"black\" points=\"493.5,-110 95.5,-110 95.5,-74 493.5,-74 493.5,-110\"/>\n",
              "<text text-anchor=\"middle\" x=\"294.5\" y=\"-88.3\" font-family=\"Times,serif\" font-size=\"14.00\">WITH COLUMNS [[(col(&quot;antiguedad&quot;)) &gt; (60)].alias(&quot;antiguedad&quot;)]</text>\n",
              "</g>\n",
              "<!-- p1&#45;&#45;p2 -->\n",
              "<g id=\"edge1\" class=\"edge\">\n",
              "<title>p1&#45;&#45;p2</title>\n",
              "<path fill=\"none\" stroke=\"black\" d=\"M294.5,-145.7C294.5,-134.85 294.5,-120.92 294.5,-110.1\"/>\n",
              "</g>\n",
              "<!-- p3 -->\n",
              "<g id=\"node3\" class=\"node\">\n",
              "<title>p3</title>\n",
              "<polygon fill=\"none\" stroke=\"black\" points=\"589,-38 0,-38 0,0 589,0 589,-38\"/>\n",
              "<text text-anchor=\"middle\" x=\"294.5\" y=\"-22.8\" font-family=\"Times,serif\" font-size=\"14.00\">Csv SCAN [https://raw.githubusercontent.com/VINY2030/datasets/refs/heads/main/SaratogaHouses.csv]</text>\n",
              "<text text-anchor=\"middle\" x=\"294.5\" y=\"-7.8\" font-family=\"Times,serif\" font-size=\"14.00\">π */16;</text>\n",
              "</g>\n",
              "<!-- p2&#45;&#45;p3 -->\n",
              "<g id=\"edge2\" class=\"edge\">\n",
              "<title>p2&#45;&#45;p3</title>\n",
              "<path fill=\"none\" stroke=\"black\" d=\"M294.5,-73.81C294.5,-62.98 294.5,-49.01 294.5,-38.02\"/>\n",
              "</g>\n",
              "</g>\n",
              "</svg>\n"
            ]
          },
          "metadata": {},
          "execution_count": 49
        }
      ],
      "source": [
        "query3"
      ]
    },
    {
      "cell_type": "markdown",
      "metadata": {
        "id": "Pdn4xLw0dgoD"
      },
      "source": [
        "`Podemos ejecutar nuestra consulta en el conjunto de datos completo llamando al método .collect en la consulta.`"
      ]
    },
    {
      "cell_type": "code",
      "execution_count": 50,
      "metadata": {
        "colab": {
          "base_uri": "https://localhost:8080/",
          "height": 532
        },
        "id": "zZZKaPgSdOkq",
        "outputId": "09c40d3b-9c50-4499-f3e6-67e91907834b"
      },
      "outputs": [
        {
          "output_type": "execute_result",
          "data": {
            "text/plain": [
              "shape: (1_721, 16)\n",
              "┌──────┬────────┬─────────────┬────────────┬───┬────────────┬────────────┬────────────┬────────────┐\n",
              "│      ┆ precio ┆ metros_tota ┆ antiguedad ┆ … ┆ desague    ┆ vistas_lag ┆ nueva_cons ┆ aire_acond │\n",
              "│ ---  ┆ ---    ┆ les         ┆ ---        ┆   ┆ ---        ┆ o          ┆ truccion   ┆ icionado   │\n",
              "│ i64  ┆ i64    ┆ ---         ┆ bool       ┆   ┆ str        ┆ ---        ┆ ---        ┆ ---        │\n",
              "│      ┆        ┆ f64         ┆            ┆   ┆            ┆ str        ┆ str        ┆ str        │\n",
              "╞══════╪════════╪═════════════╪════════════╪═══╪════════════╪════════════╪════════════╪════════════╡\n",
              "│ 0    ┆ 132500 ┆ 0.09        ┆ false      ┆ … ┆ septic     ┆ No         ┆ No         ┆ No         │\n",
              "│ 1    ┆ 181115 ┆ 0.92        ┆ false      ┆ … ┆ septic     ┆ No         ┆ No         ┆ No         │\n",
              "│ 2    ┆ 109000 ┆ 0.19        ┆ true       ┆ … ┆ public/com ┆ No         ┆ No         ┆ No         │\n",
              "│      ┆        ┆             ┆            ┆   ┆ mercial    ┆            ┆            ┆            │\n",
              "│ 3    ┆ 155000 ┆ 0.41        ┆ false      ┆ … ┆ septic     ┆ No         ┆ No         ┆ No         │\n",
              "│ 4    ┆ 86060  ┆ 0.11        ┆ false      ┆ … ┆ public/com ┆ No         ┆ Yes        ┆ Yes        │\n",
              "│      ┆        ┆             ┆            ┆   ┆ mercial    ┆            ┆            ┆            │\n",
              "│ …    ┆ …      ┆ …           ┆ …          ┆ … ┆ …          ┆ …          ┆ …          ┆ …          │\n",
              "│ 1723 ┆ 289000 ┆ 0.38        ┆ false      ┆ … ┆ public/com ┆ No         ┆ No         ┆ No         │\n",
              "│      ┆        ┆             ┆            ┆   ┆ mercial    ┆            ┆            ┆            │\n",
              "│ 1724 ┆ 285000 ┆ 0.94        ┆ false      ┆ … ┆ public/com ┆ No         ┆ No         ┆ No         │\n",
              "│      ┆        ┆             ┆            ┆   ┆ mercial    ┆            ┆            ┆            │\n",
              "│ 1725 ┆ 194900 ┆ 0.39        ┆ false      ┆ … ┆ public/com ┆ No         ┆ No         ┆ No         │\n",
              "│      ┆        ┆             ┆            ┆   ┆ mercial    ┆            ┆            ┆            │\n",
              "│ 1726 ┆ 125000 ┆ 0.24        ┆ false      ┆ … ┆ public/com ┆ No         ┆ No         ┆ No         │\n",
              "│      ┆        ┆             ┆            ┆   ┆ mercial    ┆            ┆            ┆            │\n",
              "│ 1727 ┆ 111300 ┆ 0.59        ┆ true       ┆ … ┆ septic     ┆ No         ┆ No         ┆ No         │\n",
              "└──────┴────────┴─────────────┴────────────┴───┴────────────┴────────────┴────────────┴────────────┘"
            ],
            "text/html": [
              "<div><style>\n",
              ".dataframe > thead > tr,\n",
              ".dataframe > tbody > tr {\n",
              "  text-align: right;\n",
              "  white-space: pre-wrap;\n",
              "}\n",
              "</style>\n",
              "<small>shape: (1_721, 16)</small><table border=\"1\" class=\"dataframe\"><thead><tr><th></th><th>precio</th><th>metros_totales</th><th>antiguedad</th><th>precio_terreno</th><th>metros_habitables</th><th>universitarios</th><th>dormitorios</th><th>baños</th><th>habitaciones</th><th>calefaccion</th><th>consumo_calefacion</th><th>desague</th><th>vistas_lago</th><th>nueva_construccion</th><th>aire_acondicionado</th></tr><tr><td>i64</td><td>i64</td><td>f64</td><td>bool</td><td>i64</td><td>i64</td><td>i64</td><td>i64</td><td>f64</td><td>i64</td><td>str</td><td>str</td><td>str</td><td>str</td><td>str</td><td>str</td></tr></thead><tbody><tr><td>0</td><td>132500</td><td>0.09</td><td>false</td><td>50000</td><td>906</td><td>35</td><td>2</td><td>1.0</td><td>5</td><td>&quot;electric&quot;</td><td>&quot;electric&quot;</td><td>&quot;septic&quot;</td><td>&quot;No&quot;</td><td>&quot;No&quot;</td><td>&quot;No&quot;</td></tr><tr><td>1</td><td>181115</td><td>0.92</td><td>false</td><td>22300</td><td>1953</td><td>51</td><td>3</td><td>2.5</td><td>6</td><td>&quot;hot water/steam&quot;</td><td>&quot;gas&quot;</td><td>&quot;septic&quot;</td><td>&quot;No&quot;</td><td>&quot;No&quot;</td><td>&quot;No&quot;</td></tr><tr><td>2</td><td>109000</td><td>0.19</td><td>true</td><td>7300</td><td>1944</td><td>51</td><td>4</td><td>1.0</td><td>8</td><td>&quot;hot water/steam&quot;</td><td>&quot;gas&quot;</td><td>&quot;public/commercial&quot;</td><td>&quot;No&quot;</td><td>&quot;No&quot;</td><td>&quot;No&quot;</td></tr><tr><td>3</td><td>155000</td><td>0.41</td><td>false</td><td>18700</td><td>1944</td><td>51</td><td>3</td><td>1.5</td><td>5</td><td>&quot;hot air&quot;</td><td>&quot;gas&quot;</td><td>&quot;septic&quot;</td><td>&quot;No&quot;</td><td>&quot;No&quot;</td><td>&quot;No&quot;</td></tr><tr><td>4</td><td>86060</td><td>0.11</td><td>false</td><td>15000</td><td>840</td><td>51</td><td>2</td><td>1.0</td><td>3</td><td>&quot;hot air&quot;</td><td>&quot;gas&quot;</td><td>&quot;public/commercial&quot;</td><td>&quot;No&quot;</td><td>&quot;Yes&quot;</td><td>&quot;Yes&quot;</td></tr><tr><td>&hellip;</td><td>&hellip;</td><td>&hellip;</td><td>&hellip;</td><td>&hellip;</td><td>&hellip;</td><td>&hellip;</td><td>&hellip;</td><td>&hellip;</td><td>&hellip;</td><td>&hellip;</td><td>&hellip;</td><td>&hellip;</td><td>&hellip;</td><td>&hellip;</td><td>&hellip;</td></tr><tr><td>1723</td><td>289000</td><td>0.38</td><td>false</td><td>24200</td><td>2310</td><td>61</td><td>5</td><td>2.5</td><td>11</td><td>&quot;hot water/steam&quot;</td><td>&quot;gas&quot;</td><td>&quot;public/commercial&quot;</td><td>&quot;No&quot;</td><td>&quot;No&quot;</td><td>&quot;No&quot;</td></tr><tr><td>1724</td><td>285000</td><td>0.94</td><td>false</td><td>36200</td><td>2564</td><td>61</td><td>4</td><td>2.5</td><td>11</td><td>&quot;hot water/steam&quot;</td><td>&quot;gas&quot;</td><td>&quot;public/commercial&quot;</td><td>&quot;No&quot;</td><td>&quot;No&quot;</td><td>&quot;No&quot;</td></tr><tr><td>1725</td><td>194900</td><td>0.39</td><td>false</td><td>20400</td><td>1099</td><td>51</td><td>2</td><td>1.0</td><td>3</td><td>&quot;hot air&quot;</td><td>&quot;gas&quot;</td><td>&quot;public/commercial&quot;</td><td>&quot;No&quot;</td><td>&quot;No&quot;</td><td>&quot;No&quot;</td></tr><tr><td>1726</td><td>125000</td><td>0.24</td><td>false</td><td>16800</td><td>1225</td><td>51</td><td>3</td><td>1.0</td><td>7</td><td>&quot;hot air&quot;</td><td>&quot;gas&quot;</td><td>&quot;public/commercial&quot;</td><td>&quot;No&quot;</td><td>&quot;No&quot;</td><td>&quot;No&quot;</td></tr><tr><td>1727</td><td>111300</td><td>0.59</td><td>true</td><td>26000</td><td>1959</td><td>51</td><td>3</td><td>1.0</td><td>6</td><td>&quot;hot air&quot;</td><td>&quot;gas&quot;</td><td>&quot;septic&quot;</td><td>&quot;No&quot;</td><td>&quot;No&quot;</td><td>&quot;No&quot;</td></tr></tbody></table></div>"
            ]
          },
          "metadata": {},
          "execution_count": 50
        }
      ],
      "source": [
        "query3.collect()"
      ]
    },
    {
      "cell_type": "markdown",
      "metadata": {
        "id": "rc6Xj83Edmky"
      },
      "source": [
        "`Con el método por defecto collect, Polars procesa todos sus datos como un solo lote. Esto significa que todos los datos deben caber en la memoria disponible en el punto de mayor uso de la memoria en la consulta.`= en Pandas no existe este metodo"
      ]
    },
    {
      "cell_type": "markdown",
      "metadata": {
        "id": "qwdMq6-xfPne"
      },
      "source": [
        "\n",
        "# **<font color=\"#07a8ed\">Ejecución en datos más grandes que la memoria**"
      ]
    },
    {
      "cell_type": "markdown",
      "metadata": {
        "id": "JaaJeCmifHnw"
      },
      "source": [
        "\n",
        "`Si nuestros datos requieren más memoria de la que tenemos disponible, es posible que Polars pueda procesar los datos en lotes (batches en inglés) utilizando el modo de streaming. Para usar el modo streaming simplemente pasamos el argumento streaming=True a collect.`\n",
        "\n",
        "`= en Pandas no existe esta funcion`\n",
        "\n",
        "\n",
        "\n",
        "\n",
        "\n"
      ]
    },
    {
      "cell_type": "code",
      "execution_count": 51,
      "metadata": {
        "id": "I9HaZdvqffVI"
      },
      "outputs": [],
      "source": [
        "query4 = (\n",
        "    pl.scan_csv('https://raw.githubusercontent.com/VINY2030/datasets/refs/heads/main/SaratogaHouses.csv')\n",
        "    .with_columns(antiguedad=(pl.col('antiguedad') > 60))\n",
        "    .filter(pl.col('precio') > 50000) # Use pl.col aqui para su consistencia\n",
        "    .collect(streaming=True)  #### le inclui el collect en la query\n",
        ")"
      ]
    },
    {
      "cell_type": "code",
      "execution_count": 52,
      "metadata": {
        "colab": {
          "base_uri": "https://localhost:8080/",
          "height": 221
        },
        "id": "XVcIHKifqt6l",
        "outputId": "b50b2f7e-8b67-45b5-be26-96771db99b3d"
      },
      "outputs": [
        {
          "output_type": "execute_result",
          "data": {
            "text/plain": [
              "polars.dataframe.frame.DataFrame"
            ],
            "text/html": [
              "<div style=\"max-width:800px; border: 1px solid var(--colab-border-color);\"><style>\n",
              "      pre.function-repr-contents {\n",
              "        overflow-x: auto;\n",
              "        padding: 8px 12px;\n",
              "        max-height: 500px;\n",
              "      }\n",
              "\n",
              "      pre.function-repr-contents.function-repr-contents-collapsed {\n",
              "        cursor: pointer;\n",
              "        max-height: 100px;\n",
              "      }\n",
              "    </style>\n",
              "    <pre style=\"white-space: initial; background:\n",
              "         var(--colab-secondary-surface-color); padding: 8px 12px;\n",
              "         border-bottom: 1px solid var(--colab-border-color);\"><b>polars.dataframe.frame.DataFrame</b><br/>def __init__(data: FrameInitTypes | None=None, schema: SchemaDefinition | None=None, *, schema_overrides: SchemaDict | None=None, strict: bool=True, orient: Orientation | None=None, infer_schema_length: int | None=N_INFER_DEFAULT, nan_to_null: bool=False) -&gt; None</pre><pre class=\"function-repr-contents function-repr-contents-collapsed\" style=\"\"><a class=\"filepath\" style=\"display:none\" href=\"#\">/usr/local/lib/python3.10/dist-packages/polars/dataframe/frame.py</a>Two-dimensional data structure representing data as a table with rows and columns.\n",
              "\n",
              "Parameters\n",
              "----------\n",
              "data : dict, Sequence, ndarray, Series, or pandas.DataFrame\n",
              "    Two-dimensional data in various forms; dict input must contain Sequences,\n",
              "    Generators, or a `range`. Sequence may contain Series or other Sequences.\n",
              "schema : Sequence of str, (str,DataType) pairs, or a {str:DataType,} dict\n",
              "    The schema of the resulting DataFrame. The schema may be declared in several\n",
              "    ways:\n",
              "\n",
              "    * As a dict of {name:type} pairs; if type is None, it will be auto-inferred.\n",
              "    * As a list of column names; in this case types are automatically inferred.\n",
              "    * As a list of (name,type) pairs; this is equivalent to the dictionary form.\n",
              "\n",
              "    If you supply a list of column names that does not match the names in the\n",
              "    underlying data, the names given here will overwrite them. The number\n",
              "    of names given in the schema should match the underlying data dimensions.\n",
              "\n",
              "    If set to `None` (default), the schema is inferred from the data.\n",
              "schema_overrides : dict, default None\n",
              "    Support type specification or override of one or more columns; note that\n",
              "    any dtypes inferred from the schema param will be overridden.\n",
              "\n",
              "    The number of entries in the schema should match the underlying data\n",
              "    dimensions, unless a sequence of dictionaries is being passed, in which case\n",
              "    a *partial* schema can be declared to prevent specific fields from being loaded.\n",
              "strict : bool, default True\n",
              "    Throw an error if any `data` value does not exactly match the given or inferred\n",
              "    data type for that column. If set to `False`, values that do not match the data\n",
              "    type are cast to that data type or, if casting is not possible, set to null\n",
              "    instead.\n",
              "orient : {&#x27;col&#x27;, &#x27;row&#x27;}, default None\n",
              "    Whether to interpret two-dimensional data as columns or as rows. If None,\n",
              "    the orientation is inferred by matching the columns and data dimensions. If\n",
              "    this does not yield conclusive results, column orientation is used.\n",
              "infer_schema_length : int or None\n",
              "    The maximum number of rows to scan for schema inference. If set to `None`, the\n",
              "    full data may be scanned *(this can be slow)*. This parameter only applies if\n",
              "    the input data is a sequence or generator of rows; other input is read as-is.\n",
              "nan_to_null : bool, default False\n",
              "    If the data comes from one or more numpy arrays, can optionally convert input\n",
              "    data np.nan values to null instead. This is a no-op for all other input data.\n",
              "\n",
              "Notes\n",
              "-----\n",
              "Polars explicitly does not support subclassing of its core data types. See\n",
              "the following GitHub issue for possible workarounds:\n",
              "https://github.com/pola-rs/polars/issues/2846#issuecomment-1711799869\n",
              "\n",
              "Examples\n",
              "--------\n",
              "Constructing a DataFrame from a dictionary:\n",
              "\n",
              "&gt;&gt;&gt; data = {&quot;a&quot;: [1, 2], &quot;b&quot;: [3, 4]}\n",
              "&gt;&gt;&gt; df = pl.DataFrame(data)\n",
              "&gt;&gt;&gt; df\n",
              "shape: (2, 2)\n",
              "┌─────┬─────┐\n",
              "│ a   ┆ b   │\n",
              "│ --- ┆ --- │\n",
              "│ i64 ┆ i64 │\n",
              "╞═════╪═════╡\n",
              "│ 1   ┆ 3   │\n",
              "│ 2   ┆ 4   │\n",
              "└─────┴─────┘\n",
              "\n",
              "Notice that the dtypes are automatically inferred as polars Int64:\n",
              "\n",
              "&gt;&gt;&gt; df.dtypes\n",
              "[Int64, Int64]\n",
              "\n",
              "To specify a more detailed/specific frame schema you can supply the `schema`\n",
              "parameter with a dictionary of (name,dtype) pairs...\n",
              "\n",
              "&gt;&gt;&gt; data = {&quot;col1&quot;: [0, 2], &quot;col2&quot;: [3, 7]}\n",
              "&gt;&gt;&gt; df2 = pl.DataFrame(data, schema={&quot;col1&quot;: pl.Float32, &quot;col2&quot;: pl.Int64})\n",
              "&gt;&gt;&gt; df2\n",
              "shape: (2, 2)\n",
              "┌──────┬──────┐\n",
              "│ col1 ┆ col2 │\n",
              "│ ---  ┆ ---  │\n",
              "│ f32  ┆ i64  │\n",
              "╞══════╪══════╡\n",
              "│ 0.0  ┆ 3    │\n",
              "│ 2.0  ┆ 7    │\n",
              "└──────┴──────┘\n",
              "\n",
              "...a sequence of (name,dtype) pairs...\n",
              "\n",
              "&gt;&gt;&gt; data = {&quot;col1&quot;: [1, 2], &quot;col2&quot;: [3, 4]}\n",
              "&gt;&gt;&gt; df3 = pl.DataFrame(data, schema=[(&quot;col1&quot;, pl.Float32), (&quot;col2&quot;, pl.Int64)])\n",
              "&gt;&gt;&gt; df3\n",
              "shape: (2, 2)\n",
              "┌──────┬──────┐\n",
              "│ col1 ┆ col2 │\n",
              "│ ---  ┆ ---  │\n",
              "│ f32  ┆ i64  │\n",
              "╞══════╪══════╡\n",
              "│ 1.0  ┆ 3    │\n",
              "│ 2.0  ┆ 4    │\n",
              "└──────┴──────┘\n",
              "\n",
              "...or a list of typed Series.\n",
              "\n",
              "&gt;&gt;&gt; data = [\n",
              "...     pl.Series(&quot;col1&quot;, [1, 2], dtype=pl.Float32),\n",
              "...     pl.Series(&quot;col2&quot;, [3, 4], dtype=pl.Int64),\n",
              "... ]\n",
              "&gt;&gt;&gt; df4 = pl.DataFrame(data)\n",
              "&gt;&gt;&gt; df4\n",
              "shape: (2, 2)\n",
              "┌──────┬──────┐\n",
              "│ col1 ┆ col2 │\n",
              "│ ---  ┆ ---  │\n",
              "│ f32  ┆ i64  │\n",
              "╞══════╪══════╡\n",
              "│ 1.0  ┆ 3    │\n",
              "│ 2.0  ┆ 4    │\n",
              "└──────┴──────┘\n",
              "\n",
              "Constructing a DataFrame from a numpy ndarray, specifying column names:\n",
              "\n",
              "&gt;&gt;&gt; import numpy as np\n",
              "&gt;&gt;&gt; data = np.array([(1, 2), (3, 4)], dtype=np.int64)\n",
              "&gt;&gt;&gt; df5 = pl.DataFrame(data, schema=[&quot;a&quot;, &quot;b&quot;], orient=&quot;col&quot;)\n",
              "&gt;&gt;&gt; df5\n",
              "shape: (2, 2)\n",
              "┌─────┬─────┐\n",
              "│ a   ┆ b   │\n",
              "│ --- ┆ --- │\n",
              "│ i64 ┆ i64 │\n",
              "╞═════╪═════╡\n",
              "│ 1   ┆ 3   │\n",
              "│ 2   ┆ 4   │\n",
              "└─────┴─────┘\n",
              "\n",
              "Constructing a DataFrame from a list of lists, row orientation specified:\n",
              "\n",
              "&gt;&gt;&gt; data = [[1, 2, 3], [4, 5, 6]]\n",
              "&gt;&gt;&gt; df6 = pl.DataFrame(data, schema=[&quot;a&quot;, &quot;b&quot;, &quot;c&quot;], orient=&quot;row&quot;)\n",
              "&gt;&gt;&gt; df6\n",
              "shape: (2, 3)\n",
              "┌─────┬─────┬─────┐\n",
              "│ a   ┆ b   ┆ c   │\n",
              "│ --- ┆ --- ┆ --- │\n",
              "│ i64 ┆ i64 ┆ i64 │\n",
              "╞═════╪═════╪═════╡\n",
              "│ 1   ┆ 2   ┆ 3   │\n",
              "│ 4   ┆ 5   ┆ 6   │\n",
              "└─────┴─────┴─────┘</pre>\n",
              "      <script>\n",
              "      if (google.colab.kernel.accessAllowed && google.colab.files && google.colab.files.view) {\n",
              "        for (const element of document.querySelectorAll('.filepath')) {\n",
              "          element.style.display = 'block'\n",
              "          element.onclick = (event) => {\n",
              "            event.preventDefault();\n",
              "            event.stopPropagation();\n",
              "            google.colab.files.view(element.textContent, 186);\n",
              "          };\n",
              "        }\n",
              "      }\n",
              "      for (const element of document.querySelectorAll('.function-repr-contents')) {\n",
              "        element.onclick = (event) => {\n",
              "          event.preventDefault();\n",
              "          event.stopPropagation();\n",
              "          element.classList.toggle('function-repr-contents-collapsed');\n",
              "        };\n",
              "      }\n",
              "      </script>\n",
              "      </div>"
            ]
          },
          "metadata": {},
          "execution_count": 52
        }
      ],
      "source": [
        "type(query4)"
      ]
    },
    {
      "cell_type": "code",
      "execution_count": 53,
      "metadata": {
        "colab": {
          "base_uri": "https://localhost:8080/",
          "height": 532
        },
        "id": "P2dhRgtQfkMA",
        "outputId": "ef82b662-a213-4f03-bb23-519141a79347"
      },
      "outputs": [
        {
          "output_type": "execute_result",
          "data": {
            "text/plain": [
              "shape: (1_721, 16)\n",
              "┌──────┬────────┬─────────────┬────────────┬───┬────────────┬────────────┬────────────┬────────────┐\n",
              "│      ┆ precio ┆ metros_tota ┆ antiguedad ┆ … ┆ desague    ┆ vistas_lag ┆ nueva_cons ┆ aire_acond │\n",
              "│ ---  ┆ ---    ┆ les         ┆ ---        ┆   ┆ ---        ┆ o          ┆ truccion   ┆ icionado   │\n",
              "│ i64  ┆ i64    ┆ ---         ┆ bool       ┆   ┆ str        ┆ ---        ┆ ---        ┆ ---        │\n",
              "│      ┆        ┆ f64         ┆            ┆   ┆            ┆ str        ┆ str        ┆ str        │\n",
              "╞══════╪════════╪═════════════╪════════════╪═══╪════════════╪════════════╪════════════╪════════════╡\n",
              "│ 0    ┆ 132500 ┆ 0.09        ┆ false      ┆ … ┆ septic     ┆ No         ┆ No         ┆ No         │\n",
              "│ 1    ┆ 181115 ┆ 0.92        ┆ false      ┆ … ┆ septic     ┆ No         ┆ No         ┆ No         │\n",
              "│ 2    ┆ 109000 ┆ 0.19        ┆ true       ┆ … ┆ public/com ┆ No         ┆ No         ┆ No         │\n",
              "│      ┆        ┆             ┆            ┆   ┆ mercial    ┆            ┆            ┆            │\n",
              "│ 3    ┆ 155000 ┆ 0.41        ┆ false      ┆ … ┆ septic     ┆ No         ┆ No         ┆ No         │\n",
              "│ 4    ┆ 86060  ┆ 0.11        ┆ false      ┆ … ┆ public/com ┆ No         ┆ Yes        ┆ Yes        │\n",
              "│      ┆        ┆             ┆            ┆   ┆ mercial    ┆            ┆            ┆            │\n",
              "│ …    ┆ …      ┆ …           ┆ …          ┆ … ┆ …          ┆ …          ┆ …          ┆ …          │\n",
              "│ 1723 ┆ 289000 ┆ 0.38        ┆ false      ┆ … ┆ public/com ┆ No         ┆ No         ┆ No         │\n",
              "│      ┆        ┆             ┆            ┆   ┆ mercial    ┆            ┆            ┆            │\n",
              "│ 1724 ┆ 285000 ┆ 0.94        ┆ false      ┆ … ┆ public/com ┆ No         ┆ No         ┆ No         │\n",
              "│      ┆        ┆             ┆            ┆   ┆ mercial    ┆            ┆            ┆            │\n",
              "│ 1725 ┆ 194900 ┆ 0.39        ┆ false      ┆ … ┆ public/com ┆ No         ┆ No         ┆ No         │\n",
              "│      ┆        ┆             ┆            ┆   ┆ mercial    ┆            ┆            ┆            │\n",
              "│ 1726 ┆ 125000 ┆ 0.24        ┆ false      ┆ … ┆ public/com ┆ No         ┆ No         ┆ No         │\n",
              "│      ┆        ┆             ┆            ┆   ┆ mercial    ┆            ┆            ┆            │\n",
              "│ 1727 ┆ 111300 ┆ 0.59        ┆ true       ┆ … ┆ septic     ┆ No         ┆ No         ┆ No         │\n",
              "└──────┴────────┴─────────────┴────────────┴───┴────────────┴────────────┴────────────┴────────────┘"
            ],
            "text/html": [
              "<div><style>\n",
              ".dataframe > thead > tr,\n",
              ".dataframe > tbody > tr {\n",
              "  text-align: right;\n",
              "  white-space: pre-wrap;\n",
              "}\n",
              "</style>\n",
              "<small>shape: (1_721, 16)</small><table border=\"1\" class=\"dataframe\"><thead><tr><th></th><th>precio</th><th>metros_totales</th><th>antiguedad</th><th>precio_terreno</th><th>metros_habitables</th><th>universitarios</th><th>dormitorios</th><th>baños</th><th>habitaciones</th><th>calefaccion</th><th>consumo_calefacion</th><th>desague</th><th>vistas_lago</th><th>nueva_construccion</th><th>aire_acondicionado</th></tr><tr><td>i64</td><td>i64</td><td>f64</td><td>bool</td><td>i64</td><td>i64</td><td>i64</td><td>i64</td><td>f64</td><td>i64</td><td>str</td><td>str</td><td>str</td><td>str</td><td>str</td><td>str</td></tr></thead><tbody><tr><td>0</td><td>132500</td><td>0.09</td><td>false</td><td>50000</td><td>906</td><td>35</td><td>2</td><td>1.0</td><td>5</td><td>&quot;electric&quot;</td><td>&quot;electric&quot;</td><td>&quot;septic&quot;</td><td>&quot;No&quot;</td><td>&quot;No&quot;</td><td>&quot;No&quot;</td></tr><tr><td>1</td><td>181115</td><td>0.92</td><td>false</td><td>22300</td><td>1953</td><td>51</td><td>3</td><td>2.5</td><td>6</td><td>&quot;hot water/steam&quot;</td><td>&quot;gas&quot;</td><td>&quot;septic&quot;</td><td>&quot;No&quot;</td><td>&quot;No&quot;</td><td>&quot;No&quot;</td></tr><tr><td>2</td><td>109000</td><td>0.19</td><td>true</td><td>7300</td><td>1944</td><td>51</td><td>4</td><td>1.0</td><td>8</td><td>&quot;hot water/steam&quot;</td><td>&quot;gas&quot;</td><td>&quot;public/commercial&quot;</td><td>&quot;No&quot;</td><td>&quot;No&quot;</td><td>&quot;No&quot;</td></tr><tr><td>3</td><td>155000</td><td>0.41</td><td>false</td><td>18700</td><td>1944</td><td>51</td><td>3</td><td>1.5</td><td>5</td><td>&quot;hot air&quot;</td><td>&quot;gas&quot;</td><td>&quot;septic&quot;</td><td>&quot;No&quot;</td><td>&quot;No&quot;</td><td>&quot;No&quot;</td></tr><tr><td>4</td><td>86060</td><td>0.11</td><td>false</td><td>15000</td><td>840</td><td>51</td><td>2</td><td>1.0</td><td>3</td><td>&quot;hot air&quot;</td><td>&quot;gas&quot;</td><td>&quot;public/commercial&quot;</td><td>&quot;No&quot;</td><td>&quot;Yes&quot;</td><td>&quot;Yes&quot;</td></tr><tr><td>&hellip;</td><td>&hellip;</td><td>&hellip;</td><td>&hellip;</td><td>&hellip;</td><td>&hellip;</td><td>&hellip;</td><td>&hellip;</td><td>&hellip;</td><td>&hellip;</td><td>&hellip;</td><td>&hellip;</td><td>&hellip;</td><td>&hellip;</td><td>&hellip;</td><td>&hellip;</td></tr><tr><td>1723</td><td>289000</td><td>0.38</td><td>false</td><td>24200</td><td>2310</td><td>61</td><td>5</td><td>2.5</td><td>11</td><td>&quot;hot water/steam&quot;</td><td>&quot;gas&quot;</td><td>&quot;public/commercial&quot;</td><td>&quot;No&quot;</td><td>&quot;No&quot;</td><td>&quot;No&quot;</td></tr><tr><td>1724</td><td>285000</td><td>0.94</td><td>false</td><td>36200</td><td>2564</td><td>61</td><td>4</td><td>2.5</td><td>11</td><td>&quot;hot water/steam&quot;</td><td>&quot;gas&quot;</td><td>&quot;public/commercial&quot;</td><td>&quot;No&quot;</td><td>&quot;No&quot;</td><td>&quot;No&quot;</td></tr><tr><td>1725</td><td>194900</td><td>0.39</td><td>false</td><td>20400</td><td>1099</td><td>51</td><td>2</td><td>1.0</td><td>3</td><td>&quot;hot air&quot;</td><td>&quot;gas&quot;</td><td>&quot;public/commercial&quot;</td><td>&quot;No&quot;</td><td>&quot;No&quot;</td><td>&quot;No&quot;</td></tr><tr><td>1726</td><td>125000</td><td>0.24</td><td>false</td><td>16800</td><td>1225</td><td>51</td><td>3</td><td>1.0</td><td>7</td><td>&quot;hot air&quot;</td><td>&quot;gas&quot;</td><td>&quot;public/commercial&quot;</td><td>&quot;No&quot;</td><td>&quot;No&quot;</td><td>&quot;No&quot;</td></tr><tr><td>1727</td><td>111300</td><td>0.59</td><td>true</td><td>26000</td><td>1959</td><td>51</td><td>3</td><td>1.0</td><td>6</td><td>&quot;hot air&quot;</td><td>&quot;gas&quot;</td><td>&quot;septic&quot;</td><td>&quot;No&quot;</td><td>&quot;No&quot;</td><td>&quot;No&quot;</td></tr></tbody></table></div>"
            ]
          },
          "metadata": {},
          "execution_count": 53
        }
      ],
      "source": [
        "query4"
      ]
    },
    {
      "cell_type": "markdown",
      "metadata": {
        "id": "KxDuK4JYfxIG"
      },
      "source": [
        "\n",
        "# **<font color=\"#07a8ed\">Ejecución en un conjunto de datos parcial**"
      ]
    },
    {
      "cell_type": "markdown",
      "metadata": {
        "id": "Bmuzwxcuf2p4"
      },
      "source": [
        "`Mientras escribimos, optimizamos o verificamos nuestra consulta en un conjunto de datos grande, consultar todos los datos disponibles puede provocar un proceso de desarrollo lento.`\n",
        "\n",
        "`##En su lugar, podemos ejecutar la consulta con el método .fetch. `= en Pandas funciona para df.sql()\n",
        "\n",
        "`El método .fetch toma un parámetro n_rows e intenta \"obtener\" (fetch) esa cantidad de filas en la fuente de datos.`\n",
        "\n",
        "\n",
        "Sin embargo, no se puede garantizar el número de filas, ya que la API lazy no cuenta cuántas filas hay en cada etapa de la consulta.`\n",
        "\n",
        "`= en Pandas funciona como min_rows() tambien.`\n",
        "\n",
        "`\n",
        "\n",
        "\n",
        "\n",
        "\n"
      ]
    },
    {
      "cell_type": "code",
      "execution_count": 54,
      "metadata": {
        "colab": {
          "base_uri": "https://localhost:8080/",
          "height": 567
        },
        "id": "FeirvYkzf9I3",
        "outputId": "694857cb-7d1c-4d7f-cfb2-a04c059b2bd7"
      },
      "outputs": [
        {
          "output_type": "stream",
          "name": "stderr",
          "text": [
            "<ipython-input-54-f5fcf5b7c8ea>:7: DeprecationWarning: `LazyFrame.fetch` is deprecated. `LazyFrame.fetch` is deprecated; use `LazyFrame.collect` instead, in conjunction with a call to `head`.\n",
            "  query5.fetch(n_rows=20)  ## toma las 20 filas pero señala que use el lazy frame\n"
          ]
        },
        {
          "output_type": "execute_result",
          "data": {
            "text/plain": [
              "shape: (20, 16)\n",
              "┌─────┬────────┬─────────────┬────────────┬───┬─────────────┬────────────┬────────────┬────────────┐\n",
              "│     ┆ precio ┆ metros_tota ┆ antiguedad ┆ … ┆ desague     ┆ vistas_lag ┆ nueva_cons ┆ aire_acond │\n",
              "│ --- ┆ ---    ┆ les         ┆ ---        ┆   ┆ ---         ┆ o          ┆ truccion   ┆ icionado   │\n",
              "│ i64 ┆ i64    ┆ ---         ┆ bool       ┆   ┆ str         ┆ ---        ┆ ---        ┆ ---        │\n",
              "│     ┆        ┆ f64         ┆            ┆   ┆             ┆ str        ┆ str        ┆ str        │\n",
              "╞═════╪════════╪═════════════╪════════════╪═══╪═════════════╪════════════╪════════════╪════════════╡\n",
              "│ 0   ┆ 132500 ┆ 0.09        ┆ false      ┆ … ┆ septic      ┆ No         ┆ No         ┆ No         │\n",
              "│ 1   ┆ 181115 ┆ 0.92        ┆ false      ┆ … ┆ septic      ┆ No         ┆ No         ┆ No         │\n",
              "│ 2   ┆ 109000 ┆ 0.19        ┆ true       ┆ … ┆ public/comm ┆ No         ┆ No         ┆ No         │\n",
              "│     ┆        ┆             ┆            ┆   ┆ ercial      ┆            ┆            ┆            │\n",
              "│ 3   ┆ 155000 ┆ 0.41        ┆ false      ┆ … ┆ septic      ┆ No         ┆ No         ┆ No         │\n",
              "│ 4   ┆ 86060  ┆ 0.11        ┆ false      ┆ … ┆ public/comm ┆ No         ┆ Yes        ┆ Yes        │\n",
              "│     ┆        ┆             ┆            ┆   ┆ ercial      ┆            ┆            ┆            │\n",
              "│ …   ┆ …      ┆ …           ┆ …          ┆ … ┆ …           ┆ …          ┆ …          ┆ …          │\n",
              "│ 15  ┆ 89900  ┆ 0.0         ┆ true       ┆ … ┆ public/comm ┆ No         ┆ No         ┆ No         │\n",
              "│     ┆        ┆             ┆            ┆   ┆ ercial      ┆            ┆            ┆            │\n",
              "│ 16  ┆ 155000 ┆ 0.13        ┆ false      ┆ … ┆ septic      ┆ No         ┆ No         ┆ No         │\n",
              "│ 17  ┆ 253750 ┆ 2.0         ┆ false      ┆ … ┆ none        ┆ No         ┆ No         ┆ Yes        │\n",
              "│ 18  ┆ 60000  ┆ 0.21        ┆ true       ┆ … ┆ septic      ┆ No         ┆ No         ┆ No         │\n",
              "│ 19  ┆ 87500  ┆ 0.88        ┆ false      ┆ … ┆ septic      ┆ No         ┆ No         ┆ No         │\n",
              "└─────┴────────┴─────────────┴────────────┴───┴─────────────┴────────────┴────────────┴────────────┘"
            ],
            "text/html": [
              "<div><style>\n",
              ".dataframe > thead > tr,\n",
              ".dataframe > tbody > tr {\n",
              "  text-align: right;\n",
              "  white-space: pre-wrap;\n",
              "}\n",
              "</style>\n",
              "<small>shape: (20, 16)</small><table border=\"1\" class=\"dataframe\"><thead><tr><th></th><th>precio</th><th>metros_totales</th><th>antiguedad</th><th>precio_terreno</th><th>metros_habitables</th><th>universitarios</th><th>dormitorios</th><th>baños</th><th>habitaciones</th><th>calefaccion</th><th>consumo_calefacion</th><th>desague</th><th>vistas_lago</th><th>nueva_construccion</th><th>aire_acondicionado</th></tr><tr><td>i64</td><td>i64</td><td>f64</td><td>bool</td><td>i64</td><td>i64</td><td>i64</td><td>i64</td><td>f64</td><td>i64</td><td>str</td><td>str</td><td>str</td><td>str</td><td>str</td><td>str</td></tr></thead><tbody><tr><td>0</td><td>132500</td><td>0.09</td><td>false</td><td>50000</td><td>906</td><td>35</td><td>2</td><td>1.0</td><td>5</td><td>&quot;electric&quot;</td><td>&quot;electric&quot;</td><td>&quot;septic&quot;</td><td>&quot;No&quot;</td><td>&quot;No&quot;</td><td>&quot;No&quot;</td></tr><tr><td>1</td><td>181115</td><td>0.92</td><td>false</td><td>22300</td><td>1953</td><td>51</td><td>3</td><td>2.5</td><td>6</td><td>&quot;hot water/steam&quot;</td><td>&quot;gas&quot;</td><td>&quot;septic&quot;</td><td>&quot;No&quot;</td><td>&quot;No&quot;</td><td>&quot;No&quot;</td></tr><tr><td>2</td><td>109000</td><td>0.19</td><td>true</td><td>7300</td><td>1944</td><td>51</td><td>4</td><td>1.0</td><td>8</td><td>&quot;hot water/steam&quot;</td><td>&quot;gas&quot;</td><td>&quot;public/commercial&quot;</td><td>&quot;No&quot;</td><td>&quot;No&quot;</td><td>&quot;No&quot;</td></tr><tr><td>3</td><td>155000</td><td>0.41</td><td>false</td><td>18700</td><td>1944</td><td>51</td><td>3</td><td>1.5</td><td>5</td><td>&quot;hot air&quot;</td><td>&quot;gas&quot;</td><td>&quot;septic&quot;</td><td>&quot;No&quot;</td><td>&quot;No&quot;</td><td>&quot;No&quot;</td></tr><tr><td>4</td><td>86060</td><td>0.11</td><td>false</td><td>15000</td><td>840</td><td>51</td><td>2</td><td>1.0</td><td>3</td><td>&quot;hot air&quot;</td><td>&quot;gas&quot;</td><td>&quot;public/commercial&quot;</td><td>&quot;No&quot;</td><td>&quot;Yes&quot;</td><td>&quot;Yes&quot;</td></tr><tr><td>&hellip;</td><td>&hellip;</td><td>&hellip;</td><td>&hellip;</td><td>&hellip;</td><td>&hellip;</td><td>&hellip;</td><td>&hellip;</td><td>&hellip;</td><td>&hellip;</td><td>&hellip;</td><td>&hellip;</td><td>&hellip;</td><td>&hellip;</td><td>&hellip;</td><td>&hellip;</td></tr><tr><td>15</td><td>89900</td><td>0.0</td><td>true</td><td>2500</td><td>936</td><td>57</td><td>3</td><td>1.0</td><td>4</td><td>&quot;hot water/steam&quot;</td><td>&quot;gas&quot;</td><td>&quot;public/commercial&quot;</td><td>&quot;No&quot;</td><td>&quot;No&quot;</td><td>&quot;No&quot;</td></tr><tr><td>16</td><td>155000</td><td>0.13</td><td>false</td><td>300</td><td>1300</td><td>41</td><td>3</td><td>1.5</td><td>7</td><td>&quot;hot air&quot;</td><td>&quot;oil&quot;</td><td>&quot;septic&quot;</td><td>&quot;No&quot;</td><td>&quot;No&quot;</td><td>&quot;No&quot;</td></tr><tr><td>17</td><td>253750</td><td>2.0</td><td>false</td><td>49800</td><td>2816</td><td>71</td><td>4</td><td>2.5</td><td>12</td><td>&quot;hot air&quot;</td><td>&quot;gas&quot;</td><td>&quot;none&quot;</td><td>&quot;No&quot;</td><td>&quot;No&quot;</td><td>&quot;Yes&quot;</td></tr><tr><td>18</td><td>60000</td><td>0.21</td><td>true</td><td>8500</td><td>924</td><td>35</td><td>2</td><td>1.0</td><td>6</td><td>&quot;hot water/steam&quot;</td><td>&quot;oil&quot;</td><td>&quot;septic&quot;</td><td>&quot;No&quot;</td><td>&quot;No&quot;</td><td>&quot;No&quot;</td></tr><tr><td>19</td><td>87500</td><td>0.88</td><td>false</td><td>19400</td><td>1092</td><td>35</td><td>3</td><td>1.0</td><td>6</td><td>&quot;hot air&quot;</td><td>&quot;oil&quot;</td><td>&quot;septic&quot;</td><td>&quot;No&quot;</td><td>&quot;No&quot;</td><td>&quot;No&quot;</td></tr></tbody></table></div>"
            ]
          },
          "metadata": {},
          "execution_count": 54
        }
      ],
      "source": [
        "query5 = (\n",
        "    pl.scan_csv('https://raw.githubusercontent.com/VINY2030/datasets/refs/heads/main/SaratogaHouses.csv')\n",
        "    .with_columns(antiguedad=(pl.col('antiguedad') > 60))\n",
        "    .filter(pl.col('precio') > 50000) # Use pl.col aqui para su consistencia\n",
        "\n",
        ")\n",
        "query5.fetch(n_rows=20)  ## toma las 20 filas pero señala que use el lazy frame"
      ]
    },
    {
      "cell_type": "code",
      "execution_count": 55,
      "metadata": {
        "colab": {
          "base_uri": "https://localhost:8080/",
          "height": 532
        },
        "id": "ubReladMgepq",
        "outputId": "67c830cd-af87-44fc-9d07-7e456dca84f1"
      },
      "outputs": [
        {
          "output_type": "execute_result",
          "data": {
            "text/plain": [
              "shape: (20, 16)\n",
              "┌─────┬────────┬─────────────┬────────────┬───┬─────────────┬────────────┬────────────┬────────────┐\n",
              "│     ┆ precio ┆ metros_tota ┆ antiguedad ┆ … ┆ desague     ┆ vistas_lag ┆ nueva_cons ┆ aire_acond │\n",
              "│ --- ┆ ---    ┆ les         ┆ ---        ┆   ┆ ---         ┆ o          ┆ truccion   ┆ icionado   │\n",
              "│ i64 ┆ i64    ┆ ---         ┆ bool       ┆   ┆ str         ┆ ---        ┆ ---        ┆ ---        │\n",
              "│     ┆        ┆ f64         ┆            ┆   ┆             ┆ str        ┆ str        ┆ str        │\n",
              "╞═════╪════════╪═════════════╪════════════╪═══╪═════════════╪════════════╪════════════╪════════════╡\n",
              "│ 0   ┆ 132500 ┆ 0.09        ┆ false      ┆ … ┆ septic      ┆ No         ┆ No         ┆ No         │\n",
              "│ 1   ┆ 181115 ┆ 0.92        ┆ false      ┆ … ┆ septic      ┆ No         ┆ No         ┆ No         │\n",
              "│ 2   ┆ 109000 ┆ 0.19        ┆ true       ┆ … ┆ public/comm ┆ No         ┆ No         ┆ No         │\n",
              "│     ┆        ┆             ┆            ┆   ┆ ercial      ┆            ┆            ┆            │\n",
              "│ 3   ┆ 155000 ┆ 0.41        ┆ false      ┆ … ┆ septic      ┆ No         ┆ No         ┆ No         │\n",
              "│ 4   ┆ 86060  ┆ 0.11        ┆ false      ┆ … ┆ public/comm ┆ No         ┆ Yes        ┆ Yes        │\n",
              "│     ┆        ┆             ┆            ┆   ┆ ercial      ┆            ┆            ┆            │\n",
              "│ …   ┆ …      ┆ …           ┆ …          ┆ … ┆ …           ┆ …          ┆ …          ┆ …          │\n",
              "│ 15  ┆ 89900  ┆ 0.0         ┆ true       ┆ … ┆ public/comm ┆ No         ┆ No         ┆ No         │\n",
              "│     ┆        ┆             ┆            ┆   ┆ ercial      ┆            ┆            ┆            │\n",
              "│ 16  ┆ 155000 ┆ 0.13        ┆ false      ┆ … ┆ septic      ┆ No         ┆ No         ┆ No         │\n",
              "│ 17  ┆ 253750 ┆ 2.0         ┆ false      ┆ … ┆ none        ┆ No         ┆ No         ┆ Yes        │\n",
              "│ 18  ┆ 60000  ┆ 0.21        ┆ true       ┆ … ┆ septic      ┆ No         ┆ No         ┆ No         │\n",
              "│ 19  ┆ 87500  ┆ 0.88        ┆ false      ┆ … ┆ septic      ┆ No         ┆ No         ┆ No         │\n",
              "└─────┴────────┴─────────────┴────────────┴───┴─────────────┴────────────┴────────────┴────────────┘"
            ],
            "text/html": [
              "<div><style>\n",
              ".dataframe > thead > tr,\n",
              ".dataframe > tbody > tr {\n",
              "  text-align: right;\n",
              "  white-space: pre-wrap;\n",
              "}\n",
              "</style>\n",
              "<small>shape: (20, 16)</small><table border=\"1\" class=\"dataframe\"><thead><tr><th></th><th>precio</th><th>metros_totales</th><th>antiguedad</th><th>precio_terreno</th><th>metros_habitables</th><th>universitarios</th><th>dormitorios</th><th>baños</th><th>habitaciones</th><th>calefaccion</th><th>consumo_calefacion</th><th>desague</th><th>vistas_lago</th><th>nueva_construccion</th><th>aire_acondicionado</th></tr><tr><td>i64</td><td>i64</td><td>f64</td><td>bool</td><td>i64</td><td>i64</td><td>i64</td><td>i64</td><td>f64</td><td>i64</td><td>str</td><td>str</td><td>str</td><td>str</td><td>str</td><td>str</td></tr></thead><tbody><tr><td>0</td><td>132500</td><td>0.09</td><td>false</td><td>50000</td><td>906</td><td>35</td><td>2</td><td>1.0</td><td>5</td><td>&quot;electric&quot;</td><td>&quot;electric&quot;</td><td>&quot;septic&quot;</td><td>&quot;No&quot;</td><td>&quot;No&quot;</td><td>&quot;No&quot;</td></tr><tr><td>1</td><td>181115</td><td>0.92</td><td>false</td><td>22300</td><td>1953</td><td>51</td><td>3</td><td>2.5</td><td>6</td><td>&quot;hot water/steam&quot;</td><td>&quot;gas&quot;</td><td>&quot;septic&quot;</td><td>&quot;No&quot;</td><td>&quot;No&quot;</td><td>&quot;No&quot;</td></tr><tr><td>2</td><td>109000</td><td>0.19</td><td>true</td><td>7300</td><td>1944</td><td>51</td><td>4</td><td>1.0</td><td>8</td><td>&quot;hot water/steam&quot;</td><td>&quot;gas&quot;</td><td>&quot;public/commercial&quot;</td><td>&quot;No&quot;</td><td>&quot;No&quot;</td><td>&quot;No&quot;</td></tr><tr><td>3</td><td>155000</td><td>0.41</td><td>false</td><td>18700</td><td>1944</td><td>51</td><td>3</td><td>1.5</td><td>5</td><td>&quot;hot air&quot;</td><td>&quot;gas&quot;</td><td>&quot;septic&quot;</td><td>&quot;No&quot;</td><td>&quot;No&quot;</td><td>&quot;No&quot;</td></tr><tr><td>4</td><td>86060</td><td>0.11</td><td>false</td><td>15000</td><td>840</td><td>51</td><td>2</td><td>1.0</td><td>3</td><td>&quot;hot air&quot;</td><td>&quot;gas&quot;</td><td>&quot;public/commercial&quot;</td><td>&quot;No&quot;</td><td>&quot;Yes&quot;</td><td>&quot;Yes&quot;</td></tr><tr><td>&hellip;</td><td>&hellip;</td><td>&hellip;</td><td>&hellip;</td><td>&hellip;</td><td>&hellip;</td><td>&hellip;</td><td>&hellip;</td><td>&hellip;</td><td>&hellip;</td><td>&hellip;</td><td>&hellip;</td><td>&hellip;</td><td>&hellip;</td><td>&hellip;</td><td>&hellip;</td></tr><tr><td>15</td><td>89900</td><td>0.0</td><td>true</td><td>2500</td><td>936</td><td>57</td><td>3</td><td>1.0</td><td>4</td><td>&quot;hot water/steam&quot;</td><td>&quot;gas&quot;</td><td>&quot;public/commercial&quot;</td><td>&quot;No&quot;</td><td>&quot;No&quot;</td><td>&quot;No&quot;</td></tr><tr><td>16</td><td>155000</td><td>0.13</td><td>false</td><td>300</td><td>1300</td><td>41</td><td>3</td><td>1.5</td><td>7</td><td>&quot;hot air&quot;</td><td>&quot;oil&quot;</td><td>&quot;septic&quot;</td><td>&quot;No&quot;</td><td>&quot;No&quot;</td><td>&quot;No&quot;</td></tr><tr><td>17</td><td>253750</td><td>2.0</td><td>false</td><td>49800</td><td>2816</td><td>71</td><td>4</td><td>2.5</td><td>12</td><td>&quot;hot air&quot;</td><td>&quot;gas&quot;</td><td>&quot;none&quot;</td><td>&quot;No&quot;</td><td>&quot;No&quot;</td><td>&quot;Yes&quot;</td></tr><tr><td>18</td><td>60000</td><td>0.21</td><td>true</td><td>8500</td><td>924</td><td>35</td><td>2</td><td>1.0</td><td>6</td><td>&quot;hot water/steam&quot;</td><td>&quot;oil&quot;</td><td>&quot;septic&quot;</td><td>&quot;No&quot;</td><td>&quot;No&quot;</td><td>&quot;No&quot;</td></tr><tr><td>19</td><td>87500</td><td>0.88</td><td>false</td><td>19400</td><td>1092</td><td>35</td><td>3</td><td>1.0</td><td>6</td><td>&quot;hot air&quot;</td><td>&quot;oil&quot;</td><td>&quot;septic&quot;</td><td>&quot;No&quot;</td><td>&quot;No&quot;</td><td>&quot;No&quot;</td></tr></tbody></table></div>"
            ]
          },
          "metadata": {},
          "execution_count": 55
        }
      ],
      "source": [
        "query5.collect().head(20)  ## alternativa al fetch"
      ]
    },
    {
      "cell_type": "markdown",
      "metadata": {
        "id": "k7HKOnus0uI6"
      },
      "source": [
        "\n",
        "# **<font color=\"#07a8ed\">Lazy Frames Agregaciones**"
      ]
    },
    {
      "cell_type": "code",
      "execution_count": 56,
      "metadata": {
        "colab": {
          "base_uri": "https://localhost:8080/",
          "height": 168
        },
        "id": "MtWomLHc06Iq",
        "outputId": "672b746d-7ad5-4e40-d8c6-d84cc86f58b8"
      },
      "outputs": [
        {
          "output_type": "execute_result",
          "data": {
            "text/plain": [
              "<LazyFrame at 0x7C7007794190>"
            ],
            "text/html": [
              "<h4>NAIVE QUERY PLAN</h4><p>run <b>LazyFrame.show_graph()</b> to see the optimized version</p><?xml version=\"1.0\" encoding=\"UTF-8\" standalone=\"no\"?>\n",
              "<!DOCTYPE svg PUBLIC \"-//W3C//DTD SVG 1.1//EN\"\n",
              " \"http://www.w3.org/Graphics/SVG/1.1/DTD/svg11.dtd\">\n",
              "<!-- Generated by graphviz version 2.43.0 (0)\n",
              " -->\n",
              "<!-- Title: polars_query Pages: 1 -->\n",
              "<svg width=\"67pt\" height=\"61pt\"\n",
              " viewBox=\"0.00 0.00 67.00 61.00\" xmlns=\"http://www.w3.org/2000/svg\" xmlns:xlink=\"http://www.w3.org/1999/xlink\">\n",
              "<g id=\"graph0\" class=\"graph\" transform=\"scale(1 1) rotate(0) translate(4 57)\">\n",
              "<title>polars_query</title>\n",
              "<polygon fill=\"white\" stroke=\"transparent\" points=\"-4,4 -4,-57 63,-57 63,4 -4,4\"/>\n",
              "<!-- p1 -->\n",
              "<g id=\"node1\" class=\"node\">\n",
              "<title>p1</title>\n",
              "<polygon fill=\"none\" stroke=\"black\" points=\"59,-53 0,-53 0,0 59,0 59,-53\"/>\n",
              "<text text-anchor=\"middle\" x=\"29.5\" y=\"-37.8\" font-family=\"Times,serif\" font-size=\"14.00\">TABLE</text>\n",
              "<text text-anchor=\"middle\" x=\"29.5\" y=\"-22.8\" font-family=\"Times,serif\" font-size=\"14.00\">π */2;</text>\n",
              "<text text-anchor=\"middle\" x=\"29.5\" y=\"-7.8\" font-family=\"Times,serif\" font-size=\"14.00\">σ None</text>\n",
              "</g>\n",
              "</g>\n",
              "</svg>\n"
            ]
          },
          "metadata": {},
          "execution_count": 56
        }
      ],
      "source": [
        "import polars as pl\n",
        "\n",
        "lf = pl.LazyFrame(\n",
        "    {\n",
        "        'id': [1,2,3],\n",
        "        'nombre': ['Jose', 'Ana', 'Rosa']\n",
        "    }\n",
        ")\n",
        "\n",
        "lf"
      ]
    },
    {
      "cell_type": "markdown",
      "metadata": {
        "id": "QhL-_67WibOx"
      },
      "source": [
        "`La visualización del plan de consulta debe leerse de abajo hacia arriba. Expliquemos como leer esta salida:**`\n",
        "\n",
        "`Cada rectángulo corresponde a una etapa del plan de consulta`\n",
        "\n",
        "`El sigma significa SELECCIÓN e indica cualquier condición de filtro`\n",
        "\n",
        "`El pi significa PROYECCIÓN e indica la elección de un subconjunto de columnas`"
      ]
    },
    {
      "cell_type": "markdown",
      "metadata": {
        "id": "KAr-fHsZ1cUS"
      },
      "source": [
        "`Si tratamos de mostrar el LazyFrame como se muestra en la celda previa lo que obtendremos es una representación visual del plan de ejecució`n.\n",
        "\n",
        "`Por tanto si deseamos mostrar el LazyFrame debemos convertirlo a un DataFrame con la función collect y luego mostrarlo.`"
      ]
    },
    {
      "cell_type": "code",
      "execution_count": 57,
      "metadata": {
        "colab": {
          "base_uri": "https://localhost:8080/",
          "height": 103
        },
        "id": "Wu8BgJDI1INa",
        "outputId": "4f73692c-232c-4134-e033-dba81b4f6f46"
      },
      "outputs": [
        {
          "output_type": "display_data",
          "data": {
            "text/plain": [
              "<IPython.core.display.SVG object>"
            ],
            "image/svg+xml": "<svg xmlns=\"http://www.w3.org/2000/svg\" xmlns:xlink=\"http://www.w3.org/1999/xlink\" width=\"67pt\" height=\"61pt\" viewBox=\"0.00 0.00 67.00 61.00\">\n<g id=\"graph0\" class=\"graph\" transform=\"scale(1 1) rotate(0) translate(4 57)\">\n<title>polars_query</title>\n<polygon fill=\"white\" stroke=\"transparent\" points=\"-4,4 -4,-57 63,-57 63,4 -4,4\"/>\n<!-- p1 -->\n<g id=\"node1\" class=\"node\">\n<title>p1</title>\n<polygon fill=\"none\" stroke=\"black\" points=\"59,-53 0,-53 0,0 59,0 59,-53\"/>\n<text text-anchor=\"middle\" x=\"29.5\" y=\"-37.8\" font-family=\"Times,serif\" font-size=\"14.00\">TABLE</text>\n<text text-anchor=\"middle\" x=\"29.5\" y=\"-22.8\" font-family=\"Times,serif\" font-size=\"14.00\">π */2;</text>\n<text text-anchor=\"middle\" x=\"29.5\" y=\"-7.8\" font-family=\"Times,serif\" font-size=\"14.00\">σ None</text>\n</g>\n</g>\n</svg>"
          },
          "metadata": {}
        }
      ],
      "source": [
        "lf.show_graph()  ## plan de ejecucion del lazy frame"
      ]
    },
    {
      "cell_type": "code",
      "execution_count": 58,
      "metadata": {
        "colab": {
          "base_uri": "https://localhost:8080/",
          "height": 192
        },
        "id": "cJx9uyoB1AAS",
        "outputId": "5dcccd71-44ab-4cea-c63f-99fe31b7a505"
      },
      "outputs": [
        {
          "output_type": "execute_result",
          "data": {
            "text/plain": [
              "shape: (3, 2)\n",
              "┌─────┬────────┐\n",
              "│ id  ┆ nombre │\n",
              "│ --- ┆ ---    │\n",
              "│ i64 ┆ str    │\n",
              "╞═════╪════════╡\n",
              "│ 1   ┆ Jose   │\n",
              "│ 2   ┆ Ana    │\n",
              "│ 3   ┆ Rosa   │\n",
              "└─────┴────────┘"
            ],
            "text/html": [
              "<div><style>\n",
              ".dataframe > thead > tr,\n",
              ".dataframe > tbody > tr {\n",
              "  text-align: right;\n",
              "  white-space: pre-wrap;\n",
              "}\n",
              "</style>\n",
              "<small>shape: (3, 2)</small><table border=\"1\" class=\"dataframe\"><thead><tr><th>id</th><th>nombre</th></tr><tr><td>i64</td><td>str</td></tr></thead><tbody><tr><td>1</td><td>&quot;Jose&quot;</td></tr><tr><td>2</td><td>&quot;Ana&quot;</td></tr><tr><td>3</td><td>&quot;Rosa&quot;</td></tr></tbody></table></div>"
            ]
          },
          "metadata": {},
          "execution_count": 58
        }
      ],
      "source": [
        "lf.collect()  ## leer el lazy frame con el metodo collect()"
      ]
    },
    {
      "cell_type": "markdown",
      "metadata": {
        "id": "RNzTeOBQ1ohA"
      },
      "source": [
        "# **null_count**\n",
        "\n",
        "\n",
        "`= en Pandas funciona como isnull().sum()`\n",
        "\n",
        "`Esta función retorna el conteo de valores nulos de cada columna.`"
      ]
    },
    {
      "cell_type": "code",
      "execution_count": 59,
      "metadata": {
        "colab": {
          "base_uri": "https://localhost:8080/",
          "height": 148
        },
        "id": "Gs9080Ru1wIx",
        "outputId": "0af99fe4-71ff-4410-96f4-fdfd3bb8f8ed"
      },
      "outputs": [
        {
          "output_type": "execute_result",
          "data": {
            "text/plain": [
              "<LazyFrame at 0x7C70077955D0>"
            ],
            "text/html": [
              "<h4>NAIVE QUERY PLAN</h4><p>run <b>LazyFrame.show_graph()</b> to see the optimized version</p><?xml version=\"1.0\" encoding=\"UTF-8\" standalone=\"no\"?>\n",
              "<!DOCTYPE svg PUBLIC \"-//W3C//DTD SVG 1.1//EN\"\n",
              " \"http://www.w3.org/Graphics/SVG/1.1/DTD/svg11.dtd\">\n",
              "<!-- Generated by graphviz version 2.43.0 (0)\n",
              " -->\n",
              "<!-- Title: polars_query Pages: 1 -->\n",
              "<svg width=\"597pt\" height=\"46pt\"\n",
              " viewBox=\"0.00 0.00 597.00 46.00\" xmlns=\"http://www.w3.org/2000/svg\" xmlns:xlink=\"http://www.w3.org/1999/xlink\">\n",
              "<g id=\"graph0\" class=\"graph\" transform=\"scale(1 1) rotate(0) translate(4 42)\">\n",
              "<title>polars_query</title>\n",
              "<polygon fill=\"white\" stroke=\"transparent\" points=\"-4,4 -4,-42 593,-42 593,4 -4,4\"/>\n",
              "<!-- p1 -->\n",
              "<g id=\"node1\" class=\"node\">\n",
              "<title>p1</title>\n",
              "<polygon fill=\"none\" stroke=\"black\" points=\"589,-38 0,-38 0,0 589,0 589,-38\"/>\n",
              "<text text-anchor=\"middle\" x=\"294.5\" y=\"-22.8\" font-family=\"Times,serif\" font-size=\"14.00\">Csv SCAN [https://raw.githubusercontent.com/VINY2030/datasets/refs/heads/main/SaratogaHouses.csv]</text>\n",
              "<text text-anchor=\"middle\" x=\"294.5\" y=\"-7.8\" font-family=\"Times,serif\" font-size=\"14.00\">π */16;</text>\n",
              "</g>\n",
              "</g>\n",
              "</svg>\n"
            ]
          },
          "metadata": {},
          "execution_count": 59
        }
      ],
      "source": [
        "df = (\n",
        "    pl.scan_csv('https://raw.githubusercontent.com/VINY2030/datasets/refs/heads/main/SaratogaHouses.csv')\n",
        ")\n",
        "df"
      ]
    },
    {
      "cell_type": "code",
      "execution_count": 60,
      "metadata": {
        "colab": {
          "base_uri": "https://localhost:8080/",
          "height": 83
        },
        "id": "7vrrwFk2hCE5",
        "outputId": "ef1f3ff2-e5be-479b-b950-3753e177b887"
      },
      "outputs": [
        {
          "output_type": "display_data",
          "data": {
            "text/plain": [
              "<IPython.core.display.SVG object>"
            ],
            "image/svg+xml": "<svg xmlns=\"http://www.w3.org/2000/svg\" xmlns:xlink=\"http://www.w3.org/1999/xlink\" width=\"597pt\" height=\"46pt\" viewBox=\"0.00 0.00 597.00 46.00\">\n<g id=\"graph0\" class=\"graph\" transform=\"scale(1 1) rotate(0) translate(4 42)\">\n<title>polars_query</title>\n<polygon fill=\"white\" stroke=\"transparent\" points=\"-4,4 -4,-42 593,-42 593,4 -4,4\"/>\n<!-- p1 -->\n<g id=\"node1\" class=\"node\">\n<title>p1</title>\n<polygon fill=\"none\" stroke=\"black\" points=\"589,-38 0,-38 0,0 589,0 589,-38\"/>\n<text text-anchor=\"middle\" x=\"294.5\" y=\"-22.8\" font-family=\"Times,serif\" font-size=\"14.00\">Csv SCAN [https://raw.githubusercontent.com/VINY2030/datasets/refs/heads/main/SaratogaHouses.csv]</text>\n<text text-anchor=\"middle\" x=\"294.5\" y=\"-7.8\" font-family=\"Times,serif\" font-size=\"14.00\">π */16;</text>\n</g>\n</g>\n</svg>"
          },
          "metadata": {}
        }
      ],
      "source": [
        "df.show_graph() ## se muestra el plan del lazy frame"
      ]
    },
    {
      "cell_type": "code",
      "execution_count": 61,
      "metadata": {
        "colab": {
          "base_uri": "https://localhost:8080/",
          "height": 532
        },
        "id": "MFnLh-Ao138d",
        "outputId": "49e8bec4-301a-4f54-b822-f6a29b4c1d89"
      },
      "outputs": [
        {
          "output_type": "execute_result",
          "data": {
            "text/plain": [
              "shape: (1_728, 16)\n",
              "┌──────┬────────┬─────────────┬────────────┬───┬────────────┬────────────┬────────────┬────────────┐\n",
              "│      ┆ precio ┆ metros_tota ┆ antiguedad ┆ … ┆ desague    ┆ vistas_lag ┆ nueva_cons ┆ aire_acond │\n",
              "│ ---  ┆ ---    ┆ les         ┆ ---        ┆   ┆ ---        ┆ o          ┆ truccion   ┆ icionado   │\n",
              "│ i64  ┆ i64    ┆ ---         ┆ i64        ┆   ┆ str        ┆ ---        ┆ ---        ┆ ---        │\n",
              "│      ┆        ┆ f64         ┆            ┆   ┆            ┆ str        ┆ str        ┆ str        │\n",
              "╞══════╪════════╪═════════════╪════════════╪═══╪════════════╪════════════╪════════════╪════════════╡\n",
              "│ 0    ┆ 132500 ┆ 0.09        ┆ 42         ┆ … ┆ septic     ┆ No         ┆ No         ┆ No         │\n",
              "│ 1    ┆ 181115 ┆ 0.92        ┆ 0          ┆ … ┆ septic     ┆ No         ┆ No         ┆ No         │\n",
              "│ 2    ┆ 109000 ┆ 0.19        ┆ 133        ┆ … ┆ public/com ┆ No         ┆ No         ┆ No         │\n",
              "│      ┆        ┆             ┆            ┆   ┆ mercial    ┆            ┆            ┆            │\n",
              "│ 3    ┆ 155000 ┆ 0.41        ┆ 13         ┆ … ┆ septic     ┆ No         ┆ No         ┆ No         │\n",
              "│ 4    ┆ 86060  ┆ 0.11        ┆ 0          ┆ … ┆ public/com ┆ No         ┆ Yes        ┆ Yes        │\n",
              "│      ┆        ┆             ┆            ┆   ┆ mercial    ┆            ┆            ┆            │\n",
              "│ …    ┆ …      ┆ …           ┆ …          ┆ … ┆ …          ┆ …          ┆ …          ┆ …          │\n",
              "│ 1723 ┆ 289000 ┆ 0.38        ┆ 32         ┆ … ┆ public/com ┆ No         ┆ No         ┆ No         │\n",
              "│      ┆        ┆             ┆            ┆   ┆ mercial    ┆            ┆            ┆            │\n",
              "│ 1724 ┆ 285000 ┆ 0.94        ┆ 37         ┆ … ┆ public/com ┆ No         ┆ No         ┆ No         │\n",
              "│      ┆        ┆             ┆            ┆   ┆ mercial    ┆            ┆            ┆            │\n",
              "│ 1725 ┆ 194900 ┆ 0.39        ┆ 9          ┆ … ┆ public/com ┆ No         ┆ No         ┆ No         │\n",
              "│      ┆        ┆             ┆            ┆   ┆ mercial    ┆            ┆            ┆            │\n",
              "│ 1726 ┆ 125000 ┆ 0.24        ┆ 48         ┆ … ┆ public/com ┆ No         ┆ No         ┆ No         │\n",
              "│      ┆        ┆             ┆            ┆   ┆ mercial    ┆            ┆            ┆            │\n",
              "│ 1727 ┆ 111300 ┆ 0.59        ┆ 86         ┆ … ┆ septic     ┆ No         ┆ No         ┆ No         │\n",
              "└──────┴────────┴─────────────┴────────────┴───┴────────────┴────────────┴────────────┴────────────┘"
            ],
            "text/html": [
              "<div><style>\n",
              ".dataframe > thead > tr,\n",
              ".dataframe > tbody > tr {\n",
              "  text-align: right;\n",
              "  white-space: pre-wrap;\n",
              "}\n",
              "</style>\n",
              "<small>shape: (1_728, 16)</small><table border=\"1\" class=\"dataframe\"><thead><tr><th></th><th>precio</th><th>metros_totales</th><th>antiguedad</th><th>precio_terreno</th><th>metros_habitables</th><th>universitarios</th><th>dormitorios</th><th>baños</th><th>habitaciones</th><th>calefaccion</th><th>consumo_calefacion</th><th>desague</th><th>vistas_lago</th><th>nueva_construccion</th><th>aire_acondicionado</th></tr><tr><td>i64</td><td>i64</td><td>f64</td><td>i64</td><td>i64</td><td>i64</td><td>i64</td><td>i64</td><td>f64</td><td>i64</td><td>str</td><td>str</td><td>str</td><td>str</td><td>str</td><td>str</td></tr></thead><tbody><tr><td>0</td><td>132500</td><td>0.09</td><td>42</td><td>50000</td><td>906</td><td>35</td><td>2</td><td>1.0</td><td>5</td><td>&quot;electric&quot;</td><td>&quot;electric&quot;</td><td>&quot;septic&quot;</td><td>&quot;No&quot;</td><td>&quot;No&quot;</td><td>&quot;No&quot;</td></tr><tr><td>1</td><td>181115</td><td>0.92</td><td>0</td><td>22300</td><td>1953</td><td>51</td><td>3</td><td>2.5</td><td>6</td><td>&quot;hot water/steam&quot;</td><td>&quot;gas&quot;</td><td>&quot;septic&quot;</td><td>&quot;No&quot;</td><td>&quot;No&quot;</td><td>&quot;No&quot;</td></tr><tr><td>2</td><td>109000</td><td>0.19</td><td>133</td><td>7300</td><td>1944</td><td>51</td><td>4</td><td>1.0</td><td>8</td><td>&quot;hot water/steam&quot;</td><td>&quot;gas&quot;</td><td>&quot;public/commercial&quot;</td><td>&quot;No&quot;</td><td>&quot;No&quot;</td><td>&quot;No&quot;</td></tr><tr><td>3</td><td>155000</td><td>0.41</td><td>13</td><td>18700</td><td>1944</td><td>51</td><td>3</td><td>1.5</td><td>5</td><td>&quot;hot air&quot;</td><td>&quot;gas&quot;</td><td>&quot;septic&quot;</td><td>&quot;No&quot;</td><td>&quot;No&quot;</td><td>&quot;No&quot;</td></tr><tr><td>4</td><td>86060</td><td>0.11</td><td>0</td><td>15000</td><td>840</td><td>51</td><td>2</td><td>1.0</td><td>3</td><td>&quot;hot air&quot;</td><td>&quot;gas&quot;</td><td>&quot;public/commercial&quot;</td><td>&quot;No&quot;</td><td>&quot;Yes&quot;</td><td>&quot;Yes&quot;</td></tr><tr><td>&hellip;</td><td>&hellip;</td><td>&hellip;</td><td>&hellip;</td><td>&hellip;</td><td>&hellip;</td><td>&hellip;</td><td>&hellip;</td><td>&hellip;</td><td>&hellip;</td><td>&hellip;</td><td>&hellip;</td><td>&hellip;</td><td>&hellip;</td><td>&hellip;</td><td>&hellip;</td></tr><tr><td>1723</td><td>289000</td><td>0.38</td><td>32</td><td>24200</td><td>2310</td><td>61</td><td>5</td><td>2.5</td><td>11</td><td>&quot;hot water/steam&quot;</td><td>&quot;gas&quot;</td><td>&quot;public/commercial&quot;</td><td>&quot;No&quot;</td><td>&quot;No&quot;</td><td>&quot;No&quot;</td></tr><tr><td>1724</td><td>285000</td><td>0.94</td><td>37</td><td>36200</td><td>2564</td><td>61</td><td>4</td><td>2.5</td><td>11</td><td>&quot;hot water/steam&quot;</td><td>&quot;gas&quot;</td><td>&quot;public/commercial&quot;</td><td>&quot;No&quot;</td><td>&quot;No&quot;</td><td>&quot;No&quot;</td></tr><tr><td>1725</td><td>194900</td><td>0.39</td><td>9</td><td>20400</td><td>1099</td><td>51</td><td>2</td><td>1.0</td><td>3</td><td>&quot;hot air&quot;</td><td>&quot;gas&quot;</td><td>&quot;public/commercial&quot;</td><td>&quot;No&quot;</td><td>&quot;No&quot;</td><td>&quot;No&quot;</td></tr><tr><td>1726</td><td>125000</td><td>0.24</td><td>48</td><td>16800</td><td>1225</td><td>51</td><td>3</td><td>1.0</td><td>7</td><td>&quot;hot air&quot;</td><td>&quot;gas&quot;</td><td>&quot;public/commercial&quot;</td><td>&quot;No&quot;</td><td>&quot;No&quot;</td><td>&quot;No&quot;</td></tr><tr><td>1727</td><td>111300</td><td>0.59</td><td>86</td><td>26000</td><td>1959</td><td>51</td><td>3</td><td>1.0</td><td>6</td><td>&quot;hot air&quot;</td><td>&quot;gas&quot;</td><td>&quot;septic&quot;</td><td>&quot;No&quot;</td><td>&quot;No&quot;</td><td>&quot;No&quot;</td></tr></tbody></table></div>"
            ]
          },
          "metadata": {},
          "execution_count": 61
        }
      ],
      "source": [
        "df.collect()  ## leer el lazy frame a traves del metodo collect()"
      ]
    },
    {
      "cell_type": "code",
      "execution_count": 62,
      "metadata": {
        "colab": {
          "base_uri": "https://localhost:8080/",
          "height": 149
        },
        "id": "4vADEYyC2quy",
        "outputId": "37938b86-f101-474e-e5f9-ca760b67f28c"
      },
      "outputs": [
        {
          "output_type": "execute_result",
          "data": {
            "text/plain": [
              "shape: (1, 16)\n",
              "┌─────┬────────┬──────────────┬────────────┬───┬─────────┬─────────────┬─────────────┬─────────────┐\n",
              "│     ┆ precio ┆ metros_total ┆ antiguedad ┆ … ┆ desague ┆ vistas_lago ┆ nueva_const ┆ aire_acondi │\n",
              "│ --- ┆ ---    ┆ es           ┆ ---        ┆   ┆ ---     ┆ ---         ┆ ruccion     ┆ cionado     │\n",
              "│ u32 ┆ u32    ┆ ---          ┆ u32        ┆   ┆ u32     ┆ u32         ┆ ---         ┆ ---         │\n",
              "│     ┆        ┆ u32          ┆            ┆   ┆         ┆             ┆ u32         ┆ u32         │\n",
              "╞═════╪════════╪══════════════╪════════════╪═══╪═════════╪═════════════╪═════════════╪═════════════╡\n",
              "│ 0   ┆ 0      ┆ 0            ┆ 0          ┆ … ┆ 0       ┆ 0           ┆ 0           ┆ 0           │\n",
              "└─────┴────────┴──────────────┴────────────┴───┴─────────┴─────────────┴─────────────┴─────────────┘"
            ],
            "text/html": [
              "<div><style>\n",
              ".dataframe > thead > tr,\n",
              ".dataframe > tbody > tr {\n",
              "  text-align: right;\n",
              "  white-space: pre-wrap;\n",
              "}\n",
              "</style>\n",
              "<small>shape: (1, 16)</small><table border=\"1\" class=\"dataframe\"><thead><tr><th></th><th>precio</th><th>metros_totales</th><th>antiguedad</th><th>precio_terreno</th><th>metros_habitables</th><th>universitarios</th><th>dormitorios</th><th>baños</th><th>habitaciones</th><th>calefaccion</th><th>consumo_calefacion</th><th>desague</th><th>vistas_lago</th><th>nueva_construccion</th><th>aire_acondicionado</th></tr><tr><td>u32</td><td>u32</td><td>u32</td><td>u32</td><td>u32</td><td>u32</td><td>u32</td><td>u32</td><td>u32</td><td>u32</td><td>u32</td><td>u32</td><td>u32</td><td>u32</td><td>u32</td><td>u32</td></tr></thead><tbody><tr><td>0</td><td>0</td><td>0</td><td>0</td><td>0</td><td>0</td><td>0</td><td>0</td><td>0</td><td>0</td><td>0</td><td>0</td><td>0</td><td>0</td><td>0</td><td>0</td></tr></tbody></table></div>"
            ]
          },
          "metadata": {},
          "execution_count": 62
        }
      ],
      "source": [
        "df.null_count().collect()  ## nulos a traves de collect()"
      ]
    },
    {
      "cell_type": "markdown",
      "metadata": {
        "id": "8uAkKsLS18pB"
      },
      "source": [
        "# **Sum**\n",
        "\n",
        "`= en Pandas es similar`\n",
        "\n",
        "`###Esta función devuelve la suma de los valores de cada columna del DataFrame.`"
      ]
    },
    {
      "cell_type": "code",
      "execution_count": 66,
      "metadata": {
        "colab": {
          "base_uri": "https://localhost:8080/",
          "height": 244
        },
        "id": "v1b-xh9_2BtE",
        "outputId": "343b4e6b-d232-4c22-dc3a-3895e5efa3e7"
      },
      "outputs": [
        {
          "output_type": "execute_result",
          "data": {
            "text/plain": [
              "<LazyFrame at 0x7C7007795480>"
            ],
            "text/html": [
              "<h4>NAIVE QUERY PLAN</h4><p>run <b>LazyFrame.show_graph()</b> to see the optimized version</p><?xml version=\"1.0\" encoding=\"UTF-8\" standalone=\"no\"?>\n",
              "<!DOCTYPE svg PUBLIC \"-//W3C//DTD SVG 1.1//EN\"\n",
              " \"http://www.w3.org/Graphics/SVG/1.1/DTD/svg11.dtd\">\n",
              "<!-- Generated by graphviz version 2.43.0 (0)\n",
              " -->\n",
              "<!-- Title: polars_query Pages: 1 -->\n",
              "<svg width=\"597pt\" height=\"118pt\"\n",
              " viewBox=\"0.00 0.00 597.00 118.00\" xmlns=\"http://www.w3.org/2000/svg\" xmlns:xlink=\"http://www.w3.org/1999/xlink\">\n",
              "<g id=\"graph0\" class=\"graph\" transform=\"scale(1 1) rotate(0) translate(4 114)\">\n",
              "<title>polars_query</title>\n",
              "<polygon fill=\"white\" stroke=\"transparent\" points=\"-4,4 -4,-114 593,-114 593,4 -4,4\"/>\n",
              "<!-- p1 -->\n",
              "<g id=\"node1\" class=\"node\">\n",
              "<title>p1</title>\n",
              "<polygon fill=\"none\" stroke=\"black\" points=\"323.5,-110 265.5,-110 265.5,-74 323.5,-74 323.5,-110\"/>\n",
              "<text text-anchor=\"middle\" x=\"294.5\" y=\"-88.3\" font-family=\"Times,serif\" font-size=\"14.00\">π 16/16</text>\n",
              "</g>\n",
              "<!-- p2 -->\n",
              "<g id=\"node2\" class=\"node\">\n",
              "<title>p2</title>\n",
              "<polygon fill=\"none\" stroke=\"black\" points=\"589,-38 0,-38 0,0 589,0 589,-38\"/>\n",
              "<text text-anchor=\"middle\" x=\"294.5\" y=\"-22.8\" font-family=\"Times,serif\" font-size=\"14.00\">Csv SCAN [https://raw.githubusercontent.com/VINY2030/datasets/refs/heads/main/SaratogaHouses.csv]</text>\n",
              "<text text-anchor=\"middle\" x=\"294.5\" y=\"-7.8\" font-family=\"Times,serif\" font-size=\"14.00\">π */16;</text>\n",
              "</g>\n",
              "<!-- p1&#45;&#45;p2 -->\n",
              "<g id=\"edge1\" class=\"edge\">\n",
              "<title>p1&#45;&#45;p2</title>\n",
              "<path fill=\"none\" stroke=\"black\" d=\"M294.5,-73.81C294.5,-62.98 294.5,-49.01 294.5,-38.02\"/>\n",
              "</g>\n",
              "</g>\n",
              "</svg>\n"
            ]
          },
          "metadata": {},
          "execution_count": 66
        }
      ],
      "source": [
        "df.sum() ## funcion suma  de los valores de las  columnas del dataset menos las string"
      ]
    },
    {
      "cell_type": "code",
      "source": [
        "df.sum().collect()  ## funcion suma  de los valores de las  columnas del dataset menos las string"
      ],
      "metadata": {
        "colab": {
          "base_uri": "https://localhost:8080/",
          "height": 149
        },
        "id": "7F6W0TccWkSe",
        "outputId": "ebe4e654-8933-440a-e4c7-785b6531091b"
      },
      "execution_count": 67,
      "outputs": [
        {
          "output_type": "execute_result",
          "data": {
            "text/plain": [
              "shape: (1, 16)\n",
              "┌─────────┬───────────┬────────────┬────────────┬───┬─────────┬────────────┬───────────┬───────────┐\n",
              "│         ┆ precio    ┆ metros_tot ┆ antiguedad ┆ … ┆ desague ┆ vistas_lag ┆ nueva_con ┆ aire_acon │\n",
              "│ ---     ┆ ---       ┆ ales       ┆ ---        ┆   ┆ ---     ┆ o          ┆ struccion ┆ dicionado │\n",
              "│ i64     ┆ i64       ┆ ---        ┆ i64        ┆   ┆ str     ┆ ---        ┆ ---       ┆ ---       │\n",
              "│         ┆           ┆ f64        ┆            ┆   ┆         ┆ str        ┆ str       ┆ str       │\n",
              "╞═════════╪═══════════╪════════════╪════════════╪═══╪═════════╪════════════╪═══════════╪═══════════╡\n",
              "│ 1492128 ┆ 366278467 ┆ 864.37     ┆ 48239      ┆ … ┆ null    ┆ null       ┆ null      ┆ null      │\n",
              "└─────────┴───────────┴────────────┴────────────┴───┴─────────┴────────────┴───────────┴───────────┘"
            ],
            "text/html": [
              "<div><style>\n",
              ".dataframe > thead > tr,\n",
              ".dataframe > tbody > tr {\n",
              "  text-align: right;\n",
              "  white-space: pre-wrap;\n",
              "}\n",
              "</style>\n",
              "<small>shape: (1, 16)</small><table border=\"1\" class=\"dataframe\"><thead><tr><th></th><th>precio</th><th>metros_totales</th><th>antiguedad</th><th>precio_terreno</th><th>metros_habitables</th><th>universitarios</th><th>dormitorios</th><th>baños</th><th>habitaciones</th><th>calefaccion</th><th>consumo_calefacion</th><th>desague</th><th>vistas_lago</th><th>nueva_construccion</th><th>aire_acondicionado</th></tr><tr><td>i64</td><td>i64</td><td>f64</td><td>i64</td><td>i64</td><td>i64</td><td>i64</td><td>i64</td><td>f64</td><td>i64</td><td>str</td><td>str</td><td>str</td><td>str</td><td>str</td><td>str</td></tr></thead><tbody><tr><td>1492128</td><td>366278467</td><td>864.37</td><td>48239</td><td>59714820</td><td>3032598</td><td>96021</td><td>5451</td><td>3283.5</td><td>12168</td><td>null</td><td>null</td><td>null</td><td>null</td><td>null</td><td>null</td></tr></tbody></table></div>"
            ]
          },
          "metadata": {},
          "execution_count": 67
        }
      ]
    },
    {
      "cell_type": "markdown",
      "metadata": {
        "id": "ogquLu4y2MP6"
      },
      "source": [
        "# ***Min, Max y Mean***\n",
        "\n",
        "`= en Pandas es similar`\n",
        "\n",
        "`Esta funciones se comportan igual en un DataFrame o un LazyFrame.`"
      ]
    },
    {
      "cell_type": "code",
      "execution_count": 68,
      "metadata": {
        "colab": {
          "base_uri": "https://localhost:8080/",
          "height": 149
        },
        "id": "pL6ElgVP2TFr",
        "outputId": "7435e32d-7874-4e12-dba9-bab2c8bf77e9"
      },
      "outputs": [
        {
          "output_type": "execute_result",
          "data": {
            "text/plain": [
              "shape: (1, 16)\n",
              "┌─────┬────────┬──────────────┬────────────┬───┬─────────┬─────────────┬─────────────┬─────────────┐\n",
              "│     ┆ precio ┆ metros_total ┆ antiguedad ┆ … ┆ desague ┆ vistas_lago ┆ nueva_const ┆ aire_acondi │\n",
              "│ --- ┆ ---    ┆ es           ┆ ---        ┆   ┆ ---     ┆ ---         ┆ ruccion     ┆ cionado     │\n",
              "│ i64 ┆ i64    ┆ ---          ┆ i64        ┆   ┆ str     ┆ str         ┆ ---         ┆ ---         │\n",
              "│     ┆        ┆ f64          ┆            ┆   ┆         ┆             ┆ str         ┆ str         │\n",
              "╞═════╪════════╪══════════════╪════════════╪═══╪═════════╪═════════════╪═════════════╪═════════════╡\n",
              "│ 0   ┆ 5000   ┆ 0.0          ┆ 0          ┆ … ┆ none    ┆ No          ┆ No          ┆ No          │\n",
              "└─────┴────────┴──────────────┴────────────┴───┴─────────┴─────────────┴─────────────┴─────────────┘"
            ],
            "text/html": [
              "<div><style>\n",
              ".dataframe > thead > tr,\n",
              ".dataframe > tbody > tr {\n",
              "  text-align: right;\n",
              "  white-space: pre-wrap;\n",
              "}\n",
              "</style>\n",
              "<small>shape: (1, 16)</small><table border=\"1\" class=\"dataframe\"><thead><tr><th></th><th>precio</th><th>metros_totales</th><th>antiguedad</th><th>precio_terreno</th><th>metros_habitables</th><th>universitarios</th><th>dormitorios</th><th>baños</th><th>habitaciones</th><th>calefaccion</th><th>consumo_calefacion</th><th>desague</th><th>vistas_lago</th><th>nueva_construccion</th><th>aire_acondicionado</th></tr><tr><td>i64</td><td>i64</td><td>f64</td><td>i64</td><td>i64</td><td>i64</td><td>i64</td><td>i64</td><td>f64</td><td>i64</td><td>str</td><td>str</td><td>str</td><td>str</td><td>str</td><td>str</td></tr></thead><tbody><tr><td>0</td><td>5000</td><td>0.0</td><td>0</td><td>200</td><td>616</td><td>20</td><td>1</td><td>0.0</td><td>2</td><td>&quot;electric&quot;</td><td>&quot;electric&quot;</td><td>&quot;none&quot;</td><td>&quot;No&quot;</td><td>&quot;No&quot;</td><td>&quot;No&quot;</td></tr></tbody></table></div>"
            ]
          },
          "metadata": {},
          "execution_count": 68
        }
      ],
      "source": [
        "df.collect().min() ## funcion de minimo de las columnas numericas"
      ]
    },
    {
      "cell_type": "code",
      "execution_count": 69,
      "metadata": {
        "colab": {
          "base_uri": "https://localhost:8080/",
          "height": 83
        },
        "id": "tvzsQwsM2WBq",
        "outputId": "5e844528-6eaf-49d7-d8ba-258fa64c0542"
      },
      "outputs": [
        {
          "output_type": "display_data",
          "data": {
            "text/plain": [
              "<IPython.core.display.SVG object>"
            ],
            "image/svg+xml": "<svg xmlns=\"http://www.w3.org/2000/svg\" xmlns:xlink=\"http://www.w3.org/1999/xlink\" width=\"597pt\" height=\"46pt\" viewBox=\"0.00 0.00 597.00 46.00\">\n<g id=\"graph0\" class=\"graph\" transform=\"scale(1 1) rotate(0) translate(4 42)\">\n<title>polars_query</title>\n<polygon fill=\"white\" stroke=\"transparent\" points=\"-4,4 -4,-42 593,-42 593,4 -4,4\"/>\n<!-- p1 -->\n<g id=\"node1\" class=\"node\">\n<title>p1</title>\n<polygon fill=\"none\" stroke=\"black\" points=\"589,-38 0,-38 0,0 589,0 589,-38\"/>\n<text text-anchor=\"middle\" x=\"294.5\" y=\"-22.8\" font-family=\"Times,serif\" font-size=\"14.00\">Csv SCAN [https://raw.githubusercontent.com/VINY2030/datasets/refs/heads/main/SaratogaHouses.csv]</text>\n<text text-anchor=\"middle\" x=\"294.5\" y=\"-7.8\" font-family=\"Times,serif\" font-size=\"14.00\">π */16;</text>\n</g>\n</g>\n</svg>"
          },
          "metadata": {}
        }
      ],
      "source": [
        "df.show_graph()"
      ]
    },
    {
      "cell_type": "code",
      "execution_count": 70,
      "metadata": {
        "colab": {
          "base_uri": "https://localhost:8080/",
          "height": 149
        },
        "id": "CGPtsvz02LfA",
        "outputId": "d32677ef-7527-4eba-a969-dd8044c463e7"
      },
      "outputs": [
        {
          "output_type": "execute_result",
          "data": {
            "text/plain": [
              "shape: (1, 16)\n",
              "┌─────┬────────┬──────────────┬────────────┬───┬─────────┬─────────────┬─────────────┬─────────────┐\n",
              "│     ┆ precio ┆ metros_total ┆ antiguedad ┆ … ┆ desague ┆ vistas_lago ┆ nueva_const ┆ aire_acondi │\n",
              "│ --- ┆ ---    ┆ es           ┆ ---        ┆   ┆ ---     ┆ ---         ┆ ruccion     ┆ cionado     │\n",
              "│ i64 ┆ i64    ┆ ---          ┆ i64        ┆   ┆ str     ┆ str         ┆ ---         ┆ ---         │\n",
              "│     ┆        ┆ f64          ┆            ┆   ┆         ┆             ┆ str         ┆ str         │\n",
              "╞═════╪════════╪══════════════╪════════════╪═══╪═════════╪═════════════╪═════════════╪═════════════╡\n",
              "│ 0   ┆ 5000   ┆ 0.0          ┆ 0          ┆ … ┆ none    ┆ No          ┆ No          ┆ No          │\n",
              "└─────┴────────┴──────────────┴────────────┴───┴─────────┴─────────────┴─────────────┴─────────────┘"
            ],
            "text/html": [
              "<div><style>\n",
              ".dataframe > thead > tr,\n",
              ".dataframe > tbody > tr {\n",
              "  text-align: right;\n",
              "  white-space: pre-wrap;\n",
              "}\n",
              "</style>\n",
              "<small>shape: (1, 16)</small><table border=\"1\" class=\"dataframe\"><thead><tr><th></th><th>precio</th><th>metros_totales</th><th>antiguedad</th><th>precio_terreno</th><th>metros_habitables</th><th>universitarios</th><th>dormitorios</th><th>baños</th><th>habitaciones</th><th>calefaccion</th><th>consumo_calefacion</th><th>desague</th><th>vistas_lago</th><th>nueva_construccion</th><th>aire_acondicionado</th></tr><tr><td>i64</td><td>i64</td><td>f64</td><td>i64</td><td>i64</td><td>i64</td><td>i64</td><td>i64</td><td>f64</td><td>i64</td><td>str</td><td>str</td><td>str</td><td>str</td><td>str</td><td>str</td></tr></thead><tbody><tr><td>0</td><td>5000</td><td>0.0</td><td>0</td><td>200</td><td>616</td><td>20</td><td>1</td><td>0.0</td><td>2</td><td>&quot;electric&quot;</td><td>&quot;electric&quot;</td><td>&quot;none&quot;</td><td>&quot;No&quot;</td><td>&quot;No&quot;</td><td>&quot;No&quot;</td></tr></tbody></table></div>"
            ]
          },
          "metadata": {},
          "execution_count": 70
        }
      ],
      "source": [
        "df.min().collect()  ## alternativa de la funcion de minimo de las columnas numericas"
      ]
    },
    {
      "cell_type": "code",
      "execution_count": 71,
      "metadata": {
        "colab": {
          "base_uri": "https://localhost:8080/",
          "height": 244
        },
        "id": "RfJuLkIkrl3b",
        "outputId": "eb0f69c2-4cf8-476d-b75f-7de86f946f4a"
      },
      "outputs": [
        {
          "output_type": "execute_result",
          "data": {
            "text/plain": [
              "<LazyFrame at 0x7C70076423B0>"
            ],
            "text/html": [
              "<h4>NAIVE QUERY PLAN</h4><p>run <b>LazyFrame.show_graph()</b> to see the optimized version</p><?xml version=\"1.0\" encoding=\"UTF-8\" standalone=\"no\"?>\n",
              "<!DOCTYPE svg PUBLIC \"-//W3C//DTD SVG 1.1//EN\"\n",
              " \"http://www.w3.org/Graphics/SVG/1.1/DTD/svg11.dtd\">\n",
              "<!-- Generated by graphviz version 2.43.0 (0)\n",
              " -->\n",
              "<!-- Title: polars_query Pages: 1 -->\n",
              "<svg width=\"597pt\" height=\"118pt\"\n",
              " viewBox=\"0.00 0.00 597.00 118.00\" xmlns=\"http://www.w3.org/2000/svg\" xmlns:xlink=\"http://www.w3.org/1999/xlink\">\n",
              "<g id=\"graph0\" class=\"graph\" transform=\"scale(1 1) rotate(0) translate(4 114)\">\n",
              "<title>polars_query</title>\n",
              "<polygon fill=\"white\" stroke=\"transparent\" points=\"-4,4 -4,-114 593,-114 593,4 -4,4\"/>\n",
              "<!-- p1 -->\n",
              "<g id=\"node1\" class=\"node\">\n",
              "<title>p1</title>\n",
              "<polygon fill=\"none\" stroke=\"black\" points=\"323.5,-110 265.5,-110 265.5,-74 323.5,-74 323.5,-110\"/>\n",
              "<text text-anchor=\"middle\" x=\"294.5\" y=\"-88.3\" font-family=\"Times,serif\" font-size=\"14.00\">π 16/16</text>\n",
              "</g>\n",
              "<!-- p2 -->\n",
              "<g id=\"node2\" class=\"node\">\n",
              "<title>p2</title>\n",
              "<polygon fill=\"none\" stroke=\"black\" points=\"589,-38 0,-38 0,0 589,0 589,-38\"/>\n",
              "<text text-anchor=\"middle\" x=\"294.5\" y=\"-22.8\" font-family=\"Times,serif\" font-size=\"14.00\">Csv SCAN [https://raw.githubusercontent.com/VINY2030/datasets/refs/heads/main/SaratogaHouses.csv]</text>\n",
              "<text text-anchor=\"middle\" x=\"294.5\" y=\"-7.8\" font-family=\"Times,serif\" font-size=\"14.00\">π */16;</text>\n",
              "</g>\n",
              "<!-- p1&#45;&#45;p2 -->\n",
              "<g id=\"edge1\" class=\"edge\">\n",
              "<title>p1&#45;&#45;p2</title>\n",
              "<path fill=\"none\" stroke=\"black\" d=\"M294.5,-73.81C294.5,-62.98 294.5,-49.01 294.5,-38.02\"/>\n",
              "</g>\n",
              "</g>\n",
              "</svg>\n"
            ]
          },
          "metadata": {},
          "execution_count": 71
        }
      ],
      "source": [
        "df.min()"
      ]
    },
    {
      "cell_type": "code",
      "execution_count": 72,
      "metadata": {
        "colab": {
          "base_uri": "https://localhost:8080/",
          "height": 167
        },
        "id": "dVBr7zeC2dfP",
        "outputId": "c9941a23-e360-4f19-a788-0e1ca92f8e36"
      },
      "outputs": [
        {
          "output_type": "execute_result",
          "data": {
            "text/plain": [
              "shape: (1, 16)\n",
              "┌──────┬────────┬─────────────┬────────────┬───┬─────────┬─────────────┬─────────────┬─────────────┐\n",
              "│      ┆ precio ┆ metros_tota ┆ antiguedad ┆ … ┆ desague ┆ vistas_lago ┆ nueva_const ┆ aire_acondi │\n",
              "│ ---  ┆ ---    ┆ les         ┆ ---        ┆   ┆ ---     ┆ ---         ┆ ruccion     ┆ cionado     │\n",
              "│ i64  ┆ i64    ┆ ---         ┆ i64        ┆   ┆ str     ┆ str         ┆ ---         ┆ ---         │\n",
              "│      ┆        ┆ f64         ┆            ┆   ┆         ┆             ┆ str         ┆ str         │\n",
              "╞══════╪════════╪═════════════╪════════════╪═══╪═════════╪═════════════╪═════════════╪═════════════╡\n",
              "│ 1727 ┆ 775000 ┆ 12.2        ┆ 225        ┆ … ┆ septic  ┆ Yes         ┆ Yes         ┆ Yes         │\n",
              "└──────┴────────┴─────────────┴────────────┴───┴─────────┴─────────────┴─────────────┴─────────────┘"
            ],
            "text/html": [
              "<div><style>\n",
              ".dataframe > thead > tr,\n",
              ".dataframe > tbody > tr {\n",
              "  text-align: right;\n",
              "  white-space: pre-wrap;\n",
              "}\n",
              "</style>\n",
              "<small>shape: (1, 16)</small><table border=\"1\" class=\"dataframe\"><thead><tr><th></th><th>precio</th><th>metros_totales</th><th>antiguedad</th><th>precio_terreno</th><th>metros_habitables</th><th>universitarios</th><th>dormitorios</th><th>baños</th><th>habitaciones</th><th>calefaccion</th><th>consumo_calefacion</th><th>desague</th><th>vistas_lago</th><th>nueva_construccion</th><th>aire_acondicionado</th></tr><tr><td>i64</td><td>i64</td><td>f64</td><td>i64</td><td>i64</td><td>i64</td><td>i64</td><td>i64</td><td>f64</td><td>i64</td><td>str</td><td>str</td><td>str</td><td>str</td><td>str</td><td>str</td></tr></thead><tbody><tr><td>1727</td><td>775000</td><td>12.2</td><td>225</td><td>412600</td><td>5228</td><td>82</td><td>7</td><td>4.5</td><td>12</td><td>&quot;hot water/steam&quot;</td><td>&quot;oil&quot;</td><td>&quot;septic&quot;</td><td>&quot;Yes&quot;</td><td>&quot;Yes&quot;</td><td>&quot;Yes&quot;</td></tr></tbody></table></div>"
            ]
          },
          "metadata": {},
          "execution_count": 72
        }
      ],
      "source": [
        "df.max().collect()  ### funcion maximo de las columnas numericas"
      ]
    },
    {
      "cell_type": "code",
      "execution_count": 73,
      "metadata": {
        "colab": {
          "base_uri": "https://localhost:8080/",
          "height": 149
        },
        "id": "h08_XmuR20KJ",
        "outputId": "803aae3a-26ae-4c9f-ab06-37a7c7e8a1bd"
      },
      "outputs": [
        {
          "output_type": "execute_result",
          "data": {
            "text/plain": [
              "shape: (1, 16)\n",
              "┌───────┬────────────┬────────────┬────────────┬───┬─────────┬────────────┬────────────┬───────────┐\n",
              "│       ┆ precio     ┆ metros_tot ┆ antiguedad ┆ … ┆ desague ┆ vistas_lag ┆ nueva_cons ┆ aire_acon │\n",
              "│ ---   ┆ ---        ┆ ales       ┆ ---        ┆   ┆ ---     ┆ o          ┆ truccion   ┆ dicionado │\n",
              "│ f64   ┆ f64        ┆ ---        ┆ f64        ┆   ┆ str     ┆ ---        ┆ ---        ┆ ---       │\n",
              "│       ┆            ┆ f64        ┆            ┆   ┆         ┆ str        ┆ str        ┆ str       │\n",
              "╞═══════╪════════════╪════════════╪════════════╪═══╪═════════╪════════════╪════════════╪═══════════╡\n",
              "│ 863.5 ┆ 211966.705 ┆ 0.500214   ┆ 27.916088  ┆ … ┆ null    ┆ null       ┆ null       ┆ null      │\n",
              "│       ┆ 44         ┆            ┆            ┆   ┆         ┆            ┆            ┆           │\n",
              "└───────┴────────────┴────────────┴────────────┴───┴─────────┴────────────┴────────────┴───────────┘"
            ],
            "text/html": [
              "<div><style>\n",
              ".dataframe > thead > tr,\n",
              ".dataframe > tbody > tr {\n",
              "  text-align: right;\n",
              "  white-space: pre-wrap;\n",
              "}\n",
              "</style>\n",
              "<small>shape: (1, 16)</small><table border=\"1\" class=\"dataframe\"><thead><tr><th></th><th>precio</th><th>metros_totales</th><th>antiguedad</th><th>precio_terreno</th><th>metros_habitables</th><th>universitarios</th><th>dormitorios</th><th>baños</th><th>habitaciones</th><th>calefaccion</th><th>consumo_calefacion</th><th>desague</th><th>vistas_lago</th><th>nueva_construccion</th><th>aire_acondicionado</th></tr><tr><td>f64</td><td>f64</td><td>f64</td><td>f64</td><td>f64</td><td>f64</td><td>f64</td><td>f64</td><td>f64</td><td>f64</td><td>str</td><td>str</td><td>str</td><td>str</td><td>str</td><td>str</td></tr></thead><tbody><tr><td>863.5</td><td>211966.70544</td><td>0.500214</td><td>27.916088</td><td>34557.1875</td><td>1754.975694</td><td>55.567708</td><td>3.154514</td><td>1.900174</td><td>7.041667</td><td>null</td><td>null</td><td>null</td><td>null</td><td>null</td><td>null</td></tr></tbody></table></div>"
            ]
          },
          "metadata": {},
          "execution_count": 73
        }
      ],
      "source": [
        "df.mean().collect()  ## media de las columnas numericas"
      ]
    },
    {
      "cell_type": "code",
      "execution_count": 74,
      "metadata": {
        "colab": {
          "base_uri": "https://localhost:8080/",
          "height": 149
        },
        "id": "Ko-GazCN79Xb",
        "outputId": "5f7c3ea1-9521-40aa-9fa6-f50128a17513"
      },
      "outputs": [
        {
          "output_type": "execute_result",
          "data": {
            "text/plain": [
              "shape: (1, 16)\n",
              "┌────────────┬───────────┬───────────┬───────────┬───┬─────────┬───────────┬───────────┬───────────┐\n",
              "│            ┆ precio    ┆ metros_to ┆ antigueda ┆ … ┆ desague ┆ vistas_la ┆ nueva_con ┆ aire_acon │\n",
              "│ ---        ┆ ---       ┆ tales     ┆ d         ┆   ┆ ---     ┆ go        ┆ struccion ┆ dicionado │\n",
              "│ f64        ┆ f64       ┆ ---       ┆ ---       ┆   ┆ str     ┆ ---       ┆ ---       ┆ ---       │\n",
              "│            ┆           ┆ f64       ┆ f64       ┆   ┆         ┆ str       ┆ str       ┆ str       │\n",
              "╞════════════╪═══════════╪═══════════╪═══════════╪═══╪═════════╪═══════════╪═══════════╪═══════════╡\n",
              "│ 498.974949 ┆ 98441.391 ┆ 0.69868   ┆ 29.209988 ┆ … ┆ null    ┆ null      ┆ null      ┆ null      │\n",
              "│            ┆ 015       ┆           ┆           ┆   ┆         ┆           ┆           ┆           │\n",
              "└────────────┴───────────┴───────────┴───────────┴───┴─────────┴───────────┴───────────┴───────────┘"
            ],
            "text/html": [
              "<div><style>\n",
              ".dataframe > thead > tr,\n",
              ".dataframe > tbody > tr {\n",
              "  text-align: right;\n",
              "  white-space: pre-wrap;\n",
              "}\n",
              "</style>\n",
              "<small>shape: (1, 16)</small><table border=\"1\" class=\"dataframe\"><thead><tr><th></th><th>precio</th><th>metros_totales</th><th>antiguedad</th><th>precio_terreno</th><th>metros_habitables</th><th>universitarios</th><th>dormitorios</th><th>baños</th><th>habitaciones</th><th>calefaccion</th><th>consumo_calefacion</th><th>desague</th><th>vistas_lago</th><th>nueva_construccion</th><th>aire_acondicionado</th></tr><tr><td>f64</td><td>f64</td><td>f64</td><td>f64</td><td>f64</td><td>f64</td><td>f64</td><td>f64</td><td>f64</td><td>f64</td><td>str</td><td>str</td><td>str</td><td>str</td><td>str</td><td>str</td></tr></thead><tbody><tr><td>498.974949</td><td>98441.391015</td><td>0.69868</td><td>29.209988</td><td>35021.168056</td><td>619.935553</td><td>10.333581</td><td>0.817351</td><td>0.658352</td><td>2.316453</td><td>null</td><td>null</td><td>null</td><td>null</td><td>null</td><td>null</td></tr></tbody></table></div>"
            ]
          },
          "metadata": {},
          "execution_count": 74
        }
      ],
      "source": [
        "df.std().collect()  ## desviacion estandard de las columnas numericas"
      ]
    },
    {
      "cell_type": "markdown",
      "metadata": {
        "id": "mfMhehGJ2-LB"
      },
      "source": [
        "\n",
        "# **<font color=\"#07a8ed\">Lazy Frames Atributos**"
      ]
    },
    {
      "cell_type": "markdown",
      "metadata": {
        "id": "zXkTS7DY3D8y"
      },
      "source": [
        "## Columns\n",
        "\n",
        "`= en Pandas es similar`\n",
        "\n",
        "\n",
        "`Esta función realiza exactamente la misma función en un DataFrame que en un LazyFrame, devuelve una lista con los nombres de columna.`"
      ]
    },
    {
      "cell_type": "code",
      "execution_count": 75,
      "metadata": {
        "colab": {
          "base_uri": "https://localhost:8080/"
        },
        "id": "g240Xhqp3F4l",
        "outputId": "9192ae27-7613-4bcd-c136-4a819350b399"
      },
      "outputs": [
        {
          "output_type": "stream",
          "name": "stderr",
          "text": [
            "<ipython-input-75-17b786a3e796>:1: PerformanceWarning: Determining the column names of a LazyFrame requires resolving its schema, which is a potentially expensive operation. Use `LazyFrame.collect_schema().names()` to get the column names without this warning.\n",
            "  df.columns  ## columnas del lazy frame\n"
          ]
        },
        {
          "output_type": "execute_result",
          "data": {
            "text/plain": [
              "['',\n",
              " 'precio',\n",
              " 'metros_totales',\n",
              " 'antiguedad',\n",
              " 'precio_terreno',\n",
              " 'metros_habitables',\n",
              " 'universitarios',\n",
              " 'dormitorios',\n",
              " 'baños',\n",
              " 'habitaciones',\n",
              " 'calefaccion',\n",
              " 'consumo_calefacion',\n",
              " 'desague',\n",
              " 'vistas_lago',\n",
              " 'nueva_construccion',\n",
              " 'aire_acondicionado']"
            ]
          },
          "metadata": {},
          "execution_count": 75
        }
      ],
      "source": [
        "df.columns  ## columnas del lazy frame"
      ]
    },
    {
      "cell_type": "code",
      "execution_count": 76,
      "metadata": {
        "colab": {
          "base_uri": "https://localhost:8080/"
        },
        "id": "yyZsbhSb3Ncp",
        "outputId": "adcee591-0582-48d9-d329-e560e3eb7664"
      },
      "outputs": [
        {
          "output_type": "execute_result",
          "data": {
            "text/plain": [
              "['',\n",
              " 'precio',\n",
              " 'metros_totales',\n",
              " 'antiguedad',\n",
              " 'precio_terreno',\n",
              " 'metros_habitables',\n",
              " 'universitarios',\n",
              " 'dormitorios',\n",
              " 'baños',\n",
              " 'habitaciones',\n",
              " 'calefaccion',\n",
              " 'consumo_calefacion',\n",
              " 'desague',\n",
              " 'vistas_lago',\n",
              " 'nueva_construccion',\n",
              " 'aire_acondicionado']"
            ]
          },
          "metadata": {},
          "execution_count": 76
        }
      ],
      "source": [
        "df.collect_schema().names()  ## nombre de las columnas"
      ]
    },
    {
      "cell_type": "markdown",
      "metadata": {
        "id": "dOMq_Udz3ScC"
      },
      "source": [
        "# **dtypes**\n",
        "\n",
        "`= en Pandas es similar`\n",
        "\n",
        "`Esta función devuelve los tipos de datos de las columnas de un LazyFrame.`"
      ]
    },
    {
      "cell_type": "code",
      "execution_count": null,
      "metadata": {
        "colab": {
          "base_uri": "https://localhost:8080/"
        },
        "id": "Wf1bMIas3UpB",
        "outputId": "83e0a26e-d12e-47b3-aa2a-cbd6f0dc18d2"
      },
      "outputs": [
        {
          "name": "stderr",
          "output_type": "stream",
          "text": [
            "<ipython-input-79-92bb4a27dd17>:1: PerformanceWarning: Determining the data types of a LazyFrame requires resolving its schema, which is a potentially expensive operation. Use `LazyFrame.collect_schema().dtypes()` to get the data types without this warning.\n",
            "  df.dtypes  ## listado del tipo de datos de las columnas\n"
          ]
        },
        {
          "data": {
            "text/plain": [
              "[Int64,\n",
              " Int64,\n",
              " Float64,\n",
              " Int64,\n",
              " Int64,\n",
              " Int64,\n",
              " Int64,\n",
              " Int64,\n",
              " Float64,\n",
              " Int64,\n",
              " String,\n",
              " String,\n",
              " String,\n",
              " String,\n",
              " String,\n",
              " String]"
            ]
          },
          "execution_count": 79,
          "metadata": {},
          "output_type": "execute_result"
        }
      ],
      "source": [
        "df.dtypes  ## listado del tipo de datos de las columnas"
      ]
    },
    {
      "cell_type": "code",
      "execution_count": 77,
      "metadata": {
        "colab": {
          "base_uri": "https://localhost:8080/"
        },
        "id": "Qal4yVra3eET",
        "outputId": "daf1eebf-cab9-4d8b-9166-608f2a75b1d9"
      },
      "outputs": [
        {
          "output_type": "execute_result",
          "data": {
            "text/plain": [
              "[Int64,\n",
              " Int64,\n",
              " Float64,\n",
              " Int64,\n",
              " Int64,\n",
              " Int64,\n",
              " Int64,\n",
              " Int64,\n",
              " Float64,\n",
              " Int64,\n",
              " String,\n",
              " String,\n",
              " String,\n",
              " String,\n",
              " String,\n",
              " String]"
            ]
          },
          "metadata": {},
          "execution_count": 77
        }
      ],
      "source": [
        "df.collect_schema().dtypes()  ## alternativa de tipos de datos"
      ]
    },
    {
      "cell_type": "markdown",
      "metadata": {
        "id": "n3g_xfTU3mTX"
      },
      "source": [
        "# **schema**\n",
        "\n",
        "`= en Pandas no existe esta funcion`\n",
        "\n",
        "`Esta función devuelve el schema de un LazyFrame ,donde las llaves son los nombres de columnas y los valores son los tipos de datos de esa columna.`"
      ]
    },
    {
      "cell_type": "code",
      "execution_count": 78,
      "metadata": {
        "colab": {
          "base_uri": "https://localhost:8080/"
        },
        "id": "euIfzBMm3yIj",
        "outputId": "06e78b75-870c-42fd-a792-7a35303fb47b"
      },
      "outputs": [
        {
          "output_type": "execute_result",
          "data": {
            "text/plain": [
              "Schema([('', Int64),\n",
              "        ('precio', Int64),\n",
              "        ('metros_totales', Float64),\n",
              "        ('antiguedad', Int64),\n",
              "        ('precio_terreno', Int64),\n",
              "        ('metros_habitables', Int64),\n",
              "        ('universitarios', Int64),\n",
              "        ('dormitorios', Int64),\n",
              "        ('baños', Float64),\n",
              "        ('habitaciones', Int64),\n",
              "        ('calefaccion', String),\n",
              "        ('consumo_calefacion', String),\n",
              "        ('desague', String),\n",
              "        ('vistas_lago', String),\n",
              "        ('nueva_construccion', String),\n",
              "        ('aire_acondicionado', String)])"
            ]
          },
          "metadata": {},
          "execution_count": 78
        }
      ],
      "source": [
        "df.collect_schema()  ## funcion de nombre de columna y tipo de datos"
      ]
    },
    {
      "cell_type": "code",
      "execution_count": 79,
      "metadata": {
        "colab": {
          "base_uri": "https://localhost:8080/"
        },
        "id": "VjDJsMAa3uPD",
        "outputId": "270f761f-5bfc-4ed5-f3a7-cbe0938206f6"
      },
      "outputs": [
        {
          "output_type": "stream",
          "name": "stderr",
          "text": [
            "<ipython-input-79-5e42e88a83ba>:1: PerformanceWarning: Resolving the schema of a LazyFrame is a potentially expensive operation. Use `LazyFrame.collect_schema()` to get the schema without this warning.\n",
            "  df.schema.get('precio')  ## conseguir tipo de dato de la columna precio\n"
          ]
        },
        {
          "output_type": "execute_result",
          "data": {
            "text/plain": [
              "Int64"
            ]
          },
          "metadata": {},
          "execution_count": 79
        }
      ],
      "source": [
        "df.schema.get('precio')  ## conseguir tipo de dato de la columna precio"
      ]
    },
    {
      "cell_type": "markdown",
      "metadata": {
        "id": "UIk0U-jQ4Mts"
      },
      "source": [
        "# **width**\n",
        "\n",
        "`= en Pandas se utiliza shape(filas, columnas)`\n",
        "\n",
        "\n",
        "`Esta función devuelve el número de columnas de un LazyFrame.`"
      ]
    },
    {
      "cell_type": "code",
      "execution_count": 80,
      "metadata": {
        "colab": {
          "base_uri": "https://localhost:8080/"
        },
        "id": "3ZKzg8em4QRr",
        "outputId": "45fa3436-647c-4a51-892f-6097517db7c6"
      },
      "outputs": [
        {
          "output_type": "stream",
          "name": "stderr",
          "text": [
            "<ipython-input-80-446702bef447>:1: PerformanceWarning: Determining the width of a LazyFrame requires resolving its schema, which is a potentially expensive operation. Use `LazyFrame.collect_schema().len()` to get the width without this warning.\n",
            "  df.width  ### Esta función devuelve el número de columnas de un LazyFrame.\n"
          ]
        },
        {
          "output_type": "execute_result",
          "data": {
            "text/plain": [
              "16"
            ]
          },
          "metadata": {},
          "execution_count": 80
        }
      ],
      "source": [
        "df.width  ### Esta función devuelve el número de columnas de un LazyFrame."
      ]
    },
    {
      "cell_type": "code",
      "execution_count": 81,
      "metadata": {
        "colab": {
          "base_uri": "https://localhost:8080/"
        },
        "id": "rvO_ATUG4UoQ",
        "outputId": "6919a69c-5aeb-431c-fcac-df9001caaa2d"
      },
      "outputs": [
        {
          "output_type": "execute_result",
          "data": {
            "text/plain": [
              "16"
            ]
          },
          "metadata": {},
          "execution_count": 81
        }
      ],
      "source": [
        "df.collect_schema().len()  ###alternativa devuelve el número de columnas de un LazyFrame."
      ]
    },
    {
      "cell_type": "markdown",
      "metadata": {
        "id": "iJIGT6Hk4rP1"
      },
      "source": [
        "\n",
        "# **<font color=\"#07a8ed\">Lazy Frames Group_by**"
      ]
    },
    {
      "cell_type": "markdown",
      "metadata": {
        "id": "vAO33O5o9vAk"
      },
      "source": [
        "#### Expresiones\n",
        "\n",
        "Polars cuenta con expresiones. Las expresiones son el núcleo de muchas operaciones de ciencia de datos y son el concepto fundamental de Polars para su rendimiento muy rápido.\n",
        "\n",
        "Algunas de estas operaciones importantes en la ciencia de datos son:\n",
        "\n",
        "- tomar una muestra de filas de una columna\n",
        "- multiplicar valores en una columna\n",
        "- extraer una columna de años a partir de fechas\n",
        "- convertir una columna de cadenas a minúsculas\n",
        "\n",
        "\n",
        "Sin embargo, las expresiones también se utilizan dentro de otras operaciones:\n",
        "\n",
        "- tomar la media de un grupo en una operación `groupby`\n",
        "- calcular el tamaño de los grupos en una operación `groupby`\n",
        "- tomando la suma horizontalmente a través de las columnas\n",
        "\n",
        "Polars realiza estas transformaciones de datos centrales muy rápidamente con:\n",
        "\n",
        "- optimización automática de consultas en cada expresión\n",
        "- paralelización automática de expresiones en muchas columnas\n"
      ]
    },
    {
      "cell_type": "markdown",
      "metadata": {
        "id": "IcZ8-NJY4yME"
      },
      "source": [
        "# **Varias agregaciones**=\n",
        "##en Pandas se utiliza agg de forma similar\n",
        "## en Pandas no se utiliza alias para crear columnas\n",
        "`Para realizar agregaciones sobre un LazyFrame primero debemos realizar un agrupado con la función group_by y luego utilizar la función agg.`\n",
        "\n",
        "`Las agregaciones funcionan de de la misma forma a como lo estudiamos en la lección de GroupBy de los DataFrame de Polars.`"
      ]
    },
    {
      "cell_type": "code",
      "execution_count": 82,
      "metadata": {
        "colab": {
          "base_uri": "https://localhost:8080/",
          "height": 532
        },
        "id": "xeKO4-K141IU",
        "outputId": "500b916f-d9ea-4205-cafa-6ffe7a402878"
      },
      "outputs": [
        {
          "output_type": "execute_result",
          "data": {
            "text/plain": [
              "shape: (1_728, 16)\n",
              "┌──────┬────────┬─────────────┬────────────┬───┬────────────┬────────────┬────────────┬────────────┐\n",
              "│      ┆ precio ┆ metros_tota ┆ antiguedad ┆ … ┆ desague    ┆ vistas_lag ┆ nueva_cons ┆ aire_acond │\n",
              "│ ---  ┆ ---    ┆ les         ┆ ---        ┆   ┆ ---        ┆ o          ┆ truccion   ┆ icionado   │\n",
              "│ i64  ┆ i64    ┆ ---         ┆ i64        ┆   ┆ str        ┆ ---        ┆ ---        ┆ ---        │\n",
              "│      ┆        ┆ f64         ┆            ┆   ┆            ┆ str        ┆ str        ┆ str        │\n",
              "╞══════╪════════╪═════════════╪════════════╪═══╪════════════╪════════════╪════════════╪════════════╡\n",
              "│ 0    ┆ 132500 ┆ 0.09        ┆ 42         ┆ … ┆ septic     ┆ No         ┆ No         ┆ No         │\n",
              "│ 1    ┆ 181115 ┆ 0.92        ┆ 0          ┆ … ┆ septic     ┆ No         ┆ No         ┆ No         │\n",
              "│ 2    ┆ 109000 ┆ 0.19        ┆ 133        ┆ … ┆ public/com ┆ No         ┆ No         ┆ No         │\n",
              "│      ┆        ┆             ┆            ┆   ┆ mercial    ┆            ┆            ┆            │\n",
              "│ 3    ┆ 155000 ┆ 0.41        ┆ 13         ┆ … ┆ septic     ┆ No         ┆ No         ┆ No         │\n",
              "│ 4    ┆ 86060  ┆ 0.11        ┆ 0          ┆ … ┆ public/com ┆ No         ┆ Yes        ┆ Yes        │\n",
              "│      ┆        ┆             ┆            ┆   ┆ mercial    ┆            ┆            ┆            │\n",
              "│ …    ┆ …      ┆ …           ┆ …          ┆ … ┆ …          ┆ …          ┆ …          ┆ …          │\n",
              "│ 1723 ┆ 289000 ┆ 0.38        ┆ 32         ┆ … ┆ public/com ┆ No         ┆ No         ┆ No         │\n",
              "│      ┆        ┆             ┆            ┆   ┆ mercial    ┆            ┆            ┆            │\n",
              "│ 1724 ┆ 285000 ┆ 0.94        ┆ 37         ┆ … ┆ public/com ┆ No         ┆ No         ┆ No         │\n",
              "│      ┆        ┆             ┆            ┆   ┆ mercial    ┆            ┆            ┆            │\n",
              "│ 1725 ┆ 194900 ┆ 0.39        ┆ 9          ┆ … ┆ public/com ┆ No         ┆ No         ┆ No         │\n",
              "│      ┆        ┆             ┆            ┆   ┆ mercial    ┆            ┆            ┆            │\n",
              "│ 1726 ┆ 125000 ┆ 0.24        ┆ 48         ┆ … ┆ public/com ┆ No         ┆ No         ┆ No         │\n",
              "│      ┆        ┆             ┆            ┆   ┆ mercial    ┆            ┆            ┆            │\n",
              "│ 1727 ┆ 111300 ┆ 0.59        ┆ 86         ┆ … ┆ septic     ┆ No         ┆ No         ┆ No         │\n",
              "└──────┴────────┴─────────────┴────────────┴───┴────────────┴────────────┴────────────┴────────────┘"
            ],
            "text/html": [
              "<div><style>\n",
              ".dataframe > thead > tr,\n",
              ".dataframe > tbody > tr {\n",
              "  text-align: right;\n",
              "  white-space: pre-wrap;\n",
              "}\n",
              "</style>\n",
              "<small>shape: (1_728, 16)</small><table border=\"1\" class=\"dataframe\"><thead><tr><th></th><th>precio</th><th>metros_totales</th><th>antiguedad</th><th>precio_terreno</th><th>metros_habitables</th><th>universitarios</th><th>dormitorios</th><th>baños</th><th>habitaciones</th><th>calefaccion</th><th>consumo_calefacion</th><th>desague</th><th>vistas_lago</th><th>nueva_construccion</th><th>aire_acondicionado</th></tr><tr><td>i64</td><td>i64</td><td>f64</td><td>i64</td><td>i64</td><td>i64</td><td>i64</td><td>i64</td><td>f64</td><td>i64</td><td>str</td><td>str</td><td>str</td><td>str</td><td>str</td><td>str</td></tr></thead><tbody><tr><td>0</td><td>132500</td><td>0.09</td><td>42</td><td>50000</td><td>906</td><td>35</td><td>2</td><td>1.0</td><td>5</td><td>&quot;electric&quot;</td><td>&quot;electric&quot;</td><td>&quot;septic&quot;</td><td>&quot;No&quot;</td><td>&quot;No&quot;</td><td>&quot;No&quot;</td></tr><tr><td>1</td><td>181115</td><td>0.92</td><td>0</td><td>22300</td><td>1953</td><td>51</td><td>3</td><td>2.5</td><td>6</td><td>&quot;hot water/steam&quot;</td><td>&quot;gas&quot;</td><td>&quot;septic&quot;</td><td>&quot;No&quot;</td><td>&quot;No&quot;</td><td>&quot;No&quot;</td></tr><tr><td>2</td><td>109000</td><td>0.19</td><td>133</td><td>7300</td><td>1944</td><td>51</td><td>4</td><td>1.0</td><td>8</td><td>&quot;hot water/steam&quot;</td><td>&quot;gas&quot;</td><td>&quot;public/commercial&quot;</td><td>&quot;No&quot;</td><td>&quot;No&quot;</td><td>&quot;No&quot;</td></tr><tr><td>3</td><td>155000</td><td>0.41</td><td>13</td><td>18700</td><td>1944</td><td>51</td><td>3</td><td>1.5</td><td>5</td><td>&quot;hot air&quot;</td><td>&quot;gas&quot;</td><td>&quot;septic&quot;</td><td>&quot;No&quot;</td><td>&quot;No&quot;</td><td>&quot;No&quot;</td></tr><tr><td>4</td><td>86060</td><td>0.11</td><td>0</td><td>15000</td><td>840</td><td>51</td><td>2</td><td>1.0</td><td>3</td><td>&quot;hot air&quot;</td><td>&quot;gas&quot;</td><td>&quot;public/commercial&quot;</td><td>&quot;No&quot;</td><td>&quot;Yes&quot;</td><td>&quot;Yes&quot;</td></tr><tr><td>&hellip;</td><td>&hellip;</td><td>&hellip;</td><td>&hellip;</td><td>&hellip;</td><td>&hellip;</td><td>&hellip;</td><td>&hellip;</td><td>&hellip;</td><td>&hellip;</td><td>&hellip;</td><td>&hellip;</td><td>&hellip;</td><td>&hellip;</td><td>&hellip;</td><td>&hellip;</td></tr><tr><td>1723</td><td>289000</td><td>0.38</td><td>32</td><td>24200</td><td>2310</td><td>61</td><td>5</td><td>2.5</td><td>11</td><td>&quot;hot water/steam&quot;</td><td>&quot;gas&quot;</td><td>&quot;public/commercial&quot;</td><td>&quot;No&quot;</td><td>&quot;No&quot;</td><td>&quot;No&quot;</td></tr><tr><td>1724</td><td>285000</td><td>0.94</td><td>37</td><td>36200</td><td>2564</td><td>61</td><td>4</td><td>2.5</td><td>11</td><td>&quot;hot water/steam&quot;</td><td>&quot;gas&quot;</td><td>&quot;public/commercial&quot;</td><td>&quot;No&quot;</td><td>&quot;No&quot;</td><td>&quot;No&quot;</td></tr><tr><td>1725</td><td>194900</td><td>0.39</td><td>9</td><td>20400</td><td>1099</td><td>51</td><td>2</td><td>1.0</td><td>3</td><td>&quot;hot air&quot;</td><td>&quot;gas&quot;</td><td>&quot;public/commercial&quot;</td><td>&quot;No&quot;</td><td>&quot;No&quot;</td><td>&quot;No&quot;</td></tr><tr><td>1726</td><td>125000</td><td>0.24</td><td>48</td><td>16800</td><td>1225</td><td>51</td><td>3</td><td>1.0</td><td>7</td><td>&quot;hot air&quot;</td><td>&quot;gas&quot;</td><td>&quot;public/commercial&quot;</td><td>&quot;No&quot;</td><td>&quot;No&quot;</td><td>&quot;No&quot;</td></tr><tr><td>1727</td><td>111300</td><td>0.59</td><td>86</td><td>26000</td><td>1959</td><td>51</td><td>3</td><td>1.0</td><td>6</td><td>&quot;hot air&quot;</td><td>&quot;gas&quot;</td><td>&quot;septic&quot;</td><td>&quot;No&quot;</td><td>&quot;No&quot;</td><td>&quot;No&quot;</td></tr></tbody></table></div>"
            ]
          },
          "metadata": {},
          "execution_count": 82
        }
      ],
      "source": [
        "df.collect()  ## detalle de las columnas del lazy frame"
      ]
    },
    {
      "cell_type": "code",
      "execution_count": 83,
      "metadata": {
        "colab": {
          "base_uri": "https://localhost:8080/",
          "height": 287
        },
        "id": "znLJ0mQCXhII",
        "outputId": "d027c213-8078-4ebd-95c8-5dbfe07c6b77"
      },
      "outputs": [
        {
          "output_type": "execute_result",
          "data": {
            "text/plain": [
              "<LazyFrame at 0x7C700448AEF0>"
            ],
            "text/html": [
              "<h4>NAIVE QUERY PLAN</h4><p>run <b>LazyFrame.show_graph()</b> to see the optimized version</p><?xml version=\"1.0\" encoding=\"UTF-8\" standalone=\"no\"?>\n",
              "<!DOCTYPE svg PUBLIC \"-//W3C//DTD SVG 1.1//EN\"\n",
              " \"http://www.w3.org/Graphics/SVG/1.1/DTD/svg11.dtd\">\n",
              "<!-- Generated by graphviz version 2.43.0 (0)\n",
              " -->\n",
              "<!-- Title: polars_query Pages: 1 -->\n",
              "<svg width=\"2558pt\" height=\"135pt\"\n",
              " viewBox=\"0.00 0.00 2558.00 135.00\" xmlns=\"http://www.w3.org/2000/svg\" xmlns:xlink=\"http://www.w3.org/1999/xlink\">\n",
              "<g id=\"graph0\" class=\"graph\" transform=\"scale(1 1) rotate(0) translate(4 131)\">\n",
              "<title>polars_query</title>\n",
              "<polygon fill=\"white\" stroke=\"transparent\" points=\"-4,4 -4,-131 2554,-131 2554,4 -4,4\"/>\n",
              "<!-- p1 -->\n",
              "<g id=\"node1\" class=\"node\">\n",
              "<title>p1</title>\n",
              "<polygon fill=\"none\" stroke=\"black\" points=\"2550,-127 0,-127 0,-74 2550,-74 2550,-127\"/>\n",
              "<text text-anchor=\"middle\" x=\"1275\" y=\"-111.8\" font-family=\"Times,serif\" font-size=\"14.00\">AGG [col(&quot;antiguedad&quot;).mean().alias(&quot;media_antiguedad&quot;), col(&quot;antiguedad&quot;).min().alias(&quot;min_antiguedad&quot;), col(&quot;antiguedad&quot;).max().alias(&quot;max_antiguedad&quot;), col(&quot;dormitorios&quot;).count().alias(&quot;conteo_dormitorios&quot;), col(&quot;antiguedad&quot;).sum().alias(&quot;suma_antiguedad&quot;), col(&quot;antiguedad&quot;).first().alias(&quot;primer_antiguedad&quot;), col(&quot;antiguedad&quot;).last().alias(&quot;ultimo_antiguedad&quot;), [(col(&quot;antiguedad&quot;).last()) &#45; (col(&quot;antiguedad&quot;).first())].alias(&quot;diferencia_antiguedad&quot;)]</text>\n",
              "<text text-anchor=\"middle\" x=\"1275\" y=\"-96.8\" font-family=\"Times,serif\" font-size=\"14.00\">BY</text>\n",
              "<text text-anchor=\"middle\" x=\"1275\" y=\"-81.8\" font-family=\"Times,serif\" font-size=\"14.00\">[col(&quot;precio&quot;)]</text>\n",
              "</g>\n",
              "<!-- p2 -->\n",
              "<g id=\"node2\" class=\"node\">\n",
              "<title>p2</title>\n",
              "<polygon fill=\"none\" stroke=\"black\" points=\"1569.5,-38 980.5,-38 980.5,0 1569.5,0 1569.5,-38\"/>\n",
              "<text text-anchor=\"middle\" x=\"1275\" y=\"-22.8\" font-family=\"Times,serif\" font-size=\"14.00\">Csv SCAN [https://raw.githubusercontent.com/VINY2030/datasets/refs/heads/main/SaratogaHouses.csv]</text>\n",
              "<text text-anchor=\"middle\" x=\"1275\" y=\"-7.8\" font-family=\"Times,serif\" font-size=\"14.00\">π */16;</text>\n",
              "</g>\n",
              "<!-- p1&#45;&#45;p2 -->\n",
              "<g id=\"edge1\" class=\"edge\">\n",
              "<title>p1&#45;&#45;p2</title>\n",
              "<path fill=\"none\" stroke=\"black\" d=\"M1275,-73.91C1275,-62.29 1275,-48.81 1275,-38.24\"/>\n",
              "</g>\n",
              "</g>\n",
              "</svg>\n"
            ]
          },
          "metadata": {},
          "execution_count": 83
        }
      ],
      "source": [
        "df.group_by('precio').agg(\n",
        "    pl.col('antiguedad').mean().alias('media_antiguedad'),## media columna antiguedad\n",
        "    pl.col('antiguedad').min().alias('min_antiguedad'),\n",
        "    pl.col('antiguedad').max().alias('max_antiguedad'),\n",
        "    pl.count('dormitorios').alias('conteo_dormitorios'), #\n",
        "    pl.sum('antiguedad').alias('suma_antiguedad'), # suma de columna antiguedad\n",
        "    pl.first('antiguedad').alias('primer_antiguedad'), ## primer valor\n",
        "    pl.last('antiguedad').alias('ultimo_antiguedad'), ## ultimo valor\n",
        "    (pl.last('antiguedad') - pl.first('antiguedad')).alias('diferencia_antiguedad') # ultimo valor  menos el primero\n",
        ")"
      ]
    },
    {
      "cell_type": "code",
      "execution_count": 84,
      "metadata": {
        "colab": {
          "base_uri": "https://localhost:8080/",
          "height": 443
        },
        "id": "yyT_r1e3j-iG",
        "outputId": "520f2d8c-38f0-4244-88d6-e3b65cbdbff9"
      },
      "outputs": [
        {
          "output_type": "execute_result",
          "data": {
            "text/plain": [
              "shape: (751, 9)\n",
              "┌────────┬────────────┬────────────┬───────────┬───┬───────────┬───────────┬───────────┬───────────┐\n",
              "│ precio ┆ media_anti ┆ min_antigu ┆ max_antig ┆ … ┆ suma_anti ┆ primer_an ┆ ultimo_an ┆ diferenci │\n",
              "│ ---    ┆ guedad     ┆ edad       ┆ uedad     ┆   ┆ guedad    ┆ tiguedad  ┆ tiguedad  ┆ a_antigue │\n",
              "│ i64    ┆ ---        ┆ ---        ┆ ---       ┆   ┆ ---       ┆ ---       ┆ ---       ┆ dad       │\n",
              "│        ┆ f64        ┆ i64        ┆ i64       ┆   ┆ i64       ┆ i64       ┆ i64       ┆ ---       │\n",
              "│        ┆            ┆            ┆           ┆   ┆           ┆           ┆           ┆ i64       │\n",
              "╞════════╪════════════╪════════════╪═══════════╪═══╪═══════════╪═══════════╪═══════════╪═══════════╡\n",
              "│ 250000 ┆ 17.625     ┆ 8          ┆ 25        ┆ … ┆ 141       ┆ 19        ┆ 15        ┆ -4        │\n",
              "│ 196900 ┆ 35.0       ┆ 35         ┆ 35        ┆ … ┆ 35        ┆ 35        ┆ 35        ┆ 0         │\n",
              "│ 282000 ┆ 12.0       ┆ 12         ┆ 12        ┆ … ┆ 12        ┆ 12        ┆ 12        ┆ 0         │\n",
              "│ 194000 ┆ 64.0       ┆ 64         ┆ 64        ┆ … ┆ 64        ┆ 64        ┆ 64        ┆ 0         │\n",
              "│ 214990 ┆ 17.0       ┆ 17         ┆ 17        ┆ … ┆ 17        ┆ 17        ┆ 17        ┆ 0         │\n",
              "│ …      ┆ …          ┆ …          ┆ …         ┆ … ┆ …         ┆ …         ┆ …         ┆ …         │\n",
              "│ 421000 ┆ 5.0        ┆ 5          ┆ 5         ┆ … ┆ 5         ┆ 5         ┆ 5         ┆ 0         │\n",
              "│ 154500 ┆ 35.0       ┆ 35         ┆ 35        ┆ … ┆ 35        ┆ 35        ┆ 35        ┆ 0         │\n",
              "│ 316250 ┆ 0.0        ┆ 0          ┆ 0         ┆ … ┆ 0         ┆ 0         ┆ 0         ┆ 0         │\n",
              "│ 162000 ┆ 35.0       ┆ 35         ┆ 35        ┆ … ┆ 35        ┆ 35        ┆ 35        ┆ 0         │\n",
              "│ 655000 ┆ 55.0       ┆ 55         ┆ 55        ┆ … ┆ 55        ┆ 55        ┆ 55        ┆ 0         │\n",
              "└────────┴────────────┴────────────┴───────────┴───┴───────────┴───────────┴───────────┴───────────┘"
            ],
            "text/html": [
              "<div><style>\n",
              ".dataframe > thead > tr,\n",
              ".dataframe > tbody > tr {\n",
              "  text-align: right;\n",
              "  white-space: pre-wrap;\n",
              "}\n",
              "</style>\n",
              "<small>shape: (751, 9)</small><table border=\"1\" class=\"dataframe\"><thead><tr><th>precio</th><th>media_antiguedad</th><th>min_antiguedad</th><th>max_antiguedad</th><th>conteo_dormitorios</th><th>suma_antiguedad</th><th>primer_antiguedad</th><th>ultimo_antiguedad</th><th>diferencia_antiguedad</th></tr><tr><td>i64</td><td>f64</td><td>i64</td><td>i64</td><td>u32</td><td>i64</td><td>i64</td><td>i64</td><td>i64</td></tr></thead><tbody><tr><td>250000</td><td>17.625</td><td>8</td><td>25</td><td>8</td><td>141</td><td>19</td><td>15</td><td>-4</td></tr><tr><td>196900</td><td>35.0</td><td>35</td><td>35</td><td>1</td><td>35</td><td>35</td><td>35</td><td>0</td></tr><tr><td>282000</td><td>12.0</td><td>12</td><td>12</td><td>1</td><td>12</td><td>12</td><td>12</td><td>0</td></tr><tr><td>194000</td><td>64.0</td><td>64</td><td>64</td><td>1</td><td>64</td><td>64</td><td>64</td><td>0</td></tr><tr><td>214990</td><td>17.0</td><td>17</td><td>17</td><td>1</td><td>17</td><td>17</td><td>17</td><td>0</td></tr><tr><td>&hellip;</td><td>&hellip;</td><td>&hellip;</td><td>&hellip;</td><td>&hellip;</td><td>&hellip;</td><td>&hellip;</td><td>&hellip;</td><td>&hellip;</td></tr><tr><td>421000</td><td>5.0</td><td>5</td><td>5</td><td>1</td><td>5</td><td>5</td><td>5</td><td>0</td></tr><tr><td>154500</td><td>35.0</td><td>35</td><td>35</td><td>1</td><td>35</td><td>35</td><td>35</td><td>0</td></tr><tr><td>316250</td><td>0.0</td><td>0</td><td>0</td><td>1</td><td>0</td><td>0</td><td>0</td><td>0</td></tr><tr><td>162000</td><td>35.0</td><td>35</td><td>35</td><td>1</td><td>35</td><td>35</td><td>35</td><td>0</td></tr><tr><td>655000</td><td>55.0</td><td>55</td><td>55</td><td>1</td><td>55</td><td>55</td><td>55</td><td>0</td></tr></tbody></table></div>"
            ]
          },
          "metadata": {},
          "execution_count": 84
        }
      ],
      "source": [
        "df.group_by('precio').agg(\n",
        "    pl.col('antiguedad').mean().alias('media_antiguedad'),## media columna antiguedad\n",
        "    pl.col('antiguedad').min().alias('min_antiguedad'),\n",
        "    pl.col('antiguedad').max().alias('max_antiguedad'),\n",
        "    pl.count('dormitorios').alias('conteo_dormitorios'), #\n",
        "    pl.sum('antiguedad').alias('suma_antiguedad'), # suma de columna antiguedad\n",
        "    pl.first('antiguedad').alias('primer_antiguedad'), ## primer valor\n",
        "    pl.last('antiguedad').alias('ultimo_antiguedad'), ## ultimo valor\n",
        "    (pl.last('antiguedad') - pl.first('antiguedad')).alias('diferencia_antiguedad') # ultimo valor  menos el primero\n",
        ").collect()"
      ]
    },
    {
      "cell_type": "code",
      "execution_count": 85,
      "metadata": {
        "colab": {
          "base_uri": "https://localhost:8080/",
          "height": 247
        },
        "id": "5FnshpVn-EjD",
        "outputId": "57edb60a-7fca-4006-cc34-edc999b04d81"
      },
      "outputs": [
        {
          "output_type": "execute_result",
          "data": {
            "text/plain": [
              "shape: (3, 16)\n",
              "┌─────┬────────┬─────────────┬────────────┬───┬─────────────┬────────────┬────────────┬────────────┐\n",
              "│     ┆ precio ┆ metros_tota ┆ antiguedad ┆ … ┆ desague     ┆ vistas_lag ┆ nueva_cons ┆ aire_acond │\n",
              "│ --- ┆ ---    ┆ les         ┆ ---        ┆   ┆ ---         ┆ o          ┆ truccion   ┆ icionado   │\n",
              "│ i64 ┆ i64    ┆ ---         ┆ i64        ┆   ┆ str         ┆ ---        ┆ ---        ┆ ---        │\n",
              "│     ┆        ┆ f64         ┆            ┆   ┆             ┆ str        ┆ str        ┆ str        │\n",
              "╞═════╪════════╪═════════════╪════════════╪═══╪═════════════╪════════════╪════════════╪════════════╡\n",
              "│ 0   ┆ 132500 ┆ 0.09        ┆ 42         ┆ … ┆ septic      ┆ No         ┆ No         ┆ No         │\n",
              "│ 1   ┆ 181115 ┆ 0.92        ┆ 0          ┆ … ┆ septic      ┆ No         ┆ No         ┆ No         │\n",
              "│ 2   ┆ 109000 ┆ 0.19        ┆ 133        ┆ … ┆ public/comm ┆ No         ┆ No         ┆ No         │\n",
              "│     ┆        ┆             ┆            ┆   ┆ ercial      ┆            ┆            ┆            │\n",
              "└─────┴────────┴─────────────┴────────────┴───┴─────────────┴────────────┴────────────┴────────────┘"
            ],
            "text/html": [
              "<div><style>\n",
              ".dataframe > thead > tr,\n",
              ".dataframe > tbody > tr {\n",
              "  text-align: right;\n",
              "  white-space: pre-wrap;\n",
              "}\n",
              "</style>\n",
              "<small>shape: (3, 16)</small><table border=\"1\" class=\"dataframe\"><thead><tr><th></th><th>precio</th><th>metros_totales</th><th>antiguedad</th><th>precio_terreno</th><th>metros_habitables</th><th>universitarios</th><th>dormitorios</th><th>baños</th><th>habitaciones</th><th>calefaccion</th><th>consumo_calefacion</th><th>desague</th><th>vistas_lago</th><th>nueva_construccion</th><th>aire_acondicionado</th></tr><tr><td>i64</td><td>i64</td><td>f64</td><td>i64</td><td>i64</td><td>i64</td><td>i64</td><td>i64</td><td>f64</td><td>i64</td><td>str</td><td>str</td><td>str</td><td>str</td><td>str</td><td>str</td></tr></thead><tbody><tr><td>0</td><td>132500</td><td>0.09</td><td>42</td><td>50000</td><td>906</td><td>35</td><td>2</td><td>1.0</td><td>5</td><td>&quot;electric&quot;</td><td>&quot;electric&quot;</td><td>&quot;septic&quot;</td><td>&quot;No&quot;</td><td>&quot;No&quot;</td><td>&quot;No&quot;</td></tr><tr><td>1</td><td>181115</td><td>0.92</td><td>0</td><td>22300</td><td>1953</td><td>51</td><td>3</td><td>2.5</td><td>6</td><td>&quot;hot water/steam&quot;</td><td>&quot;gas&quot;</td><td>&quot;septic&quot;</td><td>&quot;No&quot;</td><td>&quot;No&quot;</td><td>&quot;No&quot;</td></tr><tr><td>2</td><td>109000</td><td>0.19</td><td>133</td><td>7300</td><td>1944</td><td>51</td><td>4</td><td>1.0</td><td>8</td><td>&quot;hot water/steam&quot;</td><td>&quot;gas&quot;</td><td>&quot;public/commercial&quot;</td><td>&quot;No&quot;</td><td>&quot;No&quot;</td><td>&quot;No&quot;</td></tr></tbody></table></div>"
            ]
          },
          "metadata": {},
          "execution_count": 85
        }
      ],
      "source": [
        "df.collect().head(3)  ## dataframe lazy original"
      ]
    },
    {
      "cell_type": "code",
      "execution_count": 86,
      "metadata": {
        "colab": {
          "base_uri": "https://localhost:8080/",
          "height": 443
        },
        "id": "Mj0vI_Z-X5Yc",
        "outputId": "808705d2-4e40-4e7c-d209-a234ac99e646"
      },
      "outputs": [
        {
          "output_type": "execute_result",
          "data": {
            "text/plain": [
              "shape: (751, 9)\n",
              "┌────────┬────────────┬────────────┬───────────┬───┬───────────┬───────────┬───────────┬───────────┐\n",
              "│ precio ┆ media_anti ┆ min_antigu ┆ max_antig ┆ … ┆ suma_anti ┆ primer_an ┆ ultimo_an ┆ diferenci │\n",
              "│ ---    ┆ guedad     ┆ edad       ┆ uedad     ┆   ┆ guedad    ┆ tiguedad  ┆ tiguedad  ┆ a_antigue │\n",
              "│ i64    ┆ ---        ┆ ---        ┆ ---       ┆   ┆ ---       ┆ ---       ┆ ---       ┆ dad       │\n",
              "│        ┆ f64        ┆ i64        ┆ i64       ┆   ┆ i64       ┆ i64       ┆ i64       ┆ ---       │\n",
              "│        ┆            ┆            ┆           ┆   ┆           ┆           ┆           ┆ i64       │\n",
              "╞════════╪════════════╪════════════╪═══════════╪═══╪═══════════╪═══════════╪═══════════╪═══════════╡\n",
              "│ 145000 ┆ 25.411765  ┆ 11         ┆ 71        ┆ … ┆ 432       ┆ 26        ┆ 16        ┆ -10       │\n",
              "│ 216300 ┆ 0.0        ┆ 0          ┆ 0         ┆ … ┆ 0         ┆ 0         ┆ 0         ┆ 0         │\n",
              "│ 525000 ┆ 1.0        ┆ 1          ┆ 1         ┆ … ┆ 1         ┆ 1         ┆ 1         ┆ 0         │\n",
              "│ 164400 ┆ 1.0        ┆ 1          ┆ 1         ┆ … ┆ 1         ┆ 1         ┆ 1         ┆ 0         │\n",
              "│ 186030 ┆ 38.0       ┆ 38         ┆ 38        ┆ … ┆ 38        ┆ 38        ┆ 38        ┆ 0         │\n",
              "│ …      ┆ …          ┆ …          ┆ …         ┆ … ┆ …         ┆ …         ┆ …         ┆ …         │\n",
              "│ 219000 ┆ 18.0       ┆ 2          ┆ 27        ┆ … ┆ 54        ┆ 25        ┆ 27        ┆ 2         │\n",
              "│ 194500 ┆ 40.5       ┆ 40         ┆ 41        ┆ … ┆ 81        ┆ 41        ┆ 40        ┆ -1        │\n",
              "│ 116900 ┆ 20.0       ┆ 20         ┆ 20        ┆ … ┆ 20        ┆ 20        ┆ 20        ┆ 0         │\n",
              "│ 202500 ┆ 17.0       ┆ 17         ┆ 17        ┆ … ┆ 17        ┆ 17        ┆ 17        ┆ 0         │\n",
              "│ 332000 ┆ 11.0       ┆ 11         ┆ 11        ┆ … ┆ 11        ┆ 11        ┆ 11        ┆ 0         │\n",
              "└────────┴────────────┴────────────┴───────────┴───┴───────────┴───────────┴───────────┴───────────┘"
            ],
            "text/html": [
              "<div><style>\n",
              ".dataframe > thead > tr,\n",
              ".dataframe > tbody > tr {\n",
              "  text-align: right;\n",
              "  white-space: pre-wrap;\n",
              "}\n",
              "</style>\n",
              "<small>shape: (751, 9)</small><table border=\"1\" class=\"dataframe\"><thead><tr><th>precio</th><th>media_antiguedad</th><th>min_antiguedad</th><th>max_antiguedad</th><th>conteo_dormitorios</th><th>suma_antiguedad</th><th>primer_antiguedad</th><th>ultimo_antiguedad</th><th>diferencia_antiguedad</th></tr><tr><td>i64</td><td>f64</td><td>i64</td><td>i64</td><td>u32</td><td>i64</td><td>i64</td><td>i64</td><td>i64</td></tr></thead><tbody><tr><td>145000</td><td>25.411765</td><td>11</td><td>71</td><td>17</td><td>432</td><td>26</td><td>16</td><td>-10</td></tr><tr><td>216300</td><td>0.0</td><td>0</td><td>0</td><td>1</td><td>0</td><td>0</td><td>0</td><td>0</td></tr><tr><td>525000</td><td>1.0</td><td>1</td><td>1</td><td>1</td><td>1</td><td>1</td><td>1</td><td>0</td></tr><tr><td>164400</td><td>1.0</td><td>1</td><td>1</td><td>1</td><td>1</td><td>1</td><td>1</td><td>0</td></tr><tr><td>186030</td><td>38.0</td><td>38</td><td>38</td><td>1</td><td>38</td><td>38</td><td>38</td><td>0</td></tr><tr><td>&hellip;</td><td>&hellip;</td><td>&hellip;</td><td>&hellip;</td><td>&hellip;</td><td>&hellip;</td><td>&hellip;</td><td>&hellip;</td><td>&hellip;</td></tr><tr><td>219000</td><td>18.0</td><td>2</td><td>27</td><td>3</td><td>54</td><td>25</td><td>27</td><td>2</td></tr><tr><td>194500</td><td>40.5</td><td>40</td><td>41</td><td>2</td><td>81</td><td>41</td><td>40</td><td>-1</td></tr><tr><td>116900</td><td>20.0</td><td>20</td><td>20</td><td>1</td><td>20</td><td>20</td><td>20</td><td>0</td></tr><tr><td>202500</td><td>17.0</td><td>17</td><td>17</td><td>1</td><td>17</td><td>17</td><td>17</td><td>0</td></tr><tr><td>332000</td><td>11.0</td><td>11</td><td>11</td><td>1</td><td>11</td><td>11</td><td>11</td><td>0</td></tr></tbody></table></div>"
            ]
          },
          "metadata": {},
          "execution_count": 86
        }
      ],
      "source": [
        "df.group_by('precio').agg(\n",
        "    pl.col('antiguedad').mean().alias('media_antiguedad'),\n",
        "    pl.col('antiguedad').min().alias('min_antiguedad'),\n",
        "    pl.col('antiguedad').max().alias('max_antiguedad'),\n",
        "    pl.count('dormitorios').alias('conteo_dormitorios'), #\n",
        "    pl.sum('antiguedad').alias('suma_antiguedad'), #\n",
        "    pl.first('antiguedad').alias('primer_antiguedad'), #\n",
        "    pl.last('antiguedad').alias('ultimo_antiguedad'), #\n",
        "    (pl.last('antiguedad') - pl.first('antiguedad')).alias('diferencia_antiguedad') #\n",
        ").collect() ## utilizo el metodo collect ´para ver los detalles del dataframe"
      ]
    },
    {
      "cell_type": "code",
      "execution_count": 87,
      "metadata": {
        "colab": {
          "base_uri": "https://localhost:8080/",
          "height": 532
        },
        "id": "QRwsgYXK5hHq",
        "outputId": "d8ee633d-591d-4801-c097-ba73ae5dedcf"
      },
      "outputs": [
        {
          "output_type": "execute_result",
          "data": {
            "text/plain": [
              "shape: (1_728, 16)\n",
              "┌──────┬────────┬─────────────┬────────────┬───┬────────────┬────────────┬────────────┬────────────┐\n",
              "│      ┆ precio ┆ metros_tota ┆ antiguedad ┆ … ┆ desague    ┆ vistas_lag ┆ nueva_cons ┆ aire_acond │\n",
              "│ ---  ┆ ---    ┆ les         ┆ ---        ┆   ┆ ---        ┆ o          ┆ truccion   ┆ icionado   │\n",
              "│ i64  ┆ i64    ┆ ---         ┆ i64        ┆   ┆ str        ┆ ---        ┆ ---        ┆ ---        │\n",
              "│      ┆        ┆ f64         ┆            ┆   ┆            ┆ str        ┆ str        ┆ str        │\n",
              "╞══════╪════════╪═════════════╪════════════╪═══╪════════════╪════════════╪════════════╪════════════╡\n",
              "│ 0    ┆ 132500 ┆ 0.09        ┆ 42         ┆ … ┆ septic     ┆ No         ┆ No         ┆ No         │\n",
              "│ 1    ┆ 181115 ┆ 0.92        ┆ 0          ┆ … ┆ septic     ┆ No         ┆ No         ┆ No         │\n",
              "│ 2    ┆ 109000 ┆ 0.19        ┆ 133        ┆ … ┆ public/com ┆ No         ┆ No         ┆ No         │\n",
              "│      ┆        ┆             ┆            ┆   ┆ mercial    ┆            ┆            ┆            │\n",
              "│ 3    ┆ 155000 ┆ 0.41        ┆ 13         ┆ … ┆ septic     ┆ No         ┆ No         ┆ No         │\n",
              "│ 4    ┆ 86060  ┆ 0.11        ┆ 0          ┆ … ┆ public/com ┆ No         ┆ Yes        ┆ Yes        │\n",
              "│      ┆        ┆             ┆            ┆   ┆ mercial    ┆            ┆            ┆            │\n",
              "│ …    ┆ …      ┆ …           ┆ …          ┆ … ┆ …          ┆ …          ┆ …          ┆ …          │\n",
              "│ 1723 ┆ 289000 ┆ 0.38        ┆ 32         ┆ … ┆ public/com ┆ No         ┆ No         ┆ No         │\n",
              "│      ┆        ┆             ┆            ┆   ┆ mercial    ┆            ┆            ┆            │\n",
              "│ 1724 ┆ 285000 ┆ 0.94        ┆ 37         ┆ … ┆ public/com ┆ No         ┆ No         ┆ No         │\n",
              "│      ┆        ┆             ┆            ┆   ┆ mercial    ┆            ┆            ┆            │\n",
              "│ 1725 ┆ 194900 ┆ 0.39        ┆ 9          ┆ … ┆ public/com ┆ No         ┆ No         ┆ No         │\n",
              "│      ┆        ┆             ┆            ┆   ┆ mercial    ┆            ┆            ┆            │\n",
              "│ 1726 ┆ 125000 ┆ 0.24        ┆ 48         ┆ … ┆ public/com ┆ No         ┆ No         ┆ No         │\n",
              "│      ┆        ┆             ┆            ┆   ┆ mercial    ┆            ┆            ┆            │\n",
              "│ 1727 ┆ 111300 ┆ 0.59        ┆ 86         ┆ … ┆ septic     ┆ No         ┆ No         ┆ No         │\n",
              "└──────┴────────┴─────────────┴────────────┴───┴────────────┴────────────┴────────────┴────────────┘"
            ],
            "text/html": [
              "<div><style>\n",
              ".dataframe > thead > tr,\n",
              ".dataframe > tbody > tr {\n",
              "  text-align: right;\n",
              "  white-space: pre-wrap;\n",
              "}\n",
              "</style>\n",
              "<small>shape: (1_728, 16)</small><table border=\"1\" class=\"dataframe\"><thead><tr><th></th><th>precio</th><th>metros_totales</th><th>antiguedad</th><th>precio_terreno</th><th>metros_habitables</th><th>universitarios</th><th>dormitorios</th><th>baños</th><th>habitaciones</th><th>calefaccion</th><th>consumo_calefacion</th><th>desague</th><th>vistas_lago</th><th>nueva_construccion</th><th>aire_acondicionado</th></tr><tr><td>i64</td><td>i64</td><td>f64</td><td>i64</td><td>i64</td><td>i64</td><td>i64</td><td>i64</td><td>f64</td><td>i64</td><td>str</td><td>str</td><td>str</td><td>str</td><td>str</td><td>str</td></tr></thead><tbody><tr><td>0</td><td>132500</td><td>0.09</td><td>42</td><td>50000</td><td>906</td><td>35</td><td>2</td><td>1.0</td><td>5</td><td>&quot;electric&quot;</td><td>&quot;electric&quot;</td><td>&quot;septic&quot;</td><td>&quot;No&quot;</td><td>&quot;No&quot;</td><td>&quot;No&quot;</td></tr><tr><td>1</td><td>181115</td><td>0.92</td><td>0</td><td>22300</td><td>1953</td><td>51</td><td>3</td><td>2.5</td><td>6</td><td>&quot;hot water/steam&quot;</td><td>&quot;gas&quot;</td><td>&quot;septic&quot;</td><td>&quot;No&quot;</td><td>&quot;No&quot;</td><td>&quot;No&quot;</td></tr><tr><td>2</td><td>109000</td><td>0.19</td><td>133</td><td>7300</td><td>1944</td><td>51</td><td>4</td><td>1.0</td><td>8</td><td>&quot;hot water/steam&quot;</td><td>&quot;gas&quot;</td><td>&quot;public/commercial&quot;</td><td>&quot;No&quot;</td><td>&quot;No&quot;</td><td>&quot;No&quot;</td></tr><tr><td>3</td><td>155000</td><td>0.41</td><td>13</td><td>18700</td><td>1944</td><td>51</td><td>3</td><td>1.5</td><td>5</td><td>&quot;hot air&quot;</td><td>&quot;gas&quot;</td><td>&quot;septic&quot;</td><td>&quot;No&quot;</td><td>&quot;No&quot;</td><td>&quot;No&quot;</td></tr><tr><td>4</td><td>86060</td><td>0.11</td><td>0</td><td>15000</td><td>840</td><td>51</td><td>2</td><td>1.0</td><td>3</td><td>&quot;hot air&quot;</td><td>&quot;gas&quot;</td><td>&quot;public/commercial&quot;</td><td>&quot;No&quot;</td><td>&quot;Yes&quot;</td><td>&quot;Yes&quot;</td></tr><tr><td>&hellip;</td><td>&hellip;</td><td>&hellip;</td><td>&hellip;</td><td>&hellip;</td><td>&hellip;</td><td>&hellip;</td><td>&hellip;</td><td>&hellip;</td><td>&hellip;</td><td>&hellip;</td><td>&hellip;</td><td>&hellip;</td><td>&hellip;</td><td>&hellip;</td><td>&hellip;</td></tr><tr><td>1723</td><td>289000</td><td>0.38</td><td>32</td><td>24200</td><td>2310</td><td>61</td><td>5</td><td>2.5</td><td>11</td><td>&quot;hot water/steam&quot;</td><td>&quot;gas&quot;</td><td>&quot;public/commercial&quot;</td><td>&quot;No&quot;</td><td>&quot;No&quot;</td><td>&quot;No&quot;</td></tr><tr><td>1724</td><td>285000</td><td>0.94</td><td>37</td><td>36200</td><td>2564</td><td>61</td><td>4</td><td>2.5</td><td>11</td><td>&quot;hot water/steam&quot;</td><td>&quot;gas&quot;</td><td>&quot;public/commercial&quot;</td><td>&quot;No&quot;</td><td>&quot;No&quot;</td><td>&quot;No&quot;</td></tr><tr><td>1725</td><td>194900</td><td>0.39</td><td>9</td><td>20400</td><td>1099</td><td>51</td><td>2</td><td>1.0</td><td>3</td><td>&quot;hot air&quot;</td><td>&quot;gas&quot;</td><td>&quot;public/commercial&quot;</td><td>&quot;No&quot;</td><td>&quot;No&quot;</td><td>&quot;No&quot;</td></tr><tr><td>1726</td><td>125000</td><td>0.24</td><td>48</td><td>16800</td><td>1225</td><td>51</td><td>3</td><td>1.0</td><td>7</td><td>&quot;hot air&quot;</td><td>&quot;gas&quot;</td><td>&quot;public/commercial&quot;</td><td>&quot;No&quot;</td><td>&quot;No&quot;</td><td>&quot;No&quot;</td></tr><tr><td>1727</td><td>111300</td><td>0.59</td><td>86</td><td>26000</td><td>1959</td><td>51</td><td>3</td><td>1.0</td><td>6</td><td>&quot;hot air&quot;</td><td>&quot;gas&quot;</td><td>&quot;septic&quot;</td><td>&quot;No&quot;</td><td>&quot;No&quot;</td><td>&quot;No&quot;</td></tr></tbody></table></div>"
            ]
          },
          "metadata": {},
          "execution_count": 87
        }
      ],
      "source": [
        "df.collect()"
      ]
    },
    {
      "cell_type": "markdown",
      "metadata": {
        "id": "QXRE__kF5vD8"
      },
      "source": [
        "\n",
        "# **<font color=\"#07a8ed\">Lazy Frames-Manipulacion y Seleccion**"
      ]
    },
    {
      "cell_type": "markdown",
      "metadata": {
        "id": "yiRg44XK56Si"
      },
      "source": [
        "`Debemos tener en cuenta que estas operaciones funcionan de la misma forma a como lo hacen con los DataFrame con algunas excepciones.`"
      ]
    },
    {
      "cell_type": "markdown",
      "metadata": {
        "id": "SHiV1GyF6Wuy"
      },
      "source": [
        "# **botton_k**\n",
        "\n",
        "`= en Pandas no existe esta funcion`\n",
        "\n",
        "`Retorna los k elementos más pequeños del DataFrame. Le podemos indicar la cantidad de elementos que deseamos mostrar y por cual columna ordenar para obtener el resultado.`"
      ]
    },
    {
      "cell_type": "code",
      "execution_count": 88,
      "metadata": {
        "colab": {
          "base_uri": "https://localhost:8080/",
          "height": 244
        },
        "id": "xZxQ01qx6wIL",
        "outputId": "55aad860-6ff1-412d-c550-a8576fb4c00a"
      },
      "outputs": [
        {
          "output_type": "execute_result",
          "data": {
            "text/plain": [
              "<LazyFrame at 0x7C7007641C30>"
            ],
            "text/html": [
              "<h4>NAIVE QUERY PLAN</h4><p>run <b>LazyFrame.show_graph()</b> to see the optimized version</p><?xml version=\"1.0\" encoding=\"UTF-8\" standalone=\"no\"?>\n",
              "<!DOCTYPE svg PUBLIC \"-//W3C//DTD SVG 1.1//EN\"\n",
              " \"http://www.w3.org/Graphics/SVG/1.1/DTD/svg11.dtd\">\n",
              "<!-- Generated by graphviz version 2.43.0 (0)\n",
              " -->\n",
              "<!-- Title: polars_query Pages: 1 -->\n",
              "<svg width=\"597pt\" height=\"118pt\"\n",
              " viewBox=\"0.00 0.00 597.00 118.00\" xmlns=\"http://www.w3.org/2000/svg\" xmlns:xlink=\"http://www.w3.org/1999/xlink\">\n",
              "<g id=\"graph0\" class=\"graph\" transform=\"scale(1 1) rotate(0) translate(4 114)\">\n",
              "<title>polars_query</title>\n",
              "<polygon fill=\"white\" stroke=\"transparent\" points=\"-4,4 -4,-114 593,-114 593,4 -4,4\"/>\n",
              "<!-- p1 -->\n",
              "<g id=\"node1\" class=\"node\">\n",
              "<title>p1</title>\n",
              "<polygon fill=\"none\" stroke=\"black\" points=\"385.5,-110 203.5,-110 203.5,-74 385.5,-74 385.5,-110\"/>\n",
              "<text text-anchor=\"middle\" x=\"294.5\" y=\"-88.3\" font-family=\"Times,serif\" font-size=\"14.00\">SORT BY [col(&quot;antiguedad&quot;)]</text>\n",
              "</g>\n",
              "<!-- p2 -->\n",
              "<g id=\"node2\" class=\"node\">\n",
              "<title>p2</title>\n",
              "<polygon fill=\"none\" stroke=\"black\" points=\"589,-38 0,-38 0,0 589,0 589,-38\"/>\n",
              "<text text-anchor=\"middle\" x=\"294.5\" y=\"-22.8\" font-family=\"Times,serif\" font-size=\"14.00\">Csv SCAN [https://raw.githubusercontent.com/VINY2030/datasets/refs/heads/main/SaratogaHouses.csv]</text>\n",
              "<text text-anchor=\"middle\" x=\"294.5\" y=\"-7.8\" font-family=\"Times,serif\" font-size=\"14.00\">π */16;</text>\n",
              "</g>\n",
              "<!-- p1&#45;&#45;p2 -->\n",
              "<g id=\"edge1\" class=\"edge\">\n",
              "<title>p1&#45;&#45;p2</title>\n",
              "<path fill=\"none\" stroke=\"black\" d=\"M294.5,-73.81C294.5,-62.98 294.5,-49.01 294.5,-38.02\"/>\n",
              "</g>\n",
              "</g>\n",
              "</svg>\n"
            ]
          },
          "metadata": {},
          "execution_count": 88
        }
      ],
      "source": [
        "# se ordena por la columna de antiguedad en forma descendente los nulos al final\n",
        "result = df.sort(by=['antiguedad'], descending=[True], nulls_last=True)\n",
        "result"
      ]
    },
    {
      "cell_type": "code",
      "execution_count": 89,
      "metadata": {
        "colab": {
          "base_uri": "https://localhost:8080/",
          "height": 497
        },
        "id": "Rz5ekn_j61dy",
        "outputId": "ff27197c-60b6-4ab2-d5f8-8ac5bd3417c6"
      },
      "outputs": [
        {
          "output_type": "execute_result",
          "data": {
            "text/plain": [
              "shape: (1_728, 16)\n",
              "┌──────┬────────┬─────────────┬────────────┬───┬────────────┬────────────┬────────────┬────────────┐\n",
              "│      ┆ precio ┆ metros_tota ┆ antiguedad ┆ … ┆ desague    ┆ vistas_lag ┆ nueva_cons ┆ aire_acond │\n",
              "│ ---  ┆ ---    ┆ les         ┆ ---        ┆   ┆ ---        ┆ o          ┆ truccion   ┆ icionado   │\n",
              "│ i64  ┆ i64    ┆ ---         ┆ i64        ┆   ┆ str        ┆ ---        ┆ ---        ┆ ---        │\n",
              "│      ┆        ┆ f64         ┆            ┆   ┆            ┆ str        ┆ str        ┆ str        │\n",
              "╞══════╪════════╪═════════════╪════════════╪═══╪════════════╪════════════╪════════════╪════════════╡\n",
              "│ 62   ┆ 82800  ┆ 0.11        ┆ 225        ┆ … ┆ public/com ┆ No         ┆ No         ┆ No         │\n",
              "│      ┆        ┆             ┆            ┆   ┆ mercial    ┆            ┆            ┆            │\n",
              "│ 33   ┆ 227000 ┆ 1.8         ┆ 201        ┆ … ┆ septic     ┆ No         ┆ No         ┆ No         │\n",
              "│ 140  ┆ 135000 ┆ 3.0         ┆ 178        ┆ … ┆ septic     ┆ No         ┆ No         ┆ No         │\n",
              "│ 1685 ┆ 422680 ┆ 0.16        ┆ 176        ┆ … ┆ public/com ┆ No         ┆ No         ┆ No         │\n",
              "│      ┆        ┆             ┆            ┆   ┆ mercial    ┆            ┆            ┆            │\n",
              "│ 980  ┆ 154000 ┆ 0.1         ┆ 174        ┆ … ┆ septic     ┆ No         ┆ No         ┆ No         │\n",
              "│ …    ┆ …      ┆ …           ┆ …          ┆ … ┆ …          ┆ …          ┆ …          ┆ …          │\n",
              "│ 1468 ┆ 295925 ┆ 0.56        ┆ 0          ┆ … ┆ public/com ┆ No         ┆ Yes        ┆ No         │\n",
              "│      ┆        ┆             ┆            ┆   ┆ mercial    ┆            ┆            ┆            │\n",
              "│ 1484 ┆ 355063 ┆ 0.36        ┆ 0          ┆ … ┆ septic     ┆ No         ┆ Yes        ┆ Yes        │\n",
              "│ 1588 ┆ 365000 ┆ 0.56        ┆ 0          ┆ … ┆ public/com ┆ No         ┆ No         ┆ No         │\n",
              "│      ┆        ┆             ┆            ┆   ┆ mercial    ┆            ┆            ┆            │\n",
              "│ 1631 ┆ 316250 ┆ 0.04        ┆ 0          ┆ … ┆ public/com ┆ No         ┆ Yes        ┆ No         │\n",
              "│      ┆        ┆             ┆            ┆   ┆ mercial    ┆            ┆            ┆            │\n",
              "│ 1719 ┆ 275900 ┆ 0.81        ┆ 0          ┆ … ┆ public/com ┆ No         ┆ Yes        ┆ No         │\n",
              "│      ┆        ┆             ┆            ┆   ┆ mercial    ┆            ┆            ┆            │\n",
              "└──────┴────────┴─────────────┴────────────┴───┴────────────┴────────────┴────────────┴────────────┘"
            ],
            "text/html": [
              "<div><style>\n",
              ".dataframe > thead > tr,\n",
              ".dataframe > tbody > tr {\n",
              "  text-align: right;\n",
              "  white-space: pre-wrap;\n",
              "}\n",
              "</style>\n",
              "<small>shape: (1_728, 16)</small><table border=\"1\" class=\"dataframe\"><thead><tr><th></th><th>precio</th><th>metros_totales</th><th>antiguedad</th><th>precio_terreno</th><th>metros_habitables</th><th>universitarios</th><th>dormitorios</th><th>baños</th><th>habitaciones</th><th>calefaccion</th><th>consumo_calefacion</th><th>desague</th><th>vistas_lago</th><th>nueva_construccion</th><th>aire_acondicionado</th></tr><tr><td>i64</td><td>i64</td><td>f64</td><td>i64</td><td>i64</td><td>i64</td><td>i64</td><td>i64</td><td>f64</td><td>i64</td><td>str</td><td>str</td><td>str</td><td>str</td><td>str</td><td>str</td></tr></thead><tbody><tr><td>62</td><td>82800</td><td>0.11</td><td>225</td><td>3900</td><td>1483</td><td>52</td><td>3</td><td>1.0</td><td>7</td><td>&quot;hot air&quot;</td><td>&quot;gas&quot;</td><td>&quot;public/commercial&quot;</td><td>&quot;No&quot;</td><td>&quot;No&quot;</td><td>&quot;No&quot;</td></tr><tr><td>33</td><td>227000</td><td>1.8</td><td>201</td><td>25500</td><td>1876</td><td>52</td><td>3</td><td>2.5</td><td>5</td><td>&quot;hot air&quot;</td><td>&quot;oil&quot;</td><td>&quot;septic&quot;</td><td>&quot;No&quot;</td><td>&quot;No&quot;</td><td>&quot;No&quot;</td></tr><tr><td>140</td><td>135000</td><td>3.0</td><td>178</td><td>44500</td><td>3020</td><td>41</td><td>4</td><td>2.5</td><td>12</td><td>&quot;hot water/steam&quot;</td><td>&quot;oil&quot;</td><td>&quot;septic&quot;</td><td>&quot;No&quot;</td><td>&quot;No&quot;</td><td>&quot;No&quot;</td></tr><tr><td>1685</td><td>422680</td><td>0.16</td><td>176</td><td>46200</td><td>4486</td><td>51</td><td>6</td><td>4.0</td><td>12</td><td>&quot;hot water/steam&quot;</td><td>&quot;gas&quot;</td><td>&quot;public/commercial&quot;</td><td>&quot;No&quot;</td><td>&quot;No&quot;</td><td>&quot;No&quot;</td></tr><tr><td>980</td><td>154000</td><td>0.1</td><td>174</td><td>32800</td><td>1364</td><td>63</td><td>5</td><td>1.0</td><td>9</td><td>&quot;hot air&quot;</td><td>&quot;oil&quot;</td><td>&quot;septic&quot;</td><td>&quot;No&quot;</td><td>&quot;No&quot;</td><td>&quot;No&quot;</td></tr><tr><td>&hellip;</td><td>&hellip;</td><td>&hellip;</td><td>&hellip;</td><td>&hellip;</td><td>&hellip;</td><td>&hellip;</td><td>&hellip;</td><td>&hellip;</td><td>&hellip;</td><td>&hellip;</td><td>&hellip;</td><td>&hellip;</td><td>&hellip;</td><td>&hellip;</td><td>&hellip;</td></tr><tr><td>1468</td><td>295925</td><td>0.56</td><td>0</td><td>108900</td><td>2134</td><td>40</td><td>4</td><td>2.5</td><td>9</td><td>&quot;hot air&quot;</td><td>&quot;gas&quot;</td><td>&quot;public/commercial&quot;</td><td>&quot;No&quot;</td><td>&quot;Yes&quot;</td><td>&quot;No&quot;</td></tr><tr><td>1484</td><td>355063</td><td>0.36</td><td>0</td><td>13000</td><td>2256</td><td>64</td><td>4</td><td>2.5</td><td>8</td><td>&quot;hot air&quot;</td><td>&quot;gas&quot;</td><td>&quot;septic&quot;</td><td>&quot;No&quot;</td><td>&quot;Yes&quot;</td><td>&quot;Yes&quot;</td></tr><tr><td>1588</td><td>365000</td><td>0.56</td><td>0</td><td>37900</td><td>2950</td><td>64</td><td>4</td><td>2.5</td><td>12</td><td>&quot;hot air&quot;</td><td>&quot;gas&quot;</td><td>&quot;public/commercial&quot;</td><td>&quot;No&quot;</td><td>&quot;No&quot;</td><td>&quot;No&quot;</td></tr><tr><td>1631</td><td>316250</td><td>0.04</td><td>0</td><td>74800</td><td>2648</td><td>62</td><td>4</td><td>2.5</td><td>11</td><td>&quot;hot air&quot;</td><td>&quot;gas&quot;</td><td>&quot;public/commercial&quot;</td><td>&quot;No&quot;</td><td>&quot;Yes&quot;</td><td>&quot;No&quot;</td></tr><tr><td>1719</td><td>275900</td><td>0.81</td><td>0</td><td>7300</td><td>2288</td><td>61</td><td>3</td><td>2.5</td><td>8</td><td>&quot;hot air&quot;</td><td>&quot;gas&quot;</td><td>&quot;public/commercial&quot;</td><td>&quot;No&quot;</td><td>&quot;Yes&quot;</td><td>&quot;No&quot;</td></tr></tbody></table></div>"
            ]
          },
          "metadata": {},
          "execution_count": 89
        }
      ],
      "source": [
        "result.collect()  ## observamos el dataset ordenado por antiguedad"
      ]
    },
    {
      "cell_type": "markdown",
      "metadata": {
        "id": "_apke9ZL69IC"
      },
      "source": [
        "# **drop**\n",
        "`=  en Pandas funciona de forma similar`\n",
        "\n",
        "`Elimina la(s) columna(s) seleccionada(s).`"
      ]
    },
    {
      "cell_type": "code",
      "execution_count": 90,
      "metadata": {
        "colab": {
          "base_uri": "https://localhost:8080/",
          "height": 532
        },
        "id": "WSwEHt6I68d9",
        "outputId": "c9ccb493-2429-4888-bfc7-3f429454632a"
      },
      "outputs": [
        {
          "output_type": "execute_result",
          "data": {
            "text/plain": [
              "shape: (1_728, 15)\n",
              "┌──────┬────────┬─────────────┬────────────┬───┬────────────┬────────────┬────────────┬────────────┐\n",
              "│      ┆ precio ┆ metros_tota ┆ antiguedad ┆ … ┆ consumo_ca ┆ desague    ┆ vistas_lag ┆ aire_acond │\n",
              "│ ---  ┆ ---    ┆ les         ┆ ---        ┆   ┆ lefacion   ┆ ---        ┆ o          ┆ icionado   │\n",
              "│ i64  ┆ i64    ┆ ---         ┆ i64        ┆   ┆ ---        ┆ str        ┆ ---        ┆ ---        │\n",
              "│      ┆        ┆ f64         ┆            ┆   ┆ str        ┆            ┆ str        ┆ str        │\n",
              "╞══════╪════════╪═════════════╪════════════╪═══╪════════════╪════════════╪════════════╪════════════╡\n",
              "│ 0    ┆ 132500 ┆ 0.09        ┆ 42         ┆ … ┆ electric   ┆ septic     ┆ No         ┆ No         │\n",
              "│ 1    ┆ 181115 ┆ 0.92        ┆ 0          ┆ … ┆ gas        ┆ septic     ┆ No         ┆ No         │\n",
              "│ 2    ┆ 109000 ┆ 0.19        ┆ 133        ┆ … ┆ gas        ┆ public/com ┆ No         ┆ No         │\n",
              "│      ┆        ┆             ┆            ┆   ┆            ┆ mercial    ┆            ┆            │\n",
              "│ 3    ┆ 155000 ┆ 0.41        ┆ 13         ┆ … ┆ gas        ┆ septic     ┆ No         ┆ No         │\n",
              "│ 4    ┆ 86060  ┆ 0.11        ┆ 0          ┆ … ┆ gas        ┆ public/com ┆ No         ┆ Yes        │\n",
              "│      ┆        ┆             ┆            ┆   ┆            ┆ mercial    ┆            ┆            │\n",
              "│ …    ┆ …      ┆ …           ┆ …          ┆ … ┆ …          ┆ …          ┆ …          ┆ …          │\n",
              "│ 1723 ┆ 289000 ┆ 0.38        ┆ 32         ┆ … ┆ gas        ┆ public/com ┆ No         ┆ No         │\n",
              "│      ┆        ┆             ┆            ┆   ┆            ┆ mercial    ┆            ┆            │\n",
              "│ 1724 ┆ 285000 ┆ 0.94        ┆ 37         ┆ … ┆ gas        ┆ public/com ┆ No         ┆ No         │\n",
              "│      ┆        ┆             ┆            ┆   ┆            ┆ mercial    ┆            ┆            │\n",
              "│ 1725 ┆ 194900 ┆ 0.39        ┆ 9          ┆ … ┆ gas        ┆ public/com ┆ No         ┆ No         │\n",
              "│      ┆        ┆             ┆            ┆   ┆            ┆ mercial    ┆            ┆            │\n",
              "│ 1726 ┆ 125000 ┆ 0.24        ┆ 48         ┆ … ┆ gas        ┆ public/com ┆ No         ┆ No         │\n",
              "│      ┆        ┆             ┆            ┆   ┆            ┆ mercial    ┆            ┆            │\n",
              "│ 1727 ┆ 111300 ┆ 0.59        ┆ 86         ┆ … ┆ gas        ┆ septic     ┆ No         ┆ No         │\n",
              "└──────┴────────┴─────────────┴────────────┴───┴────────────┴────────────┴────────────┴────────────┘"
            ],
            "text/html": [
              "<div><style>\n",
              ".dataframe > thead > tr,\n",
              ".dataframe > tbody > tr {\n",
              "  text-align: right;\n",
              "  white-space: pre-wrap;\n",
              "}\n",
              "</style>\n",
              "<small>shape: (1_728, 15)</small><table border=\"1\" class=\"dataframe\"><thead><tr><th></th><th>precio</th><th>metros_totales</th><th>antiguedad</th><th>precio_terreno</th><th>metros_habitables</th><th>universitarios</th><th>dormitorios</th><th>baños</th><th>habitaciones</th><th>calefaccion</th><th>consumo_calefacion</th><th>desague</th><th>vistas_lago</th><th>aire_acondicionado</th></tr><tr><td>i64</td><td>i64</td><td>f64</td><td>i64</td><td>i64</td><td>i64</td><td>i64</td><td>i64</td><td>f64</td><td>i64</td><td>str</td><td>str</td><td>str</td><td>str</td><td>str</td></tr></thead><tbody><tr><td>0</td><td>132500</td><td>0.09</td><td>42</td><td>50000</td><td>906</td><td>35</td><td>2</td><td>1.0</td><td>5</td><td>&quot;electric&quot;</td><td>&quot;electric&quot;</td><td>&quot;septic&quot;</td><td>&quot;No&quot;</td><td>&quot;No&quot;</td></tr><tr><td>1</td><td>181115</td><td>0.92</td><td>0</td><td>22300</td><td>1953</td><td>51</td><td>3</td><td>2.5</td><td>6</td><td>&quot;hot water/steam&quot;</td><td>&quot;gas&quot;</td><td>&quot;septic&quot;</td><td>&quot;No&quot;</td><td>&quot;No&quot;</td></tr><tr><td>2</td><td>109000</td><td>0.19</td><td>133</td><td>7300</td><td>1944</td><td>51</td><td>4</td><td>1.0</td><td>8</td><td>&quot;hot water/steam&quot;</td><td>&quot;gas&quot;</td><td>&quot;public/commercial&quot;</td><td>&quot;No&quot;</td><td>&quot;No&quot;</td></tr><tr><td>3</td><td>155000</td><td>0.41</td><td>13</td><td>18700</td><td>1944</td><td>51</td><td>3</td><td>1.5</td><td>5</td><td>&quot;hot air&quot;</td><td>&quot;gas&quot;</td><td>&quot;septic&quot;</td><td>&quot;No&quot;</td><td>&quot;No&quot;</td></tr><tr><td>4</td><td>86060</td><td>0.11</td><td>0</td><td>15000</td><td>840</td><td>51</td><td>2</td><td>1.0</td><td>3</td><td>&quot;hot air&quot;</td><td>&quot;gas&quot;</td><td>&quot;public/commercial&quot;</td><td>&quot;No&quot;</td><td>&quot;Yes&quot;</td></tr><tr><td>&hellip;</td><td>&hellip;</td><td>&hellip;</td><td>&hellip;</td><td>&hellip;</td><td>&hellip;</td><td>&hellip;</td><td>&hellip;</td><td>&hellip;</td><td>&hellip;</td><td>&hellip;</td><td>&hellip;</td><td>&hellip;</td><td>&hellip;</td><td>&hellip;</td></tr><tr><td>1723</td><td>289000</td><td>0.38</td><td>32</td><td>24200</td><td>2310</td><td>61</td><td>5</td><td>2.5</td><td>11</td><td>&quot;hot water/steam&quot;</td><td>&quot;gas&quot;</td><td>&quot;public/commercial&quot;</td><td>&quot;No&quot;</td><td>&quot;No&quot;</td></tr><tr><td>1724</td><td>285000</td><td>0.94</td><td>37</td><td>36200</td><td>2564</td><td>61</td><td>4</td><td>2.5</td><td>11</td><td>&quot;hot water/steam&quot;</td><td>&quot;gas&quot;</td><td>&quot;public/commercial&quot;</td><td>&quot;No&quot;</td><td>&quot;No&quot;</td></tr><tr><td>1725</td><td>194900</td><td>0.39</td><td>9</td><td>20400</td><td>1099</td><td>51</td><td>2</td><td>1.0</td><td>3</td><td>&quot;hot air&quot;</td><td>&quot;gas&quot;</td><td>&quot;public/commercial&quot;</td><td>&quot;No&quot;</td><td>&quot;No&quot;</td></tr><tr><td>1726</td><td>125000</td><td>0.24</td><td>48</td><td>16800</td><td>1225</td><td>51</td><td>3</td><td>1.0</td><td>7</td><td>&quot;hot air&quot;</td><td>&quot;gas&quot;</td><td>&quot;public/commercial&quot;</td><td>&quot;No&quot;</td><td>&quot;No&quot;</td></tr><tr><td>1727</td><td>111300</td><td>0.59</td><td>86</td><td>26000</td><td>1959</td><td>51</td><td>3</td><td>1.0</td><td>6</td><td>&quot;hot air&quot;</td><td>&quot;gas&quot;</td><td>&quot;septic&quot;</td><td>&quot;No&quot;</td><td>&quot;No&quot;</td></tr></tbody></table></div>"
            ]
          },
          "metadata": {},
          "execution_count": 90
        }
      ],
      "source": [
        "df.drop('nueva_construccion').collect()  ## dropeamos columna 'nueva_construccion'"
      ]
    },
    {
      "cell_type": "code",
      "execution_count": 91,
      "metadata": {
        "colab": {
          "base_uri": "https://localhost:8080/"
        },
        "id": "fhxKa7Y77Ulx",
        "outputId": "bc6f781b-6f41-46bc-e206-afad7cd56827"
      },
      "outputs": [
        {
          "output_type": "execute_result",
          "data": {
            "text/plain": [
              "['',\n",
              " 'precio',\n",
              " 'metros_totales',\n",
              " 'antiguedad',\n",
              " 'precio_terreno',\n",
              " 'metros_habitables',\n",
              " 'universitarios',\n",
              " 'dormitorios',\n",
              " 'baños',\n",
              " 'habitaciones',\n",
              " 'calefaccion',\n",
              " 'consumo_calefacion',\n",
              " 'desague',\n",
              " 'vistas_lago',\n",
              " 'nueva_construccion',\n",
              " 'aire_acondicionado']"
            ]
          },
          "metadata": {},
          "execution_count": 91
        }
      ],
      "source": [
        "df.collect_schema().names()  ## nombres de columnas del df ojo se borra en la consulta anterior"
      ]
    },
    {
      "cell_type": "markdown",
      "metadata": {
        "id": "_cUCMYLh7_BI"
      },
      "source": [
        "# **Filtrar un DataFrame**"
      ]
    },
    {
      "cell_type": "markdown",
      "metadata": {
        "id": "ke7EnCCa66De"
      },
      "source": [
        "##### Contexto `filter`\n",
        "\n",
        "`En este contexto, se filtra el marco de datos existente en función de la expresión arbitraria que se evalúa como el tipo de datos booleano.`"
      ]
    },
    {
      "cell_type": "code",
      "execution_count": 92,
      "metadata": {
        "colab": {
          "base_uri": "https://localhost:8080/",
          "height": 129
        },
        "id": "PdnFHoht86GD",
        "outputId": "6b5fd96b-d29b-4aab-cd20-a5fc583448aa"
      },
      "outputs": [
        {
          "output_type": "execute_result",
          "data": {
            "text/plain": [
              "shape: (1, 8)\n",
              "┌────────────┬────────────┬────────────┬───────────┬───────────┬───────────┬───────────┬───────────┐\n",
              "│ precio_mea ┆ conteo_dor ┆ suma_antig ┆ min_antig ┆ max_antig ┆ primer_an ┆ ultimo_an ┆ diferenci │\n",
              "│ n          ┆ mitorios   ┆ uedad      ┆ uedad     ┆ uedad     ┆ tiguedad  ┆ tiguedad  ┆ a_antigue │\n",
              "│ ---        ┆ ---        ┆ ---        ┆ ---       ┆ ---       ┆ ---       ┆ ---       ┆ dad       │\n",
              "│ f64        ┆ u32        ┆ i64        ┆ i64       ┆ i64       ┆ i64       ┆ i64       ┆ ---       │\n",
              "│            ┆            ┆            ┆           ┆           ┆           ┆           ┆ i64       │\n",
              "╞════════════╪════════════╪════════════╪═══════════╪═══════════╪═══════════╪═══════════╪═══════════╡\n",
              "│ 193701.342 ┆ 1359       ┆ 46559      ┆ 11        ┆ 225       ┆ 42        ┆ 86        ┆ 44        │\n",
              "│ 899        ┆            ┆            ┆           ┆           ┆           ┆           ┆           │\n",
              "└────────────┴────────────┴────────────┴───────────┴───────────┴───────────┴───────────┴───────────┘"
            ],
            "text/html": [
              "<div><style>\n",
              ".dataframe > thead > tr,\n",
              ".dataframe > tbody > tr {\n",
              "  text-align: right;\n",
              "  white-space: pre-wrap;\n",
              "}\n",
              "</style>\n",
              "<small>shape: (1, 8)</small><table border=\"1\" class=\"dataframe\"><thead><tr><th>precio_mean</th><th>conteo_dormitorios</th><th>suma_antiguedad</th><th>min_antiguedad</th><th>max_antiguedad</th><th>primer_antiguedad</th><th>ultimo_antiguedad</th><th>diferencia_antiguedad</th></tr><tr><td>f64</td><td>u32</td><td>i64</td><td>i64</td><td>i64</td><td>i64</td><td>i64</td><td>i64</td></tr></thead><tbody><tr><td>193701.342899</td><td>1359</td><td>46559</td><td>11</td><td>225</td><td>42</td><td>86</td><td>44</td></tr></tbody></table></div>"
            ]
          },
          "metadata": {},
          "execution_count": 92
        }
      ],
      "source": [
        "df.filter(pl.col('precio') > 10000).filter((pl.col('antiguedad')>10) & (pl.col('precio')>50000)).select(  ## filtro precio mayor a 50000, antiguedad mayor a 10\n",
        "    [  ## agrego columnas con medias, conteo, suma, minimo, maximo, primer valor ultimo valor segun el filtro\n",
        "        pl.col('precio').mean().alias('precio_mean'),\n",
        "        pl.col('dormitorios').count().alias('conteo_dormitorios'),\n",
        "        pl.col('antiguedad').sum().alias('suma_antiguedad'),\n",
        "        pl.col('antiguedad').min().alias('min_antiguedad'),\n",
        "        pl.col('antiguedad').max().alias('max_antiguedad'),\n",
        "        pl.col('antiguedad').first().alias('primer_antiguedad'),\n",
        "        pl.col('antiguedad').last().alias('ultimo_antiguedad'),\n",
        "        (pl.col('antiguedad').last() - pl.col('antiguedad').first()).alias('diferencia_antiguedad')\n",
        "    ]\n",
        ").collect()\n"
      ]
    },
    {
      "cell_type": "markdown",
      "metadata": {
        "id": "fr2w2Qwo9YrB"
      },
      "source": [
        "## ***with_context***\n",
        "`= en Pandas no existe esta funcion`\n",
        "\n",
        "`Esta función agrega un contexto externo al gráfico de cálculo. Esto permite que las expresiones también accedan a columnas de DataFrames que no forman parte de este.`"
      ]
    },
    {
      "cell_type": "code",
      "execution_count": 93,
      "metadata": {
        "id": "VV3zJUgfYJ9d"
      },
      "outputs": [],
      "source": [
        "tarjetas_lz = pl.LazyFrame({'tarjeta': ['bronce', 'plata', 'oro']})\n",
        "\n",
        "descuentos_lz = pl.LazyFrame({'descuento': [10, 20, 30]})\n"
      ]
    },
    {
      "cell_type": "code",
      "execution_count": 94,
      "metadata": {
        "colab": {
          "base_uri": "https://localhost:8080/",
          "height": 192
        },
        "id": "xbPDnmPX_uDe",
        "outputId": "51396c5d-efeb-4058-cfae-c49ee9655d48"
      },
      "outputs": [
        {
          "output_type": "execute_result",
          "data": {
            "text/plain": [
              "shape: (3, 1)\n",
              "┌─────────┐\n",
              "│ tarjeta │\n",
              "│ ---     │\n",
              "│ str     │\n",
              "╞═════════╡\n",
              "│ bronce  │\n",
              "│ plata   │\n",
              "│ oro     │\n",
              "└─────────┘"
            ],
            "text/html": [
              "<div><style>\n",
              ".dataframe > thead > tr,\n",
              ".dataframe > tbody > tr {\n",
              "  text-align: right;\n",
              "  white-space: pre-wrap;\n",
              "}\n",
              "</style>\n",
              "<small>shape: (3, 1)</small><table border=\"1\" class=\"dataframe\"><thead><tr><th>tarjeta</th></tr><tr><td>str</td></tr></thead><tbody><tr><td>&quot;bronce&quot;</td></tr><tr><td>&quot;plata&quot;</td></tr><tr><td>&quot;oro&quot;</td></tr></tbody></table></div>"
            ]
          },
          "metadata": {},
          "execution_count": 94
        }
      ],
      "source": [
        "tarjetas_lz.collect()"
      ]
    },
    {
      "cell_type": "code",
      "execution_count": 95,
      "metadata": {
        "colab": {
          "base_uri": "https://localhost:8080/",
          "height": 192
        },
        "id": "fipSqMfO_yb_",
        "outputId": "56f0a43e-c33e-4fc5-a05b-fda6bf4fb625"
      },
      "outputs": [
        {
          "output_type": "execute_result",
          "data": {
            "text/plain": [
              "shape: (3, 1)\n",
              "┌───────────┐\n",
              "│ descuento │\n",
              "│ ---       │\n",
              "│ i64       │\n",
              "╞═══════════╡\n",
              "│ 10        │\n",
              "│ 20        │\n",
              "│ 30        │\n",
              "└───────────┘"
            ],
            "text/html": [
              "<div><style>\n",
              ".dataframe > thead > tr,\n",
              ".dataframe > tbody > tr {\n",
              "  text-align: right;\n",
              "  white-space: pre-wrap;\n",
              "}\n",
              "</style>\n",
              "<small>shape: (3, 1)</small><table border=\"1\" class=\"dataframe\"><thead><tr><th>descuento</th></tr><tr><td>i64</td></tr></thead><tbody><tr><td>10</td></tr><tr><td>20</td></tr><tr><td>30</td></tr></tbody></table></div>"
            ]
          },
          "metadata": {},
          "execution_count": 95
        }
      ],
      "source": [
        "descuentos_lz.collect()"
      ]
    },
    {
      "cell_type": "code",
      "execution_count": 96,
      "metadata": {
        "colab": {
          "base_uri": "https://localhost:8080/",
          "height": 227
        },
        "id": "TIpZuvgn_jLU",
        "outputId": "04a3ecaa-541e-4848-9748-c51009f1a2c4"
      },
      "outputs": [
        {
          "output_type": "stream",
          "name": "stderr",
          "text": [
            "<ipython-input-96-be67cc1cbec5>:2: DeprecationWarning: `LazyFrame.with_context` is deprecated. Use `pl.concat(..., how='horizontal')` instead.\n",
            "  tarjetas_lz.with_context(descuentos_lz).select(\n"
          ]
        },
        {
          "output_type": "execute_result",
          "data": {
            "text/plain": [
              "shape: (3, 2)\n",
              "┌─────────┬───────────┐\n",
              "│ tarjeta ┆ descuento │\n",
              "│ ---     ┆ ---       │\n",
              "│ str     ┆ i64       │\n",
              "╞═════════╪═══════════╡\n",
              "│ bronce  ┆ 10        │\n",
              "│ plata   ┆ 20        │\n",
              "│ oro     ┆ 30        │\n",
              "└─────────┴───────────┘"
            ],
            "text/html": [
              "<div><style>\n",
              ".dataframe > thead > tr,\n",
              ".dataframe > tbody > tr {\n",
              "  text-align: right;\n",
              "  white-space: pre-wrap;\n",
              "}\n",
              "</style>\n",
              "<small>shape: (3, 2)</small><table border=\"1\" class=\"dataframe\"><thead><tr><th>tarjeta</th><th>descuento</th></tr><tr><td>str</td><td>i64</td></tr></thead><tbody><tr><td>&quot;bronce&quot;</td><td>10</td></tr><tr><td>&quot;plata&quot;</td><td>20</td></tr><tr><td>&quot;oro&quot;</td><td>30</td></tr></tbody></table></div>"
            ]
          },
          "metadata": {},
          "execution_count": 96
        }
      ],
      "source": [
        "## es un metodo de concat de with context\n",
        "tarjetas_lz.with_context(descuentos_lz).select(\n",
        "    pl.col('tarjeta'), # Use pl.col\n",
        "    pl.col('descuento') # Use pl.col\n",
        ").collect()"
      ]
    },
    {
      "cell_type": "code",
      "execution_count": 97,
      "metadata": {
        "colab": {
          "base_uri": "https://localhost:8080/",
          "height": 103
        },
        "id": "Vb9fUQMYlQ2C",
        "outputId": "c47ab2f4-ed46-4ee7-fdf7-d27860605e6c"
      },
      "outputs": [
        {
          "output_type": "display_data",
          "data": {
            "text/plain": [
              "<IPython.core.display.SVG object>"
            ],
            "image/svg+xml": "<svg xmlns=\"http://www.w3.org/2000/svg\" xmlns:xlink=\"http://www.w3.org/1999/xlink\" width=\"67pt\" height=\"61pt\" viewBox=\"0.00 0.00 67.00 61.00\">\n<g id=\"graph0\" class=\"graph\" transform=\"scale(1 1) rotate(0) translate(4 57)\">\n<title>polars_query</title>\n<polygon fill=\"white\" stroke=\"transparent\" points=\"-4,4 -4,-57 63,-57 63,4 -4,4\"/>\n<!-- p1 -->\n<g id=\"node1\" class=\"node\">\n<title>p1</title>\n<polygon fill=\"none\" stroke=\"black\" points=\"59,-53 0,-53 0,0 59,0 59,-53\"/>\n<text text-anchor=\"middle\" x=\"29.5\" y=\"-37.8\" font-family=\"Times,serif\" font-size=\"14.00\">TABLE</text>\n<text text-anchor=\"middle\" x=\"29.5\" y=\"-22.8\" font-family=\"Times,serif\" font-size=\"14.00\">π */1;</text>\n<text text-anchor=\"middle\" x=\"29.5\" y=\"-7.8\" font-family=\"Times,serif\" font-size=\"14.00\">σ None</text>\n</g>\n</g>\n</svg>"
          },
          "metadata": {}
        }
      ],
      "source": [
        "tarjetas_lz.show_graph()"
      ]
    },
    {
      "cell_type": "markdown",
      "metadata": {
        "id": "G-hVIyVi9yYc"
      },
      "source": [
        "# **slice**\n",
        "\n",
        "`= en Pandas funciona como df[1,10]`\n",
        "\n",
        "\n",
        "`Con esta función podemos obtener una porción o lo que en inglés se conoce como un slice de un DataFrame.`"
      ]
    },
    {
      "cell_type": "code",
      "execution_count": 98,
      "metadata": {
        "colab": {
          "base_uri": "https://localhost:8080/",
          "height": 483
        },
        "id": "gB8sUQJI99qM",
        "outputId": "ea13b0ab-b9fc-47e6-ce78-32014eadf900"
      },
      "outputs": [
        {
          "output_type": "execute_result",
          "data": {
            "text/plain": [
              "shape: (10, 16)\n",
              "┌─────┬────────┬─────────────┬────────────┬───┬─────────────┬────────────┬────────────┬────────────┐\n",
              "│     ┆ precio ┆ metros_tota ┆ antiguedad ┆ … ┆ desague     ┆ vistas_lag ┆ nueva_cons ┆ aire_acond │\n",
              "│ --- ┆ ---    ┆ les         ┆ ---        ┆   ┆ ---         ┆ o          ┆ truccion   ┆ icionado   │\n",
              "│ i64 ┆ i64    ┆ ---         ┆ i64        ┆   ┆ str         ┆ ---        ┆ ---        ┆ ---        │\n",
              "│     ┆        ┆ f64         ┆            ┆   ┆             ┆ str        ┆ str        ┆ str        │\n",
              "╞═════╪════════╪═════════════╪════════════╪═══╪═════════════╪════════════╪════════════╪════════════╡\n",
              "│ 1   ┆ 181115 ┆ 0.92        ┆ 0          ┆ … ┆ septic      ┆ No         ┆ No         ┆ No         │\n",
              "│ 2   ┆ 109000 ┆ 0.19        ┆ 133        ┆ … ┆ public/comm ┆ No         ┆ No         ┆ No         │\n",
              "│     ┆        ┆             ┆            ┆   ┆ ercial      ┆            ┆            ┆            │\n",
              "│ 3   ┆ 155000 ┆ 0.41        ┆ 13         ┆ … ┆ septic      ┆ No         ┆ No         ┆ No         │\n",
              "│ 4   ┆ 86060  ┆ 0.11        ┆ 0          ┆ … ┆ public/comm ┆ No         ┆ Yes        ┆ Yes        │\n",
              "│     ┆        ┆             ┆            ┆   ┆ ercial      ┆            ┆            ┆            │\n",
              "│ 5   ┆ 120000 ┆ 0.68        ┆ 31         ┆ … ┆ septic      ┆ No         ┆ No         ┆ No         │\n",
              "│ 6   ┆ 153000 ┆ 0.4         ┆ 33         ┆ … ┆ septic      ┆ No         ┆ No         ┆ No         │\n",
              "│ 7   ┆ 170000 ┆ 1.21        ┆ 23         ┆ … ┆ septic      ┆ No         ┆ No         ┆ No         │\n",
              "│ 8   ┆ 90000  ┆ 0.83        ┆ 36         ┆ … ┆ septic      ┆ No         ┆ No         ┆ No         │\n",
              "│ 9   ┆ 122900 ┆ 1.94        ┆ 4          ┆ … ┆ none        ┆ No         ┆ No         ┆ No         │\n",
              "│ 10  ┆ 325000 ┆ 2.29        ┆ 123        ┆ … ┆ septic      ┆ No         ┆ No         ┆ No         │\n",
              "└─────┴────────┴─────────────┴────────────┴───┴─────────────┴────────────┴────────────┴────────────┘"
            ],
            "text/html": [
              "<div><style>\n",
              ".dataframe > thead > tr,\n",
              ".dataframe > tbody > tr {\n",
              "  text-align: right;\n",
              "  white-space: pre-wrap;\n",
              "}\n",
              "</style>\n",
              "<small>shape: (10, 16)</small><table border=\"1\" class=\"dataframe\"><thead><tr><th></th><th>precio</th><th>metros_totales</th><th>antiguedad</th><th>precio_terreno</th><th>metros_habitables</th><th>universitarios</th><th>dormitorios</th><th>baños</th><th>habitaciones</th><th>calefaccion</th><th>consumo_calefacion</th><th>desague</th><th>vistas_lago</th><th>nueva_construccion</th><th>aire_acondicionado</th></tr><tr><td>i64</td><td>i64</td><td>f64</td><td>i64</td><td>i64</td><td>i64</td><td>i64</td><td>i64</td><td>f64</td><td>i64</td><td>str</td><td>str</td><td>str</td><td>str</td><td>str</td><td>str</td></tr></thead><tbody><tr><td>1</td><td>181115</td><td>0.92</td><td>0</td><td>22300</td><td>1953</td><td>51</td><td>3</td><td>2.5</td><td>6</td><td>&quot;hot water/steam&quot;</td><td>&quot;gas&quot;</td><td>&quot;septic&quot;</td><td>&quot;No&quot;</td><td>&quot;No&quot;</td><td>&quot;No&quot;</td></tr><tr><td>2</td><td>109000</td><td>0.19</td><td>133</td><td>7300</td><td>1944</td><td>51</td><td>4</td><td>1.0</td><td>8</td><td>&quot;hot water/steam&quot;</td><td>&quot;gas&quot;</td><td>&quot;public/commercial&quot;</td><td>&quot;No&quot;</td><td>&quot;No&quot;</td><td>&quot;No&quot;</td></tr><tr><td>3</td><td>155000</td><td>0.41</td><td>13</td><td>18700</td><td>1944</td><td>51</td><td>3</td><td>1.5</td><td>5</td><td>&quot;hot air&quot;</td><td>&quot;gas&quot;</td><td>&quot;septic&quot;</td><td>&quot;No&quot;</td><td>&quot;No&quot;</td><td>&quot;No&quot;</td></tr><tr><td>4</td><td>86060</td><td>0.11</td><td>0</td><td>15000</td><td>840</td><td>51</td><td>2</td><td>1.0</td><td>3</td><td>&quot;hot air&quot;</td><td>&quot;gas&quot;</td><td>&quot;public/commercial&quot;</td><td>&quot;No&quot;</td><td>&quot;Yes&quot;</td><td>&quot;Yes&quot;</td></tr><tr><td>5</td><td>120000</td><td>0.68</td><td>31</td><td>14000</td><td>1152</td><td>22</td><td>4</td><td>1.0</td><td>8</td><td>&quot;hot air&quot;</td><td>&quot;gas&quot;</td><td>&quot;septic&quot;</td><td>&quot;No&quot;</td><td>&quot;No&quot;</td><td>&quot;No&quot;</td></tr><tr><td>6</td><td>153000</td><td>0.4</td><td>33</td><td>23300</td><td>2752</td><td>51</td><td>4</td><td>1.5</td><td>8</td><td>&quot;hot water/steam&quot;</td><td>&quot;oil&quot;</td><td>&quot;septic&quot;</td><td>&quot;No&quot;</td><td>&quot;No&quot;</td><td>&quot;No&quot;</td></tr><tr><td>7</td><td>170000</td><td>1.21</td><td>23</td><td>14600</td><td>1662</td><td>35</td><td>4</td><td>1.5</td><td>9</td><td>&quot;hot air&quot;</td><td>&quot;oil&quot;</td><td>&quot;septic&quot;</td><td>&quot;No&quot;</td><td>&quot;No&quot;</td><td>&quot;No&quot;</td></tr><tr><td>8</td><td>90000</td><td>0.83</td><td>36</td><td>22200</td><td>1632</td><td>51</td><td>3</td><td>1.5</td><td>8</td><td>&quot;electric&quot;</td><td>&quot;electric&quot;</td><td>&quot;septic&quot;</td><td>&quot;No&quot;</td><td>&quot;No&quot;</td><td>&quot;No&quot;</td></tr><tr><td>9</td><td>122900</td><td>1.94</td><td>4</td><td>21200</td><td>1416</td><td>44</td><td>3</td><td>1.5</td><td>6</td><td>&quot;hot air&quot;</td><td>&quot;gas&quot;</td><td>&quot;none&quot;</td><td>&quot;No&quot;</td><td>&quot;No&quot;</td><td>&quot;No&quot;</td></tr><tr><td>10</td><td>325000</td><td>2.29</td><td>123</td><td>12600</td><td>2894</td><td>51</td><td>7</td><td>1.0</td><td>12</td><td>&quot;hot air&quot;</td><td>&quot;oil&quot;</td><td>&quot;septic&quot;</td><td>&quot;No&quot;</td><td>&quot;No&quot;</td><td>&quot;No&quot;</td></tr></tbody></table></div>"
            ]
          },
          "metadata": {},
          "execution_count": 98
        }
      ],
      "source": [
        "df.slice(1,10).collect()  ## porcion del dataframe ( desde , hasta fila inclusive)"
      ]
    },
    {
      "cell_type": "markdown",
      "metadata": {
        "id": "kGetzqvU-OKb"
      },
      "source": [
        "# **sort**\n",
        "\n",
        "`= en Pandas es la misma funcion`\n",
        "\n",
        "`Esta función ordena el LazyFrame por la(s) columna(s) proporcionadas`"
      ]
    },
    {
      "cell_type": "code",
      "execution_count": 99,
      "metadata": {
        "colab": {
          "base_uri": "https://localhost:8080/",
          "height": 497
        },
        "id": "zrzd3dOx-TgX",
        "outputId": "3c8ac8f8-cb9f-42af-9f1d-e65310e20e6e"
      },
      "outputs": [
        {
          "output_type": "execute_result",
          "data": {
            "text/plain": [
              "shape: (1_728, 16)\n",
              "┌──────┬────────┬─────────────┬────────────┬───┬────────────┬────────────┬────────────┬────────────┐\n",
              "│      ┆ precio ┆ metros_tota ┆ antiguedad ┆ … ┆ desague    ┆ vistas_lag ┆ nueva_cons ┆ aire_acond │\n",
              "│ ---  ┆ ---    ┆ les         ┆ ---        ┆   ┆ ---        ┆ o          ┆ truccion   ┆ icionado   │\n",
              "│ i64  ┆ i64    ┆ ---         ┆ i64        ┆   ┆ str        ┆ ---        ┆ ---        ┆ ---        │\n",
              "│      ┆        ┆ f64         ┆            ┆   ┆            ┆ str        ┆ str        ┆ str        │\n",
              "╞══════╪════════╪═════════════╪════════════╪═══╪════════════╪════════════╪════════════╪════════════╡\n",
              "│ 62   ┆ 82800  ┆ 0.11        ┆ 225        ┆ … ┆ public/com ┆ No         ┆ No         ┆ No         │\n",
              "│      ┆        ┆             ┆            ┆   ┆ mercial    ┆            ┆            ┆            │\n",
              "│ 33   ┆ 227000 ┆ 1.8         ┆ 201        ┆ … ┆ septic     ┆ No         ┆ No         ┆ No         │\n",
              "│ 140  ┆ 135000 ┆ 3.0         ┆ 178        ┆ … ┆ septic     ┆ No         ┆ No         ┆ No         │\n",
              "│ 1685 ┆ 422680 ┆ 0.16        ┆ 176        ┆ … ┆ public/com ┆ No         ┆ No         ┆ No         │\n",
              "│      ┆        ┆             ┆            ┆   ┆ mercial    ┆            ┆            ┆            │\n",
              "│ 980  ┆ 154000 ┆ 0.1         ┆ 174        ┆ … ┆ septic     ┆ No         ┆ No         ┆ No         │\n",
              "│ …    ┆ …      ┆ …           ┆ …          ┆ … ┆ …          ┆ …          ┆ …          ┆ …          │\n",
              "│ 1468 ┆ 295925 ┆ 0.56        ┆ 0          ┆ … ┆ public/com ┆ No         ┆ Yes        ┆ No         │\n",
              "│      ┆        ┆             ┆            ┆   ┆ mercial    ┆            ┆            ┆            │\n",
              "│ 1484 ┆ 355063 ┆ 0.36        ┆ 0          ┆ … ┆ septic     ┆ No         ┆ Yes        ┆ Yes        │\n",
              "│ 1588 ┆ 365000 ┆ 0.56        ┆ 0          ┆ … ┆ public/com ┆ No         ┆ No         ┆ No         │\n",
              "│      ┆        ┆             ┆            ┆   ┆ mercial    ┆            ┆            ┆            │\n",
              "│ 1631 ┆ 316250 ┆ 0.04        ┆ 0          ┆ … ┆ public/com ┆ No         ┆ Yes        ┆ No         │\n",
              "│      ┆        ┆             ┆            ┆   ┆ mercial    ┆            ┆            ┆            │\n",
              "│ 1719 ┆ 275900 ┆ 0.81        ┆ 0          ┆ … ┆ public/com ┆ No         ┆ Yes        ┆ No         │\n",
              "│      ┆        ┆             ┆            ┆   ┆ mercial    ┆            ┆            ┆            │\n",
              "└──────┴────────┴─────────────┴────────────┴───┴────────────┴────────────┴────────────┴────────────┘"
            ],
            "text/html": [
              "<div><style>\n",
              ".dataframe > thead > tr,\n",
              ".dataframe > tbody > tr {\n",
              "  text-align: right;\n",
              "  white-space: pre-wrap;\n",
              "}\n",
              "</style>\n",
              "<small>shape: (1_728, 16)</small><table border=\"1\" class=\"dataframe\"><thead><tr><th></th><th>precio</th><th>metros_totales</th><th>antiguedad</th><th>precio_terreno</th><th>metros_habitables</th><th>universitarios</th><th>dormitorios</th><th>baños</th><th>habitaciones</th><th>calefaccion</th><th>consumo_calefacion</th><th>desague</th><th>vistas_lago</th><th>nueva_construccion</th><th>aire_acondicionado</th></tr><tr><td>i64</td><td>i64</td><td>f64</td><td>i64</td><td>i64</td><td>i64</td><td>i64</td><td>i64</td><td>f64</td><td>i64</td><td>str</td><td>str</td><td>str</td><td>str</td><td>str</td><td>str</td></tr></thead><tbody><tr><td>62</td><td>82800</td><td>0.11</td><td>225</td><td>3900</td><td>1483</td><td>52</td><td>3</td><td>1.0</td><td>7</td><td>&quot;hot air&quot;</td><td>&quot;gas&quot;</td><td>&quot;public/commercial&quot;</td><td>&quot;No&quot;</td><td>&quot;No&quot;</td><td>&quot;No&quot;</td></tr><tr><td>33</td><td>227000</td><td>1.8</td><td>201</td><td>25500</td><td>1876</td><td>52</td><td>3</td><td>2.5</td><td>5</td><td>&quot;hot air&quot;</td><td>&quot;oil&quot;</td><td>&quot;septic&quot;</td><td>&quot;No&quot;</td><td>&quot;No&quot;</td><td>&quot;No&quot;</td></tr><tr><td>140</td><td>135000</td><td>3.0</td><td>178</td><td>44500</td><td>3020</td><td>41</td><td>4</td><td>2.5</td><td>12</td><td>&quot;hot water/steam&quot;</td><td>&quot;oil&quot;</td><td>&quot;septic&quot;</td><td>&quot;No&quot;</td><td>&quot;No&quot;</td><td>&quot;No&quot;</td></tr><tr><td>1685</td><td>422680</td><td>0.16</td><td>176</td><td>46200</td><td>4486</td><td>51</td><td>6</td><td>4.0</td><td>12</td><td>&quot;hot water/steam&quot;</td><td>&quot;gas&quot;</td><td>&quot;public/commercial&quot;</td><td>&quot;No&quot;</td><td>&quot;No&quot;</td><td>&quot;No&quot;</td></tr><tr><td>980</td><td>154000</td><td>0.1</td><td>174</td><td>32800</td><td>1364</td><td>63</td><td>5</td><td>1.0</td><td>9</td><td>&quot;hot air&quot;</td><td>&quot;oil&quot;</td><td>&quot;septic&quot;</td><td>&quot;No&quot;</td><td>&quot;No&quot;</td><td>&quot;No&quot;</td></tr><tr><td>&hellip;</td><td>&hellip;</td><td>&hellip;</td><td>&hellip;</td><td>&hellip;</td><td>&hellip;</td><td>&hellip;</td><td>&hellip;</td><td>&hellip;</td><td>&hellip;</td><td>&hellip;</td><td>&hellip;</td><td>&hellip;</td><td>&hellip;</td><td>&hellip;</td><td>&hellip;</td></tr><tr><td>1468</td><td>295925</td><td>0.56</td><td>0</td><td>108900</td><td>2134</td><td>40</td><td>4</td><td>2.5</td><td>9</td><td>&quot;hot air&quot;</td><td>&quot;gas&quot;</td><td>&quot;public/commercial&quot;</td><td>&quot;No&quot;</td><td>&quot;Yes&quot;</td><td>&quot;No&quot;</td></tr><tr><td>1484</td><td>355063</td><td>0.36</td><td>0</td><td>13000</td><td>2256</td><td>64</td><td>4</td><td>2.5</td><td>8</td><td>&quot;hot air&quot;</td><td>&quot;gas&quot;</td><td>&quot;septic&quot;</td><td>&quot;No&quot;</td><td>&quot;Yes&quot;</td><td>&quot;Yes&quot;</td></tr><tr><td>1588</td><td>365000</td><td>0.56</td><td>0</td><td>37900</td><td>2950</td><td>64</td><td>4</td><td>2.5</td><td>12</td><td>&quot;hot air&quot;</td><td>&quot;gas&quot;</td><td>&quot;public/commercial&quot;</td><td>&quot;No&quot;</td><td>&quot;No&quot;</td><td>&quot;No&quot;</td></tr><tr><td>1631</td><td>316250</td><td>0.04</td><td>0</td><td>74800</td><td>2648</td><td>62</td><td>4</td><td>2.5</td><td>11</td><td>&quot;hot air&quot;</td><td>&quot;gas&quot;</td><td>&quot;public/commercial&quot;</td><td>&quot;No&quot;</td><td>&quot;Yes&quot;</td><td>&quot;No&quot;</td></tr><tr><td>1719</td><td>275900</td><td>0.81</td><td>0</td><td>7300</td><td>2288</td><td>61</td><td>3</td><td>2.5</td><td>8</td><td>&quot;hot air&quot;</td><td>&quot;gas&quot;</td><td>&quot;public/commercial&quot;</td><td>&quot;No&quot;</td><td>&quot;Yes&quot;</td><td>&quot;No&quot;</td></tr></tbody></table></div>"
            ]
          },
          "metadata": {},
          "execution_count": 99
        }
      ],
      "source": [
        "df.sort('antiguedad', descending=True, nulls_last=True).collect()  ## ordenar en forma descencente con los nulos al final"
      ]
    },
    {
      "cell_type": "markdown",
      "metadata": {
        "id": "MyC8_W0--fNy"
      },
      "source": [
        "# **gather_every**\n",
        "\n",
        "`= en Pandas  no fue encontrada`\n",
        "\n",
        "`Toma cada enésima fila del LazyFrame y regresa un nuevo LazyFrame. El primer parámetro estable cada cuantas filas queremos tomar la siguiente fila y el parámetro offset establece desde que posición queremos iniciar a tomar las filas.`"
      ]
    },
    {
      "cell_type": "code",
      "execution_count": 100,
      "metadata": {
        "colab": {
          "base_uri": "https://localhost:8080/",
          "height": 480
        },
        "id": "V14fCCmw-kul",
        "outputId": "d3ff4361-9eb2-4f3f-b731-f69dad664b1c"
      },
      "outputs": [
        {
          "output_type": "execute_result",
          "data": {
            "text/plain": [
              "shape: (326, 16)\n",
              "┌──────┬────────┬─────────────┬────────────┬───┬────────────┬────────────┬────────────┬────────────┐\n",
              "│      ┆ precio ┆ metros_tota ┆ antiguedad ┆ … ┆ desague    ┆ vistas_lag ┆ nueva_cons ┆ aire_acond │\n",
              "│ ---  ┆ ---    ┆ les         ┆ ---        ┆   ┆ ---        ┆ o          ┆ truccion   ┆ icionado   │\n",
              "│ i64  ┆ i64    ┆ ---         ┆ i64        ┆   ┆ str        ┆ ---        ┆ ---        ┆ ---        │\n",
              "│      ┆        ┆ f64         ┆            ┆   ┆            ┆ str        ┆ str        ┆ str        │\n",
              "╞══════╪════════╪═════════════╪════════════╪═══╪════════════╪════════════╪════════════╪════════════╡\n",
              "│ 100  ┆ 110000 ┆ 0.59        ┆ 10         ┆ … ┆ septic     ┆ No         ┆ No         ┆ Yes        │\n",
              "│ 105  ┆ 225000 ┆ 2.37        ┆ 8          ┆ … ┆ septic     ┆ No         ┆ No         ┆ No         │\n",
              "│ 110  ┆ 112500 ┆ 0.72        ┆ 43         ┆ … ┆ septic     ┆ No         ┆ No         ┆ No         │\n",
              "│ 115  ┆ 192000 ┆ 0.82        ┆ 0          ┆ … ┆ septic     ┆ No         ┆ Yes        ┆ Yes        │\n",
              "│ 120  ┆ 75000  ┆ 1.0         ┆ 45         ┆ … ┆ septic     ┆ No         ┆ No         ┆ No         │\n",
              "│ …    ┆ …      ┆ …           ┆ …          ┆ … ┆ …          ┆ …          ┆ …          ┆ …          │\n",
              "│ 1705 ┆ 221450 ┆ 0.36        ┆ 121        ┆ … ┆ septic     ┆ No         ┆ No         ┆ No         │\n",
              "│ 1710 ┆ 388000 ┆ 0.77        ┆ 9          ┆ … ┆ public/com ┆ No         ┆ No         ┆ No         │\n",
              "│      ┆        ┆             ┆            ┆   ┆ mercial    ┆            ┆            ┆            │\n",
              "│ 1715 ┆ 70000  ┆ 1.34        ┆ 34         ┆ … ┆ septic     ┆ No         ┆ No         ┆ No         │\n",
              "│ 1720 ┆ 436023 ┆ 0.41        ┆ 5          ┆ … ┆ public/com ┆ No         ┆ No         ┆ Yes        │\n",
              "│      ┆        ┆             ┆            ┆   ┆ mercial    ┆            ┆            ┆            │\n",
              "│ 1725 ┆ 194900 ┆ 0.39        ┆ 9          ┆ … ┆ public/com ┆ No         ┆ No         ┆ No         │\n",
              "│      ┆        ┆             ┆            ┆   ┆ mercial    ┆            ┆            ┆            │\n",
              "└──────┴────────┴─────────────┴────────────┴───┴────────────┴────────────┴────────────┴────────────┘"
            ],
            "text/html": [
              "<div><style>\n",
              ".dataframe > thead > tr,\n",
              ".dataframe > tbody > tr {\n",
              "  text-align: right;\n",
              "  white-space: pre-wrap;\n",
              "}\n",
              "</style>\n",
              "<small>shape: (326, 16)</small><table border=\"1\" class=\"dataframe\"><thead><tr><th></th><th>precio</th><th>metros_totales</th><th>antiguedad</th><th>precio_terreno</th><th>metros_habitables</th><th>universitarios</th><th>dormitorios</th><th>baños</th><th>habitaciones</th><th>calefaccion</th><th>consumo_calefacion</th><th>desague</th><th>vistas_lago</th><th>nueva_construccion</th><th>aire_acondicionado</th></tr><tr><td>i64</td><td>i64</td><td>f64</td><td>i64</td><td>i64</td><td>i64</td><td>i64</td><td>i64</td><td>f64</td><td>i64</td><td>str</td><td>str</td><td>str</td><td>str</td><td>str</td><td>str</td></tr></thead><tbody><tr><td>100</td><td>110000</td><td>0.59</td><td>10</td><td>3100</td><td>936</td><td>44</td><td>3</td><td>1.0</td><td>6</td><td>&quot;hot air&quot;</td><td>&quot;gas&quot;</td><td>&quot;septic&quot;</td><td>&quot;No&quot;</td><td>&quot;No&quot;</td><td>&quot;Yes&quot;</td></tr><tr><td>105</td><td>225000</td><td>2.37</td><td>8</td><td>3300</td><td>1784</td><td>44</td><td>3</td><td>2.0</td><td>6</td><td>&quot;hot water/steam&quot;</td><td>&quot;oil&quot;</td><td>&quot;septic&quot;</td><td>&quot;No&quot;</td><td>&quot;No&quot;</td><td>&quot;No&quot;</td></tr><tr><td>110</td><td>112500</td><td>0.72</td><td>43</td><td>4600</td><td>1232</td><td>44</td><td>3</td><td>1.0</td><td>5</td><td>&quot;electric&quot;</td><td>&quot;electric&quot;</td><td>&quot;septic&quot;</td><td>&quot;No&quot;</td><td>&quot;No&quot;</td><td>&quot;No&quot;</td></tr><tr><td>115</td><td>192000</td><td>0.82</td><td>0</td><td>5000</td><td>1880</td><td>44</td><td>3</td><td>2.5</td><td>9</td><td>&quot;hot air&quot;</td><td>&quot;gas&quot;</td><td>&quot;septic&quot;</td><td>&quot;No&quot;</td><td>&quot;Yes&quot;</td><td>&quot;Yes&quot;</td></tr><tr><td>120</td><td>75000</td><td>1.0</td><td>45</td><td>8000</td><td>1008</td><td>44</td><td>3</td><td>1.0</td><td>7</td><td>&quot;hot air&quot;</td><td>&quot;gas&quot;</td><td>&quot;septic&quot;</td><td>&quot;No&quot;</td><td>&quot;No&quot;</td><td>&quot;No&quot;</td></tr><tr><td>&hellip;</td><td>&hellip;</td><td>&hellip;</td><td>&hellip;</td><td>&hellip;</td><td>&hellip;</td><td>&hellip;</td><td>&hellip;</td><td>&hellip;</td><td>&hellip;</td><td>&hellip;</td><td>&hellip;</td><td>&hellip;</td><td>&hellip;</td><td>&hellip;</td><td>&hellip;</td></tr><tr><td>1705</td><td>221450</td><td>0.36</td><td>121</td><td>33000</td><td>2699</td><td>61</td><td>6</td><td>1.0</td><td>12</td><td>&quot;hot air&quot;</td><td>&quot;oil&quot;</td><td>&quot;septic&quot;</td><td>&quot;No&quot;</td><td>&quot;No&quot;</td><td>&quot;No&quot;</td></tr><tr><td>1710</td><td>388000</td><td>0.77</td><td>9</td><td>74400</td><td>2762</td><td>61</td><td>4</td><td>2.5</td><td>12</td><td>&quot;hot air&quot;</td><td>&quot;gas&quot;</td><td>&quot;public/commercial&quot;</td><td>&quot;No&quot;</td><td>&quot;No&quot;</td><td>&quot;No&quot;</td></tr><tr><td>1715</td><td>70000</td><td>1.34</td><td>34</td><td>36700</td><td>1313</td><td>61</td><td>2</td><td>1.5</td><td>3</td><td>&quot;electric&quot;</td><td>&quot;electric&quot;</td><td>&quot;septic&quot;</td><td>&quot;No&quot;</td><td>&quot;No&quot;</td><td>&quot;No&quot;</td></tr><tr><td>1720</td><td>436023</td><td>0.41</td><td>5</td><td>43400</td><td>2718</td><td>61</td><td>4</td><td>2.5</td><td>12</td><td>&quot;hot air&quot;</td><td>&quot;gas&quot;</td><td>&quot;public/commercial&quot;</td><td>&quot;No&quot;</td><td>&quot;No&quot;</td><td>&quot;Yes&quot;</td></tr><tr><td>1725</td><td>194900</td><td>0.39</td><td>9</td><td>20400</td><td>1099</td><td>51</td><td>2</td><td>1.0</td><td>3</td><td>&quot;hot air&quot;</td><td>&quot;gas&quot;</td><td>&quot;public/commercial&quot;</td><td>&quot;No&quot;</td><td>&quot;No&quot;</td><td>&quot;No&quot;</td></tr></tbody></table></div>"
            ]
          },
          "metadata": {},
          "execution_count": 100
        }
      ],
      "source": [
        "df.gather_every(5, 100).collect() ##  iniciamos desde la fila 100 agrupa cada 5 filas"
      ]
    },
    {
      "cell_type": "markdown",
      "metadata": {
        "id": "ukuCnjNt-wDD"
      },
      "source": [
        "# **shift**\n",
        "`= en Pandas se utiliza conm groupby.shift`\n",
        "\n",
        "`Esta función cambia los valores según el número dado de índices. En la práctica lo podemos ver como un desplazamiento de las filas del LazyFrame.`"
      ]
    },
    {
      "cell_type": "code",
      "execution_count": 101,
      "metadata": {
        "colab": {
          "base_uri": "https://localhost:8080/",
          "height": 549
        },
        "id": "kFLvckn6-0iz",
        "outputId": "1c7d213e-5886-4dea-90e3-588647ca43fa"
      },
      "outputs": [
        {
          "output_type": "execute_result",
          "data": {
            "text/plain": [
              "shape: (1_728, 16)\n",
              "┌──────┬────────┬─────────────┬────────────┬───┬────────────┬────────────┬────────────┬────────────┐\n",
              "│      ┆ precio ┆ metros_tota ┆ antiguedad ┆ … ┆ desague    ┆ vistas_lag ┆ nueva_cons ┆ aire_acond │\n",
              "│ ---  ┆ ---    ┆ les         ┆ ---        ┆   ┆ ---        ┆ o          ┆ truccion   ┆ icionado   │\n",
              "│ i64  ┆ i64    ┆ ---         ┆ i64        ┆   ┆ str        ┆ ---        ┆ ---        ┆ ---        │\n",
              "│      ┆        ┆ f64         ┆            ┆   ┆            ┆ str        ┆ str        ┆ str        │\n",
              "╞══════╪════════╪═════════════╪════════════╪═══╪════════════╪════════════╪════════════╪════════════╡\n",
              "│ null ┆ null   ┆ null        ┆ null       ┆ … ┆ null       ┆ null       ┆ null       ┆ null       │\n",
              "│ null ┆ null   ┆ null        ┆ null       ┆ … ┆ null       ┆ null       ┆ null       ┆ null       │\n",
              "│ null ┆ null   ┆ null        ┆ null       ┆ … ┆ null       ┆ null       ┆ null       ┆ null       │\n",
              "│ 0    ┆ 132500 ┆ 0.09        ┆ 42         ┆ … ┆ septic     ┆ No         ┆ No         ┆ No         │\n",
              "│ 1    ┆ 181115 ┆ 0.92        ┆ 0          ┆ … ┆ septic     ┆ No         ┆ No         ┆ No         │\n",
              "│ …    ┆ …      ┆ …           ┆ …          ┆ … ┆ …          ┆ …          ┆ …          ┆ …          │\n",
              "│ 1720 ┆ 436023 ┆ 0.41        ┆ 5          ┆ … ┆ public/com ┆ No         ┆ No         ┆ Yes        │\n",
              "│      ┆        ┆             ┆            ┆   ┆ mercial    ┆            ┆            ┆            │\n",
              "│ 1721 ┆ 319900 ┆ 0.58        ┆ 42         ┆ … ┆ public/com ┆ No         ┆ No         ┆ No         │\n",
              "│      ┆        ┆             ┆            ┆   ┆ mercial    ┆            ┆            ┆            │\n",
              "│ 1722 ┆ 249000 ┆ 0.43        ┆ 41         ┆ … ┆ public/com ┆ No         ┆ No         ┆ No         │\n",
              "│      ┆        ┆             ┆            ┆   ┆ mercial    ┆            ┆            ┆            │\n",
              "│ 1723 ┆ 289000 ┆ 0.38        ┆ 32         ┆ … ┆ public/com ┆ No         ┆ No         ┆ No         │\n",
              "│      ┆        ┆             ┆            ┆   ┆ mercial    ┆            ┆            ┆            │\n",
              "│ 1724 ┆ 285000 ┆ 0.94        ┆ 37         ┆ … ┆ public/com ┆ No         ┆ No         ┆ No         │\n",
              "│      ┆        ┆             ┆            ┆   ┆ mercial    ┆            ┆            ┆            │\n",
              "└──────┴────────┴─────────────┴────────────┴───┴────────────┴────────────┴────────────┴────────────┘"
            ],
            "text/html": [
              "<div><style>\n",
              ".dataframe > thead > tr,\n",
              ".dataframe > tbody > tr {\n",
              "  text-align: right;\n",
              "  white-space: pre-wrap;\n",
              "}\n",
              "</style>\n",
              "<small>shape: (1_728, 16)</small><table border=\"1\" class=\"dataframe\"><thead><tr><th></th><th>precio</th><th>metros_totales</th><th>antiguedad</th><th>precio_terreno</th><th>metros_habitables</th><th>universitarios</th><th>dormitorios</th><th>baños</th><th>habitaciones</th><th>calefaccion</th><th>consumo_calefacion</th><th>desague</th><th>vistas_lago</th><th>nueva_construccion</th><th>aire_acondicionado</th></tr><tr><td>i64</td><td>i64</td><td>f64</td><td>i64</td><td>i64</td><td>i64</td><td>i64</td><td>i64</td><td>f64</td><td>i64</td><td>str</td><td>str</td><td>str</td><td>str</td><td>str</td><td>str</td></tr></thead><tbody><tr><td>null</td><td>null</td><td>null</td><td>null</td><td>null</td><td>null</td><td>null</td><td>null</td><td>null</td><td>null</td><td>null</td><td>null</td><td>null</td><td>null</td><td>null</td><td>null</td></tr><tr><td>null</td><td>null</td><td>null</td><td>null</td><td>null</td><td>null</td><td>null</td><td>null</td><td>null</td><td>null</td><td>null</td><td>null</td><td>null</td><td>null</td><td>null</td><td>null</td></tr><tr><td>null</td><td>null</td><td>null</td><td>null</td><td>null</td><td>null</td><td>null</td><td>null</td><td>null</td><td>null</td><td>null</td><td>null</td><td>null</td><td>null</td><td>null</td><td>null</td></tr><tr><td>0</td><td>132500</td><td>0.09</td><td>42</td><td>50000</td><td>906</td><td>35</td><td>2</td><td>1.0</td><td>5</td><td>&quot;electric&quot;</td><td>&quot;electric&quot;</td><td>&quot;septic&quot;</td><td>&quot;No&quot;</td><td>&quot;No&quot;</td><td>&quot;No&quot;</td></tr><tr><td>1</td><td>181115</td><td>0.92</td><td>0</td><td>22300</td><td>1953</td><td>51</td><td>3</td><td>2.5</td><td>6</td><td>&quot;hot water/steam&quot;</td><td>&quot;gas&quot;</td><td>&quot;septic&quot;</td><td>&quot;No&quot;</td><td>&quot;No&quot;</td><td>&quot;No&quot;</td></tr><tr><td>&hellip;</td><td>&hellip;</td><td>&hellip;</td><td>&hellip;</td><td>&hellip;</td><td>&hellip;</td><td>&hellip;</td><td>&hellip;</td><td>&hellip;</td><td>&hellip;</td><td>&hellip;</td><td>&hellip;</td><td>&hellip;</td><td>&hellip;</td><td>&hellip;</td><td>&hellip;</td></tr><tr><td>1720</td><td>436023</td><td>0.41</td><td>5</td><td>43400</td><td>2718</td><td>61</td><td>4</td><td>2.5</td><td>12</td><td>&quot;hot air&quot;</td><td>&quot;gas&quot;</td><td>&quot;public/commercial&quot;</td><td>&quot;No&quot;</td><td>&quot;No&quot;</td><td>&quot;Yes&quot;</td></tr><tr><td>1721</td><td>319900</td><td>0.58</td><td>42</td><td>31400</td><td>2464</td><td>61</td><td>4</td><td>2.5</td><td>8</td><td>&quot;hot water/steam&quot;</td><td>&quot;gas&quot;</td><td>&quot;public/commercial&quot;</td><td>&quot;No&quot;</td><td>&quot;No&quot;</td><td>&quot;No&quot;</td></tr><tr><td>1722</td><td>249000</td><td>0.43</td><td>41</td><td>45800</td><td>2426</td><td>61</td><td>4</td><td>2.0</td><td>7</td><td>&quot;hot water/steam&quot;</td><td>&quot;gas&quot;</td><td>&quot;public/commercial&quot;</td><td>&quot;No&quot;</td><td>&quot;No&quot;</td><td>&quot;No&quot;</td></tr><tr><td>1723</td><td>289000</td><td>0.38</td><td>32</td><td>24200</td><td>2310</td><td>61</td><td>5</td><td>2.5</td><td>11</td><td>&quot;hot water/steam&quot;</td><td>&quot;gas&quot;</td><td>&quot;public/commercial&quot;</td><td>&quot;No&quot;</td><td>&quot;No&quot;</td><td>&quot;No&quot;</td></tr><tr><td>1724</td><td>285000</td><td>0.94</td><td>37</td><td>36200</td><td>2564</td><td>61</td><td>4</td><td>2.5</td><td>11</td><td>&quot;hot water/steam&quot;</td><td>&quot;gas&quot;</td><td>&quot;public/commercial&quot;</td><td>&quot;No&quot;</td><td>&quot;No&quot;</td><td>&quot;No&quot;</td></tr></tbody></table></div>"
            ]
          },
          "metadata": {},
          "execution_count": 101
        }
      ],
      "source": [
        "df.shift(3).collect()  ## desplazamiento de las filas del dataset"
      ]
    },
    {
      "cell_type": "code",
      "execution_count": 102,
      "metadata": {
        "colab": {
          "base_uri": "https://localhost:8080/",
          "height": 549
        },
        "id": "SSZU0YQr-_zi",
        "outputId": "f97555bd-6f7a-409b-81ae-5c8ea308cc2f"
      },
      "outputs": [
        {
          "output_type": "execute_result",
          "data": {
            "text/plain": [
              "shape: (1_728, 16)\n",
              "┌────────┬────────┬────────────┬────────────┬───┬────────────┬────────────┬────────────┬───────────┐\n",
              "│        ┆ precio ┆ metros_tot ┆ antiguedad ┆ … ┆ desague    ┆ vistas_lag ┆ nueva_cons ┆ aire_acon │\n",
              "│ ---    ┆ ---    ┆ ales       ┆ ---        ┆   ┆ ---        ┆ o          ┆ truccion   ┆ dicionado │\n",
              "│ str    ┆ str    ┆ ---        ┆ str        ┆   ┆ str        ┆ ---        ┆ ---        ┆ ---       │\n",
              "│        ┆        ┆ str        ┆            ┆   ┆            ┆ str        ┆ str        ┆ str       │\n",
              "╞════════╪════════╪════════════╪════════════╪═══╪════════════╪════════════╪════════════╪═══════════╡\n",
              "│ prueba ┆ prueba ┆ prueba     ┆ prueba     ┆ … ┆ prueba     ┆ prueba     ┆ prueba     ┆ prueba    │\n",
              "│ prueba ┆ prueba ┆ prueba     ┆ prueba     ┆ … ┆ prueba     ┆ prueba     ┆ prueba     ┆ prueba    │\n",
              "│ prueba ┆ prueba ┆ prueba     ┆ prueba     ┆ … ┆ prueba     ┆ prueba     ┆ prueba     ┆ prueba    │\n",
              "│ 0      ┆ 132500 ┆ 0.09       ┆ 42         ┆ … ┆ septic     ┆ No         ┆ No         ┆ No        │\n",
              "│ 1      ┆ 181115 ┆ 0.92       ┆ 0          ┆ … ┆ septic     ┆ No         ┆ No         ┆ No        │\n",
              "│ …      ┆ …      ┆ …          ┆ …          ┆ … ┆ …          ┆ …          ┆ …          ┆ …         │\n",
              "│ 1720   ┆ 436023 ┆ 0.41       ┆ 5          ┆ … ┆ public/com ┆ No         ┆ No         ┆ Yes       │\n",
              "│        ┆        ┆            ┆            ┆   ┆ mercial    ┆            ┆            ┆           │\n",
              "│ 1721   ┆ 319900 ┆ 0.58       ┆ 42         ┆ … ┆ public/com ┆ No         ┆ No         ┆ No        │\n",
              "│        ┆        ┆            ┆            ┆   ┆ mercial    ┆            ┆            ┆           │\n",
              "│ 1722   ┆ 249000 ┆ 0.43       ┆ 41         ┆ … ┆ public/com ┆ No         ┆ No         ┆ No        │\n",
              "│        ┆        ┆            ┆            ┆   ┆ mercial    ┆            ┆            ┆           │\n",
              "│ 1723   ┆ 289000 ┆ 0.38       ┆ 32         ┆ … ┆ public/com ┆ No         ┆ No         ┆ No        │\n",
              "│        ┆        ┆            ┆            ┆   ┆ mercial    ┆            ┆            ┆           │\n",
              "│ 1724   ┆ 285000 ┆ 0.94       ┆ 37         ┆ … ┆ public/com ┆ No         ┆ No         ┆ No        │\n",
              "│        ┆        ┆            ┆            ┆   ┆ mercial    ┆            ┆            ┆           │\n",
              "└────────┴────────┴────────────┴────────────┴───┴────────────┴────────────┴────────────┴───────────┘"
            ],
            "text/html": [
              "<div><style>\n",
              ".dataframe > thead > tr,\n",
              ".dataframe > tbody > tr {\n",
              "  text-align: right;\n",
              "  white-space: pre-wrap;\n",
              "}\n",
              "</style>\n",
              "<small>shape: (1_728, 16)</small><table border=\"1\" class=\"dataframe\"><thead><tr><th></th><th>precio</th><th>metros_totales</th><th>antiguedad</th><th>precio_terreno</th><th>metros_habitables</th><th>universitarios</th><th>dormitorios</th><th>baños</th><th>habitaciones</th><th>calefaccion</th><th>consumo_calefacion</th><th>desague</th><th>vistas_lago</th><th>nueva_construccion</th><th>aire_acondicionado</th></tr><tr><td>str</td><td>str</td><td>str</td><td>str</td><td>str</td><td>str</td><td>str</td><td>str</td><td>str</td><td>str</td><td>str</td><td>str</td><td>str</td><td>str</td><td>str</td><td>str</td></tr></thead><tbody><tr><td>&quot;prueba&quot;</td><td>&quot;prueba&quot;</td><td>&quot;prueba&quot;</td><td>&quot;prueba&quot;</td><td>&quot;prueba&quot;</td><td>&quot;prueba&quot;</td><td>&quot;prueba&quot;</td><td>&quot;prueba&quot;</td><td>&quot;prueba&quot;</td><td>&quot;prueba&quot;</td><td>&quot;prueba&quot;</td><td>&quot;prueba&quot;</td><td>&quot;prueba&quot;</td><td>&quot;prueba&quot;</td><td>&quot;prueba&quot;</td><td>&quot;prueba&quot;</td></tr><tr><td>&quot;prueba&quot;</td><td>&quot;prueba&quot;</td><td>&quot;prueba&quot;</td><td>&quot;prueba&quot;</td><td>&quot;prueba&quot;</td><td>&quot;prueba&quot;</td><td>&quot;prueba&quot;</td><td>&quot;prueba&quot;</td><td>&quot;prueba&quot;</td><td>&quot;prueba&quot;</td><td>&quot;prueba&quot;</td><td>&quot;prueba&quot;</td><td>&quot;prueba&quot;</td><td>&quot;prueba&quot;</td><td>&quot;prueba&quot;</td><td>&quot;prueba&quot;</td></tr><tr><td>&quot;prueba&quot;</td><td>&quot;prueba&quot;</td><td>&quot;prueba&quot;</td><td>&quot;prueba&quot;</td><td>&quot;prueba&quot;</td><td>&quot;prueba&quot;</td><td>&quot;prueba&quot;</td><td>&quot;prueba&quot;</td><td>&quot;prueba&quot;</td><td>&quot;prueba&quot;</td><td>&quot;prueba&quot;</td><td>&quot;prueba&quot;</td><td>&quot;prueba&quot;</td><td>&quot;prueba&quot;</td><td>&quot;prueba&quot;</td><td>&quot;prueba&quot;</td></tr><tr><td>&quot;0&quot;</td><td>&quot;132500&quot;</td><td>&quot;0.09&quot;</td><td>&quot;42&quot;</td><td>&quot;50000&quot;</td><td>&quot;906&quot;</td><td>&quot;35&quot;</td><td>&quot;2&quot;</td><td>&quot;1.0&quot;</td><td>&quot;5&quot;</td><td>&quot;electric&quot;</td><td>&quot;electric&quot;</td><td>&quot;septic&quot;</td><td>&quot;No&quot;</td><td>&quot;No&quot;</td><td>&quot;No&quot;</td></tr><tr><td>&quot;1&quot;</td><td>&quot;181115&quot;</td><td>&quot;0.92&quot;</td><td>&quot;0&quot;</td><td>&quot;22300&quot;</td><td>&quot;1953&quot;</td><td>&quot;51&quot;</td><td>&quot;3&quot;</td><td>&quot;2.5&quot;</td><td>&quot;6&quot;</td><td>&quot;hot water/steam&quot;</td><td>&quot;gas&quot;</td><td>&quot;septic&quot;</td><td>&quot;No&quot;</td><td>&quot;No&quot;</td><td>&quot;No&quot;</td></tr><tr><td>&hellip;</td><td>&hellip;</td><td>&hellip;</td><td>&hellip;</td><td>&hellip;</td><td>&hellip;</td><td>&hellip;</td><td>&hellip;</td><td>&hellip;</td><td>&hellip;</td><td>&hellip;</td><td>&hellip;</td><td>&hellip;</td><td>&hellip;</td><td>&hellip;</td><td>&hellip;</td></tr><tr><td>&quot;1720&quot;</td><td>&quot;436023&quot;</td><td>&quot;0.41&quot;</td><td>&quot;5&quot;</td><td>&quot;43400&quot;</td><td>&quot;2718&quot;</td><td>&quot;61&quot;</td><td>&quot;4&quot;</td><td>&quot;2.5&quot;</td><td>&quot;12&quot;</td><td>&quot;hot air&quot;</td><td>&quot;gas&quot;</td><td>&quot;public/commercial&quot;</td><td>&quot;No&quot;</td><td>&quot;No&quot;</td><td>&quot;Yes&quot;</td></tr><tr><td>&quot;1721&quot;</td><td>&quot;319900&quot;</td><td>&quot;0.58&quot;</td><td>&quot;42&quot;</td><td>&quot;31400&quot;</td><td>&quot;2464&quot;</td><td>&quot;61&quot;</td><td>&quot;4&quot;</td><td>&quot;2.5&quot;</td><td>&quot;8&quot;</td><td>&quot;hot water/steam&quot;</td><td>&quot;gas&quot;</td><td>&quot;public/commercial&quot;</td><td>&quot;No&quot;</td><td>&quot;No&quot;</td><td>&quot;No&quot;</td></tr><tr><td>&quot;1722&quot;</td><td>&quot;249000&quot;</td><td>&quot;0.43&quot;</td><td>&quot;41&quot;</td><td>&quot;45800&quot;</td><td>&quot;2426&quot;</td><td>&quot;61&quot;</td><td>&quot;4&quot;</td><td>&quot;2.0&quot;</td><td>&quot;7&quot;</td><td>&quot;hot water/steam&quot;</td><td>&quot;gas&quot;</td><td>&quot;public/commercial&quot;</td><td>&quot;No&quot;</td><td>&quot;No&quot;</td><td>&quot;No&quot;</td></tr><tr><td>&quot;1723&quot;</td><td>&quot;289000&quot;</td><td>&quot;0.38&quot;</td><td>&quot;32&quot;</td><td>&quot;24200&quot;</td><td>&quot;2310&quot;</td><td>&quot;61&quot;</td><td>&quot;5&quot;</td><td>&quot;2.5&quot;</td><td>&quot;11&quot;</td><td>&quot;hot water/steam&quot;</td><td>&quot;gas&quot;</td><td>&quot;public/commercial&quot;</td><td>&quot;No&quot;</td><td>&quot;No&quot;</td><td>&quot;No&quot;</td></tr><tr><td>&quot;1724&quot;</td><td>&quot;285000&quot;</td><td>&quot;0.94&quot;</td><td>&quot;37&quot;</td><td>&quot;36200&quot;</td><td>&quot;2564&quot;</td><td>&quot;61&quot;</td><td>&quot;4&quot;</td><td>&quot;2.5&quot;</td><td>&quot;11&quot;</td><td>&quot;hot water/steam&quot;</td><td>&quot;gas&quot;</td><td>&quot;public/commercial&quot;</td><td>&quot;No&quot;</td><td>&quot;No&quot;</td><td>&quot;No&quot;</td></tr></tbody></table></div>"
            ]
          },
          "metadata": {},
          "execution_count": 102
        }
      ],
      "source": [
        "df.shift(3, fill_value='prueba').collect()  ## se rellena las filas con un valor"
      ]
    },
    {
      "cell_type": "markdown",
      "metadata": {
        "id": "yZAfee___Ia5"
      },
      "source": [
        "# **inspect**\n",
        "\n",
        "`= en Pandas no existe esta funcion`\n",
        "\n",
        "`Esta función inspecciona un nodo en el gráfico de cálculo. Con ella podemos imprimir el valor que evalúa este nodo en el gráfico de cálculo.`"
      ]
    },
    {
      "cell_type": "code",
      "execution_count": 103,
      "metadata": {
        "id": "rw3Et4cJYY9V"
      },
      "outputs": [],
      "source": [
        "query_inspect = (\n",
        "    df.with_columns(precio=(pl.col('precio') > 60000))\n",
        "    .inspect()\n",
        "    .select(  ## selecciono las columnas de antiguedad y precio ´previo filtrado precio mayor a 60000\n",
        "        pl.col('antiguedad'), #\n",
        "        pl.col('precio')     #\n",
        "    )\n",
        ")"
      ]
    },
    {
      "cell_type": "code",
      "execution_count": 104,
      "metadata": {
        "colab": {
          "base_uri": "https://localhost:8080/",
          "height": 755
        },
        "id": "NCVSbXvp_i2a",
        "outputId": "afa9ae1d-f271-4b6b-cbed-3267a8782666"
      },
      "outputs": [
        {
          "output_type": "stream",
          "name": "stdout",
          "text": [
            "shape: (1_728, 2)\n",
            "┌────────┬────────────┐\n",
            "│ precio ┆ antiguedad │\n",
            "│ ---    ┆ ---        │\n",
            "│ bool   ┆ i64        │\n",
            "╞════════╪════════════╡\n",
            "│ true   ┆ 42         │\n",
            "│ true   ┆ 0          │\n",
            "│ true   ┆ 133        │\n",
            "│ true   ┆ 13         │\n",
            "│ true   ┆ 0          │\n",
            "│ …      ┆ …          │\n",
            "│ true   ┆ 32         │\n",
            "│ true   ┆ 37         │\n",
            "│ true   ┆ 9          │\n",
            "│ true   ┆ 48         │\n",
            "│ true   ┆ 86         │\n",
            "└────────┴────────────┘\n"
          ]
        },
        {
          "output_type": "execute_result",
          "data": {
            "text/plain": [
              "shape: (1_728, 2)\n",
              "┌────────────┬────────┐\n",
              "│ antiguedad ┆ precio │\n",
              "│ ---        ┆ ---    │\n",
              "│ i64        ┆ bool   │\n",
              "╞════════════╪════════╡\n",
              "│ 42         ┆ true   │\n",
              "│ 0          ┆ true   │\n",
              "│ 133        ┆ true   │\n",
              "│ 13         ┆ true   │\n",
              "│ 0          ┆ true   │\n",
              "│ …          ┆ …      │\n",
              "│ 32         ┆ true   │\n",
              "│ 37         ┆ true   │\n",
              "│ 9          ┆ true   │\n",
              "│ 48         ┆ true   │\n",
              "│ 86         ┆ true   │\n",
              "└────────────┴────────┘"
            ],
            "text/html": [
              "<div><style>\n",
              ".dataframe > thead > tr,\n",
              ".dataframe > tbody > tr {\n",
              "  text-align: right;\n",
              "  white-space: pre-wrap;\n",
              "}\n",
              "</style>\n",
              "<small>shape: (1_728, 2)</small><table border=\"1\" class=\"dataframe\"><thead><tr><th>antiguedad</th><th>precio</th></tr><tr><td>i64</td><td>bool</td></tr></thead><tbody><tr><td>42</td><td>true</td></tr><tr><td>0</td><td>true</td></tr><tr><td>133</td><td>true</td></tr><tr><td>13</td><td>true</td></tr><tr><td>0</td><td>true</td></tr><tr><td>&hellip;</td><td>&hellip;</td></tr><tr><td>32</td><td>true</td></tr><tr><td>37</td><td>true</td></tr><tr><td>9</td><td>true</td></tr><tr><td>48</td><td>true</td></tr><tr><td>86</td><td>true</td></tr></tbody></table></div>"
            ]
          },
          "metadata": {},
          "execution_count": 104
        }
      ],
      "source": [
        "query_inspect.collect()  ## produce en la columna precio una columna booleana"
      ]
    },
    {
      "cell_type": "code",
      "execution_count": 105,
      "metadata": {
        "colab": {
          "base_uri": "https://localhost:8080/"
        },
        "id": "l4nLr8Ki_-bD",
        "outputId": "784feb8b-abfe-4f0d-95f3-9c74d498beab"
      },
      "outputs": [
        {
          "output_type": "stream",
          "name": "stdout",
          "text": [
            "simple π 2/2 [\"antiguedad\", \"precio\"]\n",
            "  OPAQUE_PYTHON\n",
            "     WITH_COLUMNS:\n",
            "     [[(col(\"precio\")) > (60000)].alias(\"precio\")] \n",
            "      Csv SCAN [https://raw.githubusercontent.com/VINY2030/datasets/refs/heads/main/SaratogaHouses.csv]\n",
            "      PROJECT 2/16 COLUMNS\n"
          ]
        }
      ],
      "source": [
        "print(query_inspect.explain())  ## explica en inspect"
      ]
    },
    {
      "cell_type": "markdown",
      "metadata": {
        "id": "9jq9h9szAP2Y"
      },
      "source": [
        "\n",
        "# **<font color=\"#07a8ed\">Lazy Frames-Miscelanea**"
      ]
    },
    {
      "cell_type": "markdown",
      "metadata": {
        "id": "S0nbxdI5AfBB"
      },
      "source": [
        "# **map_batches**\n",
        "\n",
        "`= en Pandas con funcion apply. df.apply`\n",
        "\n",
        "`Esta función permite aplicar una función personalizada a un LazyFrame. Es importante que la función personalizada devuelva un DataFrame de Polars.`"
      ]
    },
    {
      "cell_type": "code",
      "execution_count": 106,
      "metadata": {
        "colab": {
          "base_uri": "https://localhost:8080/",
          "height": 443
        },
        "id": "LFuNYbrLDyHC",
        "outputId": "eddb0256-f007-47d0-9b18-5f016ebc06ec"
      },
      "outputs": [
        {
          "output_type": "execute_result",
          "data": {
            "text/plain": [
              "shape: (1_728, 2)\n",
              "┌────────────┬────────┐\n",
              "│ antiguedad ┆ precio │\n",
              "│ ---        ┆ ---    │\n",
              "│ i64        ┆ i64    │\n",
              "╞════════════╪════════╡\n",
              "│ 42         ┆ 132500 │\n",
              "│ 0          ┆ 181115 │\n",
              "│ 133        ┆ 109000 │\n",
              "│ 13         ┆ 155000 │\n",
              "│ 0          ┆ 86060  │\n",
              "│ …          ┆ …      │\n",
              "│ 32         ┆ 289000 │\n",
              "│ 37         ┆ 285000 │\n",
              "│ 9          ┆ 194900 │\n",
              "│ 48         ┆ 125000 │\n",
              "│ 86         ┆ 111300 │\n",
              "└────────────┴────────┘"
            ],
            "text/html": [
              "<div><style>\n",
              ".dataframe > thead > tr,\n",
              ".dataframe > tbody > tr {\n",
              "  text-align: right;\n",
              "  white-space: pre-wrap;\n",
              "}\n",
              "</style>\n",
              "<small>shape: (1_728, 2)</small><table border=\"1\" class=\"dataframe\"><thead><tr><th>antiguedad</th><th>precio</th></tr><tr><td>i64</td><td>i64</td></tr></thead><tbody><tr><td>42</td><td>132500</td></tr><tr><td>0</td><td>181115</td></tr><tr><td>133</td><td>109000</td></tr><tr><td>13</td><td>155000</td></tr><tr><td>0</td><td>86060</td></tr><tr><td>&hellip;</td><td>&hellip;</td></tr><tr><td>32</td><td>289000</td></tr><tr><td>37</td><td>285000</td></tr><tr><td>9</td><td>194900</td></tr><tr><td>48</td><td>125000</td></tr><tr><td>86</td><td>111300</td></tr></tbody></table></div>"
            ]
          },
          "metadata": {},
          "execution_count": 106
        }
      ],
      "source": [
        "(\n",
        " df.select(\n",
        "  pl.col('antiguedad'),\n",
        "  pl.col('precio')\n",
        " )\n",
        " ###.map_batches(lambda c: (c / 60).cast(pl.Int64)) # Cast to pl.Int64\n",
        " #\n",
        ").collect()"
      ]
    },
    {
      "cell_type": "code",
      "execution_count": 107,
      "metadata": {
        "colab": {
          "base_uri": "https://localhost:8080/",
          "height": 443
        },
        "id": "6Iue_wrUY5Aa",
        "outputId": "a078726a-bca7-4026-ec86-a93129b033dd"
      },
      "outputs": [
        {
          "output_type": "execute_result",
          "data": {
            "text/plain": [
              "shape: (1_728, 2)\n",
              "┌────────────┬────────┐\n",
              "│ antiguedad ┆ precio │\n",
              "│ ---        ┆ ---    │\n",
              "│ i64        ┆ i64    │\n",
              "╞════════════╪════════╡\n",
              "│ 0          ┆ 2208   │\n",
              "│ 0          ┆ 3018   │\n",
              "│ 2          ┆ 1816   │\n",
              "│ 0          ┆ 2583   │\n",
              "│ 0          ┆ 1434   │\n",
              "│ …          ┆ …      │\n",
              "│ 0          ┆ 4816   │\n",
              "│ 0          ┆ 4750   │\n",
              "│ 0          ┆ 3248   │\n",
              "│ 0          ┆ 2083   │\n",
              "│ 1          ┆ 1855   │\n",
              "└────────────┴────────┘"
            ],
            "text/html": [
              "<div><style>\n",
              ".dataframe > thead > tr,\n",
              ".dataframe > tbody > tr {\n",
              "  text-align: right;\n",
              "  white-space: pre-wrap;\n",
              "}\n",
              "</style>\n",
              "<small>shape: (1_728, 2)</small><table border=\"1\" class=\"dataframe\"><thead><tr><th>antiguedad</th><th>precio</th></tr><tr><td>i64</td><td>i64</td></tr></thead><tbody><tr><td>0</td><td>2208</td></tr><tr><td>0</td><td>3018</td></tr><tr><td>2</td><td>1816</td></tr><tr><td>0</td><td>2583</td></tr><tr><td>0</td><td>1434</td></tr><tr><td>&hellip;</td><td>&hellip;</td></tr><tr><td>0</td><td>4816</td></tr><tr><td>0</td><td>4750</td></tr><tr><td>0</td><td>3248</td></tr><tr><td>0</td><td>2083</td></tr><tr><td>1</td><td>1855</td></tr></tbody></table></div>"
            ]
          },
          "metadata": {},
          "execution_count": 107
        }
      ],
      "source": [
        "(\n",
        " df.select(\n",
        "  pl.col('antiguedad'),\n",
        "  pl.col('precio')\n",
        " )\n",
        " .map_batches(lambda c: (c / 60).cast(pl.Int64)) # aplica lambda en las dos columna resultado entero\n",
        " #\n",
        ").collect()"
      ]
    },
    {
      "cell_type": "markdown",
      "metadata": {
        "id": "DvK6dXS5Csdz"
      },
      "source": [
        "# **profile**\n",
        "\n",
        "`= funcion no existe en Pandas`\n",
        "\n",
        "`Esta función perfila un LazyFrame, es decir, ejecutará la consulta y devolverá una tupla que contiene el DataFrame materializado y un DataFrame que contiene información de perfil de cada nodo que se ejecuta. Las unidades de los tiempos son microsegundos.`\n",
        "\n",
        "`Con el parámetro show_plot=True mostraremos un diagrama de Gantt del resultado del perfilado.`"
      ]
    },
    {
      "cell_type": "code",
      "execution_count": 110,
      "metadata": {
        "colab": {
          "base_uri": "https://localhost:8080/",
          "height": 532
        },
        "id": "WFqxwL5ZHxa-",
        "outputId": "1ae66d7a-9b73-488e-ff3f-159ff38024d3"
      },
      "outputs": [
        {
          "output_type": "execute_result",
          "data": {
            "text/plain": [
              "shape: (1_728, 16)\n",
              "┌──────┬────────┬─────────────┬────────────┬───┬────────────┬────────────┬────────────┬────────────┐\n",
              "│      ┆ precio ┆ metros_tota ┆ antiguedad ┆ … ┆ desague    ┆ vistas_lag ┆ nueva_cons ┆ aire_acond │\n",
              "│ ---  ┆ ---    ┆ les         ┆ ---        ┆   ┆ ---        ┆ o          ┆ truccion   ┆ icionado   │\n",
              "│ i64  ┆ i64    ┆ ---         ┆ i64        ┆   ┆ str        ┆ ---        ┆ ---        ┆ ---        │\n",
              "│      ┆        ┆ f64         ┆            ┆   ┆            ┆ str        ┆ str        ┆ str        │\n",
              "╞══════╪════════╪═════════════╪════════════╪═══╪════════════╪════════════╪════════════╪════════════╡\n",
              "│ 0    ┆ 132500 ┆ 0.09        ┆ 42         ┆ … ┆ septic     ┆ No         ┆ No         ┆ No         │\n",
              "│ 1    ┆ 181115 ┆ 0.92        ┆ 0          ┆ … ┆ septic     ┆ No         ┆ No         ┆ No         │\n",
              "│ 2    ┆ 109000 ┆ 0.19        ┆ 133        ┆ … ┆ public/com ┆ No         ┆ No         ┆ No         │\n",
              "│      ┆        ┆             ┆            ┆   ┆ mercial    ┆            ┆            ┆            │\n",
              "│ 3    ┆ 155000 ┆ 0.41        ┆ 13         ┆ … ┆ septic     ┆ No         ┆ No         ┆ No         │\n",
              "│ 4    ┆ 86060  ┆ 0.11        ┆ 0          ┆ … ┆ public/com ┆ No         ┆ Yes        ┆ Yes        │\n",
              "│      ┆        ┆             ┆            ┆   ┆ mercial    ┆            ┆            ┆            │\n",
              "│ …    ┆ …      ┆ …           ┆ …          ┆ … ┆ …          ┆ …          ┆ …          ┆ …          │\n",
              "│ 1723 ┆ 289000 ┆ 0.38        ┆ 32         ┆ … ┆ public/com ┆ No         ┆ No         ┆ No         │\n",
              "│      ┆        ┆             ┆            ┆   ┆ mercial    ┆            ┆            ┆            │\n",
              "│ 1724 ┆ 285000 ┆ 0.94        ┆ 37         ┆ … ┆ public/com ┆ No         ┆ No         ┆ No         │\n",
              "│      ┆        ┆             ┆            ┆   ┆ mercial    ┆            ┆            ┆            │\n",
              "│ 1725 ┆ 194900 ┆ 0.39        ┆ 9          ┆ … ┆ public/com ┆ No         ┆ No         ┆ No         │\n",
              "│      ┆        ┆             ┆            ┆   ┆ mercial    ┆            ┆            ┆            │\n",
              "│ 1726 ┆ 125000 ┆ 0.24        ┆ 48         ┆ … ┆ public/com ┆ No         ┆ No         ┆ No         │\n",
              "│      ┆        ┆             ┆            ┆   ┆ mercial    ┆            ┆            ┆            │\n",
              "│ 1727 ┆ 111300 ┆ 0.59        ┆ 86         ┆ … ┆ septic     ┆ No         ┆ No         ┆ No         │\n",
              "└──────┴────────┴─────────────┴────────────┴───┴────────────┴────────────┴────────────┴────────────┘"
            ],
            "text/html": [
              "<div><style>\n",
              ".dataframe > thead > tr,\n",
              ".dataframe > tbody > tr {\n",
              "  text-align: right;\n",
              "  white-space: pre-wrap;\n",
              "}\n",
              "</style>\n",
              "<small>shape: (1_728, 16)</small><table border=\"1\" class=\"dataframe\"><thead><tr><th></th><th>precio</th><th>metros_totales</th><th>antiguedad</th><th>precio_terreno</th><th>metros_habitables</th><th>universitarios</th><th>dormitorios</th><th>baños</th><th>habitaciones</th><th>calefaccion</th><th>consumo_calefacion</th><th>desague</th><th>vistas_lago</th><th>nueva_construccion</th><th>aire_acondicionado</th></tr><tr><td>i64</td><td>i64</td><td>f64</td><td>i64</td><td>i64</td><td>i64</td><td>i64</td><td>i64</td><td>f64</td><td>i64</td><td>str</td><td>str</td><td>str</td><td>str</td><td>str</td><td>str</td></tr></thead><tbody><tr><td>0</td><td>132500</td><td>0.09</td><td>42</td><td>50000</td><td>906</td><td>35</td><td>2</td><td>1.0</td><td>5</td><td>&quot;electric&quot;</td><td>&quot;electric&quot;</td><td>&quot;septic&quot;</td><td>&quot;No&quot;</td><td>&quot;No&quot;</td><td>&quot;No&quot;</td></tr><tr><td>1</td><td>181115</td><td>0.92</td><td>0</td><td>22300</td><td>1953</td><td>51</td><td>3</td><td>2.5</td><td>6</td><td>&quot;hot water/steam&quot;</td><td>&quot;gas&quot;</td><td>&quot;septic&quot;</td><td>&quot;No&quot;</td><td>&quot;No&quot;</td><td>&quot;No&quot;</td></tr><tr><td>2</td><td>109000</td><td>0.19</td><td>133</td><td>7300</td><td>1944</td><td>51</td><td>4</td><td>1.0</td><td>8</td><td>&quot;hot water/steam&quot;</td><td>&quot;gas&quot;</td><td>&quot;public/commercial&quot;</td><td>&quot;No&quot;</td><td>&quot;No&quot;</td><td>&quot;No&quot;</td></tr><tr><td>3</td><td>155000</td><td>0.41</td><td>13</td><td>18700</td><td>1944</td><td>51</td><td>3</td><td>1.5</td><td>5</td><td>&quot;hot air&quot;</td><td>&quot;gas&quot;</td><td>&quot;septic&quot;</td><td>&quot;No&quot;</td><td>&quot;No&quot;</td><td>&quot;No&quot;</td></tr><tr><td>4</td><td>86060</td><td>0.11</td><td>0</td><td>15000</td><td>840</td><td>51</td><td>2</td><td>1.0</td><td>3</td><td>&quot;hot air&quot;</td><td>&quot;gas&quot;</td><td>&quot;public/commercial&quot;</td><td>&quot;No&quot;</td><td>&quot;Yes&quot;</td><td>&quot;Yes&quot;</td></tr><tr><td>&hellip;</td><td>&hellip;</td><td>&hellip;</td><td>&hellip;</td><td>&hellip;</td><td>&hellip;</td><td>&hellip;</td><td>&hellip;</td><td>&hellip;</td><td>&hellip;</td><td>&hellip;</td><td>&hellip;</td><td>&hellip;</td><td>&hellip;</td><td>&hellip;</td><td>&hellip;</td></tr><tr><td>1723</td><td>289000</td><td>0.38</td><td>32</td><td>24200</td><td>2310</td><td>61</td><td>5</td><td>2.5</td><td>11</td><td>&quot;hot water/steam&quot;</td><td>&quot;gas&quot;</td><td>&quot;public/commercial&quot;</td><td>&quot;No&quot;</td><td>&quot;No&quot;</td><td>&quot;No&quot;</td></tr><tr><td>1724</td><td>285000</td><td>0.94</td><td>37</td><td>36200</td><td>2564</td><td>61</td><td>4</td><td>2.5</td><td>11</td><td>&quot;hot water/steam&quot;</td><td>&quot;gas&quot;</td><td>&quot;public/commercial&quot;</td><td>&quot;No&quot;</td><td>&quot;No&quot;</td><td>&quot;No&quot;</td></tr><tr><td>1725</td><td>194900</td><td>0.39</td><td>9</td><td>20400</td><td>1099</td><td>51</td><td>2</td><td>1.0</td><td>3</td><td>&quot;hot air&quot;</td><td>&quot;gas&quot;</td><td>&quot;public/commercial&quot;</td><td>&quot;No&quot;</td><td>&quot;No&quot;</td><td>&quot;No&quot;</td></tr><tr><td>1726</td><td>125000</td><td>0.24</td><td>48</td><td>16800</td><td>1225</td><td>51</td><td>3</td><td>1.0</td><td>7</td><td>&quot;hot air&quot;</td><td>&quot;gas&quot;</td><td>&quot;public/commercial&quot;</td><td>&quot;No&quot;</td><td>&quot;No&quot;</td><td>&quot;No&quot;</td></tr><tr><td>1727</td><td>111300</td><td>0.59</td><td>86</td><td>26000</td><td>1959</td><td>51</td><td>3</td><td>1.0</td><td>6</td><td>&quot;hot air&quot;</td><td>&quot;gas&quot;</td><td>&quot;septic&quot;</td><td>&quot;No&quot;</td><td>&quot;No&quot;</td><td>&quot;No&quot;</td></tr></tbody></table></div>"
            ]
          },
          "metadata": {},
          "execution_count": 110
        }
      ],
      "source": [
        "df.collect()"
      ]
    },
    {
      "cell_type": "code",
      "execution_count": 111,
      "metadata": {
        "colab": {
          "base_uri": "https://localhost:8080/",
          "height": 987
        },
        "id": "OgnlhzZ_ZEkD",
        "outputId": "f1aeb8d0-8158-46e0-8080-cdc6e5a835a7"
      },
      "outputs": [
        {
          "output_type": "display_data",
          "data": {
            "text/plain": [
              "<Figure size 1800x800 with 1 Axes>"
            ],
            "image/png": "[encoded data removed]"
          },
          "metadata": {}
        },
        {
          "output_type": "execute_result",
          "data": {
            "text/plain": [
              "(shape: (136, 2)\n",
              " ┌────────────┬──────────────┐\n",
              " │ antiguedad ┆ suma_precios │\n",
              " │ ---        ┆ ---          │\n",
              " │ i64        ┆ i64          │\n",
              " ╞════════════╪══════════════╡\n",
              " │ 225        ┆ 82800        │\n",
              " │ 201        ┆ 227000       │\n",
              " │ 178        ┆ 135000       │\n",
              " │ 176        ┆ 422680       │\n",
              " │ 174        ┆ 154000       │\n",
              " │ …          ┆ …            │\n",
              " │ 4          ┆ 6271000      │\n",
              " │ 3          ┆ 9727250      │\n",
              " │ 2          ┆ 5642600      │\n",
              " │ 1          ┆ 22752834     │\n",
              " │ 0          ┆ 22221338     │\n",
              " └────────────┴──────────────┘,\n",
              " shape: (4, 3)\n",
              " ┌─────────────────────────────────┬───────┬──────┐\n",
              " │ node                            ┆ start ┆ end  │\n",
              " │ ---                             ┆ ---   ┆ ---  │\n",
              " │ str                             ┆ u64   ┆ u64  │\n",
              " ╞═════════════════════════════════╪═══════╪══════╡\n",
              " │ optimization                    ┆ 0     ┆ 3    │\n",
              " │ csv(https://raw.githubusercont… ┆ 3     ┆ 578  │\n",
              " │ group_by_partitioned(antigueda… ┆ 581   ┆ 1243 │\n",
              " │ sort(antiguedad)                ┆ 1248  ┆ 1343 │\n",
              " └─────────────────────────────────┴───────┴──────┘)"
            ]
          },
          "metadata": {},
          "execution_count": 111
        }
      ],
      "source": [
        "from polars import col\n",
        "\n",
        "query_df = df.group_by('antiguedad').agg(  ## agrupe pór antiguedad\n",
        "    suma_precios=col('precio').sum() ## agregue suma de precios y ordene por antiguedad\n",
        ").sort('antiguedad', descending=True)\n",
        "\n",
        "query_df.profile(show_plot=True)  ## profile duracion de los procesos en microsegundos"
      ]
    },
    {
      "cell_type": "markdown",
      "metadata": {
        "id": "Jy9ldJVaqK25"
      },
      "source": [
        "# **<font color=\"#07a8ed\">Lazy Frame con  Gran Marco de Datos Perezoso-100 millones de registros?**"
      ]
    },
    {
      "cell_type": "code",
      "execution_count": 113,
      "metadata": {
        "colab": {
          "base_uri": "https://localhost:8080/"
        },
        "id": "6rToreA7rvEh",
        "outputId": "0da6d735-b8ed-4520-8af0-25a53ab44a0b"
      },
      "outputs": [
        {
          "output_type": "stream",
          "name": "stdout",
          "text": [
            "Requirement already satisfied: polars in /usr/local/lib/python3.10/dist-packages (1.13.1)\n"
          ]
        }
      ],
      "source": [
        "!pip install polars -U"
      ]
    },
    {
      "cell_type": "code",
      "execution_count": 114,
      "metadata": {
        "colab": {
          "base_uri": "https://localhost:8080/"
        },
        "id": "3oWhlqLwrxZv",
        "outputId": "c378e00d-baeb-472d-9f89-17646bcb2013"
      },
      "outputs": [
        {
          "output_type": "stream",
          "name": "stdout",
          "text": [
            "Looking in indexes: https://pypi.org/simple, https://pypi.nvidia.com\n",
            "Requirement already satisfied: polars[gpu] in /usr/local/lib/python3.10/dist-packages (1.13.1)\n",
            "Requirement already satisfied: cudf-polars-cu12 in /usr/local/lib/python3.10/dist-packages (from polars[gpu]) (24.10.1)\n",
            "INFO: pip is looking at multiple versions of cudf-polars-cu12 to determine which version is compatible with other requirements. This could take a while.\n",
            "\u001b[33mWARNING: Skipping page https://pypi.nvidia.com/cudf-polars-cu12/ because the GET request got Content-Type: public, must-revalidate, proxy-revalidate, max-age=0. The only supported Content-Types are application/vnd.pypi.simple.v1+json, application/vnd.pypi.simple.v1+html, and text/html\u001b[0m\u001b[33m\n",
            "\u001b[0mCollecting polars[gpu]\n",
            "  Using cached polars-1.13.1-cp39-abi3-manylinux_2_17_x86_64.manylinux2014_x86_64.whl.metadata (14 kB)\n",
            "  Using cached polars-1.13.0-cp39-abi3-manylinux_2_17_x86_64.manylinux2014_x86_64.whl.metadata (14 kB)\n",
            "  Using cached polars-1.12.0-cp39-abi3-manylinux_2_17_x86_64.manylinux2014_x86_64.whl.metadata (14 kB)\n",
            "  Using cached polars-1.11.0-cp39-abi3-manylinux_2_17_x86_64.manylinux2014_x86_64.whl.metadata (14 kB)\n",
            "  Using cached polars-1.10.0-cp39-abi3-manylinux_2_17_x86_64.manylinux2014_x86_64.whl.metadata (14 kB)\n",
            "  Using cached polars-1.9.0-cp38-abi3-manylinux_2_17_x86_64.manylinux2014_x86_64.whl.metadata (14 kB)\n",
            "  Using cached polars-1.8.2-cp38-abi3-manylinux_2_17_x86_64.manylinux2014_x86_64.whl.metadata (14 kB)\n",
            "Requirement already satisfied: pylibcudf-cu12==24.10.* in /usr/local/lib/python3.10/dist-packages (from cudf-polars-cu12->polars[gpu]) (24.10.1)\n",
            "Requirement already satisfied: cuda-python<13.0a0,>=12.0 in /usr/local/lib/python3.10/dist-packages (from pylibcudf-cu12==24.10.*->cudf-polars-cu12->polars[gpu]) (12.2.1)\n",
            "Requirement already satisfied: libcudf-cu12==24.10.* in /usr/local/lib/python3.10/dist-packages (from pylibcudf-cu12==24.10.*->cudf-polars-cu12->polars[gpu]) (24.10.1)\n",
            "Requirement already satisfied: nvtx>=0.2.1 in /usr/local/lib/python3.10/dist-packages (from pylibcudf-cu12==24.10.*->cudf-polars-cu12->polars[gpu]) (0.2.10)\n",
            "Requirement already satisfied: packaging in /usr/local/lib/python3.10/dist-packages (from pylibcudf-cu12==24.10.*->cudf-polars-cu12->polars[gpu]) (24.2)\n",
            "Requirement already satisfied: pyarrow<18.0.0a0,>=14.0.0 in /usr/local/lib/python3.10/dist-packages (from pylibcudf-cu12==24.10.*->cudf-polars-cu12->polars[gpu]) (17.0.0)\n",
            "Requirement already satisfied: rmm-cu12==24.10.* in /usr/local/lib/python3.10/dist-packages (from pylibcudf-cu12==24.10.*->cudf-polars-cu12->polars[gpu]) (24.10.0)\n",
            "Requirement already satisfied: typing_extensions>=4.0.0 in /usr/local/lib/python3.10/dist-packages (from pylibcudf-cu12==24.10.*->cudf-polars-cu12->polars[gpu]) (4.12.2)\n",
            "Requirement already satisfied: numba>=0.57 in /usr/local/lib/python3.10/dist-packages (from rmm-cu12==24.10.*->pylibcudf-cu12==24.10.*->cudf-polars-cu12->polars[gpu]) (0.60.0)\n",
            "Requirement already satisfied: numpy<3.0a0,>=1.23 in /usr/local/lib/python3.10/dist-packages (from rmm-cu12==24.10.*->pylibcudf-cu12==24.10.*->cudf-polars-cu12->polars[gpu]) (1.26.4)\n",
            "Requirement already satisfied: cython in /usr/local/lib/python3.10/dist-packages (from cuda-python<13.0a0,>=12.0->pylibcudf-cu12==24.10.*->cudf-polars-cu12->polars[gpu]) (3.0.11)\n",
            "Requirement already satisfied: llvmlite<0.44,>=0.43.0dev0 in /usr/local/lib/python3.10/dist-packages (from numba>=0.57->rmm-cu12==24.10.*->pylibcudf-cu12==24.10.*->cudf-polars-cu12->polars[gpu]) (0.43.0)\n",
            "Using cached polars-1.8.2-cp38-abi3-manylinux_2_17_x86_64.manylinux2014_x86_64.whl (32.5 MB)\n",
            "Installing collected packages: polars\n",
            "  Attempting uninstall: polars\n",
            "    Found existing installation: polars 1.13.1\n",
            "    Uninstalling polars-1.13.1:\n",
            "      Successfully uninstalled polars-1.13.1\n",
            "Successfully installed polars-1.8.2\n"
          ]
        }
      ],
      "source": [
        "!pip install polars[gpu] --extra-index-url=https://pypi.nvidia.com"
      ]
    },
    {
      "cell_type": "code",
      "execution_count": 115,
      "metadata": {
        "id": "yxzC4Ve2rcn3"
      },
      "outputs": [],
      "source": [
        "import polars as pl"
      ]
    },
    {
      "cell_type": "code",
      "execution_count": 116,
      "metadata": {
        "id": "7GsWKW4LqY43"
      },
      "outputs": [],
      "source": [
        "import numpy as np"
      ]
    },
    {
      "cell_type": "code",
      "execution_count": 117,
      "metadata": {
        "colab": {
          "base_uri": "https://localhost:8080/",
          "height": 203
        },
        "id": "pHsvgSTCqVRx",
        "outputId": "98d55ad3-8e4f-4de3-eede-446b753302cd"
      },
      "outputs": [
        {
          "output_type": "stream",
          "name": "stdout",
          "text": [
            "CPU times: user 5.63 s, sys: 828 ms, total: 6.46 s\n",
            "Wall time: 6.43 s\n"
          ]
        },
        {
          "output_type": "execute_result",
          "data": {
            "text/plain": [
              "<LazyFrame at 0x7C7018CD9210>"
            ],
            "text/html": [
              "<h4>NAIVE QUERY PLAN</h4><p>run <b>LazyFrame.show_graph()</b> to see the optimized version</p><?xml version=\"1.0\" encoding=\"UTF-8\" standalone=\"no\"?>\n",
              "<!DOCTYPE svg PUBLIC \"-//W3C//DTD SVG 1.1//EN\"\n",
              " \"http://www.w3.org/Graphics/SVG/1.1/DTD/svg11.dtd\">\n",
              "<!-- Generated by graphviz version 2.43.0 (0)\n",
              " -->\n",
              "<!-- Title: polars_query Pages: 1 -->\n",
              "<svg width=\"67pt\" height=\"61pt\"\n",
              " viewBox=\"0.00 0.00 67.00 61.00\" xmlns=\"http://www.w3.org/2000/svg\" xmlns:xlink=\"http://www.w3.org/1999/xlink\">\n",
              "<g id=\"graph0\" class=\"graph\" transform=\"scale(1 1) rotate(0) translate(4 57)\">\n",
              "<title>polars_query</title>\n",
              "<polygon fill=\"white\" stroke=\"transparent\" points=\"-4,4 -4,-57 63,-57 63,4 -4,4\"/>\n",
              "<!-- p1 -->\n",
              "<g id=\"node1\" class=\"node\">\n",
              "<title>p1</title>\n",
              "<polygon fill=\"none\" stroke=\"black\" points=\"59,-53 0,-53 0,0 59,0 59,-53\"/>\n",
              "<text text-anchor=\"middle\" x=\"29.5\" y=\"-37.8\" font-family=\"Times,serif\" font-size=\"14.00\">TABLE</text>\n",
              "<text text-anchor=\"middle\" x=\"29.5\" y=\"-22.8\" font-family=\"Times,serif\" font-size=\"14.00\">π */6;</text>\n",
              "<text text-anchor=\"middle\" x=\"29.5\" y=\"-7.8\" font-family=\"Times,serif\" font-size=\"14.00\">σ None</text>\n",
              "</g>\n",
              "</g>\n",
              "</svg>\n"
            ]
          },
          "metadata": {},
          "execution_count": 117
        }
      ],
      "source": [
        "%%time\n",
        "np.random.seed(0)\n",
        "\n",
        "num_rows = 100_000_000\n",
        "num_columns = 6\n",
        "\n",
        "# Crear un marco de datos con datos aleatorios\n",
        "# Cambiado: pase los datos y los nombres de la columna utilizando el argumento del esquema\n",
        "data = np.random.randint(0, 100, size=(num_rows, num_columns))\n",
        "schema = {f'Column_{i}': pl.Int64 for i in range(1, num_columns + 1)}\n",
        "df_polars = pl.LazyFrame(data, schema=schema)\n",
        "df_polars"
      ]
    },
    {
      "cell_type": "code",
      "execution_count": 118,
      "metadata": {
        "colab": {
          "base_uri": "https://localhost:8080/",
          "height": 477
        },
        "id": "Bl1tEZMlqczU",
        "outputId": "e5901020-8f6b-48f8-c7af-5e6364a113d2"
      },
      "outputs": [
        {
          "output_type": "stream",
          "name": "stdout",
          "text": [
            "CPU times: user 2 µs, sys: 0 ns, total: 2 µs\n",
            "Wall time: 4.53 µs\n"
          ]
        },
        {
          "output_type": "execute_result",
          "data": {
            "text/plain": [
              "shape: (100_000_000, 6)\n",
              "┌──────────┬──────────┬──────────┬──────────┬──────────┬──────────┐\n",
              "│ Column_1 ┆ Column_2 ┆ Column_3 ┆ Column_4 ┆ Column_5 ┆ Column_6 │\n",
              "│ ---      ┆ ---      ┆ ---      ┆ ---      ┆ ---      ┆ ---      │\n",
              "│ i64      ┆ i64      ┆ i64      ┆ i64      ┆ i64      ┆ i64      │\n",
              "╞══════════╪══════════╪══════════╪══════════╪══════════╪══════════╡\n",
              "│ 44       ┆ 47       ┆ 64       ┆ 67       ┆ 67       ┆ 9        │\n",
              "│ 83       ┆ 21       ┆ 36       ┆ 87       ┆ 70       ┆ 88       │\n",
              "│ 88       ┆ 12       ┆ 58       ┆ 65       ┆ 39       ┆ 87       │\n",
              "│ 46       ┆ 88       ┆ 81       ┆ 37       ┆ 25       ┆ 77       │\n",
              "│ 72       ┆ 9        ┆ 20       ┆ 80       ┆ 69       ┆ 79       │\n",
              "│ …        ┆ …        ┆ …        ┆ …        ┆ …        ┆ …        │\n",
              "│ 13       ┆ 6        ┆ 67       ┆ 74       ┆ 86       ┆ 84       │\n",
              "│ 62       ┆ 63       ┆ 75       ┆ 85       ┆ 8        ┆ 15       │\n",
              "│ 96       ┆ 45       ┆ 61       ┆ 51       ┆ 44       ┆ 59       │\n",
              "│ 81       ┆ 48       ┆ 13       ┆ 40       ┆ 26       ┆ 16       │\n",
              "│ 77       ┆ 71       ┆ 31       ┆ 56       ┆ 81       ┆ 73       │\n",
              "└──────────┴──────────┴──────────┴──────────┴──────────┴──────────┘"
            ],
            "text/html": [
              "<div><style>\n",
              ".dataframe > thead > tr,\n",
              ".dataframe > tbody > tr {\n",
              "  text-align: right;\n",
              "  white-space: pre-wrap;\n",
              "}\n",
              "</style>\n",
              "<small>shape: (100_000_000, 6)</small><table border=\"1\" class=\"dataframe\"><thead><tr><th>Column_1</th><th>Column_2</th><th>Column_3</th><th>Column_4</th><th>Column_5</th><th>Column_6</th></tr><tr><td>i64</td><td>i64</td><td>i64</td><td>i64</td><td>i64</td><td>i64</td></tr></thead><tbody><tr><td>44</td><td>47</td><td>64</td><td>67</td><td>67</td><td>9</td></tr><tr><td>83</td><td>21</td><td>36</td><td>87</td><td>70</td><td>88</td></tr><tr><td>88</td><td>12</td><td>58</td><td>65</td><td>39</td><td>87</td></tr><tr><td>46</td><td>88</td><td>81</td><td>37</td><td>25</td><td>77</td></tr><tr><td>72</td><td>9</td><td>20</td><td>80</td><td>69</td><td>79</td></tr><tr><td>&hellip;</td><td>&hellip;</td><td>&hellip;</td><td>&hellip;</td><td>&hellip;</td><td>&hellip;</td></tr><tr><td>13</td><td>6</td><td>67</td><td>74</td><td>86</td><td>84</td></tr><tr><td>62</td><td>63</td><td>75</td><td>85</td><td>8</td><td>15</td></tr><tr><td>96</td><td>45</td><td>61</td><td>51</td><td>44</td><td>59</td></tr><tr><td>81</td><td>48</td><td>13</td><td>40</td><td>26</td><td>16</td></tr><tr><td>77</td><td>71</td><td>31</td><td>56</td><td>81</td><td>73</td></tr></tbody></table></div>"
            ]
          },
          "metadata": {},
          "execution_count": 118
        }
      ],
      "source": [
        "%time\n",
        "df_polars.collect()  ## 100 millones de registros y 6 columnas"
      ]
    },
    {
      "cell_type": "markdown",
      "source": [
        "☹ Final\n",
        "\n"
      ],
      "metadata": {
        "id": "nCanskvjZ8Kl"
      }
    }
  ],
  "metadata": {
    "colab": {
      "machine_shape": "hm",
      "provenance": [],
      "include_colab_link": true
    },
    "kernelspec": {
      "display_name": "Python 3",
      "name": "python3"
    },
    "language_info": {
      "name": "python"
    }
  },
  "nbformat": 4,
  "nbformat_minor": 0
}