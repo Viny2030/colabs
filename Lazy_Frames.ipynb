{
  "nbformat": 4,
  "nbformat_minor": 0,
  "metadata": {
    "colab": {
      "provenance": [],
      "include_colab_link": true
    },
    "kernelspec": {
      "name": "python3",
      "display_name": "Python 3"
    },
    "language_info": {
      "name": "python"
    }
  },
  "cells": [
    {
      "cell_type": "markdown",
      "metadata": {
        "id": "view-in-github",
        "colab_type": "text"
      },
      "source": [
        "<a href=\"https://colab.research.google.com/github/Viny2030/colabs/blob/main/Lazy_Frames.ipynb\" target=\"_parent\"><img src=\"https://colab.research.google.com/assets/colab-badge.svg\" alt=\"Open In Colab\"/></a>"
      ]
    },
    {
      "cell_type": "markdown",
      "source": [
        "\n",
        "# **<font color=\"#07a8ed\">API lazy VS API eager**"
      ],
      "metadata": {
        "id": "5z0PDPHyMfdB"
      }
    },
    {
      "cell_type": "code",
      "source": [
        "import polars as pl"
      ],
      "metadata": {
        "id": "6r1Tn0JH_9ME"
      },
      "execution_count": 1,
      "outputs": []
    },
    {
      "cell_type": "code",
      "execution_count": 2,
      "metadata": {
        "id": "wPV6Q0Py_53b"
      },
      "outputs": [],
      "source": [
        "import polars as col"
      ]
    },
    {
      "cell_type": "code",
      "source": [
        "%%time\n",
        "casas = pl.read_csv(\"https://raw.githubusercontent.com/VINY2030/datasets/refs/heads/main/SaratogaHouses.csv\")\n",
        "casas"
      ],
      "metadata": {
        "colab": {
          "base_uri": "https://localhost:8080/",
          "height": 567
        },
        "id": "XC8fQkmWAF69",
        "outputId": "40f353a3-23a0-4b9d-a9b8-a124d95ba46b"
      },
      "execution_count": 6,
      "outputs": [
        {
          "output_type": "stream",
          "name": "stdout",
          "text": [
            "CPU times: user 16.8 ms, sys: 4.64 ms, total: 21.5 ms\n",
            "Wall time: 255 ms\n"
          ]
        },
        {
          "output_type": "execute_result",
          "data": {
            "text/plain": [
              "shape: (1_728, 16)\n",
              "┌──────┬────────┬─────────────┬────────────┬───┬────────────┬────────────┬────────────┬────────────┐\n",
              "│      ┆ precio ┆ metros_tota ┆ antiguedad ┆ … ┆ desague    ┆ vistas_lag ┆ nueva_cons ┆ aire_acond │\n",
              "│ ---  ┆ ---    ┆ les         ┆ ---        ┆   ┆ ---        ┆ o          ┆ truccion   ┆ icionado   │\n",
              "│ i64  ┆ i64    ┆ ---         ┆ i64        ┆   ┆ str        ┆ ---        ┆ ---        ┆ ---        │\n",
              "│      ┆        ┆ f64         ┆            ┆   ┆            ┆ str        ┆ str        ┆ str        │\n",
              "╞══════╪════════╪═════════════╪════════════╪═══╪════════════╪════════════╪════════════╪════════════╡\n",
              "│ 0    ┆ 132500 ┆ 0.09        ┆ 42         ┆ … ┆ septic     ┆ No         ┆ No         ┆ No         │\n",
              "│ 1    ┆ 181115 ┆ 0.92        ┆ 0          ┆ … ┆ septic     ┆ No         ┆ No         ┆ No         │\n",
              "│ 2    ┆ 109000 ┆ 0.19        ┆ 133        ┆ … ┆ public/com ┆ No         ┆ No         ┆ No         │\n",
              "│      ┆        ┆             ┆            ┆   ┆ mercial    ┆            ┆            ┆            │\n",
              "│ 3    ┆ 155000 ┆ 0.41        ┆ 13         ┆ … ┆ septic     ┆ No         ┆ No         ┆ No         │\n",
              "│ 4    ┆ 86060  ┆ 0.11        ┆ 0          ┆ … ┆ public/com ┆ No         ┆ Yes        ┆ Yes        │\n",
              "│      ┆        ┆             ┆            ┆   ┆ mercial    ┆            ┆            ┆            │\n",
              "│ …    ┆ …      ┆ …           ┆ …          ┆ … ┆ …          ┆ …          ┆ …          ┆ …          │\n",
              "│ 1723 ┆ 289000 ┆ 0.38        ┆ 32         ┆ … ┆ public/com ┆ No         ┆ No         ┆ No         │\n",
              "│      ┆        ┆             ┆            ┆   ┆ mercial    ┆            ┆            ┆            │\n",
              "│ 1724 ┆ 285000 ┆ 0.94        ┆ 37         ┆ … ┆ public/com ┆ No         ┆ No         ┆ No         │\n",
              "│      ┆        ┆             ┆            ┆   ┆ mercial    ┆            ┆            ┆            │\n",
              "│ 1725 ┆ 194900 ┆ 0.39        ┆ 9          ┆ … ┆ public/com ┆ No         ┆ No         ┆ No         │\n",
              "│      ┆        ┆             ┆            ┆   ┆ mercial    ┆            ┆            ┆            │\n",
              "│ 1726 ┆ 125000 ┆ 0.24        ┆ 48         ┆ … ┆ public/com ┆ No         ┆ No         ┆ No         │\n",
              "│      ┆        ┆             ┆            ┆   ┆ mercial    ┆            ┆            ┆            │\n",
              "│ 1727 ┆ 111300 ┆ 0.59        ┆ 86         ┆ … ┆ septic     ┆ No         ┆ No         ┆ No         │\n",
              "└──────┴────────┴─────────────┴────────────┴───┴────────────┴────────────┴────────────┴────────────┘"
            ],
            "text/html": [
              "<div><style>\n",
              ".dataframe > thead > tr,\n",
              ".dataframe > tbody > tr {\n",
              "  text-align: right;\n",
              "  white-space: pre-wrap;\n",
              "}\n",
              "</style>\n",
              "<small>shape: (1_728, 16)</small><table border=\"1\" class=\"dataframe\"><thead><tr><th></th><th>precio</th><th>metros_totales</th><th>antiguedad</th><th>precio_terreno</th><th>metros_habitables</th><th>universitarios</th><th>dormitorios</th><th>baños</th><th>habitaciones</th><th>calefaccion</th><th>consumo_calefacion</th><th>desague</th><th>vistas_lago</th><th>nueva_construccion</th><th>aire_acondicionado</th></tr><tr><td>i64</td><td>i64</td><td>f64</td><td>i64</td><td>i64</td><td>i64</td><td>i64</td><td>i64</td><td>f64</td><td>i64</td><td>str</td><td>str</td><td>str</td><td>str</td><td>str</td><td>str</td></tr></thead><tbody><tr><td>0</td><td>132500</td><td>0.09</td><td>42</td><td>50000</td><td>906</td><td>35</td><td>2</td><td>1.0</td><td>5</td><td>&quot;electric&quot;</td><td>&quot;electric&quot;</td><td>&quot;septic&quot;</td><td>&quot;No&quot;</td><td>&quot;No&quot;</td><td>&quot;No&quot;</td></tr><tr><td>1</td><td>181115</td><td>0.92</td><td>0</td><td>22300</td><td>1953</td><td>51</td><td>3</td><td>2.5</td><td>6</td><td>&quot;hot water/steam&quot;</td><td>&quot;gas&quot;</td><td>&quot;septic&quot;</td><td>&quot;No&quot;</td><td>&quot;No&quot;</td><td>&quot;No&quot;</td></tr><tr><td>2</td><td>109000</td><td>0.19</td><td>133</td><td>7300</td><td>1944</td><td>51</td><td>4</td><td>1.0</td><td>8</td><td>&quot;hot water/steam&quot;</td><td>&quot;gas&quot;</td><td>&quot;public/commercial&quot;</td><td>&quot;No&quot;</td><td>&quot;No&quot;</td><td>&quot;No&quot;</td></tr><tr><td>3</td><td>155000</td><td>0.41</td><td>13</td><td>18700</td><td>1944</td><td>51</td><td>3</td><td>1.5</td><td>5</td><td>&quot;hot air&quot;</td><td>&quot;gas&quot;</td><td>&quot;septic&quot;</td><td>&quot;No&quot;</td><td>&quot;No&quot;</td><td>&quot;No&quot;</td></tr><tr><td>4</td><td>86060</td><td>0.11</td><td>0</td><td>15000</td><td>840</td><td>51</td><td>2</td><td>1.0</td><td>3</td><td>&quot;hot air&quot;</td><td>&quot;gas&quot;</td><td>&quot;public/commercial&quot;</td><td>&quot;No&quot;</td><td>&quot;Yes&quot;</td><td>&quot;Yes&quot;</td></tr><tr><td>&hellip;</td><td>&hellip;</td><td>&hellip;</td><td>&hellip;</td><td>&hellip;</td><td>&hellip;</td><td>&hellip;</td><td>&hellip;</td><td>&hellip;</td><td>&hellip;</td><td>&hellip;</td><td>&hellip;</td><td>&hellip;</td><td>&hellip;</td><td>&hellip;</td><td>&hellip;</td></tr><tr><td>1723</td><td>289000</td><td>0.38</td><td>32</td><td>24200</td><td>2310</td><td>61</td><td>5</td><td>2.5</td><td>11</td><td>&quot;hot water/steam&quot;</td><td>&quot;gas&quot;</td><td>&quot;public/commercial&quot;</td><td>&quot;No&quot;</td><td>&quot;No&quot;</td><td>&quot;No&quot;</td></tr><tr><td>1724</td><td>285000</td><td>0.94</td><td>37</td><td>36200</td><td>2564</td><td>61</td><td>4</td><td>2.5</td><td>11</td><td>&quot;hot water/steam&quot;</td><td>&quot;gas&quot;</td><td>&quot;public/commercial&quot;</td><td>&quot;No&quot;</td><td>&quot;No&quot;</td><td>&quot;No&quot;</td></tr><tr><td>1725</td><td>194900</td><td>0.39</td><td>9</td><td>20400</td><td>1099</td><td>51</td><td>2</td><td>1.0</td><td>3</td><td>&quot;hot air&quot;</td><td>&quot;gas&quot;</td><td>&quot;public/commercial&quot;</td><td>&quot;No&quot;</td><td>&quot;No&quot;</td><td>&quot;No&quot;</td></tr><tr><td>1726</td><td>125000</td><td>0.24</td><td>48</td><td>16800</td><td>1225</td><td>51</td><td>3</td><td>1.0</td><td>7</td><td>&quot;hot air&quot;</td><td>&quot;gas&quot;</td><td>&quot;public/commercial&quot;</td><td>&quot;No&quot;</td><td>&quot;No&quot;</td><td>&quot;No&quot;</td></tr><tr><td>1727</td><td>111300</td><td>0.59</td><td>86</td><td>26000</td><td>1959</td><td>51</td><td>3</td><td>1.0</td><td>6</td><td>&quot;hot air&quot;</td><td>&quot;gas&quot;</td><td>&quot;septic&quot;</td><td>&quot;No&quot;</td><td>&quot;No&quot;</td><td>&quot;No&quot;</td></tr></tbody></table></div>"
            ]
          },
          "metadata": {},
          "execution_count": 6
        }
      ]
    },
    {
      "cell_type": "code",
      "source": [
        "casas.columns"
      ],
      "metadata": {
        "colab": {
          "base_uri": "https://localhost:8080/"
        },
        "id": "zx3Ryl7aCfJ2",
        "outputId": "511bede0-3e7f-4adb-f273-f07599acec19"
      },
      "execution_count": 8,
      "outputs": [
        {
          "output_type": "execute_result",
          "data": {
            "text/plain": [
              "['',\n",
              " 'precio',\n",
              " 'metros_totales',\n",
              " 'antiguedad',\n",
              " 'precio_terreno',\n",
              " 'metros_habitables',\n",
              " 'universitarios',\n",
              " 'dormitorios',\n",
              " 'baños',\n",
              " 'habitaciones',\n",
              " 'calefaccion',\n",
              " 'consumo_calefacion',\n",
              " 'desague',\n",
              " 'vistas_lago',\n",
              " 'nueva_construccion',\n",
              " 'aire_acondicionado']"
            ]
          },
          "metadata": {},
          "execution_count": 8
        }
      ]
    },
    {
      "cell_type": "code",
      "source": [
        "casas_filtrado = casas.filter(pl.col('antiguedad')>10)\n",
        "casas_filtrado"
      ],
      "metadata": {
        "colab": {
          "base_uri": "https://localhost:8080/",
          "height": 549
        },
        "id": "8uJkTTpKCo65",
        "outputId": "e82428ea-5321-476a-9afa-f9a306340c8a"
      },
      "execution_count": 10,
      "outputs": [
        {
          "output_type": "execute_result",
          "data": {
            "text/plain": [
              "shape: (1_365, 16)\n",
              "┌──────┬────────┬─────────────┬────────────┬───┬────────────┬────────────┬────────────┬────────────┐\n",
              "│      ┆ precio ┆ metros_tota ┆ antiguedad ┆ … ┆ desague    ┆ vistas_lag ┆ nueva_cons ┆ aire_acond │\n",
              "│ ---  ┆ ---    ┆ les         ┆ ---        ┆   ┆ ---        ┆ o          ┆ truccion   ┆ icionado   │\n",
              "│ i64  ┆ i64    ┆ ---         ┆ i64        ┆   ┆ str        ┆ ---        ┆ ---        ┆ ---        │\n",
              "│      ┆        ┆ f64         ┆            ┆   ┆            ┆ str        ┆ str        ┆ str        │\n",
              "╞══════╪════════╪═════════════╪════════════╪═══╪════════════╪════════════╪════════════╪════════════╡\n",
              "│ 0    ┆ 132500 ┆ 0.09        ┆ 42         ┆ … ┆ septic     ┆ No         ┆ No         ┆ No         │\n",
              "│ 2    ┆ 109000 ┆ 0.19        ┆ 133        ┆ … ┆ public/com ┆ No         ┆ No         ┆ No         │\n",
              "│      ┆        ┆             ┆            ┆   ┆ mercial    ┆            ┆            ┆            │\n",
              "│ 3    ┆ 155000 ┆ 0.41        ┆ 13         ┆ … ┆ septic     ┆ No         ┆ No         ┆ No         │\n",
              "│ 5    ┆ 120000 ┆ 0.68        ┆ 31         ┆ … ┆ septic     ┆ No         ┆ No         ┆ No         │\n",
              "│ 6    ┆ 153000 ┆ 0.4         ┆ 33         ┆ … ┆ septic     ┆ No         ┆ No         ┆ No         │\n",
              "│ …    ┆ …      ┆ …           ┆ …          ┆ … ┆ …          ┆ …          ┆ …          ┆ …          │\n",
              "│ 1722 ┆ 249000 ┆ 0.43        ┆ 41         ┆ … ┆ public/com ┆ No         ┆ No         ┆ No         │\n",
              "│      ┆        ┆             ┆            ┆   ┆ mercial    ┆            ┆            ┆            │\n",
              "│ 1723 ┆ 289000 ┆ 0.38        ┆ 32         ┆ … ┆ public/com ┆ No         ┆ No         ┆ No         │\n",
              "│      ┆        ┆             ┆            ┆   ┆ mercial    ┆            ┆            ┆            │\n",
              "│ 1724 ┆ 285000 ┆ 0.94        ┆ 37         ┆ … ┆ public/com ┆ No         ┆ No         ┆ No         │\n",
              "│      ┆        ┆             ┆            ┆   ┆ mercial    ┆            ┆            ┆            │\n",
              "│ 1726 ┆ 125000 ┆ 0.24        ┆ 48         ┆ … ┆ public/com ┆ No         ┆ No         ┆ No         │\n",
              "│      ┆        ┆             ┆            ┆   ┆ mercial    ┆            ┆            ┆            │\n",
              "│ 1727 ┆ 111300 ┆ 0.59        ┆ 86         ┆ … ┆ septic     ┆ No         ┆ No         ┆ No         │\n",
              "└──────┴────────┴─────────────┴────────────┴───┴────────────┴────────────┴────────────┴────────────┘"
            ],
            "text/html": [
              "<div><style>\n",
              ".dataframe > thead > tr,\n",
              ".dataframe > tbody > tr {\n",
              "  text-align: right;\n",
              "  white-space: pre-wrap;\n",
              "}\n",
              "</style>\n",
              "<small>shape: (1_365, 16)</small><table border=\"1\" class=\"dataframe\"><thead><tr><th></th><th>precio</th><th>metros_totales</th><th>antiguedad</th><th>precio_terreno</th><th>metros_habitables</th><th>universitarios</th><th>dormitorios</th><th>baños</th><th>habitaciones</th><th>calefaccion</th><th>consumo_calefacion</th><th>desague</th><th>vistas_lago</th><th>nueva_construccion</th><th>aire_acondicionado</th></tr><tr><td>i64</td><td>i64</td><td>f64</td><td>i64</td><td>i64</td><td>i64</td><td>i64</td><td>i64</td><td>f64</td><td>i64</td><td>str</td><td>str</td><td>str</td><td>str</td><td>str</td><td>str</td></tr></thead><tbody><tr><td>0</td><td>132500</td><td>0.09</td><td>42</td><td>50000</td><td>906</td><td>35</td><td>2</td><td>1.0</td><td>5</td><td>&quot;electric&quot;</td><td>&quot;electric&quot;</td><td>&quot;septic&quot;</td><td>&quot;No&quot;</td><td>&quot;No&quot;</td><td>&quot;No&quot;</td></tr><tr><td>2</td><td>109000</td><td>0.19</td><td>133</td><td>7300</td><td>1944</td><td>51</td><td>4</td><td>1.0</td><td>8</td><td>&quot;hot water/steam&quot;</td><td>&quot;gas&quot;</td><td>&quot;public/commercial&quot;</td><td>&quot;No&quot;</td><td>&quot;No&quot;</td><td>&quot;No&quot;</td></tr><tr><td>3</td><td>155000</td><td>0.41</td><td>13</td><td>18700</td><td>1944</td><td>51</td><td>3</td><td>1.5</td><td>5</td><td>&quot;hot air&quot;</td><td>&quot;gas&quot;</td><td>&quot;septic&quot;</td><td>&quot;No&quot;</td><td>&quot;No&quot;</td><td>&quot;No&quot;</td></tr><tr><td>5</td><td>120000</td><td>0.68</td><td>31</td><td>14000</td><td>1152</td><td>22</td><td>4</td><td>1.0</td><td>8</td><td>&quot;hot air&quot;</td><td>&quot;gas&quot;</td><td>&quot;septic&quot;</td><td>&quot;No&quot;</td><td>&quot;No&quot;</td><td>&quot;No&quot;</td></tr><tr><td>6</td><td>153000</td><td>0.4</td><td>33</td><td>23300</td><td>2752</td><td>51</td><td>4</td><td>1.5</td><td>8</td><td>&quot;hot water/steam&quot;</td><td>&quot;oil&quot;</td><td>&quot;septic&quot;</td><td>&quot;No&quot;</td><td>&quot;No&quot;</td><td>&quot;No&quot;</td></tr><tr><td>&hellip;</td><td>&hellip;</td><td>&hellip;</td><td>&hellip;</td><td>&hellip;</td><td>&hellip;</td><td>&hellip;</td><td>&hellip;</td><td>&hellip;</td><td>&hellip;</td><td>&hellip;</td><td>&hellip;</td><td>&hellip;</td><td>&hellip;</td><td>&hellip;</td><td>&hellip;</td></tr><tr><td>1722</td><td>249000</td><td>0.43</td><td>41</td><td>45800</td><td>2426</td><td>61</td><td>4</td><td>2.0</td><td>7</td><td>&quot;hot water/steam&quot;</td><td>&quot;gas&quot;</td><td>&quot;public/commercial&quot;</td><td>&quot;No&quot;</td><td>&quot;No&quot;</td><td>&quot;No&quot;</td></tr><tr><td>1723</td><td>289000</td><td>0.38</td><td>32</td><td>24200</td><td>2310</td><td>61</td><td>5</td><td>2.5</td><td>11</td><td>&quot;hot water/steam&quot;</td><td>&quot;gas&quot;</td><td>&quot;public/commercial&quot;</td><td>&quot;No&quot;</td><td>&quot;No&quot;</td><td>&quot;No&quot;</td></tr><tr><td>1724</td><td>285000</td><td>0.94</td><td>37</td><td>36200</td><td>2564</td><td>61</td><td>4</td><td>2.5</td><td>11</td><td>&quot;hot water/steam&quot;</td><td>&quot;gas&quot;</td><td>&quot;public/commercial&quot;</td><td>&quot;No&quot;</td><td>&quot;No&quot;</td><td>&quot;No&quot;</td></tr><tr><td>1726</td><td>125000</td><td>0.24</td><td>48</td><td>16800</td><td>1225</td><td>51</td><td>3</td><td>1.0</td><td>7</td><td>&quot;hot air&quot;</td><td>&quot;gas&quot;</td><td>&quot;public/commercial&quot;</td><td>&quot;No&quot;</td><td>&quot;No&quot;</td><td>&quot;No&quot;</td></tr><tr><td>1727</td><td>111300</td><td>0.59</td><td>86</td><td>26000</td><td>1959</td><td>51</td><td>3</td><td>1.0</td><td>6</td><td>&quot;hot air&quot;</td><td>&quot;gas&quot;</td><td>&quot;septic&quot;</td><td>&quot;No&quot;</td><td>&quot;No&quot;</td><td>&quot;No&quot;</td></tr></tbody></table></div>"
            ]
          },
          "metadata": {},
          "execution_count": 10
        }
      ]
    },
    {
      "cell_type": "code",
      "source": [
        "casas_agregado = casas_filtrado.group_by('precio').agg(media_precios=pl.col('precio').mean()\n",
        ")\n",
        "casas_agregado"
      ],
      "metadata": {
        "colab": {
          "base_uri": "https://localhost:8080/",
          "height": 443
        },
        "id": "rSHPVu_oC86q",
        "outputId": "515b0054-61b1-459a-8aaa-2c2bece80682"
      },
      "execution_count": 11,
      "outputs": [
        {
          "output_type": "execute_result",
          "data": {
            "text/plain": [
              "shape: (551, 2)\n",
              "┌────────┬───────────────┐\n",
              "│ precio ┆ media_precios │\n",
              "│ ---    ┆ ---           │\n",
              "│ i64    ┆ f64           │\n",
              "╞════════╪═══════════════╡\n",
              "│ 118000 ┆ 118000.0      │\n",
              "│ 240000 ┆ 240000.0      │\n",
              "│ 114900 ┆ 114900.0      │\n",
              "│ 85000  ┆ 85000.0       │\n",
              "│ 205100 ┆ 205100.0      │\n",
              "│ …      ┆ …             │\n",
              "│ 647000 ┆ 647000.0      │\n",
              "│ 236000 ┆ 236000.0      │\n",
              "│ 297900 ┆ 297900.0      │\n",
              "│ 302000 ┆ 302000.0      │\n",
              "│ 75500  ┆ 75500.0       │\n",
              "└────────┴───────────────┘"
            ],
            "text/html": [
              "<div><style>\n",
              ".dataframe > thead > tr,\n",
              ".dataframe > tbody > tr {\n",
              "  text-align: right;\n",
              "  white-space: pre-wrap;\n",
              "}\n",
              "</style>\n",
              "<small>shape: (551, 2)</small><table border=\"1\" class=\"dataframe\"><thead><tr><th>precio</th><th>media_precios</th></tr><tr><td>i64</td><td>f64</td></tr></thead><tbody><tr><td>118000</td><td>118000.0</td></tr><tr><td>240000</td><td>240000.0</td></tr><tr><td>114900</td><td>114900.0</td></tr><tr><td>85000</td><td>85000.0</td></tr><tr><td>205100</td><td>205100.0</td></tr><tr><td>&hellip;</td><td>&hellip;</td></tr><tr><td>647000</td><td>647000.0</td></tr><tr><td>236000</td><td>236000.0</td></tr><tr><td>297900</td><td>297900.0</td></tr><tr><td>302000</td><td>302000.0</td></tr><tr><td>75500</td><td>75500.0</td></tr></tbody></table></div>"
            ]
          },
          "metadata": {},
          "execution_count": 11
        }
      ]
    },
    {
      "cell_type": "markdown",
      "source": [],
      "metadata": {
        "id": "Jym9j82nO4i2"
      }
    },
    {
      "cell_type": "markdown",
      "source": [
        "\n",
        "# **<font color=\"#07a8ed\">Optimizaciones realizadas con el API Lazy**\n",
        "\n"
      ],
      "metadata": {
        "id": "sAaU_uv8DsCw"
      }
    },
    {
      "cell_type": "code",
      "source": [
        "%%time\n",
        "query = (\n",
        "    pl.scan_csv('https://raw.githubusercontent.com/VINY2030/datasets/refs/heads/main/SaratogaHouses.csv')\n",
        "    .filter(pl.col('antiguedad')>10)\n",
        "    .group_by('precio').agg(media_precio=pl.col('precio').mean()\n",
        "    )\n",
        ")\n",
        "casas_agregado = query.collect()"
      ],
      "metadata": {
        "colab": {
          "base_uri": "https://localhost:8080/"
        },
        "id": "7am5DgxJEhrg",
        "outputId": "444cc066-5248-486c-fe8c-2aea59617e69"
      },
      "execution_count": 12,
      "outputs": [
        {
          "output_type": "stream",
          "name": "stdout",
          "text": [
            "CPU times: user 27.2 ms, sys: 18.1 ms, total: 45.3 ms\n",
            "Wall time: 335 ms\n"
          ]
        }
      ]
    },
    {
      "cell_type": "markdown",
      "source": [
        "\n",
        "# **<font color=\"#07a8ed\">Cuando usar Lazy o Eager**\n"
      ],
      "metadata": {
        "id": "u_9-UTS4FOW-"
      }
    },
    {
      "cell_type": "code",
      "source": [
        "casas_agregado"
      ],
      "metadata": {
        "colab": {
          "base_uri": "https://localhost:8080/",
          "height": 443
        },
        "id": "v5WvWvxWO7ON",
        "outputId": "dcf4b774-53dc-40cc-d5a5-327e30df8473"
      },
      "execution_count": 13,
      "outputs": [
        {
          "output_type": "execute_result",
          "data": {
            "text/plain": [
              "shape: (551, 2)\n",
              "┌────────┬──────────────┐\n",
              "│ precio ┆ media_precio │\n",
              "│ ---    ┆ ---          │\n",
              "│ i64    ┆ f64          │\n",
              "╞════════╪══════════════╡\n",
              "│ 45000  ┆ 45000.0      │\n",
              "│ 102500 ┆ 102500.0     │\n",
              "│ 107400 ┆ 107400.0     │\n",
              "│ 184000 ┆ 184000.0     │\n",
              "│ 320000 ┆ 320000.0     │\n",
              "│ …      ┆ …            │\n",
              "│ 600000 ┆ 600000.0     │\n",
              "│ 105500 ┆ 105500.0     │\n",
              "│ 178000 ┆ 178000.0     │\n",
              "│ 148000 ┆ 148000.0     │\n",
              "│ 281520 ┆ 281520.0     │\n",
              "└────────┴──────────────┘"
            ],
            "text/html": [
              "<div><style>\n",
              ".dataframe > thead > tr,\n",
              ".dataframe > tbody > tr {\n",
              "  text-align: right;\n",
              "  white-space: pre-wrap;\n",
              "}\n",
              "</style>\n",
              "<small>shape: (551, 2)</small><table border=\"1\" class=\"dataframe\"><thead><tr><th>precio</th><th>media_precio</th></tr><tr><td>i64</td><td>f64</td></tr></thead><tbody><tr><td>45000</td><td>45000.0</td></tr><tr><td>102500</td><td>102500.0</td></tr><tr><td>107400</td><td>107400.0</td></tr><tr><td>184000</td><td>184000.0</td></tr><tr><td>320000</td><td>320000.0</td></tr><tr><td>&hellip;</td><td>&hellip;</td></tr><tr><td>600000</td><td>600000.0</td></tr><tr><td>105500</td><td>105500.0</td></tr><tr><td>178000</td><td>178000.0</td></tr><tr><td>148000</td><td>148000.0</td></tr><tr><td>281520</td><td>281520.0</td></tr></tbody></table></div>"
            ]
          },
          "metadata": {},
          "execution_count": 13
        }
      ]
    },
    {
      "cell_type": "code",
      "source": [
        "print(query.explain(streaming=True))"
      ],
      "metadata": {
        "colab": {
          "base_uri": "https://localhost:8080/"
        },
        "id": "zy57FjjkPSlq",
        "outputId": "8076f02d-3b09-4d8c-dd1f-ac547b249168"
      },
      "execution_count": 14,
      "outputs": [
        {
          "output_type": "stream",
          "name": "stdout",
          "text": [
            "STREAMING:\n",
            "  AGGREGATE\n",
            "  \t[col(\"precio\").mean().alias(\"media_precio\")] BY [col(\"precio\")] FROM\n",
            "    Csv SCAN [https://raw.githubusercontent.com/VINY2030/datasets/refs/heads/main/SaratogaHouses.csv]\n",
            "    PROJECT 2/16 COLUMNS\n",
            "    SELECTION: [(col(\"antiguedad\")) > (10)]\n"
          ]
        }
      ]
    },
    {
      "cell_type": "markdown",
      "source": [
        "\n",
        "# **<font color=\"#07a8ed\">Uso de la consulta Lazy a partir de la lectura de un archivo**"
      ],
      "metadata": {
        "id": "GcRwHKPJQWVG"
      }
    },
    {
      "cell_type": "code",
      "source": [
        "\n",
        "query_2 = (\n",
        "    pl.scan_csv('https://raw.githubusercontent.com/VINY2030/datasets/refs/heads/main/SaratogaHouses.csv')\n",
        "    .filter(pl.col('universitarios') > 40)  # Move filter before select\n",
        "    .select(\n",
        "        pl.col('precio_terreno').mean().over('precio_terreno')\n",
        "    )\n",
        ")\n",
        "\n",
        "print(query_2.explain(streaming=True))"
      ],
      "metadata": {
        "colab": {
          "base_uri": "https://localhost:8080/"
        },
        "id": "e5wxq-lQSkYW",
        "outputId": "1d4b5400-e2a8-42d8-f2f3-83e44f92bf44"
      },
      "execution_count": 25,
      "outputs": [
        {
          "output_type": "stream",
          "name": "stdout",
          "text": [
            " SELECT [col(\"precio_terreno\").mean().over([col(\"precio_terreno\")])] FROM\n",
            "  STREAMING:\n",
            "    Csv SCAN [https://raw.githubusercontent.com/VINY2030/datasets/refs/heads/main/SaratogaHouses.csv]\n",
            "    PROJECT 2/16 COLUMNS\n",
            "    SELECTION: [(col(\"universitarios\")) > (40)]\n"
          ]
        }
      ]
    },
    {
      "cell_type": "markdown",
      "source": [
        "##En esta consulta le decimos a Polars que queremos:\n",
        "\n",
        "##Cargar datos desde el archivo csv\n",
        "##Realizar filtro univeristarios mayores a 40\n",
        "##convertir la columna precio_terreno en la media\n",
        "##La consulta lazy no se ejecutará en este momento a menos que le apliquemos un .collect() ."
      ],
      "metadata": {
        "id": "gFbj9NDBQkRN"
      }
    },
    {
      "cell_type": "code",
      "source": [
        "query_2.collect()"
      ],
      "metadata": {
        "colab": {
          "base_uri": "https://localhost:8080/",
          "height": 443
        },
        "id": "zXgmhGAVQD52",
        "outputId": "c473dbfb-7306-413f-c33f-58a597d27465"
      },
      "execution_count": 26,
      "outputs": [
        {
          "output_type": "execute_result",
          "data": {
            "text/plain": [
              "shape: (1_433, 1)\n",
              "┌────────────────┐\n",
              "│ precio_terreno │\n",
              "│ ---            │\n",
              "│ f64            │\n",
              "╞════════════════╡\n",
              "│ 22300.0        │\n",
              "│ 7300.0         │\n",
              "│ 18700.0        │\n",
              "│ 15000.0        │\n",
              "│ 23300.0        │\n",
              "│ …              │\n",
              "│ 24200.0        │\n",
              "│ 36200.0        │\n",
              "│ 20400.0        │\n",
              "│ 16800.0        │\n",
              "│ 26000.0        │\n",
              "└────────────────┘"
            ],
            "text/html": [
              "<div><style>\n",
              ".dataframe > thead > tr,\n",
              ".dataframe > tbody > tr {\n",
              "  text-align: right;\n",
              "  white-space: pre-wrap;\n",
              "}\n",
              "</style>\n",
              "<small>shape: (1_433, 1)</small><table border=\"1\" class=\"dataframe\"><thead><tr><th>precio_terreno</th></tr><tr><td>f64</td></tr></thead><tbody><tr><td>22300.0</td></tr><tr><td>7300.0</td></tr><tr><td>18700.0</td></tr><tr><td>15000.0</td></tr><tr><td>23300.0</td></tr><tr><td>&hellip;</td></tr><tr><td>24200.0</td></tr><tr><td>36200.0</td></tr><tr><td>20400.0</td></tr><tr><td>16800.0</td></tr><tr><td>26000.0</td></tr></tbody></table></div>"
            ]
          },
          "metadata": {},
          "execution_count": 26
        }
      ]
    },
    {
      "cell_type": "markdown",
      "source": [
        "\n",
        "# **<font color=\"#07a8ed\">Uso de la API lazy desde un DataFrame**"
      ],
      "metadata": {
        "id": "Pb8ANGqnS94F"
      }
    },
    {
      "cell_type": "markdown",
      "source": [
        "###Una forma alternativa de acceder a la API lazy es llamar a .lazy en un DataFrame que ya se ha creado en la memoria.\n",
        "\n",
        "###Al llamar a .lazy convertimos el DataFrame en un LazyFrame."
      ],
      "metadata": {
        "id": "E8Q0TCnCTF-G"
      }
    },
    {
      "cell_type": "code",
      "source": [
        "df = pl.DataFrame(\n",
        "    {\n",
        "        'id': [1, 2, 3],\n",
        "        'nombre': ['Rosa', 'Ana', 'Pedro']\n",
        "    }\n",
        ")\n",
        "\n",
        "df_lazy = df.lazy()"
      ],
      "metadata": {
        "id": "sYNzI8YXTLNX"
      },
      "execution_count": 27,
      "outputs": []
    },
    {
      "cell_type": "code",
      "source": [
        "type(df_lazy)"
      ],
      "metadata": {
        "colab": {
          "base_uri": "https://localhost:8080/",
          "height": 221
        },
        "id": "mgXqt19MTN6P",
        "outputId": "461e2101-ccc9-42fb-d4a0-0c4e795ccde7"
      },
      "execution_count": 28,
      "outputs": [
        {
          "output_type": "execute_result",
          "data": {
            "text/plain": [
              "polars.lazyframe.frame.LazyFrame"
            ],
            "text/html": [
              "<div style=\"max-width:800px; border: 1px solid var(--colab-border-color);\"><style>\n",
              "      pre.function-repr-contents {\n",
              "        overflow-x: auto;\n",
              "        padding: 8px 12px;\n",
              "        max-height: 500px;\n",
              "      }\n",
              "\n",
              "      pre.function-repr-contents.function-repr-contents-collapsed {\n",
              "        cursor: pointer;\n",
              "        max-height: 100px;\n",
              "      }\n",
              "    </style>\n",
              "    <pre style=\"white-space: initial; background:\n",
              "         var(--colab-secondary-surface-color); padding: 8px 12px;\n",
              "         border-bottom: 1px solid var(--colab-border-color);\"><b>polars.lazyframe.frame.LazyFrame</b><br/>def __init__(data: FrameInitTypes | None=None, schema: SchemaDefinition | None=None, *, schema_overrides: SchemaDict | None=None, strict: bool=True, orient: Orientation | None=None, infer_schema_length: int | None=N_INFER_DEFAULT, nan_to_null: bool=False) -&gt; None</pre><pre class=\"function-repr-contents function-repr-contents-collapsed\" style=\"\"><a class=\"filepath\" style=\"display:none\" href=\"#\">/usr/local/lib/python3.10/dist-packages/polars/lazyframe/frame.py</a>Representation of a Lazy computation graph/query against a DataFrame.\n",
              "\n",
              "This allows for whole-query optimisation in addition to parallelism, and\n",
              "is the preferred (and highest-performance) mode of operation for polars.\n",
              "\n",
              "Parameters\n",
              "----------\n",
              "data : dict, Sequence, ndarray, Series, or pandas.DataFrame\n",
              "    Two-dimensional data in various forms; dict input must contain Sequences,\n",
              "    Generators, or a `range`. Sequence may contain Series or other Sequences.\n",
              "schema : Sequence of str, (str,DataType) pairs, or a {str:DataType,} dict\n",
              "    The LazyFrame schema may be declared in several ways:\n",
              "\n",
              "    * As a dict of {name:type} pairs; if type is None, it will be auto-inferred.\n",
              "    * As a list of column names; in this case types are automatically inferred.\n",
              "    * As a list of (name,type) pairs; this is equivalent to the dictionary form.\n",
              "\n",
              "    If you supply a list of column names that does not match the names in the\n",
              "    underlying data, the names given here will overwrite them. The number\n",
              "    of names given in the schema should match the underlying data dimensions.\n",
              "schema_overrides : dict, default None\n",
              "    Support type specification or override of one or more columns; note that\n",
              "    any dtypes inferred from the schema param will be overridden.\n",
              "\n",
              "    The number of entries in the schema should match the underlying data\n",
              "    dimensions, unless a sequence of dictionaries is being passed, in which case\n",
              "    a *partial* schema can be declared to prevent specific fields from being loaded.\n",
              "strict : bool, default True\n",
              "    Throw an error if any `data` value does not exactly match the given or inferred\n",
              "    data type for that column. If set to `False`, values that do not match the data\n",
              "    type are cast to that data type or, if casting is not possible, set to null\n",
              "    instead.\n",
              "orient : {&#x27;col&#x27;, &#x27;row&#x27;}, default None\n",
              "    Whether to interpret two-dimensional data as columns or as rows. If None,\n",
              "    the orientation is inferred by matching the columns and data dimensions. If\n",
              "    this does not yield conclusive results, column orientation is used.\n",
              "infer_schema_length : int or None\n",
              "    The maximum number of rows to scan for schema inference. If set to `None`, the\n",
              "    full data may be scanned *(this can be slow)*. This parameter only applies if\n",
              "    the input data is a sequence or generator of rows; other input is read as-is.\n",
              "nan_to_null : bool, default False\n",
              "    If the data comes from one or more numpy arrays, can optionally convert input\n",
              "    data np.nan values to null instead. This is a no-op for all other input data.\n",
              "\n",
              "Notes\n",
              "-----\n",
              "Initialising `LazyFrame(...)` directly is equivalent to `DataFrame(...).lazy()`.\n",
              "\n",
              "Examples\n",
              "--------\n",
              "Constructing a LazyFrame directly from a dictionary:\n",
              "\n",
              "&gt;&gt;&gt; data = {&quot;a&quot;: [1, 2], &quot;b&quot;: [3, 4]}\n",
              "&gt;&gt;&gt; lf = pl.LazyFrame(data)\n",
              "&gt;&gt;&gt; lf.collect()\n",
              "shape: (2, 2)\n",
              "┌─────┬─────┐\n",
              "│ a   ┆ b   │\n",
              "│ --- ┆ --- │\n",
              "│ i64 ┆ i64 │\n",
              "╞═════╪═════╡\n",
              "│ 1   ┆ 3   │\n",
              "│ 2   ┆ 4   │\n",
              "└─────┴─────┘\n",
              "\n",
              "Notice that the dtypes are automatically inferred as Polars Int64:\n",
              "\n",
              "&gt;&gt;&gt; lf.collect_schema().dtypes()\n",
              "[Int64, Int64]\n",
              "\n",
              "To specify a more detailed/specific frame schema you can supply the `schema`\n",
              "parameter with a dictionary of (name,dtype) pairs...\n",
              "\n",
              "&gt;&gt;&gt; data = {&quot;col1&quot;: [0, 2], &quot;col2&quot;: [3, 7]}\n",
              "&gt;&gt;&gt; lf2 = pl.LazyFrame(data, schema={&quot;col1&quot;: pl.Float32, &quot;col2&quot;: pl.Int64})\n",
              "&gt;&gt;&gt; lf2.collect()\n",
              "shape: (2, 2)\n",
              "┌──────┬──────┐\n",
              "│ col1 ┆ col2 │\n",
              "│ ---  ┆ ---  │\n",
              "│ f32  ┆ i64  │\n",
              "╞══════╪══════╡\n",
              "│ 0.0  ┆ 3    │\n",
              "│ 2.0  ┆ 7    │\n",
              "└──────┴──────┘\n",
              "\n",
              "...a sequence of (name,dtype) pairs...\n",
              "\n",
              "&gt;&gt;&gt; data = {&quot;col1&quot;: [1, 2], &quot;col2&quot;: [3, 4]}\n",
              "&gt;&gt;&gt; lf3 = pl.LazyFrame(data, schema=[(&quot;col1&quot;, pl.Float32), (&quot;col2&quot;, pl.Int64)])\n",
              "&gt;&gt;&gt; lf3.collect()\n",
              "shape: (2, 2)\n",
              "┌──────┬──────┐\n",
              "│ col1 ┆ col2 │\n",
              "│ ---  ┆ ---  │\n",
              "│ f32  ┆ i64  │\n",
              "╞══════╪══════╡\n",
              "│ 1.0  ┆ 3    │\n",
              "│ 2.0  ┆ 4    │\n",
              "└──────┴──────┘\n",
              "\n",
              "...or a list of typed Series.\n",
              "\n",
              "&gt;&gt;&gt; data = [\n",
              "...     pl.Series(&quot;col1&quot;, [1, 2], dtype=pl.Float32),\n",
              "...     pl.Series(&quot;col2&quot;, [3, 4], dtype=pl.Int64),\n",
              "... ]\n",
              "&gt;&gt;&gt; lf4 = pl.LazyFrame(data)\n",
              "&gt;&gt;&gt; lf4.collect()\n",
              "shape: (2, 2)\n",
              "┌──────┬──────┐\n",
              "│ col1 ┆ col2 │\n",
              "│ ---  ┆ ---  │\n",
              "│ f32  ┆ i64  │\n",
              "╞══════╪══════╡\n",
              "│ 1.0  ┆ 3    │\n",
              "│ 2.0  ┆ 4    │\n",
              "└──────┴──────┘\n",
              "\n",
              "Constructing a LazyFrame from a numpy ndarray, specifying column names:\n",
              "\n",
              "&gt;&gt;&gt; import numpy as np\n",
              "&gt;&gt;&gt; data = np.array([(1, 2), (3, 4)], dtype=np.int64)\n",
              "&gt;&gt;&gt; lf5 = pl.LazyFrame(data, schema=[&quot;a&quot;, &quot;b&quot;], orient=&quot;col&quot;)\n",
              "&gt;&gt;&gt; lf5.collect()\n",
              "shape: (2, 2)\n",
              "┌─────┬─────┐\n",
              "│ a   ┆ b   │\n",
              "│ --- ┆ --- │\n",
              "│ i64 ┆ i64 │\n",
              "╞═════╪═════╡\n",
              "│ 1   ┆ 3   │\n",
              "│ 2   ┆ 4   │\n",
              "└─────┴─────┘\n",
              "\n",
              "Constructing a LazyFrame from a list of lists, row orientation specified:\n",
              "\n",
              "&gt;&gt;&gt; data = [[1, 2, 3], [4, 5, 6]]\n",
              "&gt;&gt;&gt; lf6 = pl.LazyFrame(data, schema=[&quot;a&quot;, &quot;b&quot;, &quot;c&quot;], orient=&quot;row&quot;)\n",
              "&gt;&gt;&gt; lf6.collect()\n",
              "shape: (2, 3)\n",
              "┌─────┬─────┬─────┐\n",
              "│ a   ┆ b   ┆ c   │\n",
              "│ --- ┆ --- ┆ --- │\n",
              "│ i64 ┆ i64 ┆ i64 │\n",
              "╞═════╪═════╪═════╡\n",
              "│ 1   ┆ 2   ┆ 3   │\n",
              "│ 4   ┆ 5   ┆ 6   │\n",
              "└─────┴─────┴─────┘</pre>\n",
              "      <script>\n",
              "      if (google.colab.kernel.accessAllowed && google.colab.files && google.colab.files.view) {\n",
              "        for (const element of document.querySelectorAll('.filepath')) {\n",
              "          element.style.display = 'block'\n",
              "          element.onclick = (event) => {\n",
              "            event.preventDefault();\n",
              "            event.stopPropagation();\n",
              "            google.colab.files.view(element.textContent, 137);\n",
              "          };\n",
              "        }\n",
              "      }\n",
              "      for (const element of document.querySelectorAll('.function-repr-contents')) {\n",
              "        element.onclick = (event) => {\n",
              "          event.preventDefault();\n",
              "          event.stopPropagation();\n",
              "          element.classList.toggle('function-repr-contents-collapsed');\n",
              "        };\n",
              "      }\n",
              "      </script>\n",
              "      </div>"
            ]
          },
          "metadata": {},
          "execution_count": 28
        }
      ]
    },
    {
      "cell_type": "code",
      "source": [
        "df_lazy.collect()"
      ],
      "metadata": {
        "colab": {
          "base_uri": "https://localhost:8080/",
          "height": 192
        },
        "id": "zLRDrPpKTPaQ",
        "outputId": "6149fc82-d95d-465b-c751-455b1d7c21bb"
      },
      "execution_count": 29,
      "outputs": [
        {
          "output_type": "execute_result",
          "data": {
            "text/plain": [
              "shape: (3, 2)\n",
              "┌─────┬────────┐\n",
              "│ id  ┆ nombre │\n",
              "│ --- ┆ ---    │\n",
              "│ i64 ┆ str    │\n",
              "╞═════╪════════╡\n",
              "│ 1   ┆ Rosa   │\n",
              "│ 2   ┆ Ana    │\n",
              "│ 3   ┆ Pedro  │\n",
              "└─────┴────────┘"
            ],
            "text/html": [
              "<div><style>\n",
              ".dataframe > thead > tr,\n",
              ".dataframe > tbody > tr {\n",
              "  text-align: right;\n",
              "  white-space: pre-wrap;\n",
              "}\n",
              "</style>\n",
              "<small>shape: (3, 2)</small><table border=\"1\" class=\"dataframe\"><thead><tr><th>id</th><th>nombre</th></tr><tr><td>i64</td><td>str</td></tr></thead><tbody><tr><td>1</td><td>&quot;Rosa&quot;</td></tr><tr><td>2</td><td>&quot;Ana&quot;</td></tr><tr><td>3</td><td>&quot;Pedro&quot;</td></tr></tbody></table></div>"
            ]
          },
          "metadata": {},
          "execution_count": 29
        }
      ]
    },
    {
      "cell_type": "markdown",
      "source": [
        "\n",
        "# **<font color=\"#07a8ed\">Schema**"
      ],
      "metadata": {
        "id": "bCudE2clTXcg"
      }
    },
    {
      "cell_type": "markdown",
      "source": [
        "###El esquema de un DataFrame o un LazyFrame establece los nombres de las columnas y sus tipos de datos. Si recordamos podemos ver el esquema de un DataFrame o un LazyFrame con el método .schema."
      ],
      "metadata": {
        "id": "O9IKmXSVTeIF"
      }
    },
    {
      "cell_type": "code",
      "source": [
        "df.schema"
      ],
      "metadata": {
        "colab": {
          "base_uri": "https://localhost:8080/"
        },
        "id": "ir-cxg9yTg7N",
        "outputId": "77689a79-1f8b-4c25-86b2-e5e8bc98d6a1"
      },
      "execution_count": 30,
      "outputs": [
        {
          "output_type": "execute_result",
          "data": {
            "text/plain": [
              "Schema([('id', Int64), ('nombre', String)])"
            ]
          },
          "metadata": {},
          "execution_count": 30
        }
      ]
    },
    {
      "cell_type": "code",
      "source": [
        "df_lazy.schema"
      ],
      "metadata": {
        "colab": {
          "base_uri": "https://localhost:8080/"
        },
        "id": "hFA9tXmJTky1",
        "outputId": "c9bbbfeb-da2d-4721-f045-c1369b957245"
      },
      "execution_count": 31,
      "outputs": [
        {
          "output_type": "stream",
          "name": "stderr",
          "text": [
            "<ipython-input-31-d20a04ec1c64>:1: PerformanceWarning: Resolving the schema of a LazyFrame is a potentially expensive operation. Use `LazyFrame.collect_schema()` to get the schema without this warning.\n",
            "  df_lazy.schema\n"
          ]
        },
        {
          "output_type": "execute_result",
          "data": {
            "text/plain": [
              "Schema([('id', Int64), ('nombre', String)])"
            ]
          },
          "metadata": {},
          "execution_count": 31
        }
      ]
    },
    {
      "cell_type": "markdown",
      "source": [
        "\n",
        "# **<font color=\"#07a8ed\">Comprobación de tipos de datos en la API lazy**"
      ],
      "metadata": {
        "id": "hzMVCJO8Tsd4"
      }
    },
    {
      "cell_type": "markdown",
      "source": [
        "##El esquema juega un papel importante en la API lazy.\n",
        "\n",
        "##Una ventaja de la API lazy es que Polars comprobará el esquema antes de procesar cualquier dato. Esta verificación ocurre cuando ejecutamos nuestra consulta lazy.\n",
        "\n",
        "##Vemos cómo funciona esto en el siguiente ejemplo donde llamamos a la expresión .round en la columna id del DataFrame que previamente hemos creado.El esquema juega un papel importante en la API lazy.\n",
        "\n",
        "##Una ventaja de la API lazy es que Polars comprobará el esquema antes de procesar cualquier dato. Esta verificación ocurre cuando ejecutamos nuestra consulta lazy.\n",
        "\n",
        "##Vemos cómo funciona esto en el siguiente ejemplo donde llamamos a la expresión .round en la columna id del DataFrame que previamente hemos creado."
      ],
      "metadata": {
        "id": "6eSCYZODTyYd"
      }
    },
    {
      "cell_type": "code",
      "source": [
        "df_lazy.with_columns(pl.col('id').round(0)).collect()"
      ],
      "metadata": {
        "colab": {
          "base_uri": "https://localhost:8080/",
          "height": 192
        },
        "id": "EA_ctdDET9OV",
        "outputId": "6f43a93d-9f06-4a2c-ead1-38556449dfed"
      },
      "execution_count": 33,
      "outputs": [
        {
          "output_type": "execute_result",
          "data": {
            "text/plain": [
              "shape: (3, 2)\n",
              "┌─────┬────────┐\n",
              "│ id  ┆ nombre │\n",
              "│ --- ┆ ---    │\n",
              "│ i64 ┆ str    │\n",
              "╞═════╪════════╡\n",
              "│ 1   ┆ Rosa   │\n",
              "│ 2   ┆ Ana    │\n",
              "│ 3   ┆ Pedro  │\n",
              "└─────┴────────┘"
            ],
            "text/html": [
              "<div><style>\n",
              ".dataframe > thead > tr,\n",
              ".dataframe > tbody > tr {\n",
              "  text-align: right;\n",
              "  white-space: pre-wrap;\n",
              "}\n",
              "</style>\n",
              "<small>shape: (3, 2)</small><table border=\"1\" class=\"dataframe\"><thead><tr><th>id</th><th>nombre</th></tr><tr><td>i64</td><td>str</td></tr></thead><tbody><tr><td>1</td><td>&quot;Rosa&quot;</td></tr><tr><td>2</td><td>&quot;Ana&quot;</td></tr><tr><td>3</td><td>&quot;Pedro&quot;</td></tr></tbody></table></div>"
            ]
          },
          "metadata": {},
          "execution_count": 33
        }
      ]
    },
    {
      "cell_type": "markdown",
      "source": [
        "###Los que ha sucedido es que la expresión .round solo es válida para columnas de tipo float. Llamar a .round en una columna de números enteros significa que la operación generará un error de tipo InvalidOperationError cuando evaluemos la consulta con collect. Esta verificación de esquema ocurre antes de que se procesen los datos cuando llamamos a collect."
      ],
      "metadata": {
        "id": "KVA0Dz4JUJaX"
      }
    },
    {
      "cell_type": "markdown",
      "source": [
        "\n",
        "# **<font color=\"#07a8ed\">Manejo de operaciones no disponibles en la API lazy**"
      ],
      "metadata": {
        "id": "bAUmP_fnUPzF"
      }
    },
    {
      "cell_type": "code",
      "source": [
        "casas.columns"
      ],
      "metadata": {
        "colab": {
          "base_uri": "https://localhost:8080/"
        },
        "id": "XiebyUFiU3ku",
        "outputId": "8c1e3254-11dd-42a9-faa3-fc5617939b19"
      },
      "execution_count": 34,
      "outputs": [
        {
          "output_type": "execute_result",
          "data": {
            "text/plain": [
              "['',\n",
              " 'precio',\n",
              " 'metros_totales',\n",
              " 'antiguedad',\n",
              " 'precio_terreno',\n",
              " 'metros_habitables',\n",
              " 'universitarios',\n",
              " 'dormitorios',\n",
              " 'baños',\n",
              " 'habitaciones',\n",
              " 'calefaccion',\n",
              " 'consumo_calefacion',\n",
              " 'desague',\n",
              " 'vistas_lago',\n",
              " 'nueva_construccion',\n",
              " 'aire_acondicionado']"
            ]
          },
          "metadata": {},
          "execution_count": 34
        }
      ]
    },
    {
      "cell_type": "code",
      "source": [
        "lazy_eager_query = (\n",
        "    pl.scan_csv('https://raw.githubusercontent.com/VINY2030/datasets/refs/heads/main/SaratogaHouses.csv')\n",
        "    .with_columns(\n",
        "        pl.col(\"antiguedad\").cast(pl.Int64) # Convert 'antiguedad' to Int64\n",
        "    )\n",
        "    .collect()\n",
        "    .pivot(\n",
        "        index='antiguedad',\n",
        "        columns='calefaccion',\n",
        "        values='habitaciones',\n",
        "        aggregate_function='mean'\n",
        "    )\n",
        "    .lazy()\n",
        ")\n",
        "\n"
      ],
      "metadata": {
        "colab": {
          "base_uri": "https://localhost:8080/"
        },
        "id": "tMbNlN-EWDAZ",
        "outputId": "0f130bff-a601-464f-88b1-2ffbe961e02e"
      },
      "execution_count": 50,
      "outputs": [
        {
          "output_type": "stream",
          "name": "stderr",
          "text": [
            "<ipython-input-50-e9c06c65d651>:2: DeprecationWarning: The argument `columns` for `DataFrame.pivot` is deprecated. It has been renamed to `on`.\n",
            "  pl.scan_csv('https://raw.githubusercontent.com/VINY2030/datasets/refs/heads/main/SaratogaHouses.csv')\n"
          ]
        }
      ]
    },
    {
      "cell_type": "code",
      "source": [
        "print(lazy_eager_query.collect())"
      ],
      "metadata": {
        "colab": {
          "base_uri": "https://localhost:8080/"
        },
        "id": "YYW-YMThWRKO",
        "outputId": "036a42c0-70f1-4053-a9a0-eaa8d78bed4f"
      },
      "execution_count": 52,
      "outputs": [
        {
          "output_type": "stream",
          "name": "stdout",
          "text": [
            "shape: (136, 4)\n",
            "┌────────────┬──────────┬─────────────────┬──────────┐\n",
            "│ antiguedad ┆ electric ┆ hot water/steam ┆ hot air  │\n",
            "│ ---        ┆ ---      ┆ ---             ┆ ---      │\n",
            "│ i64        ┆ f64      ┆ f64             ┆ f64      │\n",
            "╞════════════╪══════════╪═════════════════╪══════════╡\n",
            "│ 42         ┆ 5.0      ┆ 7.0             ┆ 6.5      │\n",
            "│ 0          ┆ null     ┆ 7.0             ┆ 8.765432 │\n",
            "│ 133        ┆ null     ┆ 9.5             ┆ null     │\n",
            "│ 13         ┆ 6.666667 ┆ 8.75            ┆ 7.068966 │\n",
            "│ 31         ┆ null     ┆ 7.5             ┆ 7.076923 │\n",
            "│ …          ┆ …        ┆ …               ┆ …        │\n",
            "│ 155        ┆ null     ┆ 3.0             ┆ null     │\n",
            "│ 149        ┆ null     ┆ null            ┆ 8.0      │\n",
            "│ 106        ┆ null     ┆ null            ┆ 7.0      │\n",
            "│ 176        ┆ null     ┆ 12.0            ┆ null     │\n",
            "│ 86         ┆ null     ┆ null            ┆ 6.0      │\n",
            "└────────────┴──────────┴─────────────────┴──────────┘\n"
          ]
        }
      ]
    },
    {
      "cell_type": "markdown",
      "source": [
        "\n",
        "# **<font color=\"#07a8ed\">Pan de ejecucion de una consulta en la  API lazy**"
      ],
      "metadata": {
        "id": "J5binbvpZ7DK"
      }
    },
    {
      "cell_type": "markdown",
      "source": [
        "# Plan de consulta\n",
        "#Para cualquier consulta lazy, Polars tiene ambos:\n",
        "\n",
        "#Un plan no optimizado: este contiene el conjunto de pasos en código qu ele proporcionamos.\n",
        "#Un plan optimizado: que contiene cambios realizados por el optimizador de consultas\n"
      ],
      "metadata": {
        "id": "e4ok9dH0aEr1"
      }
    },
    {
      "cell_type": "code",
      "source": [
        "casas.columns"
      ],
      "metadata": {
        "colab": {
          "base_uri": "https://localhost:8080/"
        },
        "id": "d4AFsyKzbHOg",
        "outputId": "e36472a4-e5bd-4afd-a6ea-2f634335a7af"
      },
      "execution_count": 60,
      "outputs": [
        {
          "output_type": "execute_result",
          "data": {
            "text/plain": [
              "['',\n",
              " 'precio',\n",
              " 'metros_totales',\n",
              " 'antiguedad',\n",
              " 'precio_terreno',\n",
              " 'metros_habitables',\n",
              " 'universitarios',\n",
              " 'dormitorios',\n",
              " 'baños',\n",
              " 'habitaciones',\n",
              " 'calefaccion',\n",
              " 'consumo_calefacion',\n",
              " 'desague',\n",
              " 'vistas_lago',\n",
              " 'nueva_construccion',\n",
              " 'aire_acondicionado']"
            ]
          },
          "metadata": {},
          "execution_count": 60
        }
      ]
    },
    {
      "cell_type": "code",
      "source": [
        "\n",
        "query = (\n",
        "    pl.scan_csv('https://raw.githubusercontent.com/VINY2030/datasets/refs/heads/main/SaratogaHouses.csv')\n",
        "    .filter(pl.col('antiguedad') > 10)\n",
        "    .group_by('precio')\n",
        "    .agg(media_precio=pl.col('precio').mean(),\n",
        "         media_habitaciones=pl.col('habitaciones').mean()) # Calcula la media de las habitaciones dentro del grupo\n",
        "    )"
      ],
      "metadata": {
        "id": "dOew5W7sbbs3"
      },
      "execution_count": 77,
      "outputs": []
    },
    {
      "cell_type": "code",
      "source": [
        "query.collect()"
      ],
      "metadata": {
        "colab": {
          "base_uri": "https://localhost:8080/",
          "height": 443
        },
        "id": "7Akp_1P9cIIe",
        "outputId": "d6c1133a-e935-4248-8a33-6ce1f211cc05"
      },
      "execution_count": 78,
      "outputs": [
        {
          "output_type": "execute_result",
          "data": {
            "text/plain": [
              "shape: (551, 3)\n",
              "┌────────┬──────────────┬────────────────────┐\n",
              "│ precio ┆ media_precio ┆ media_habitaciones │\n",
              "│ ---    ┆ ---          ┆ ---                │\n",
              "│ i64    ┆ f64          ┆ f64                │\n",
              "╞════════╪══════════════╪════════════════════╡\n",
              "│ 171500 ┆ 171500.0     ┆ 5.666667           │\n",
              "│ 234000 ┆ 234000.0     ┆ 7.0                │\n",
              "│ 233000 ┆ 233000.0     ┆ 7.0                │\n",
              "│ 200000 ┆ 200000.0     ┆ 5.875              │\n",
              "│ 133500 ┆ 133500.0     ┆ 6.333333           │\n",
              "│ …      ┆ …            ┆ …                  │\n",
              "│ 162500 ┆ 162500.0     ┆ 7.0                │\n",
              "│ 103150 ┆ 103150.0     ┆ 8.0                │\n",
              "│ 110400 ┆ 110400.0     ┆ 5.0                │\n",
              "│ 237500 ┆ 237500.0     ┆ 5.0                │\n",
              "│ 367000 ┆ 367000.0     ┆ 6.5                │\n",
              "└────────┴──────────────┴────────────────────┘"
            ],
            "text/html": [
              "<div><style>\n",
              ".dataframe > thead > tr,\n",
              ".dataframe > tbody > tr {\n",
              "  text-align: right;\n",
              "  white-space: pre-wrap;\n",
              "}\n",
              "</style>\n",
              "<small>shape: (551, 3)</small><table border=\"1\" class=\"dataframe\"><thead><tr><th>precio</th><th>media_precio</th><th>media_habitaciones</th></tr><tr><td>i64</td><td>f64</td><td>f64</td></tr></thead><tbody><tr><td>171500</td><td>171500.0</td><td>5.666667</td></tr><tr><td>234000</td><td>234000.0</td><td>7.0</td></tr><tr><td>233000</td><td>233000.0</td><td>7.0</td></tr><tr><td>200000</td><td>200000.0</td><td>5.875</td></tr><tr><td>133500</td><td>133500.0</td><td>6.333333</td></tr><tr><td>&hellip;</td><td>&hellip;</td><td>&hellip;</td></tr><tr><td>162500</td><td>162500.0</td><td>7.0</td></tr><tr><td>103150</td><td>103150.0</td><td>8.0</td></tr><tr><td>110400</td><td>110400.0</td><td>5.0</td></tr><tr><td>237500</td><td>237500.0</td><td>5.0</td></tr><tr><td>367000</td><td>367000.0</td><td>6.5</td></tr></tbody></table></div>"
            ]
          },
          "metadata": {},
          "execution_count": 78
        }
      ]
    },
    {
      "cell_type": "markdown",
      "source": [
        "##Primero visualizaremos el plan no optimizado con la función show_graph estableciendo el parámetro optimized=False.\n",
        "\n",
        "Nota Importante:\n",
        "\n",
        "##Para visualizar los gráficos será necesario instalar la librería graphviz la cual la podemos instalar ejecutando en una celda de código el comando pip install graphviz. Además, necesitará instalar el programa graphviz en su sistema operativo."
      ],
      "metadata": {
        "id": "qvVPAgVlaceG"
      }
    },
    {
      "cell_type": "code",
      "source": [
        "!pip3 install graphviz"
      ],
      "metadata": {
        "colab": {
          "base_uri": "https://localhost:8080/"
        },
        "id": "eH-l2sbSag2f",
        "outputId": "d787f631-78b5-4997-b5e0-a152ee5fc30a"
      },
      "execution_count": 73,
      "outputs": [
        {
          "output_type": "stream",
          "name": "stdout",
          "text": [
            "Requirement already satisfied: graphviz in /usr/local/lib/python3.10/dist-packages (0.20.3)\n"
          ]
        }
      ]
    },
    {
      "cell_type": "code",
      "source": [
        "# Call show_graph before collect()\n",
        "query.show_graph(optimized=False)\n",
        "\n",
        "# then if you want a pandas DataFrame use collect()\n",
        "result = query.collect()"
      ],
      "metadata": {
        "colab": {
          "base_uri": "https://localhost:8080/",
          "height": 298
        },
        "id": "jkYucSijb0WX",
        "outputId": "dfdb62d5-0307-42d2-ffaa-95650fa57671"
      },
      "execution_count": 79,
      "outputs": [
        {
          "output_type": "display_data",
          "data": {
            "text/plain": [
              "<IPython.core.display.SVG object>"
            ],
            "image/svg+xml": "<svg xmlns=\"http://www.w3.org/2000/svg\" xmlns:xlink=\"http://www.w3.org/1999/xlink\" width=\"617pt\" height=\"207pt\" viewBox=\"0.00 0.00 617.00 207.00\">\n<g id=\"graph0\" class=\"graph\" transform=\"scale(1 1) rotate(0) translate(4 203)\">\n<title>polars_query</title>\n<polygon fill=\"white\" stroke=\"transparent\" points=\"-4,4 -4,-203 613,-203 613,4 -4,4\"/>\n<!-- p1 -->\n<g id=\"node1\" class=\"node\">\n<title>p1</title>\n<polygon fill=\"none\" stroke=\"black\" points=\"609,-199 0,-199 0,-146 609,-146 609,-199\"/>\n<text text-anchor=\"middle\" x=\"304.5\" y=\"-183.8\" font-family=\"Times,serif\" font-size=\"14.00\">AGG [col(&quot;precio&quot;).mean().alias(&quot;media_precio&quot;), col(&quot;habitaciones&quot;).mean().alias(&quot;media_habitaciones&quot;)]</text>\n<text text-anchor=\"middle\" x=\"304.5\" y=\"-168.8\" font-family=\"Times,serif\" font-size=\"14.00\">BY</text>\n<text text-anchor=\"middle\" x=\"304.5\" y=\"-153.8\" font-family=\"Times,serif\" font-size=\"14.00\">[col(&quot;precio&quot;)]</text>\n</g>\n<!-- p2 -->\n<g id=\"node2\" class=\"node\">\n<title>p2</title>\n<polygon fill=\"none\" stroke=\"black\" points=\"425,-110 184,-110 184,-74 425,-74 425,-110\"/>\n<text text-anchor=\"middle\" x=\"304.5\" y=\"-88.3\" font-family=\"Times,serif\" font-size=\"14.00\">FILTER BY [(col(&quot;antiguedad&quot;)) &gt; (10)]</text>\n</g>\n<!-- p1&#45;&#45;p2 -->\n<g id=\"edge1\" class=\"edge\">\n<title>p1--p2</title>\n<path fill=\"none\" stroke=\"black\" d=\"M304.5,-145.8C304.5,-134.17 304.5,-120.74 304.5,-110.33\"/>\n</g>\n<!-- p3 -->\n<g id=\"node3\" class=\"node\">\n<title>p3</title>\n<polygon fill=\"none\" stroke=\"black\" points=\"599,-38 10,-38 10,0 599,0 599,-38\"/>\n<text text-anchor=\"middle\" x=\"304.5\" y=\"-22.8\" font-family=\"Times,serif\" font-size=\"14.00\">Csv SCAN [https://raw.githubusercontent.com/VINY2030/datasets/refs/heads/main/SaratogaHouses.csv]</text>\n<text text-anchor=\"middle\" x=\"304.5\" y=\"-7.8\" font-family=\"Times,serif\" font-size=\"14.00\">π */16;</text>\n</g>\n<!-- p2&#45;&#45;p3 -->\n<g id=\"edge2\" class=\"edge\">\n<title>p2--p3</title>\n<path fill=\"none\" stroke=\"black\" d=\"M304.5,-73.81C304.5,-62.98 304.5,-49.01 304.5,-38.02\"/>\n</g>\n</g>\n</svg>"
          },
          "metadata": {}
        }
      ]
    },
    {
      "cell_type": "markdown",
      "source": [
        "###La visualización del plan de consulta debe leerse de abajo hacia arriba. Expliquemos como leer esta salida:\n",
        "\n",
        "##Cada rectángulo corresponde a una etapa del plan de consulta\n",
        "##El sigma significa SELECCIÓN e indica cualquier condición de filtro\n",
        "##El pi significa PROYECCIÓN e indica la elección de un subconjunto de columnas"
      ],
      "metadata": {
        "id": "i4v-R5qnaqi_"
      }
    },
    {
      "cell_type": "markdown",
      "source": [
        "# Imprimir el plan de consulta\n",
        "#También podemos imprimir el plan no optimizado con explain(optimized=False)."
      ],
      "metadata": {
        "id": "qwXgyJIgcPum"
      }
    },
    {
      "cell_type": "code",
      "source": [
        "print(query.explain(optimized=False))"
      ],
      "metadata": {
        "colab": {
          "base_uri": "https://localhost:8080/"
        },
        "id": "pDDw9CobcTbQ",
        "outputId": "78bf1b95-6f0f-4de6-8364-76a77e3faadf"
      },
      "execution_count": 83,
      "outputs": [
        {
          "output_type": "stream",
          "name": "stdout",
          "text": [
            "AGGREGATE\n",
            "\t[col(\"precio\").mean().alias(\"media_precio\"), col(\"habitaciones\").mean().alias(\"media_habitaciones\")] BY [col(\"precio\")] FROM\n",
            "  FILTER [(col(\"antiguedad\")) > (10)] FROM\n",
            "    Csv SCAN [https://raw.githubusercontent.com/VINY2030/datasets/refs/heads/main/SaratogaHouses.csv]\n",
            "    PROJECT */16 COLUMNS\n"
          ]
        }
      ]
    },
    {
      "cell_type": "markdown",
      "source": [
        "##Imprimamos el plan de consulta optimizado."
      ],
      "metadata": {
        "id": "CznlI1PGcXB_"
      }
    },
    {
      "cell_type": "code",
      "source": [
        "print(query.explain())"
      ],
      "metadata": {
        "colab": {
          "base_uri": "https://localhost:8080/"
        },
        "id": "7B5KJW20cb2d",
        "outputId": "6b131e2b-94ac-45f2-8530-6e19e8f87e26"
      },
      "execution_count": 82,
      "outputs": [
        {
          "output_type": "stream",
          "name": "stdout",
          "text": [
            "AGGREGATE\n",
            "\t[col(\"precio\").mean().alias(\"media_precio\"), col(\"habitaciones\").mean().alias(\"media_habitaciones\")] BY [col(\"precio\")] FROM\n",
            "  Csv SCAN [https://raw.githubusercontent.com/VINY2030/datasets/refs/heads/main/SaratogaHouses.csv]\n",
            "  PROJECT 3/16 COLUMNS\n",
            "  SELECTION: [(col(\"antiguedad\")) > (10)]\n"
          ]
        }
      ]
    },
    {
      "cell_type": "markdown",
      "source": [
        "\n",
        "# **<font color=\"#07a8ed\">Ejecucion de una consulta en la  API lazy**"
      ],
      "metadata": {
        "id": "LUST_3HBckai"
      }
    },
    {
      "cell_type": "code",
      "source": [
        "query = (\n",
        "    pl.scan_csv('https://raw.githubusercontent.com/VINY2030/datasets/refs/heads/main/SaratogaHouses.csv')\n",
        "    .with_columns(antiguedad=(pl.col('antiguedad') > 60))\n",
        "    .filter(pl.col('precio') > 50000) # Use pl.col here for consistency\n",
        ")"
      ],
      "metadata": {
        "id": "aaLhxKzhdEJ4"
      },
      "execution_count": 86,
      "outputs": []
    },
    {
      "cell_type": "markdown",
      "source": [
        "##Podemos ejecutar nuestra consulta en el conjunto de datos completo llamando al método .collect en la consulta."
      ],
      "metadata": {
        "id": "Pdn4xLw0dgoD"
      }
    },
    {
      "cell_type": "code",
      "source": [
        "query.collect()"
      ],
      "metadata": {
        "colab": {
          "base_uri": "https://localhost:8080/",
          "height": 532
        },
        "id": "zZZKaPgSdOkq",
        "outputId": "ec1319c7-6d4f-4d6f-bd72-ec260a41e630"
      },
      "execution_count": 88,
      "outputs": [
        {
          "output_type": "execute_result",
          "data": {
            "text/plain": [
              "shape: (1_721, 16)\n",
              "┌──────┬────────┬─────────────┬────────────┬───┬────────────┬────────────┬────────────┬────────────┐\n",
              "│      ┆ precio ┆ metros_tota ┆ antiguedad ┆ … ┆ desague    ┆ vistas_lag ┆ nueva_cons ┆ aire_acond │\n",
              "│ ---  ┆ ---    ┆ les         ┆ ---        ┆   ┆ ---        ┆ o          ┆ truccion   ┆ icionado   │\n",
              "│ i64  ┆ i64    ┆ ---         ┆ bool       ┆   ┆ str        ┆ ---        ┆ ---        ┆ ---        │\n",
              "│      ┆        ┆ f64         ┆            ┆   ┆            ┆ str        ┆ str        ┆ str        │\n",
              "╞══════╪════════╪═════════════╪════════════╪═══╪════════════╪════════════╪════════════╪════════════╡\n",
              "│ 0    ┆ 132500 ┆ 0.09        ┆ false      ┆ … ┆ septic     ┆ No         ┆ No         ┆ No         │\n",
              "│ 1    ┆ 181115 ┆ 0.92        ┆ false      ┆ … ┆ septic     ┆ No         ┆ No         ┆ No         │\n",
              "│ 2    ┆ 109000 ┆ 0.19        ┆ true       ┆ … ┆ public/com ┆ No         ┆ No         ┆ No         │\n",
              "│      ┆        ┆             ┆            ┆   ┆ mercial    ┆            ┆            ┆            │\n",
              "│ 3    ┆ 155000 ┆ 0.41        ┆ false      ┆ … ┆ septic     ┆ No         ┆ No         ┆ No         │\n",
              "│ 4    ┆ 86060  ┆ 0.11        ┆ false      ┆ … ┆ public/com ┆ No         ┆ Yes        ┆ Yes        │\n",
              "│      ┆        ┆             ┆            ┆   ┆ mercial    ┆            ┆            ┆            │\n",
              "│ …    ┆ …      ┆ …           ┆ …          ┆ … ┆ …          ┆ …          ┆ …          ┆ …          │\n",
              "│ 1723 ┆ 289000 ┆ 0.38        ┆ false      ┆ … ┆ public/com ┆ No         ┆ No         ┆ No         │\n",
              "│      ┆        ┆             ┆            ┆   ┆ mercial    ┆            ┆            ┆            │\n",
              "│ 1724 ┆ 285000 ┆ 0.94        ┆ false      ┆ … ┆ public/com ┆ No         ┆ No         ┆ No         │\n",
              "│      ┆        ┆             ┆            ┆   ┆ mercial    ┆            ┆            ┆            │\n",
              "│ 1725 ┆ 194900 ┆ 0.39        ┆ false      ┆ … ┆ public/com ┆ No         ┆ No         ┆ No         │\n",
              "│      ┆        ┆             ┆            ┆   ┆ mercial    ┆            ┆            ┆            │\n",
              "│ 1726 ┆ 125000 ┆ 0.24        ┆ false      ┆ … ┆ public/com ┆ No         ┆ No         ┆ No         │\n",
              "│      ┆        ┆             ┆            ┆   ┆ mercial    ┆            ┆            ┆            │\n",
              "│ 1727 ┆ 111300 ┆ 0.59        ┆ true       ┆ … ┆ septic     ┆ No         ┆ No         ┆ No         │\n",
              "└──────┴────────┴─────────────┴────────────┴───┴────────────┴────────────┴────────────┴────────────┘"
            ],
            "text/html": [
              "<div><style>\n",
              ".dataframe > thead > tr,\n",
              ".dataframe > tbody > tr {\n",
              "  text-align: right;\n",
              "  white-space: pre-wrap;\n",
              "}\n",
              "</style>\n",
              "<small>shape: (1_721, 16)</small><table border=\"1\" class=\"dataframe\"><thead><tr><th></th><th>precio</th><th>metros_totales</th><th>antiguedad</th><th>precio_terreno</th><th>metros_habitables</th><th>universitarios</th><th>dormitorios</th><th>baños</th><th>habitaciones</th><th>calefaccion</th><th>consumo_calefacion</th><th>desague</th><th>vistas_lago</th><th>nueva_construccion</th><th>aire_acondicionado</th></tr><tr><td>i64</td><td>i64</td><td>f64</td><td>bool</td><td>i64</td><td>i64</td><td>i64</td><td>i64</td><td>f64</td><td>i64</td><td>str</td><td>str</td><td>str</td><td>str</td><td>str</td><td>str</td></tr></thead><tbody><tr><td>0</td><td>132500</td><td>0.09</td><td>false</td><td>50000</td><td>906</td><td>35</td><td>2</td><td>1.0</td><td>5</td><td>&quot;electric&quot;</td><td>&quot;electric&quot;</td><td>&quot;septic&quot;</td><td>&quot;No&quot;</td><td>&quot;No&quot;</td><td>&quot;No&quot;</td></tr><tr><td>1</td><td>181115</td><td>0.92</td><td>false</td><td>22300</td><td>1953</td><td>51</td><td>3</td><td>2.5</td><td>6</td><td>&quot;hot water/steam&quot;</td><td>&quot;gas&quot;</td><td>&quot;septic&quot;</td><td>&quot;No&quot;</td><td>&quot;No&quot;</td><td>&quot;No&quot;</td></tr><tr><td>2</td><td>109000</td><td>0.19</td><td>true</td><td>7300</td><td>1944</td><td>51</td><td>4</td><td>1.0</td><td>8</td><td>&quot;hot water/steam&quot;</td><td>&quot;gas&quot;</td><td>&quot;public/commercial&quot;</td><td>&quot;No&quot;</td><td>&quot;No&quot;</td><td>&quot;No&quot;</td></tr><tr><td>3</td><td>155000</td><td>0.41</td><td>false</td><td>18700</td><td>1944</td><td>51</td><td>3</td><td>1.5</td><td>5</td><td>&quot;hot air&quot;</td><td>&quot;gas&quot;</td><td>&quot;septic&quot;</td><td>&quot;No&quot;</td><td>&quot;No&quot;</td><td>&quot;No&quot;</td></tr><tr><td>4</td><td>86060</td><td>0.11</td><td>false</td><td>15000</td><td>840</td><td>51</td><td>2</td><td>1.0</td><td>3</td><td>&quot;hot air&quot;</td><td>&quot;gas&quot;</td><td>&quot;public/commercial&quot;</td><td>&quot;No&quot;</td><td>&quot;Yes&quot;</td><td>&quot;Yes&quot;</td></tr><tr><td>&hellip;</td><td>&hellip;</td><td>&hellip;</td><td>&hellip;</td><td>&hellip;</td><td>&hellip;</td><td>&hellip;</td><td>&hellip;</td><td>&hellip;</td><td>&hellip;</td><td>&hellip;</td><td>&hellip;</td><td>&hellip;</td><td>&hellip;</td><td>&hellip;</td><td>&hellip;</td></tr><tr><td>1723</td><td>289000</td><td>0.38</td><td>false</td><td>24200</td><td>2310</td><td>61</td><td>5</td><td>2.5</td><td>11</td><td>&quot;hot water/steam&quot;</td><td>&quot;gas&quot;</td><td>&quot;public/commercial&quot;</td><td>&quot;No&quot;</td><td>&quot;No&quot;</td><td>&quot;No&quot;</td></tr><tr><td>1724</td><td>285000</td><td>0.94</td><td>false</td><td>36200</td><td>2564</td><td>61</td><td>4</td><td>2.5</td><td>11</td><td>&quot;hot water/steam&quot;</td><td>&quot;gas&quot;</td><td>&quot;public/commercial&quot;</td><td>&quot;No&quot;</td><td>&quot;No&quot;</td><td>&quot;No&quot;</td></tr><tr><td>1725</td><td>194900</td><td>0.39</td><td>false</td><td>20400</td><td>1099</td><td>51</td><td>2</td><td>1.0</td><td>3</td><td>&quot;hot air&quot;</td><td>&quot;gas&quot;</td><td>&quot;public/commercial&quot;</td><td>&quot;No&quot;</td><td>&quot;No&quot;</td><td>&quot;No&quot;</td></tr><tr><td>1726</td><td>125000</td><td>0.24</td><td>false</td><td>16800</td><td>1225</td><td>51</td><td>3</td><td>1.0</td><td>7</td><td>&quot;hot air&quot;</td><td>&quot;gas&quot;</td><td>&quot;public/commercial&quot;</td><td>&quot;No&quot;</td><td>&quot;No&quot;</td><td>&quot;No&quot;</td></tr><tr><td>1727</td><td>111300</td><td>0.59</td><td>true</td><td>26000</td><td>1959</td><td>51</td><td>3</td><td>1.0</td><td>6</td><td>&quot;hot air&quot;</td><td>&quot;gas&quot;</td><td>&quot;septic&quot;</td><td>&quot;No&quot;</td><td>&quot;No&quot;</td><td>&quot;No&quot;</td></tr></tbody></table></div>"
            ]
          },
          "metadata": {},
          "execution_count": 88
        }
      ]
    },
    {
      "cell_type": "code",
      "source": [
        "query"
      ],
      "metadata": {
        "colab": {
          "base_uri": "https://localhost:8080/",
          "height": 340
        },
        "id": "pXYKIMnMdMn-",
        "outputId": "0f097cf4-4ae4-4af3-960e-5f273f30fd16"
      },
      "execution_count": 87,
      "outputs": [
        {
          "output_type": "execute_result",
          "data": {
            "text/plain": [
              "<LazyFrame at 0x7F2F5A237880>"
            ],
            "text/html": [
              "<h4>NAIVE QUERY PLAN</h4><p>run <b>LazyFrame.show_graph()</b> to see the optimized version</p><?xml version=\"1.0\" encoding=\"UTF-8\" standalone=\"no\"?>\n",
              "<!DOCTYPE svg PUBLIC \"-//W3C//DTD SVG 1.1//EN\"\n",
              " \"http://www.w3.org/Graphics/SVG/1.1/DTD/svg11.dtd\">\n",
              "<!-- Generated by graphviz version 2.43.0 (0)\n",
              " -->\n",
              "<!-- Title: polars_query Pages: 1 -->\n",
              "<svg width=\"597pt\" height=\"190pt\"\n",
              " viewBox=\"0.00 0.00 597.00 190.00\" xmlns=\"http://www.w3.org/2000/svg\" xmlns:xlink=\"http://www.w3.org/1999/xlink\">\n",
              "<g id=\"graph0\" class=\"graph\" transform=\"scale(1 1) rotate(0) translate(4 186)\">\n",
              "<title>polars_query</title>\n",
              "<polygon fill=\"white\" stroke=\"transparent\" points=\"-4,4 -4,-186 593,-186 593,4 -4,4\"/>\n",
              "<!-- p1 -->\n",
              "<g id=\"node1\" class=\"node\">\n",
              "<title>p1</title>\n",
              "<polygon fill=\"none\" stroke=\"black\" points=\"412.5,-182 176.5,-182 176.5,-146 412.5,-146 412.5,-182\"/>\n",
              "<text text-anchor=\"middle\" x=\"294.5\" y=\"-160.3\" font-family=\"Times,serif\" font-size=\"14.00\">FILTER BY [(col(&quot;precio&quot;)) &gt; (50000)]</text>\n",
              "</g>\n",
              "<!-- p2 -->\n",
              "<g id=\"node2\" class=\"node\">\n",
              "<title>p2</title>\n",
              "<polygon fill=\"none\" stroke=\"black\" points=\"493.5,-110 95.5,-110 95.5,-74 493.5,-74 493.5,-110\"/>\n",
              "<text text-anchor=\"middle\" x=\"294.5\" y=\"-88.3\" font-family=\"Times,serif\" font-size=\"14.00\">WITH COLUMNS [[(col(&quot;antiguedad&quot;)) &gt; (60)].alias(&quot;antiguedad&quot;)]</text>\n",
              "</g>\n",
              "<!-- p1&#45;&#45;p2 -->\n",
              "<g id=\"edge1\" class=\"edge\">\n",
              "<title>p1&#45;&#45;p2</title>\n",
              "<path fill=\"none\" stroke=\"black\" d=\"M294.5,-145.7C294.5,-134.85 294.5,-120.92 294.5,-110.1\"/>\n",
              "</g>\n",
              "<!-- p3 -->\n",
              "<g id=\"node3\" class=\"node\">\n",
              "<title>p3</title>\n",
              "<polygon fill=\"none\" stroke=\"black\" points=\"589,-38 0,-38 0,0 589,0 589,-38\"/>\n",
              "<text text-anchor=\"middle\" x=\"294.5\" y=\"-22.8\" font-family=\"Times,serif\" font-size=\"14.00\">Csv SCAN [https://raw.githubusercontent.com/VINY2030/datasets/refs/heads/main/SaratogaHouses.csv]</text>\n",
              "<text text-anchor=\"middle\" x=\"294.5\" y=\"-7.8\" font-family=\"Times,serif\" font-size=\"14.00\">π */16;</text>\n",
              "</g>\n",
              "<!-- p2&#45;&#45;p3 -->\n",
              "<g id=\"edge2\" class=\"edge\">\n",
              "<title>p2&#45;&#45;p3</title>\n",
              "<path fill=\"none\" stroke=\"black\" d=\"M294.5,-73.81C294.5,-62.98 294.5,-49.01 294.5,-38.02\"/>\n",
              "</g>\n",
              "</g>\n",
              "</svg>\n"
            ]
          },
          "metadata": {},
          "execution_count": 87
        }
      ]
    },
    {
      "cell_type": "markdown",
      "source": [
        "###Con el método por defecto collect, Polars procesa todos sus datos como un solo lote. Esto significa que todos los datos deben caber en la memoria disponible en el punto de mayor uso de la memoria en la consulta."
      ],
      "metadata": {
        "id": "rc6Xj83Edmky"
      }
    },
    {
      "cell_type": "markdown",
      "source": [],
      "metadata": {
        "id": "U2J5kpHffM-n"
      }
    },
    {
      "cell_type": "markdown",
      "source": [
        "\n",
        "# **<font color=\"#07a8ed\">Ejecución en datos más grandes que la memoria**"
      ],
      "metadata": {
        "id": "qwdMq6-xfPne"
      }
    },
    {
      "cell_type": "markdown",
      "source": [
        "\n",
        "##Si nuestros datos requieren más memoria de la que tenemos disponible, es posible que Polars pueda procesar los datos en lotes (batches en inglés) utilizando el modo de streaming. Para usar el modo streaming simplemente pasamos el argumento streaming=True a collect."
      ],
      "metadata": {
        "id": "JaaJeCmifHnw"
      }
    },
    {
      "cell_type": "code",
      "source": [
        "query = (\n",
        "    pl.scan_csv('https://raw.githubusercontent.com/VINY2030/datasets/refs/heads/main/SaratogaHouses.csv')\n",
        "    .with_columns(antiguedad=(pl.col('antiguedad') > 60))\n",
        "    .filter(pl.col('precio') > 50000) # Use pl.col aqui para su consistencia\n",
        "    .collect(streaming=True)\n",
        ")"
      ],
      "metadata": {
        "id": "I9HaZdvqffVI"
      },
      "execution_count": 91,
      "outputs": []
    },
    {
      "cell_type": "code",
      "source": [
        "query"
      ],
      "metadata": {
        "colab": {
          "base_uri": "https://localhost:8080/",
          "height": 532
        },
        "id": "P2dhRgtQfkMA",
        "outputId": "4369ece1-7b43-43f4-d277-1255877c709e"
      },
      "execution_count": 90,
      "outputs": [
        {
          "output_type": "execute_result",
          "data": {
            "text/plain": [
              "shape: (1_721, 16)\n",
              "┌──────┬────────┬─────────────┬────────────┬───┬────────────┬────────────┬────────────┬────────────┐\n",
              "│      ┆ precio ┆ metros_tota ┆ antiguedad ┆ … ┆ desague    ┆ vistas_lag ┆ nueva_cons ┆ aire_acond │\n",
              "│ ---  ┆ ---    ┆ les         ┆ ---        ┆   ┆ ---        ┆ o          ┆ truccion   ┆ icionado   │\n",
              "│ i64  ┆ i64    ┆ ---         ┆ bool       ┆   ┆ str        ┆ ---        ┆ ---        ┆ ---        │\n",
              "│      ┆        ┆ f64         ┆            ┆   ┆            ┆ str        ┆ str        ┆ str        │\n",
              "╞══════╪════════╪═════════════╪════════════╪═══╪════════════╪════════════╪════════════╪════════════╡\n",
              "│ 0    ┆ 132500 ┆ 0.09        ┆ false      ┆ … ┆ septic     ┆ No         ┆ No         ┆ No         │\n",
              "│ 1    ┆ 181115 ┆ 0.92        ┆ false      ┆ … ┆ septic     ┆ No         ┆ No         ┆ No         │\n",
              "│ 2    ┆ 109000 ┆ 0.19        ┆ true       ┆ … ┆ public/com ┆ No         ┆ No         ┆ No         │\n",
              "│      ┆        ┆             ┆            ┆   ┆ mercial    ┆            ┆            ┆            │\n",
              "│ 3    ┆ 155000 ┆ 0.41        ┆ false      ┆ … ┆ septic     ┆ No         ┆ No         ┆ No         │\n",
              "│ 4    ┆ 86060  ┆ 0.11        ┆ false      ┆ … ┆ public/com ┆ No         ┆ Yes        ┆ Yes        │\n",
              "│      ┆        ┆             ┆            ┆   ┆ mercial    ┆            ┆            ┆            │\n",
              "│ …    ┆ …      ┆ …           ┆ …          ┆ … ┆ …          ┆ …          ┆ …          ┆ …          │\n",
              "│ 1723 ┆ 289000 ┆ 0.38        ┆ false      ┆ … ┆ public/com ┆ No         ┆ No         ┆ No         │\n",
              "│      ┆        ┆             ┆            ┆   ┆ mercial    ┆            ┆            ┆            │\n",
              "│ 1724 ┆ 285000 ┆ 0.94        ┆ false      ┆ … ┆ public/com ┆ No         ┆ No         ┆ No         │\n",
              "│      ┆        ┆             ┆            ┆   ┆ mercial    ┆            ┆            ┆            │\n",
              "│ 1725 ┆ 194900 ┆ 0.39        ┆ false      ┆ … ┆ public/com ┆ No         ┆ No         ┆ No         │\n",
              "│      ┆        ┆             ┆            ┆   ┆ mercial    ┆            ┆            ┆            │\n",
              "│ 1726 ┆ 125000 ┆ 0.24        ┆ false      ┆ … ┆ public/com ┆ No         ┆ No         ┆ No         │\n",
              "│      ┆        ┆             ┆            ┆   ┆ mercial    ┆            ┆            ┆            │\n",
              "│ 1727 ┆ 111300 ┆ 0.59        ┆ true       ┆ … ┆ septic     ┆ No         ┆ No         ┆ No         │\n",
              "└──────┴────────┴─────────────┴────────────┴───┴────────────┴────────────┴────────────┴────────────┘"
            ],
            "text/html": [
              "<div><style>\n",
              ".dataframe > thead > tr,\n",
              ".dataframe > tbody > tr {\n",
              "  text-align: right;\n",
              "  white-space: pre-wrap;\n",
              "}\n",
              "</style>\n",
              "<small>shape: (1_721, 16)</small><table border=\"1\" class=\"dataframe\"><thead><tr><th></th><th>precio</th><th>metros_totales</th><th>antiguedad</th><th>precio_terreno</th><th>metros_habitables</th><th>universitarios</th><th>dormitorios</th><th>baños</th><th>habitaciones</th><th>calefaccion</th><th>consumo_calefacion</th><th>desague</th><th>vistas_lago</th><th>nueva_construccion</th><th>aire_acondicionado</th></tr><tr><td>i64</td><td>i64</td><td>f64</td><td>bool</td><td>i64</td><td>i64</td><td>i64</td><td>i64</td><td>f64</td><td>i64</td><td>str</td><td>str</td><td>str</td><td>str</td><td>str</td><td>str</td></tr></thead><tbody><tr><td>0</td><td>132500</td><td>0.09</td><td>false</td><td>50000</td><td>906</td><td>35</td><td>2</td><td>1.0</td><td>5</td><td>&quot;electric&quot;</td><td>&quot;electric&quot;</td><td>&quot;septic&quot;</td><td>&quot;No&quot;</td><td>&quot;No&quot;</td><td>&quot;No&quot;</td></tr><tr><td>1</td><td>181115</td><td>0.92</td><td>false</td><td>22300</td><td>1953</td><td>51</td><td>3</td><td>2.5</td><td>6</td><td>&quot;hot water/steam&quot;</td><td>&quot;gas&quot;</td><td>&quot;septic&quot;</td><td>&quot;No&quot;</td><td>&quot;No&quot;</td><td>&quot;No&quot;</td></tr><tr><td>2</td><td>109000</td><td>0.19</td><td>true</td><td>7300</td><td>1944</td><td>51</td><td>4</td><td>1.0</td><td>8</td><td>&quot;hot water/steam&quot;</td><td>&quot;gas&quot;</td><td>&quot;public/commercial&quot;</td><td>&quot;No&quot;</td><td>&quot;No&quot;</td><td>&quot;No&quot;</td></tr><tr><td>3</td><td>155000</td><td>0.41</td><td>false</td><td>18700</td><td>1944</td><td>51</td><td>3</td><td>1.5</td><td>5</td><td>&quot;hot air&quot;</td><td>&quot;gas&quot;</td><td>&quot;septic&quot;</td><td>&quot;No&quot;</td><td>&quot;No&quot;</td><td>&quot;No&quot;</td></tr><tr><td>4</td><td>86060</td><td>0.11</td><td>false</td><td>15000</td><td>840</td><td>51</td><td>2</td><td>1.0</td><td>3</td><td>&quot;hot air&quot;</td><td>&quot;gas&quot;</td><td>&quot;public/commercial&quot;</td><td>&quot;No&quot;</td><td>&quot;Yes&quot;</td><td>&quot;Yes&quot;</td></tr><tr><td>&hellip;</td><td>&hellip;</td><td>&hellip;</td><td>&hellip;</td><td>&hellip;</td><td>&hellip;</td><td>&hellip;</td><td>&hellip;</td><td>&hellip;</td><td>&hellip;</td><td>&hellip;</td><td>&hellip;</td><td>&hellip;</td><td>&hellip;</td><td>&hellip;</td><td>&hellip;</td></tr><tr><td>1723</td><td>289000</td><td>0.38</td><td>false</td><td>24200</td><td>2310</td><td>61</td><td>5</td><td>2.5</td><td>11</td><td>&quot;hot water/steam&quot;</td><td>&quot;gas&quot;</td><td>&quot;public/commercial&quot;</td><td>&quot;No&quot;</td><td>&quot;No&quot;</td><td>&quot;No&quot;</td></tr><tr><td>1724</td><td>285000</td><td>0.94</td><td>false</td><td>36200</td><td>2564</td><td>61</td><td>4</td><td>2.5</td><td>11</td><td>&quot;hot water/steam&quot;</td><td>&quot;gas&quot;</td><td>&quot;public/commercial&quot;</td><td>&quot;No&quot;</td><td>&quot;No&quot;</td><td>&quot;No&quot;</td></tr><tr><td>1725</td><td>194900</td><td>0.39</td><td>false</td><td>20400</td><td>1099</td><td>51</td><td>2</td><td>1.0</td><td>3</td><td>&quot;hot air&quot;</td><td>&quot;gas&quot;</td><td>&quot;public/commercial&quot;</td><td>&quot;No&quot;</td><td>&quot;No&quot;</td><td>&quot;No&quot;</td></tr><tr><td>1726</td><td>125000</td><td>0.24</td><td>false</td><td>16800</td><td>1225</td><td>51</td><td>3</td><td>1.0</td><td>7</td><td>&quot;hot air&quot;</td><td>&quot;gas&quot;</td><td>&quot;public/commercial&quot;</td><td>&quot;No&quot;</td><td>&quot;No&quot;</td><td>&quot;No&quot;</td></tr><tr><td>1727</td><td>111300</td><td>0.59</td><td>true</td><td>26000</td><td>1959</td><td>51</td><td>3</td><td>1.0</td><td>6</td><td>&quot;hot air&quot;</td><td>&quot;gas&quot;</td><td>&quot;septic&quot;</td><td>&quot;No&quot;</td><td>&quot;No&quot;</td><td>&quot;No&quot;</td></tr></tbody></table></div>"
            ]
          },
          "metadata": {},
          "execution_count": 90
        }
      ]
    },
    {
      "cell_type": "markdown",
      "source": [
        "\n",
        "# **<font color=\"#07a8ed\">Ejecución en un conjunto de datos parcial**"
      ],
      "metadata": {
        "id": "KxDuK4JYfxIG"
      }
    },
    {
      "cell_type": "markdown",
      "source": [
        "###Mientras escribimos, optimizamos o verificamos nuestra consulta en un conjunto de datos grande, consultar todos los datos disponibles puede provocar un proceso de desarrollo lento.\n",
        "\n",
        "##En su lugar, podemos ejecutar la consulta con el método .fetch. El método .fetch toma un parámetro n_rows e intenta \"obtener\" (fetch) esa cantidad de filas en la fuente de datos. Sin embargo, no se puede garantizar el número de filas, ya que la API lazy no cuenta cuántas filas hay en cada etapa de la consulta."
      ],
      "metadata": {
        "id": "Bmuzwxcuf2p4"
      }
    },
    {
      "cell_type": "code",
      "source": [
        "query = (\n",
        "    pl.scan_csv('https://raw.githubusercontent.com/VINY2030/datasets/refs/heads/main/SaratogaHouses.csv')\n",
        "    .with_columns(antiguedad=(pl.col('antiguedad') > 60))\n",
        "    .filter(pl.col('precio') > 50000) # Use pl.col aqui para su consistencia\n",
        "\n",
        ")\n",
        "query.fetch(n_rows=20)"
      ],
      "metadata": {
        "colab": {
          "base_uri": "https://localhost:8080/",
          "height": 567
        },
        "id": "FeirvYkzf9I3",
        "outputId": "f9b73393-cb1d-4114-97b0-a4db14b3ef98"
      },
      "execution_count": 93,
      "outputs": [
        {
          "output_type": "stream",
          "name": "stderr",
          "text": [
            "<ipython-input-93-a0d3ed8aaf1d>:7: DeprecationWarning: `LazyFrame.fetch` is deprecated. `LazyFrame.fetch` is deprecated; use `LazyFrame.collect` instead, in conjunction with a call to `head`.\n",
            "  query.fetch(n_rows=20)\n"
          ]
        },
        {
          "output_type": "execute_result",
          "data": {
            "text/plain": [
              "shape: (20, 16)\n",
              "┌─────┬────────┬─────────────┬────────────┬───┬─────────────┬────────────┬────────────┬────────────┐\n",
              "│     ┆ precio ┆ metros_tota ┆ antiguedad ┆ … ┆ desague     ┆ vistas_lag ┆ nueva_cons ┆ aire_acond │\n",
              "│ --- ┆ ---    ┆ les         ┆ ---        ┆   ┆ ---         ┆ o          ┆ truccion   ┆ icionado   │\n",
              "│ i64 ┆ i64    ┆ ---         ┆ bool       ┆   ┆ str         ┆ ---        ┆ ---        ┆ ---        │\n",
              "│     ┆        ┆ f64         ┆            ┆   ┆             ┆ str        ┆ str        ┆ str        │\n",
              "╞═════╪════════╪═════════════╪════════════╪═══╪═════════════╪════════════╪════════════╪════════════╡\n",
              "│ 0   ┆ 132500 ┆ 0.09        ┆ false      ┆ … ┆ septic      ┆ No         ┆ No         ┆ No         │\n",
              "│ 1   ┆ 181115 ┆ 0.92        ┆ false      ┆ … ┆ septic      ┆ No         ┆ No         ┆ No         │\n",
              "│ 2   ┆ 109000 ┆ 0.19        ┆ true       ┆ … ┆ public/comm ┆ No         ┆ No         ┆ No         │\n",
              "│     ┆        ┆             ┆            ┆   ┆ ercial      ┆            ┆            ┆            │\n",
              "│ 3   ┆ 155000 ┆ 0.41        ┆ false      ┆ … ┆ septic      ┆ No         ┆ No         ┆ No         │\n",
              "│ 4   ┆ 86060  ┆ 0.11        ┆ false      ┆ … ┆ public/comm ┆ No         ┆ Yes        ┆ Yes        │\n",
              "│     ┆        ┆             ┆            ┆   ┆ ercial      ┆            ┆            ┆            │\n",
              "│ …   ┆ …      ┆ …           ┆ …          ┆ … ┆ …           ┆ …          ┆ …          ┆ …          │\n",
              "│ 15  ┆ 89900  ┆ 0.0         ┆ true       ┆ … ┆ public/comm ┆ No         ┆ No         ┆ No         │\n",
              "│     ┆        ┆             ┆            ┆   ┆ ercial      ┆            ┆            ┆            │\n",
              "│ 16  ┆ 155000 ┆ 0.13        ┆ false      ┆ … ┆ septic      ┆ No         ┆ No         ┆ No         │\n",
              "│ 17  ┆ 253750 ┆ 2.0         ┆ false      ┆ … ┆ none        ┆ No         ┆ No         ┆ Yes        │\n",
              "│ 18  ┆ 60000  ┆ 0.21        ┆ true       ┆ … ┆ septic      ┆ No         ┆ No         ┆ No         │\n",
              "│ 19  ┆ 87500  ┆ 0.88        ┆ false      ┆ … ┆ septic      ┆ No         ┆ No         ┆ No         │\n",
              "└─────┴────────┴─────────────┴────────────┴───┴─────────────┴────────────┴────────────┴────────────┘"
            ],
            "text/html": [
              "<div><style>\n",
              ".dataframe > thead > tr,\n",
              ".dataframe > tbody > tr {\n",
              "  text-align: right;\n",
              "  white-space: pre-wrap;\n",
              "}\n",
              "</style>\n",
              "<small>shape: (20, 16)</small><table border=\"1\" class=\"dataframe\"><thead><tr><th></th><th>precio</th><th>metros_totales</th><th>antiguedad</th><th>precio_terreno</th><th>metros_habitables</th><th>universitarios</th><th>dormitorios</th><th>baños</th><th>habitaciones</th><th>calefaccion</th><th>consumo_calefacion</th><th>desague</th><th>vistas_lago</th><th>nueva_construccion</th><th>aire_acondicionado</th></tr><tr><td>i64</td><td>i64</td><td>f64</td><td>bool</td><td>i64</td><td>i64</td><td>i64</td><td>i64</td><td>f64</td><td>i64</td><td>str</td><td>str</td><td>str</td><td>str</td><td>str</td><td>str</td></tr></thead><tbody><tr><td>0</td><td>132500</td><td>0.09</td><td>false</td><td>50000</td><td>906</td><td>35</td><td>2</td><td>1.0</td><td>5</td><td>&quot;electric&quot;</td><td>&quot;electric&quot;</td><td>&quot;septic&quot;</td><td>&quot;No&quot;</td><td>&quot;No&quot;</td><td>&quot;No&quot;</td></tr><tr><td>1</td><td>181115</td><td>0.92</td><td>false</td><td>22300</td><td>1953</td><td>51</td><td>3</td><td>2.5</td><td>6</td><td>&quot;hot water/steam&quot;</td><td>&quot;gas&quot;</td><td>&quot;septic&quot;</td><td>&quot;No&quot;</td><td>&quot;No&quot;</td><td>&quot;No&quot;</td></tr><tr><td>2</td><td>109000</td><td>0.19</td><td>true</td><td>7300</td><td>1944</td><td>51</td><td>4</td><td>1.0</td><td>8</td><td>&quot;hot water/steam&quot;</td><td>&quot;gas&quot;</td><td>&quot;public/commercial&quot;</td><td>&quot;No&quot;</td><td>&quot;No&quot;</td><td>&quot;No&quot;</td></tr><tr><td>3</td><td>155000</td><td>0.41</td><td>false</td><td>18700</td><td>1944</td><td>51</td><td>3</td><td>1.5</td><td>5</td><td>&quot;hot air&quot;</td><td>&quot;gas&quot;</td><td>&quot;septic&quot;</td><td>&quot;No&quot;</td><td>&quot;No&quot;</td><td>&quot;No&quot;</td></tr><tr><td>4</td><td>86060</td><td>0.11</td><td>false</td><td>15000</td><td>840</td><td>51</td><td>2</td><td>1.0</td><td>3</td><td>&quot;hot air&quot;</td><td>&quot;gas&quot;</td><td>&quot;public/commercial&quot;</td><td>&quot;No&quot;</td><td>&quot;Yes&quot;</td><td>&quot;Yes&quot;</td></tr><tr><td>&hellip;</td><td>&hellip;</td><td>&hellip;</td><td>&hellip;</td><td>&hellip;</td><td>&hellip;</td><td>&hellip;</td><td>&hellip;</td><td>&hellip;</td><td>&hellip;</td><td>&hellip;</td><td>&hellip;</td><td>&hellip;</td><td>&hellip;</td><td>&hellip;</td><td>&hellip;</td></tr><tr><td>15</td><td>89900</td><td>0.0</td><td>true</td><td>2500</td><td>936</td><td>57</td><td>3</td><td>1.0</td><td>4</td><td>&quot;hot water/steam&quot;</td><td>&quot;gas&quot;</td><td>&quot;public/commercial&quot;</td><td>&quot;No&quot;</td><td>&quot;No&quot;</td><td>&quot;No&quot;</td></tr><tr><td>16</td><td>155000</td><td>0.13</td><td>false</td><td>300</td><td>1300</td><td>41</td><td>3</td><td>1.5</td><td>7</td><td>&quot;hot air&quot;</td><td>&quot;oil&quot;</td><td>&quot;septic&quot;</td><td>&quot;No&quot;</td><td>&quot;No&quot;</td><td>&quot;No&quot;</td></tr><tr><td>17</td><td>253750</td><td>2.0</td><td>false</td><td>49800</td><td>2816</td><td>71</td><td>4</td><td>2.5</td><td>12</td><td>&quot;hot air&quot;</td><td>&quot;gas&quot;</td><td>&quot;none&quot;</td><td>&quot;No&quot;</td><td>&quot;No&quot;</td><td>&quot;Yes&quot;</td></tr><tr><td>18</td><td>60000</td><td>0.21</td><td>true</td><td>8500</td><td>924</td><td>35</td><td>2</td><td>1.0</td><td>6</td><td>&quot;hot water/steam&quot;</td><td>&quot;oil&quot;</td><td>&quot;septic&quot;</td><td>&quot;No&quot;</td><td>&quot;No&quot;</td><td>&quot;No&quot;</td></tr><tr><td>19</td><td>87500</td><td>0.88</td><td>false</td><td>19400</td><td>1092</td><td>35</td><td>3</td><td>1.0</td><td>6</td><td>&quot;hot air&quot;</td><td>&quot;oil&quot;</td><td>&quot;septic&quot;</td><td>&quot;No&quot;</td><td>&quot;No&quot;</td><td>&quot;No&quot;</td></tr></tbody></table></div>"
            ]
          },
          "metadata": {},
          "execution_count": 93
        }
      ]
    }
  ]
}