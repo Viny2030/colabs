{
  "nbformat": 4,
  "nbformat_minor": 0,
  "metadata": {
    "colab": {
      "provenance": [],
      "gpuType": "T4",
      "include_colab_link": true
    },
    "kernelspec": {
      "name": "python3",
      "display_name": "Python 3"
    },
    "language_info": {
      "name": "python"
    },
    "accelerator": "GPU"
  },
  "cells": [
    {
      "cell_type": "markdown",
      "metadata": {
        "id": "view-in-github",
        "colab_type": "text"
      },
      "source": [
        "<a href=\"https://colab.research.google.com/github/Viny2030/colabs/blob/main/Lazy_Frames.ipynb\" target=\"_parent\"><img src=\"https://colab.research.google.com/assets/colab-badge.svg\" alt=\"Open In Colab\"/></a>"
      ]
    },
    {
      "cell_type": "markdown",
      "source": [
        "\n",
        "# **<font color=\"#07a8ed\">API lazy VS API eager**"
      ],
      "metadata": {
        "id": "5z0PDPHyMfdB"
      }
    },
    {
      "cell_type": "code",
      "source": [
        "!pip install polars -U"
      ],
      "metadata": {
        "colab": {
          "base_uri": "https://localhost:8080/"
        },
        "id": "-SFYXyQfoa4Z",
        "outputId": "ead4a704-d70d-4dee-b61e-ccf1b45cf84d"
      },
      "execution_count": 1,
      "outputs": [
        {
          "output_type": "stream",
          "name": "stdout",
          "text": [
            "Requirement already satisfied: polars in /usr/local/lib/python3.10/dist-packages (1.9.0)\n",
            "Collecting polars\n",
            "  Downloading polars-1.12.0-cp39-abi3-manylinux_2_17_x86_64.manylinux2014_x86_64.whl.metadata (14 kB)\n",
            "Downloading polars-1.12.0-cp39-abi3-manylinux_2_17_x86_64.manylinux2014_x86_64.whl (34.1 MB)\n",
            "\u001b[2K   \u001b[90m━━━━━━━━━━━━━━━━━━━━━━━━━━━━━━━━━━━━━━━━\u001b[0m \u001b[32m34.1/34.1 MB\u001b[0m \u001b[31m44.6 MB/s\u001b[0m eta \u001b[36m0:00:00\u001b[0m\n",
            "\u001b[?25hInstalling collected packages: polars\n",
            "  Attempting uninstall: polars\n",
            "    Found existing installation: polars 1.9.0\n",
            "    Uninstalling polars-1.9.0:\n",
            "      Successfully uninstalled polars-1.9.0\n",
            "Successfully installed polars-1.12.0\n"
          ]
        }
      ]
    },
    {
      "cell_type": "code",
      "source": [
        "!pip install polars[gpu] --extra-index-url=https://pypi.nvidia.com"
      ],
      "metadata": {
        "colab": {
          "base_uri": "https://localhost:8080/"
        },
        "id": "9LLjIuAyoma8",
        "outputId": "f8d53d88-9e29-4347-8cf4-4db130446993"
      },
      "execution_count": null,
      "outputs": [
        {
          "output_type": "stream",
          "name": "stdout",
          "text": [
            "Looking in indexes: https://pypi.org/simple, https://pypi.nvidia.com\n",
            "Requirement already satisfied: polars[gpu] in /usr/local/lib/python3.10/dist-packages (1.12.0)\n",
            "\u001b[33mWARNING: Skipping page https://pypi.nvidia.com/cudf-polars-cu12/ because the GET request got Content-Type: public, must-revalidate, proxy-revalidate, max-age=0. The only supported Content-Types are application/vnd.pypi.simple.v1+json, application/vnd.pypi.simple.v1+html, and text/html\u001b[0m\u001b[33m\n",
            "\u001b[0mCollecting cudf-polars-cu12 (from polars[gpu])\n",
            "  Downloading cudf_polars_cu12-24.10.1.tar.gz (2.2 kB)\n",
            "  Installing build dependencies ... \u001b[?25l\u001b[?25hdone\n",
            "  Getting requirements to build wheel ... \u001b[?25l\u001b[?25hdone\n",
            "  Preparing metadata (pyproject.toml) ... \u001b[?25l\u001b[?25hdone\n",
            "INFO: pip is looking at multiple versions of cudf-polars-cu12 to determine which version is compatible with other requirements. This could take a while.\n",
            "Collecting polars[gpu]\n",
            "  Using cached polars-1.12.0-cp39-abi3-manylinux_2_17_x86_64.manylinux2014_x86_64.whl.metadata (14 kB)\n",
            "  Downloading polars-1.11.0-cp39-abi3-manylinux_2_17_x86_64.manylinux2014_x86_64.whl.metadata (14 kB)\n",
            "  Downloading polars-1.10.0-cp39-abi3-manylinux_2_17_x86_64.manylinux2014_x86_64.whl.metadata (14 kB)\n",
            "  Downloading polars-1.9.0-cp38-abi3-manylinux_2_17_x86_64.manylinux2014_x86_64.whl.metadata (14 kB)\n",
            "  Downloading polars-1.8.2-cp38-abi3-manylinux_2_17_x86_64.manylinux2014_x86_64.whl.metadata (14 kB)\n",
            "Requirement already satisfied: pylibcudf-cu12==24.10.* in /usr/local/lib/python3.10/dist-packages (from cudf-polars-cu12->polars[gpu]) (24.10.1)\n",
            "Requirement already satisfied: cuda-python<13.0a0,>=12.0 in /usr/local/lib/python3.10/dist-packages (from pylibcudf-cu12==24.10.*->cudf-polars-cu12->polars[gpu]) (12.2.1)\n",
            "Requirement already satisfied: libcudf-cu12==24.10.* in /usr/local/lib/python3.10/dist-packages (from pylibcudf-cu12==24.10.*->cudf-polars-cu12->polars[gpu]) (24.10.1)\n",
            "Requirement already satisfied: nvtx>=0.2.1 in /usr/local/lib/python3.10/dist-packages (from pylibcudf-cu12==24.10.*->cudf-polars-cu12->polars[gpu]) (0.2.10)\n",
            "Requirement already satisfied: packaging in /usr/local/lib/python3.10/dist-packages (from pylibcudf-cu12==24.10.*->cudf-polars-cu12->polars[gpu]) (24.1)\n",
            "Requirement already satisfied: pyarrow<18.0.0a0,>=14.0.0 in /usr/local/lib/python3.10/dist-packages (from pylibcudf-cu12==24.10.*->cudf-polars-cu12->polars[gpu]) (17.0.0)\n",
            "Requirement already satisfied: rmm-cu12==24.10.* in /usr/local/lib/python3.10/dist-packages (from pylibcudf-cu12==24.10.*->cudf-polars-cu12->polars[gpu]) (24.10.0)\n",
            "Requirement already satisfied: typing_extensions>=4.0.0 in /usr/local/lib/python3.10/dist-packages (from pylibcudf-cu12==24.10.*->cudf-polars-cu12->polars[gpu]) (4.12.2)\n",
            "Requirement already satisfied: numba>=0.57 in /usr/local/lib/python3.10/dist-packages (from rmm-cu12==24.10.*->pylibcudf-cu12==24.10.*->cudf-polars-cu12->polars[gpu]) (0.60.0)\n",
            "Requirement already satisfied: numpy<3.0a0,>=1.23 in /usr/local/lib/python3.10/dist-packages (from rmm-cu12==24.10.*->pylibcudf-cu12==24.10.*->cudf-polars-cu12->polars[gpu]) (1.26.4)\n",
            "Requirement already satisfied: cython in /usr/local/lib/python3.10/dist-packages (from cuda-python<13.0a0,>=12.0->pylibcudf-cu12==24.10.*->cudf-polars-cu12->polars[gpu]) (3.0.11)\n",
            "Requirement already satisfied: llvmlite<0.44,>=0.43.0dev0 in /usr/local/lib/python3.10/dist-packages (from numba>=0.57->rmm-cu12==24.10.*->pylibcudf-cu12==24.10.*->cudf-polars-cu12->polars[gpu]) (0.43.0)\n",
            "Downloading polars-1.8.2-cp38-abi3-manylinux_2_17_x86_64.manylinux2014_x86_64.whl (32.5 MB)\n",
            "\u001b[2K   \u001b[90m━━━━━━━━━━━━━━━━━━━━━━━━━━━━━━━━━━━━━━━━\u001b[0m \u001b[32m32.5/32.5 MB\u001b[0m \u001b[31m48.7 MB/s\u001b[0m eta \u001b[36m0:00:00\u001b[0m\n",
            "\u001b[?25hBuilding wheels for collected packages: cudf-polars-cu12\n",
            "  Building wheel for cudf-polars-cu12 (pyproject.toml) ... \u001b[?25l\u001b[?25hdone\n",
            "  Created wheel for cudf-polars-cu12: filename=cudf_polars_cu12-24.10.1-py3-none-any.whl size=53357 sha256=3aeb03d20bbf944106c86e22714437316148c86f659d9e691bf2a11cccbae8f5\n",
            "  Stored in directory: /root/.cache/pip/wheels/0b/60/a0/e6aa0053e52d34019bf87cb78f0215e71499afd0ca060b43f5\n",
            "Successfully built cudf-polars-cu12\n",
            "Installing collected packages: polars, cudf-polars-cu12\n",
            "  Attempting uninstall: polars\n",
            "    Found existing installation: polars 1.12.0\n",
            "    Uninstalling polars-1.12.0:\n",
            "      Successfully uninstalled polars-1.12.0\n",
            "Successfully installed cudf-polars-cu12-24.10.1 polars-1.8.2\n"
          ]
        }
      ]
    },
    {
      "cell_type": "code",
      "source": [
        "import polars as pl"
      ],
      "metadata": {
        "id": "6r1Tn0JH_9ME"
      },
      "execution_count": 2,
      "outputs": []
    },
    {
      "cell_type": "code",
      "execution_count": 3,
      "metadata": {
        "id": "wPV6Q0Py_53b"
      },
      "outputs": [],
      "source": [
        "import polars as col"
      ]
    },
    {
      "cell_type": "code",
      "source": [
        "%%time\n",
        "casas = pl.read_csv(\"https://raw.githubusercontent.com/VINY2030/datasets/refs/heads/main/SaratogaHouses.csv\")\n",
        "casas"
      ],
      "metadata": {
        "colab": {
          "base_uri": "https://localhost:8080/",
          "height": 568
        },
        "id": "XC8fQkmWAF69",
        "outputId": "91bd123d-0e19-4f52-edca-25be311509e2"
      },
      "execution_count": 4,
      "outputs": [
        {
          "output_type": "stream",
          "name": "stdout",
          "text": [
            "CPU times: user 17.3 ms, sys: 5.54 ms, total: 22.9 ms\n",
            "Wall time: 282 ms\n"
          ]
        },
        {
          "output_type": "execute_result",
          "data": {
            "text/plain": [
              "shape: (1_728, 16)\n",
              "┌──────┬────────┬─────────────┬────────────┬───┬────────────┬────────────┬────────────┬────────────┐\n",
              "│      ┆ precio ┆ metros_tota ┆ antiguedad ┆ … ┆ desague    ┆ vistas_lag ┆ nueva_cons ┆ aire_acond │\n",
              "│ ---  ┆ ---    ┆ les         ┆ ---        ┆   ┆ ---        ┆ o          ┆ truccion   ┆ icionado   │\n",
              "│ i64  ┆ i64    ┆ ---         ┆ i64        ┆   ┆ str        ┆ ---        ┆ ---        ┆ ---        │\n",
              "│      ┆        ┆ f64         ┆            ┆   ┆            ┆ str        ┆ str        ┆ str        │\n",
              "╞══════╪════════╪═════════════╪════════════╪═══╪════════════╪════════════╪════════════╪════════════╡\n",
              "│ 0    ┆ 132500 ┆ 0.09        ┆ 42         ┆ … ┆ septic     ┆ No         ┆ No         ┆ No         │\n",
              "│ 1    ┆ 181115 ┆ 0.92        ┆ 0          ┆ … ┆ septic     ┆ No         ┆ No         ┆ No         │\n",
              "│ 2    ┆ 109000 ┆ 0.19        ┆ 133        ┆ … ┆ public/com ┆ No         ┆ No         ┆ No         │\n",
              "│      ┆        ┆             ┆            ┆   ┆ mercial    ┆            ┆            ┆            │\n",
              "│ 3    ┆ 155000 ┆ 0.41        ┆ 13         ┆ … ┆ septic     ┆ No         ┆ No         ┆ No         │\n",
              "│ 4    ┆ 86060  ┆ 0.11        ┆ 0          ┆ … ┆ public/com ┆ No         ┆ Yes        ┆ Yes        │\n",
              "│      ┆        ┆             ┆            ┆   ┆ mercial    ┆            ┆            ┆            │\n",
              "│ …    ┆ …      ┆ …           ┆ …          ┆ … ┆ …          ┆ …          ┆ …          ┆ …          │\n",
              "│ 1723 ┆ 289000 ┆ 0.38        ┆ 32         ┆ … ┆ public/com ┆ No         ┆ No         ┆ No         │\n",
              "│      ┆        ┆             ┆            ┆   ┆ mercial    ┆            ┆            ┆            │\n",
              "│ 1724 ┆ 285000 ┆ 0.94        ┆ 37         ┆ … ┆ public/com ┆ No         ┆ No         ┆ No         │\n",
              "│      ┆        ┆             ┆            ┆   ┆ mercial    ┆            ┆            ┆            │\n",
              "│ 1725 ┆ 194900 ┆ 0.39        ┆ 9          ┆ … ┆ public/com ┆ No         ┆ No         ┆ No         │\n",
              "│      ┆        ┆             ┆            ┆   ┆ mercial    ┆            ┆            ┆            │\n",
              "│ 1726 ┆ 125000 ┆ 0.24        ┆ 48         ┆ … ┆ public/com ┆ No         ┆ No         ┆ No         │\n",
              "│      ┆        ┆             ┆            ┆   ┆ mercial    ┆            ┆            ┆            │\n",
              "│ 1727 ┆ 111300 ┆ 0.59        ┆ 86         ┆ … ┆ septic     ┆ No         ┆ No         ┆ No         │\n",
              "└──────┴────────┴─────────────┴────────────┴───┴────────────┴────────────┴────────────┴────────────┘"
            ],
            "text/html": [
              "<div><style>\n",
              ".dataframe > thead > tr,\n",
              ".dataframe > tbody > tr {\n",
              "  text-align: right;\n",
              "  white-space: pre-wrap;\n",
              "}\n",
              "</style>\n",
              "<small>shape: (1_728, 16)</small><table border=\"1\" class=\"dataframe\"><thead><tr><th></th><th>precio</th><th>metros_totales</th><th>antiguedad</th><th>precio_terreno</th><th>metros_habitables</th><th>universitarios</th><th>dormitorios</th><th>baños</th><th>habitaciones</th><th>calefaccion</th><th>consumo_calefacion</th><th>desague</th><th>vistas_lago</th><th>nueva_construccion</th><th>aire_acondicionado</th></tr><tr><td>i64</td><td>i64</td><td>f64</td><td>i64</td><td>i64</td><td>i64</td><td>i64</td><td>i64</td><td>f64</td><td>i64</td><td>str</td><td>str</td><td>str</td><td>str</td><td>str</td><td>str</td></tr></thead><tbody><tr><td>0</td><td>132500</td><td>0.09</td><td>42</td><td>50000</td><td>906</td><td>35</td><td>2</td><td>1.0</td><td>5</td><td>&quot;electric&quot;</td><td>&quot;electric&quot;</td><td>&quot;septic&quot;</td><td>&quot;No&quot;</td><td>&quot;No&quot;</td><td>&quot;No&quot;</td></tr><tr><td>1</td><td>181115</td><td>0.92</td><td>0</td><td>22300</td><td>1953</td><td>51</td><td>3</td><td>2.5</td><td>6</td><td>&quot;hot water/steam&quot;</td><td>&quot;gas&quot;</td><td>&quot;septic&quot;</td><td>&quot;No&quot;</td><td>&quot;No&quot;</td><td>&quot;No&quot;</td></tr><tr><td>2</td><td>109000</td><td>0.19</td><td>133</td><td>7300</td><td>1944</td><td>51</td><td>4</td><td>1.0</td><td>8</td><td>&quot;hot water/steam&quot;</td><td>&quot;gas&quot;</td><td>&quot;public/commercial&quot;</td><td>&quot;No&quot;</td><td>&quot;No&quot;</td><td>&quot;No&quot;</td></tr><tr><td>3</td><td>155000</td><td>0.41</td><td>13</td><td>18700</td><td>1944</td><td>51</td><td>3</td><td>1.5</td><td>5</td><td>&quot;hot air&quot;</td><td>&quot;gas&quot;</td><td>&quot;septic&quot;</td><td>&quot;No&quot;</td><td>&quot;No&quot;</td><td>&quot;No&quot;</td></tr><tr><td>4</td><td>86060</td><td>0.11</td><td>0</td><td>15000</td><td>840</td><td>51</td><td>2</td><td>1.0</td><td>3</td><td>&quot;hot air&quot;</td><td>&quot;gas&quot;</td><td>&quot;public/commercial&quot;</td><td>&quot;No&quot;</td><td>&quot;Yes&quot;</td><td>&quot;Yes&quot;</td></tr><tr><td>&hellip;</td><td>&hellip;</td><td>&hellip;</td><td>&hellip;</td><td>&hellip;</td><td>&hellip;</td><td>&hellip;</td><td>&hellip;</td><td>&hellip;</td><td>&hellip;</td><td>&hellip;</td><td>&hellip;</td><td>&hellip;</td><td>&hellip;</td><td>&hellip;</td><td>&hellip;</td></tr><tr><td>1723</td><td>289000</td><td>0.38</td><td>32</td><td>24200</td><td>2310</td><td>61</td><td>5</td><td>2.5</td><td>11</td><td>&quot;hot water/steam&quot;</td><td>&quot;gas&quot;</td><td>&quot;public/commercial&quot;</td><td>&quot;No&quot;</td><td>&quot;No&quot;</td><td>&quot;No&quot;</td></tr><tr><td>1724</td><td>285000</td><td>0.94</td><td>37</td><td>36200</td><td>2564</td><td>61</td><td>4</td><td>2.5</td><td>11</td><td>&quot;hot water/steam&quot;</td><td>&quot;gas&quot;</td><td>&quot;public/commercial&quot;</td><td>&quot;No&quot;</td><td>&quot;No&quot;</td><td>&quot;No&quot;</td></tr><tr><td>1725</td><td>194900</td><td>0.39</td><td>9</td><td>20400</td><td>1099</td><td>51</td><td>2</td><td>1.0</td><td>3</td><td>&quot;hot air&quot;</td><td>&quot;gas&quot;</td><td>&quot;public/commercial&quot;</td><td>&quot;No&quot;</td><td>&quot;No&quot;</td><td>&quot;No&quot;</td></tr><tr><td>1726</td><td>125000</td><td>0.24</td><td>48</td><td>16800</td><td>1225</td><td>51</td><td>3</td><td>1.0</td><td>7</td><td>&quot;hot air&quot;</td><td>&quot;gas&quot;</td><td>&quot;public/commercial&quot;</td><td>&quot;No&quot;</td><td>&quot;No&quot;</td><td>&quot;No&quot;</td></tr><tr><td>1727</td><td>111300</td><td>0.59</td><td>86</td><td>26000</td><td>1959</td><td>51</td><td>3</td><td>1.0</td><td>6</td><td>&quot;hot air&quot;</td><td>&quot;gas&quot;</td><td>&quot;septic&quot;</td><td>&quot;No&quot;</td><td>&quot;No&quot;</td><td>&quot;No&quot;</td></tr></tbody></table></div>"
            ]
          },
          "metadata": {},
          "execution_count": 4
        }
      ]
    },
    {
      "cell_type": "code",
      "source": [
        "casas.columns"
      ],
      "metadata": {
        "colab": {
          "base_uri": "https://localhost:8080/"
        },
        "id": "zx3Ryl7aCfJ2",
        "outputId": "c16e6505-2487-4c28-e59e-b4ee71ca97e1"
      },
      "execution_count": 5,
      "outputs": [
        {
          "output_type": "execute_result",
          "data": {
            "text/plain": [
              "['',\n",
              " 'precio',\n",
              " 'metros_totales',\n",
              " 'antiguedad',\n",
              " 'precio_terreno',\n",
              " 'metros_habitables',\n",
              " 'universitarios',\n",
              " 'dormitorios',\n",
              " 'baños',\n",
              " 'habitaciones',\n",
              " 'calefaccion',\n",
              " 'consumo_calefacion',\n",
              " 'desague',\n",
              " 'vistas_lago',\n",
              " 'nueva_construccion',\n",
              " 'aire_acondicionado']"
            ]
          },
          "metadata": {},
          "execution_count": 5
        }
      ]
    },
    {
      "cell_type": "code",
      "source": [
        "casas_filtrado = casas.filter(pl.col('antiguedad')>10)\n",
        "casas_filtrado"
      ],
      "metadata": {
        "colab": {
          "base_uri": "https://localhost:8080/",
          "height": 549
        },
        "id": "8uJkTTpKCo65",
        "outputId": "8fe9da7a-51fe-4ff1-cac6-73e2157cf7b1"
      },
      "execution_count": 6,
      "outputs": [
        {
          "output_type": "execute_result",
          "data": {
            "text/plain": [
              "shape: (1_365, 16)\n",
              "┌──────┬────────┬─────────────┬────────────┬───┬────────────┬────────────┬────────────┬────────────┐\n",
              "│      ┆ precio ┆ metros_tota ┆ antiguedad ┆ … ┆ desague    ┆ vistas_lag ┆ nueva_cons ┆ aire_acond │\n",
              "│ ---  ┆ ---    ┆ les         ┆ ---        ┆   ┆ ---        ┆ o          ┆ truccion   ┆ icionado   │\n",
              "│ i64  ┆ i64    ┆ ---         ┆ i64        ┆   ┆ str        ┆ ---        ┆ ---        ┆ ---        │\n",
              "│      ┆        ┆ f64         ┆            ┆   ┆            ┆ str        ┆ str        ┆ str        │\n",
              "╞══════╪════════╪═════════════╪════════════╪═══╪════════════╪════════════╪════════════╪════════════╡\n",
              "│ 0    ┆ 132500 ┆ 0.09        ┆ 42         ┆ … ┆ septic     ┆ No         ┆ No         ┆ No         │\n",
              "│ 2    ┆ 109000 ┆ 0.19        ┆ 133        ┆ … ┆ public/com ┆ No         ┆ No         ┆ No         │\n",
              "│      ┆        ┆             ┆            ┆   ┆ mercial    ┆            ┆            ┆            │\n",
              "│ 3    ┆ 155000 ┆ 0.41        ┆ 13         ┆ … ┆ septic     ┆ No         ┆ No         ┆ No         │\n",
              "│ 5    ┆ 120000 ┆ 0.68        ┆ 31         ┆ … ┆ septic     ┆ No         ┆ No         ┆ No         │\n",
              "│ 6    ┆ 153000 ┆ 0.4         ┆ 33         ┆ … ┆ septic     ┆ No         ┆ No         ┆ No         │\n",
              "│ …    ┆ …      ┆ …           ┆ …          ┆ … ┆ …          ┆ …          ┆ …          ┆ …          │\n",
              "│ 1722 ┆ 249000 ┆ 0.43        ┆ 41         ┆ … ┆ public/com ┆ No         ┆ No         ┆ No         │\n",
              "│      ┆        ┆             ┆            ┆   ┆ mercial    ┆            ┆            ┆            │\n",
              "│ 1723 ┆ 289000 ┆ 0.38        ┆ 32         ┆ … ┆ public/com ┆ No         ┆ No         ┆ No         │\n",
              "│      ┆        ┆             ┆            ┆   ┆ mercial    ┆            ┆            ┆            │\n",
              "│ 1724 ┆ 285000 ┆ 0.94        ┆ 37         ┆ … ┆ public/com ┆ No         ┆ No         ┆ No         │\n",
              "│      ┆        ┆             ┆            ┆   ┆ mercial    ┆            ┆            ┆            │\n",
              "│ 1726 ┆ 125000 ┆ 0.24        ┆ 48         ┆ … ┆ public/com ┆ No         ┆ No         ┆ No         │\n",
              "│      ┆        ┆             ┆            ┆   ┆ mercial    ┆            ┆            ┆            │\n",
              "│ 1727 ┆ 111300 ┆ 0.59        ┆ 86         ┆ … ┆ septic     ┆ No         ┆ No         ┆ No         │\n",
              "└──────┴────────┴─────────────┴────────────┴───┴────────────┴────────────┴────────────┴────────────┘"
            ],
            "text/html": [
              "<div><style>\n",
              ".dataframe > thead > tr,\n",
              ".dataframe > tbody > tr {\n",
              "  text-align: right;\n",
              "  white-space: pre-wrap;\n",
              "}\n",
              "</style>\n",
              "<small>shape: (1_365, 16)</small><table border=\"1\" class=\"dataframe\"><thead><tr><th></th><th>precio</th><th>metros_totales</th><th>antiguedad</th><th>precio_terreno</th><th>metros_habitables</th><th>universitarios</th><th>dormitorios</th><th>baños</th><th>habitaciones</th><th>calefaccion</th><th>consumo_calefacion</th><th>desague</th><th>vistas_lago</th><th>nueva_construccion</th><th>aire_acondicionado</th></tr><tr><td>i64</td><td>i64</td><td>f64</td><td>i64</td><td>i64</td><td>i64</td><td>i64</td><td>i64</td><td>f64</td><td>i64</td><td>str</td><td>str</td><td>str</td><td>str</td><td>str</td><td>str</td></tr></thead><tbody><tr><td>0</td><td>132500</td><td>0.09</td><td>42</td><td>50000</td><td>906</td><td>35</td><td>2</td><td>1.0</td><td>5</td><td>&quot;electric&quot;</td><td>&quot;electric&quot;</td><td>&quot;septic&quot;</td><td>&quot;No&quot;</td><td>&quot;No&quot;</td><td>&quot;No&quot;</td></tr><tr><td>2</td><td>109000</td><td>0.19</td><td>133</td><td>7300</td><td>1944</td><td>51</td><td>4</td><td>1.0</td><td>8</td><td>&quot;hot water/steam&quot;</td><td>&quot;gas&quot;</td><td>&quot;public/commercial&quot;</td><td>&quot;No&quot;</td><td>&quot;No&quot;</td><td>&quot;No&quot;</td></tr><tr><td>3</td><td>155000</td><td>0.41</td><td>13</td><td>18700</td><td>1944</td><td>51</td><td>3</td><td>1.5</td><td>5</td><td>&quot;hot air&quot;</td><td>&quot;gas&quot;</td><td>&quot;septic&quot;</td><td>&quot;No&quot;</td><td>&quot;No&quot;</td><td>&quot;No&quot;</td></tr><tr><td>5</td><td>120000</td><td>0.68</td><td>31</td><td>14000</td><td>1152</td><td>22</td><td>4</td><td>1.0</td><td>8</td><td>&quot;hot air&quot;</td><td>&quot;gas&quot;</td><td>&quot;septic&quot;</td><td>&quot;No&quot;</td><td>&quot;No&quot;</td><td>&quot;No&quot;</td></tr><tr><td>6</td><td>153000</td><td>0.4</td><td>33</td><td>23300</td><td>2752</td><td>51</td><td>4</td><td>1.5</td><td>8</td><td>&quot;hot water/steam&quot;</td><td>&quot;oil&quot;</td><td>&quot;septic&quot;</td><td>&quot;No&quot;</td><td>&quot;No&quot;</td><td>&quot;No&quot;</td></tr><tr><td>&hellip;</td><td>&hellip;</td><td>&hellip;</td><td>&hellip;</td><td>&hellip;</td><td>&hellip;</td><td>&hellip;</td><td>&hellip;</td><td>&hellip;</td><td>&hellip;</td><td>&hellip;</td><td>&hellip;</td><td>&hellip;</td><td>&hellip;</td><td>&hellip;</td><td>&hellip;</td></tr><tr><td>1722</td><td>249000</td><td>0.43</td><td>41</td><td>45800</td><td>2426</td><td>61</td><td>4</td><td>2.0</td><td>7</td><td>&quot;hot water/steam&quot;</td><td>&quot;gas&quot;</td><td>&quot;public/commercial&quot;</td><td>&quot;No&quot;</td><td>&quot;No&quot;</td><td>&quot;No&quot;</td></tr><tr><td>1723</td><td>289000</td><td>0.38</td><td>32</td><td>24200</td><td>2310</td><td>61</td><td>5</td><td>2.5</td><td>11</td><td>&quot;hot water/steam&quot;</td><td>&quot;gas&quot;</td><td>&quot;public/commercial&quot;</td><td>&quot;No&quot;</td><td>&quot;No&quot;</td><td>&quot;No&quot;</td></tr><tr><td>1724</td><td>285000</td><td>0.94</td><td>37</td><td>36200</td><td>2564</td><td>61</td><td>4</td><td>2.5</td><td>11</td><td>&quot;hot water/steam&quot;</td><td>&quot;gas&quot;</td><td>&quot;public/commercial&quot;</td><td>&quot;No&quot;</td><td>&quot;No&quot;</td><td>&quot;No&quot;</td></tr><tr><td>1726</td><td>125000</td><td>0.24</td><td>48</td><td>16800</td><td>1225</td><td>51</td><td>3</td><td>1.0</td><td>7</td><td>&quot;hot air&quot;</td><td>&quot;gas&quot;</td><td>&quot;public/commercial&quot;</td><td>&quot;No&quot;</td><td>&quot;No&quot;</td><td>&quot;No&quot;</td></tr><tr><td>1727</td><td>111300</td><td>0.59</td><td>86</td><td>26000</td><td>1959</td><td>51</td><td>3</td><td>1.0</td><td>6</td><td>&quot;hot air&quot;</td><td>&quot;gas&quot;</td><td>&quot;septic&quot;</td><td>&quot;No&quot;</td><td>&quot;No&quot;</td><td>&quot;No&quot;</td></tr></tbody></table></div>"
            ]
          },
          "metadata": {},
          "execution_count": 6
        }
      ]
    },
    {
      "cell_type": "code",
      "source": [
        "casas_agregado = casas_filtrado.group_by('precio').agg(media_precios=pl.col('precio').mean()\n",
        ")\n",
        "casas_agregado"
      ],
      "metadata": {
        "colab": {
          "base_uri": "https://localhost:8080/",
          "height": 443
        },
        "id": "rSHPVu_oC86q",
        "outputId": "017d6fcb-9324-4a4d-879a-08516fe20c0c"
      },
      "execution_count": 7,
      "outputs": [
        {
          "output_type": "execute_result",
          "data": {
            "text/plain": [
              "shape: (551, 2)\n",
              "┌────────┬───────────────┐\n",
              "│ precio ┆ media_precios │\n",
              "│ ---    ┆ ---           │\n",
              "│ i64    ┆ f64           │\n",
              "╞════════╪═══════════════╡\n",
              "│ 449000 ┆ 449000.0      │\n",
              "│ 75000  ┆ 75000.0       │\n",
              "│ 241000 ┆ 241000.0      │\n",
              "│ 215000 ┆ 215000.0      │\n",
              "│ 213000 ┆ 213000.0      │\n",
              "│ …      ┆ …             │\n",
              "│ 324000 ┆ 324000.0      │\n",
              "│ 80500  ┆ 80500.0       │\n",
              "│ 103150 ┆ 103150.0      │\n",
              "│ 224000 ┆ 224000.0      │\n",
              "│ 117900 ┆ 117900.0      │\n",
              "└────────┴───────────────┘"
            ],
            "text/html": [
              "<div><style>\n",
              ".dataframe > thead > tr,\n",
              ".dataframe > tbody > tr {\n",
              "  text-align: right;\n",
              "  white-space: pre-wrap;\n",
              "}\n",
              "</style>\n",
              "<small>shape: (551, 2)</small><table border=\"1\" class=\"dataframe\"><thead><tr><th>precio</th><th>media_precios</th></tr><tr><td>i64</td><td>f64</td></tr></thead><tbody><tr><td>449000</td><td>449000.0</td></tr><tr><td>75000</td><td>75000.0</td></tr><tr><td>241000</td><td>241000.0</td></tr><tr><td>215000</td><td>215000.0</td></tr><tr><td>213000</td><td>213000.0</td></tr><tr><td>&hellip;</td><td>&hellip;</td></tr><tr><td>324000</td><td>324000.0</td></tr><tr><td>80500</td><td>80500.0</td></tr><tr><td>103150</td><td>103150.0</td></tr><tr><td>224000</td><td>224000.0</td></tr><tr><td>117900</td><td>117900.0</td></tr></tbody></table></div>"
            ]
          },
          "metadata": {},
          "execution_count": 7
        }
      ]
    },
    {
      "cell_type": "markdown",
      "source": [],
      "metadata": {
        "id": "Jym9j82nO4i2"
      }
    },
    {
      "cell_type": "markdown",
      "source": [
        "\n",
        "# **<font color=\"#07a8ed\">Optimizaciones realizadas con el API Lazy**\n",
        "\n"
      ],
      "metadata": {
        "id": "sAaU_uv8DsCw"
      }
    },
    {
      "cell_type": "code",
      "source": [
        "%%time\n",
        "query = (\n",
        "    pl.scan_csv('https://raw.githubusercontent.com/VINY2030/datasets/refs/heads/main/SaratogaHouses.csv')\n",
        "    .filter(pl.col('antiguedad')>10)\n",
        "    .group_by('precio').agg(media_precio=pl.col('precio').mean()\n",
        "    )\n",
        ")\n",
        "casas_agregado = query.collect()"
      ],
      "metadata": {
        "colab": {
          "base_uri": "https://localhost:8080/"
        },
        "id": "7am5DgxJEhrg",
        "outputId": "eea7d4c8-ee57-4a0f-f700-fe9e4961d3f0"
      },
      "execution_count": 8,
      "outputs": [
        {
          "output_type": "stream",
          "name": "stdout",
          "text": [
            "CPU times: user 21.9 ms, sys: 21.1 ms, total: 43 ms\n",
            "Wall time: 188 ms\n"
          ]
        }
      ]
    },
    {
      "cell_type": "markdown",
      "source": [
        "\n",
        "# **<font color=\"#07a8ed\">Cuando usar Lazy o Eager**\n"
      ],
      "metadata": {
        "id": "u_9-UTS4FOW-"
      }
    },
    {
      "cell_type": "code",
      "source": [
        "casas_agregado"
      ],
      "metadata": {
        "colab": {
          "base_uri": "https://localhost:8080/",
          "height": 443
        },
        "id": "v5WvWvxWO7ON",
        "outputId": "207cec77-e881-400e-a908-a9987b0d0b0b"
      },
      "execution_count": 9,
      "outputs": [
        {
          "output_type": "execute_result",
          "data": {
            "text/plain": [
              "shape: (551, 2)\n",
              "┌────────┬──────────────┐\n",
              "│ precio ┆ media_precio │\n",
              "│ ---    ┆ ---          │\n",
              "│ i64    ┆ f64          │\n",
              "╞════════╪══════════════╡\n",
              "│ 264000 ┆ 264000.0     │\n",
              "│ 214000 ┆ 214000.0     │\n",
              "│ 156000 ┆ 156000.0     │\n",
              "│ 239900 ┆ 239900.0     │\n",
              "│ 163500 ┆ 163500.0     │\n",
              "│ …      ┆ …            │\n",
              "│ 62500  ┆ 62500.0      │\n",
              "│ 161225 ┆ 161225.0     │\n",
              "│ 101760 ┆ 101760.0     │\n",
              "│ 159500 ┆ 159500.0     │\n",
              "│ 234000 ┆ 234000.0     │\n",
              "└────────┴──────────────┘"
            ],
            "text/html": [
              "<div><style>\n",
              ".dataframe > thead > tr,\n",
              ".dataframe > tbody > tr {\n",
              "  text-align: right;\n",
              "  white-space: pre-wrap;\n",
              "}\n",
              "</style>\n",
              "<small>shape: (551, 2)</small><table border=\"1\" class=\"dataframe\"><thead><tr><th>precio</th><th>media_precio</th></tr><tr><td>i64</td><td>f64</td></tr></thead><tbody><tr><td>264000</td><td>264000.0</td></tr><tr><td>214000</td><td>214000.0</td></tr><tr><td>156000</td><td>156000.0</td></tr><tr><td>239900</td><td>239900.0</td></tr><tr><td>163500</td><td>163500.0</td></tr><tr><td>&hellip;</td><td>&hellip;</td></tr><tr><td>62500</td><td>62500.0</td></tr><tr><td>161225</td><td>161225.0</td></tr><tr><td>101760</td><td>101760.0</td></tr><tr><td>159500</td><td>159500.0</td></tr><tr><td>234000</td><td>234000.0</td></tr></tbody></table></div>"
            ]
          },
          "metadata": {},
          "execution_count": 9
        }
      ]
    },
    {
      "cell_type": "code",
      "source": [
        "print(query.explain(streaming=True))"
      ],
      "metadata": {
        "colab": {
          "base_uri": "https://localhost:8080/"
        },
        "id": "zy57FjjkPSlq",
        "outputId": "178d416f-3376-4dc7-d410-733d6cd3681b"
      },
      "execution_count": 10,
      "outputs": [
        {
          "output_type": "stream",
          "name": "stdout",
          "text": [
            "STREAMING:\n",
            "  AGGREGATE\n",
            "  \t[col(\"precio\").mean().alias(\"media_precio\")] BY [col(\"precio\")] FROM\n",
            "    Csv SCAN [https://raw.githubusercontent.com/VINY2030/datasets/refs/heads/main/SaratogaHouses.csv]\n",
            "    PROJECT 2/16 COLUMNS\n",
            "    SELECTION: [(col(\"antiguedad\")) > (10)]\n"
          ]
        }
      ]
    },
    {
      "cell_type": "code",
      "source": [
        "query.show_graph(optimized=True)"
      ],
      "metadata": {
        "colab": {
          "base_uri": "https://localhost:8080/",
          "height": 198
        },
        "id": "TCz9zF3JaW2w",
        "outputId": "4afaafda-d8de-4ec8-e3a9-a32d2fd84ac0"
      },
      "execution_count": 107,
      "outputs": [
        {
          "output_type": "display_data",
          "data": {
            "text/plain": [
              "<IPython.core.display.SVG object>"
            ],
            "image/svg+xml": "<svg xmlns=\"http://www.w3.org/2000/svg\" xmlns:xlink=\"http://www.w3.org/1999/xlink\" width=\"597pt\" height=\"133pt\" viewBox=\"0.00 0.00 597.00 133.00\">\n<g id=\"graph0\" class=\"graph\" transform=\"scale(1 1) rotate(0) translate(4 129)\">\n<title>polars_query</title>\n<polygon fill=\"white\" stroke=\"transparent\" points=\"-4,4 -4,-129 593,-129 593,4 -4,4\"/>\n<!-- p1 -->\n<g id=\"node1\" class=\"node\">\n<title>p1</title>\n<polygon fill=\"none\" stroke=\"black\" points=\"493.5,-125 95.5,-125 95.5,-89 493.5,-89 493.5,-125\"/>\n<text text-anchor=\"middle\" x=\"294.5\" y=\"-103.3\" font-family=\"Times,serif\" font-size=\"14.00\">WITH COLUMNS [[(col(&quot;antiguedad&quot;)) &gt; (60)].alias(&quot;antiguedad&quot;)]</text>\n</g>\n<!-- p2 -->\n<g id=\"node2\" class=\"node\">\n<title>p2</title>\n<polygon fill=\"none\" stroke=\"black\" points=\"589,-53 0,-53 0,0 589,0 589,-53\"/>\n<text text-anchor=\"middle\" x=\"294.5\" y=\"-37.8\" font-family=\"Times,serif\" font-size=\"14.00\">Csv SCAN [https://raw.githubusercontent.com/VINY2030/datasets/refs/heads/main/SaratogaHouses.csv]</text>\n<text text-anchor=\"middle\" x=\"294.5\" y=\"-22.8\" font-family=\"Times,serif\" font-size=\"14.00\">π */16;</text>\n<text text-anchor=\"middle\" x=\"294.5\" y=\"-7.8\" font-family=\"Times,serif\" font-size=\"14.00\">σ [(col(&quot;precio&quot;)) &gt; (50000)]</text>\n</g>\n<!-- p1&#45;&#45;p2 -->\n<g id=\"edge1\" class=\"edge\">\n<title>p1--p2</title>\n<path fill=\"none\" stroke=\"black\" d=\"M294.5,-88.97C294.5,-78.51 294.5,-64.9 294.5,-53.16\"/>\n</g>\n</g>\n</svg>"
          },
          "metadata": {}
        }
      ]
    },
    {
      "cell_type": "markdown",
      "source": [
        "\n",
        "# **<font color=\"#07a8ed\">Uso de la consulta Lazy a partir de la lectura de un archivo**"
      ],
      "metadata": {
        "id": "GcRwHKPJQWVG"
      }
    },
    {
      "cell_type": "code",
      "source": [
        "\n",
        "query_2 = (\n",
        "    pl.scan_csv('https://raw.githubusercontent.com/VINY2030/datasets/refs/heads/main/SaratogaHouses.csv')\n",
        "    .filter(pl.col('universitarios') > 40)  # Move filter before select\n",
        "    .select(\n",
        "        pl.col('precio_terreno').mean().over('precio_terreno')\n",
        "    )\n",
        ")\n",
        "\n",
        "print(query_2.explain(streaming=True))"
      ],
      "metadata": {
        "colab": {
          "base_uri": "https://localhost:8080/"
        },
        "id": "e5wxq-lQSkYW",
        "outputId": "e1677d45-7bf6-4575-ac6b-fd17ec0f9bdd"
      },
      "execution_count": 11,
      "outputs": [
        {
          "output_type": "stream",
          "name": "stdout",
          "text": [
            " SELECT [col(\"precio_terreno\").mean().over([col(\"precio_terreno\")])] FROM\n",
            "  STREAMING:\n",
            "    Csv SCAN [https://raw.githubusercontent.com/VINY2030/datasets/refs/heads/main/SaratogaHouses.csv]\n",
            "    PROJECT 2/16 COLUMNS\n",
            "    SELECTION: [(col(\"universitarios\")) > (40)]\n"
          ]
        }
      ]
    },
    {
      "cell_type": "markdown",
      "source": [
        "##En esta consulta le decimos a Polars que queremos:\n",
        "\n",
        "##Cargar datos desde el archivo csv\n",
        "##Realizar filtro univeristarios mayores a 40\n",
        "##convertir la columna precio_terreno en la media\n",
        "##La consulta lazy no se ejecutará en este momento a menos que le apliquemos un .collect() ."
      ],
      "metadata": {
        "id": "gFbj9NDBQkRN"
      }
    },
    {
      "cell_type": "code",
      "source": [
        "query_2.collect()"
      ],
      "metadata": {
        "colab": {
          "base_uri": "https://localhost:8080/",
          "height": 443
        },
        "id": "zXgmhGAVQD52",
        "outputId": "6448edb8-9a4e-493a-f898-b9166f84819f"
      },
      "execution_count": 12,
      "outputs": [
        {
          "output_type": "execute_result",
          "data": {
            "text/plain": [
              "shape: (1_433, 1)\n",
              "┌────────────────┐\n",
              "│ precio_terreno │\n",
              "│ ---            │\n",
              "│ f64            │\n",
              "╞════════════════╡\n",
              "│ 22300.0        │\n",
              "│ 7300.0         │\n",
              "│ 18700.0        │\n",
              "│ 15000.0        │\n",
              "│ 23300.0        │\n",
              "│ …              │\n",
              "│ 24200.0        │\n",
              "│ 36200.0        │\n",
              "│ 20400.0        │\n",
              "│ 16800.0        │\n",
              "│ 26000.0        │\n",
              "└────────────────┘"
            ],
            "text/html": [
              "<div><style>\n",
              ".dataframe > thead > tr,\n",
              ".dataframe > tbody > tr {\n",
              "  text-align: right;\n",
              "  white-space: pre-wrap;\n",
              "}\n",
              "</style>\n",
              "<small>shape: (1_433, 1)</small><table border=\"1\" class=\"dataframe\"><thead><tr><th>precio_terreno</th></tr><tr><td>f64</td></tr></thead><tbody><tr><td>22300.0</td></tr><tr><td>7300.0</td></tr><tr><td>18700.0</td></tr><tr><td>15000.0</td></tr><tr><td>23300.0</td></tr><tr><td>&hellip;</td></tr><tr><td>24200.0</td></tr><tr><td>36200.0</td></tr><tr><td>20400.0</td></tr><tr><td>16800.0</td></tr><tr><td>26000.0</td></tr></tbody></table></div>"
            ]
          },
          "metadata": {},
          "execution_count": 12
        }
      ]
    },
    {
      "cell_type": "markdown",
      "source": [
        "\n",
        "# **<font color=\"#07a8ed\">Uso de la API lazy desde un DataFrame**"
      ],
      "metadata": {
        "id": "Pb8ANGqnS94F"
      }
    },
    {
      "cell_type": "markdown",
      "source": [
        "###Una forma alternativa de acceder a la API lazy es llamar a .lazy en un DataFrame que ya se ha creado en la memoria.\n",
        "\n",
        "###Al llamar a .lazy convertimos el DataFrame en un LazyFrame."
      ],
      "metadata": {
        "id": "E8Q0TCnCTF-G"
      }
    },
    {
      "cell_type": "code",
      "source": [
        "df = pl.DataFrame(\n",
        "    {\n",
        "        'id': [1, 2, 3],\n",
        "        'nombre': ['Rosa', 'Ana', 'Pedro']\n",
        "    }\n",
        ")\n",
        "\n",
        "df_lazy = df.lazy()"
      ],
      "metadata": {
        "id": "sYNzI8YXTLNX"
      },
      "execution_count": 13,
      "outputs": []
    },
    {
      "cell_type": "code",
      "source": [
        "type(df_lazy)"
      ],
      "metadata": {
        "colab": {
          "base_uri": "https://localhost:8080/",
          "height": 220
        },
        "id": "mgXqt19MTN6P",
        "outputId": "d0bd6baf-4e44-45e9-ae89-0c4ca57e07cc"
      },
      "execution_count": 14,
      "outputs": [
        {
          "output_type": "execute_result",
          "data": {
            "text/plain": [
              "polars.lazyframe.frame.LazyFrame"
            ],
            "text/html": [
              "<div style=\"max-width:800px; border: 1px solid var(--colab-border-color);\"><style>\n",
              "      pre.function-repr-contents {\n",
              "        overflow-x: auto;\n",
              "        padding: 8px 12px;\n",
              "        max-height: 500px;\n",
              "      }\n",
              "\n",
              "      pre.function-repr-contents.function-repr-contents-collapsed {\n",
              "        cursor: pointer;\n",
              "        max-height: 100px;\n",
              "      }\n",
              "    </style>\n",
              "    <pre style=\"white-space: initial; background:\n",
              "         var(--colab-secondary-surface-color); padding: 8px 12px;\n",
              "         border-bottom: 1px solid var(--colab-border-color);\"><b>polars.lazyframe.frame.LazyFrame</b><br/>def __init__(data: FrameInitTypes | None=None, schema: SchemaDefinition | None=None, *, schema_overrides: SchemaDict | None=None, strict: bool=True, orient: Orientation | None=None, infer_schema_length: int | None=N_INFER_DEFAULT, nan_to_null: bool=False) -&gt; None</pre><pre class=\"function-repr-contents function-repr-contents-collapsed\" style=\"\"><a class=\"filepath\" style=\"display:none\" href=\"#\">/usr/local/lib/python3.10/dist-packages/polars/lazyframe/frame.py</a>Representation of a Lazy computation graph/query against a DataFrame.\n",
              "\n",
              "This allows for whole-query optimisation in addition to parallelism, and\n",
              "is the preferred (and highest-performance) mode of operation for polars.\n",
              "\n",
              "Parameters\n",
              "----------\n",
              "data : dict, Sequence, ndarray, Series, or pandas.DataFrame\n",
              "    Two-dimensional data in various forms; dict input must contain Sequences,\n",
              "    Generators, or a `range`. Sequence may contain Series or other Sequences.\n",
              "schema : Sequence of str, (str,DataType) pairs, or a {str:DataType,} dict\n",
              "    The LazyFrame schema may be declared in several ways:\n",
              "\n",
              "    * As a dict of {name:type} pairs; if type is None, it will be auto-inferred.\n",
              "    * As a list of column names; in this case types are automatically inferred.\n",
              "    * As a list of (name,type) pairs; this is equivalent to the dictionary form.\n",
              "\n",
              "    If you supply a list of column names that does not match the names in the\n",
              "    underlying data, the names given here will overwrite them. The number\n",
              "    of names given in the schema should match the underlying data dimensions.\n",
              "schema_overrides : dict, default None\n",
              "    Support type specification or override of one or more columns; note that\n",
              "    any dtypes inferred from the schema param will be overridden.\n",
              "\n",
              "    The number of entries in the schema should match the underlying data\n",
              "    dimensions, unless a sequence of dictionaries is being passed, in which case\n",
              "    a *partial* schema can be declared to prevent specific fields from being loaded.\n",
              "strict : bool, default True\n",
              "    Throw an error if any `data` value does not exactly match the given or inferred\n",
              "    data type for that column. If set to `False`, values that do not match the data\n",
              "    type are cast to that data type or, if casting is not possible, set to null\n",
              "    instead.\n",
              "orient : {&#x27;col&#x27;, &#x27;row&#x27;}, default None\n",
              "    Whether to interpret two-dimensional data as columns or as rows. If None,\n",
              "    the orientation is inferred by matching the columns and data dimensions. If\n",
              "    this does not yield conclusive results, column orientation is used.\n",
              "infer_schema_length : int or None\n",
              "    The maximum number of rows to scan for schema inference. If set to `None`, the\n",
              "    full data may be scanned *(this can be slow)*. This parameter only applies if\n",
              "    the input data is a sequence or generator of rows; other input is read as-is.\n",
              "nan_to_null : bool, default False\n",
              "    If the data comes from one or more numpy arrays, can optionally convert input\n",
              "    data np.nan values to null instead. This is a no-op for all other input data.\n",
              "\n",
              "Notes\n",
              "-----\n",
              "Initialising `LazyFrame(...)` directly is equivalent to `DataFrame(...).lazy()`.\n",
              "\n",
              "Examples\n",
              "--------\n",
              "Constructing a LazyFrame directly from a dictionary:\n",
              "\n",
              "&gt;&gt;&gt; data = {&quot;a&quot;: [1, 2], &quot;b&quot;: [3, 4]}\n",
              "&gt;&gt;&gt; lf = pl.LazyFrame(data)\n",
              "&gt;&gt;&gt; lf.collect()\n",
              "shape: (2, 2)\n",
              "┌─────┬─────┐\n",
              "│ a   ┆ b   │\n",
              "│ --- ┆ --- │\n",
              "│ i64 ┆ i64 │\n",
              "╞═════╪═════╡\n",
              "│ 1   ┆ 3   │\n",
              "│ 2   ┆ 4   │\n",
              "└─────┴─────┘\n",
              "\n",
              "Notice that the dtypes are automatically inferred as Polars Int64:\n",
              "\n",
              "&gt;&gt;&gt; lf.collect_schema().dtypes()\n",
              "[Int64, Int64]\n",
              "\n",
              "To specify a more detailed/specific frame schema you can supply the `schema`\n",
              "parameter with a dictionary of (name,dtype) pairs...\n",
              "\n",
              "&gt;&gt;&gt; data = {&quot;col1&quot;: [0, 2], &quot;col2&quot;: [3, 7]}\n",
              "&gt;&gt;&gt; lf2 = pl.LazyFrame(data, schema={&quot;col1&quot;: pl.Float32, &quot;col2&quot;: pl.Int64})\n",
              "&gt;&gt;&gt; lf2.collect()\n",
              "shape: (2, 2)\n",
              "┌──────┬──────┐\n",
              "│ col1 ┆ col2 │\n",
              "│ ---  ┆ ---  │\n",
              "│ f32  ┆ i64  │\n",
              "╞══════╪══════╡\n",
              "│ 0.0  ┆ 3    │\n",
              "│ 2.0  ┆ 7    │\n",
              "└──────┴──────┘\n",
              "\n",
              "...a sequence of (name,dtype) pairs...\n",
              "\n",
              "&gt;&gt;&gt; data = {&quot;col1&quot;: [1, 2], &quot;col2&quot;: [3, 4]}\n",
              "&gt;&gt;&gt; lf3 = pl.LazyFrame(data, schema=[(&quot;col1&quot;, pl.Float32), (&quot;col2&quot;, pl.Int64)])\n",
              "&gt;&gt;&gt; lf3.collect()\n",
              "shape: (2, 2)\n",
              "┌──────┬──────┐\n",
              "│ col1 ┆ col2 │\n",
              "│ ---  ┆ ---  │\n",
              "│ f32  ┆ i64  │\n",
              "╞══════╪══════╡\n",
              "│ 1.0  ┆ 3    │\n",
              "│ 2.0  ┆ 4    │\n",
              "└──────┴──────┘\n",
              "\n",
              "...or a list of typed Series.\n",
              "\n",
              "&gt;&gt;&gt; data = [\n",
              "...     pl.Series(&quot;col1&quot;, [1, 2], dtype=pl.Float32),\n",
              "...     pl.Series(&quot;col2&quot;, [3, 4], dtype=pl.Int64),\n",
              "... ]\n",
              "&gt;&gt;&gt; lf4 = pl.LazyFrame(data)\n",
              "&gt;&gt;&gt; lf4.collect()\n",
              "shape: (2, 2)\n",
              "┌──────┬──────┐\n",
              "│ col1 ┆ col2 │\n",
              "│ ---  ┆ ---  │\n",
              "│ f32  ┆ i64  │\n",
              "╞══════╪══════╡\n",
              "│ 1.0  ┆ 3    │\n",
              "│ 2.0  ┆ 4    │\n",
              "└──────┴──────┘\n",
              "\n",
              "Constructing a LazyFrame from a numpy ndarray, specifying column names:\n",
              "\n",
              "&gt;&gt;&gt; import numpy as np\n",
              "&gt;&gt;&gt; data = np.array([(1, 2), (3, 4)], dtype=np.int64)\n",
              "&gt;&gt;&gt; lf5 = pl.LazyFrame(data, schema=[&quot;a&quot;, &quot;b&quot;], orient=&quot;col&quot;)\n",
              "&gt;&gt;&gt; lf5.collect()\n",
              "shape: (2, 2)\n",
              "┌─────┬─────┐\n",
              "│ a   ┆ b   │\n",
              "│ --- ┆ --- │\n",
              "│ i64 ┆ i64 │\n",
              "╞═════╪═════╡\n",
              "│ 1   ┆ 3   │\n",
              "│ 2   ┆ 4   │\n",
              "└─────┴─────┘\n",
              "\n",
              "Constructing a LazyFrame from a list of lists, row orientation specified:\n",
              "\n",
              "&gt;&gt;&gt; data = [[1, 2, 3], [4, 5, 6]]\n",
              "&gt;&gt;&gt; lf6 = pl.LazyFrame(data, schema=[&quot;a&quot;, &quot;b&quot;, &quot;c&quot;], orient=&quot;row&quot;)\n",
              "&gt;&gt;&gt; lf6.collect()\n",
              "shape: (2, 3)\n",
              "┌─────┬─────┬─────┐\n",
              "│ a   ┆ b   ┆ c   │\n",
              "│ --- ┆ --- ┆ --- │\n",
              "│ i64 ┆ i64 ┆ i64 │\n",
              "╞═════╪═════╪═════╡\n",
              "│ 1   ┆ 2   ┆ 3   │\n",
              "│ 4   ┆ 5   ┆ 6   │\n",
              "└─────┴─────┴─────┘</pre>\n",
              "      <script>\n",
              "      if (google.colab.kernel.accessAllowed && google.colab.files && google.colab.files.view) {\n",
              "        for (const element of document.querySelectorAll('.filepath')) {\n",
              "          element.style.display = 'block'\n",
              "          element.onclick = (event) => {\n",
              "            event.preventDefault();\n",
              "            event.stopPropagation();\n",
              "            google.colab.files.view(element.textContent, 137);\n",
              "          };\n",
              "        }\n",
              "      }\n",
              "      for (const element of document.querySelectorAll('.function-repr-contents')) {\n",
              "        element.onclick = (event) => {\n",
              "          event.preventDefault();\n",
              "          event.stopPropagation();\n",
              "          element.classList.toggle('function-repr-contents-collapsed');\n",
              "        };\n",
              "      }\n",
              "      </script>\n",
              "      </div>"
            ]
          },
          "metadata": {},
          "execution_count": 14
        }
      ]
    },
    {
      "cell_type": "code",
      "source": [
        "df_lazy.collect()"
      ],
      "metadata": {
        "colab": {
          "base_uri": "https://localhost:8080/",
          "height": 192
        },
        "id": "zLRDrPpKTPaQ",
        "outputId": "37397754-e58b-4540-c448-4313975398fa"
      },
      "execution_count": 15,
      "outputs": [
        {
          "output_type": "execute_result",
          "data": {
            "text/plain": [
              "shape: (3, 2)\n",
              "┌─────┬────────┐\n",
              "│ id  ┆ nombre │\n",
              "│ --- ┆ ---    │\n",
              "│ i64 ┆ str    │\n",
              "╞═════╪════════╡\n",
              "│ 1   ┆ Rosa   │\n",
              "│ 2   ┆ Ana    │\n",
              "│ 3   ┆ Pedro  │\n",
              "└─────┴────────┘"
            ],
            "text/html": [
              "<div><style>\n",
              ".dataframe > thead > tr,\n",
              ".dataframe > tbody > tr {\n",
              "  text-align: right;\n",
              "  white-space: pre-wrap;\n",
              "}\n",
              "</style>\n",
              "<small>shape: (3, 2)</small><table border=\"1\" class=\"dataframe\"><thead><tr><th>id</th><th>nombre</th></tr><tr><td>i64</td><td>str</td></tr></thead><tbody><tr><td>1</td><td>&quot;Rosa&quot;</td></tr><tr><td>2</td><td>&quot;Ana&quot;</td></tr><tr><td>3</td><td>&quot;Pedro&quot;</td></tr></tbody></table></div>"
            ]
          },
          "metadata": {},
          "execution_count": 15
        }
      ]
    },
    {
      "cell_type": "markdown",
      "source": [
        "\n",
        "# **<font color=\"#07a8ed\">Schema**"
      ],
      "metadata": {
        "id": "bCudE2clTXcg"
      }
    },
    {
      "cell_type": "markdown",
      "source": [
        "###El esquema de un DataFrame o un LazyFrame establece los nombres de las columnas y sus tipos de datos. Si recordamos podemos ver el esquema de un DataFrame o un LazyFrame con el método .schema."
      ],
      "metadata": {
        "id": "O9IKmXSVTeIF"
      }
    },
    {
      "cell_type": "code",
      "source": [
        "df.schema"
      ],
      "metadata": {
        "colab": {
          "base_uri": "https://localhost:8080/"
        },
        "id": "ir-cxg9yTg7N",
        "outputId": "5b335750-013a-4e27-adb5-8f04894f9275"
      },
      "execution_count": 16,
      "outputs": [
        {
          "output_type": "execute_result",
          "data": {
            "text/plain": [
              "Schema([('id', Int64), ('nombre', String)])"
            ]
          },
          "metadata": {},
          "execution_count": 16
        }
      ]
    },
    {
      "cell_type": "code",
      "source": [
        "df_lazy.schema"
      ],
      "metadata": {
        "colab": {
          "base_uri": "https://localhost:8080/"
        },
        "id": "hFA9tXmJTky1",
        "outputId": "0796f306-f632-49e0-dfba-72d3f6af6894"
      },
      "execution_count": 17,
      "outputs": [
        {
          "output_type": "stream",
          "name": "stderr",
          "text": [
            "<ipython-input-17-d20a04ec1c64>:1: PerformanceWarning: Resolving the schema of a LazyFrame is a potentially expensive operation. Use `LazyFrame.collect_schema()` to get the schema without this warning.\n",
            "  df_lazy.schema\n"
          ]
        },
        {
          "output_type": "execute_result",
          "data": {
            "text/plain": [
              "Schema([('id', Int64), ('nombre', String)])"
            ]
          },
          "metadata": {},
          "execution_count": 17
        }
      ]
    },
    {
      "cell_type": "markdown",
      "source": [
        "\n",
        "# **<font color=\"#07a8ed\">Comprobación de tipos de datos en la API lazy**"
      ],
      "metadata": {
        "id": "hzMVCJO8Tsd4"
      }
    },
    {
      "cell_type": "markdown",
      "source": [
        "##El esquema juega un papel importante en la API lazy.\n",
        "\n",
        "##Una ventaja de la API lazy es que Polars comprobará el esquema antes de procesar cualquier dato. Esta verificación ocurre cuando ejecutamos nuestra consulta lazy.\n",
        "\n",
        "##Vemos cómo funciona esto en el siguiente ejemplo donde llamamos a la expresión .round en la columna id del DataFrame que previamente hemos creado.El esquema juega un papel importante en la API lazy.\n",
        "\n",
        "##Una ventaja de la API lazy es que Polars comprobará el esquema antes de procesar cualquier dato. Esta verificación ocurre cuando ejecutamos nuestra consulta lazy.\n",
        "\n",
        "##Vemos cómo funciona esto en el siguiente ejemplo donde llamamos a la expresión .round en la columna id del DataFrame que previamente hemos creado."
      ],
      "metadata": {
        "id": "6eSCYZODTyYd"
      }
    },
    {
      "cell_type": "code",
      "source": [
        "df_lazy.with_columns(pl.col('id').round(0)).collect()"
      ],
      "metadata": {
        "colab": {
          "base_uri": "https://localhost:8080/",
          "height": 192
        },
        "id": "EA_ctdDET9OV",
        "outputId": "17b9d634-4e02-425d-be87-900b2c37fca3"
      },
      "execution_count": 18,
      "outputs": [
        {
          "output_type": "execute_result",
          "data": {
            "text/plain": [
              "shape: (3, 2)\n",
              "┌─────┬────────┐\n",
              "│ id  ┆ nombre │\n",
              "│ --- ┆ ---    │\n",
              "│ i64 ┆ str    │\n",
              "╞═════╪════════╡\n",
              "│ 1   ┆ Rosa   │\n",
              "│ 2   ┆ Ana    │\n",
              "│ 3   ┆ Pedro  │\n",
              "└─────┴────────┘"
            ],
            "text/html": [
              "<div><style>\n",
              ".dataframe > thead > tr,\n",
              ".dataframe > tbody > tr {\n",
              "  text-align: right;\n",
              "  white-space: pre-wrap;\n",
              "}\n",
              "</style>\n",
              "<small>shape: (3, 2)</small><table border=\"1\" class=\"dataframe\"><thead><tr><th>id</th><th>nombre</th></tr><tr><td>i64</td><td>str</td></tr></thead><tbody><tr><td>1</td><td>&quot;Rosa&quot;</td></tr><tr><td>2</td><td>&quot;Ana&quot;</td></tr><tr><td>3</td><td>&quot;Pedro&quot;</td></tr></tbody></table></div>"
            ]
          },
          "metadata": {},
          "execution_count": 18
        }
      ]
    },
    {
      "cell_type": "markdown",
      "source": [
        "###Los que ha sucedido es que la expresión .round solo es válida para columnas de tipo float. Llamar a .round en una columna de números enteros significa que la operación generará un error de tipo InvalidOperationError cuando evaluemos la consulta con collect. Esta verificación de esquema ocurre antes de que se procesen los datos cuando llamamos a collect."
      ],
      "metadata": {
        "id": "KVA0Dz4JUJaX"
      }
    },
    {
      "cell_type": "markdown",
      "source": [
        "\n",
        "# **<font color=\"#07a8ed\">Manejo de operaciones no disponibles en la API lazy**"
      ],
      "metadata": {
        "id": "bAUmP_fnUPzF"
      }
    },
    {
      "cell_type": "code",
      "source": [
        "casas.columns"
      ],
      "metadata": {
        "colab": {
          "base_uri": "https://localhost:8080/"
        },
        "id": "XiebyUFiU3ku",
        "outputId": "3429796c-f03c-4a65-f572-694c7ad6cc5a"
      },
      "execution_count": 19,
      "outputs": [
        {
          "output_type": "execute_result",
          "data": {
            "text/plain": [
              "['',\n",
              " 'precio',\n",
              " 'metros_totales',\n",
              " 'antiguedad',\n",
              " 'precio_terreno',\n",
              " 'metros_habitables',\n",
              " 'universitarios',\n",
              " 'dormitorios',\n",
              " 'baños',\n",
              " 'habitaciones',\n",
              " 'calefaccion',\n",
              " 'consumo_calefacion',\n",
              " 'desague',\n",
              " 'vistas_lago',\n",
              " 'nueva_construccion',\n",
              " 'aire_acondicionado']"
            ]
          },
          "metadata": {},
          "execution_count": 19
        }
      ]
    },
    {
      "cell_type": "code",
      "source": [
        "lazy_eager_query = (\n",
        "    pl.scan_csv('https://raw.githubusercontent.com/VINY2030/datasets/refs/heads/main/SaratogaHouses.csv')\n",
        "    .with_columns(\n",
        "        pl.col(\"antiguedad\").cast(pl.Int64) # Convert 'antiguedad' to Int64\n",
        "    )\n",
        "    .collect()\n",
        "    .pivot(\n",
        "        index='antiguedad',\n",
        "        columns='calefaccion',\n",
        "        values='habitaciones',\n",
        "        aggregate_function='mean'\n",
        "    )\n",
        "    .lazy()\n",
        ")\n",
        "\n"
      ],
      "metadata": {
        "colab": {
          "base_uri": "https://localhost:8080/"
        },
        "id": "tMbNlN-EWDAZ",
        "outputId": "69342dc7-4307-4011-8923-4043448613ab"
      },
      "execution_count": 20,
      "outputs": [
        {
          "output_type": "stream",
          "name": "stderr",
          "text": [
            "<ipython-input-20-03f92d7c5a8c>:2: DeprecationWarning: The argument `columns` for `DataFrame.pivot` is deprecated. It has been renamed to `on`.\n",
            "  pl.scan_csv('https://raw.githubusercontent.com/VINY2030/datasets/refs/heads/main/SaratogaHouses.csv')\n"
          ]
        }
      ]
    },
    {
      "cell_type": "code",
      "source": [
        "print(lazy_eager_query.collect())"
      ],
      "metadata": {
        "colab": {
          "base_uri": "https://localhost:8080/"
        },
        "id": "YYW-YMThWRKO",
        "outputId": "7beaf151-93d5-4e4c-99e8-52420664b1e8"
      },
      "execution_count": 21,
      "outputs": [
        {
          "output_type": "stream",
          "name": "stdout",
          "text": [
            "shape: (136, 4)\n",
            "┌────────────┬──────────┬─────────────────┬──────────┐\n",
            "│ antiguedad ┆ electric ┆ hot water/steam ┆ hot air  │\n",
            "│ ---        ┆ ---      ┆ ---             ┆ ---      │\n",
            "│ i64        ┆ f64      ┆ f64             ┆ f64      │\n",
            "╞════════════╪══════════╪═════════════════╪══════════╡\n",
            "│ 42         ┆ 5.0      ┆ 7.0             ┆ 6.5      │\n",
            "│ 0          ┆ null     ┆ 7.0             ┆ 8.765432 │\n",
            "│ 133        ┆ null     ┆ 9.5             ┆ null     │\n",
            "│ 13         ┆ 6.666667 ┆ 8.75            ┆ 7.068966 │\n",
            "│ 31         ┆ null     ┆ 7.5             ┆ 7.076923 │\n",
            "│ …          ┆ …        ┆ …               ┆ …        │\n",
            "│ 155        ┆ null     ┆ 3.0             ┆ null     │\n",
            "│ 149        ┆ null     ┆ null            ┆ 8.0      │\n",
            "│ 106        ┆ null     ┆ null            ┆ 7.0      │\n",
            "│ 176        ┆ null     ┆ 12.0            ┆ null     │\n",
            "│ 86         ┆ null     ┆ null            ┆ 6.0      │\n",
            "└────────────┴──────────┴─────────────────┴──────────┘\n"
          ]
        }
      ]
    },
    {
      "cell_type": "markdown",
      "source": [
        "\n",
        "# **<font color=\"#07a8ed\">Pan de ejecucion de una consulta en la  API lazy**"
      ],
      "metadata": {
        "id": "J5binbvpZ7DK"
      }
    },
    {
      "cell_type": "markdown",
      "source": [
        "# Plan de consulta\n",
        "#Para cualquier consulta lazy, Polars tiene ambos:\n",
        "\n",
        "#Un plan no optimizado: este contiene el conjunto de pasos en código qu ele proporcionamos.\n",
        "#Un plan optimizado: que contiene cambios realizados por el optimizador de consultas\n"
      ],
      "metadata": {
        "id": "e4ok9dH0aEr1"
      }
    },
    {
      "cell_type": "code",
      "source": [
        "casas.columns"
      ],
      "metadata": {
        "colab": {
          "base_uri": "https://localhost:8080/"
        },
        "id": "d4AFsyKzbHOg",
        "outputId": "3f813c4c-9339-4dc1-ad99-3686ee66d9f4"
      },
      "execution_count": 22,
      "outputs": [
        {
          "output_type": "execute_result",
          "data": {
            "text/plain": [
              "['',\n",
              " 'precio',\n",
              " 'metros_totales',\n",
              " 'antiguedad',\n",
              " 'precio_terreno',\n",
              " 'metros_habitables',\n",
              " 'universitarios',\n",
              " 'dormitorios',\n",
              " 'baños',\n",
              " 'habitaciones',\n",
              " 'calefaccion',\n",
              " 'consumo_calefacion',\n",
              " 'desague',\n",
              " 'vistas_lago',\n",
              " 'nueva_construccion',\n",
              " 'aire_acondicionado']"
            ]
          },
          "metadata": {},
          "execution_count": 22
        }
      ]
    },
    {
      "cell_type": "code",
      "source": [
        "\n",
        "query = (\n",
        "    pl.scan_csv('https://raw.githubusercontent.com/VINY2030/datasets/refs/heads/main/SaratogaHouses.csv')\n",
        "    .filter(pl.col('antiguedad') > 10)\n",
        "    .group_by('precio')\n",
        "    .agg(media_precio=pl.col('precio').mean(),\n",
        "         media_habitaciones=pl.col('habitaciones').mean()) # Calcula la media de las habitaciones dentro del grupo\n",
        "    )"
      ],
      "metadata": {
        "id": "dOew5W7sbbs3"
      },
      "execution_count": 23,
      "outputs": []
    },
    {
      "cell_type": "code",
      "source": [
        "query.collect()"
      ],
      "metadata": {
        "colab": {
          "base_uri": "https://localhost:8080/",
          "height": 443
        },
        "id": "7Akp_1P9cIIe",
        "outputId": "44bb7782-26ab-48e1-92ad-578e8d4eebc9"
      },
      "execution_count": 24,
      "outputs": [
        {
          "output_type": "execute_result",
          "data": {
            "text/plain": [
              "shape: (551, 3)\n",
              "┌────────┬──────────────┬────────────────────┐\n",
              "│ precio ┆ media_precio ┆ media_habitaciones │\n",
              "│ ---    ┆ ---          ┆ ---                │\n",
              "│ i64    ┆ f64          ┆ f64                │\n",
              "╞════════╪══════════════╪════════════════════╡\n",
              "│ 317500 ┆ 317500.0     ┆ 4.0                │\n",
              "│ 77500  ┆ 77500.0      ┆ 6.0                │\n",
              "│ 290000 ┆ 290000.0     ┆ 8.166667           │\n",
              "│ 234500 ┆ 234500.0     ┆ 10.0               │\n",
              "│ 193000 ┆ 193000.0     ┆ 7.5                │\n",
              "│ …      ┆ …            ┆ …                  │\n",
              "│ 125500 ┆ 125500.0     ┆ 5.0                │\n",
              "│ 45000  ┆ 45000.0      ┆ 4.0                │\n",
              "│ 259900 ┆ 259900.0     ┆ 10.0               │\n",
              "│ 151500 ┆ 151500.0     ┆ 7.0                │\n",
              "│ 139000 ┆ 139000.0     ┆ 5.142857           │\n",
              "└────────┴──────────────┴────────────────────┘"
            ],
            "text/html": [
              "<div><style>\n",
              ".dataframe > thead > tr,\n",
              ".dataframe > tbody > tr {\n",
              "  text-align: right;\n",
              "  white-space: pre-wrap;\n",
              "}\n",
              "</style>\n",
              "<small>shape: (551, 3)</small><table border=\"1\" class=\"dataframe\"><thead><tr><th>precio</th><th>media_precio</th><th>media_habitaciones</th></tr><tr><td>i64</td><td>f64</td><td>f64</td></tr></thead><tbody><tr><td>317500</td><td>317500.0</td><td>4.0</td></tr><tr><td>77500</td><td>77500.0</td><td>6.0</td></tr><tr><td>290000</td><td>290000.0</td><td>8.166667</td></tr><tr><td>234500</td><td>234500.0</td><td>10.0</td></tr><tr><td>193000</td><td>193000.0</td><td>7.5</td></tr><tr><td>&hellip;</td><td>&hellip;</td><td>&hellip;</td></tr><tr><td>125500</td><td>125500.0</td><td>5.0</td></tr><tr><td>45000</td><td>45000.0</td><td>4.0</td></tr><tr><td>259900</td><td>259900.0</td><td>10.0</td></tr><tr><td>151500</td><td>151500.0</td><td>7.0</td></tr><tr><td>139000</td><td>139000.0</td><td>5.142857</td></tr></tbody></table></div>"
            ]
          },
          "metadata": {},
          "execution_count": 24
        }
      ]
    },
    {
      "cell_type": "markdown",
      "source": [
        "##Primero visualizaremos el plan no optimizado con la función show_graph estableciendo el parámetro optimized=False.\n",
        "\n",
        "Nota Importante:\n",
        "\n",
        "##Para visualizar los gráficos será necesario instalar la librería graphviz la cual la podemos instalar ejecutando en una celda de código el comando pip install graphviz. Además, necesitará instalar el programa graphviz en su sistema operativo."
      ],
      "metadata": {
        "id": "qvVPAgVlaceG"
      }
    },
    {
      "cell_type": "code",
      "source": [
        "!pip3 install graphviz"
      ],
      "metadata": {
        "colab": {
          "base_uri": "https://localhost:8080/"
        },
        "id": "eH-l2sbSag2f",
        "outputId": "ce044c39-1f7d-4605-c442-5ac7a1f31af3"
      },
      "execution_count": 25,
      "outputs": [
        {
          "output_type": "stream",
          "name": "stdout",
          "text": [
            "Requirement already satisfied: graphviz in /usr/local/lib/python3.10/dist-packages (0.20.3)\n"
          ]
        }
      ]
    },
    {
      "cell_type": "code",
      "source": [
        "# Call show_graph before collect()\n",
        "query.show_graph(optimized=False)\n",
        "\n",
        "# then if you want a pandas DataFrame use collect()\n",
        "result = query.collect()"
      ],
      "metadata": {
        "colab": {
          "base_uri": "https://localhost:8080/",
          "height": 297
        },
        "id": "jkYucSijb0WX",
        "outputId": "183b1f9c-4974-4b17-87cc-c1ea8ac59c81"
      },
      "execution_count": 26,
      "outputs": [
        {
          "output_type": "display_data",
          "data": {
            "text/plain": [
              "<IPython.core.display.SVG object>"
            ],
            "image/svg+xml": "<svg xmlns=\"http://www.w3.org/2000/svg\" xmlns:xlink=\"http://www.w3.org/1999/xlink\" width=\"617pt\" height=\"207pt\" viewBox=\"0.00 0.00 617.00 207.00\">\n<g id=\"graph0\" class=\"graph\" transform=\"scale(1 1) rotate(0) translate(4 203)\">\n<title>polars_query</title>\n<polygon fill=\"white\" stroke=\"transparent\" points=\"-4,4 -4,-203 613,-203 613,4 -4,4\"/>\n<!-- p1 -->\n<g id=\"node1\" class=\"node\">\n<title>p1</title>\n<polygon fill=\"none\" stroke=\"black\" points=\"609,-199 0,-199 0,-146 609,-146 609,-199\"/>\n<text text-anchor=\"middle\" x=\"304.5\" y=\"-183.8\" font-family=\"Times,serif\" font-size=\"14.00\">AGG [col(&quot;precio&quot;).mean().alias(&quot;media_precio&quot;), col(&quot;habitaciones&quot;).mean().alias(&quot;media_habitaciones&quot;)]</text>\n<text text-anchor=\"middle\" x=\"304.5\" y=\"-168.8\" font-family=\"Times,serif\" font-size=\"14.00\">BY</text>\n<text text-anchor=\"middle\" x=\"304.5\" y=\"-153.8\" font-family=\"Times,serif\" font-size=\"14.00\">[col(&quot;precio&quot;)]</text>\n</g>\n<!-- p2 -->\n<g id=\"node2\" class=\"node\">\n<title>p2</title>\n<polygon fill=\"none\" stroke=\"black\" points=\"425,-110 184,-110 184,-74 425,-74 425,-110\"/>\n<text text-anchor=\"middle\" x=\"304.5\" y=\"-88.3\" font-family=\"Times,serif\" font-size=\"14.00\">FILTER BY [(col(&quot;antiguedad&quot;)) &gt; (10)]</text>\n</g>\n<!-- p1&#45;&#45;p2 -->\n<g id=\"edge1\" class=\"edge\">\n<title>p1--p2</title>\n<path fill=\"none\" stroke=\"black\" d=\"M304.5,-145.8C304.5,-134.17 304.5,-120.74 304.5,-110.33\"/>\n</g>\n<!-- p3 -->\n<g id=\"node3\" class=\"node\">\n<title>p3</title>\n<polygon fill=\"none\" stroke=\"black\" points=\"599,-38 10,-38 10,0 599,0 599,-38\"/>\n<text text-anchor=\"middle\" x=\"304.5\" y=\"-22.8\" font-family=\"Times,serif\" font-size=\"14.00\">Csv SCAN [https://raw.githubusercontent.com/VINY2030/datasets/refs/heads/main/SaratogaHouses.csv]</text>\n<text text-anchor=\"middle\" x=\"304.5\" y=\"-7.8\" font-family=\"Times,serif\" font-size=\"14.00\">π */16;</text>\n</g>\n<!-- p2&#45;&#45;p3 -->\n<g id=\"edge2\" class=\"edge\">\n<title>p2--p3</title>\n<path fill=\"none\" stroke=\"black\" d=\"M304.5,-73.81C304.5,-62.98 304.5,-49.01 304.5,-38.02\"/>\n</g>\n</g>\n</svg>"
          },
          "metadata": {}
        }
      ]
    },
    {
      "cell_type": "markdown",
      "source": [
        "###La visualización del plan de consulta debe leerse de abajo hacia arriba. Expliquemos como leer esta salida:\n",
        "\n",
        "##Cada rectángulo corresponde a una etapa del plan de consulta\n",
        "##El sigma significa SELECCIÓN e indica cualquier condición de filtro\n",
        "##El pi significa PROYECCIÓN e indica la elección de un subconjunto de columnas"
      ],
      "metadata": {
        "id": "i4v-R5qnaqi_"
      }
    },
    {
      "cell_type": "markdown",
      "source": [
        "# Imprimir el plan de consulta\n",
        "#También podemos imprimir el plan no optimizado con explain(optimized=False)."
      ],
      "metadata": {
        "id": "qwXgyJIgcPum"
      }
    },
    {
      "cell_type": "code",
      "source": [
        "print(query.explain(optimized=False))"
      ],
      "metadata": {
        "colab": {
          "base_uri": "https://localhost:8080/"
        },
        "id": "pDDw9CobcTbQ",
        "outputId": "567f23bb-3b75-48ad-926a-40fa5abb0ab2"
      },
      "execution_count": 27,
      "outputs": [
        {
          "output_type": "stream",
          "name": "stdout",
          "text": [
            "AGGREGATE\n",
            "\t[col(\"precio\").mean().alias(\"media_precio\"), col(\"habitaciones\").mean().alias(\"media_habitaciones\")] BY [col(\"precio\")] FROM\n",
            "  FILTER [(col(\"antiguedad\")) > (10)] FROM\n",
            "    Csv SCAN [https://raw.githubusercontent.com/VINY2030/datasets/refs/heads/main/SaratogaHouses.csv]\n",
            "    PROJECT */16 COLUMNS\n"
          ]
        }
      ]
    },
    {
      "cell_type": "markdown",
      "source": [
        "##Imprimamos el plan de consulta optimizado."
      ],
      "metadata": {
        "id": "CznlI1PGcXB_"
      }
    },
    {
      "cell_type": "code",
      "source": [
        "print(query.explain())"
      ],
      "metadata": {
        "colab": {
          "base_uri": "https://localhost:8080/"
        },
        "id": "7B5KJW20cb2d",
        "outputId": "2605ee24-05e8-45ec-e720-f642f29d04cf"
      },
      "execution_count": 28,
      "outputs": [
        {
          "output_type": "stream",
          "name": "stdout",
          "text": [
            "AGGREGATE\n",
            "\t[col(\"precio\").mean().alias(\"media_precio\"), col(\"habitaciones\").mean().alias(\"media_habitaciones\")] BY [col(\"precio\")] FROM\n",
            "  Csv SCAN [https://raw.githubusercontent.com/VINY2030/datasets/refs/heads/main/SaratogaHouses.csv]\n",
            "  PROJECT 3/16 COLUMNS\n",
            "  SELECTION: [(col(\"antiguedad\")) > (10)]\n"
          ]
        }
      ]
    },
    {
      "cell_type": "markdown",
      "source": [
        "\n",
        "# **<font color=\"#07a8ed\">Ejecucion de una consulta en la  API lazy**"
      ],
      "metadata": {
        "id": "LUST_3HBckai"
      }
    },
    {
      "cell_type": "code",
      "source": [
        "query = (\n",
        "    pl.scan_csv('https://raw.githubusercontent.com/VINY2030/datasets/refs/heads/main/SaratogaHouses.csv')\n",
        "    .with_columns(antiguedad=(pl.col('antiguedad') > 60))\n",
        "    .filter(pl.col('precio') > 50000) # Use pl.col here for consistency\n",
        ")"
      ],
      "metadata": {
        "id": "aaLhxKzhdEJ4"
      },
      "execution_count": 29,
      "outputs": []
    },
    {
      "cell_type": "markdown",
      "source": [
        "##Podemos ejecutar nuestra consulta en el conjunto de datos completo llamando al método .collect en la consulta."
      ],
      "metadata": {
        "id": "Pdn4xLw0dgoD"
      }
    },
    {
      "cell_type": "code",
      "source": [
        "query.collect()"
      ],
      "metadata": {
        "colab": {
          "base_uri": "https://localhost:8080/",
          "height": 532
        },
        "id": "zZZKaPgSdOkq",
        "outputId": "b11fb1cd-855c-4f44-cd1f-e951a04842b3"
      },
      "execution_count": 30,
      "outputs": [
        {
          "output_type": "execute_result",
          "data": {
            "text/plain": [
              "shape: (1_721, 16)\n",
              "┌──────┬────────┬─────────────┬────────────┬───┬────────────┬────────────┬────────────┬────────────┐\n",
              "│      ┆ precio ┆ metros_tota ┆ antiguedad ┆ … ┆ desague    ┆ vistas_lag ┆ nueva_cons ┆ aire_acond │\n",
              "│ ---  ┆ ---    ┆ les         ┆ ---        ┆   ┆ ---        ┆ o          ┆ truccion   ┆ icionado   │\n",
              "│ i64  ┆ i64    ┆ ---         ┆ bool       ┆   ┆ str        ┆ ---        ┆ ---        ┆ ---        │\n",
              "│      ┆        ┆ f64         ┆            ┆   ┆            ┆ str        ┆ str        ┆ str        │\n",
              "╞══════╪════════╪═════════════╪════════════╪═══╪════════════╪════════════╪════════════╪════════════╡\n",
              "│ 0    ┆ 132500 ┆ 0.09        ┆ false      ┆ … ┆ septic     ┆ No         ┆ No         ┆ No         │\n",
              "│ 1    ┆ 181115 ┆ 0.92        ┆ false      ┆ … ┆ septic     ┆ No         ┆ No         ┆ No         │\n",
              "│ 2    ┆ 109000 ┆ 0.19        ┆ true       ┆ … ┆ public/com ┆ No         ┆ No         ┆ No         │\n",
              "│      ┆        ┆             ┆            ┆   ┆ mercial    ┆            ┆            ┆            │\n",
              "│ 3    ┆ 155000 ┆ 0.41        ┆ false      ┆ … ┆ septic     ┆ No         ┆ No         ┆ No         │\n",
              "│ 4    ┆ 86060  ┆ 0.11        ┆ false      ┆ … ┆ public/com ┆ No         ┆ Yes        ┆ Yes        │\n",
              "│      ┆        ┆             ┆            ┆   ┆ mercial    ┆            ┆            ┆            │\n",
              "│ …    ┆ …      ┆ …           ┆ …          ┆ … ┆ …          ┆ …          ┆ …          ┆ …          │\n",
              "│ 1723 ┆ 289000 ┆ 0.38        ┆ false      ┆ … ┆ public/com ┆ No         ┆ No         ┆ No         │\n",
              "│      ┆        ┆             ┆            ┆   ┆ mercial    ┆            ┆            ┆            │\n",
              "│ 1724 ┆ 285000 ┆ 0.94        ┆ false      ┆ … ┆ public/com ┆ No         ┆ No         ┆ No         │\n",
              "│      ┆        ┆             ┆            ┆   ┆ mercial    ┆            ┆            ┆            │\n",
              "│ 1725 ┆ 194900 ┆ 0.39        ┆ false      ┆ … ┆ public/com ┆ No         ┆ No         ┆ No         │\n",
              "│      ┆        ┆             ┆            ┆   ┆ mercial    ┆            ┆            ┆            │\n",
              "│ 1726 ┆ 125000 ┆ 0.24        ┆ false      ┆ … ┆ public/com ┆ No         ┆ No         ┆ No         │\n",
              "│      ┆        ┆             ┆            ┆   ┆ mercial    ┆            ┆            ┆            │\n",
              "│ 1727 ┆ 111300 ┆ 0.59        ┆ true       ┆ … ┆ septic     ┆ No         ┆ No         ┆ No         │\n",
              "└──────┴────────┴─────────────┴────────────┴───┴────────────┴────────────┴────────────┴────────────┘"
            ],
            "text/html": [
              "<div><style>\n",
              ".dataframe > thead > tr,\n",
              ".dataframe > tbody > tr {\n",
              "  text-align: right;\n",
              "  white-space: pre-wrap;\n",
              "}\n",
              "</style>\n",
              "<small>shape: (1_721, 16)</small><table border=\"1\" class=\"dataframe\"><thead><tr><th></th><th>precio</th><th>metros_totales</th><th>antiguedad</th><th>precio_terreno</th><th>metros_habitables</th><th>universitarios</th><th>dormitorios</th><th>baños</th><th>habitaciones</th><th>calefaccion</th><th>consumo_calefacion</th><th>desague</th><th>vistas_lago</th><th>nueva_construccion</th><th>aire_acondicionado</th></tr><tr><td>i64</td><td>i64</td><td>f64</td><td>bool</td><td>i64</td><td>i64</td><td>i64</td><td>i64</td><td>f64</td><td>i64</td><td>str</td><td>str</td><td>str</td><td>str</td><td>str</td><td>str</td></tr></thead><tbody><tr><td>0</td><td>132500</td><td>0.09</td><td>false</td><td>50000</td><td>906</td><td>35</td><td>2</td><td>1.0</td><td>5</td><td>&quot;electric&quot;</td><td>&quot;electric&quot;</td><td>&quot;septic&quot;</td><td>&quot;No&quot;</td><td>&quot;No&quot;</td><td>&quot;No&quot;</td></tr><tr><td>1</td><td>181115</td><td>0.92</td><td>false</td><td>22300</td><td>1953</td><td>51</td><td>3</td><td>2.5</td><td>6</td><td>&quot;hot water/steam&quot;</td><td>&quot;gas&quot;</td><td>&quot;septic&quot;</td><td>&quot;No&quot;</td><td>&quot;No&quot;</td><td>&quot;No&quot;</td></tr><tr><td>2</td><td>109000</td><td>0.19</td><td>true</td><td>7300</td><td>1944</td><td>51</td><td>4</td><td>1.0</td><td>8</td><td>&quot;hot water/steam&quot;</td><td>&quot;gas&quot;</td><td>&quot;public/commercial&quot;</td><td>&quot;No&quot;</td><td>&quot;No&quot;</td><td>&quot;No&quot;</td></tr><tr><td>3</td><td>155000</td><td>0.41</td><td>false</td><td>18700</td><td>1944</td><td>51</td><td>3</td><td>1.5</td><td>5</td><td>&quot;hot air&quot;</td><td>&quot;gas&quot;</td><td>&quot;septic&quot;</td><td>&quot;No&quot;</td><td>&quot;No&quot;</td><td>&quot;No&quot;</td></tr><tr><td>4</td><td>86060</td><td>0.11</td><td>false</td><td>15000</td><td>840</td><td>51</td><td>2</td><td>1.0</td><td>3</td><td>&quot;hot air&quot;</td><td>&quot;gas&quot;</td><td>&quot;public/commercial&quot;</td><td>&quot;No&quot;</td><td>&quot;Yes&quot;</td><td>&quot;Yes&quot;</td></tr><tr><td>&hellip;</td><td>&hellip;</td><td>&hellip;</td><td>&hellip;</td><td>&hellip;</td><td>&hellip;</td><td>&hellip;</td><td>&hellip;</td><td>&hellip;</td><td>&hellip;</td><td>&hellip;</td><td>&hellip;</td><td>&hellip;</td><td>&hellip;</td><td>&hellip;</td><td>&hellip;</td></tr><tr><td>1723</td><td>289000</td><td>0.38</td><td>false</td><td>24200</td><td>2310</td><td>61</td><td>5</td><td>2.5</td><td>11</td><td>&quot;hot water/steam&quot;</td><td>&quot;gas&quot;</td><td>&quot;public/commercial&quot;</td><td>&quot;No&quot;</td><td>&quot;No&quot;</td><td>&quot;No&quot;</td></tr><tr><td>1724</td><td>285000</td><td>0.94</td><td>false</td><td>36200</td><td>2564</td><td>61</td><td>4</td><td>2.5</td><td>11</td><td>&quot;hot water/steam&quot;</td><td>&quot;gas&quot;</td><td>&quot;public/commercial&quot;</td><td>&quot;No&quot;</td><td>&quot;No&quot;</td><td>&quot;No&quot;</td></tr><tr><td>1725</td><td>194900</td><td>0.39</td><td>false</td><td>20400</td><td>1099</td><td>51</td><td>2</td><td>1.0</td><td>3</td><td>&quot;hot air&quot;</td><td>&quot;gas&quot;</td><td>&quot;public/commercial&quot;</td><td>&quot;No&quot;</td><td>&quot;No&quot;</td><td>&quot;No&quot;</td></tr><tr><td>1726</td><td>125000</td><td>0.24</td><td>false</td><td>16800</td><td>1225</td><td>51</td><td>3</td><td>1.0</td><td>7</td><td>&quot;hot air&quot;</td><td>&quot;gas&quot;</td><td>&quot;public/commercial&quot;</td><td>&quot;No&quot;</td><td>&quot;No&quot;</td><td>&quot;No&quot;</td></tr><tr><td>1727</td><td>111300</td><td>0.59</td><td>true</td><td>26000</td><td>1959</td><td>51</td><td>3</td><td>1.0</td><td>6</td><td>&quot;hot air&quot;</td><td>&quot;gas&quot;</td><td>&quot;septic&quot;</td><td>&quot;No&quot;</td><td>&quot;No&quot;</td><td>&quot;No&quot;</td></tr></tbody></table></div>"
            ]
          },
          "metadata": {},
          "execution_count": 30
        }
      ]
    },
    {
      "cell_type": "code",
      "source": [
        "query"
      ],
      "metadata": {
        "colab": {
          "base_uri": "https://localhost:8080/",
          "height": 339
        },
        "id": "pXYKIMnMdMn-",
        "outputId": "55e08397-1951-42eb-9b1b-362e040c59f7"
      },
      "execution_count": 31,
      "outputs": [
        {
          "output_type": "execute_result",
          "data": {
            "text/plain": [
              "<LazyFrame at 0x7DC4144075E0>"
            ],
            "text/html": [
              "<h4>NAIVE QUERY PLAN</h4><p>run <b>LazyFrame.show_graph()</b> to see the optimized version</p><?xml version=\"1.0\" encoding=\"UTF-8\" standalone=\"no\"?>\n",
              "<!DOCTYPE svg PUBLIC \"-//W3C//DTD SVG 1.1//EN\"\n",
              " \"http://www.w3.org/Graphics/SVG/1.1/DTD/svg11.dtd\">\n",
              "<!-- Generated by graphviz version 2.43.0 (0)\n",
              " -->\n",
              "<!-- Title: polars_query Pages: 1 -->\n",
              "<svg width=\"597pt\" height=\"190pt\"\n",
              " viewBox=\"0.00 0.00 597.00 190.00\" xmlns=\"http://www.w3.org/2000/svg\" xmlns:xlink=\"http://www.w3.org/1999/xlink\">\n",
              "<g id=\"graph0\" class=\"graph\" transform=\"scale(1 1) rotate(0) translate(4 186)\">\n",
              "<title>polars_query</title>\n",
              "<polygon fill=\"white\" stroke=\"transparent\" points=\"-4,4 -4,-186 593,-186 593,4 -4,4\"/>\n",
              "<!-- p1 -->\n",
              "<g id=\"node1\" class=\"node\">\n",
              "<title>p1</title>\n",
              "<polygon fill=\"none\" stroke=\"black\" points=\"412.5,-182 176.5,-182 176.5,-146 412.5,-146 412.5,-182\"/>\n",
              "<text text-anchor=\"middle\" x=\"294.5\" y=\"-160.3\" font-family=\"Times,serif\" font-size=\"14.00\">FILTER BY [(col(&quot;precio&quot;)) &gt; (50000)]</text>\n",
              "</g>\n",
              "<!-- p2 -->\n",
              "<g id=\"node2\" class=\"node\">\n",
              "<title>p2</title>\n",
              "<polygon fill=\"none\" stroke=\"black\" points=\"493.5,-110 95.5,-110 95.5,-74 493.5,-74 493.5,-110\"/>\n",
              "<text text-anchor=\"middle\" x=\"294.5\" y=\"-88.3\" font-family=\"Times,serif\" font-size=\"14.00\">WITH COLUMNS [[(col(&quot;antiguedad&quot;)) &gt; (60)].alias(&quot;antiguedad&quot;)]</text>\n",
              "</g>\n",
              "<!-- p1&#45;&#45;p2 -->\n",
              "<g id=\"edge1\" class=\"edge\">\n",
              "<title>p1&#45;&#45;p2</title>\n",
              "<path fill=\"none\" stroke=\"black\" d=\"M294.5,-145.7C294.5,-134.85 294.5,-120.92 294.5,-110.1\"/>\n",
              "</g>\n",
              "<!-- p3 -->\n",
              "<g id=\"node3\" class=\"node\">\n",
              "<title>p3</title>\n",
              "<polygon fill=\"none\" stroke=\"black\" points=\"589,-38 0,-38 0,0 589,0 589,-38\"/>\n",
              "<text text-anchor=\"middle\" x=\"294.5\" y=\"-22.8\" font-family=\"Times,serif\" font-size=\"14.00\">Csv SCAN [https://raw.githubusercontent.com/VINY2030/datasets/refs/heads/main/SaratogaHouses.csv]</text>\n",
              "<text text-anchor=\"middle\" x=\"294.5\" y=\"-7.8\" font-family=\"Times,serif\" font-size=\"14.00\">π */16;</text>\n",
              "</g>\n",
              "<!-- p2&#45;&#45;p3 -->\n",
              "<g id=\"edge2\" class=\"edge\">\n",
              "<title>p2&#45;&#45;p3</title>\n",
              "<path fill=\"none\" stroke=\"black\" d=\"M294.5,-73.81C294.5,-62.98 294.5,-49.01 294.5,-38.02\"/>\n",
              "</g>\n",
              "</g>\n",
              "</svg>\n"
            ]
          },
          "metadata": {},
          "execution_count": 31
        }
      ]
    },
    {
      "cell_type": "markdown",
      "source": [
        "###Con el método por defecto collect, Polars procesa todos sus datos como un solo lote. Esto significa que todos los datos deben caber en la memoria disponible en el punto de mayor uso de la memoria en la consulta."
      ],
      "metadata": {
        "id": "rc6Xj83Edmky"
      }
    },
    {
      "cell_type": "markdown",
      "source": [],
      "metadata": {
        "id": "U2J5kpHffM-n"
      }
    },
    {
      "cell_type": "markdown",
      "source": [
        "\n",
        "# **<font color=\"#07a8ed\">Ejecución en datos más grandes que la memoria**"
      ],
      "metadata": {
        "id": "qwdMq6-xfPne"
      }
    },
    {
      "cell_type": "markdown",
      "source": [
        "\n",
        "##Si nuestros datos requieren más memoria de la que tenemos disponible, es posible que Polars pueda procesar los datos en lotes (batches en inglés) utilizando el modo de streaming. Para usar el modo streaming simplemente pasamos el argumento streaming=True a collect."
      ],
      "metadata": {
        "id": "JaaJeCmifHnw"
      }
    },
    {
      "cell_type": "code",
      "source": [
        "query = (\n",
        "    pl.scan_csv('https://raw.githubusercontent.com/VINY2030/datasets/refs/heads/main/SaratogaHouses.csv')\n",
        "    .with_columns(antiguedad=(pl.col('antiguedad') > 60))\n",
        "    .filter(pl.col('precio') > 50000) # Use pl.col aqui para su consistencia\n",
        "    .collect(streaming=True)\n",
        ")"
      ],
      "metadata": {
        "id": "I9HaZdvqffVI"
      },
      "execution_count": 32,
      "outputs": []
    },
    {
      "cell_type": "code",
      "source": [
        "query"
      ],
      "metadata": {
        "colab": {
          "base_uri": "https://localhost:8080/",
          "height": 532
        },
        "id": "P2dhRgtQfkMA",
        "outputId": "f2bf2558-ad7c-4980-e685-845a9fa78feb"
      },
      "execution_count": 33,
      "outputs": [
        {
          "output_type": "execute_result",
          "data": {
            "text/plain": [
              "shape: (1_721, 16)\n",
              "┌──────┬────────┬─────────────┬────────────┬───┬────────────┬────────────┬────────────┬────────────┐\n",
              "│      ┆ precio ┆ metros_tota ┆ antiguedad ┆ … ┆ desague    ┆ vistas_lag ┆ nueva_cons ┆ aire_acond │\n",
              "│ ---  ┆ ---    ┆ les         ┆ ---        ┆   ┆ ---        ┆ o          ┆ truccion   ┆ icionado   │\n",
              "│ i64  ┆ i64    ┆ ---         ┆ bool       ┆   ┆ str        ┆ ---        ┆ ---        ┆ ---        │\n",
              "│      ┆        ┆ f64         ┆            ┆   ┆            ┆ str        ┆ str        ┆ str        │\n",
              "╞══════╪════════╪═════════════╪════════════╪═══╪════════════╪════════════╪════════════╪════════════╡\n",
              "│ 0    ┆ 132500 ┆ 0.09        ┆ false      ┆ … ┆ septic     ┆ No         ┆ No         ┆ No         │\n",
              "│ 1    ┆ 181115 ┆ 0.92        ┆ false      ┆ … ┆ septic     ┆ No         ┆ No         ┆ No         │\n",
              "│ 2    ┆ 109000 ┆ 0.19        ┆ true       ┆ … ┆ public/com ┆ No         ┆ No         ┆ No         │\n",
              "│      ┆        ┆             ┆            ┆   ┆ mercial    ┆            ┆            ┆            │\n",
              "│ 3    ┆ 155000 ┆ 0.41        ┆ false      ┆ … ┆ septic     ┆ No         ┆ No         ┆ No         │\n",
              "│ 4    ┆ 86060  ┆ 0.11        ┆ false      ┆ … ┆ public/com ┆ No         ┆ Yes        ┆ Yes        │\n",
              "│      ┆        ┆             ┆            ┆   ┆ mercial    ┆            ┆            ┆            │\n",
              "│ …    ┆ …      ┆ …           ┆ …          ┆ … ┆ …          ┆ …          ┆ …          ┆ …          │\n",
              "│ 1723 ┆ 289000 ┆ 0.38        ┆ false      ┆ … ┆ public/com ┆ No         ┆ No         ┆ No         │\n",
              "│      ┆        ┆             ┆            ┆   ┆ mercial    ┆            ┆            ┆            │\n",
              "│ 1724 ┆ 285000 ┆ 0.94        ┆ false      ┆ … ┆ public/com ┆ No         ┆ No         ┆ No         │\n",
              "│      ┆        ┆             ┆            ┆   ┆ mercial    ┆            ┆            ┆            │\n",
              "│ 1725 ┆ 194900 ┆ 0.39        ┆ false      ┆ … ┆ public/com ┆ No         ┆ No         ┆ No         │\n",
              "│      ┆        ┆             ┆            ┆   ┆ mercial    ┆            ┆            ┆            │\n",
              "│ 1726 ┆ 125000 ┆ 0.24        ┆ false      ┆ … ┆ public/com ┆ No         ┆ No         ┆ No         │\n",
              "│      ┆        ┆             ┆            ┆   ┆ mercial    ┆            ┆            ┆            │\n",
              "│ 1727 ┆ 111300 ┆ 0.59        ┆ true       ┆ … ┆ septic     ┆ No         ┆ No         ┆ No         │\n",
              "└──────┴────────┴─────────────┴────────────┴───┴────────────┴────────────┴────────────┴────────────┘"
            ],
            "text/html": [
              "<div><style>\n",
              ".dataframe > thead > tr,\n",
              ".dataframe > tbody > tr {\n",
              "  text-align: right;\n",
              "  white-space: pre-wrap;\n",
              "}\n",
              "</style>\n",
              "<small>shape: (1_721, 16)</small><table border=\"1\" class=\"dataframe\"><thead><tr><th></th><th>precio</th><th>metros_totales</th><th>antiguedad</th><th>precio_terreno</th><th>metros_habitables</th><th>universitarios</th><th>dormitorios</th><th>baños</th><th>habitaciones</th><th>calefaccion</th><th>consumo_calefacion</th><th>desague</th><th>vistas_lago</th><th>nueva_construccion</th><th>aire_acondicionado</th></tr><tr><td>i64</td><td>i64</td><td>f64</td><td>bool</td><td>i64</td><td>i64</td><td>i64</td><td>i64</td><td>f64</td><td>i64</td><td>str</td><td>str</td><td>str</td><td>str</td><td>str</td><td>str</td></tr></thead><tbody><tr><td>0</td><td>132500</td><td>0.09</td><td>false</td><td>50000</td><td>906</td><td>35</td><td>2</td><td>1.0</td><td>5</td><td>&quot;electric&quot;</td><td>&quot;electric&quot;</td><td>&quot;septic&quot;</td><td>&quot;No&quot;</td><td>&quot;No&quot;</td><td>&quot;No&quot;</td></tr><tr><td>1</td><td>181115</td><td>0.92</td><td>false</td><td>22300</td><td>1953</td><td>51</td><td>3</td><td>2.5</td><td>6</td><td>&quot;hot water/steam&quot;</td><td>&quot;gas&quot;</td><td>&quot;septic&quot;</td><td>&quot;No&quot;</td><td>&quot;No&quot;</td><td>&quot;No&quot;</td></tr><tr><td>2</td><td>109000</td><td>0.19</td><td>true</td><td>7300</td><td>1944</td><td>51</td><td>4</td><td>1.0</td><td>8</td><td>&quot;hot water/steam&quot;</td><td>&quot;gas&quot;</td><td>&quot;public/commercial&quot;</td><td>&quot;No&quot;</td><td>&quot;No&quot;</td><td>&quot;No&quot;</td></tr><tr><td>3</td><td>155000</td><td>0.41</td><td>false</td><td>18700</td><td>1944</td><td>51</td><td>3</td><td>1.5</td><td>5</td><td>&quot;hot air&quot;</td><td>&quot;gas&quot;</td><td>&quot;septic&quot;</td><td>&quot;No&quot;</td><td>&quot;No&quot;</td><td>&quot;No&quot;</td></tr><tr><td>4</td><td>86060</td><td>0.11</td><td>false</td><td>15000</td><td>840</td><td>51</td><td>2</td><td>1.0</td><td>3</td><td>&quot;hot air&quot;</td><td>&quot;gas&quot;</td><td>&quot;public/commercial&quot;</td><td>&quot;No&quot;</td><td>&quot;Yes&quot;</td><td>&quot;Yes&quot;</td></tr><tr><td>&hellip;</td><td>&hellip;</td><td>&hellip;</td><td>&hellip;</td><td>&hellip;</td><td>&hellip;</td><td>&hellip;</td><td>&hellip;</td><td>&hellip;</td><td>&hellip;</td><td>&hellip;</td><td>&hellip;</td><td>&hellip;</td><td>&hellip;</td><td>&hellip;</td><td>&hellip;</td></tr><tr><td>1723</td><td>289000</td><td>0.38</td><td>false</td><td>24200</td><td>2310</td><td>61</td><td>5</td><td>2.5</td><td>11</td><td>&quot;hot water/steam&quot;</td><td>&quot;gas&quot;</td><td>&quot;public/commercial&quot;</td><td>&quot;No&quot;</td><td>&quot;No&quot;</td><td>&quot;No&quot;</td></tr><tr><td>1724</td><td>285000</td><td>0.94</td><td>false</td><td>36200</td><td>2564</td><td>61</td><td>4</td><td>2.5</td><td>11</td><td>&quot;hot water/steam&quot;</td><td>&quot;gas&quot;</td><td>&quot;public/commercial&quot;</td><td>&quot;No&quot;</td><td>&quot;No&quot;</td><td>&quot;No&quot;</td></tr><tr><td>1725</td><td>194900</td><td>0.39</td><td>false</td><td>20400</td><td>1099</td><td>51</td><td>2</td><td>1.0</td><td>3</td><td>&quot;hot air&quot;</td><td>&quot;gas&quot;</td><td>&quot;public/commercial&quot;</td><td>&quot;No&quot;</td><td>&quot;No&quot;</td><td>&quot;No&quot;</td></tr><tr><td>1726</td><td>125000</td><td>0.24</td><td>false</td><td>16800</td><td>1225</td><td>51</td><td>3</td><td>1.0</td><td>7</td><td>&quot;hot air&quot;</td><td>&quot;gas&quot;</td><td>&quot;public/commercial&quot;</td><td>&quot;No&quot;</td><td>&quot;No&quot;</td><td>&quot;No&quot;</td></tr><tr><td>1727</td><td>111300</td><td>0.59</td><td>true</td><td>26000</td><td>1959</td><td>51</td><td>3</td><td>1.0</td><td>6</td><td>&quot;hot air&quot;</td><td>&quot;gas&quot;</td><td>&quot;septic&quot;</td><td>&quot;No&quot;</td><td>&quot;No&quot;</td><td>&quot;No&quot;</td></tr></tbody></table></div>"
            ]
          },
          "metadata": {},
          "execution_count": 33
        }
      ]
    },
    {
      "cell_type": "markdown",
      "source": [
        "\n",
        "# **<font color=\"#07a8ed\">Ejecución en un conjunto de datos parcial**"
      ],
      "metadata": {
        "id": "KxDuK4JYfxIG"
      }
    },
    {
      "cell_type": "markdown",
      "source": [
        "###Mientras escribimos, optimizamos o verificamos nuestra consulta en un conjunto de datos grande, consultar todos los datos disponibles puede provocar un proceso de desarrollo lento.\n",
        "\n",
        "##En su lugar, podemos ejecutar la consulta con el método .fetch. El método .fetch toma un parámetro n_rows e intenta \"obtener\" (fetch) esa cantidad de filas en la fuente de datos. Sin embargo, no se puede garantizar el número de filas, ya que la API lazy no cuenta cuántas filas hay en cada etapa de la consulta."
      ],
      "metadata": {
        "id": "Bmuzwxcuf2p4"
      }
    },
    {
      "cell_type": "code",
      "source": [
        "query = (\n",
        "    pl.scan_csv('https://raw.githubusercontent.com/VINY2030/datasets/refs/heads/main/SaratogaHouses.csv')\n",
        "    .with_columns(antiguedad=(pl.col('antiguedad') > 60))\n",
        "    .filter(pl.col('precio') > 50000) # Use pl.col aqui para su consistencia\n",
        "\n",
        ")\n",
        "query.fetch(n_rows=20)"
      ],
      "metadata": {
        "colab": {
          "base_uri": "https://localhost:8080/",
          "height": 568
        },
        "id": "FeirvYkzf9I3",
        "outputId": "28768f63-e498-47a0-f7c3-21dbd4700ef4"
      },
      "execution_count": 34,
      "outputs": [
        {
          "output_type": "stream",
          "name": "stderr",
          "text": [
            "<ipython-input-34-a0d3ed8aaf1d>:7: DeprecationWarning: `LazyFrame.fetch` is deprecated. `LazyFrame.fetch` is deprecated; use `LazyFrame.collect` instead, in conjunction with a call to `head`.\n",
            "  query.fetch(n_rows=20)\n"
          ]
        },
        {
          "output_type": "execute_result",
          "data": {
            "text/plain": [
              "shape: (20, 16)\n",
              "┌─────┬────────┬─────────────┬────────────┬───┬─────────────┬────────────┬────────────┬────────────┐\n",
              "│     ┆ precio ┆ metros_tota ┆ antiguedad ┆ … ┆ desague     ┆ vistas_lag ┆ nueva_cons ┆ aire_acond │\n",
              "│ --- ┆ ---    ┆ les         ┆ ---        ┆   ┆ ---         ┆ o          ┆ truccion   ┆ icionado   │\n",
              "│ i64 ┆ i64    ┆ ---         ┆ bool       ┆   ┆ str         ┆ ---        ┆ ---        ┆ ---        │\n",
              "│     ┆        ┆ f64         ┆            ┆   ┆             ┆ str        ┆ str        ┆ str        │\n",
              "╞═════╪════════╪═════════════╪════════════╪═══╪═════════════╪════════════╪════════════╪════════════╡\n",
              "│ 0   ┆ 132500 ┆ 0.09        ┆ false      ┆ … ┆ septic      ┆ No         ┆ No         ┆ No         │\n",
              "│ 1   ┆ 181115 ┆ 0.92        ┆ false      ┆ … ┆ septic      ┆ No         ┆ No         ┆ No         │\n",
              "│ 2   ┆ 109000 ┆ 0.19        ┆ true       ┆ … ┆ public/comm ┆ No         ┆ No         ┆ No         │\n",
              "│     ┆        ┆             ┆            ┆   ┆ ercial      ┆            ┆            ┆            │\n",
              "│ 3   ┆ 155000 ┆ 0.41        ┆ false      ┆ … ┆ septic      ┆ No         ┆ No         ┆ No         │\n",
              "│ 4   ┆ 86060  ┆ 0.11        ┆ false      ┆ … ┆ public/comm ┆ No         ┆ Yes        ┆ Yes        │\n",
              "│     ┆        ┆             ┆            ┆   ┆ ercial      ┆            ┆            ┆            │\n",
              "│ …   ┆ …      ┆ …           ┆ …          ┆ … ┆ …           ┆ …          ┆ …          ┆ …          │\n",
              "│ 15  ┆ 89900  ┆ 0.0         ┆ true       ┆ … ┆ public/comm ┆ No         ┆ No         ┆ No         │\n",
              "│     ┆        ┆             ┆            ┆   ┆ ercial      ┆            ┆            ┆            │\n",
              "│ 16  ┆ 155000 ┆ 0.13        ┆ false      ┆ … ┆ septic      ┆ No         ┆ No         ┆ No         │\n",
              "│ 17  ┆ 253750 ┆ 2.0         ┆ false      ┆ … ┆ none        ┆ No         ┆ No         ┆ Yes        │\n",
              "│ 18  ┆ 60000  ┆ 0.21        ┆ true       ┆ … ┆ septic      ┆ No         ┆ No         ┆ No         │\n",
              "│ 19  ┆ 87500  ┆ 0.88        ┆ false      ┆ … ┆ septic      ┆ No         ┆ No         ┆ No         │\n",
              "└─────┴────────┴─────────────┴────────────┴───┴─────────────┴────────────┴────────────┴────────────┘"
            ],
            "text/html": [
              "<div><style>\n",
              ".dataframe > thead > tr,\n",
              ".dataframe > tbody > tr {\n",
              "  text-align: right;\n",
              "  white-space: pre-wrap;\n",
              "}\n",
              "</style>\n",
              "<small>shape: (20, 16)</small><table border=\"1\" class=\"dataframe\"><thead><tr><th></th><th>precio</th><th>metros_totales</th><th>antiguedad</th><th>precio_terreno</th><th>metros_habitables</th><th>universitarios</th><th>dormitorios</th><th>baños</th><th>habitaciones</th><th>calefaccion</th><th>consumo_calefacion</th><th>desague</th><th>vistas_lago</th><th>nueva_construccion</th><th>aire_acondicionado</th></tr><tr><td>i64</td><td>i64</td><td>f64</td><td>bool</td><td>i64</td><td>i64</td><td>i64</td><td>i64</td><td>f64</td><td>i64</td><td>str</td><td>str</td><td>str</td><td>str</td><td>str</td><td>str</td></tr></thead><tbody><tr><td>0</td><td>132500</td><td>0.09</td><td>false</td><td>50000</td><td>906</td><td>35</td><td>2</td><td>1.0</td><td>5</td><td>&quot;electric&quot;</td><td>&quot;electric&quot;</td><td>&quot;septic&quot;</td><td>&quot;No&quot;</td><td>&quot;No&quot;</td><td>&quot;No&quot;</td></tr><tr><td>1</td><td>181115</td><td>0.92</td><td>false</td><td>22300</td><td>1953</td><td>51</td><td>3</td><td>2.5</td><td>6</td><td>&quot;hot water/steam&quot;</td><td>&quot;gas&quot;</td><td>&quot;septic&quot;</td><td>&quot;No&quot;</td><td>&quot;No&quot;</td><td>&quot;No&quot;</td></tr><tr><td>2</td><td>109000</td><td>0.19</td><td>true</td><td>7300</td><td>1944</td><td>51</td><td>4</td><td>1.0</td><td>8</td><td>&quot;hot water/steam&quot;</td><td>&quot;gas&quot;</td><td>&quot;public/commercial&quot;</td><td>&quot;No&quot;</td><td>&quot;No&quot;</td><td>&quot;No&quot;</td></tr><tr><td>3</td><td>155000</td><td>0.41</td><td>false</td><td>18700</td><td>1944</td><td>51</td><td>3</td><td>1.5</td><td>5</td><td>&quot;hot air&quot;</td><td>&quot;gas&quot;</td><td>&quot;septic&quot;</td><td>&quot;No&quot;</td><td>&quot;No&quot;</td><td>&quot;No&quot;</td></tr><tr><td>4</td><td>86060</td><td>0.11</td><td>false</td><td>15000</td><td>840</td><td>51</td><td>2</td><td>1.0</td><td>3</td><td>&quot;hot air&quot;</td><td>&quot;gas&quot;</td><td>&quot;public/commercial&quot;</td><td>&quot;No&quot;</td><td>&quot;Yes&quot;</td><td>&quot;Yes&quot;</td></tr><tr><td>&hellip;</td><td>&hellip;</td><td>&hellip;</td><td>&hellip;</td><td>&hellip;</td><td>&hellip;</td><td>&hellip;</td><td>&hellip;</td><td>&hellip;</td><td>&hellip;</td><td>&hellip;</td><td>&hellip;</td><td>&hellip;</td><td>&hellip;</td><td>&hellip;</td><td>&hellip;</td></tr><tr><td>15</td><td>89900</td><td>0.0</td><td>true</td><td>2500</td><td>936</td><td>57</td><td>3</td><td>1.0</td><td>4</td><td>&quot;hot water/steam&quot;</td><td>&quot;gas&quot;</td><td>&quot;public/commercial&quot;</td><td>&quot;No&quot;</td><td>&quot;No&quot;</td><td>&quot;No&quot;</td></tr><tr><td>16</td><td>155000</td><td>0.13</td><td>false</td><td>300</td><td>1300</td><td>41</td><td>3</td><td>1.5</td><td>7</td><td>&quot;hot air&quot;</td><td>&quot;oil&quot;</td><td>&quot;septic&quot;</td><td>&quot;No&quot;</td><td>&quot;No&quot;</td><td>&quot;No&quot;</td></tr><tr><td>17</td><td>253750</td><td>2.0</td><td>false</td><td>49800</td><td>2816</td><td>71</td><td>4</td><td>2.5</td><td>12</td><td>&quot;hot air&quot;</td><td>&quot;gas&quot;</td><td>&quot;none&quot;</td><td>&quot;No&quot;</td><td>&quot;No&quot;</td><td>&quot;Yes&quot;</td></tr><tr><td>18</td><td>60000</td><td>0.21</td><td>true</td><td>8500</td><td>924</td><td>35</td><td>2</td><td>1.0</td><td>6</td><td>&quot;hot water/steam&quot;</td><td>&quot;oil&quot;</td><td>&quot;septic&quot;</td><td>&quot;No&quot;</td><td>&quot;No&quot;</td><td>&quot;No&quot;</td></tr><tr><td>19</td><td>87500</td><td>0.88</td><td>false</td><td>19400</td><td>1092</td><td>35</td><td>3</td><td>1.0</td><td>6</td><td>&quot;hot air&quot;</td><td>&quot;oil&quot;</td><td>&quot;septic&quot;</td><td>&quot;No&quot;</td><td>&quot;No&quot;</td><td>&quot;No&quot;</td></tr></tbody></table></div>"
            ]
          },
          "metadata": {},
          "execution_count": 34
        }
      ]
    },
    {
      "cell_type": "markdown",
      "source": [
        "\n",
        "# **<font color=\"#07a8ed\">Lazy Frames Agregaciones**"
      ],
      "metadata": {
        "id": "k7HKOnus0uI6"
      }
    },
    {
      "cell_type": "code",
      "source": [
        "import polars as pl\n",
        "\n",
        "lf = pl.LazyFrame(\n",
        "    {\n",
        "        'id': [1,2,3],\n",
        "        'nombre': ['Jose', 'Ana', 'Rosa']\n",
        "    }\n",
        ")\n",
        "\n",
        "lf"
      ],
      "metadata": {
        "colab": {
          "base_uri": "https://localhost:8080/",
          "height": 167
        },
        "id": "MtWomLHc06Iq",
        "outputId": "b80861da-da1f-4389-8bc7-883ac1da634f"
      },
      "execution_count": 35,
      "outputs": [
        {
          "output_type": "execute_result",
          "data": {
            "text/plain": [
              "<LazyFrame at 0x7DC414406710>"
            ],
            "text/html": [
              "<h4>NAIVE QUERY PLAN</h4><p>run <b>LazyFrame.show_graph()</b> to see the optimized version</p><?xml version=\"1.0\" encoding=\"UTF-8\" standalone=\"no\"?>\n",
              "<!DOCTYPE svg PUBLIC \"-//W3C//DTD SVG 1.1//EN\"\n",
              " \"http://www.w3.org/Graphics/SVG/1.1/DTD/svg11.dtd\">\n",
              "<!-- Generated by graphviz version 2.43.0 (0)\n",
              " -->\n",
              "<!-- Title: polars_query Pages: 1 -->\n",
              "<svg width=\"67pt\" height=\"61pt\"\n",
              " viewBox=\"0.00 0.00 67.00 61.00\" xmlns=\"http://www.w3.org/2000/svg\" xmlns:xlink=\"http://www.w3.org/1999/xlink\">\n",
              "<g id=\"graph0\" class=\"graph\" transform=\"scale(1 1) rotate(0) translate(4 57)\">\n",
              "<title>polars_query</title>\n",
              "<polygon fill=\"white\" stroke=\"transparent\" points=\"-4,4 -4,-57 63,-57 63,4 -4,4\"/>\n",
              "<!-- p1 -->\n",
              "<g id=\"node1\" class=\"node\">\n",
              "<title>p1</title>\n",
              "<polygon fill=\"none\" stroke=\"black\" points=\"59,-53 0,-53 0,0 59,0 59,-53\"/>\n",
              "<text text-anchor=\"middle\" x=\"29.5\" y=\"-37.8\" font-family=\"Times,serif\" font-size=\"14.00\">TABLE</text>\n",
              "<text text-anchor=\"middle\" x=\"29.5\" y=\"-22.8\" font-family=\"Times,serif\" font-size=\"14.00\">π */2;</text>\n",
              "<text text-anchor=\"middle\" x=\"29.5\" y=\"-7.8\" font-family=\"Times,serif\" font-size=\"14.00\">σ None</text>\n",
              "</g>\n",
              "</g>\n",
              "</svg>\n"
            ]
          },
          "metadata": {},
          "execution_count": 35
        }
      ]
    },
    {
      "cell_type": "markdown",
      "source": [
        "##Si tratamos de mostar el LazyFrame como se muestra en la celda previa lo que obtendremos es una representación visual del plan de ejecución.\n",
        "\n",
        "###Por tanto si deseamos mostrar el LazyFrame debemos convertirlo a un DataFrame con la función collect y luego mostrarlo."
      ],
      "metadata": {
        "id": "KAr-fHsZ1cUS"
      }
    },
    {
      "cell_type": "code",
      "source": [
        "lf.show_graph()"
      ],
      "metadata": {
        "colab": {
          "base_uri": "https://localhost:8080/",
          "height": 102
        },
        "id": "Wu8BgJDI1INa",
        "outputId": "7efccb77-dbd6-4f34-bde0-2895a2742049"
      },
      "execution_count": 36,
      "outputs": [
        {
          "output_type": "display_data",
          "data": {
            "text/plain": [
              "<IPython.core.display.SVG object>"
            ],
            "image/svg+xml": "<svg xmlns=\"http://www.w3.org/2000/svg\" xmlns:xlink=\"http://www.w3.org/1999/xlink\" width=\"67pt\" height=\"61pt\" viewBox=\"0.00 0.00 67.00 61.00\">\n<g id=\"graph0\" class=\"graph\" transform=\"scale(1 1) rotate(0) translate(4 57)\">\n<title>polars_query</title>\n<polygon fill=\"white\" stroke=\"transparent\" points=\"-4,4 -4,-57 63,-57 63,4 -4,4\"/>\n<!-- p1 -->\n<g id=\"node1\" class=\"node\">\n<title>p1</title>\n<polygon fill=\"none\" stroke=\"black\" points=\"59,-53 0,-53 0,0 59,0 59,-53\"/>\n<text text-anchor=\"middle\" x=\"29.5\" y=\"-37.8\" font-family=\"Times,serif\" font-size=\"14.00\">TABLE</text>\n<text text-anchor=\"middle\" x=\"29.5\" y=\"-22.8\" font-family=\"Times,serif\" font-size=\"14.00\">π */2;</text>\n<text text-anchor=\"middle\" x=\"29.5\" y=\"-7.8\" font-family=\"Times,serif\" font-size=\"14.00\">σ None</text>\n</g>\n</g>\n</svg>"
          },
          "metadata": {}
        }
      ]
    },
    {
      "cell_type": "code",
      "source": [
        "lf.collect()"
      ],
      "metadata": {
        "colab": {
          "base_uri": "https://localhost:8080/",
          "height": 192
        },
        "id": "cJx9uyoB1AAS",
        "outputId": "f53b4126-6d7d-40d3-de5b-1dff520265ae"
      },
      "execution_count": 37,
      "outputs": [
        {
          "output_type": "execute_result",
          "data": {
            "text/plain": [
              "shape: (3, 2)\n",
              "┌─────┬────────┐\n",
              "│ id  ┆ nombre │\n",
              "│ --- ┆ ---    │\n",
              "│ i64 ┆ str    │\n",
              "╞═════╪════════╡\n",
              "│ 1   ┆ Jose   │\n",
              "│ 2   ┆ Ana    │\n",
              "│ 3   ┆ Rosa   │\n",
              "└─────┴────────┘"
            ],
            "text/html": [
              "<div><style>\n",
              ".dataframe > thead > tr,\n",
              ".dataframe > tbody > tr {\n",
              "  text-align: right;\n",
              "  white-space: pre-wrap;\n",
              "}\n",
              "</style>\n",
              "<small>shape: (3, 2)</small><table border=\"1\" class=\"dataframe\"><thead><tr><th>id</th><th>nombre</th></tr><tr><td>i64</td><td>str</td></tr></thead><tbody><tr><td>1</td><td>&quot;Jose&quot;</td></tr><tr><td>2</td><td>&quot;Ana&quot;</td></tr><tr><td>3</td><td>&quot;Rosa&quot;</td></tr></tbody></table></div>"
            ]
          },
          "metadata": {},
          "execution_count": 37
        }
      ]
    },
    {
      "cell_type": "markdown",
      "source": [
        "# **null_count**\n",
        "###Esta función retorna el conteo de valores nulos de cada columna."
      ],
      "metadata": {
        "id": "RNzTeOBQ1ohA"
      }
    },
    {
      "cell_type": "markdown",
      "source": [],
      "metadata": {
        "id": "ipl_VeMg1nXL"
      }
    },
    {
      "cell_type": "code",
      "source": [
        "df = (\n",
        "    pl.scan_csv('https://raw.githubusercontent.com/VINY2030/datasets/refs/heads/main/SaratogaHouses.csv')\n",
        ")\n",
        "df"
      ],
      "metadata": {
        "colab": {
          "base_uri": "https://localhost:8080/",
          "height": 147
        },
        "id": "Gs9080Ru1wIx",
        "outputId": "614a8cd1-012f-4232-c45e-a88753992a4f"
      },
      "execution_count": 64,
      "outputs": [
        {
          "output_type": "execute_result",
          "data": {
            "text/plain": [
              "<LazyFrame at 0x7DC41436E3E0>"
            ],
            "text/html": [
              "<h4>NAIVE QUERY PLAN</h4><p>run <b>LazyFrame.show_graph()</b> to see the optimized version</p><?xml version=\"1.0\" encoding=\"UTF-8\" standalone=\"no\"?>\n",
              "<!DOCTYPE svg PUBLIC \"-//W3C//DTD SVG 1.1//EN\"\n",
              " \"http://www.w3.org/Graphics/SVG/1.1/DTD/svg11.dtd\">\n",
              "<!-- Generated by graphviz version 2.43.0 (0)\n",
              " -->\n",
              "<!-- Title: polars_query Pages: 1 -->\n",
              "<svg width=\"597pt\" height=\"46pt\"\n",
              " viewBox=\"0.00 0.00 597.00 46.00\" xmlns=\"http://www.w3.org/2000/svg\" xmlns:xlink=\"http://www.w3.org/1999/xlink\">\n",
              "<g id=\"graph0\" class=\"graph\" transform=\"scale(1 1) rotate(0) translate(4 42)\">\n",
              "<title>polars_query</title>\n",
              "<polygon fill=\"white\" stroke=\"transparent\" points=\"-4,4 -4,-42 593,-42 593,4 -4,4\"/>\n",
              "<!-- p1 -->\n",
              "<g id=\"node1\" class=\"node\">\n",
              "<title>p1</title>\n",
              "<polygon fill=\"none\" stroke=\"black\" points=\"589,-38 0,-38 0,0 589,0 589,-38\"/>\n",
              "<text text-anchor=\"middle\" x=\"294.5\" y=\"-22.8\" font-family=\"Times,serif\" font-size=\"14.00\">Csv SCAN [https://raw.githubusercontent.com/VINY2030/datasets/refs/heads/main/SaratogaHouses.csv]</text>\n",
              "<text text-anchor=\"middle\" x=\"294.5\" y=\"-7.8\" font-family=\"Times,serif\" font-size=\"14.00\">π */16;</text>\n",
              "</g>\n",
              "</g>\n",
              "</svg>\n"
            ]
          },
          "metadata": {},
          "execution_count": 64
        }
      ]
    },
    {
      "cell_type": "code",
      "source": [
        "df.collect()"
      ],
      "metadata": {
        "colab": {
          "base_uri": "https://localhost:8080/",
          "height": 532
        },
        "id": "MFnLh-Ao138d",
        "outputId": "82605165-c00f-431e-b182-8b2882e7118c"
      },
      "execution_count": 39,
      "outputs": [
        {
          "output_type": "execute_result",
          "data": {
            "text/plain": [
              "shape: (1_728, 16)\n",
              "┌──────┬────────┬─────────────┬────────────┬───┬────────────┬────────────┬────────────┬────────────┐\n",
              "│      ┆ precio ┆ metros_tota ┆ antiguedad ┆ … ┆ desague    ┆ vistas_lag ┆ nueva_cons ┆ aire_acond │\n",
              "│ ---  ┆ ---    ┆ les         ┆ ---        ┆   ┆ ---        ┆ o          ┆ truccion   ┆ icionado   │\n",
              "│ i64  ┆ i64    ┆ ---         ┆ i64        ┆   ┆ str        ┆ ---        ┆ ---        ┆ ---        │\n",
              "│      ┆        ┆ f64         ┆            ┆   ┆            ┆ str        ┆ str        ┆ str        │\n",
              "╞══════╪════════╪═════════════╪════════════╪═══╪════════════╪════════════╪════════════╪════════════╡\n",
              "│ 0    ┆ 132500 ┆ 0.09        ┆ 42         ┆ … ┆ septic     ┆ No         ┆ No         ┆ No         │\n",
              "│ 1    ┆ 181115 ┆ 0.92        ┆ 0          ┆ … ┆ septic     ┆ No         ┆ No         ┆ No         │\n",
              "│ 2    ┆ 109000 ┆ 0.19        ┆ 133        ┆ … ┆ public/com ┆ No         ┆ No         ┆ No         │\n",
              "│      ┆        ┆             ┆            ┆   ┆ mercial    ┆            ┆            ┆            │\n",
              "│ 3    ┆ 155000 ┆ 0.41        ┆ 13         ┆ … ┆ septic     ┆ No         ┆ No         ┆ No         │\n",
              "│ 4    ┆ 86060  ┆ 0.11        ┆ 0          ┆ … ┆ public/com ┆ No         ┆ Yes        ┆ Yes        │\n",
              "│      ┆        ┆             ┆            ┆   ┆ mercial    ┆            ┆            ┆            │\n",
              "│ …    ┆ …      ┆ …           ┆ …          ┆ … ┆ …          ┆ …          ┆ …          ┆ …          │\n",
              "│ 1723 ┆ 289000 ┆ 0.38        ┆ 32         ┆ … ┆ public/com ┆ No         ┆ No         ┆ No         │\n",
              "│      ┆        ┆             ┆            ┆   ┆ mercial    ┆            ┆            ┆            │\n",
              "│ 1724 ┆ 285000 ┆ 0.94        ┆ 37         ┆ … ┆ public/com ┆ No         ┆ No         ┆ No         │\n",
              "│      ┆        ┆             ┆            ┆   ┆ mercial    ┆            ┆            ┆            │\n",
              "│ 1725 ┆ 194900 ┆ 0.39        ┆ 9          ┆ … ┆ public/com ┆ No         ┆ No         ┆ No         │\n",
              "│      ┆        ┆             ┆            ┆   ┆ mercial    ┆            ┆            ┆            │\n",
              "│ 1726 ┆ 125000 ┆ 0.24        ┆ 48         ┆ … ┆ public/com ┆ No         ┆ No         ┆ No         │\n",
              "│      ┆        ┆             ┆            ┆   ┆ mercial    ┆            ┆            ┆            │\n",
              "│ 1727 ┆ 111300 ┆ 0.59        ┆ 86         ┆ … ┆ septic     ┆ No         ┆ No         ┆ No         │\n",
              "└──────┴────────┴─────────────┴────────────┴───┴────────────┴────────────┴────────────┴────────────┘"
            ],
            "text/html": [
              "<div><style>\n",
              ".dataframe > thead > tr,\n",
              ".dataframe > tbody > tr {\n",
              "  text-align: right;\n",
              "  white-space: pre-wrap;\n",
              "}\n",
              "</style>\n",
              "<small>shape: (1_728, 16)</small><table border=\"1\" class=\"dataframe\"><thead><tr><th></th><th>precio</th><th>metros_totales</th><th>antiguedad</th><th>precio_terreno</th><th>metros_habitables</th><th>universitarios</th><th>dormitorios</th><th>baños</th><th>habitaciones</th><th>calefaccion</th><th>consumo_calefacion</th><th>desague</th><th>vistas_lago</th><th>nueva_construccion</th><th>aire_acondicionado</th></tr><tr><td>i64</td><td>i64</td><td>f64</td><td>i64</td><td>i64</td><td>i64</td><td>i64</td><td>i64</td><td>f64</td><td>i64</td><td>str</td><td>str</td><td>str</td><td>str</td><td>str</td><td>str</td></tr></thead><tbody><tr><td>0</td><td>132500</td><td>0.09</td><td>42</td><td>50000</td><td>906</td><td>35</td><td>2</td><td>1.0</td><td>5</td><td>&quot;electric&quot;</td><td>&quot;electric&quot;</td><td>&quot;septic&quot;</td><td>&quot;No&quot;</td><td>&quot;No&quot;</td><td>&quot;No&quot;</td></tr><tr><td>1</td><td>181115</td><td>0.92</td><td>0</td><td>22300</td><td>1953</td><td>51</td><td>3</td><td>2.5</td><td>6</td><td>&quot;hot water/steam&quot;</td><td>&quot;gas&quot;</td><td>&quot;septic&quot;</td><td>&quot;No&quot;</td><td>&quot;No&quot;</td><td>&quot;No&quot;</td></tr><tr><td>2</td><td>109000</td><td>0.19</td><td>133</td><td>7300</td><td>1944</td><td>51</td><td>4</td><td>1.0</td><td>8</td><td>&quot;hot water/steam&quot;</td><td>&quot;gas&quot;</td><td>&quot;public/commercial&quot;</td><td>&quot;No&quot;</td><td>&quot;No&quot;</td><td>&quot;No&quot;</td></tr><tr><td>3</td><td>155000</td><td>0.41</td><td>13</td><td>18700</td><td>1944</td><td>51</td><td>3</td><td>1.5</td><td>5</td><td>&quot;hot air&quot;</td><td>&quot;gas&quot;</td><td>&quot;septic&quot;</td><td>&quot;No&quot;</td><td>&quot;No&quot;</td><td>&quot;No&quot;</td></tr><tr><td>4</td><td>86060</td><td>0.11</td><td>0</td><td>15000</td><td>840</td><td>51</td><td>2</td><td>1.0</td><td>3</td><td>&quot;hot air&quot;</td><td>&quot;gas&quot;</td><td>&quot;public/commercial&quot;</td><td>&quot;No&quot;</td><td>&quot;Yes&quot;</td><td>&quot;Yes&quot;</td></tr><tr><td>&hellip;</td><td>&hellip;</td><td>&hellip;</td><td>&hellip;</td><td>&hellip;</td><td>&hellip;</td><td>&hellip;</td><td>&hellip;</td><td>&hellip;</td><td>&hellip;</td><td>&hellip;</td><td>&hellip;</td><td>&hellip;</td><td>&hellip;</td><td>&hellip;</td><td>&hellip;</td></tr><tr><td>1723</td><td>289000</td><td>0.38</td><td>32</td><td>24200</td><td>2310</td><td>61</td><td>5</td><td>2.5</td><td>11</td><td>&quot;hot water/steam&quot;</td><td>&quot;gas&quot;</td><td>&quot;public/commercial&quot;</td><td>&quot;No&quot;</td><td>&quot;No&quot;</td><td>&quot;No&quot;</td></tr><tr><td>1724</td><td>285000</td><td>0.94</td><td>37</td><td>36200</td><td>2564</td><td>61</td><td>4</td><td>2.5</td><td>11</td><td>&quot;hot water/steam&quot;</td><td>&quot;gas&quot;</td><td>&quot;public/commercial&quot;</td><td>&quot;No&quot;</td><td>&quot;No&quot;</td><td>&quot;No&quot;</td></tr><tr><td>1725</td><td>194900</td><td>0.39</td><td>9</td><td>20400</td><td>1099</td><td>51</td><td>2</td><td>1.0</td><td>3</td><td>&quot;hot air&quot;</td><td>&quot;gas&quot;</td><td>&quot;public/commercial&quot;</td><td>&quot;No&quot;</td><td>&quot;No&quot;</td><td>&quot;No&quot;</td></tr><tr><td>1726</td><td>125000</td><td>0.24</td><td>48</td><td>16800</td><td>1225</td><td>51</td><td>3</td><td>1.0</td><td>7</td><td>&quot;hot air&quot;</td><td>&quot;gas&quot;</td><td>&quot;public/commercial&quot;</td><td>&quot;No&quot;</td><td>&quot;No&quot;</td><td>&quot;No&quot;</td></tr><tr><td>1727</td><td>111300</td><td>0.59</td><td>86</td><td>26000</td><td>1959</td><td>51</td><td>3</td><td>1.0</td><td>6</td><td>&quot;hot air&quot;</td><td>&quot;gas&quot;</td><td>&quot;septic&quot;</td><td>&quot;No&quot;</td><td>&quot;No&quot;</td><td>&quot;No&quot;</td></tr></tbody></table></div>"
            ]
          },
          "metadata": {},
          "execution_count": 39
        }
      ]
    },
    {
      "cell_type": "code",
      "source": [
        "df.null_count().collect()"
      ],
      "metadata": {
        "colab": {
          "base_uri": "https://localhost:8080/",
          "height": 149
        },
        "id": "4vADEYyC2quy",
        "outputId": "c27b5814-be05-463d-9f70-928483aec4c7"
      },
      "execution_count": 40,
      "outputs": [
        {
          "output_type": "execute_result",
          "data": {
            "text/plain": [
              "shape: (1, 16)\n",
              "┌─────┬────────┬──────────────┬────────────┬───┬─────────┬─────────────┬─────────────┬─────────────┐\n",
              "│     ┆ precio ┆ metros_total ┆ antiguedad ┆ … ┆ desague ┆ vistas_lago ┆ nueva_const ┆ aire_acondi │\n",
              "│ --- ┆ ---    ┆ es           ┆ ---        ┆   ┆ ---     ┆ ---         ┆ ruccion     ┆ cionado     │\n",
              "│ u32 ┆ u32    ┆ ---          ┆ u32        ┆   ┆ u32     ┆ u32         ┆ ---         ┆ ---         │\n",
              "│     ┆        ┆ u32          ┆            ┆   ┆         ┆             ┆ u32         ┆ u32         │\n",
              "╞═════╪════════╪══════════════╪════════════╪═══╪═════════╪═════════════╪═════════════╪═════════════╡\n",
              "│ 0   ┆ 0      ┆ 0            ┆ 0          ┆ … ┆ 0       ┆ 0           ┆ 0           ┆ 0           │\n",
              "└─────┴────────┴──────────────┴────────────┴───┴─────────┴─────────────┴─────────────┴─────────────┘"
            ],
            "text/html": [
              "<div><style>\n",
              ".dataframe > thead > tr,\n",
              ".dataframe > tbody > tr {\n",
              "  text-align: right;\n",
              "  white-space: pre-wrap;\n",
              "}\n",
              "</style>\n",
              "<small>shape: (1, 16)</small><table border=\"1\" class=\"dataframe\"><thead><tr><th></th><th>precio</th><th>metros_totales</th><th>antiguedad</th><th>precio_terreno</th><th>metros_habitables</th><th>universitarios</th><th>dormitorios</th><th>baños</th><th>habitaciones</th><th>calefaccion</th><th>consumo_calefacion</th><th>desague</th><th>vistas_lago</th><th>nueva_construccion</th><th>aire_acondicionado</th></tr><tr><td>u32</td><td>u32</td><td>u32</td><td>u32</td><td>u32</td><td>u32</td><td>u32</td><td>u32</td><td>u32</td><td>u32</td><td>u32</td><td>u32</td><td>u32</td><td>u32</td><td>u32</td><td>u32</td></tr></thead><tbody><tr><td>0</td><td>0</td><td>0</td><td>0</td><td>0</td><td>0</td><td>0</td><td>0</td><td>0</td><td>0</td><td>0</td><td>0</td><td>0</td><td>0</td><td>0</td><td>0</td></tr></tbody></table></div>"
            ]
          },
          "metadata": {},
          "execution_count": 40
        }
      ]
    },
    {
      "cell_type": "code",
      "source": [
        "df.collect()"
      ],
      "metadata": {
        "colab": {
          "base_uri": "https://localhost:8080/",
          "height": 532
        },
        "id": "WF8CCsv42ucx",
        "outputId": "8e0a20d5-d695-4ffe-e2a5-8a3c2e2dc8e0"
      },
      "execution_count": 41,
      "outputs": [
        {
          "output_type": "execute_result",
          "data": {
            "text/plain": [
              "shape: (1_728, 16)\n",
              "┌──────┬────────┬─────────────┬────────────┬───┬────────────┬────────────┬────────────┬────────────┐\n",
              "│      ┆ precio ┆ metros_tota ┆ antiguedad ┆ … ┆ desague    ┆ vistas_lag ┆ nueva_cons ┆ aire_acond │\n",
              "│ ---  ┆ ---    ┆ les         ┆ ---        ┆   ┆ ---        ┆ o          ┆ truccion   ┆ icionado   │\n",
              "│ i64  ┆ i64    ┆ ---         ┆ i64        ┆   ┆ str        ┆ ---        ┆ ---        ┆ ---        │\n",
              "│      ┆        ┆ f64         ┆            ┆   ┆            ┆ str        ┆ str        ┆ str        │\n",
              "╞══════╪════════╪═════════════╪════════════╪═══╪════════════╪════════════╪════════════╪════════════╡\n",
              "│ 0    ┆ 132500 ┆ 0.09        ┆ 42         ┆ … ┆ septic     ┆ No         ┆ No         ┆ No         │\n",
              "│ 1    ┆ 181115 ┆ 0.92        ┆ 0          ┆ … ┆ septic     ┆ No         ┆ No         ┆ No         │\n",
              "│ 2    ┆ 109000 ┆ 0.19        ┆ 133        ┆ … ┆ public/com ┆ No         ┆ No         ┆ No         │\n",
              "│      ┆        ┆             ┆            ┆   ┆ mercial    ┆            ┆            ┆            │\n",
              "│ 3    ┆ 155000 ┆ 0.41        ┆ 13         ┆ … ┆ septic     ┆ No         ┆ No         ┆ No         │\n",
              "│ 4    ┆ 86060  ┆ 0.11        ┆ 0          ┆ … ┆ public/com ┆ No         ┆ Yes        ┆ Yes        │\n",
              "│      ┆        ┆             ┆            ┆   ┆ mercial    ┆            ┆            ┆            │\n",
              "│ …    ┆ …      ┆ …           ┆ …          ┆ … ┆ …          ┆ …          ┆ …          ┆ …          │\n",
              "│ 1723 ┆ 289000 ┆ 0.38        ┆ 32         ┆ … ┆ public/com ┆ No         ┆ No         ┆ No         │\n",
              "│      ┆        ┆             ┆            ┆   ┆ mercial    ┆            ┆            ┆            │\n",
              "│ 1724 ┆ 285000 ┆ 0.94        ┆ 37         ┆ … ┆ public/com ┆ No         ┆ No         ┆ No         │\n",
              "│      ┆        ┆             ┆            ┆   ┆ mercial    ┆            ┆            ┆            │\n",
              "│ 1725 ┆ 194900 ┆ 0.39        ┆ 9          ┆ … ┆ public/com ┆ No         ┆ No         ┆ No         │\n",
              "│      ┆        ┆             ┆            ┆   ┆ mercial    ┆            ┆            ┆            │\n",
              "│ 1726 ┆ 125000 ┆ 0.24        ┆ 48         ┆ … ┆ public/com ┆ No         ┆ No         ┆ No         │\n",
              "│      ┆        ┆             ┆            ┆   ┆ mercial    ┆            ┆            ┆            │\n",
              "│ 1727 ┆ 111300 ┆ 0.59        ┆ 86         ┆ … ┆ septic     ┆ No         ┆ No         ┆ No         │\n",
              "└──────┴────────┴─────────────┴────────────┴───┴────────────┴────────────┴────────────┴────────────┘"
            ],
            "text/html": [
              "<div><style>\n",
              ".dataframe > thead > tr,\n",
              ".dataframe > tbody > tr {\n",
              "  text-align: right;\n",
              "  white-space: pre-wrap;\n",
              "}\n",
              "</style>\n",
              "<small>shape: (1_728, 16)</small><table border=\"1\" class=\"dataframe\"><thead><tr><th></th><th>precio</th><th>metros_totales</th><th>antiguedad</th><th>precio_terreno</th><th>metros_habitables</th><th>universitarios</th><th>dormitorios</th><th>baños</th><th>habitaciones</th><th>calefaccion</th><th>consumo_calefacion</th><th>desague</th><th>vistas_lago</th><th>nueva_construccion</th><th>aire_acondicionado</th></tr><tr><td>i64</td><td>i64</td><td>f64</td><td>i64</td><td>i64</td><td>i64</td><td>i64</td><td>i64</td><td>f64</td><td>i64</td><td>str</td><td>str</td><td>str</td><td>str</td><td>str</td><td>str</td></tr></thead><tbody><tr><td>0</td><td>132500</td><td>0.09</td><td>42</td><td>50000</td><td>906</td><td>35</td><td>2</td><td>1.0</td><td>5</td><td>&quot;electric&quot;</td><td>&quot;electric&quot;</td><td>&quot;septic&quot;</td><td>&quot;No&quot;</td><td>&quot;No&quot;</td><td>&quot;No&quot;</td></tr><tr><td>1</td><td>181115</td><td>0.92</td><td>0</td><td>22300</td><td>1953</td><td>51</td><td>3</td><td>2.5</td><td>6</td><td>&quot;hot water/steam&quot;</td><td>&quot;gas&quot;</td><td>&quot;septic&quot;</td><td>&quot;No&quot;</td><td>&quot;No&quot;</td><td>&quot;No&quot;</td></tr><tr><td>2</td><td>109000</td><td>0.19</td><td>133</td><td>7300</td><td>1944</td><td>51</td><td>4</td><td>1.0</td><td>8</td><td>&quot;hot water/steam&quot;</td><td>&quot;gas&quot;</td><td>&quot;public/commercial&quot;</td><td>&quot;No&quot;</td><td>&quot;No&quot;</td><td>&quot;No&quot;</td></tr><tr><td>3</td><td>155000</td><td>0.41</td><td>13</td><td>18700</td><td>1944</td><td>51</td><td>3</td><td>1.5</td><td>5</td><td>&quot;hot air&quot;</td><td>&quot;gas&quot;</td><td>&quot;septic&quot;</td><td>&quot;No&quot;</td><td>&quot;No&quot;</td><td>&quot;No&quot;</td></tr><tr><td>4</td><td>86060</td><td>0.11</td><td>0</td><td>15000</td><td>840</td><td>51</td><td>2</td><td>1.0</td><td>3</td><td>&quot;hot air&quot;</td><td>&quot;gas&quot;</td><td>&quot;public/commercial&quot;</td><td>&quot;No&quot;</td><td>&quot;Yes&quot;</td><td>&quot;Yes&quot;</td></tr><tr><td>&hellip;</td><td>&hellip;</td><td>&hellip;</td><td>&hellip;</td><td>&hellip;</td><td>&hellip;</td><td>&hellip;</td><td>&hellip;</td><td>&hellip;</td><td>&hellip;</td><td>&hellip;</td><td>&hellip;</td><td>&hellip;</td><td>&hellip;</td><td>&hellip;</td><td>&hellip;</td></tr><tr><td>1723</td><td>289000</td><td>0.38</td><td>32</td><td>24200</td><td>2310</td><td>61</td><td>5</td><td>2.5</td><td>11</td><td>&quot;hot water/steam&quot;</td><td>&quot;gas&quot;</td><td>&quot;public/commercial&quot;</td><td>&quot;No&quot;</td><td>&quot;No&quot;</td><td>&quot;No&quot;</td></tr><tr><td>1724</td><td>285000</td><td>0.94</td><td>37</td><td>36200</td><td>2564</td><td>61</td><td>4</td><td>2.5</td><td>11</td><td>&quot;hot water/steam&quot;</td><td>&quot;gas&quot;</td><td>&quot;public/commercial&quot;</td><td>&quot;No&quot;</td><td>&quot;No&quot;</td><td>&quot;No&quot;</td></tr><tr><td>1725</td><td>194900</td><td>0.39</td><td>9</td><td>20400</td><td>1099</td><td>51</td><td>2</td><td>1.0</td><td>3</td><td>&quot;hot air&quot;</td><td>&quot;gas&quot;</td><td>&quot;public/commercial&quot;</td><td>&quot;No&quot;</td><td>&quot;No&quot;</td><td>&quot;No&quot;</td></tr><tr><td>1726</td><td>125000</td><td>0.24</td><td>48</td><td>16800</td><td>1225</td><td>51</td><td>3</td><td>1.0</td><td>7</td><td>&quot;hot air&quot;</td><td>&quot;gas&quot;</td><td>&quot;public/commercial&quot;</td><td>&quot;No&quot;</td><td>&quot;No&quot;</td><td>&quot;No&quot;</td></tr><tr><td>1727</td><td>111300</td><td>0.59</td><td>86</td><td>26000</td><td>1959</td><td>51</td><td>3</td><td>1.0</td><td>6</td><td>&quot;hot air&quot;</td><td>&quot;gas&quot;</td><td>&quot;septic&quot;</td><td>&quot;No&quot;</td><td>&quot;No&quot;</td><td>&quot;No&quot;</td></tr></tbody></table></div>"
            ]
          },
          "metadata": {},
          "execution_count": 41
        }
      ]
    },
    {
      "cell_type": "markdown",
      "source": [
        "# **sum**\n",
        "###Esta función devuelve la suma de los valores de cada columna del DataFrame."
      ],
      "metadata": {
        "id": "8uAkKsLS18pB"
      }
    },
    {
      "cell_type": "code",
      "source": [
        "df.sum().collect()"
      ],
      "metadata": {
        "colab": {
          "base_uri": "https://localhost:8080/",
          "height": 149
        },
        "id": "v1b-xh9_2BtE",
        "outputId": "0e0da974-f9e5-41cb-e987-0c53ab3d79a2"
      },
      "execution_count": 42,
      "outputs": [
        {
          "output_type": "execute_result",
          "data": {
            "text/plain": [
              "shape: (1, 16)\n",
              "┌─────────┬───────────┬────────────┬────────────┬───┬─────────┬────────────┬───────────┬───────────┐\n",
              "│         ┆ precio    ┆ metros_tot ┆ antiguedad ┆ … ┆ desague ┆ vistas_lag ┆ nueva_con ┆ aire_acon │\n",
              "│ ---     ┆ ---       ┆ ales       ┆ ---        ┆   ┆ ---     ┆ o          ┆ struccion ┆ dicionado │\n",
              "│ i64     ┆ i64       ┆ ---        ┆ i64        ┆   ┆ str     ┆ ---        ┆ ---       ┆ ---       │\n",
              "│         ┆           ┆ f64        ┆            ┆   ┆         ┆ str        ┆ str       ┆ str       │\n",
              "╞═════════╪═══════════╪════════════╪════════════╪═══╪═════════╪════════════╪═══════════╪═══════════╡\n",
              "│ 1492128 ┆ 366278467 ┆ 864.37     ┆ 48239      ┆ … ┆ null    ┆ null       ┆ null      ┆ null      │\n",
              "└─────────┴───────────┴────────────┴────────────┴───┴─────────┴────────────┴───────────┴───────────┘"
            ],
            "text/html": [
              "<div><style>\n",
              ".dataframe > thead > tr,\n",
              ".dataframe > tbody > tr {\n",
              "  text-align: right;\n",
              "  white-space: pre-wrap;\n",
              "}\n",
              "</style>\n",
              "<small>shape: (1, 16)</small><table border=\"1\" class=\"dataframe\"><thead><tr><th></th><th>precio</th><th>metros_totales</th><th>antiguedad</th><th>precio_terreno</th><th>metros_habitables</th><th>universitarios</th><th>dormitorios</th><th>baños</th><th>habitaciones</th><th>calefaccion</th><th>consumo_calefacion</th><th>desague</th><th>vistas_lago</th><th>nueva_construccion</th><th>aire_acondicionado</th></tr><tr><td>i64</td><td>i64</td><td>f64</td><td>i64</td><td>i64</td><td>i64</td><td>i64</td><td>i64</td><td>f64</td><td>i64</td><td>str</td><td>str</td><td>str</td><td>str</td><td>str</td><td>str</td></tr></thead><tbody><tr><td>1492128</td><td>366278467</td><td>864.37</td><td>48239</td><td>59714820</td><td>3032598</td><td>96021</td><td>5451</td><td>3283.5</td><td>12168</td><td>null</td><td>null</td><td>null</td><td>null</td><td>null</td><td>null</td></tr></tbody></table></div>"
            ]
          },
          "metadata": {},
          "execution_count": 42
        }
      ]
    },
    {
      "cell_type": "markdown",
      "source": [
        "# ***min, max y mean***\n",
        "##Esta funciones se comportan igual en un DataFrame o un LazyFrame."
      ],
      "metadata": {
        "id": "ogquLu4y2MP6"
      }
    },
    {
      "cell_type": "code",
      "source": [
        "df.min()"
      ],
      "metadata": {
        "colab": {
          "base_uri": "https://localhost:8080/",
          "height": 243
        },
        "id": "pL6ElgVP2TFr",
        "outputId": "e2ee09cc-7017-420a-9058-a95ff8649015"
      },
      "execution_count": 43,
      "outputs": [
        {
          "output_type": "execute_result",
          "data": {
            "text/plain": [
              "<LazyFrame at 0x7DC414406350>"
            ],
            "text/html": [
              "<h4>NAIVE QUERY PLAN</h4><p>run <b>LazyFrame.show_graph()</b> to see the optimized version</p><?xml version=\"1.0\" encoding=\"UTF-8\" standalone=\"no\"?>\n",
              "<!DOCTYPE svg PUBLIC \"-//W3C//DTD SVG 1.1//EN\"\n",
              " \"http://www.w3.org/Graphics/SVG/1.1/DTD/svg11.dtd\">\n",
              "<!-- Generated by graphviz version 2.43.0 (0)\n",
              " -->\n",
              "<!-- Title: polars_query Pages: 1 -->\n",
              "<svg width=\"597pt\" height=\"118pt\"\n",
              " viewBox=\"0.00 0.00 597.00 118.00\" xmlns=\"http://www.w3.org/2000/svg\" xmlns:xlink=\"http://www.w3.org/1999/xlink\">\n",
              "<g id=\"graph0\" class=\"graph\" transform=\"scale(1 1) rotate(0) translate(4 114)\">\n",
              "<title>polars_query</title>\n",
              "<polygon fill=\"white\" stroke=\"transparent\" points=\"-4,4 -4,-114 593,-114 593,4 -4,4\"/>\n",
              "<!-- p1 -->\n",
              "<g id=\"node1\" class=\"node\">\n",
              "<title>p1</title>\n",
              "<polygon fill=\"none\" stroke=\"black\" points=\"323.5,-110 265.5,-110 265.5,-74 323.5,-74 323.5,-110\"/>\n",
              "<text text-anchor=\"middle\" x=\"294.5\" y=\"-88.3\" font-family=\"Times,serif\" font-size=\"14.00\">π 16/16</text>\n",
              "</g>\n",
              "<!-- p2 -->\n",
              "<g id=\"node2\" class=\"node\">\n",
              "<title>p2</title>\n",
              "<polygon fill=\"none\" stroke=\"black\" points=\"589,-38 0,-38 0,0 589,0 589,-38\"/>\n",
              "<text text-anchor=\"middle\" x=\"294.5\" y=\"-22.8\" font-family=\"Times,serif\" font-size=\"14.00\">Csv SCAN [https://raw.githubusercontent.com/VINY2030/datasets/refs/heads/main/SaratogaHouses.csv]</text>\n",
              "<text text-anchor=\"middle\" x=\"294.5\" y=\"-7.8\" font-family=\"Times,serif\" font-size=\"14.00\">π */16;</text>\n",
              "</g>\n",
              "<!-- p1&#45;&#45;p2 -->\n",
              "<g id=\"edge1\" class=\"edge\">\n",
              "<title>p1&#45;&#45;p2</title>\n",
              "<path fill=\"none\" stroke=\"black\" d=\"M294.5,-73.81C294.5,-62.98 294.5,-49.01 294.5,-38.02\"/>\n",
              "</g>\n",
              "</g>\n",
              "</svg>\n"
            ]
          },
          "metadata": {},
          "execution_count": 43
        }
      ]
    },
    {
      "cell_type": "code",
      "source": [
        "df.show_graph()"
      ],
      "metadata": {
        "colab": {
          "base_uri": "https://localhost:8080/",
          "height": 82
        },
        "id": "tvzsQwsM2WBq",
        "outputId": "907efcd6-78a4-4aa5-c726-118a878988ce"
      },
      "execution_count": 44,
      "outputs": [
        {
          "output_type": "display_data",
          "data": {
            "text/plain": [
              "<IPython.core.display.SVG object>"
            ],
            "image/svg+xml": "<svg xmlns=\"http://www.w3.org/2000/svg\" xmlns:xlink=\"http://www.w3.org/1999/xlink\" width=\"597pt\" height=\"46pt\" viewBox=\"0.00 0.00 597.00 46.00\">\n<g id=\"graph0\" class=\"graph\" transform=\"scale(1 1) rotate(0) translate(4 42)\">\n<title>polars_query</title>\n<polygon fill=\"white\" stroke=\"transparent\" points=\"-4,4 -4,-42 593,-42 593,4 -4,4\"/>\n<!-- p1 -->\n<g id=\"node1\" class=\"node\">\n<title>p1</title>\n<polygon fill=\"none\" stroke=\"black\" points=\"589,-38 0,-38 0,0 589,0 589,-38\"/>\n<text text-anchor=\"middle\" x=\"294.5\" y=\"-22.8\" font-family=\"Times,serif\" font-size=\"14.00\">Csv SCAN [https://raw.githubusercontent.com/VINY2030/datasets/refs/heads/main/SaratogaHouses.csv]</text>\n<text text-anchor=\"middle\" x=\"294.5\" y=\"-7.8\" font-family=\"Times,serif\" font-size=\"14.00\">π */16;</text>\n</g>\n</g>\n</svg>"
          },
          "metadata": {}
        }
      ]
    },
    {
      "cell_type": "code",
      "source": [
        "df.min().collect()"
      ],
      "metadata": {
        "colab": {
          "base_uri": "https://localhost:8080/",
          "height": 149
        },
        "id": "CGPtsvz02LfA",
        "outputId": "6023cc2a-e7bb-4132-92a8-281acfb32f00"
      },
      "execution_count": 45,
      "outputs": [
        {
          "output_type": "execute_result",
          "data": {
            "text/plain": [
              "shape: (1, 16)\n",
              "┌─────┬────────┬──────────────┬────────────┬───┬─────────┬─────────────┬─────────────┬─────────────┐\n",
              "│     ┆ precio ┆ metros_total ┆ antiguedad ┆ … ┆ desague ┆ vistas_lago ┆ nueva_const ┆ aire_acondi │\n",
              "│ --- ┆ ---    ┆ es           ┆ ---        ┆   ┆ ---     ┆ ---         ┆ ruccion     ┆ cionado     │\n",
              "│ i64 ┆ i64    ┆ ---          ┆ i64        ┆   ┆ str     ┆ str         ┆ ---         ┆ ---         │\n",
              "│     ┆        ┆ f64          ┆            ┆   ┆         ┆             ┆ str         ┆ str         │\n",
              "╞═════╪════════╪══════════════╪════════════╪═══╪═════════╪═════════════╪═════════════╪═════════════╡\n",
              "│ 0   ┆ 5000   ┆ 0.0          ┆ 0          ┆ … ┆ none    ┆ No          ┆ No          ┆ No          │\n",
              "└─────┴────────┴──────────────┴────────────┴───┴─────────┴─────────────┴─────────────┴─────────────┘"
            ],
            "text/html": [
              "<div><style>\n",
              ".dataframe > thead > tr,\n",
              ".dataframe > tbody > tr {\n",
              "  text-align: right;\n",
              "  white-space: pre-wrap;\n",
              "}\n",
              "</style>\n",
              "<small>shape: (1, 16)</small><table border=\"1\" class=\"dataframe\"><thead><tr><th></th><th>precio</th><th>metros_totales</th><th>antiguedad</th><th>precio_terreno</th><th>metros_habitables</th><th>universitarios</th><th>dormitorios</th><th>baños</th><th>habitaciones</th><th>calefaccion</th><th>consumo_calefacion</th><th>desague</th><th>vistas_lago</th><th>nueva_construccion</th><th>aire_acondicionado</th></tr><tr><td>i64</td><td>i64</td><td>f64</td><td>i64</td><td>i64</td><td>i64</td><td>i64</td><td>i64</td><td>f64</td><td>i64</td><td>str</td><td>str</td><td>str</td><td>str</td><td>str</td><td>str</td></tr></thead><tbody><tr><td>0</td><td>5000</td><td>0.0</td><td>0</td><td>200</td><td>616</td><td>20</td><td>1</td><td>0.0</td><td>2</td><td>&quot;electric&quot;</td><td>&quot;electric&quot;</td><td>&quot;none&quot;</td><td>&quot;No&quot;</td><td>&quot;No&quot;</td><td>&quot;No&quot;</td></tr></tbody></table></div>"
            ]
          },
          "metadata": {},
          "execution_count": 45
        }
      ]
    },
    {
      "cell_type": "code",
      "source": [
        "df.max().collect()"
      ],
      "metadata": {
        "colab": {
          "base_uri": "https://localhost:8080/",
          "height": 166
        },
        "id": "dVBr7zeC2dfP",
        "outputId": "396b6c58-14fa-4c93-f5b7-9bab8f209e01"
      },
      "execution_count": 46,
      "outputs": [
        {
          "output_type": "execute_result",
          "data": {
            "text/plain": [
              "shape: (1, 16)\n",
              "┌──────┬────────┬─────────────┬────────────┬───┬─────────┬─────────────┬─────────────┬─────────────┐\n",
              "│      ┆ precio ┆ metros_tota ┆ antiguedad ┆ … ┆ desague ┆ vistas_lago ┆ nueva_const ┆ aire_acondi │\n",
              "│ ---  ┆ ---    ┆ les         ┆ ---        ┆   ┆ ---     ┆ ---         ┆ ruccion     ┆ cionado     │\n",
              "│ i64  ┆ i64    ┆ ---         ┆ i64        ┆   ┆ str     ┆ str         ┆ ---         ┆ ---         │\n",
              "│      ┆        ┆ f64         ┆            ┆   ┆         ┆             ┆ str         ┆ str         │\n",
              "╞══════╪════════╪═════════════╪════════════╪═══╪═════════╪═════════════╪═════════════╪═════════════╡\n",
              "│ 1727 ┆ 775000 ┆ 12.2        ┆ 225        ┆ … ┆ septic  ┆ Yes         ┆ Yes         ┆ Yes         │\n",
              "└──────┴────────┴─────────────┴────────────┴───┴─────────┴─────────────┴─────────────┴─────────────┘"
            ],
            "text/html": [
              "<div><style>\n",
              ".dataframe > thead > tr,\n",
              ".dataframe > tbody > tr {\n",
              "  text-align: right;\n",
              "  white-space: pre-wrap;\n",
              "}\n",
              "</style>\n",
              "<small>shape: (1, 16)</small><table border=\"1\" class=\"dataframe\"><thead><tr><th></th><th>precio</th><th>metros_totales</th><th>antiguedad</th><th>precio_terreno</th><th>metros_habitables</th><th>universitarios</th><th>dormitorios</th><th>baños</th><th>habitaciones</th><th>calefaccion</th><th>consumo_calefacion</th><th>desague</th><th>vistas_lago</th><th>nueva_construccion</th><th>aire_acondicionado</th></tr><tr><td>i64</td><td>i64</td><td>f64</td><td>i64</td><td>i64</td><td>i64</td><td>i64</td><td>i64</td><td>f64</td><td>i64</td><td>str</td><td>str</td><td>str</td><td>str</td><td>str</td><td>str</td></tr></thead><tbody><tr><td>1727</td><td>775000</td><td>12.2</td><td>225</td><td>412600</td><td>5228</td><td>82</td><td>7</td><td>4.5</td><td>12</td><td>&quot;hot water/steam&quot;</td><td>&quot;oil&quot;</td><td>&quot;septic&quot;</td><td>&quot;Yes&quot;</td><td>&quot;Yes&quot;</td><td>&quot;Yes&quot;</td></tr></tbody></table></div>"
            ]
          },
          "metadata": {},
          "execution_count": 46
        }
      ]
    },
    {
      "cell_type": "code",
      "source": [
        "df.mean().collect()"
      ],
      "metadata": {
        "colab": {
          "base_uri": "https://localhost:8080/",
          "height": 149
        },
        "id": "h08_XmuR20KJ",
        "outputId": "f9fd32b4-f75c-496a-fca3-805791be607e"
      },
      "execution_count": 47,
      "outputs": [
        {
          "output_type": "execute_result",
          "data": {
            "text/plain": [
              "shape: (1, 16)\n",
              "┌───────┬────────────┬────────────┬────────────┬───┬─────────┬────────────┬────────────┬───────────┐\n",
              "│       ┆ precio     ┆ metros_tot ┆ antiguedad ┆ … ┆ desague ┆ vistas_lag ┆ nueva_cons ┆ aire_acon │\n",
              "│ ---   ┆ ---        ┆ ales       ┆ ---        ┆   ┆ ---     ┆ o          ┆ truccion   ┆ dicionado │\n",
              "│ f64   ┆ f64        ┆ ---        ┆ f64        ┆   ┆ str     ┆ ---        ┆ ---        ┆ ---       │\n",
              "│       ┆            ┆ f64        ┆            ┆   ┆         ┆ str        ┆ str        ┆ str       │\n",
              "╞═══════╪════════════╪════════════╪════════════╪═══╪═════════╪════════════╪════════════╪═══════════╡\n",
              "│ 863.5 ┆ 211966.705 ┆ 0.500214   ┆ 27.916088  ┆ … ┆ null    ┆ null       ┆ null       ┆ null      │\n",
              "│       ┆ 44         ┆            ┆            ┆   ┆         ┆            ┆            ┆           │\n",
              "└───────┴────────────┴────────────┴────────────┴───┴─────────┴────────────┴────────────┴───────────┘"
            ],
            "text/html": [
              "<div><style>\n",
              ".dataframe > thead > tr,\n",
              ".dataframe > tbody > tr {\n",
              "  text-align: right;\n",
              "  white-space: pre-wrap;\n",
              "}\n",
              "</style>\n",
              "<small>shape: (1, 16)</small><table border=\"1\" class=\"dataframe\"><thead><tr><th></th><th>precio</th><th>metros_totales</th><th>antiguedad</th><th>precio_terreno</th><th>metros_habitables</th><th>universitarios</th><th>dormitorios</th><th>baños</th><th>habitaciones</th><th>calefaccion</th><th>consumo_calefacion</th><th>desague</th><th>vistas_lago</th><th>nueva_construccion</th><th>aire_acondicionado</th></tr><tr><td>f64</td><td>f64</td><td>f64</td><td>f64</td><td>f64</td><td>f64</td><td>f64</td><td>f64</td><td>f64</td><td>f64</td><td>str</td><td>str</td><td>str</td><td>str</td><td>str</td><td>str</td></tr></thead><tbody><tr><td>863.5</td><td>211966.70544</td><td>0.500214</td><td>27.916088</td><td>34557.1875</td><td>1754.975694</td><td>55.567708</td><td>3.154514</td><td>1.900174</td><td>7.041667</td><td>null</td><td>null</td><td>null</td><td>null</td><td>null</td><td>null</td></tr></tbody></table></div>"
            ]
          },
          "metadata": {},
          "execution_count": 47
        }
      ]
    },
    {
      "cell_type": "markdown",
      "source": [
        "\n",
        "# **<font color=\"#07a8ed\">Lazy Frames Atributos**"
      ],
      "metadata": {
        "id": "mfMhehGJ2-LB"
      }
    },
    {
      "cell_type": "markdown",
      "source": [
        "# columns\n",
        "##Esta función realiza exactamente la misma función en un DataFrame que en un LazyFrame, devuelve una lista con los nombres de columna."
      ],
      "metadata": {
        "id": "zXkTS7DY3D8y"
      }
    },
    {
      "cell_type": "code",
      "source": [
        "df.columns"
      ],
      "metadata": {
        "colab": {
          "base_uri": "https://localhost:8080/"
        },
        "id": "g240Xhqp3F4l",
        "outputId": "dac87a46-90bc-417e-e32b-4a00a524e610"
      },
      "execution_count": 48,
      "outputs": [
        {
          "output_type": "stream",
          "name": "stderr",
          "text": [
            "<ipython-input-48-b666bf274d0a>:1: PerformanceWarning: Determining the column names of a LazyFrame requires resolving its schema, which is a potentially expensive operation. Use `LazyFrame.collect_schema().names()` to get the column names without this warning.\n",
            "  df.columns\n"
          ]
        },
        {
          "output_type": "execute_result",
          "data": {
            "text/plain": [
              "['',\n",
              " 'precio',\n",
              " 'metros_totales',\n",
              " 'antiguedad',\n",
              " 'precio_terreno',\n",
              " 'metros_habitables',\n",
              " 'universitarios',\n",
              " 'dormitorios',\n",
              " 'baños',\n",
              " 'habitaciones',\n",
              " 'calefaccion',\n",
              " 'consumo_calefacion',\n",
              " 'desague',\n",
              " 'vistas_lago',\n",
              " 'nueva_construccion',\n",
              " 'aire_acondicionado']"
            ]
          },
          "metadata": {},
          "execution_count": 48
        }
      ]
    },
    {
      "cell_type": "code",
      "source": [
        "df.collect_schema().names()"
      ],
      "metadata": {
        "colab": {
          "base_uri": "https://localhost:8080/"
        },
        "id": "yyZsbhSb3Ncp",
        "outputId": "dc4293c3-2ecf-48a1-fdc8-6cfda98461a3"
      },
      "execution_count": 49,
      "outputs": [
        {
          "output_type": "execute_result",
          "data": {
            "text/plain": [
              "['',\n",
              " 'precio',\n",
              " 'metros_totales',\n",
              " 'antiguedad',\n",
              " 'precio_terreno',\n",
              " 'metros_habitables',\n",
              " 'universitarios',\n",
              " 'dormitorios',\n",
              " 'baños',\n",
              " 'habitaciones',\n",
              " 'calefaccion',\n",
              " 'consumo_calefacion',\n",
              " 'desague',\n",
              " 'vistas_lago',\n",
              " 'nueva_construccion',\n",
              " 'aire_acondicionado']"
            ]
          },
          "metadata": {},
          "execution_count": 49
        }
      ]
    },
    {
      "cell_type": "markdown",
      "source": [
        "# **dtypes**\n",
        "##Esta función devuelve los tipos de datos de las columnas de un LazyFrame."
      ],
      "metadata": {
        "id": "dOMq_Udz3ScC"
      }
    },
    {
      "cell_type": "code",
      "source": [
        "df.dtypes"
      ],
      "metadata": {
        "colab": {
          "base_uri": "https://localhost:8080/"
        },
        "id": "Wf1bMIas3UpB",
        "outputId": "64134c18-32be-435d-c023-787c276b8ecb"
      },
      "execution_count": 50,
      "outputs": [
        {
          "output_type": "stream",
          "name": "stderr",
          "text": [
            "<ipython-input-50-5cc0934cc03c>:1: PerformanceWarning: Determining the data types of a LazyFrame requires resolving its schema, which is a potentially expensive operation. Use `LazyFrame.collect_schema().dtypes()` to get the data types without this warning.\n",
            "  df.dtypes\n"
          ]
        },
        {
          "output_type": "execute_result",
          "data": {
            "text/plain": [
              "[Int64,\n",
              " Int64,\n",
              " Float64,\n",
              " Int64,\n",
              " Int64,\n",
              " Int64,\n",
              " Int64,\n",
              " Int64,\n",
              " Float64,\n",
              " Int64,\n",
              " String,\n",
              " String,\n",
              " String,\n",
              " String,\n",
              " String,\n",
              " String]"
            ]
          },
          "metadata": {},
          "execution_count": 50
        }
      ]
    },
    {
      "cell_type": "code",
      "source": [
        "df.collect_schema().dtypes()"
      ],
      "metadata": {
        "colab": {
          "base_uri": "https://localhost:8080/"
        },
        "id": "Qal4yVra3eET",
        "outputId": "16be0037-5165-446e-daa1-6095048172db"
      },
      "execution_count": 51,
      "outputs": [
        {
          "output_type": "execute_result",
          "data": {
            "text/plain": [
              "[Int64,\n",
              " Int64,\n",
              " Float64,\n",
              " Int64,\n",
              " Int64,\n",
              " Int64,\n",
              " Int64,\n",
              " Int64,\n",
              " Float64,\n",
              " Int64,\n",
              " String,\n",
              " String,\n",
              " String,\n",
              " String,\n",
              " String,\n",
              " String]"
            ]
          },
          "metadata": {},
          "execution_count": 51
        }
      ]
    },
    {
      "cell_type": "markdown",
      "source": [
        "# **schema**\n",
        "##Esta función devuelve el schema de un LazyFrame en un diccionario donde las llaves son los nombres de columnas y los valores son los tipos de datos de esa columna."
      ],
      "metadata": {
        "id": "n3g_xfTU3mTX"
      }
    },
    {
      "cell_type": "code",
      "source": [
        "df.collect_schema()"
      ],
      "metadata": {
        "colab": {
          "base_uri": "https://localhost:8080/"
        },
        "id": "euIfzBMm3yIj",
        "outputId": "e1b6d443-905d-49b5-c1cb-72d45e27dd3d"
      },
      "execution_count": 52,
      "outputs": [
        {
          "output_type": "execute_result",
          "data": {
            "text/plain": [
              "Schema([('', Int64),\n",
              "        ('precio', Int64),\n",
              "        ('metros_totales', Float64),\n",
              "        ('antiguedad', Int64),\n",
              "        ('precio_terreno', Int64),\n",
              "        ('metros_habitables', Int64),\n",
              "        ('universitarios', Int64),\n",
              "        ('dormitorios', Int64),\n",
              "        ('baños', Float64),\n",
              "        ('habitaciones', Int64),\n",
              "        ('calefaccion', String),\n",
              "        ('consumo_calefacion', String),\n",
              "        ('desague', String),\n",
              "        ('vistas_lago', String),\n",
              "        ('nueva_construccion', String),\n",
              "        ('aire_acondicionado', String)])"
            ]
          },
          "metadata": {},
          "execution_count": 52
        }
      ]
    },
    {
      "cell_type": "code",
      "source": [
        "df.schema.get('precio')"
      ],
      "metadata": {
        "colab": {
          "base_uri": "https://localhost:8080/"
        },
        "id": "VjDJsMAa3uPD",
        "outputId": "d624ad0a-f720-48e2-d4d0-4fe435f08cfc"
      },
      "execution_count": 53,
      "outputs": [
        {
          "output_type": "stream",
          "name": "stderr",
          "text": [
            "<ipython-input-53-34bc43f0a357>:1: PerformanceWarning: Resolving the schema of a LazyFrame is a potentially expensive operation. Use `LazyFrame.collect_schema()` to get the schema without this warning.\n",
            "  df.schema.get('precio')\n"
          ]
        },
        {
          "output_type": "execute_result",
          "data": {
            "text/plain": [
              "Int64"
            ]
          },
          "metadata": {},
          "execution_count": 53
        }
      ]
    },
    {
      "cell_type": "markdown",
      "source": [
        "# **width**\n",
        "##Esta función devuelve el número de columnas de un LazyFrame."
      ],
      "metadata": {
        "id": "UIk0U-jQ4Mts"
      }
    },
    {
      "cell_type": "code",
      "source": [
        "df.width"
      ],
      "metadata": {
        "colab": {
          "base_uri": "https://localhost:8080/"
        },
        "id": "3ZKzg8em4QRr",
        "outputId": "21f88ce9-cfd9-4007-81f2-7c6e6c1a975a"
      },
      "execution_count": 54,
      "outputs": [
        {
          "output_type": "stream",
          "name": "stderr",
          "text": [
            "<ipython-input-54-6fdd511ee95f>:1: PerformanceWarning: Determining the width of a LazyFrame requires resolving its schema, which is a potentially expensive operation. Use `LazyFrame.collect_schema().len()` to get the width without this warning.\n",
            "  df.width\n"
          ]
        },
        {
          "output_type": "execute_result",
          "data": {
            "text/plain": [
              "16"
            ]
          },
          "metadata": {},
          "execution_count": 54
        }
      ]
    },
    {
      "cell_type": "code",
      "source": [
        "df.collect_schema().len()"
      ],
      "metadata": {
        "colab": {
          "base_uri": "https://localhost:8080/"
        },
        "id": "rvO_ATUG4UoQ",
        "outputId": "7460943c-3667-441d-fded-51e409c17814"
      },
      "execution_count": 55,
      "outputs": [
        {
          "output_type": "execute_result",
          "data": {
            "text/plain": [
              "16"
            ]
          },
          "metadata": {},
          "execution_count": 55
        }
      ]
    },
    {
      "cell_type": "markdown",
      "source": [
        "\n",
        "# **<font color=\"#07a8ed\">Lazy Frames Group_by**"
      ],
      "metadata": {
        "id": "iJIGT6Hk4rP1"
      }
    },
    {
      "cell_type": "markdown",
      "source": [
        "# **Varias agregaciones**\n",
        "##Para realizar agregaciones sobre un LazyFrame primero debemos realizar un agrupado con la función group_by y luego utilizar la función agg.\n",
        "\n",
        "##Las agregaciones funcionan de de la misma forma a como lo estudiamos en la lección de GroupBy de los DataFrame de Polars."
      ],
      "metadata": {
        "id": "IcZ8-NJY4yME"
      }
    },
    {
      "cell_type": "code",
      "source": [
        "df.collect()"
      ],
      "metadata": {
        "colab": {
          "base_uri": "https://localhost:8080/",
          "height": 532
        },
        "id": "xeKO4-K141IU",
        "outputId": "6135f36a-eeb7-4daf-9490-cff45f088742"
      },
      "execution_count": 56,
      "outputs": [
        {
          "output_type": "execute_result",
          "data": {
            "text/plain": [
              "shape: (1_728, 16)\n",
              "┌──────┬────────┬─────────────┬────────────┬───┬────────────┬────────────┬────────────┬────────────┐\n",
              "│      ┆ precio ┆ metros_tota ┆ antiguedad ┆ … ┆ desague    ┆ vistas_lag ┆ nueva_cons ┆ aire_acond │\n",
              "│ ---  ┆ ---    ┆ les         ┆ ---        ┆   ┆ ---        ┆ o          ┆ truccion   ┆ icionado   │\n",
              "│ i64  ┆ i64    ┆ ---         ┆ i64        ┆   ┆ str        ┆ ---        ┆ ---        ┆ ---        │\n",
              "│      ┆        ┆ f64         ┆            ┆   ┆            ┆ str        ┆ str        ┆ str        │\n",
              "╞══════╪════════╪═════════════╪════════════╪═══╪════════════╪════════════╪════════════╪════════════╡\n",
              "│ 0    ┆ 132500 ┆ 0.09        ┆ 42         ┆ … ┆ septic     ┆ No         ┆ No         ┆ No         │\n",
              "│ 1    ┆ 181115 ┆ 0.92        ┆ 0          ┆ … ┆ septic     ┆ No         ┆ No         ┆ No         │\n",
              "│ 2    ┆ 109000 ┆ 0.19        ┆ 133        ┆ … ┆ public/com ┆ No         ┆ No         ┆ No         │\n",
              "│      ┆        ┆             ┆            ┆   ┆ mercial    ┆            ┆            ┆            │\n",
              "│ 3    ┆ 155000 ┆ 0.41        ┆ 13         ┆ … ┆ septic     ┆ No         ┆ No         ┆ No         │\n",
              "│ 4    ┆ 86060  ┆ 0.11        ┆ 0          ┆ … ┆ public/com ┆ No         ┆ Yes        ┆ Yes        │\n",
              "│      ┆        ┆             ┆            ┆   ┆ mercial    ┆            ┆            ┆            │\n",
              "│ …    ┆ …      ┆ …           ┆ …          ┆ … ┆ …          ┆ …          ┆ …          ┆ …          │\n",
              "│ 1723 ┆ 289000 ┆ 0.38        ┆ 32         ┆ … ┆ public/com ┆ No         ┆ No         ┆ No         │\n",
              "│      ┆        ┆             ┆            ┆   ┆ mercial    ┆            ┆            ┆            │\n",
              "│ 1724 ┆ 285000 ┆ 0.94        ┆ 37         ┆ … ┆ public/com ┆ No         ┆ No         ┆ No         │\n",
              "│      ┆        ┆             ┆            ┆   ┆ mercial    ┆            ┆            ┆            │\n",
              "│ 1725 ┆ 194900 ┆ 0.39        ┆ 9          ┆ … ┆ public/com ┆ No         ┆ No         ┆ No         │\n",
              "│      ┆        ┆             ┆            ┆   ┆ mercial    ┆            ┆            ┆            │\n",
              "│ 1726 ┆ 125000 ┆ 0.24        ┆ 48         ┆ … ┆ public/com ┆ No         ┆ No         ┆ No         │\n",
              "│      ┆        ┆             ┆            ┆   ┆ mercial    ┆            ┆            ┆            │\n",
              "│ 1727 ┆ 111300 ┆ 0.59        ┆ 86         ┆ … ┆ septic     ┆ No         ┆ No         ┆ No         │\n",
              "└──────┴────────┴─────────────┴────────────┴───┴────────────┴────────────┴────────────┴────────────┘"
            ],
            "text/html": [
              "<div><style>\n",
              ".dataframe > thead > tr,\n",
              ".dataframe > tbody > tr {\n",
              "  text-align: right;\n",
              "  white-space: pre-wrap;\n",
              "}\n",
              "</style>\n",
              "<small>shape: (1_728, 16)</small><table border=\"1\" class=\"dataframe\"><thead><tr><th></th><th>precio</th><th>metros_totales</th><th>antiguedad</th><th>precio_terreno</th><th>metros_habitables</th><th>universitarios</th><th>dormitorios</th><th>baños</th><th>habitaciones</th><th>calefaccion</th><th>consumo_calefacion</th><th>desague</th><th>vistas_lago</th><th>nueva_construccion</th><th>aire_acondicionado</th></tr><tr><td>i64</td><td>i64</td><td>f64</td><td>i64</td><td>i64</td><td>i64</td><td>i64</td><td>i64</td><td>f64</td><td>i64</td><td>str</td><td>str</td><td>str</td><td>str</td><td>str</td><td>str</td></tr></thead><tbody><tr><td>0</td><td>132500</td><td>0.09</td><td>42</td><td>50000</td><td>906</td><td>35</td><td>2</td><td>1.0</td><td>5</td><td>&quot;electric&quot;</td><td>&quot;electric&quot;</td><td>&quot;septic&quot;</td><td>&quot;No&quot;</td><td>&quot;No&quot;</td><td>&quot;No&quot;</td></tr><tr><td>1</td><td>181115</td><td>0.92</td><td>0</td><td>22300</td><td>1953</td><td>51</td><td>3</td><td>2.5</td><td>6</td><td>&quot;hot water/steam&quot;</td><td>&quot;gas&quot;</td><td>&quot;septic&quot;</td><td>&quot;No&quot;</td><td>&quot;No&quot;</td><td>&quot;No&quot;</td></tr><tr><td>2</td><td>109000</td><td>0.19</td><td>133</td><td>7300</td><td>1944</td><td>51</td><td>4</td><td>1.0</td><td>8</td><td>&quot;hot water/steam&quot;</td><td>&quot;gas&quot;</td><td>&quot;public/commercial&quot;</td><td>&quot;No&quot;</td><td>&quot;No&quot;</td><td>&quot;No&quot;</td></tr><tr><td>3</td><td>155000</td><td>0.41</td><td>13</td><td>18700</td><td>1944</td><td>51</td><td>3</td><td>1.5</td><td>5</td><td>&quot;hot air&quot;</td><td>&quot;gas&quot;</td><td>&quot;septic&quot;</td><td>&quot;No&quot;</td><td>&quot;No&quot;</td><td>&quot;No&quot;</td></tr><tr><td>4</td><td>86060</td><td>0.11</td><td>0</td><td>15000</td><td>840</td><td>51</td><td>2</td><td>1.0</td><td>3</td><td>&quot;hot air&quot;</td><td>&quot;gas&quot;</td><td>&quot;public/commercial&quot;</td><td>&quot;No&quot;</td><td>&quot;Yes&quot;</td><td>&quot;Yes&quot;</td></tr><tr><td>&hellip;</td><td>&hellip;</td><td>&hellip;</td><td>&hellip;</td><td>&hellip;</td><td>&hellip;</td><td>&hellip;</td><td>&hellip;</td><td>&hellip;</td><td>&hellip;</td><td>&hellip;</td><td>&hellip;</td><td>&hellip;</td><td>&hellip;</td><td>&hellip;</td><td>&hellip;</td></tr><tr><td>1723</td><td>289000</td><td>0.38</td><td>32</td><td>24200</td><td>2310</td><td>61</td><td>5</td><td>2.5</td><td>11</td><td>&quot;hot water/steam&quot;</td><td>&quot;gas&quot;</td><td>&quot;public/commercial&quot;</td><td>&quot;No&quot;</td><td>&quot;No&quot;</td><td>&quot;No&quot;</td></tr><tr><td>1724</td><td>285000</td><td>0.94</td><td>37</td><td>36200</td><td>2564</td><td>61</td><td>4</td><td>2.5</td><td>11</td><td>&quot;hot water/steam&quot;</td><td>&quot;gas&quot;</td><td>&quot;public/commercial&quot;</td><td>&quot;No&quot;</td><td>&quot;No&quot;</td><td>&quot;No&quot;</td></tr><tr><td>1725</td><td>194900</td><td>0.39</td><td>9</td><td>20400</td><td>1099</td><td>51</td><td>2</td><td>1.0</td><td>3</td><td>&quot;hot air&quot;</td><td>&quot;gas&quot;</td><td>&quot;public/commercial&quot;</td><td>&quot;No&quot;</td><td>&quot;No&quot;</td><td>&quot;No&quot;</td></tr><tr><td>1726</td><td>125000</td><td>0.24</td><td>48</td><td>16800</td><td>1225</td><td>51</td><td>3</td><td>1.0</td><td>7</td><td>&quot;hot air&quot;</td><td>&quot;gas&quot;</td><td>&quot;public/commercial&quot;</td><td>&quot;No&quot;</td><td>&quot;No&quot;</td><td>&quot;No&quot;</td></tr><tr><td>1727</td><td>111300</td><td>0.59</td><td>86</td><td>26000</td><td>1959</td><td>51</td><td>3</td><td>1.0</td><td>6</td><td>&quot;hot air&quot;</td><td>&quot;gas&quot;</td><td>&quot;septic&quot;</td><td>&quot;No&quot;</td><td>&quot;No&quot;</td><td>&quot;No&quot;</td></tr></tbody></table></div>"
            ]
          },
          "metadata": {},
          "execution_count": 56
        }
      ]
    },
    {
      "cell_type": "code",
      "source": [
        "df.group_by('precio').agg(\n",
        "    pl.col('antiguedad').mean().alias('media_antiguedad'),\n",
        "    pl.col('antiguedad').min().alias('min_antiguedad'),\n",
        "    pl.col('antiguedad').max().alias('max_antiguedad'),\n",
        "    pl.count('dormitorios').alias('conteo_dormitorios'), # Change: Use pl.count instead of count\n",
        "    pl.sum('antiguedad').alias('suma_antiguedad'), # Change: Use pl.sum instead of sum\n",
        "    pl.first('antiguedad').alias('primer_antiguedad'), # Change: Use pl.first instead of first\n",
        "    pl.last('antiguedad').alias('ultimo_antiguedad'), # Change: Use pl.last instead of last\n",
        "    (pl.last('antiguedad') - pl.first('antiguedad')).alias('diferencia_antiguedad') # Change: Use pl.last and pl.first instead of last and first\n",
        ")"
      ],
      "metadata": {
        "colab": {
          "base_uri": "https://localhost:8080/",
          "height": 286
        },
        "id": "znLJ0mQCXhII",
        "outputId": "33197131-2eff-42f7-eba9-8a0efad75e99"
      },
      "execution_count": 67,
      "outputs": [
        {
          "output_type": "execute_result",
          "data": {
            "text/plain": [
              "<LazyFrame at 0x7DC41436D540>"
            ],
            "text/html": [
              "<h4>NAIVE QUERY PLAN</h4><p>run <b>LazyFrame.show_graph()</b> to see the optimized version</p><?xml version=\"1.0\" encoding=\"UTF-8\" standalone=\"no\"?>\n",
              "<!DOCTYPE svg PUBLIC \"-//W3C//DTD SVG 1.1//EN\"\n",
              " \"http://www.w3.org/Graphics/SVG/1.1/DTD/svg11.dtd\">\n",
              "<!-- Generated by graphviz version 2.43.0 (0)\n",
              " -->\n",
              "<!-- Title: polars_query Pages: 1 -->\n",
              "<svg width=\"2558pt\" height=\"135pt\"\n",
              " viewBox=\"0.00 0.00 2558.00 135.00\" xmlns=\"http://www.w3.org/2000/svg\" xmlns:xlink=\"http://www.w3.org/1999/xlink\">\n",
              "<g id=\"graph0\" class=\"graph\" transform=\"scale(1 1) rotate(0) translate(4 131)\">\n",
              "<title>polars_query</title>\n",
              "<polygon fill=\"white\" stroke=\"transparent\" points=\"-4,4 -4,-131 2554,-131 2554,4 -4,4\"/>\n",
              "<!-- p1 -->\n",
              "<g id=\"node1\" class=\"node\">\n",
              "<title>p1</title>\n",
              "<polygon fill=\"none\" stroke=\"black\" points=\"2550,-127 0,-127 0,-74 2550,-74 2550,-127\"/>\n",
              "<text text-anchor=\"middle\" x=\"1275\" y=\"-111.8\" font-family=\"Times,serif\" font-size=\"14.00\">AGG [col(&quot;antiguedad&quot;).mean().alias(&quot;media_antiguedad&quot;), col(&quot;antiguedad&quot;).min().alias(&quot;min_antiguedad&quot;), col(&quot;antiguedad&quot;).max().alias(&quot;max_antiguedad&quot;), col(&quot;dormitorios&quot;).count().alias(&quot;conteo_dormitorios&quot;), col(&quot;antiguedad&quot;).sum().alias(&quot;suma_antiguedad&quot;), col(&quot;antiguedad&quot;).first().alias(&quot;primer_antiguedad&quot;), col(&quot;antiguedad&quot;).last().alias(&quot;ultimo_antiguedad&quot;), [(col(&quot;antiguedad&quot;).last()) &#45; (col(&quot;antiguedad&quot;).first())].alias(&quot;diferencia_antiguedad&quot;)]</text>\n",
              "<text text-anchor=\"middle\" x=\"1275\" y=\"-96.8\" font-family=\"Times,serif\" font-size=\"14.00\">BY</text>\n",
              "<text text-anchor=\"middle\" x=\"1275\" y=\"-81.8\" font-family=\"Times,serif\" font-size=\"14.00\">[col(&quot;precio&quot;)]</text>\n",
              "</g>\n",
              "<!-- p2 -->\n",
              "<g id=\"node2\" class=\"node\">\n",
              "<title>p2</title>\n",
              "<polygon fill=\"none\" stroke=\"black\" points=\"1569.5,-38 980.5,-38 980.5,0 1569.5,0 1569.5,-38\"/>\n",
              "<text text-anchor=\"middle\" x=\"1275\" y=\"-22.8\" font-family=\"Times,serif\" font-size=\"14.00\">Csv SCAN [https://raw.githubusercontent.com/VINY2030/datasets/refs/heads/main/SaratogaHouses.csv]</text>\n",
              "<text text-anchor=\"middle\" x=\"1275\" y=\"-7.8\" font-family=\"Times,serif\" font-size=\"14.00\">π */16;</text>\n",
              "</g>\n",
              "<!-- p1&#45;&#45;p2 -->\n",
              "<g id=\"edge1\" class=\"edge\">\n",
              "<title>p1&#45;&#45;p2</title>\n",
              "<path fill=\"none\" stroke=\"black\" d=\"M1275,-73.91C1275,-62.29 1275,-48.81 1275,-38.24\"/>\n",
              "</g>\n",
              "</g>\n",
              "</svg>\n"
            ]
          },
          "metadata": {},
          "execution_count": 67
        }
      ]
    },
    {
      "cell_type": "code",
      "source": [
        "df.group_by('precio').agg(\n",
        "    pl.col('antiguedad').mean().alias('media_antiguedad'),\n",
        "    pl.col('antiguedad').min().alias('min_antiguedad'),\n",
        "    pl.col('antiguedad').max().alias('max_antiguedad'),\n",
        "    pl.count('dormitorios').alias('conteo_dormitorios'), # Change: Use pl.count instead of count\n",
        "    pl.sum('antiguedad').alias('suma_antiguedad'), # Change: Use pl.sum instead of sum\n",
        "    pl.first('antiguedad').alias('primer_antiguedad'), # Change: Use pl.first instead of first\n",
        "    pl.last('antiguedad').alias('ultimo_antiguedad'), # Change: Use pl.last instead of last\n",
        "    (pl.last('antiguedad') - pl.first('antiguedad')).alias('diferencia_antiguedad') # Change: Use pl.last and pl.first instead of last and first\n",
        ").collect()"
      ],
      "metadata": {
        "colab": {
          "base_uri": "https://localhost:8080/",
          "height": 463
        },
        "id": "Mj0vI_Z-X5Yc",
        "outputId": "3da9b1e9-e07e-4187-c86d-41974686b5a8"
      },
      "execution_count": 68,
      "outputs": [
        {
          "output_type": "execute_result",
          "data": {
            "text/plain": [
              "shape: (751, 9)\n",
              "┌────────┬────────────┬────────────┬───────────┬───┬───────────┬───────────┬───────────┬───────────┐\n",
              "│ precio ┆ media_anti ┆ min_antigu ┆ max_antig ┆ … ┆ suma_anti ┆ primer_an ┆ ultimo_an ┆ diferenci │\n",
              "│ ---    ┆ guedad     ┆ edad       ┆ uedad     ┆   ┆ guedad    ┆ tiguedad  ┆ tiguedad  ┆ a_antigue │\n",
              "│ i64    ┆ ---        ┆ ---        ┆ ---       ┆   ┆ ---       ┆ ---       ┆ ---       ┆ dad       │\n",
              "│        ┆ f64        ┆ i64        ┆ i64       ┆   ┆ i64       ┆ i64       ┆ i64       ┆ ---       │\n",
              "│        ┆            ┆            ┆           ┆   ┆           ┆           ┆           ┆ i64       │\n",
              "╞════════╪════════════╪════════════╪═══════════╪═══╪═══════════╪═══════════╪═══════════╪═══════════╡\n",
              "│ 196900 ┆ 35.0       ┆ 35         ┆ 35        ┆ … ┆ 35        ┆ 35        ┆ 35        ┆ 0         │\n",
              "│ 177000 ┆ 25.333333  ┆ 17         ┆ 34        ┆ … ┆ 76        ┆ 17        ┆ 34        ┆ 17        │\n",
              "│ 382406 ┆ 1.0        ┆ 1          ┆ 1         ┆ … ┆ 2         ┆ 1         ┆ 1         ┆ 0         │\n",
              "│ 295600 ┆ 21.0       ┆ 21         ┆ 21        ┆ … ┆ 21        ┆ 21        ┆ 21        ┆ 0         │\n",
              "│ 272800 ┆ 46.0       ┆ 46         ┆ 46        ┆ … ┆ 46        ┆ 46        ┆ 46        ┆ 0         │\n",
              "│ …      ┆ …          ┆ …          ┆ …         ┆ … ┆ …         ┆ …         ┆ …         ┆ …         │\n",
              "│ 161800 ┆ 41.0       ┆ 41         ┆ 41        ┆ … ┆ 41        ┆ 41        ┆ 41        ┆ 0         │\n",
              "│ 181280 ┆ 26.0       ┆ 26         ┆ 26        ┆ … ┆ 26        ┆ 26        ┆ 26        ┆ 0         │\n",
              "│ 415000 ┆ 5.0        ┆ 1          ┆ 9         ┆ … ┆ 10        ┆ 9         ┆ 1         ┆ -8        │\n",
              "│ 227812 ┆ 0.0        ┆ 0          ┆ 0         ┆ … ┆ 0         ┆ 0         ┆ 0         ┆ 0         │\n",
              "│ 115500 ┆ 16.5       ┆ 16         ┆ 17        ┆ … ┆ 33        ┆ 17        ┆ 16        ┆ -1        │\n",
              "└────────┴────────────┴────────────┴───────────┴───┴───────────┴───────────┴───────────┴───────────┘"
            ],
            "text/html": [
              "<div><style>\n",
              ".dataframe > thead > tr,\n",
              ".dataframe > tbody > tr {\n",
              "  text-align: right;\n",
              "  white-space: pre-wrap;\n",
              "}\n",
              "</style>\n",
              "<small>shape: (751, 9)</small><table border=\"1\" class=\"dataframe\"><thead><tr><th>precio</th><th>media_antiguedad</th><th>min_antiguedad</th><th>max_antiguedad</th><th>conteo_dormitorios</th><th>suma_antiguedad</th><th>primer_antiguedad</th><th>ultimo_antiguedad</th><th>diferencia_antiguedad</th></tr><tr><td>i64</td><td>f64</td><td>i64</td><td>i64</td><td>u32</td><td>i64</td><td>i64</td><td>i64</td><td>i64</td></tr></thead><tbody><tr><td>196900</td><td>35.0</td><td>35</td><td>35</td><td>1</td><td>35</td><td>35</td><td>35</td><td>0</td></tr><tr><td>177000</td><td>25.333333</td><td>17</td><td>34</td><td>3</td><td>76</td><td>17</td><td>34</td><td>17</td></tr><tr><td>382406</td><td>1.0</td><td>1</td><td>1</td><td>2</td><td>2</td><td>1</td><td>1</td><td>0</td></tr><tr><td>295600</td><td>21.0</td><td>21</td><td>21</td><td>1</td><td>21</td><td>21</td><td>21</td><td>0</td></tr><tr><td>272800</td><td>46.0</td><td>46</td><td>46</td><td>1</td><td>46</td><td>46</td><td>46</td><td>0</td></tr><tr><td>&hellip;</td><td>&hellip;</td><td>&hellip;</td><td>&hellip;</td><td>&hellip;</td><td>&hellip;</td><td>&hellip;</td><td>&hellip;</td><td>&hellip;</td></tr><tr><td>161800</td><td>41.0</td><td>41</td><td>41</td><td>1</td><td>41</td><td>41</td><td>41</td><td>0</td></tr><tr><td>181280</td><td>26.0</td><td>26</td><td>26</td><td>1</td><td>26</td><td>26</td><td>26</td><td>0</td></tr><tr><td>415000</td><td>5.0</td><td>1</td><td>9</td><td>2</td><td>10</td><td>9</td><td>1</td><td>-8</td></tr><tr><td>227812</td><td>0.0</td><td>0</td><td>0</td><td>1</td><td>0</td><td>0</td><td>0</td><td>0</td></tr><tr><td>115500</td><td>16.5</td><td>16</td><td>17</td><td>2</td><td>33</td><td>17</td><td>16</td><td>-1</td></tr></tbody></table></div>"
            ]
          },
          "metadata": {},
          "execution_count": 68
        }
      ]
    },
    {
      "cell_type": "code",
      "source": [
        "df.collect()"
      ],
      "metadata": {
        "colab": {
          "base_uri": "https://localhost:8080/",
          "height": 532
        },
        "id": "QRwsgYXK5hHq",
        "outputId": "e458e9e9-eaf9-4c8a-f43d-cc183614b779"
      },
      "execution_count": 69,
      "outputs": [
        {
          "output_type": "execute_result",
          "data": {
            "text/plain": [
              "shape: (1_728, 16)\n",
              "┌──────┬────────┬─────────────┬────────────┬───┬────────────┬────────────┬────────────┬────────────┐\n",
              "│      ┆ precio ┆ metros_tota ┆ antiguedad ┆ … ┆ desague    ┆ vistas_lag ┆ nueva_cons ┆ aire_acond │\n",
              "│ ---  ┆ ---    ┆ les         ┆ ---        ┆   ┆ ---        ┆ o          ┆ truccion   ┆ icionado   │\n",
              "│ i64  ┆ i64    ┆ ---         ┆ i64        ┆   ┆ str        ┆ ---        ┆ ---        ┆ ---        │\n",
              "│      ┆        ┆ f64         ┆            ┆   ┆            ┆ str        ┆ str        ┆ str        │\n",
              "╞══════╪════════╪═════════════╪════════════╪═══╪════════════╪════════════╪════════════╪════════════╡\n",
              "│ 0    ┆ 132500 ┆ 0.09        ┆ 42         ┆ … ┆ septic     ┆ No         ┆ No         ┆ No         │\n",
              "│ 1    ┆ 181115 ┆ 0.92        ┆ 0          ┆ … ┆ septic     ┆ No         ┆ No         ┆ No         │\n",
              "│ 2    ┆ 109000 ┆ 0.19        ┆ 133        ┆ … ┆ public/com ┆ No         ┆ No         ┆ No         │\n",
              "│      ┆        ┆             ┆            ┆   ┆ mercial    ┆            ┆            ┆            │\n",
              "│ 3    ┆ 155000 ┆ 0.41        ┆ 13         ┆ … ┆ septic     ┆ No         ┆ No         ┆ No         │\n",
              "│ 4    ┆ 86060  ┆ 0.11        ┆ 0          ┆ … ┆ public/com ┆ No         ┆ Yes        ┆ Yes        │\n",
              "│      ┆        ┆             ┆            ┆   ┆ mercial    ┆            ┆            ┆            │\n",
              "│ …    ┆ …      ┆ …           ┆ …          ┆ … ┆ …          ┆ …          ┆ …          ┆ …          │\n",
              "│ 1723 ┆ 289000 ┆ 0.38        ┆ 32         ┆ … ┆ public/com ┆ No         ┆ No         ┆ No         │\n",
              "│      ┆        ┆             ┆            ┆   ┆ mercial    ┆            ┆            ┆            │\n",
              "│ 1724 ┆ 285000 ┆ 0.94        ┆ 37         ┆ … ┆ public/com ┆ No         ┆ No         ┆ No         │\n",
              "│      ┆        ┆             ┆            ┆   ┆ mercial    ┆            ┆            ┆            │\n",
              "│ 1725 ┆ 194900 ┆ 0.39        ┆ 9          ┆ … ┆ public/com ┆ No         ┆ No         ┆ No         │\n",
              "│      ┆        ┆             ┆            ┆   ┆ mercial    ┆            ┆            ┆            │\n",
              "│ 1726 ┆ 125000 ┆ 0.24        ┆ 48         ┆ … ┆ public/com ┆ No         ┆ No         ┆ No         │\n",
              "│      ┆        ┆             ┆            ┆   ┆ mercial    ┆            ┆            ┆            │\n",
              "│ 1727 ┆ 111300 ┆ 0.59        ┆ 86         ┆ … ┆ septic     ┆ No         ┆ No         ┆ No         │\n",
              "└──────┴────────┴─────────────┴────────────┴───┴────────────┴────────────┴────────────┴────────────┘"
            ],
            "text/html": [
              "<div><style>\n",
              ".dataframe > thead > tr,\n",
              ".dataframe > tbody > tr {\n",
              "  text-align: right;\n",
              "  white-space: pre-wrap;\n",
              "}\n",
              "</style>\n",
              "<small>shape: (1_728, 16)</small><table border=\"1\" class=\"dataframe\"><thead><tr><th></th><th>precio</th><th>metros_totales</th><th>antiguedad</th><th>precio_terreno</th><th>metros_habitables</th><th>universitarios</th><th>dormitorios</th><th>baños</th><th>habitaciones</th><th>calefaccion</th><th>consumo_calefacion</th><th>desague</th><th>vistas_lago</th><th>nueva_construccion</th><th>aire_acondicionado</th></tr><tr><td>i64</td><td>i64</td><td>f64</td><td>i64</td><td>i64</td><td>i64</td><td>i64</td><td>i64</td><td>f64</td><td>i64</td><td>str</td><td>str</td><td>str</td><td>str</td><td>str</td><td>str</td></tr></thead><tbody><tr><td>0</td><td>132500</td><td>0.09</td><td>42</td><td>50000</td><td>906</td><td>35</td><td>2</td><td>1.0</td><td>5</td><td>&quot;electric&quot;</td><td>&quot;electric&quot;</td><td>&quot;septic&quot;</td><td>&quot;No&quot;</td><td>&quot;No&quot;</td><td>&quot;No&quot;</td></tr><tr><td>1</td><td>181115</td><td>0.92</td><td>0</td><td>22300</td><td>1953</td><td>51</td><td>3</td><td>2.5</td><td>6</td><td>&quot;hot water/steam&quot;</td><td>&quot;gas&quot;</td><td>&quot;septic&quot;</td><td>&quot;No&quot;</td><td>&quot;No&quot;</td><td>&quot;No&quot;</td></tr><tr><td>2</td><td>109000</td><td>0.19</td><td>133</td><td>7300</td><td>1944</td><td>51</td><td>4</td><td>1.0</td><td>8</td><td>&quot;hot water/steam&quot;</td><td>&quot;gas&quot;</td><td>&quot;public/commercial&quot;</td><td>&quot;No&quot;</td><td>&quot;No&quot;</td><td>&quot;No&quot;</td></tr><tr><td>3</td><td>155000</td><td>0.41</td><td>13</td><td>18700</td><td>1944</td><td>51</td><td>3</td><td>1.5</td><td>5</td><td>&quot;hot air&quot;</td><td>&quot;gas&quot;</td><td>&quot;septic&quot;</td><td>&quot;No&quot;</td><td>&quot;No&quot;</td><td>&quot;No&quot;</td></tr><tr><td>4</td><td>86060</td><td>0.11</td><td>0</td><td>15000</td><td>840</td><td>51</td><td>2</td><td>1.0</td><td>3</td><td>&quot;hot air&quot;</td><td>&quot;gas&quot;</td><td>&quot;public/commercial&quot;</td><td>&quot;No&quot;</td><td>&quot;Yes&quot;</td><td>&quot;Yes&quot;</td></tr><tr><td>&hellip;</td><td>&hellip;</td><td>&hellip;</td><td>&hellip;</td><td>&hellip;</td><td>&hellip;</td><td>&hellip;</td><td>&hellip;</td><td>&hellip;</td><td>&hellip;</td><td>&hellip;</td><td>&hellip;</td><td>&hellip;</td><td>&hellip;</td><td>&hellip;</td><td>&hellip;</td></tr><tr><td>1723</td><td>289000</td><td>0.38</td><td>32</td><td>24200</td><td>2310</td><td>61</td><td>5</td><td>2.5</td><td>11</td><td>&quot;hot water/steam&quot;</td><td>&quot;gas&quot;</td><td>&quot;public/commercial&quot;</td><td>&quot;No&quot;</td><td>&quot;No&quot;</td><td>&quot;No&quot;</td></tr><tr><td>1724</td><td>285000</td><td>0.94</td><td>37</td><td>36200</td><td>2564</td><td>61</td><td>4</td><td>2.5</td><td>11</td><td>&quot;hot water/steam&quot;</td><td>&quot;gas&quot;</td><td>&quot;public/commercial&quot;</td><td>&quot;No&quot;</td><td>&quot;No&quot;</td><td>&quot;No&quot;</td></tr><tr><td>1725</td><td>194900</td><td>0.39</td><td>9</td><td>20400</td><td>1099</td><td>51</td><td>2</td><td>1.0</td><td>3</td><td>&quot;hot air&quot;</td><td>&quot;gas&quot;</td><td>&quot;public/commercial&quot;</td><td>&quot;No&quot;</td><td>&quot;No&quot;</td><td>&quot;No&quot;</td></tr><tr><td>1726</td><td>125000</td><td>0.24</td><td>48</td><td>16800</td><td>1225</td><td>51</td><td>3</td><td>1.0</td><td>7</td><td>&quot;hot air&quot;</td><td>&quot;gas&quot;</td><td>&quot;public/commercial&quot;</td><td>&quot;No&quot;</td><td>&quot;No&quot;</td><td>&quot;No&quot;</td></tr><tr><td>1727</td><td>111300</td><td>0.59</td><td>86</td><td>26000</td><td>1959</td><td>51</td><td>3</td><td>1.0</td><td>6</td><td>&quot;hot air&quot;</td><td>&quot;gas&quot;</td><td>&quot;septic&quot;</td><td>&quot;No&quot;</td><td>&quot;No&quot;</td><td>&quot;No&quot;</td></tr></tbody></table></div>"
            ]
          },
          "metadata": {},
          "execution_count": 69
        }
      ]
    },
    {
      "cell_type": "markdown",
      "source": [
        "\n",
        "# **<font color=\"#07a8ed\">Lazy Frames-Manipulacion y Seleccion**"
      ],
      "metadata": {
        "id": "QXRE__kF5vD8"
      }
    },
    {
      "cell_type": "markdown",
      "source": [
        "##Debemos tener en cuenta que estas operaciones funcionan de la misma forma a como lo hacen con los DataFrame con algunas excepciones."
      ],
      "metadata": {
        "id": "yiRg44XK56Si"
      }
    },
    {
      "cell_type": "markdown",
      "source": [
        "# **botton_k**\n",
        "##Retorna los k elementos más pequeños del DataFrame. Le podemos indicar la cantidad de elementos que deseamos mostrar y por cual columna ordenar para obtener el resultado."
      ],
      "metadata": {
        "id": "SHiV1GyF6Wuy"
      }
    },
    {
      "cell_type": "code",
      "source": [
        "# Now sort by 'antiguedad' in descending order, placing nulls last.\n",
        "result = df.sort(by=['antiguedad'], descending=[True], nulls_last=True)\n",
        "result"
      ],
      "metadata": {
        "colab": {
          "base_uri": "https://localhost:8080/",
          "height": 243
        },
        "id": "xZxQ01qx6wIL",
        "outputId": "51bb3e05-d344-4c5c-b12c-b1518386fa0c"
      },
      "execution_count": 70,
      "outputs": [
        {
          "output_type": "execute_result",
          "data": {
            "text/plain": [
              "<LazyFrame at 0x7DC41436DBA0>"
            ],
            "text/html": [
              "<h4>NAIVE QUERY PLAN</h4><p>run <b>LazyFrame.show_graph()</b> to see the optimized version</p><?xml version=\"1.0\" encoding=\"UTF-8\" standalone=\"no\"?>\n",
              "<!DOCTYPE svg PUBLIC \"-//W3C//DTD SVG 1.1//EN\"\n",
              " \"http://www.w3.org/Graphics/SVG/1.1/DTD/svg11.dtd\">\n",
              "<!-- Generated by graphviz version 2.43.0 (0)\n",
              " -->\n",
              "<!-- Title: polars_query Pages: 1 -->\n",
              "<svg width=\"597pt\" height=\"118pt\"\n",
              " viewBox=\"0.00 0.00 597.00 118.00\" xmlns=\"http://www.w3.org/2000/svg\" xmlns:xlink=\"http://www.w3.org/1999/xlink\">\n",
              "<g id=\"graph0\" class=\"graph\" transform=\"scale(1 1) rotate(0) translate(4 114)\">\n",
              "<title>polars_query</title>\n",
              "<polygon fill=\"white\" stroke=\"transparent\" points=\"-4,4 -4,-114 593,-114 593,4 -4,4\"/>\n",
              "<!-- p1 -->\n",
              "<g id=\"node1\" class=\"node\">\n",
              "<title>p1</title>\n",
              "<polygon fill=\"none\" stroke=\"black\" points=\"385.5,-110 203.5,-110 203.5,-74 385.5,-74 385.5,-110\"/>\n",
              "<text text-anchor=\"middle\" x=\"294.5\" y=\"-88.3\" font-family=\"Times,serif\" font-size=\"14.00\">SORT BY [col(&quot;antiguedad&quot;)]</text>\n",
              "</g>\n",
              "<!-- p2 -->\n",
              "<g id=\"node2\" class=\"node\">\n",
              "<title>p2</title>\n",
              "<polygon fill=\"none\" stroke=\"black\" points=\"589,-38 0,-38 0,0 589,0 589,-38\"/>\n",
              "<text text-anchor=\"middle\" x=\"294.5\" y=\"-22.8\" font-family=\"Times,serif\" font-size=\"14.00\">Csv SCAN [https://raw.githubusercontent.com/VINY2030/datasets/refs/heads/main/SaratogaHouses.csv]</text>\n",
              "<text text-anchor=\"middle\" x=\"294.5\" y=\"-7.8\" font-family=\"Times,serif\" font-size=\"14.00\">π */16;</text>\n",
              "</g>\n",
              "<!-- p1&#45;&#45;p2 -->\n",
              "<g id=\"edge1\" class=\"edge\">\n",
              "<title>p1&#45;&#45;p2</title>\n",
              "<path fill=\"none\" stroke=\"black\" d=\"M294.5,-73.81C294.5,-62.98 294.5,-49.01 294.5,-38.02\"/>\n",
              "</g>\n",
              "</g>\n",
              "</svg>\n"
            ]
          },
          "metadata": {},
          "execution_count": 70
        }
      ]
    },
    {
      "cell_type": "code",
      "source": [
        "result.collect()"
      ],
      "metadata": {
        "colab": {
          "base_uri": "https://localhost:8080/",
          "height": 497
        },
        "id": "Rz5ekn_j61dy",
        "outputId": "9454d6bc-2bbe-47f5-d583-425aeceb8655"
      },
      "execution_count": 71,
      "outputs": [
        {
          "output_type": "execute_result",
          "data": {
            "text/plain": [
              "shape: (1_728, 16)\n",
              "┌──────┬────────┬─────────────┬────────────┬───┬────────────┬────────────┬────────────┬────────────┐\n",
              "│      ┆ precio ┆ metros_tota ┆ antiguedad ┆ … ┆ desague    ┆ vistas_lag ┆ nueva_cons ┆ aire_acond │\n",
              "│ ---  ┆ ---    ┆ les         ┆ ---        ┆   ┆ ---        ┆ o          ┆ truccion   ┆ icionado   │\n",
              "│ i64  ┆ i64    ┆ ---         ┆ i64        ┆   ┆ str        ┆ ---        ┆ ---        ┆ ---        │\n",
              "│      ┆        ┆ f64         ┆            ┆   ┆            ┆ str        ┆ str        ┆ str        │\n",
              "╞══════╪════════╪═════════════╪════════════╪═══╪════════════╪════════════╪════════════╪════════════╡\n",
              "│ 62   ┆ 82800  ┆ 0.11        ┆ 225        ┆ … ┆ public/com ┆ No         ┆ No         ┆ No         │\n",
              "│      ┆        ┆             ┆            ┆   ┆ mercial    ┆            ┆            ┆            │\n",
              "│ 33   ┆ 227000 ┆ 1.8         ┆ 201        ┆ … ┆ septic     ┆ No         ┆ No         ┆ No         │\n",
              "│ 140  ┆ 135000 ┆ 3.0         ┆ 178        ┆ … ┆ septic     ┆ No         ┆ No         ┆ No         │\n",
              "│ 1685 ┆ 422680 ┆ 0.16        ┆ 176        ┆ … ┆ public/com ┆ No         ┆ No         ┆ No         │\n",
              "│      ┆        ┆             ┆            ┆   ┆ mercial    ┆            ┆            ┆            │\n",
              "│ 980  ┆ 154000 ┆ 0.1         ┆ 174        ┆ … ┆ septic     ┆ No         ┆ No         ┆ No         │\n",
              "│ …    ┆ …      ┆ …           ┆ …          ┆ … ┆ …          ┆ …          ┆ …          ┆ …          │\n",
              "│ 1468 ┆ 295925 ┆ 0.56        ┆ 0          ┆ … ┆ public/com ┆ No         ┆ Yes        ┆ No         │\n",
              "│      ┆        ┆             ┆            ┆   ┆ mercial    ┆            ┆            ┆            │\n",
              "│ 1484 ┆ 355063 ┆ 0.36        ┆ 0          ┆ … ┆ septic     ┆ No         ┆ Yes        ┆ Yes        │\n",
              "│ 1588 ┆ 365000 ┆ 0.56        ┆ 0          ┆ … ┆ public/com ┆ No         ┆ No         ┆ No         │\n",
              "│      ┆        ┆             ┆            ┆   ┆ mercial    ┆            ┆            ┆            │\n",
              "│ 1631 ┆ 316250 ┆ 0.04        ┆ 0          ┆ … ┆ public/com ┆ No         ┆ Yes        ┆ No         │\n",
              "│      ┆        ┆             ┆            ┆   ┆ mercial    ┆            ┆            ┆            │\n",
              "│ 1719 ┆ 275900 ┆ 0.81        ┆ 0          ┆ … ┆ public/com ┆ No         ┆ Yes        ┆ No         │\n",
              "│      ┆        ┆             ┆            ┆   ┆ mercial    ┆            ┆            ┆            │\n",
              "└──────┴────────┴─────────────┴────────────┴───┴────────────┴────────────┴────────────┴────────────┘"
            ],
            "text/html": [
              "<div><style>\n",
              ".dataframe > thead > tr,\n",
              ".dataframe > tbody > tr {\n",
              "  text-align: right;\n",
              "  white-space: pre-wrap;\n",
              "}\n",
              "</style>\n",
              "<small>shape: (1_728, 16)</small><table border=\"1\" class=\"dataframe\"><thead><tr><th></th><th>precio</th><th>metros_totales</th><th>antiguedad</th><th>precio_terreno</th><th>metros_habitables</th><th>universitarios</th><th>dormitorios</th><th>baños</th><th>habitaciones</th><th>calefaccion</th><th>consumo_calefacion</th><th>desague</th><th>vistas_lago</th><th>nueva_construccion</th><th>aire_acondicionado</th></tr><tr><td>i64</td><td>i64</td><td>f64</td><td>i64</td><td>i64</td><td>i64</td><td>i64</td><td>i64</td><td>f64</td><td>i64</td><td>str</td><td>str</td><td>str</td><td>str</td><td>str</td><td>str</td></tr></thead><tbody><tr><td>62</td><td>82800</td><td>0.11</td><td>225</td><td>3900</td><td>1483</td><td>52</td><td>3</td><td>1.0</td><td>7</td><td>&quot;hot air&quot;</td><td>&quot;gas&quot;</td><td>&quot;public/commercial&quot;</td><td>&quot;No&quot;</td><td>&quot;No&quot;</td><td>&quot;No&quot;</td></tr><tr><td>33</td><td>227000</td><td>1.8</td><td>201</td><td>25500</td><td>1876</td><td>52</td><td>3</td><td>2.5</td><td>5</td><td>&quot;hot air&quot;</td><td>&quot;oil&quot;</td><td>&quot;septic&quot;</td><td>&quot;No&quot;</td><td>&quot;No&quot;</td><td>&quot;No&quot;</td></tr><tr><td>140</td><td>135000</td><td>3.0</td><td>178</td><td>44500</td><td>3020</td><td>41</td><td>4</td><td>2.5</td><td>12</td><td>&quot;hot water/steam&quot;</td><td>&quot;oil&quot;</td><td>&quot;septic&quot;</td><td>&quot;No&quot;</td><td>&quot;No&quot;</td><td>&quot;No&quot;</td></tr><tr><td>1685</td><td>422680</td><td>0.16</td><td>176</td><td>46200</td><td>4486</td><td>51</td><td>6</td><td>4.0</td><td>12</td><td>&quot;hot water/steam&quot;</td><td>&quot;gas&quot;</td><td>&quot;public/commercial&quot;</td><td>&quot;No&quot;</td><td>&quot;No&quot;</td><td>&quot;No&quot;</td></tr><tr><td>980</td><td>154000</td><td>0.1</td><td>174</td><td>32800</td><td>1364</td><td>63</td><td>5</td><td>1.0</td><td>9</td><td>&quot;hot air&quot;</td><td>&quot;oil&quot;</td><td>&quot;septic&quot;</td><td>&quot;No&quot;</td><td>&quot;No&quot;</td><td>&quot;No&quot;</td></tr><tr><td>&hellip;</td><td>&hellip;</td><td>&hellip;</td><td>&hellip;</td><td>&hellip;</td><td>&hellip;</td><td>&hellip;</td><td>&hellip;</td><td>&hellip;</td><td>&hellip;</td><td>&hellip;</td><td>&hellip;</td><td>&hellip;</td><td>&hellip;</td><td>&hellip;</td><td>&hellip;</td></tr><tr><td>1468</td><td>295925</td><td>0.56</td><td>0</td><td>108900</td><td>2134</td><td>40</td><td>4</td><td>2.5</td><td>9</td><td>&quot;hot air&quot;</td><td>&quot;gas&quot;</td><td>&quot;public/commercial&quot;</td><td>&quot;No&quot;</td><td>&quot;Yes&quot;</td><td>&quot;No&quot;</td></tr><tr><td>1484</td><td>355063</td><td>0.36</td><td>0</td><td>13000</td><td>2256</td><td>64</td><td>4</td><td>2.5</td><td>8</td><td>&quot;hot air&quot;</td><td>&quot;gas&quot;</td><td>&quot;septic&quot;</td><td>&quot;No&quot;</td><td>&quot;Yes&quot;</td><td>&quot;Yes&quot;</td></tr><tr><td>1588</td><td>365000</td><td>0.56</td><td>0</td><td>37900</td><td>2950</td><td>64</td><td>4</td><td>2.5</td><td>12</td><td>&quot;hot air&quot;</td><td>&quot;gas&quot;</td><td>&quot;public/commercial&quot;</td><td>&quot;No&quot;</td><td>&quot;No&quot;</td><td>&quot;No&quot;</td></tr><tr><td>1631</td><td>316250</td><td>0.04</td><td>0</td><td>74800</td><td>2648</td><td>62</td><td>4</td><td>2.5</td><td>11</td><td>&quot;hot air&quot;</td><td>&quot;gas&quot;</td><td>&quot;public/commercial&quot;</td><td>&quot;No&quot;</td><td>&quot;Yes&quot;</td><td>&quot;No&quot;</td></tr><tr><td>1719</td><td>275900</td><td>0.81</td><td>0</td><td>7300</td><td>2288</td><td>61</td><td>3</td><td>2.5</td><td>8</td><td>&quot;hot air&quot;</td><td>&quot;gas&quot;</td><td>&quot;public/commercial&quot;</td><td>&quot;No&quot;</td><td>&quot;Yes&quot;</td><td>&quot;No&quot;</td></tr></tbody></table></div>"
            ]
          },
          "metadata": {},
          "execution_count": 71
        }
      ]
    },
    {
      "cell_type": "markdown",
      "source": [
        "# **drop**\n",
        "##Elimina la(s) columna(s) seleccionada(s)."
      ],
      "metadata": {
        "id": "_apke9ZL69IC"
      }
    },
    {
      "cell_type": "code",
      "source": [
        "df.drop('nueva_construccion').collect()"
      ],
      "metadata": {
        "colab": {
          "base_uri": "https://localhost:8080/",
          "height": 532
        },
        "id": "WSwEHt6I68d9",
        "outputId": "5dc3181b-cad6-45b4-c732-7b92925c4a6a"
      },
      "execution_count": 72,
      "outputs": [
        {
          "output_type": "execute_result",
          "data": {
            "text/plain": [
              "shape: (1_728, 15)\n",
              "┌──────┬────────┬─────────────┬────────────┬───┬────────────┬────────────┬────────────┬────────────┐\n",
              "│      ┆ precio ┆ metros_tota ┆ antiguedad ┆ … ┆ consumo_ca ┆ desague    ┆ vistas_lag ┆ aire_acond │\n",
              "│ ---  ┆ ---    ┆ les         ┆ ---        ┆   ┆ lefacion   ┆ ---        ┆ o          ┆ icionado   │\n",
              "│ i64  ┆ i64    ┆ ---         ┆ i64        ┆   ┆ ---        ┆ str        ┆ ---        ┆ ---        │\n",
              "│      ┆        ┆ f64         ┆            ┆   ┆ str        ┆            ┆ str        ┆ str        │\n",
              "╞══════╪════════╪═════════════╪════════════╪═══╪════════════╪════════════╪════════════╪════════════╡\n",
              "│ 0    ┆ 132500 ┆ 0.09        ┆ 42         ┆ … ┆ electric   ┆ septic     ┆ No         ┆ No         │\n",
              "│ 1    ┆ 181115 ┆ 0.92        ┆ 0          ┆ … ┆ gas        ┆ septic     ┆ No         ┆ No         │\n",
              "│ 2    ┆ 109000 ┆ 0.19        ┆ 133        ┆ … ┆ gas        ┆ public/com ┆ No         ┆ No         │\n",
              "│      ┆        ┆             ┆            ┆   ┆            ┆ mercial    ┆            ┆            │\n",
              "│ 3    ┆ 155000 ┆ 0.41        ┆ 13         ┆ … ┆ gas        ┆ septic     ┆ No         ┆ No         │\n",
              "│ 4    ┆ 86060  ┆ 0.11        ┆ 0          ┆ … ┆ gas        ┆ public/com ┆ No         ┆ Yes        │\n",
              "│      ┆        ┆             ┆            ┆   ┆            ┆ mercial    ┆            ┆            │\n",
              "│ …    ┆ …      ┆ …           ┆ …          ┆ … ┆ …          ┆ …          ┆ …          ┆ …          │\n",
              "│ 1723 ┆ 289000 ┆ 0.38        ┆ 32         ┆ … ┆ gas        ┆ public/com ┆ No         ┆ No         │\n",
              "│      ┆        ┆             ┆            ┆   ┆            ┆ mercial    ┆            ┆            │\n",
              "│ 1724 ┆ 285000 ┆ 0.94        ┆ 37         ┆ … ┆ gas        ┆ public/com ┆ No         ┆ No         │\n",
              "│      ┆        ┆             ┆            ┆   ┆            ┆ mercial    ┆            ┆            │\n",
              "│ 1725 ┆ 194900 ┆ 0.39        ┆ 9          ┆ … ┆ gas        ┆ public/com ┆ No         ┆ No         │\n",
              "│      ┆        ┆             ┆            ┆   ┆            ┆ mercial    ┆            ┆            │\n",
              "│ 1726 ┆ 125000 ┆ 0.24        ┆ 48         ┆ … ┆ gas        ┆ public/com ┆ No         ┆ No         │\n",
              "│      ┆        ┆             ┆            ┆   ┆            ┆ mercial    ┆            ┆            │\n",
              "│ 1727 ┆ 111300 ┆ 0.59        ┆ 86         ┆ … ┆ gas        ┆ septic     ┆ No         ┆ No         │\n",
              "└──────┴────────┴─────────────┴────────────┴───┴────────────┴────────────┴────────────┴────────────┘"
            ],
            "text/html": [
              "<div><style>\n",
              ".dataframe > thead > tr,\n",
              ".dataframe > tbody > tr {\n",
              "  text-align: right;\n",
              "  white-space: pre-wrap;\n",
              "}\n",
              "</style>\n",
              "<small>shape: (1_728, 15)</small><table border=\"1\" class=\"dataframe\"><thead><tr><th></th><th>precio</th><th>metros_totales</th><th>antiguedad</th><th>precio_terreno</th><th>metros_habitables</th><th>universitarios</th><th>dormitorios</th><th>baños</th><th>habitaciones</th><th>calefaccion</th><th>consumo_calefacion</th><th>desague</th><th>vistas_lago</th><th>aire_acondicionado</th></tr><tr><td>i64</td><td>i64</td><td>f64</td><td>i64</td><td>i64</td><td>i64</td><td>i64</td><td>i64</td><td>f64</td><td>i64</td><td>str</td><td>str</td><td>str</td><td>str</td><td>str</td></tr></thead><tbody><tr><td>0</td><td>132500</td><td>0.09</td><td>42</td><td>50000</td><td>906</td><td>35</td><td>2</td><td>1.0</td><td>5</td><td>&quot;electric&quot;</td><td>&quot;electric&quot;</td><td>&quot;septic&quot;</td><td>&quot;No&quot;</td><td>&quot;No&quot;</td></tr><tr><td>1</td><td>181115</td><td>0.92</td><td>0</td><td>22300</td><td>1953</td><td>51</td><td>3</td><td>2.5</td><td>6</td><td>&quot;hot water/steam&quot;</td><td>&quot;gas&quot;</td><td>&quot;septic&quot;</td><td>&quot;No&quot;</td><td>&quot;No&quot;</td></tr><tr><td>2</td><td>109000</td><td>0.19</td><td>133</td><td>7300</td><td>1944</td><td>51</td><td>4</td><td>1.0</td><td>8</td><td>&quot;hot water/steam&quot;</td><td>&quot;gas&quot;</td><td>&quot;public/commercial&quot;</td><td>&quot;No&quot;</td><td>&quot;No&quot;</td></tr><tr><td>3</td><td>155000</td><td>0.41</td><td>13</td><td>18700</td><td>1944</td><td>51</td><td>3</td><td>1.5</td><td>5</td><td>&quot;hot air&quot;</td><td>&quot;gas&quot;</td><td>&quot;septic&quot;</td><td>&quot;No&quot;</td><td>&quot;No&quot;</td></tr><tr><td>4</td><td>86060</td><td>0.11</td><td>0</td><td>15000</td><td>840</td><td>51</td><td>2</td><td>1.0</td><td>3</td><td>&quot;hot air&quot;</td><td>&quot;gas&quot;</td><td>&quot;public/commercial&quot;</td><td>&quot;No&quot;</td><td>&quot;Yes&quot;</td></tr><tr><td>&hellip;</td><td>&hellip;</td><td>&hellip;</td><td>&hellip;</td><td>&hellip;</td><td>&hellip;</td><td>&hellip;</td><td>&hellip;</td><td>&hellip;</td><td>&hellip;</td><td>&hellip;</td><td>&hellip;</td><td>&hellip;</td><td>&hellip;</td><td>&hellip;</td></tr><tr><td>1723</td><td>289000</td><td>0.38</td><td>32</td><td>24200</td><td>2310</td><td>61</td><td>5</td><td>2.5</td><td>11</td><td>&quot;hot water/steam&quot;</td><td>&quot;gas&quot;</td><td>&quot;public/commercial&quot;</td><td>&quot;No&quot;</td><td>&quot;No&quot;</td></tr><tr><td>1724</td><td>285000</td><td>0.94</td><td>37</td><td>36200</td><td>2564</td><td>61</td><td>4</td><td>2.5</td><td>11</td><td>&quot;hot water/steam&quot;</td><td>&quot;gas&quot;</td><td>&quot;public/commercial&quot;</td><td>&quot;No&quot;</td><td>&quot;No&quot;</td></tr><tr><td>1725</td><td>194900</td><td>0.39</td><td>9</td><td>20400</td><td>1099</td><td>51</td><td>2</td><td>1.0</td><td>3</td><td>&quot;hot air&quot;</td><td>&quot;gas&quot;</td><td>&quot;public/commercial&quot;</td><td>&quot;No&quot;</td><td>&quot;No&quot;</td></tr><tr><td>1726</td><td>125000</td><td>0.24</td><td>48</td><td>16800</td><td>1225</td><td>51</td><td>3</td><td>1.0</td><td>7</td><td>&quot;hot air&quot;</td><td>&quot;gas&quot;</td><td>&quot;public/commercial&quot;</td><td>&quot;No&quot;</td><td>&quot;No&quot;</td></tr><tr><td>1727</td><td>111300</td><td>0.59</td><td>86</td><td>26000</td><td>1959</td><td>51</td><td>3</td><td>1.0</td><td>6</td><td>&quot;hot air&quot;</td><td>&quot;gas&quot;</td><td>&quot;septic&quot;</td><td>&quot;No&quot;</td><td>&quot;No&quot;</td></tr></tbody></table></div>"
            ]
          },
          "metadata": {},
          "execution_count": 72
        }
      ]
    },
    {
      "cell_type": "code",
      "source": [
        "df.collect_schema().names()"
      ],
      "metadata": {
        "colab": {
          "base_uri": "https://localhost:8080/"
        },
        "id": "fhxKa7Y77Ulx",
        "outputId": "92875cc6-675c-4d54-9cba-64c9d4ca7b14"
      },
      "execution_count": 73,
      "outputs": [
        {
          "output_type": "execute_result",
          "data": {
            "text/plain": [
              "['',\n",
              " 'precio',\n",
              " 'metros_totales',\n",
              " 'antiguedad',\n",
              " 'precio_terreno',\n",
              " 'metros_habitables',\n",
              " 'universitarios',\n",
              " 'dormitorios',\n",
              " 'baños',\n",
              " 'habitaciones',\n",
              " 'calefaccion',\n",
              " 'consumo_calefacion',\n",
              " 'desague',\n",
              " 'vistas_lago',\n",
              " 'nueva_construccion',\n",
              " 'aire_acondicionado']"
            ]
          },
          "metadata": {},
          "execution_count": 73
        }
      ]
    },
    {
      "cell_type": "markdown",
      "source": [
        "# **Filtrar un DataFrame**"
      ],
      "metadata": {
        "id": "_cUCMYLh7_BI"
      }
    },
    {
      "cell_type": "code",
      "source": [
        "df.filter(pl.col('precio') > 0).filter((pl.col('antiguedad')>10) & (pl.col('precio')>50000)).select(\n",
        "    [\n",
        "        pl.col('precio').mean().alias('precio_mean'),\n",
        "        pl.col('dormitorios').count().alias('conteo_dormitorios'),\n",
        "        pl.col('antiguedad').sum().alias('suma_antiguedad'),\n",
        "        pl.col('antiguedad').min().alias('min_antiguedad'),\n",
        "        pl.col('antiguedad').max().alias('max_antiguedad'),\n",
        "        pl.col('antiguedad').first().alias('primer_antiguedad'),\n",
        "        pl.col('antiguedad').last().alias('ultimo_antiguedad'),\n",
        "        (pl.col('antiguedad').last() - pl.col('antiguedad').first()).alias('diferencia_antiguedad')\n",
        "    ]\n",
        ").collect()\n"
      ],
      "metadata": {
        "colab": {
          "base_uri": "https://localhost:8080/",
          "height": 129
        },
        "id": "PdnFHoht86GD",
        "outputId": "33eef899-a330-4718-d4a8-7422143b0598"
      },
      "execution_count": 74,
      "outputs": [
        {
          "output_type": "execute_result",
          "data": {
            "text/plain": [
              "shape: (1, 8)\n",
              "┌────────────┬────────────┬────────────┬───────────┬───────────┬───────────┬───────────┬───────────┐\n",
              "│ precio_mea ┆ conteo_dor ┆ suma_antig ┆ min_antig ┆ max_antig ┆ primer_an ┆ ultimo_an ┆ diferenci │\n",
              "│ n          ┆ mitorios   ┆ uedad      ┆ uedad     ┆ uedad     ┆ tiguedad  ┆ tiguedad  ┆ a_antigue │\n",
              "│ ---        ┆ ---        ┆ ---        ┆ ---       ┆ ---       ┆ ---       ┆ ---       ┆ dad       │\n",
              "│ f64        ┆ u32        ┆ i64        ┆ i64       ┆ i64       ┆ i64       ┆ i64       ┆ ---       │\n",
              "│            ┆            ┆            ┆           ┆           ┆           ┆           ┆ i64       │\n",
              "╞════════════╪════════════╪════════════╪═══════════╪═══════════╪═══════════╪═══════════╪═══════════╡\n",
              "│ 193701.342 ┆ 1359       ┆ 46559      ┆ 11        ┆ 225       ┆ 42        ┆ 86        ┆ 44        │\n",
              "│ 899        ┆            ┆            ┆           ┆           ┆           ┆           ┆           │\n",
              "└────────────┴────────────┴────────────┴───────────┴───────────┴───────────┴───────────┴───────────┘"
            ],
            "text/html": [
              "<div><style>\n",
              ".dataframe > thead > tr,\n",
              ".dataframe > tbody > tr {\n",
              "  text-align: right;\n",
              "  white-space: pre-wrap;\n",
              "}\n",
              "</style>\n",
              "<small>shape: (1, 8)</small><table border=\"1\" class=\"dataframe\"><thead><tr><th>precio_mean</th><th>conteo_dormitorios</th><th>suma_antiguedad</th><th>min_antiguedad</th><th>max_antiguedad</th><th>primer_antiguedad</th><th>ultimo_antiguedad</th><th>diferencia_antiguedad</th></tr><tr><td>f64</td><td>u32</td><td>i64</td><td>i64</td><td>i64</td><td>i64</td><td>i64</td><td>i64</td></tr></thead><tbody><tr><td>193701.342899</td><td>1359</td><td>46559</td><td>11</td><td>225</td><td>42</td><td>86</td><td>44</td></tr></tbody></table></div>"
            ]
          },
          "metadata": {},
          "execution_count": 74
        }
      ]
    },
    {
      "cell_type": "markdown",
      "source": [
        "## ***with_context***\n",
        "##Esta función agrega un contexto externo al gráfico de cálculo. Esto permite que las expresiones también accedan a columnas de DataFrames que no forman parte de este."
      ],
      "metadata": {
        "id": "fr2w2Qwo9YrB"
      }
    },
    {
      "cell_type": "code",
      "source": [
        "tarjetas_lz = pl.LazyFrame({'tarjeta': ['bronce', 'plata', 'oro']})\n",
        "\n",
        "descuentos_lz = pl.LazyFrame({'descuento': [10, 20, 30]})\n",
        "\n",
        "tarjetas_lz.with_context(descuentos_lz).select(\n",
        "    pl.col('tarjeta'), # Use pl.col instead of just col\n",
        "    pl.col('descuento') # Use pl.col instead of just col\n",
        ").collect()"
      ],
      "metadata": {
        "colab": {
          "base_uri": "https://localhost:8080/",
          "height": 228
        },
        "id": "VV3zJUgfYJ9d",
        "outputId": "c8048998-c73b-4208-c28d-a64a8d12655a"
      },
      "execution_count": 76,
      "outputs": [
        {
          "output_type": "stream",
          "name": "stderr",
          "text": [
            "<ipython-input-76-6ddbb2edcef2>:5: DeprecationWarning: `LazyFrame.with_context` is deprecated. Use `pl.concat(..., how='horizontal')` instead.\n",
            "  tarjetas_lz.with_context(descuentos_lz).select(\n"
          ]
        },
        {
          "output_type": "execute_result",
          "data": {
            "text/plain": [
              "shape: (3, 2)\n",
              "┌─────────┬───────────┐\n",
              "│ tarjeta ┆ descuento │\n",
              "│ ---     ┆ ---       │\n",
              "│ str     ┆ i64       │\n",
              "╞═════════╪═══════════╡\n",
              "│ bronce  ┆ 10        │\n",
              "│ plata   ┆ 20        │\n",
              "│ oro     ┆ 30        │\n",
              "└─────────┴───────────┘"
            ],
            "text/html": [
              "<div><style>\n",
              ".dataframe > thead > tr,\n",
              ".dataframe > tbody > tr {\n",
              "  text-align: right;\n",
              "  white-space: pre-wrap;\n",
              "}\n",
              "</style>\n",
              "<small>shape: (3, 2)</small><table border=\"1\" class=\"dataframe\"><thead><tr><th>tarjeta</th><th>descuento</th></tr><tr><td>str</td><td>i64</td></tr></thead><tbody><tr><td>&quot;bronce&quot;</td><td>10</td></tr><tr><td>&quot;plata&quot;</td><td>20</td></tr><tr><td>&quot;oro&quot;</td><td>30</td></tr></tbody></table></div>"
            ]
          },
          "metadata": {},
          "execution_count": 76
        }
      ]
    },
    {
      "cell_type": "markdown",
      "source": [
        "# **slice**\n",
        "##Con esta función podemos obtener una porción o lo que en inglés se conoce como un slice de un DataFrame."
      ],
      "metadata": {
        "id": "G-hVIyVi9yYc"
      }
    },
    {
      "cell_type": "code",
      "source": [
        "df.slice(1,10).collect()"
      ],
      "metadata": {
        "colab": {
          "base_uri": "https://localhost:8080/",
          "height": 483
        },
        "id": "gB8sUQJI99qM",
        "outputId": "ac9dee6d-9bd8-41ad-9dd6-b6f58b2f0b23"
      },
      "execution_count": 77,
      "outputs": [
        {
          "output_type": "execute_result",
          "data": {
            "text/plain": [
              "shape: (10, 16)\n",
              "┌─────┬────────┬─────────────┬────────────┬───┬─────────────┬────────────┬────────────┬────────────┐\n",
              "│     ┆ precio ┆ metros_tota ┆ antiguedad ┆ … ┆ desague     ┆ vistas_lag ┆ nueva_cons ┆ aire_acond │\n",
              "│ --- ┆ ---    ┆ les         ┆ ---        ┆   ┆ ---         ┆ o          ┆ truccion   ┆ icionado   │\n",
              "│ i64 ┆ i64    ┆ ---         ┆ i64        ┆   ┆ str         ┆ ---        ┆ ---        ┆ ---        │\n",
              "│     ┆        ┆ f64         ┆            ┆   ┆             ┆ str        ┆ str        ┆ str        │\n",
              "╞═════╪════════╪═════════════╪════════════╪═══╪═════════════╪════════════╪════════════╪════════════╡\n",
              "│ 1   ┆ 181115 ┆ 0.92        ┆ 0          ┆ … ┆ septic      ┆ No         ┆ No         ┆ No         │\n",
              "│ 2   ┆ 109000 ┆ 0.19        ┆ 133        ┆ … ┆ public/comm ┆ No         ┆ No         ┆ No         │\n",
              "│     ┆        ┆             ┆            ┆   ┆ ercial      ┆            ┆            ┆            │\n",
              "│ 3   ┆ 155000 ┆ 0.41        ┆ 13         ┆ … ┆ septic      ┆ No         ┆ No         ┆ No         │\n",
              "│ 4   ┆ 86060  ┆ 0.11        ┆ 0          ┆ … ┆ public/comm ┆ No         ┆ Yes        ┆ Yes        │\n",
              "│     ┆        ┆             ┆            ┆   ┆ ercial      ┆            ┆            ┆            │\n",
              "│ 5   ┆ 120000 ┆ 0.68        ┆ 31         ┆ … ┆ septic      ┆ No         ┆ No         ┆ No         │\n",
              "│ 6   ┆ 153000 ┆ 0.4         ┆ 33         ┆ … ┆ septic      ┆ No         ┆ No         ┆ No         │\n",
              "│ 7   ┆ 170000 ┆ 1.21        ┆ 23         ┆ … ┆ septic      ┆ No         ┆ No         ┆ No         │\n",
              "│ 8   ┆ 90000  ┆ 0.83        ┆ 36         ┆ … ┆ septic      ┆ No         ┆ No         ┆ No         │\n",
              "│ 9   ┆ 122900 ┆ 1.94        ┆ 4          ┆ … ┆ none        ┆ No         ┆ No         ┆ No         │\n",
              "│ 10  ┆ 325000 ┆ 2.29        ┆ 123        ┆ … ┆ septic      ┆ No         ┆ No         ┆ No         │\n",
              "└─────┴────────┴─────────────┴────────────┴───┴─────────────┴────────────┴────────────┴────────────┘"
            ],
            "text/html": [
              "<div><style>\n",
              ".dataframe > thead > tr,\n",
              ".dataframe > tbody > tr {\n",
              "  text-align: right;\n",
              "  white-space: pre-wrap;\n",
              "}\n",
              "</style>\n",
              "<small>shape: (10, 16)</small><table border=\"1\" class=\"dataframe\"><thead><tr><th></th><th>precio</th><th>metros_totales</th><th>antiguedad</th><th>precio_terreno</th><th>metros_habitables</th><th>universitarios</th><th>dormitorios</th><th>baños</th><th>habitaciones</th><th>calefaccion</th><th>consumo_calefacion</th><th>desague</th><th>vistas_lago</th><th>nueva_construccion</th><th>aire_acondicionado</th></tr><tr><td>i64</td><td>i64</td><td>f64</td><td>i64</td><td>i64</td><td>i64</td><td>i64</td><td>i64</td><td>f64</td><td>i64</td><td>str</td><td>str</td><td>str</td><td>str</td><td>str</td><td>str</td></tr></thead><tbody><tr><td>1</td><td>181115</td><td>0.92</td><td>0</td><td>22300</td><td>1953</td><td>51</td><td>3</td><td>2.5</td><td>6</td><td>&quot;hot water/steam&quot;</td><td>&quot;gas&quot;</td><td>&quot;septic&quot;</td><td>&quot;No&quot;</td><td>&quot;No&quot;</td><td>&quot;No&quot;</td></tr><tr><td>2</td><td>109000</td><td>0.19</td><td>133</td><td>7300</td><td>1944</td><td>51</td><td>4</td><td>1.0</td><td>8</td><td>&quot;hot water/steam&quot;</td><td>&quot;gas&quot;</td><td>&quot;public/commercial&quot;</td><td>&quot;No&quot;</td><td>&quot;No&quot;</td><td>&quot;No&quot;</td></tr><tr><td>3</td><td>155000</td><td>0.41</td><td>13</td><td>18700</td><td>1944</td><td>51</td><td>3</td><td>1.5</td><td>5</td><td>&quot;hot air&quot;</td><td>&quot;gas&quot;</td><td>&quot;septic&quot;</td><td>&quot;No&quot;</td><td>&quot;No&quot;</td><td>&quot;No&quot;</td></tr><tr><td>4</td><td>86060</td><td>0.11</td><td>0</td><td>15000</td><td>840</td><td>51</td><td>2</td><td>1.0</td><td>3</td><td>&quot;hot air&quot;</td><td>&quot;gas&quot;</td><td>&quot;public/commercial&quot;</td><td>&quot;No&quot;</td><td>&quot;Yes&quot;</td><td>&quot;Yes&quot;</td></tr><tr><td>5</td><td>120000</td><td>0.68</td><td>31</td><td>14000</td><td>1152</td><td>22</td><td>4</td><td>1.0</td><td>8</td><td>&quot;hot air&quot;</td><td>&quot;gas&quot;</td><td>&quot;septic&quot;</td><td>&quot;No&quot;</td><td>&quot;No&quot;</td><td>&quot;No&quot;</td></tr><tr><td>6</td><td>153000</td><td>0.4</td><td>33</td><td>23300</td><td>2752</td><td>51</td><td>4</td><td>1.5</td><td>8</td><td>&quot;hot water/steam&quot;</td><td>&quot;oil&quot;</td><td>&quot;septic&quot;</td><td>&quot;No&quot;</td><td>&quot;No&quot;</td><td>&quot;No&quot;</td></tr><tr><td>7</td><td>170000</td><td>1.21</td><td>23</td><td>14600</td><td>1662</td><td>35</td><td>4</td><td>1.5</td><td>9</td><td>&quot;hot air&quot;</td><td>&quot;oil&quot;</td><td>&quot;septic&quot;</td><td>&quot;No&quot;</td><td>&quot;No&quot;</td><td>&quot;No&quot;</td></tr><tr><td>8</td><td>90000</td><td>0.83</td><td>36</td><td>22200</td><td>1632</td><td>51</td><td>3</td><td>1.5</td><td>8</td><td>&quot;electric&quot;</td><td>&quot;electric&quot;</td><td>&quot;septic&quot;</td><td>&quot;No&quot;</td><td>&quot;No&quot;</td><td>&quot;No&quot;</td></tr><tr><td>9</td><td>122900</td><td>1.94</td><td>4</td><td>21200</td><td>1416</td><td>44</td><td>3</td><td>1.5</td><td>6</td><td>&quot;hot air&quot;</td><td>&quot;gas&quot;</td><td>&quot;none&quot;</td><td>&quot;No&quot;</td><td>&quot;No&quot;</td><td>&quot;No&quot;</td></tr><tr><td>10</td><td>325000</td><td>2.29</td><td>123</td><td>12600</td><td>2894</td><td>51</td><td>7</td><td>1.0</td><td>12</td><td>&quot;hot air&quot;</td><td>&quot;oil&quot;</td><td>&quot;septic&quot;</td><td>&quot;No&quot;</td><td>&quot;No&quot;</td><td>&quot;No&quot;</td></tr></tbody></table></div>"
            ]
          },
          "metadata": {},
          "execution_count": 77
        }
      ]
    },
    {
      "cell_type": "markdown",
      "source": [
        "# **sort**\n",
        "##Esta función ordena el LazyFrame por la(s) columna(s) proporcionadas"
      ],
      "metadata": {
        "id": "kGetzqvU-OKb"
      }
    },
    {
      "cell_type": "code",
      "source": [
        "df.sort('antiguedad', descending=True, nulls_last=True).collect()"
      ],
      "metadata": {
        "colab": {
          "base_uri": "https://localhost:8080/",
          "height": 497
        },
        "id": "zrzd3dOx-TgX",
        "outputId": "689e279e-c4e0-4101-bf41-775d215d4fc4"
      },
      "execution_count": 78,
      "outputs": [
        {
          "output_type": "execute_result",
          "data": {
            "text/plain": [
              "shape: (1_728, 16)\n",
              "┌──────┬────────┬─────────────┬────────────┬───┬────────────┬────────────┬────────────┬────────────┐\n",
              "│      ┆ precio ┆ metros_tota ┆ antiguedad ┆ … ┆ desague    ┆ vistas_lag ┆ nueva_cons ┆ aire_acond │\n",
              "│ ---  ┆ ---    ┆ les         ┆ ---        ┆   ┆ ---        ┆ o          ┆ truccion   ┆ icionado   │\n",
              "│ i64  ┆ i64    ┆ ---         ┆ i64        ┆   ┆ str        ┆ ---        ┆ ---        ┆ ---        │\n",
              "│      ┆        ┆ f64         ┆            ┆   ┆            ┆ str        ┆ str        ┆ str        │\n",
              "╞══════╪════════╪═════════════╪════════════╪═══╪════════════╪════════════╪════════════╪════════════╡\n",
              "│ 62   ┆ 82800  ┆ 0.11        ┆ 225        ┆ … ┆ public/com ┆ No         ┆ No         ┆ No         │\n",
              "│      ┆        ┆             ┆            ┆   ┆ mercial    ┆            ┆            ┆            │\n",
              "│ 33   ┆ 227000 ┆ 1.8         ┆ 201        ┆ … ┆ septic     ┆ No         ┆ No         ┆ No         │\n",
              "│ 140  ┆ 135000 ┆ 3.0         ┆ 178        ┆ … ┆ septic     ┆ No         ┆ No         ┆ No         │\n",
              "│ 1685 ┆ 422680 ┆ 0.16        ┆ 176        ┆ … ┆ public/com ┆ No         ┆ No         ┆ No         │\n",
              "│      ┆        ┆             ┆            ┆   ┆ mercial    ┆            ┆            ┆            │\n",
              "│ 980  ┆ 154000 ┆ 0.1         ┆ 174        ┆ … ┆ septic     ┆ No         ┆ No         ┆ No         │\n",
              "│ …    ┆ …      ┆ …           ┆ …          ┆ … ┆ …          ┆ …          ┆ …          ┆ …          │\n",
              "│ 1468 ┆ 295925 ┆ 0.56        ┆ 0          ┆ … ┆ public/com ┆ No         ┆ Yes        ┆ No         │\n",
              "│      ┆        ┆             ┆            ┆   ┆ mercial    ┆            ┆            ┆            │\n",
              "│ 1484 ┆ 355063 ┆ 0.36        ┆ 0          ┆ … ┆ septic     ┆ No         ┆ Yes        ┆ Yes        │\n",
              "│ 1588 ┆ 365000 ┆ 0.56        ┆ 0          ┆ … ┆ public/com ┆ No         ┆ No         ┆ No         │\n",
              "│      ┆        ┆             ┆            ┆   ┆ mercial    ┆            ┆            ┆            │\n",
              "│ 1631 ┆ 316250 ┆ 0.04        ┆ 0          ┆ … ┆ public/com ┆ No         ┆ Yes        ┆ No         │\n",
              "│      ┆        ┆             ┆            ┆   ┆ mercial    ┆            ┆            ┆            │\n",
              "│ 1719 ┆ 275900 ┆ 0.81        ┆ 0          ┆ … ┆ public/com ┆ No         ┆ Yes        ┆ No         │\n",
              "│      ┆        ┆             ┆            ┆   ┆ mercial    ┆            ┆            ┆            │\n",
              "└──────┴────────┴─────────────┴────────────┴───┴────────────┴────────────┴────────────┴────────────┘"
            ],
            "text/html": [
              "<div><style>\n",
              ".dataframe > thead > tr,\n",
              ".dataframe > tbody > tr {\n",
              "  text-align: right;\n",
              "  white-space: pre-wrap;\n",
              "}\n",
              "</style>\n",
              "<small>shape: (1_728, 16)</small><table border=\"1\" class=\"dataframe\"><thead><tr><th></th><th>precio</th><th>metros_totales</th><th>antiguedad</th><th>precio_terreno</th><th>metros_habitables</th><th>universitarios</th><th>dormitorios</th><th>baños</th><th>habitaciones</th><th>calefaccion</th><th>consumo_calefacion</th><th>desague</th><th>vistas_lago</th><th>nueva_construccion</th><th>aire_acondicionado</th></tr><tr><td>i64</td><td>i64</td><td>f64</td><td>i64</td><td>i64</td><td>i64</td><td>i64</td><td>i64</td><td>f64</td><td>i64</td><td>str</td><td>str</td><td>str</td><td>str</td><td>str</td><td>str</td></tr></thead><tbody><tr><td>62</td><td>82800</td><td>0.11</td><td>225</td><td>3900</td><td>1483</td><td>52</td><td>3</td><td>1.0</td><td>7</td><td>&quot;hot air&quot;</td><td>&quot;gas&quot;</td><td>&quot;public/commercial&quot;</td><td>&quot;No&quot;</td><td>&quot;No&quot;</td><td>&quot;No&quot;</td></tr><tr><td>33</td><td>227000</td><td>1.8</td><td>201</td><td>25500</td><td>1876</td><td>52</td><td>3</td><td>2.5</td><td>5</td><td>&quot;hot air&quot;</td><td>&quot;oil&quot;</td><td>&quot;septic&quot;</td><td>&quot;No&quot;</td><td>&quot;No&quot;</td><td>&quot;No&quot;</td></tr><tr><td>140</td><td>135000</td><td>3.0</td><td>178</td><td>44500</td><td>3020</td><td>41</td><td>4</td><td>2.5</td><td>12</td><td>&quot;hot water/steam&quot;</td><td>&quot;oil&quot;</td><td>&quot;septic&quot;</td><td>&quot;No&quot;</td><td>&quot;No&quot;</td><td>&quot;No&quot;</td></tr><tr><td>1685</td><td>422680</td><td>0.16</td><td>176</td><td>46200</td><td>4486</td><td>51</td><td>6</td><td>4.0</td><td>12</td><td>&quot;hot water/steam&quot;</td><td>&quot;gas&quot;</td><td>&quot;public/commercial&quot;</td><td>&quot;No&quot;</td><td>&quot;No&quot;</td><td>&quot;No&quot;</td></tr><tr><td>980</td><td>154000</td><td>0.1</td><td>174</td><td>32800</td><td>1364</td><td>63</td><td>5</td><td>1.0</td><td>9</td><td>&quot;hot air&quot;</td><td>&quot;oil&quot;</td><td>&quot;septic&quot;</td><td>&quot;No&quot;</td><td>&quot;No&quot;</td><td>&quot;No&quot;</td></tr><tr><td>&hellip;</td><td>&hellip;</td><td>&hellip;</td><td>&hellip;</td><td>&hellip;</td><td>&hellip;</td><td>&hellip;</td><td>&hellip;</td><td>&hellip;</td><td>&hellip;</td><td>&hellip;</td><td>&hellip;</td><td>&hellip;</td><td>&hellip;</td><td>&hellip;</td><td>&hellip;</td></tr><tr><td>1468</td><td>295925</td><td>0.56</td><td>0</td><td>108900</td><td>2134</td><td>40</td><td>4</td><td>2.5</td><td>9</td><td>&quot;hot air&quot;</td><td>&quot;gas&quot;</td><td>&quot;public/commercial&quot;</td><td>&quot;No&quot;</td><td>&quot;Yes&quot;</td><td>&quot;No&quot;</td></tr><tr><td>1484</td><td>355063</td><td>0.36</td><td>0</td><td>13000</td><td>2256</td><td>64</td><td>4</td><td>2.5</td><td>8</td><td>&quot;hot air&quot;</td><td>&quot;gas&quot;</td><td>&quot;septic&quot;</td><td>&quot;No&quot;</td><td>&quot;Yes&quot;</td><td>&quot;Yes&quot;</td></tr><tr><td>1588</td><td>365000</td><td>0.56</td><td>0</td><td>37900</td><td>2950</td><td>64</td><td>4</td><td>2.5</td><td>12</td><td>&quot;hot air&quot;</td><td>&quot;gas&quot;</td><td>&quot;public/commercial&quot;</td><td>&quot;No&quot;</td><td>&quot;No&quot;</td><td>&quot;No&quot;</td></tr><tr><td>1631</td><td>316250</td><td>0.04</td><td>0</td><td>74800</td><td>2648</td><td>62</td><td>4</td><td>2.5</td><td>11</td><td>&quot;hot air&quot;</td><td>&quot;gas&quot;</td><td>&quot;public/commercial&quot;</td><td>&quot;No&quot;</td><td>&quot;Yes&quot;</td><td>&quot;No&quot;</td></tr><tr><td>1719</td><td>275900</td><td>0.81</td><td>0</td><td>7300</td><td>2288</td><td>61</td><td>3</td><td>2.5</td><td>8</td><td>&quot;hot air&quot;</td><td>&quot;gas&quot;</td><td>&quot;public/commercial&quot;</td><td>&quot;No&quot;</td><td>&quot;Yes&quot;</td><td>&quot;No&quot;</td></tr></tbody></table></div>"
            ]
          },
          "metadata": {},
          "execution_count": 78
        }
      ]
    },
    {
      "cell_type": "markdown",
      "source": [
        "# **gather_every**\n",
        "##Toma cada enésima fila del LazyFrame y regresa un nuevo LazyFrame. El primer parámetro estable cada cuantas filas queremos tomar la siguiente fila y el parámetro offset establece desde que posición queremos iniciar a tomar las filas."
      ],
      "metadata": {
        "id": "MyC8_W0--fNy"
      }
    },
    {
      "cell_type": "code",
      "source": [
        "df.gather_every(5, 100).collect()"
      ],
      "metadata": {
        "colab": {
          "base_uri": "https://localhost:8080/",
          "height": 480
        },
        "id": "V14fCCmw-kul",
        "outputId": "6fd05bcc-0403-4be0-c896-68fdfe894444"
      },
      "execution_count": 79,
      "outputs": [
        {
          "output_type": "execute_result",
          "data": {
            "text/plain": [
              "shape: (326, 16)\n",
              "┌──────┬────────┬─────────────┬────────────┬───┬────────────┬────────────┬────────────┬────────────┐\n",
              "│      ┆ precio ┆ metros_tota ┆ antiguedad ┆ … ┆ desague    ┆ vistas_lag ┆ nueva_cons ┆ aire_acond │\n",
              "│ ---  ┆ ---    ┆ les         ┆ ---        ┆   ┆ ---        ┆ o          ┆ truccion   ┆ icionado   │\n",
              "│ i64  ┆ i64    ┆ ---         ┆ i64        ┆   ┆ str        ┆ ---        ┆ ---        ┆ ---        │\n",
              "│      ┆        ┆ f64         ┆            ┆   ┆            ┆ str        ┆ str        ┆ str        │\n",
              "╞══════╪════════╪═════════════╪════════════╪═══╪════════════╪════════════╪════════════╪════════════╡\n",
              "│ 100  ┆ 110000 ┆ 0.59        ┆ 10         ┆ … ┆ septic     ┆ No         ┆ No         ┆ Yes        │\n",
              "│ 105  ┆ 225000 ┆ 2.37        ┆ 8          ┆ … ┆ septic     ┆ No         ┆ No         ┆ No         │\n",
              "│ 110  ┆ 112500 ┆ 0.72        ┆ 43         ┆ … ┆ septic     ┆ No         ┆ No         ┆ No         │\n",
              "│ 115  ┆ 192000 ┆ 0.82        ┆ 0          ┆ … ┆ septic     ┆ No         ┆ Yes        ┆ Yes        │\n",
              "│ 120  ┆ 75000  ┆ 1.0         ┆ 45         ┆ … ┆ septic     ┆ No         ┆ No         ┆ No         │\n",
              "│ …    ┆ …      ┆ …           ┆ …          ┆ … ┆ …          ┆ …          ┆ …          ┆ …          │\n",
              "│ 1705 ┆ 221450 ┆ 0.36        ┆ 121        ┆ … ┆ septic     ┆ No         ┆ No         ┆ No         │\n",
              "│ 1710 ┆ 388000 ┆ 0.77        ┆ 9          ┆ … ┆ public/com ┆ No         ┆ No         ┆ No         │\n",
              "│      ┆        ┆             ┆            ┆   ┆ mercial    ┆            ┆            ┆            │\n",
              "│ 1715 ┆ 70000  ┆ 1.34        ┆ 34         ┆ … ┆ septic     ┆ No         ┆ No         ┆ No         │\n",
              "│ 1720 ┆ 436023 ┆ 0.41        ┆ 5          ┆ … ┆ public/com ┆ No         ┆ No         ┆ Yes        │\n",
              "│      ┆        ┆             ┆            ┆   ┆ mercial    ┆            ┆            ┆            │\n",
              "│ 1725 ┆ 194900 ┆ 0.39        ┆ 9          ┆ … ┆ public/com ┆ No         ┆ No         ┆ No         │\n",
              "│      ┆        ┆             ┆            ┆   ┆ mercial    ┆            ┆            ┆            │\n",
              "└──────┴────────┴─────────────┴────────────┴───┴────────────┴────────────┴────────────┴────────────┘"
            ],
            "text/html": [
              "<div><style>\n",
              ".dataframe > thead > tr,\n",
              ".dataframe > tbody > tr {\n",
              "  text-align: right;\n",
              "  white-space: pre-wrap;\n",
              "}\n",
              "</style>\n",
              "<small>shape: (326, 16)</small><table border=\"1\" class=\"dataframe\"><thead><tr><th></th><th>precio</th><th>metros_totales</th><th>antiguedad</th><th>precio_terreno</th><th>metros_habitables</th><th>universitarios</th><th>dormitorios</th><th>baños</th><th>habitaciones</th><th>calefaccion</th><th>consumo_calefacion</th><th>desague</th><th>vistas_lago</th><th>nueva_construccion</th><th>aire_acondicionado</th></tr><tr><td>i64</td><td>i64</td><td>f64</td><td>i64</td><td>i64</td><td>i64</td><td>i64</td><td>i64</td><td>f64</td><td>i64</td><td>str</td><td>str</td><td>str</td><td>str</td><td>str</td><td>str</td></tr></thead><tbody><tr><td>100</td><td>110000</td><td>0.59</td><td>10</td><td>3100</td><td>936</td><td>44</td><td>3</td><td>1.0</td><td>6</td><td>&quot;hot air&quot;</td><td>&quot;gas&quot;</td><td>&quot;septic&quot;</td><td>&quot;No&quot;</td><td>&quot;No&quot;</td><td>&quot;Yes&quot;</td></tr><tr><td>105</td><td>225000</td><td>2.37</td><td>8</td><td>3300</td><td>1784</td><td>44</td><td>3</td><td>2.0</td><td>6</td><td>&quot;hot water/steam&quot;</td><td>&quot;oil&quot;</td><td>&quot;septic&quot;</td><td>&quot;No&quot;</td><td>&quot;No&quot;</td><td>&quot;No&quot;</td></tr><tr><td>110</td><td>112500</td><td>0.72</td><td>43</td><td>4600</td><td>1232</td><td>44</td><td>3</td><td>1.0</td><td>5</td><td>&quot;electric&quot;</td><td>&quot;electric&quot;</td><td>&quot;septic&quot;</td><td>&quot;No&quot;</td><td>&quot;No&quot;</td><td>&quot;No&quot;</td></tr><tr><td>115</td><td>192000</td><td>0.82</td><td>0</td><td>5000</td><td>1880</td><td>44</td><td>3</td><td>2.5</td><td>9</td><td>&quot;hot air&quot;</td><td>&quot;gas&quot;</td><td>&quot;septic&quot;</td><td>&quot;No&quot;</td><td>&quot;Yes&quot;</td><td>&quot;Yes&quot;</td></tr><tr><td>120</td><td>75000</td><td>1.0</td><td>45</td><td>8000</td><td>1008</td><td>44</td><td>3</td><td>1.0</td><td>7</td><td>&quot;hot air&quot;</td><td>&quot;gas&quot;</td><td>&quot;septic&quot;</td><td>&quot;No&quot;</td><td>&quot;No&quot;</td><td>&quot;No&quot;</td></tr><tr><td>&hellip;</td><td>&hellip;</td><td>&hellip;</td><td>&hellip;</td><td>&hellip;</td><td>&hellip;</td><td>&hellip;</td><td>&hellip;</td><td>&hellip;</td><td>&hellip;</td><td>&hellip;</td><td>&hellip;</td><td>&hellip;</td><td>&hellip;</td><td>&hellip;</td><td>&hellip;</td></tr><tr><td>1705</td><td>221450</td><td>0.36</td><td>121</td><td>33000</td><td>2699</td><td>61</td><td>6</td><td>1.0</td><td>12</td><td>&quot;hot air&quot;</td><td>&quot;oil&quot;</td><td>&quot;septic&quot;</td><td>&quot;No&quot;</td><td>&quot;No&quot;</td><td>&quot;No&quot;</td></tr><tr><td>1710</td><td>388000</td><td>0.77</td><td>9</td><td>74400</td><td>2762</td><td>61</td><td>4</td><td>2.5</td><td>12</td><td>&quot;hot air&quot;</td><td>&quot;gas&quot;</td><td>&quot;public/commercial&quot;</td><td>&quot;No&quot;</td><td>&quot;No&quot;</td><td>&quot;No&quot;</td></tr><tr><td>1715</td><td>70000</td><td>1.34</td><td>34</td><td>36700</td><td>1313</td><td>61</td><td>2</td><td>1.5</td><td>3</td><td>&quot;electric&quot;</td><td>&quot;electric&quot;</td><td>&quot;septic&quot;</td><td>&quot;No&quot;</td><td>&quot;No&quot;</td><td>&quot;No&quot;</td></tr><tr><td>1720</td><td>436023</td><td>0.41</td><td>5</td><td>43400</td><td>2718</td><td>61</td><td>4</td><td>2.5</td><td>12</td><td>&quot;hot air&quot;</td><td>&quot;gas&quot;</td><td>&quot;public/commercial&quot;</td><td>&quot;No&quot;</td><td>&quot;No&quot;</td><td>&quot;Yes&quot;</td></tr><tr><td>1725</td><td>194900</td><td>0.39</td><td>9</td><td>20400</td><td>1099</td><td>51</td><td>2</td><td>1.0</td><td>3</td><td>&quot;hot air&quot;</td><td>&quot;gas&quot;</td><td>&quot;public/commercial&quot;</td><td>&quot;No&quot;</td><td>&quot;No&quot;</td><td>&quot;No&quot;</td></tr></tbody></table></div>"
            ]
          },
          "metadata": {},
          "execution_count": 79
        }
      ]
    },
    {
      "cell_type": "markdown",
      "source": [
        "# **shift**\n",
        "##Esta función cambia los valores según el número dado de índices. En la práctica lo podemos ver como un desplazamiento de las filas del LazyFrame."
      ],
      "metadata": {
        "id": "ukuCnjNt-wDD"
      }
    },
    {
      "cell_type": "code",
      "source": [
        "df.shift(3).collect()"
      ],
      "metadata": {
        "colab": {
          "base_uri": "https://localhost:8080/",
          "height": 549
        },
        "id": "kFLvckn6-0iz",
        "outputId": "c2b19631-f22b-482f-d3f6-4784662b481c"
      },
      "execution_count": 80,
      "outputs": [
        {
          "output_type": "execute_result",
          "data": {
            "text/plain": [
              "shape: (1_728, 16)\n",
              "┌──────┬────────┬─────────────┬────────────┬───┬────────────┬────────────┬────────────┬────────────┐\n",
              "│      ┆ precio ┆ metros_tota ┆ antiguedad ┆ … ┆ desague    ┆ vistas_lag ┆ nueva_cons ┆ aire_acond │\n",
              "│ ---  ┆ ---    ┆ les         ┆ ---        ┆   ┆ ---        ┆ o          ┆ truccion   ┆ icionado   │\n",
              "│ i64  ┆ i64    ┆ ---         ┆ i64        ┆   ┆ str        ┆ ---        ┆ ---        ┆ ---        │\n",
              "│      ┆        ┆ f64         ┆            ┆   ┆            ┆ str        ┆ str        ┆ str        │\n",
              "╞══════╪════════╪═════════════╪════════════╪═══╪════════════╪════════════╪════════════╪════════════╡\n",
              "│ null ┆ null   ┆ null        ┆ null       ┆ … ┆ null       ┆ null       ┆ null       ┆ null       │\n",
              "│ null ┆ null   ┆ null        ┆ null       ┆ … ┆ null       ┆ null       ┆ null       ┆ null       │\n",
              "│ null ┆ null   ┆ null        ┆ null       ┆ … ┆ null       ┆ null       ┆ null       ┆ null       │\n",
              "│ 0    ┆ 132500 ┆ 0.09        ┆ 42         ┆ … ┆ septic     ┆ No         ┆ No         ┆ No         │\n",
              "│ 1    ┆ 181115 ┆ 0.92        ┆ 0          ┆ … ┆ septic     ┆ No         ┆ No         ┆ No         │\n",
              "│ …    ┆ …      ┆ …           ┆ …          ┆ … ┆ …          ┆ …          ┆ …          ┆ …          │\n",
              "│ 1720 ┆ 436023 ┆ 0.41        ┆ 5          ┆ … ┆ public/com ┆ No         ┆ No         ┆ Yes        │\n",
              "│      ┆        ┆             ┆            ┆   ┆ mercial    ┆            ┆            ┆            │\n",
              "│ 1721 ┆ 319900 ┆ 0.58        ┆ 42         ┆ … ┆ public/com ┆ No         ┆ No         ┆ No         │\n",
              "│      ┆        ┆             ┆            ┆   ┆ mercial    ┆            ┆            ┆            │\n",
              "│ 1722 ┆ 249000 ┆ 0.43        ┆ 41         ┆ … ┆ public/com ┆ No         ┆ No         ┆ No         │\n",
              "│      ┆        ┆             ┆            ┆   ┆ mercial    ┆            ┆            ┆            │\n",
              "│ 1723 ┆ 289000 ┆ 0.38        ┆ 32         ┆ … ┆ public/com ┆ No         ┆ No         ┆ No         │\n",
              "│      ┆        ┆             ┆            ┆   ┆ mercial    ┆            ┆            ┆            │\n",
              "│ 1724 ┆ 285000 ┆ 0.94        ┆ 37         ┆ … ┆ public/com ┆ No         ┆ No         ┆ No         │\n",
              "│      ┆        ┆             ┆            ┆   ┆ mercial    ┆            ┆            ┆            │\n",
              "└──────┴────────┴─────────────┴────────────┴───┴────────────┴────────────┴────────────┴────────────┘"
            ],
            "text/html": [
              "<div><style>\n",
              ".dataframe > thead > tr,\n",
              ".dataframe > tbody > tr {\n",
              "  text-align: right;\n",
              "  white-space: pre-wrap;\n",
              "}\n",
              "</style>\n",
              "<small>shape: (1_728, 16)</small><table border=\"1\" class=\"dataframe\"><thead><tr><th></th><th>precio</th><th>metros_totales</th><th>antiguedad</th><th>precio_terreno</th><th>metros_habitables</th><th>universitarios</th><th>dormitorios</th><th>baños</th><th>habitaciones</th><th>calefaccion</th><th>consumo_calefacion</th><th>desague</th><th>vistas_lago</th><th>nueva_construccion</th><th>aire_acondicionado</th></tr><tr><td>i64</td><td>i64</td><td>f64</td><td>i64</td><td>i64</td><td>i64</td><td>i64</td><td>i64</td><td>f64</td><td>i64</td><td>str</td><td>str</td><td>str</td><td>str</td><td>str</td><td>str</td></tr></thead><tbody><tr><td>null</td><td>null</td><td>null</td><td>null</td><td>null</td><td>null</td><td>null</td><td>null</td><td>null</td><td>null</td><td>null</td><td>null</td><td>null</td><td>null</td><td>null</td><td>null</td></tr><tr><td>null</td><td>null</td><td>null</td><td>null</td><td>null</td><td>null</td><td>null</td><td>null</td><td>null</td><td>null</td><td>null</td><td>null</td><td>null</td><td>null</td><td>null</td><td>null</td></tr><tr><td>null</td><td>null</td><td>null</td><td>null</td><td>null</td><td>null</td><td>null</td><td>null</td><td>null</td><td>null</td><td>null</td><td>null</td><td>null</td><td>null</td><td>null</td><td>null</td></tr><tr><td>0</td><td>132500</td><td>0.09</td><td>42</td><td>50000</td><td>906</td><td>35</td><td>2</td><td>1.0</td><td>5</td><td>&quot;electric&quot;</td><td>&quot;electric&quot;</td><td>&quot;septic&quot;</td><td>&quot;No&quot;</td><td>&quot;No&quot;</td><td>&quot;No&quot;</td></tr><tr><td>1</td><td>181115</td><td>0.92</td><td>0</td><td>22300</td><td>1953</td><td>51</td><td>3</td><td>2.5</td><td>6</td><td>&quot;hot water/steam&quot;</td><td>&quot;gas&quot;</td><td>&quot;septic&quot;</td><td>&quot;No&quot;</td><td>&quot;No&quot;</td><td>&quot;No&quot;</td></tr><tr><td>&hellip;</td><td>&hellip;</td><td>&hellip;</td><td>&hellip;</td><td>&hellip;</td><td>&hellip;</td><td>&hellip;</td><td>&hellip;</td><td>&hellip;</td><td>&hellip;</td><td>&hellip;</td><td>&hellip;</td><td>&hellip;</td><td>&hellip;</td><td>&hellip;</td><td>&hellip;</td></tr><tr><td>1720</td><td>436023</td><td>0.41</td><td>5</td><td>43400</td><td>2718</td><td>61</td><td>4</td><td>2.5</td><td>12</td><td>&quot;hot air&quot;</td><td>&quot;gas&quot;</td><td>&quot;public/commercial&quot;</td><td>&quot;No&quot;</td><td>&quot;No&quot;</td><td>&quot;Yes&quot;</td></tr><tr><td>1721</td><td>319900</td><td>0.58</td><td>42</td><td>31400</td><td>2464</td><td>61</td><td>4</td><td>2.5</td><td>8</td><td>&quot;hot water/steam&quot;</td><td>&quot;gas&quot;</td><td>&quot;public/commercial&quot;</td><td>&quot;No&quot;</td><td>&quot;No&quot;</td><td>&quot;No&quot;</td></tr><tr><td>1722</td><td>249000</td><td>0.43</td><td>41</td><td>45800</td><td>2426</td><td>61</td><td>4</td><td>2.0</td><td>7</td><td>&quot;hot water/steam&quot;</td><td>&quot;gas&quot;</td><td>&quot;public/commercial&quot;</td><td>&quot;No&quot;</td><td>&quot;No&quot;</td><td>&quot;No&quot;</td></tr><tr><td>1723</td><td>289000</td><td>0.38</td><td>32</td><td>24200</td><td>2310</td><td>61</td><td>5</td><td>2.5</td><td>11</td><td>&quot;hot water/steam&quot;</td><td>&quot;gas&quot;</td><td>&quot;public/commercial&quot;</td><td>&quot;No&quot;</td><td>&quot;No&quot;</td><td>&quot;No&quot;</td></tr><tr><td>1724</td><td>285000</td><td>0.94</td><td>37</td><td>36200</td><td>2564</td><td>61</td><td>4</td><td>2.5</td><td>11</td><td>&quot;hot water/steam&quot;</td><td>&quot;gas&quot;</td><td>&quot;public/commercial&quot;</td><td>&quot;No&quot;</td><td>&quot;No&quot;</td><td>&quot;No&quot;</td></tr></tbody></table></div>"
            ]
          },
          "metadata": {},
          "execution_count": 80
        }
      ]
    },
    {
      "cell_type": "code",
      "source": [
        "df.shift(3, fill_value='prueba').collect()"
      ],
      "metadata": {
        "colab": {
          "base_uri": "https://localhost:8080/",
          "height": 549
        },
        "id": "SSZU0YQr-_zi",
        "outputId": "a233d6c8-f91f-46ca-dba8-e7c678ded743"
      },
      "execution_count": 81,
      "outputs": [
        {
          "output_type": "execute_result",
          "data": {
            "text/plain": [
              "shape: (1_728, 16)\n",
              "┌────────┬────────┬────────────┬────────────┬───┬────────────┬────────────┬────────────┬───────────┐\n",
              "│        ┆ precio ┆ metros_tot ┆ antiguedad ┆ … ┆ desague    ┆ vistas_lag ┆ nueva_cons ┆ aire_acon │\n",
              "│ ---    ┆ ---    ┆ ales       ┆ ---        ┆   ┆ ---        ┆ o          ┆ truccion   ┆ dicionado │\n",
              "│ str    ┆ str    ┆ ---        ┆ str        ┆   ┆ str        ┆ ---        ┆ ---        ┆ ---       │\n",
              "│        ┆        ┆ str        ┆            ┆   ┆            ┆ str        ┆ str        ┆ str       │\n",
              "╞════════╪════════╪════════════╪════════════╪═══╪════════════╪════════════╪════════════╪═══════════╡\n",
              "│ prueba ┆ prueba ┆ prueba     ┆ prueba     ┆ … ┆ prueba     ┆ prueba     ┆ prueba     ┆ prueba    │\n",
              "│ prueba ┆ prueba ┆ prueba     ┆ prueba     ┆ … ┆ prueba     ┆ prueba     ┆ prueba     ┆ prueba    │\n",
              "│ prueba ┆ prueba ┆ prueba     ┆ prueba     ┆ … ┆ prueba     ┆ prueba     ┆ prueba     ┆ prueba    │\n",
              "│ 0      ┆ 132500 ┆ 0.09       ┆ 42         ┆ … ┆ septic     ┆ No         ┆ No         ┆ No        │\n",
              "│ 1      ┆ 181115 ┆ 0.92       ┆ 0          ┆ … ┆ septic     ┆ No         ┆ No         ┆ No        │\n",
              "│ …      ┆ …      ┆ …          ┆ …          ┆ … ┆ …          ┆ …          ┆ …          ┆ …         │\n",
              "│ 1720   ┆ 436023 ┆ 0.41       ┆ 5          ┆ … ┆ public/com ┆ No         ┆ No         ┆ Yes       │\n",
              "│        ┆        ┆            ┆            ┆   ┆ mercial    ┆            ┆            ┆           │\n",
              "│ 1721   ┆ 319900 ┆ 0.58       ┆ 42         ┆ … ┆ public/com ┆ No         ┆ No         ┆ No        │\n",
              "│        ┆        ┆            ┆            ┆   ┆ mercial    ┆            ┆            ┆           │\n",
              "│ 1722   ┆ 249000 ┆ 0.43       ┆ 41         ┆ … ┆ public/com ┆ No         ┆ No         ┆ No        │\n",
              "│        ┆        ┆            ┆            ┆   ┆ mercial    ┆            ┆            ┆           │\n",
              "│ 1723   ┆ 289000 ┆ 0.38       ┆ 32         ┆ … ┆ public/com ┆ No         ┆ No         ┆ No        │\n",
              "│        ┆        ┆            ┆            ┆   ┆ mercial    ┆            ┆            ┆           │\n",
              "│ 1724   ┆ 285000 ┆ 0.94       ┆ 37         ┆ … ┆ public/com ┆ No         ┆ No         ┆ No        │\n",
              "│        ┆        ┆            ┆            ┆   ┆ mercial    ┆            ┆            ┆           │\n",
              "└────────┴────────┴────────────┴────────────┴───┴────────────┴────────────┴────────────┴───────────┘"
            ],
            "text/html": [
              "<div><style>\n",
              ".dataframe > thead > tr,\n",
              ".dataframe > tbody > tr {\n",
              "  text-align: right;\n",
              "  white-space: pre-wrap;\n",
              "}\n",
              "</style>\n",
              "<small>shape: (1_728, 16)</small><table border=\"1\" class=\"dataframe\"><thead><tr><th></th><th>precio</th><th>metros_totales</th><th>antiguedad</th><th>precio_terreno</th><th>metros_habitables</th><th>universitarios</th><th>dormitorios</th><th>baños</th><th>habitaciones</th><th>calefaccion</th><th>consumo_calefacion</th><th>desague</th><th>vistas_lago</th><th>nueva_construccion</th><th>aire_acondicionado</th></tr><tr><td>str</td><td>str</td><td>str</td><td>str</td><td>str</td><td>str</td><td>str</td><td>str</td><td>str</td><td>str</td><td>str</td><td>str</td><td>str</td><td>str</td><td>str</td><td>str</td></tr></thead><tbody><tr><td>&quot;prueba&quot;</td><td>&quot;prueba&quot;</td><td>&quot;prueba&quot;</td><td>&quot;prueba&quot;</td><td>&quot;prueba&quot;</td><td>&quot;prueba&quot;</td><td>&quot;prueba&quot;</td><td>&quot;prueba&quot;</td><td>&quot;prueba&quot;</td><td>&quot;prueba&quot;</td><td>&quot;prueba&quot;</td><td>&quot;prueba&quot;</td><td>&quot;prueba&quot;</td><td>&quot;prueba&quot;</td><td>&quot;prueba&quot;</td><td>&quot;prueba&quot;</td></tr><tr><td>&quot;prueba&quot;</td><td>&quot;prueba&quot;</td><td>&quot;prueba&quot;</td><td>&quot;prueba&quot;</td><td>&quot;prueba&quot;</td><td>&quot;prueba&quot;</td><td>&quot;prueba&quot;</td><td>&quot;prueba&quot;</td><td>&quot;prueba&quot;</td><td>&quot;prueba&quot;</td><td>&quot;prueba&quot;</td><td>&quot;prueba&quot;</td><td>&quot;prueba&quot;</td><td>&quot;prueba&quot;</td><td>&quot;prueba&quot;</td><td>&quot;prueba&quot;</td></tr><tr><td>&quot;prueba&quot;</td><td>&quot;prueba&quot;</td><td>&quot;prueba&quot;</td><td>&quot;prueba&quot;</td><td>&quot;prueba&quot;</td><td>&quot;prueba&quot;</td><td>&quot;prueba&quot;</td><td>&quot;prueba&quot;</td><td>&quot;prueba&quot;</td><td>&quot;prueba&quot;</td><td>&quot;prueba&quot;</td><td>&quot;prueba&quot;</td><td>&quot;prueba&quot;</td><td>&quot;prueba&quot;</td><td>&quot;prueba&quot;</td><td>&quot;prueba&quot;</td></tr><tr><td>&quot;0&quot;</td><td>&quot;132500&quot;</td><td>&quot;0.09&quot;</td><td>&quot;42&quot;</td><td>&quot;50000&quot;</td><td>&quot;906&quot;</td><td>&quot;35&quot;</td><td>&quot;2&quot;</td><td>&quot;1.0&quot;</td><td>&quot;5&quot;</td><td>&quot;electric&quot;</td><td>&quot;electric&quot;</td><td>&quot;septic&quot;</td><td>&quot;No&quot;</td><td>&quot;No&quot;</td><td>&quot;No&quot;</td></tr><tr><td>&quot;1&quot;</td><td>&quot;181115&quot;</td><td>&quot;0.92&quot;</td><td>&quot;0&quot;</td><td>&quot;22300&quot;</td><td>&quot;1953&quot;</td><td>&quot;51&quot;</td><td>&quot;3&quot;</td><td>&quot;2.5&quot;</td><td>&quot;6&quot;</td><td>&quot;hot water/steam&quot;</td><td>&quot;gas&quot;</td><td>&quot;septic&quot;</td><td>&quot;No&quot;</td><td>&quot;No&quot;</td><td>&quot;No&quot;</td></tr><tr><td>&hellip;</td><td>&hellip;</td><td>&hellip;</td><td>&hellip;</td><td>&hellip;</td><td>&hellip;</td><td>&hellip;</td><td>&hellip;</td><td>&hellip;</td><td>&hellip;</td><td>&hellip;</td><td>&hellip;</td><td>&hellip;</td><td>&hellip;</td><td>&hellip;</td><td>&hellip;</td></tr><tr><td>&quot;1720&quot;</td><td>&quot;436023&quot;</td><td>&quot;0.41&quot;</td><td>&quot;5&quot;</td><td>&quot;43400&quot;</td><td>&quot;2718&quot;</td><td>&quot;61&quot;</td><td>&quot;4&quot;</td><td>&quot;2.5&quot;</td><td>&quot;12&quot;</td><td>&quot;hot air&quot;</td><td>&quot;gas&quot;</td><td>&quot;public/commercial&quot;</td><td>&quot;No&quot;</td><td>&quot;No&quot;</td><td>&quot;Yes&quot;</td></tr><tr><td>&quot;1721&quot;</td><td>&quot;319900&quot;</td><td>&quot;0.58&quot;</td><td>&quot;42&quot;</td><td>&quot;31400&quot;</td><td>&quot;2464&quot;</td><td>&quot;61&quot;</td><td>&quot;4&quot;</td><td>&quot;2.5&quot;</td><td>&quot;8&quot;</td><td>&quot;hot water/steam&quot;</td><td>&quot;gas&quot;</td><td>&quot;public/commercial&quot;</td><td>&quot;No&quot;</td><td>&quot;No&quot;</td><td>&quot;No&quot;</td></tr><tr><td>&quot;1722&quot;</td><td>&quot;249000&quot;</td><td>&quot;0.43&quot;</td><td>&quot;41&quot;</td><td>&quot;45800&quot;</td><td>&quot;2426&quot;</td><td>&quot;61&quot;</td><td>&quot;4&quot;</td><td>&quot;2.0&quot;</td><td>&quot;7&quot;</td><td>&quot;hot water/steam&quot;</td><td>&quot;gas&quot;</td><td>&quot;public/commercial&quot;</td><td>&quot;No&quot;</td><td>&quot;No&quot;</td><td>&quot;No&quot;</td></tr><tr><td>&quot;1723&quot;</td><td>&quot;289000&quot;</td><td>&quot;0.38&quot;</td><td>&quot;32&quot;</td><td>&quot;24200&quot;</td><td>&quot;2310&quot;</td><td>&quot;61&quot;</td><td>&quot;5&quot;</td><td>&quot;2.5&quot;</td><td>&quot;11&quot;</td><td>&quot;hot water/steam&quot;</td><td>&quot;gas&quot;</td><td>&quot;public/commercial&quot;</td><td>&quot;No&quot;</td><td>&quot;No&quot;</td><td>&quot;No&quot;</td></tr><tr><td>&quot;1724&quot;</td><td>&quot;285000&quot;</td><td>&quot;0.94&quot;</td><td>&quot;37&quot;</td><td>&quot;36200&quot;</td><td>&quot;2564&quot;</td><td>&quot;61&quot;</td><td>&quot;4&quot;</td><td>&quot;2.5&quot;</td><td>&quot;11&quot;</td><td>&quot;hot water/steam&quot;</td><td>&quot;gas&quot;</td><td>&quot;public/commercial&quot;</td><td>&quot;No&quot;</td><td>&quot;No&quot;</td><td>&quot;No&quot;</td></tr></tbody></table></div>"
            ]
          },
          "metadata": {},
          "execution_count": 81
        }
      ]
    },
    {
      "cell_type": "markdown",
      "source": [
        "# **inspect**\n",
        "##Esta función inspecciona un nodo en el gráfico de cálculo. Con ella podemos imprimir el valor que evalúa este nodo en el gráfico de cálculo."
      ],
      "metadata": {
        "id": "yZAfee___Ia5"
      }
    },
    {
      "cell_type": "code",
      "source": [
        "query_inspect = (\n",
        "    df.with_columns(precio=(pl.col('precio') > 60000))\n",
        "    .inspect()\n",
        "    .select(\n",
        "        pl.col('antiguedad'), # Changed to use pl.col\n",
        "        pl.col('precio')     # Changed to use pl.col\n",
        "    )\n",
        ")"
      ],
      "metadata": {
        "id": "rw3Et4cJYY9V"
      },
      "execution_count": 83,
      "outputs": []
    },
    {
      "cell_type": "code",
      "source": [
        "query_inspect.collect()"
      ],
      "metadata": {
        "colab": {
          "base_uri": "https://localhost:8080/",
          "height": 767
        },
        "id": "NCVSbXvp_i2a",
        "outputId": "4a8de587-76a8-431e-ffa3-4571547a9126"
      },
      "execution_count": 84,
      "outputs": [
        {
          "output_type": "stream",
          "name": "stdout",
          "text": [
            "shape: (1_728, 2)\n",
            "┌────────┬────────────┐\n",
            "│ precio ┆ antiguedad │\n",
            "│ ---    ┆ ---        │\n",
            "│ bool   ┆ i64        │\n",
            "╞════════╪════════════╡\n",
            "│ true   ┆ 42         │\n",
            "│ true   ┆ 0          │\n",
            "│ true   ┆ 133        │\n",
            "│ true   ┆ 13         │\n",
            "│ true   ┆ 0          │\n",
            "│ …      ┆ …          │\n",
            "│ true   ┆ 32         │\n",
            "│ true   ┆ 37         │\n",
            "│ true   ┆ 9          │\n",
            "│ true   ┆ 48         │\n",
            "│ true   ┆ 86         │\n",
            "└────────┴────────────┘\n"
          ]
        },
        {
          "output_type": "execute_result",
          "data": {
            "text/plain": [
              "shape: (1_728, 2)\n",
              "┌────────────┬────────┐\n",
              "│ antiguedad ┆ precio │\n",
              "│ ---        ┆ ---    │\n",
              "│ i64        ┆ bool   │\n",
              "╞════════════╪════════╡\n",
              "│ 42         ┆ true   │\n",
              "│ 0          ┆ true   │\n",
              "│ 133        ┆ true   │\n",
              "│ 13         ┆ true   │\n",
              "│ 0          ┆ true   │\n",
              "│ …          ┆ …      │\n",
              "│ 32         ┆ true   │\n",
              "│ 37         ┆ true   │\n",
              "│ 9          ┆ true   │\n",
              "│ 48         ┆ true   │\n",
              "│ 86         ┆ true   │\n",
              "└────────────┴────────┘"
            ],
            "text/html": [
              "<div><style>\n",
              ".dataframe > thead > tr,\n",
              ".dataframe > tbody > tr {\n",
              "  text-align: right;\n",
              "  white-space: pre-wrap;\n",
              "}\n",
              "</style>\n",
              "<small>shape: (1_728, 2)</small><table border=\"1\" class=\"dataframe\"><thead><tr><th>antiguedad</th><th>precio</th></tr><tr><td>i64</td><td>bool</td></tr></thead><tbody><tr><td>42</td><td>true</td></tr><tr><td>0</td><td>true</td></tr><tr><td>133</td><td>true</td></tr><tr><td>13</td><td>true</td></tr><tr><td>0</td><td>true</td></tr><tr><td>&hellip;</td><td>&hellip;</td></tr><tr><td>32</td><td>true</td></tr><tr><td>37</td><td>true</td></tr><tr><td>9</td><td>true</td></tr><tr><td>48</td><td>true</td></tr><tr><td>86</td><td>true</td></tr></tbody></table></div>"
            ]
          },
          "metadata": {},
          "execution_count": 84
        }
      ]
    },
    {
      "cell_type": "code",
      "source": [
        "print(query_inspect.explain())"
      ],
      "metadata": {
        "colab": {
          "base_uri": "https://localhost:8080/"
        },
        "id": "l4nLr8Ki_-bD",
        "outputId": "306b49b9-f0a2-48c4-de55-1c5780ce93b8"
      },
      "execution_count": 85,
      "outputs": [
        {
          "output_type": "stream",
          "name": "stdout",
          "text": [
            "simple π 2/2 [\"antiguedad\", \"precio\"]\n",
            "  OPAQUE_PYTHON\n",
            "     WITH_COLUMNS:\n",
            "     [[(col(\"precio\")) > (60000)].alias(\"precio\")] \n",
            "      Csv SCAN [https://raw.githubusercontent.com/VINY2030/datasets/refs/heads/main/SaratogaHouses.csv]\n",
            "      PROJECT 2/16 COLUMNS\n"
          ]
        }
      ]
    },
    {
      "cell_type": "markdown",
      "source": [
        "\n",
        "# **<font color=\"#07a8ed\">Lazy Frames-Miscelanea**"
      ],
      "metadata": {
        "id": "9jq9h9szAP2Y"
      }
    },
    {
      "cell_type": "markdown",
      "source": [
        "# **map_batches**\n",
        "##Esta función permite aplicar una función personalizada a un LazyFrame. Es importante que la función personalizada devuelva un DataFrame de Polars."
      ],
      "metadata": {
        "id": "S0nbxdI5AfBB"
      }
    },
    {
      "cell_type": "code",
      "source": [
        "(\n",
        " df.select(\n",
        "  pl.col('antiguedad'),\n",
        "  pl.col('precio')\n",
        " )\n",
        " .map_batches(lambda c: (c / 60).cast(pl.Int64)) # Cast to pl.Int64 inside map_batches\n",
        " # with_columns is no longer necessary since casting is done in map_batches\n",
        ").collect()"
      ],
      "metadata": {
        "colab": {
          "base_uri": "https://localhost:8080/",
          "height": 443
        },
        "id": "6Iue_wrUY5Aa",
        "outputId": "b464c6fa-a40f-4792-caa5-bd1fecc85bd3"
      },
      "execution_count": 90,
      "outputs": [
        {
          "output_type": "execute_result",
          "data": {
            "text/plain": [
              "shape: (1_728, 2)\n",
              "┌────────────┬────────┐\n",
              "│ antiguedad ┆ precio │\n",
              "│ ---        ┆ ---    │\n",
              "│ i64        ┆ i64    │\n",
              "╞════════════╪════════╡\n",
              "│ 0          ┆ 2208   │\n",
              "│ 0          ┆ 3018   │\n",
              "│ 2          ┆ 1816   │\n",
              "│ 0          ┆ 2583   │\n",
              "│ 0          ┆ 1434   │\n",
              "│ …          ┆ …      │\n",
              "│ 0          ┆ 4816   │\n",
              "│ 0          ┆ 4750   │\n",
              "│ 0          ┆ 3248   │\n",
              "│ 0          ┆ 2083   │\n",
              "│ 1          ┆ 1855   │\n",
              "└────────────┴────────┘"
            ],
            "text/html": [
              "<div><style>\n",
              ".dataframe > thead > tr,\n",
              ".dataframe > tbody > tr {\n",
              "  text-align: right;\n",
              "  white-space: pre-wrap;\n",
              "}\n",
              "</style>\n",
              "<small>shape: (1_728, 2)</small><table border=\"1\" class=\"dataframe\"><thead><tr><th>antiguedad</th><th>precio</th></tr><tr><td>i64</td><td>i64</td></tr></thead><tbody><tr><td>0</td><td>2208</td></tr><tr><td>0</td><td>3018</td></tr><tr><td>2</td><td>1816</td></tr><tr><td>0</td><td>2583</td></tr><tr><td>0</td><td>1434</td></tr><tr><td>&hellip;</td><td>&hellip;</td></tr><tr><td>0</td><td>4816</td></tr><tr><td>0</td><td>4750</td></tr><tr><td>0</td><td>3248</td></tr><tr><td>0</td><td>2083</td></tr><tr><td>1</td><td>1855</td></tr></tbody></table></div>"
            ]
          },
          "metadata": {},
          "execution_count": 90
        }
      ]
    },
    {
      "cell_type": "markdown",
      "source": [
        "# pipe\n",
        "##Esta función ofrece una forma estructurada de aplicar una secuencia de funciones definidas por el usuario (UDF)."
      ],
      "metadata": {
        "id": "lgxkeLV6BvSV"
      }
    },
    {
      "cell_type": "code",
      "source": [
        "def fill_null_int_str(df, col_name):\n",
        "\n",
        "    if str(df_lazy.select(col_name).dtypes[0]) == 'String':\n",
        "\n",
        "        return df.fill_null('LOST')\n",
        "\n",
        "    else:\n",
        "\n",
        "        return df.fill_null(-999)"
      ],
      "metadata": {
        "id": "FYPYz2TXB1PZ"
      },
      "execution_count": 91,
      "outputs": []
    },
    {
      "cell_type": "code",
      "source": [
        "df.pipe(fill_null_int_str, 'nombre', ).collect()"
      ],
      "metadata": {
        "colab": {
          "base_uri": "https://localhost:8080/",
          "height": 568
        },
        "id": "7hLCNAJTB_yq",
        "outputId": "48050c9c-f07b-4179-80e6-9b2c452a4043"
      },
      "execution_count": 92,
      "outputs": [
        {
          "output_type": "stream",
          "name": "stderr",
          "text": [
            "<ipython-input-91-d6a7529ffa67>:3: PerformanceWarning: Determining the data types of a LazyFrame requires resolving its schema, which is a potentially expensive operation. Use `LazyFrame.collect_schema().dtypes()` to get the data types without this warning.\n",
            "  if str(df_lazy.select(col_name).dtypes[0]) == 'String':\n"
          ]
        },
        {
          "output_type": "execute_result",
          "data": {
            "text/plain": [
              "shape: (1_728, 16)\n",
              "┌──────┬────────┬─────────────┬────────────┬───┬────────────┬────────────┬────────────┬────────────┐\n",
              "│      ┆ precio ┆ metros_tota ┆ antiguedad ┆ … ┆ desague    ┆ vistas_lag ┆ nueva_cons ┆ aire_acond │\n",
              "│ ---  ┆ ---    ┆ les         ┆ ---        ┆   ┆ ---        ┆ o          ┆ truccion   ┆ icionado   │\n",
              "│ i64  ┆ i64    ┆ ---         ┆ i64        ┆   ┆ str        ┆ ---        ┆ ---        ┆ ---        │\n",
              "│      ┆        ┆ f64         ┆            ┆   ┆            ┆ str        ┆ str        ┆ str        │\n",
              "╞══════╪════════╪═════════════╪════════════╪═══╪════════════╪════════════╪════════════╪════════════╡\n",
              "│ 0    ┆ 132500 ┆ 0.09        ┆ 42         ┆ … ┆ septic     ┆ No         ┆ No         ┆ No         │\n",
              "│ 1    ┆ 181115 ┆ 0.92        ┆ 0          ┆ … ┆ septic     ┆ No         ┆ No         ┆ No         │\n",
              "│ 2    ┆ 109000 ┆ 0.19        ┆ 133        ┆ … ┆ public/com ┆ No         ┆ No         ┆ No         │\n",
              "│      ┆        ┆             ┆            ┆   ┆ mercial    ┆            ┆            ┆            │\n",
              "│ 3    ┆ 155000 ┆ 0.41        ┆ 13         ┆ … ┆ septic     ┆ No         ┆ No         ┆ No         │\n",
              "│ 4    ┆ 86060  ┆ 0.11        ┆ 0          ┆ … ┆ public/com ┆ No         ┆ Yes        ┆ Yes        │\n",
              "│      ┆        ┆             ┆            ┆   ┆ mercial    ┆            ┆            ┆            │\n",
              "│ …    ┆ …      ┆ …           ┆ …          ┆ … ┆ …          ┆ …          ┆ …          ┆ …          │\n",
              "│ 1723 ┆ 289000 ┆ 0.38        ┆ 32         ┆ … ┆ public/com ┆ No         ┆ No         ┆ No         │\n",
              "│      ┆        ┆             ┆            ┆   ┆ mercial    ┆            ┆            ┆            │\n",
              "│ 1724 ┆ 285000 ┆ 0.94        ┆ 37         ┆ … ┆ public/com ┆ No         ┆ No         ┆ No         │\n",
              "│      ┆        ┆             ┆            ┆   ┆ mercial    ┆            ┆            ┆            │\n",
              "│ 1725 ┆ 194900 ┆ 0.39        ┆ 9          ┆ … ┆ public/com ┆ No         ┆ No         ┆ No         │\n",
              "│      ┆        ┆             ┆            ┆   ┆ mercial    ┆            ┆            ┆            │\n",
              "│ 1726 ┆ 125000 ┆ 0.24        ┆ 48         ┆ … ┆ public/com ┆ No         ┆ No         ┆ No         │\n",
              "│      ┆        ┆             ┆            ┆   ┆ mercial    ┆            ┆            ┆            │\n",
              "│ 1727 ┆ 111300 ┆ 0.59        ┆ 86         ┆ … ┆ septic     ┆ No         ┆ No         ┆ No         │\n",
              "└──────┴────────┴─────────────┴────────────┴───┴────────────┴────────────┴────────────┴────────────┘"
            ],
            "text/html": [
              "<div><style>\n",
              ".dataframe > thead > tr,\n",
              ".dataframe > tbody > tr {\n",
              "  text-align: right;\n",
              "  white-space: pre-wrap;\n",
              "}\n",
              "</style>\n",
              "<small>shape: (1_728, 16)</small><table border=\"1\" class=\"dataframe\"><thead><tr><th></th><th>precio</th><th>metros_totales</th><th>antiguedad</th><th>precio_terreno</th><th>metros_habitables</th><th>universitarios</th><th>dormitorios</th><th>baños</th><th>habitaciones</th><th>calefaccion</th><th>consumo_calefacion</th><th>desague</th><th>vistas_lago</th><th>nueva_construccion</th><th>aire_acondicionado</th></tr><tr><td>i64</td><td>i64</td><td>f64</td><td>i64</td><td>i64</td><td>i64</td><td>i64</td><td>i64</td><td>f64</td><td>i64</td><td>str</td><td>str</td><td>str</td><td>str</td><td>str</td><td>str</td></tr></thead><tbody><tr><td>0</td><td>132500</td><td>0.09</td><td>42</td><td>50000</td><td>906</td><td>35</td><td>2</td><td>1.0</td><td>5</td><td>&quot;electric&quot;</td><td>&quot;electric&quot;</td><td>&quot;septic&quot;</td><td>&quot;No&quot;</td><td>&quot;No&quot;</td><td>&quot;No&quot;</td></tr><tr><td>1</td><td>181115</td><td>0.92</td><td>0</td><td>22300</td><td>1953</td><td>51</td><td>3</td><td>2.5</td><td>6</td><td>&quot;hot water/steam&quot;</td><td>&quot;gas&quot;</td><td>&quot;septic&quot;</td><td>&quot;No&quot;</td><td>&quot;No&quot;</td><td>&quot;No&quot;</td></tr><tr><td>2</td><td>109000</td><td>0.19</td><td>133</td><td>7300</td><td>1944</td><td>51</td><td>4</td><td>1.0</td><td>8</td><td>&quot;hot water/steam&quot;</td><td>&quot;gas&quot;</td><td>&quot;public/commercial&quot;</td><td>&quot;No&quot;</td><td>&quot;No&quot;</td><td>&quot;No&quot;</td></tr><tr><td>3</td><td>155000</td><td>0.41</td><td>13</td><td>18700</td><td>1944</td><td>51</td><td>3</td><td>1.5</td><td>5</td><td>&quot;hot air&quot;</td><td>&quot;gas&quot;</td><td>&quot;septic&quot;</td><td>&quot;No&quot;</td><td>&quot;No&quot;</td><td>&quot;No&quot;</td></tr><tr><td>4</td><td>86060</td><td>0.11</td><td>0</td><td>15000</td><td>840</td><td>51</td><td>2</td><td>1.0</td><td>3</td><td>&quot;hot air&quot;</td><td>&quot;gas&quot;</td><td>&quot;public/commercial&quot;</td><td>&quot;No&quot;</td><td>&quot;Yes&quot;</td><td>&quot;Yes&quot;</td></tr><tr><td>&hellip;</td><td>&hellip;</td><td>&hellip;</td><td>&hellip;</td><td>&hellip;</td><td>&hellip;</td><td>&hellip;</td><td>&hellip;</td><td>&hellip;</td><td>&hellip;</td><td>&hellip;</td><td>&hellip;</td><td>&hellip;</td><td>&hellip;</td><td>&hellip;</td><td>&hellip;</td></tr><tr><td>1723</td><td>289000</td><td>0.38</td><td>32</td><td>24200</td><td>2310</td><td>61</td><td>5</td><td>2.5</td><td>11</td><td>&quot;hot water/steam&quot;</td><td>&quot;gas&quot;</td><td>&quot;public/commercial&quot;</td><td>&quot;No&quot;</td><td>&quot;No&quot;</td><td>&quot;No&quot;</td></tr><tr><td>1724</td><td>285000</td><td>0.94</td><td>37</td><td>36200</td><td>2564</td><td>61</td><td>4</td><td>2.5</td><td>11</td><td>&quot;hot water/steam&quot;</td><td>&quot;gas&quot;</td><td>&quot;public/commercial&quot;</td><td>&quot;No&quot;</td><td>&quot;No&quot;</td><td>&quot;No&quot;</td></tr><tr><td>1725</td><td>194900</td><td>0.39</td><td>9</td><td>20400</td><td>1099</td><td>51</td><td>2</td><td>1.0</td><td>3</td><td>&quot;hot air&quot;</td><td>&quot;gas&quot;</td><td>&quot;public/commercial&quot;</td><td>&quot;No&quot;</td><td>&quot;No&quot;</td><td>&quot;No&quot;</td></tr><tr><td>1726</td><td>125000</td><td>0.24</td><td>48</td><td>16800</td><td>1225</td><td>51</td><td>3</td><td>1.0</td><td>7</td><td>&quot;hot air&quot;</td><td>&quot;gas&quot;</td><td>&quot;public/commercial&quot;</td><td>&quot;No&quot;</td><td>&quot;No&quot;</td><td>&quot;No&quot;</td></tr><tr><td>1727</td><td>111300</td><td>0.59</td><td>86</td><td>26000</td><td>1959</td><td>51</td><td>3</td><td>1.0</td><td>6</td><td>&quot;hot air&quot;</td><td>&quot;gas&quot;</td><td>&quot;septic&quot;</td><td>&quot;No&quot;</td><td>&quot;No&quot;</td><td>&quot;No&quot;</td></tr></tbody></table></div>"
            ]
          },
          "metadata": {},
          "execution_count": 92
        }
      ]
    },
    {
      "cell_type": "code",
      "source": [
        "df.collect_schema().dtypes()"
      ],
      "metadata": {
        "colab": {
          "base_uri": "https://localhost:8080/"
        },
        "id": "Auq8upjdCSzf",
        "outputId": "70e9059c-dec3-4941-9bca-74456328fd6f"
      },
      "execution_count": 93,
      "outputs": [
        {
          "output_type": "execute_result",
          "data": {
            "text/plain": [
              "[Int64,\n",
              " Int64,\n",
              " Float64,\n",
              " Int64,\n",
              " Int64,\n",
              " Int64,\n",
              " Int64,\n",
              " Int64,\n",
              " Float64,\n",
              " Int64,\n",
              " String,\n",
              " String,\n",
              " String,\n",
              " String,\n",
              " String,\n",
              " String]"
            ]
          },
          "metadata": {},
          "execution_count": 93
        }
      ]
    },
    {
      "cell_type": "markdown",
      "source": [
        "# **profile**\n",
        "##Esta función perfila un LazyFrame, es decir, ejecutará la consulta y devolverá una tupla que contiene el DataFrame materializado y un DataFrame que contiene información de perfil de cada nodo que se ejecuta. Las unidades de los tiempos son microsegundos.\n",
        "\n",
        "##Con el parámetro show_plot=True mostraremos un diagrama de Gantt del resultado del perfilado."
      ],
      "metadata": {
        "id": "DvK6dXS5Csdz"
      }
    },
    {
      "cell_type": "code",
      "source": [
        "from polars import col\n",
        "\n",
        "query_df = df.group_by('antiguedad').agg(\n",
        "    suma_precios=col('precio').sum()\n",
        ").sort('antiguedad', descending=True)\n",
        "\n",
        "query_df.profile(show_plot=True)"
      ],
      "metadata": {
        "colab": {
          "base_uri": "https://localhost:8080/",
          "height": 930
        },
        "id": "OgnlhzZ_ZEkD",
        "outputId": "892356d9-27fc-41b7-f87c-9c735596bec1"
      },
      "execution_count": 95,
      "outputs": [
        {
          "output_type": "display_data",
          "data": {
            "text/plain": [
              "<Figure size 1800x800 with 1 Axes>"
            ],
            "image/png": "[encoded data removed]"
          },
          "metadata": {}
        },
        {
          "output_type": "execute_result",
          "data": {
            "text/plain": [
              "(shape: (136, 2)\n",
              " ┌────────────┬──────────────┐\n",
              " │ antiguedad ┆ suma_precios │\n",
              " │ ---        ┆ ---          │\n",
              " │ i64        ┆ i64          │\n",
              " ╞════════════╪══════════════╡\n",
              " │ 225        ┆ 82800        │\n",
              " │ 201        ┆ 227000       │\n",
              " │ 178        ┆ 135000       │\n",
              " │ 176        ┆ 422680       │\n",
              " │ 174        ┆ 154000       │\n",
              " │ …          ┆ …            │\n",
              " │ 4          ┆ 6271000      │\n",
              " │ 3          ┆ 9727250      │\n",
              " │ 2          ┆ 5642600      │\n",
              " │ 1          ┆ 22752834     │\n",
              " │ 0          ┆ 22221338     │\n",
              " └────────────┴──────────────┘,\n",
              " shape: (4, 3)\n",
              " ┌─────────────────────────────────┬───────┬──────┐\n",
              " │ node                            ┆ start ┆ end  │\n",
              " │ ---                             ┆ ---   ┆ ---  │\n",
              " │ str                             ┆ u64   ┆ u64  │\n",
              " ╞═════════════════════════════════╪═══════╪══════╡\n",
              " │ optimization                    ┆ 0     ┆ 8    │\n",
              " │ csv(https://raw.githubusercont… ┆ 8     ┆ 1346 │\n",
              " │ group_by_partitioned(antigueda… ┆ 1358  ┆ 2241 │\n",
              " │ sort(antiguedad)                ┆ 2251  ┆ 2501 │\n",
              " └─────────────────────────────────┴───────┴──────┘)"
            ]
          },
          "metadata": {},
          "execution_count": 95
        }
      ]
    },
    {
      "cell_type": "markdown",
      "source": [
        "# **<font color=\"#07a8ed\">Lazy Frame con  Gran Marco de Datos Perezoso-100 millones de registros?**"
      ],
      "metadata": {
        "id": "Jy9ldJVaqK25"
      }
    },
    {
      "cell_type": "code",
      "source": [
        "!pip install polars -U"
      ],
      "metadata": {
        "colab": {
          "base_uri": "https://localhost:8080/"
        },
        "id": "6rToreA7rvEh",
        "outputId": "93eb338e-dc21-4649-cdac-5feec4175f60"
      },
      "execution_count": 96,
      "outputs": [
        {
          "output_type": "stream",
          "name": "stdout",
          "text": [
            "Requirement already satisfied: polars in /usr/local/lib/python3.10/dist-packages (1.12.0)\n"
          ]
        }
      ]
    },
    {
      "cell_type": "code",
      "source": [
        "!pip install polars[gpu] --extra-index-url=https://pypi.nvidia.com"
      ],
      "metadata": {
        "colab": {
          "base_uri": "https://localhost:8080/"
        },
        "id": "3oWhlqLwrxZv",
        "outputId": "79e90a4e-d368-4620-b214-dddc1c27fe76"
      },
      "execution_count": 97,
      "outputs": [
        {
          "output_type": "stream",
          "name": "stdout",
          "text": [
            "Looking in indexes: https://pypi.org/simple, https://pypi.nvidia.com\n",
            "Requirement already satisfied: polars[gpu] in /usr/local/lib/python3.10/dist-packages (1.12.0)\n",
            "\u001b[33mWARNING: Skipping page https://pypi.nvidia.com/cudf-polars-cu12/ because the GET request got Content-Type: public, must-revalidate, proxy-revalidate, max-age=0. The only supported Content-Types are application/vnd.pypi.simple.v1+json, application/vnd.pypi.simple.v1+html, and text/html\u001b[0m\u001b[33m\n",
            "\u001b[0mCollecting cudf-polars-cu12 (from polars[gpu])\n",
            "  Downloading cudf_polars_cu12-24.10.1.tar.gz (2.2 kB)\n",
            "  Installing build dependencies ... \u001b[?25l\u001b[?25hdone\n",
            "  Getting requirements to build wheel ... \u001b[?25l\u001b[?25hdone\n",
            "  Preparing metadata (pyproject.toml) ... \u001b[?25l\u001b[?25hdone\n",
            "INFO: pip is looking at multiple versions of cudf-polars-cu12 to determine which version is compatible with other requirements. This could take a while.\n",
            "Collecting polars[gpu]\n",
            "  Using cached polars-1.12.0-cp39-abi3-manylinux_2_17_x86_64.manylinux2014_x86_64.whl.metadata (14 kB)\n",
            "  Downloading polars-1.11.0-cp39-abi3-manylinux_2_17_x86_64.manylinux2014_x86_64.whl.metadata (14 kB)\n",
            "  Downloading polars-1.10.0-cp39-abi3-manylinux_2_17_x86_64.manylinux2014_x86_64.whl.metadata (14 kB)\n",
            "  Downloading polars-1.9.0-cp38-abi3-manylinux_2_17_x86_64.manylinux2014_x86_64.whl.metadata (14 kB)\n",
            "  Downloading polars-1.8.2-cp38-abi3-manylinux_2_17_x86_64.manylinux2014_x86_64.whl.metadata (14 kB)\n",
            "Requirement already satisfied: pylibcudf-cu12==24.10.* in /usr/local/lib/python3.10/dist-packages (from cudf-polars-cu12->polars[gpu]) (24.10.1)\n",
            "Requirement already satisfied: cuda-python<13.0a0,>=12.0 in /usr/local/lib/python3.10/dist-packages (from pylibcudf-cu12==24.10.*->cudf-polars-cu12->polars[gpu]) (12.2.1)\n",
            "Requirement already satisfied: libcudf-cu12==24.10.* in /usr/local/lib/python3.10/dist-packages (from pylibcudf-cu12==24.10.*->cudf-polars-cu12->polars[gpu]) (24.10.1)\n",
            "Requirement already satisfied: nvtx>=0.2.1 in /usr/local/lib/python3.10/dist-packages (from pylibcudf-cu12==24.10.*->cudf-polars-cu12->polars[gpu]) (0.2.10)\n",
            "Requirement already satisfied: packaging in /usr/local/lib/python3.10/dist-packages (from pylibcudf-cu12==24.10.*->cudf-polars-cu12->polars[gpu]) (24.1)\n",
            "Requirement already satisfied: pyarrow<18.0.0a0,>=14.0.0 in /usr/local/lib/python3.10/dist-packages (from pylibcudf-cu12==24.10.*->cudf-polars-cu12->polars[gpu]) (17.0.0)\n",
            "Requirement already satisfied: rmm-cu12==24.10.* in /usr/local/lib/python3.10/dist-packages (from pylibcudf-cu12==24.10.*->cudf-polars-cu12->polars[gpu]) (24.10.0)\n",
            "Requirement already satisfied: typing_extensions>=4.0.0 in /usr/local/lib/python3.10/dist-packages (from pylibcudf-cu12==24.10.*->cudf-polars-cu12->polars[gpu]) (4.12.2)\n",
            "Requirement already satisfied: numba>=0.57 in /usr/local/lib/python3.10/dist-packages (from rmm-cu12==24.10.*->pylibcudf-cu12==24.10.*->cudf-polars-cu12->polars[gpu]) (0.60.0)\n",
            "Requirement already satisfied: numpy<3.0a0,>=1.23 in /usr/local/lib/python3.10/dist-packages (from rmm-cu12==24.10.*->pylibcudf-cu12==24.10.*->cudf-polars-cu12->polars[gpu]) (1.26.4)\n",
            "Requirement already satisfied: cython in /usr/local/lib/python3.10/dist-packages (from cuda-python<13.0a0,>=12.0->pylibcudf-cu12==24.10.*->cudf-polars-cu12->polars[gpu]) (3.0.11)\n",
            "Requirement already satisfied: llvmlite<0.44,>=0.43.0dev0 in /usr/local/lib/python3.10/dist-packages (from numba>=0.57->rmm-cu12==24.10.*->pylibcudf-cu12==24.10.*->cudf-polars-cu12->polars[gpu]) (0.43.0)\n",
            "Downloading polars-1.8.2-cp38-abi3-manylinux_2_17_x86_64.manylinux2014_x86_64.whl (32.5 MB)\n",
            "\u001b[2K   \u001b[90m━━━━━━━━━━━━━━━━━━━━━━━━━━━━━━━━━━━━━━━━\u001b[0m \u001b[32m32.5/32.5 MB\u001b[0m \u001b[31m35.7 MB/s\u001b[0m eta \u001b[36m0:00:00\u001b[0m\n",
            "\u001b[?25hBuilding wheels for collected packages: cudf-polars-cu12\n",
            "  Building wheel for cudf-polars-cu12 (pyproject.toml) ... \u001b[?25l\u001b[?25hdone\n",
            "  Created wheel for cudf-polars-cu12: filename=cudf_polars_cu12-24.10.1-py3-none-any.whl size=53357 sha256=3aeb03d20bbf944106c86e22714437316148c86f659d9e691bf2a11cccbae8f5\n",
            "  Stored in directory: /root/.cache/pip/wheels/0b/60/a0/e6aa0053e52d34019bf87cb78f0215e71499afd0ca060b43f5\n",
            "Successfully built cudf-polars-cu12\n",
            "Installing collected packages: polars, cudf-polars-cu12\n",
            "  Attempting uninstall: polars\n",
            "    Found existing installation: polars 1.12.0\n",
            "    Uninstalling polars-1.12.0:\n",
            "      Successfully uninstalled polars-1.12.0\n",
            "Successfully installed cudf-polars-cu12-24.10.1 polars-1.8.2\n"
          ]
        }
      ]
    },
    {
      "cell_type": "code",
      "source": [
        "import polars as pl"
      ],
      "metadata": {
        "id": "yxzC4Ve2rcn3"
      },
      "execution_count": 98,
      "outputs": []
    },
    {
      "cell_type": "code",
      "source": [
        "import numpy as np"
      ],
      "metadata": {
        "id": "7GsWKW4LqY43"
      },
      "execution_count": 99,
      "outputs": []
    },
    {
      "cell_type": "code",
      "source": [
        "%%time\n",
        "np.random.seed(0)\n",
        "\n",
        "num_rows = 100_000_000\n",
        "num_columns = 5\n",
        "\n",
        "# Crear un marco de datos con datos aleatorios\n",
        "# Cambiado: pase los datos y los nombres de la columna utilizando el argumento del esquema\n",
        "data = np.random.randint(0, 100, size=(num_rows, num_columns))\n",
        "schema = {f'Column_{i}': pl.Int64 for i in range(1, num_columns + 1)}\n",
        "df_polars = pl.LazyFrame(data, schema=schema)\n",
        "df_polars"
      ],
      "metadata": {
        "colab": {
          "base_uri": "https://localhost:8080/",
          "height": 204
        },
        "id": "pHsvgSTCqVRx",
        "outputId": "6ea71b08-cbb6-4571-acdd-8dfb6f1b76d8"
      },
      "execution_count": 100,
      "outputs": [
        {
          "output_type": "stream",
          "name": "stdout",
          "text": [
            "CPU times: user 8.73 s, sys: 5.88 s, total: 14.6 s\n",
            "Wall time: 16.8 s\n"
          ]
        },
        {
          "output_type": "execute_result",
          "data": {
            "text/plain": [
              "<LazyFrame at 0x7DC414481D80>"
            ],
            "text/html": [
              "<h4>NAIVE QUERY PLAN</h4><p>run <b>LazyFrame.show_graph()</b> to see the optimized version</p><?xml version=\"1.0\" encoding=\"UTF-8\" standalone=\"no\"?>\n",
              "<!DOCTYPE svg PUBLIC \"-//W3C//DTD SVG 1.1//EN\"\n",
              " \"http://www.w3.org/Graphics/SVG/1.1/DTD/svg11.dtd\">\n",
              "<!-- Generated by graphviz version 2.43.0 (0)\n",
              " -->\n",
              "<!-- Title: polars_query Pages: 1 -->\n",
              "<svg width=\"67pt\" height=\"61pt\"\n",
              " viewBox=\"0.00 0.00 67.00 61.00\" xmlns=\"http://www.w3.org/2000/svg\" xmlns:xlink=\"http://www.w3.org/1999/xlink\">\n",
              "<g id=\"graph0\" class=\"graph\" transform=\"scale(1 1) rotate(0) translate(4 57)\">\n",
              "<title>polars_query</title>\n",
              "<polygon fill=\"white\" stroke=\"transparent\" points=\"-4,4 -4,-57 63,-57 63,4 -4,4\"/>\n",
              "<!-- p1 -->\n",
              "<g id=\"node1\" class=\"node\">\n",
              "<title>p1</title>\n",
              "<polygon fill=\"none\" stroke=\"black\" points=\"59,-53 0,-53 0,0 59,0 59,-53\"/>\n",
              "<text text-anchor=\"middle\" x=\"29.5\" y=\"-37.8\" font-family=\"Times,serif\" font-size=\"14.00\">TABLE</text>\n",
              "<text text-anchor=\"middle\" x=\"29.5\" y=\"-22.8\" font-family=\"Times,serif\" font-size=\"14.00\">π */5;</text>\n",
              "<text text-anchor=\"middle\" x=\"29.5\" y=\"-7.8\" font-family=\"Times,serif\" font-size=\"14.00\">σ None</text>\n",
              "</g>\n",
              "</g>\n",
              "</svg>\n"
            ]
          },
          "metadata": {},
          "execution_count": 100
        }
      ]
    },
    {
      "cell_type": "code",
      "source": [
        "%time\n",
        "df_polars.collect()"
      ],
      "metadata": {
        "colab": {
          "base_uri": "https://localhost:8080/",
          "height": 479
        },
        "id": "Bl1tEZMlqczU",
        "outputId": "92038909-fb53-44f2-9c96-e7b6a9b62001"
      },
      "execution_count": 101,
      "outputs": [
        {
          "output_type": "stream",
          "name": "stdout",
          "text": [
            "CPU times: user 3 µs, sys: 1 µs, total: 4 µs\n",
            "Wall time: 6.91 µs\n"
          ]
        },
        {
          "output_type": "execute_result",
          "data": {
            "text/plain": [
              "shape: (100_000_000, 5)\n",
              "┌──────────┬──────────┬──────────┬──────────┬──────────┐\n",
              "│ Column_1 ┆ Column_2 ┆ Column_3 ┆ Column_4 ┆ Column_5 │\n",
              "│ ---      ┆ ---      ┆ ---      ┆ ---      ┆ ---      │\n",
              "│ i64      ┆ i64      ┆ i64      ┆ i64      ┆ i64      │\n",
              "╞══════════╪══════════╪══════════╪══════════╪══════════╡\n",
              "│ 44       ┆ 47       ┆ 64       ┆ 67       ┆ 67       │\n",
              "│ 9        ┆ 83       ┆ 21       ┆ 36       ┆ 87       │\n",
              "│ 70       ┆ 88       ┆ 88       ┆ 12       ┆ 58       │\n",
              "│ 65       ┆ 39       ┆ 87       ┆ 46       ┆ 88       │\n",
              "│ 81       ┆ 37       ┆ 25       ┆ 77       ┆ 72       │\n",
              "│ …        ┆ …        ┆ …        ┆ …        ┆ …        │\n",
              "│ 55       ┆ 66       ┆ 9        ┆ 77       ┆ 3        │\n",
              "│ 81       ┆ 42       ┆ 34       ┆ 43       ┆ 56       │\n",
              "│ 81       ┆ 9        ┆ 6        ┆ 44       ┆ 19       │\n",
              "│ 42       ┆ 10       ┆ 32       ┆ 97       ┆ 37       │\n",
              "│ 6        ┆ 54       ┆ 53       ┆ 74       ┆ 7        │\n",
              "└──────────┴──────────┴──────────┴──────────┴──────────┘"
            ],
            "text/html": [
              "<div><style>\n",
              ".dataframe > thead > tr,\n",
              ".dataframe > tbody > tr {\n",
              "  text-align: right;\n",
              "  white-space: pre-wrap;\n",
              "}\n",
              "</style>\n",
              "<small>shape: (100_000_000, 5)</small><table border=\"1\" class=\"dataframe\"><thead><tr><th>Column_1</th><th>Column_2</th><th>Column_3</th><th>Column_4</th><th>Column_5</th></tr><tr><td>i64</td><td>i64</td><td>i64</td><td>i64</td><td>i64</td></tr></thead><tbody><tr><td>44</td><td>47</td><td>64</td><td>67</td><td>67</td></tr><tr><td>9</td><td>83</td><td>21</td><td>36</td><td>87</td></tr><tr><td>70</td><td>88</td><td>88</td><td>12</td><td>58</td></tr><tr><td>65</td><td>39</td><td>87</td><td>46</td><td>88</td></tr><tr><td>81</td><td>37</td><td>25</td><td>77</td><td>72</td></tr><tr><td>&hellip;</td><td>&hellip;</td><td>&hellip;</td><td>&hellip;</td><td>&hellip;</td></tr><tr><td>55</td><td>66</td><td>9</td><td>77</td><td>3</td></tr><tr><td>81</td><td>42</td><td>34</td><td>43</td><td>56</td></tr><tr><td>81</td><td>9</td><td>6</td><td>44</td><td>19</td></tr><tr><td>42</td><td>10</td><td>32</td><td>97</td><td>37</td></tr><tr><td>6</td><td>54</td><td>53</td><td>74</td><td>7</td></tr></tbody></table></div>"
            ]
          },
          "metadata": {},
          "execution_count": 101
        }
      ]
    }
  ]
}