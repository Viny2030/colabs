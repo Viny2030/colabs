{
  "nbformat": 4,
  "nbformat_minor": 0,
  "metadata": {
    "colab": {
      "provenance": [],
      "authorship_tag": "ABX9TyM0NVzKKRVEsUunGu4gqAxZ",
      "include_colab_link": true
    },
    "kernelspec": {
      "name": "python3",
      "display_name": "Python 3"
    },
    "language_info": {
      "name": "python"
    }
  },
  "cells": [
    {
      "cell_type": "markdown",
      "metadata": {
        "id": "view-in-github",
        "colab_type": "text"
      },
      "source": [
        "<a href=\"https://colab.research.google.com/github/Viny2030/colabs/blob/main/intropolars.ipynb\" target=\"_parent\"><img src=\"https://colab.research.google.com/assets/colab-badge.svg\" alt=\"Open In Colab\"/></a>"
      ]
    },
    {
      "cell_type": "markdown",
      "source": [
        "# ¿Qué es Polars?\n",
        "\n",
        "\n",
        "Polars es una librería diseñada para trabajar con datos tabulares (DataFrames). Tiene como principal característica la capacidad de procesar grandes volúmenes de datos de forma rápida y eficiente, gracias a que maximiza el uso de todos los cores disponibles en un ordenador. Su mayor capacidad para procesar datos frente a otras librerías, por ejemplo Pandas, se debe a que está desarrollada en Rust, lo que le permite disponer de la paralelización de tareas desde su raíz. Además, utiliza Arrow arrays, una estructura de datos especialmente optimizada para realizar operaciones columnares. Actualmente, Polars dispone de APIs en Python y Rust.\n",
        "\n",
        "Es una librería que ha ganando mucha popularidad a lo largo de los últimos años y puede ser buena alternativa frente a otros frameworks de procesamiento de datos en Python.\n",
        "\n",
        "En este artículo se utiliza la API de Python y tiene como objetivo hacer una pequeña introducción a la sintaxis de Polars y algunas de sus principales funcionalidades.\n",
        "\n",
        "\n",
        "\n",
        "\n",
        "\n",
        "\n"
      ],
      "metadata": {
        "id": "gvG4nznHMDEO"
      }
    },
    {
      "cell_type": "code",
      "execution_count": 1,
      "metadata": {
        "id": "WdFgffWpL8c1"
      },
      "outputs": [],
      "source": [
        "# Librerías\n",
        "# ======================================================================================\n",
        "import polars as pl\n",
        "from datetime import datetime"
      ]
    },
    {
      "cell_type": "markdown",
      "source": [
        "# Datos\n",
        "En este artículo de introducción, vamos a utilizar datos públicos del sistema nacional de salud de Inglaterra (NHS: National Health Service). El archivo de tipo csv contiene una muestra de datos de prescripciones médicas realizadas en Reino Unido (Deciembre 2014) y pueden descargarse desde el siguiente link. En este enlace se puede obtener más información sobre este dataset: link\n",
        "\n",
        "Polars puede trabajar con distintos formatos de datos (csv, parquet, json, DBs, etc.)."
      ],
      "metadata": {
        "id": "stQ6BOxjMQLS"
      }
    },
    {
      "cell_type": "code",
      "source": [
        "# Lectura de datos (csv)\n",
        "# ==============================================================================\n",
        "url = (\n",
        "    \"https://raw.githubusercontent.com/Viny2030/datasets/refs/heads/main/Analisis_de_Facturas_de_Venta.csv\"\n",
        ")\n",
        "df = pl.read_csv(url)\n",
        "\n"
      ],
      "metadata": {
        "id": "UUF_0AM5MTKa"
      },
      "execution_count": 16,
      "outputs": []
    },
    {
      "cell_type": "code",
      "source": [
        "print(f\"Tipo de objeto: {type(df)}\")\n",
        "print(f\"Dimensiones de los datos: {df.shape}\")\n",
        "display(df.head())"
      ],
      "metadata": {
        "colab": {
          "base_uri": "https://localhost:8080/",
          "height": 289
        },
        "id": "QOhfZYLCMbBJ",
        "outputId": "aa7a193f-b8c5-41c8-cbc4-7b92458d102f"
      },
      "execution_count": 17,
      "outputs": [
        {
          "output_type": "stream",
          "name": "stdout",
          "text": [
            "Tipo de objeto: <class 'polars.dataframe.frame.DataFrame'>\n",
            "Dimensiones de los datos: (159, 9)\n"
          ]
        },
        {
          "output_type": "display_data",
          "data": {
            "text/plain": [
              "shape: (5, 9)\n",
              "┌────────────┬───────────┬──────────┬───────────┬───┬──────────┬───────────┬───────────┬───────────┐\n",
              "│ DOCUMENTO  ┆ ORGANIZAC ┆ FECHA    ┆ TIPOFACTU ┆ … ┆ CANTIDAD ┆ PRECIO    ┆ IMPORTEMO ┆ MONEDA    │\n",
              "│ ---        ┆ ION       ┆ ---      ┆ RA        ┆   ┆ ---      ┆ ---       ┆ NTRANSACC ┆ ---       │\n",
              "│ str        ┆ ---       ┆ str      ┆ ---       ┆   ┆ f64      ┆ f64       ┆ ION       ┆ str       │\n",
              "│            ┆ str       ┆          ┆ str       ┆   ┆          ┆           ┆ ---       ┆           │\n",
              "│            ┆           ┆          ┆           ┆   ┆          ┆           ┆ f64       ┆           │\n",
              "╞════════════╪═══════════╪══════════╪═══════════╪═══╪══════════╪═══════════╪═══════════╪═══════════╡\n",
              "│ B-0001-000 ┆ Etigand   ┆ 27/12/19 ┆ Factura   ┆ … ┆ 50.0     ┆ 5785.124  ┆ 289256.2  ┆ Pesos Arg │\n",
              "│ 00102      ┆ S.A.      ┆          ┆           ┆   ┆          ┆           ┆           ┆ entinos   │\n",
              "│ B-0001-000 ┆ Javier    ┆ 21/12/19 ┆ Factura   ┆ … ┆ 1.0      ┆ 99586.776 ┆ 99586.78  ┆ Pesos Arg │\n",
              "│ 00101      ┆ Moroni    ┆          ┆           ┆   ┆          ┆ 9         ┆           ┆ entinos   │\n",
              "│ A-0001-000 ┆ Amazon    ┆ 10/12/19 ┆ Factura   ┆ … ┆ 30.0     ┆ 1990.0    ┆ 59700.0   ┆ Pesos Arg │\n",
              "│ 00231      ┆ Group     ┆          ┆           ┆   ┆          ┆           ┆           ┆ entinos   │\n",
              "│ A-0001-000 ┆ Amazon    ┆ 6/12/19  ┆ Factura   ┆ … ┆ 30.0     ┆ 10358.0   ┆ 310740.0  ┆ Pesos Arg │\n",
              "│ 00230      ┆ Group     ┆          ┆           ┆   ┆          ┆           ┆           ┆ entinos   │\n",
              "│ A-0001-000 ┆ Manganell ┆ 20/11/19 ┆ Factura   ┆ … ┆ 50.0     ┆ 6300.0    ┆ 315000.0  ┆ Pesos Arg │\n",
              "│ 00229      ┆ o S.R.L   ┆          ┆           ┆   ┆          ┆           ┆           ┆ entinos   │\n",
              "└────────────┴───────────┴──────────┴───────────┴───┴──────────┴───────────┴───────────┴───────────┘"
            ],
            "text/html": [
              "<div><style>\n",
              ".dataframe > thead > tr,\n",
              ".dataframe > tbody > tr {\n",
              "  text-align: right;\n",
              "  white-space: pre-wrap;\n",
              "}\n",
              "</style>\n",
              "<small>shape: (5, 9)</small><table border=\"1\" class=\"dataframe\"><thead><tr><th>DOCUMENTO</th><th>ORGANIZACION</th><th>FECHA</th><th>TIPOFACTURA</th><th>PRODUCTO</th><th>CANTIDAD</th><th>PRECIO</th><th>IMPORTEMONTRANSACCION</th><th>MONEDA</th></tr><tr><td>str</td><td>str</td><td>str</td><td>str</td><td>str</td><td>f64</td><td>f64</td><td>f64</td><td>str</td></tr></thead><tbody><tr><td>&quot;B-0001-00000102&quot;</td><td>&quot;Etigand S.A.&quot;</td><td>&quot;27/12/19&quot;</td><td>&quot;Factura&quot;</td><td>&quot;Consultoria Web&quot;</td><td>50.0</td><td>5785.124</td><td>289256.2</td><td>&quot;Pesos Argentinos&quot;</td></tr><tr><td>&quot;B-0001-00000101&quot;</td><td>&quot;Javier Moroni&quot;</td><td>&quot;21/12/19&quot;</td><td>&quot;Factura&quot;</td><td>&quot;Honorarios&quot;</td><td>1.0</td><td>99586.7769</td><td>99586.78</td><td>&quot;Pesos Argentinos&quot;</td></tr><tr><td>&quot;A-0001-00000231&quot;</td><td>&quot;Amazon Group&quot;</td><td>&quot;10/12/19&quot;</td><td>&quot;Factura&quot;</td><td>&quot;Parlantes para PC&quot;</td><td>30.0</td><td>1990.0</td><td>59700.0</td><td>&quot;Pesos Argentinos&quot;</td></tr><tr><td>&quot;A-0001-00000230&quot;</td><td>&quot;Amazon Group&quot;</td><td>&quot;6/12/19&quot;</td><td>&quot;Factura&quot;</td><td>&quot;Mercaderia de Reventa&quot;</td><td>30.0</td><td>10358.0</td><td>310740.0</td><td>&quot;Pesos Argentinos&quot;</td></tr><tr><td>&quot;A-0001-00000229&quot;</td><td>&quot;Manganello S.R.L&quot;</td><td>&quot;20/11/19&quot;</td><td>&quot;Factura&quot;</td><td>&quot;Consultoria Web&quot;</td><td>50.0</td><td>6300.0</td><td>315000.0</td><td>&quot;Pesos Argentinos&quot;</td></tr></tbody></table></div>"
            ]
          },
          "metadata": {}
        }
      ]
    },
    {
      "cell_type": "code",
      "source": [
        "df.head(3)"
      ],
      "metadata": {
        "colab": {
          "base_uri": "https://localhost:8080/",
          "height": 192
        },
        "id": "Ca5WIR7iMlKn",
        "outputId": "57813b82-6be4-4531-9e03-e0e7386cebf1"
      },
      "execution_count": 18,
      "outputs": [
        {
          "output_type": "execute_result",
          "data": {
            "text/plain": [
              "shape: (3, 9)\n",
              "┌────────────┬───────────┬──────────┬───────────┬───┬──────────┬───────────┬───────────┬───────────┐\n",
              "│ DOCUMENTO  ┆ ORGANIZAC ┆ FECHA    ┆ TIPOFACTU ┆ … ┆ CANTIDAD ┆ PRECIO    ┆ IMPORTEMO ┆ MONEDA    │\n",
              "│ ---        ┆ ION       ┆ ---      ┆ RA        ┆   ┆ ---      ┆ ---       ┆ NTRANSACC ┆ ---       │\n",
              "│ str        ┆ ---       ┆ str      ┆ ---       ┆   ┆ f64      ┆ f64       ┆ ION       ┆ str       │\n",
              "│            ┆ str       ┆          ┆ str       ┆   ┆          ┆           ┆ ---       ┆           │\n",
              "│            ┆           ┆          ┆           ┆   ┆          ┆           ┆ f64       ┆           │\n",
              "╞════════════╪═══════════╪══════════╪═══════════╪═══╪══════════╪═══════════╪═══════════╪═══════════╡\n",
              "│ B-0001-000 ┆ Etigand   ┆ 27/12/19 ┆ Factura   ┆ … ┆ 50.0     ┆ 5785.124  ┆ 289256.2  ┆ Pesos Arg │\n",
              "│ 00102      ┆ S.A.      ┆          ┆           ┆   ┆          ┆           ┆           ┆ entinos   │\n",
              "│ B-0001-000 ┆ Javier    ┆ 21/12/19 ┆ Factura   ┆ … ┆ 1.0      ┆ 99586.776 ┆ 99586.78  ┆ Pesos Arg │\n",
              "│ 00101      ┆ Moroni    ┆          ┆           ┆   ┆          ┆ 9         ┆           ┆ entinos   │\n",
              "│ A-0001-000 ┆ Amazon    ┆ 10/12/19 ┆ Factura   ┆ … ┆ 30.0     ┆ 1990.0    ┆ 59700.0   ┆ Pesos Arg │\n",
              "│ 00231      ┆ Group     ┆          ┆           ┆   ┆          ┆           ┆           ┆ entinos   │\n",
              "└────────────┴───────────┴──────────┴───────────┴───┴──────────┴───────────┴───────────┴───────────┘"
            ],
            "text/html": [
              "<div><style>\n",
              ".dataframe > thead > tr,\n",
              ".dataframe > tbody > tr {\n",
              "  text-align: right;\n",
              "  white-space: pre-wrap;\n",
              "}\n",
              "</style>\n",
              "<small>shape: (3, 9)</small><table border=\"1\" class=\"dataframe\"><thead><tr><th>DOCUMENTO</th><th>ORGANIZACION</th><th>FECHA</th><th>TIPOFACTURA</th><th>PRODUCTO</th><th>CANTIDAD</th><th>PRECIO</th><th>IMPORTEMONTRANSACCION</th><th>MONEDA</th></tr><tr><td>str</td><td>str</td><td>str</td><td>str</td><td>str</td><td>f64</td><td>f64</td><td>f64</td><td>str</td></tr></thead><tbody><tr><td>&quot;B-0001-00000102&quot;</td><td>&quot;Etigand S.A.&quot;</td><td>&quot;27/12/19&quot;</td><td>&quot;Factura&quot;</td><td>&quot;Consultoria Web&quot;</td><td>50.0</td><td>5785.124</td><td>289256.2</td><td>&quot;Pesos Argentinos&quot;</td></tr><tr><td>&quot;B-0001-00000101&quot;</td><td>&quot;Javier Moroni&quot;</td><td>&quot;21/12/19&quot;</td><td>&quot;Factura&quot;</td><td>&quot;Honorarios&quot;</td><td>1.0</td><td>99586.7769</td><td>99586.78</td><td>&quot;Pesos Argentinos&quot;</td></tr><tr><td>&quot;A-0001-00000231&quot;</td><td>&quot;Amazon Group&quot;</td><td>&quot;10/12/19&quot;</td><td>&quot;Factura&quot;</td><td>&quot;Parlantes para PC&quot;</td><td>30.0</td><td>1990.0</td><td>59700.0</td><td>&quot;Pesos Argentinos&quot;</td></tr></tbody></table></div>"
            ]
          },
          "metadata": {},
          "execution_count": 18
        }
      ]
    },
    {
      "cell_type": "code",
      "source": [
        "df.describe()"
      ],
      "metadata": {
        "colab": {
          "base_uri": "https://localhost:8080/",
          "height": 380
        },
        "id": "BA92GYQYNIti",
        "outputId": "0da5de0e-0e8a-4b13-8dff-6300ecf8ff50"
      },
      "execution_count": 19,
      "outputs": [
        {
          "output_type": "execute_result",
          "data": {
            "text/plain": [
              "shape: (9, 10)\n",
              "┌────────────┬────────────┬───────────┬────────┬───┬───────────┬───────────┬───────────┬───────────┐\n",
              "│ statistic  ┆ DOCUMENTO  ┆ ORGANIZAC ┆ FECHA  ┆ … ┆ CANTIDAD  ┆ PRECIO    ┆ IMPORTEMO ┆ MONEDA    │\n",
              "│ ---        ┆ ---        ┆ ION       ┆ ---    ┆   ┆ ---       ┆ ---       ┆ NTRANSACC ┆ ---       │\n",
              "│ str        ┆ str        ┆ ---       ┆ str    ┆   ┆ f64       ┆ f64       ┆ ION       ┆ str       │\n",
              "│            ┆            ┆ str       ┆        ┆   ┆           ┆           ┆ ---       ┆           │\n",
              "│            ┆            ┆           ┆        ┆   ┆           ┆           ┆ f64       ┆           │\n",
              "╞════════════╪════════════╪═══════════╪════════╪═══╪═══════════╪═══════════╪═══════════╪═══════════╡\n",
              "│ count      ┆ 159        ┆ 159       ┆ 159    ┆ … ┆ 159.0     ┆ 159.0     ┆ 159.0     ┆ 159       │\n",
              "│ null_count ┆ 0          ┆ 0         ┆ 0      ┆ … ┆ 0.0       ┆ 0.0       ┆ 0.0       ┆ 0         │\n",
              "│ mean       ┆ null       ┆ null      ┆ null   ┆ … ┆ 7.383648  ┆ 24021.195 ┆ 58406.882 ┆ null      │\n",
              "│            ┆            ┆           ┆        ┆   ┆           ┆ 378       ┆ 767       ┆           │\n",
              "│ std        ┆ null       ┆ null      ┆ null   ┆ … ┆ 11.455914 ┆ 30051.944 ┆ 73240.581 ┆ null      │\n",
              "│            ┆            ┆           ┆        ┆   ┆           ┆ 155       ┆ 78        ┆           │\n",
              "│ min        ┆ A-0001-000 ┆ Amazon    ┆ 1/1/18 ┆ … ┆ 1.0       ┆ 107.438   ┆ 123.97    ┆ Dólares   │\n",
              "│            ┆ 00128      ┆ Group     ┆        ┆   ┆           ┆           ┆           ┆           │\n",
              "│ 25%        ┆ null       ┆ null      ┆ null   ┆ … ┆ 1.0       ┆ 3500.0    ┆ 14950.0   ┆ null      │\n",
              "│ 50%        ┆ null       ┆ null      ┆ null   ┆ … ┆ 1.0       ┆ 12000.0   ┆ 31404.96  ┆ null      │\n",
              "│ 75%        ┆ null       ┆ null      ┆ null   ┆ … ┆ 10.0      ┆ 32999.0   ┆ 73140.5   ┆ null      │\n",
              "│ max        ┆ B-0001-000 ┆ Valeria   ┆ 9/9/18 ┆ … ┆ 60.0      ┆ 165980.0  ┆ 370620.0  ┆ Pesos Arg │\n",
              "│            ┆ 00102      ┆ Welponer  ┆        ┆   ┆           ┆           ┆           ┆ entinos   │\n",
              "└────────────┴────────────┴───────────┴────────┴───┴───────────┴───────────┴───────────┴───────────┘"
            ],
            "text/html": [
              "<div><style>\n",
              ".dataframe > thead > tr,\n",
              ".dataframe > tbody > tr {\n",
              "  text-align: right;\n",
              "  white-space: pre-wrap;\n",
              "}\n",
              "</style>\n",
              "<small>shape: (9, 10)</small><table border=\"1\" class=\"dataframe\"><thead><tr><th>statistic</th><th>DOCUMENTO</th><th>ORGANIZACION</th><th>FECHA</th><th>TIPOFACTURA</th><th>PRODUCTO</th><th>CANTIDAD</th><th>PRECIO</th><th>IMPORTEMONTRANSACCION</th><th>MONEDA</th></tr><tr><td>str</td><td>str</td><td>str</td><td>str</td><td>str</td><td>str</td><td>f64</td><td>f64</td><td>f64</td><td>str</td></tr></thead><tbody><tr><td>&quot;count&quot;</td><td>&quot;159&quot;</td><td>&quot;159&quot;</td><td>&quot;159&quot;</td><td>&quot;159&quot;</td><td>&quot;159&quot;</td><td>159.0</td><td>159.0</td><td>159.0</td><td>&quot;159&quot;</td></tr><tr><td>&quot;null_count&quot;</td><td>&quot;0&quot;</td><td>&quot;0&quot;</td><td>&quot;0&quot;</td><td>&quot;0&quot;</td><td>&quot;0&quot;</td><td>0.0</td><td>0.0</td><td>0.0</td><td>&quot;0&quot;</td></tr><tr><td>&quot;mean&quot;</td><td>null</td><td>null</td><td>null</td><td>null</td><td>null</td><td>7.383648</td><td>24021.195378</td><td>58406.882767</td><td>null</td></tr><tr><td>&quot;std&quot;</td><td>null</td><td>null</td><td>null</td><td>null</td><td>null</td><td>11.455914</td><td>30051.944155</td><td>73240.58178</td><td>null</td></tr><tr><td>&quot;min&quot;</td><td>&quot;A-0001-00000128&quot;</td><td>&quot;Amazon Group&quot;</td><td>&quot;1/1/18&quot;</td><td>&quot;Factura&quot;</td><td>&quot;Cable RGB para video&quot;</td><td>1.0</td><td>107.438</td><td>123.97</td><td>&quot;Dólares&quot;</td></tr><tr><td>&quot;25%&quot;</td><td>null</td><td>null</td><td>null</td><td>null</td><td>null</td><td>1.0</td><td>3500.0</td><td>14950.0</td><td>null</td></tr><tr><td>&quot;50%&quot;</td><td>null</td><td>null</td><td>null</td><td>null</td><td>null</td><td>1.0</td><td>12000.0</td><td>31404.96</td><td>null</td></tr><tr><td>&quot;75%&quot;</td><td>null</td><td>null</td><td>null</td><td>null</td><td>null</td><td>10.0</td><td>32999.0</td><td>73140.5</td><td>null</td></tr><tr><td>&quot;max&quot;</td><td>&quot;B-0001-00000102&quot;</td><td>&quot;Valeria Welponer&quot;</td><td>&quot;9/9/18&quot;</td><td>&quot;Factura&quot;</td><td>&quot;Televisor Led Samsung 32  Hd C…</td><td>60.0</td><td>165980.0</td><td>370620.0</td><td>&quot;Pesos Argentinos&quot;</td></tr></tbody></table></div>"
            ]
          },
          "metadata": {},
          "execution_count": 19
        }
      ]
    },
    {
      "cell_type": "markdown",
      "source": [
        "##La primera cosa que podemos notar es que, la función de lectura csv, es muy similar a la syntax de Pandas .read_csv() y que también nos permite pasar argumentos como sep, columns, skip_rows, etc (API Doc)\n",
        "##El objeto devuelto es de tipo polars.internals.dataframe.frame.DataFrame, contiene 50000 filas y 26 columnas.\n",
        "Al igual que en Pandas, los polars.DataFrame tiene atributos capaces de informarnos del shape, schema, columns y dtypes. (API Doc)\n",
        "##Los polars.DataFrame también poseen atributos y métodos que permiten explorar y visualizar los datos de forma rápida. En el código anterior hemos llamado al método .head() que devuelve por defecto las 5 primeras líneas del DataFrame. Otros métodos para una rápida exploración son .tail() y .sample().\n",
        "##Es interesante destacar que, cuando hacemos un display del DataFrame, se muestra debajo del nombre de cada columna el tipo de datos.\n",
        "A diferencia de los DataFrame de Pandas,los polars.DataFrame no tiene un index asociado a las filas."
      ],
      "metadata": {
        "id": "IG9afaZ2Nnbr"
      }
    },
    {
      "cell_type": "markdown",
      "source": [
        "## atributos de un dtaaframe de polars"
      ],
      "metadata": {
        "id": "AqQ_Y-ACNw1K"
      }
    },
    {
      "cell_type": "code",
      "source": [
        "n_chars = 50\n",
        "\n",
        "# df.columns\n",
        "# ==============================================================================\n",
        "print(\"=\"*n_chars)\n",
        "print(\"df.columns: listado de columnas de un DataFrame\")\n",
        "print(df.columns)\n",
        "print(\"\")\n",
        "\n",
        "# df.types\n",
        "# ==============================================================================\n",
        "print(\"=\"*n_chars)\n",
        "print(\"df.types: tipos de datos de las columnas de un DataFrame\")\n",
        "print(df.dtypes)\n",
        "print(f\"Tipos de datos únicos: {set(df.dtypes)}\")\n",
        "print(\"\")\n",
        "\n",
        "# df.schema\n",
        "# ==============================================================================\n",
        "print(\"=\"*n_chars)\n",
        "print(\"df.schema: Diccionario con las columnas y sus tipos de datos\")\n",
        "print(df.schema)\n",
        "print(\"\")\n",
        "\n",
        "# df.shape\n",
        "# ==============================================================================\n",
        "print(\"=\"*n_chars)\n",
        "print(\"df.shape : filas x columnas de un DataFrame\")\n",
        "print(df.shape)\n",
        "print(\"\")\n",
        "\n",
        "# df.height\n",
        "# ==============================================================================\n",
        "print(\"=\"*n_chars)\n",
        "print(\"df.height : número de filas de un DataFrame\")\n",
        "print(df.height)\n",
        "print(\"\")\n",
        "\n",
        "# df.width\n",
        "# ==============================================================================\n",
        "print(\"=\"*n_chars)\n",
        "print(\"df.width : número de columnas de un DataFrame\")\n",
        "print(df.width)\n",
        "print(\"\")"
      ],
      "metadata": {
        "colab": {
          "base_uri": "https://localhost:8080/"
        },
        "id": "CttgaNHYNv9A",
        "outputId": "9a264cae-d1fd-4e67-f1b7-5225307103f3"
      },
      "execution_count": 20,
      "outputs": [
        {
          "output_type": "stream",
          "name": "stdout",
          "text": [
            "==================================================\n",
            "df.columns: listado de columnas de un DataFrame\n",
            "['DOCUMENTO', 'ORGANIZACION', 'FECHA', 'TIPOFACTURA', 'PRODUCTO', 'CANTIDAD', 'PRECIO', 'IMPORTEMONTRANSACCION', 'MONEDA']\n",
            "\n",
            "==================================================\n",
            "df.types: tipos de datos de las columnas de un DataFrame\n",
            "[String, String, String, String, String, Float64, Float64, Float64, String]\n",
            "Tipos de datos únicos: {String, Float64}\n",
            "\n",
            "==================================================\n",
            "df.schema: Diccionario con las columnas y sus tipos de datos\n",
            "Schema([('DOCUMENTO', String), ('ORGANIZACION', String), ('FECHA', String), ('TIPOFACTURA', String), ('PRODUCTO', String), ('CANTIDAD', Float64), ('PRECIO', Float64), ('IMPORTEMONTRANSACCION', Float64), ('MONEDA', String)])\n",
            "\n",
            "==================================================\n",
            "df.shape : filas x columnas de un DataFrame\n",
            "(159, 9)\n",
            "\n",
            "==================================================\n",
            "df.height : número de filas de un DataFrame\n",
            "159\n",
            "\n",
            "==================================================\n",
            "df.width : número de columnas de un DataFrame\n",
            "9\n",
            "\n"
          ]
        }
      ]
    },
    {
      "cell_type": "markdown",
      "source": [
        "Cómo podemos observar, Polars ha inferido tres tipos de datos distintos para nuestro dataset:\n",
        "\n",
        "Float64: Numeric (64-bit floating point type)\n",
        "\n",
        "Int64: Numeric (64-bit signed integer type)\n",
        "\n",
        "Utf8: String (UTF-8 encoded string type)\n",
        "\n",
        "Más información sobre los tipos de datos disponibles en Polars aquí"
      ],
      "metadata": {
        "id": "tXDv-i5GQAva"
      }
    },
    {
      "cell_type": "markdown",
      "source": [
        "`Métricas y valores descriptivos`\n",
        "Los polars.DataFrame tienen distintos métodos capaces de generar métricas descriptivas de los datos. Entre ellos destaca .describe() que nos devuelve los principales estadísticos descriptivos de cada columna. Por defecto, las métricas numéricas como mean, std, etc no están disponibles para las columnas de tipo string."
      ],
      "metadata": {
        "id": "G7yKv4UeQKqk"
      }
    },
    {
      "cell_type": "code",
      "source": [
        "# df.describe()\n",
        "# ==============================================================================\n",
        "print(\"df.describe(): Summary Stats\")\n",
        "display(df.describe())"
      ],
      "metadata": {
        "colab": {
          "base_uri": "https://localhost:8080/",
          "height": 397
        },
        "id": "K5_Ojas3QOih",
        "outputId": "6dbba9de-de5a-45cc-8b01-b24b9a42a196"
      },
      "execution_count": 22,
      "outputs": [
        {
          "output_type": "stream",
          "name": "stdout",
          "text": [
            "df.describe(): Summary Stats\n"
          ]
        },
        {
          "output_type": "display_data",
          "data": {
            "text/plain": [
              "shape: (9, 10)\n",
              "┌────────────┬────────────┬───────────┬────────┬───┬───────────┬───────────┬───────────┬───────────┐\n",
              "│ statistic  ┆ DOCUMENTO  ┆ ORGANIZAC ┆ FECHA  ┆ … ┆ CANTIDAD  ┆ PRECIO    ┆ IMPORTEMO ┆ MONEDA    │\n",
              "│ ---        ┆ ---        ┆ ION       ┆ ---    ┆   ┆ ---       ┆ ---       ┆ NTRANSACC ┆ ---       │\n",
              "│ str        ┆ str        ┆ ---       ┆ str    ┆   ┆ f64       ┆ f64       ┆ ION       ┆ str       │\n",
              "│            ┆            ┆ str       ┆        ┆   ┆           ┆           ┆ ---       ┆           │\n",
              "│            ┆            ┆           ┆        ┆   ┆           ┆           ┆ f64       ┆           │\n",
              "╞════════════╪════════════╪═══════════╪════════╪═══╪═══════════╪═══════════╪═══════════╪═══════════╡\n",
              "│ count      ┆ 159        ┆ 159       ┆ 159    ┆ … ┆ 159.0     ┆ 159.0     ┆ 159.0     ┆ 159       │\n",
              "│ null_count ┆ 0          ┆ 0         ┆ 0      ┆ … ┆ 0.0       ┆ 0.0       ┆ 0.0       ┆ 0         │\n",
              "│ mean       ┆ null       ┆ null      ┆ null   ┆ … ┆ 7.383648  ┆ 24021.195 ┆ 58406.882 ┆ null      │\n",
              "│            ┆            ┆           ┆        ┆   ┆           ┆ 378       ┆ 767       ┆           │\n",
              "│ std        ┆ null       ┆ null      ┆ null   ┆ … ┆ 11.455914 ┆ 30051.944 ┆ 73240.581 ┆ null      │\n",
              "│            ┆            ┆           ┆        ┆   ┆           ┆ 155       ┆ 78        ┆           │\n",
              "│ min        ┆ A-0001-000 ┆ Amazon    ┆ 1/1/18 ┆ … ┆ 1.0       ┆ 107.438   ┆ 123.97    ┆ Dólares   │\n",
              "│            ┆ 00128      ┆ Group     ┆        ┆   ┆           ┆           ┆           ┆           │\n",
              "│ 25%        ┆ null       ┆ null      ┆ null   ┆ … ┆ 1.0       ┆ 3500.0    ┆ 14950.0   ┆ null      │\n",
              "│ 50%        ┆ null       ┆ null      ┆ null   ┆ … ┆ 1.0       ┆ 12000.0   ┆ 31404.96  ┆ null      │\n",
              "│ 75%        ┆ null       ┆ null      ┆ null   ┆ … ┆ 10.0      ┆ 32999.0   ┆ 73140.5   ┆ null      │\n",
              "│ max        ┆ B-0001-000 ┆ Valeria   ┆ 9/9/18 ┆ … ┆ 60.0      ┆ 165980.0  ┆ 370620.0  ┆ Pesos Arg │\n",
              "│            ┆ 00102      ┆ Welponer  ┆        ┆   ┆           ┆           ┆           ┆ entinos   │\n",
              "└────────────┴────────────┴───────────┴────────┴───┴───────────┴───────────┴───────────┴───────────┘"
            ],
            "text/html": [
              "<div><style>\n",
              ".dataframe > thead > tr,\n",
              ".dataframe > tbody > tr {\n",
              "  text-align: right;\n",
              "  white-space: pre-wrap;\n",
              "}\n",
              "</style>\n",
              "<small>shape: (9, 10)</small><table border=\"1\" class=\"dataframe\"><thead><tr><th>statistic</th><th>DOCUMENTO</th><th>ORGANIZACION</th><th>FECHA</th><th>TIPOFACTURA</th><th>PRODUCTO</th><th>CANTIDAD</th><th>PRECIO</th><th>IMPORTEMONTRANSACCION</th><th>MONEDA</th></tr><tr><td>str</td><td>str</td><td>str</td><td>str</td><td>str</td><td>str</td><td>f64</td><td>f64</td><td>f64</td><td>str</td></tr></thead><tbody><tr><td>&quot;count&quot;</td><td>&quot;159&quot;</td><td>&quot;159&quot;</td><td>&quot;159&quot;</td><td>&quot;159&quot;</td><td>&quot;159&quot;</td><td>159.0</td><td>159.0</td><td>159.0</td><td>&quot;159&quot;</td></tr><tr><td>&quot;null_count&quot;</td><td>&quot;0&quot;</td><td>&quot;0&quot;</td><td>&quot;0&quot;</td><td>&quot;0&quot;</td><td>&quot;0&quot;</td><td>0.0</td><td>0.0</td><td>0.0</td><td>&quot;0&quot;</td></tr><tr><td>&quot;mean&quot;</td><td>null</td><td>null</td><td>null</td><td>null</td><td>null</td><td>7.383648</td><td>24021.195378</td><td>58406.882767</td><td>null</td></tr><tr><td>&quot;std&quot;</td><td>null</td><td>null</td><td>null</td><td>null</td><td>null</td><td>11.455914</td><td>30051.944155</td><td>73240.58178</td><td>null</td></tr><tr><td>&quot;min&quot;</td><td>&quot;A-0001-00000128&quot;</td><td>&quot;Amazon Group&quot;</td><td>&quot;1/1/18&quot;</td><td>&quot;Factura&quot;</td><td>&quot;Cable RGB para video&quot;</td><td>1.0</td><td>107.438</td><td>123.97</td><td>&quot;Dólares&quot;</td></tr><tr><td>&quot;25%&quot;</td><td>null</td><td>null</td><td>null</td><td>null</td><td>null</td><td>1.0</td><td>3500.0</td><td>14950.0</td><td>null</td></tr><tr><td>&quot;50%&quot;</td><td>null</td><td>null</td><td>null</td><td>null</td><td>null</td><td>1.0</td><td>12000.0</td><td>31404.96</td><td>null</td></tr><tr><td>&quot;75%&quot;</td><td>null</td><td>null</td><td>null</td><td>null</td><td>null</td><td>10.0</td><td>32999.0</td><td>73140.5</td><td>null</td></tr><tr><td>&quot;max&quot;</td><td>&quot;B-0001-00000102&quot;</td><td>&quot;Valeria Welponer&quot;</td><td>&quot;9/9/18&quot;</td><td>&quot;Factura&quot;</td><td>&quot;Televisor Led Samsung 32  Hd C…</td><td>60.0</td><td>165980.0</td><td>370620.0</td><td>&quot;Pesos Argentinos&quot;</td></tr></tbody></table></div>"
            ]
          },
          "metadata": {}
        }
      ]
    },
    {
      "cell_type": "markdown",
      "source": [
        "# Valores Nulos\n",
        "El método .null_count() devuelve un DataFrame con el total de valores nulos por columna. Más adelante en este artículo, también vamos a ver cómo encontrar y manipular estos valores."
      ],
      "metadata": {
        "id": "-rjc7Pw5QVDZ"
      }
    },
    {
      "cell_type": "code",
      "source": [
        "# df.null_count()\n",
        "# ==============================================================================\n",
        "print(\"df.null_count(): Devuelve un DataFrame con el total de valores nulos por columna\")\n",
        "display(df.null_count())"
      ],
      "metadata": {
        "colab": {
          "base_uri": "https://localhost:8080/",
          "height": 147
        },
        "id": "ePKJysEZQY6P",
        "outputId": "b47c7e4c-4bed-4950-c3ce-0bef1698c76f"
      },
      "execution_count": 23,
      "outputs": [
        {
          "output_type": "stream",
          "name": "stdout",
          "text": [
            "df.null_count(): Devuelve un DataFrame con el total de valores nulos por columna\n"
          ]
        },
        {
          "output_type": "display_data",
          "data": {
            "text/plain": [
              "shape: (1, 9)\n",
              "┌───────────┬──────────────┬───────┬─────────────┬───┬──────────┬────────┬────────────────┬────────┐\n",
              "│ DOCUMENTO ┆ ORGANIZACION ┆ FECHA ┆ TIPOFACTURA ┆ … ┆ CANTIDAD ┆ PRECIO ┆ IMPORTEMONTRAN ┆ MONEDA │\n",
              "│ ---       ┆ ---          ┆ ---   ┆ ---         ┆   ┆ ---      ┆ ---    ┆ SACCION        ┆ ---    │\n",
              "│ u32       ┆ u32          ┆ u32   ┆ u32         ┆   ┆ u32      ┆ u32    ┆ ---            ┆ u32    │\n",
              "│           ┆              ┆       ┆             ┆   ┆          ┆        ┆ u32            ┆        │\n",
              "╞═══════════╪══════════════╪═══════╪═════════════╪═══╪══════════╪════════╪════════════════╪════════╡\n",
              "│ 0         ┆ 0            ┆ 0     ┆ 0           ┆ … ┆ 0        ┆ 0      ┆ 0              ┆ 0      │\n",
              "└───────────┴──────────────┴───────┴─────────────┴───┴──────────┴────────┴────────────────┴────────┘"
            ],
            "text/html": [
              "<div><style>\n",
              ".dataframe > thead > tr,\n",
              ".dataframe > tbody > tr {\n",
              "  text-align: right;\n",
              "  white-space: pre-wrap;\n",
              "}\n",
              "</style>\n",
              "<small>shape: (1, 9)</small><table border=\"1\" class=\"dataframe\"><thead><tr><th>DOCUMENTO</th><th>ORGANIZACION</th><th>FECHA</th><th>TIPOFACTURA</th><th>PRODUCTO</th><th>CANTIDAD</th><th>PRECIO</th><th>IMPORTEMONTRANSACCION</th><th>MONEDA</th></tr><tr><td>u32</td><td>u32</td><td>u32</td><td>u32</td><td>u32</td><td>u32</td><td>u32</td><td>u32</td><td>u32</td></tr></thead><tbody><tr><td>0</td><td>0</td><td>0</td><td>0</td><td>0</td><td>0</td><td>0</td><td>0</td><td>0</td></tr></tbody></table></div>"
            ]
          },
          "metadata": {}
        }
      ]
    },
    {
      "cell_type": "code",
      "source": [
        "type(df)"
      ],
      "metadata": {
        "colab": {
          "base_uri": "https://localhost:8080/",
          "height": 221
        },
        "id": "XRR0tTr4Qq9n",
        "outputId": "83e6bbcf-9c1e-495e-e122-9bfe70eda8c1"
      },
      "execution_count": 25,
      "outputs": [
        {
          "output_type": "execute_result",
          "data": {
            "text/plain": [
              "polars.dataframe.frame.DataFrame"
            ],
            "text/html": [
              "<div style=\"max-width:800px; border: 1px solid var(--colab-border-color);\"><style>\n",
              "      pre.function-repr-contents {\n",
              "        overflow-x: auto;\n",
              "        padding: 8px 12px;\n",
              "        max-height: 500px;\n",
              "      }\n",
              "\n",
              "      pre.function-repr-contents.function-repr-contents-collapsed {\n",
              "        cursor: pointer;\n",
              "        max-height: 100px;\n",
              "      }\n",
              "    </style>\n",
              "    <pre style=\"white-space: initial; background:\n",
              "         var(--colab-secondary-surface-color); padding: 8px 12px;\n",
              "         border-bottom: 1px solid var(--colab-border-color);\"><b>polars.dataframe.frame.DataFrame</b><br/>def __init__(data: FrameInitTypes | None=None, schema: SchemaDefinition | None=None, *, schema_overrides: SchemaDict | None=None, strict: bool=True, orient: Orientation | None=None, infer_schema_length: int | None=N_INFER_DEFAULT, nan_to_null: bool=False) -&gt; None</pre><pre class=\"function-repr-contents function-repr-contents-collapsed\" style=\"\"><a class=\"filepath\" style=\"display:none\" href=\"#\">/usr/local/lib/python3.10/dist-packages/polars/dataframe/frame.py</a>Two-dimensional data structure representing data as a table with rows and columns.\n",
              "\n",
              "Parameters\n",
              "----------\n",
              "data : dict, Sequence, ndarray, Series, or pandas.DataFrame\n",
              "    Two-dimensional data in various forms; dict input must contain Sequences,\n",
              "    Generators, or a `range`. Sequence may contain Series or other Sequences.\n",
              "schema : Sequence of str, (str,DataType) pairs, or a {str:DataType,} dict\n",
              "    The schema of the resulting DataFrame. The schema may be declared in several\n",
              "    ways:\n",
              "\n",
              "    * As a dict of {name:type} pairs; if type is None, it will be auto-inferred.\n",
              "    * As a list of column names; in this case types are automatically inferred.\n",
              "    * As a list of (name,type) pairs; this is equivalent to the dictionary form.\n",
              "\n",
              "    If you supply a list of column names that does not match the names in the\n",
              "    underlying data, the names given here will overwrite them. The number\n",
              "    of names given in the schema should match the underlying data dimensions.\n",
              "\n",
              "    If set to `None` (default), the schema is inferred from the data.\n",
              "schema_overrides : dict, default None\n",
              "    Support type specification or override of one or more columns; note that\n",
              "    any dtypes inferred from the schema param will be overridden.\n",
              "\n",
              "    The number of entries in the schema should match the underlying data\n",
              "    dimensions, unless a sequence of dictionaries is being passed, in which case\n",
              "    a *partial* schema can be declared to prevent specific fields from being loaded.\n",
              "strict : bool, default True\n",
              "    Throw an error if any `data` value does not exactly match the given or inferred\n",
              "    data type for that column. If set to `False`, values that do not match the data\n",
              "    type are cast to that data type or, if casting is not possible, set to null\n",
              "    instead.\n",
              "orient : {&#x27;col&#x27;, &#x27;row&#x27;}, default None\n",
              "    Whether to interpret two-dimensional data as columns or as rows. If None,\n",
              "    the orientation is inferred by matching the columns and data dimensions. If\n",
              "    this does not yield conclusive results, column orientation is used.\n",
              "infer_schema_length : int or None\n",
              "    The maximum number of rows to scan for schema inference. If set to `None`, the\n",
              "    full data may be scanned *(this can be slow)*. This parameter only applies if\n",
              "    the input data is a sequence or generator of rows; other input is read as-is.\n",
              "nan_to_null : bool, default False\n",
              "    If the data comes from one or more numpy arrays, can optionally convert input\n",
              "    data np.nan values to null instead. This is a no-op for all other input data.\n",
              "\n",
              "Notes\n",
              "-----\n",
              "Polars explicitly does not support subclassing of its core data types. See\n",
              "the following GitHub issue for possible workarounds:\n",
              "https://github.com/pola-rs/polars/issues/2846#issuecomment-1711799869\n",
              "\n",
              "Examples\n",
              "--------\n",
              "Constructing a DataFrame from a dictionary:\n",
              "\n",
              "&gt;&gt;&gt; data = {&quot;a&quot;: [1, 2], &quot;b&quot;: [3, 4]}\n",
              "&gt;&gt;&gt; df = pl.DataFrame(data)\n",
              "&gt;&gt;&gt; df\n",
              "shape: (2, 2)\n",
              "┌─────┬─────┐\n",
              "│ a   ┆ b   │\n",
              "│ --- ┆ --- │\n",
              "│ i64 ┆ i64 │\n",
              "╞═════╪═════╡\n",
              "│ 1   ┆ 3   │\n",
              "│ 2   ┆ 4   │\n",
              "└─────┴─────┘\n",
              "\n",
              "Notice that the dtypes are automatically inferred as polars Int64:\n",
              "\n",
              "&gt;&gt;&gt; df.dtypes\n",
              "[Int64, Int64]\n",
              "\n",
              "To specify a more detailed/specific frame schema you can supply the `schema`\n",
              "parameter with a dictionary of (name,dtype) pairs...\n",
              "\n",
              "&gt;&gt;&gt; data = {&quot;col1&quot;: [0, 2], &quot;col2&quot;: [3, 7]}\n",
              "&gt;&gt;&gt; df2 = pl.DataFrame(data, schema={&quot;col1&quot;: pl.Float32, &quot;col2&quot;: pl.Int64})\n",
              "&gt;&gt;&gt; df2\n",
              "shape: (2, 2)\n",
              "┌──────┬──────┐\n",
              "│ col1 ┆ col2 │\n",
              "│ ---  ┆ ---  │\n",
              "│ f32  ┆ i64  │\n",
              "╞══════╪══════╡\n",
              "│ 0.0  ┆ 3    │\n",
              "│ 2.0  ┆ 7    │\n",
              "└──────┴──────┘\n",
              "\n",
              "...a sequence of (name,dtype) pairs...\n",
              "\n",
              "&gt;&gt;&gt; data = {&quot;col1&quot;: [1, 2], &quot;col2&quot;: [3, 4]}\n",
              "&gt;&gt;&gt; df3 = pl.DataFrame(data, schema=[(&quot;col1&quot;, pl.Float32), (&quot;col2&quot;, pl.Int64)])\n",
              "&gt;&gt;&gt; df3\n",
              "shape: (2, 2)\n",
              "┌──────┬──────┐\n",
              "│ col1 ┆ col2 │\n",
              "│ ---  ┆ ---  │\n",
              "│ f32  ┆ i64  │\n",
              "╞══════╪══════╡\n",
              "│ 1.0  ┆ 3    │\n",
              "│ 2.0  ┆ 4    │\n",
              "└──────┴──────┘\n",
              "\n",
              "...or a list of typed Series.\n",
              "\n",
              "&gt;&gt;&gt; data = [\n",
              "...     pl.Series(&quot;col1&quot;, [1, 2], dtype=pl.Float32),\n",
              "...     pl.Series(&quot;col2&quot;, [3, 4], dtype=pl.Int64),\n",
              "... ]\n",
              "&gt;&gt;&gt; df4 = pl.DataFrame(data)\n",
              "&gt;&gt;&gt; df4\n",
              "shape: (2, 2)\n",
              "┌──────┬──────┐\n",
              "│ col1 ┆ col2 │\n",
              "│ ---  ┆ ---  │\n",
              "│ f32  ┆ i64  │\n",
              "╞══════╪══════╡\n",
              "│ 1.0  ┆ 3    │\n",
              "│ 2.0  ┆ 4    │\n",
              "└──────┴──────┘\n",
              "\n",
              "Constructing a DataFrame from a numpy ndarray, specifying column names:\n",
              "\n",
              "&gt;&gt;&gt; import numpy as np\n",
              "&gt;&gt;&gt; data = np.array([(1, 2), (3, 4)], dtype=np.int64)\n",
              "&gt;&gt;&gt; df5 = pl.DataFrame(data, schema=[&quot;a&quot;, &quot;b&quot;], orient=&quot;col&quot;)\n",
              "&gt;&gt;&gt; df5\n",
              "shape: (2, 2)\n",
              "┌─────┬─────┐\n",
              "│ a   ┆ b   │\n",
              "│ --- ┆ --- │\n",
              "│ i64 ┆ i64 │\n",
              "╞═════╪═════╡\n",
              "│ 1   ┆ 3   │\n",
              "│ 2   ┆ 4   │\n",
              "└─────┴─────┘\n",
              "\n",
              "Constructing a DataFrame from a list of lists, row orientation specified:\n",
              "\n",
              "&gt;&gt;&gt; data = [[1, 2, 3], [4, 5, 6]]\n",
              "&gt;&gt;&gt; df6 = pl.DataFrame(data, schema=[&quot;a&quot;, &quot;b&quot;, &quot;c&quot;], orient=&quot;row&quot;)\n",
              "&gt;&gt;&gt; df6\n",
              "shape: (2, 3)\n",
              "┌─────┬─────┬─────┐\n",
              "│ a   ┆ b   ┆ c   │\n",
              "│ --- ┆ --- ┆ --- │\n",
              "│ i64 ┆ i64 ┆ i64 │\n",
              "╞═════╪═════╪═════╡\n",
              "│ 1   ┆ 2   ┆ 3   │\n",
              "│ 4   ┆ 5   ┆ 6   │\n",
              "└─────┴─────┴─────┘</pre>\n",
              "      <script>\n",
              "      if (google.colab.kernel.accessAllowed && google.colab.files && google.colab.files.view) {\n",
              "        for (const element of document.querySelectorAll('.filepath')) {\n",
              "          element.style.display = 'block'\n",
              "          element.onclick = (event) => {\n",
              "            event.preventDefault();\n",
              "            event.stopPropagation();\n",
              "            google.colab.files.view(element.textContent, 190);\n",
              "          };\n",
              "        }\n",
              "      }\n",
              "      for (const element of document.querySelectorAll('.function-repr-contents')) {\n",
              "        element.onclick = (event) => {\n",
              "          event.preventDefault();\n",
              "          event.stopPropagation();\n",
              "          element.classList.toggle('function-repr-contents-collapsed');\n",
              "        };\n",
              "      }\n",
              "      </script>\n",
              "      </div>"
            ]
          },
          "metadata": {},
          "execution_count": 25
        }
      ]
    },
    {
      "cell_type": "code",
      "source": [
        "df.head(3)"
      ],
      "metadata": {
        "colab": {
          "base_uri": "https://localhost:8080/",
          "height": 192
        },
        "id": "m0_LF9ZMQmUI",
        "outputId": "06416c1d-f79b-4d90-98cb-73c7d44fc6a4"
      },
      "execution_count": 26,
      "outputs": [
        {
          "output_type": "execute_result",
          "data": {
            "text/plain": [
              "shape: (3, 9)\n",
              "┌────────────┬───────────┬──────────┬───────────┬───┬──────────┬───────────┬───────────┬───────────┐\n",
              "│ DOCUMENTO  ┆ ORGANIZAC ┆ FECHA    ┆ TIPOFACTU ┆ … ┆ CANTIDAD ┆ PRECIO    ┆ IMPORTEMO ┆ MONEDA    │\n",
              "│ ---        ┆ ION       ┆ ---      ┆ RA        ┆   ┆ ---      ┆ ---       ┆ NTRANSACC ┆ ---       │\n",
              "│ str        ┆ ---       ┆ str      ┆ ---       ┆   ┆ f64      ┆ f64       ┆ ION       ┆ str       │\n",
              "│            ┆ str       ┆          ┆ str       ┆   ┆          ┆           ┆ ---       ┆           │\n",
              "│            ┆           ┆          ┆           ┆   ┆          ┆           ┆ f64       ┆           │\n",
              "╞════════════╪═══════════╪══════════╪═══════════╪═══╪══════════╪═══════════╪═══════════╪═══════════╡\n",
              "│ B-0001-000 ┆ Etigand   ┆ 27/12/19 ┆ Factura   ┆ … ┆ 50.0     ┆ 5785.124  ┆ 289256.2  ┆ Pesos Arg │\n",
              "│ 00102      ┆ S.A.      ┆          ┆           ┆   ┆          ┆           ┆           ┆ entinos   │\n",
              "│ B-0001-000 ┆ Javier    ┆ 21/12/19 ┆ Factura   ┆ … ┆ 1.0      ┆ 99586.776 ┆ 99586.78  ┆ Pesos Arg │\n",
              "│ 00101      ┆ Moroni    ┆          ┆           ┆   ┆          ┆ 9         ┆           ┆ entinos   │\n",
              "│ A-0001-000 ┆ Amazon    ┆ 10/12/19 ┆ Factura   ┆ … ┆ 30.0     ┆ 1990.0    ┆ 59700.0   ┆ Pesos Arg │\n",
              "│ 00231      ┆ Group     ┆          ┆           ┆   ┆          ┆           ┆           ┆ entinos   │\n",
              "└────────────┴───────────┴──────────┴───────────┴───┴──────────┴───────────┴───────────┴───────────┘"
            ],
            "text/html": [
              "<div><style>\n",
              ".dataframe > thead > tr,\n",
              ".dataframe > tbody > tr {\n",
              "  text-align: right;\n",
              "  white-space: pre-wrap;\n",
              "}\n",
              "</style>\n",
              "<small>shape: (3, 9)</small><table border=\"1\" class=\"dataframe\"><thead><tr><th>DOCUMENTO</th><th>ORGANIZACION</th><th>FECHA</th><th>TIPOFACTURA</th><th>PRODUCTO</th><th>CANTIDAD</th><th>PRECIO</th><th>IMPORTEMONTRANSACCION</th><th>MONEDA</th></tr><tr><td>str</td><td>str</td><td>str</td><td>str</td><td>str</td><td>f64</td><td>f64</td><td>f64</td><td>str</td></tr></thead><tbody><tr><td>&quot;B-0001-00000102&quot;</td><td>&quot;Etigand S.A.&quot;</td><td>&quot;27/12/19&quot;</td><td>&quot;Factura&quot;</td><td>&quot;Consultoria Web&quot;</td><td>50.0</td><td>5785.124</td><td>289256.2</td><td>&quot;Pesos Argentinos&quot;</td></tr><tr><td>&quot;B-0001-00000101&quot;</td><td>&quot;Javier Moroni&quot;</td><td>&quot;21/12/19&quot;</td><td>&quot;Factura&quot;</td><td>&quot;Honorarios&quot;</td><td>1.0</td><td>99586.7769</td><td>99586.78</td><td>&quot;Pesos Argentinos&quot;</td></tr><tr><td>&quot;A-0001-00000231&quot;</td><td>&quot;Amazon Group&quot;</td><td>&quot;10/12/19&quot;</td><td>&quot;Factura&quot;</td><td>&quot;Parlantes para PC&quot;</td><td>30.0</td><td>1990.0</td><td>59700.0</td><td>&quot;Pesos Argentinos&quot;</td></tr></tbody></table></div>"
            ]
          },
          "metadata": {},
          "execution_count": 26
        }
      ]
    },
    {
      "cell_type": "code",
      "source": [
        "df.schema"
      ],
      "metadata": {
        "colab": {
          "base_uri": "https://localhost:8080/"
        },
        "id": "Ry2XczDPQ20u",
        "outputId": "358c01ca-f8bf-47c6-b51a-c89d2c5a9f09"
      },
      "execution_count": 27,
      "outputs": [
        {
          "output_type": "execute_result",
          "data": {
            "text/plain": [
              "Schema([('DOCUMENTO', String),\n",
              "        ('ORGANIZACION', String),\n",
              "        ('FECHA', String),\n",
              "        ('TIPOFACTURA', String),\n",
              "        ('PRODUCTO', String),\n",
              "        ('CANTIDAD', Float64),\n",
              "        ('PRECIO', Float64),\n",
              "        ('IMPORTEMONTRANSACCION', Float64),\n",
              "        ('MONEDA', String)])"
            ]
          },
          "metadata": {},
          "execution_count": 27
        }
      ]
    },
    {
      "cell_type": "markdown",
      "source": [
        "# *Polars expressions*\n",
        "Las Expressions son funciones/métodos utilizados a la hora de realizar operaciones con datos en Polars (e.g., selección, creación y manipulación de columnas, aplicación de filtros, entre otros). Tienen como entrada una serie y como salida otra serie, y són, por definición, un mapeo entre séries, lo que nos permite encadenarlas. Además, Polars es capaz de automatizar la ejecución de las expressions en paralelo siempre que sea posible (cuando se trabaja con múltiples columnas, por ejemplo) lo que hace de las Expressions algo muy potente."
      ],
      "metadata": {
        "id": "O6dvxhm8Q6-3"
      }
    },
    {
      "cell_type": "markdown",
      "source": [
        "# Selección de columnas\n",
        "Vamos ahora ver un ejemplo de cómo seleccionar columna(s) utilizando a Polars Expressions:"
      ],
      "metadata": {
        "id": "3POLK6hCRFrv"
      }
    },
    {
      "cell_type": "code",
      "source": [
        "# .select(): Método utilizado para seleccionar una o más columnas\n",
        "# ==============================================================================\n",
        "df.select(pl.col(\"ORGANIZACION\"))"
      ],
      "metadata": {
        "colab": {
          "base_uri": "https://localhost:8080/",
          "height": 443
        },
        "id": "4ah9rm9ORIZX",
        "outputId": "4cf5444a-0ba4-4b3a-d35c-27d2e747f4a5"
      },
      "execution_count": 28,
      "outputs": [
        {
          "output_type": "execute_result",
          "data": {
            "text/plain": [
              "shape: (159, 1)\n",
              "┌───────────────────┐\n",
              "│ ORGANIZACION      │\n",
              "│ ---               │\n",
              "│ str               │\n",
              "╞═══════════════════╡\n",
              "│ Etigand S.A.      │\n",
              "│ Javier Moroni     │\n",
              "│ Amazon Group      │\n",
              "│ Amazon Group      │\n",
              "│ Manganello S.R.L  │\n",
              "│ …                 │\n",
              "│ Hernandez S.A.    │\n",
              "│ Etigand S.A.      │\n",
              "│ Etigand S.A.      │\n",
              "│ Ferrari Hnos S.A. │\n",
              "│ Ferrari Hnos S.A. │\n",
              "└───────────────────┘"
            ],
            "text/html": [
              "<div><style>\n",
              ".dataframe > thead > tr,\n",
              ".dataframe > tbody > tr {\n",
              "  text-align: right;\n",
              "  white-space: pre-wrap;\n",
              "}\n",
              "</style>\n",
              "<small>shape: (159, 1)</small><table border=\"1\" class=\"dataframe\"><thead><tr><th>ORGANIZACION</th></tr><tr><td>str</td></tr></thead><tbody><tr><td>&quot;Etigand S.A.&quot;</td></tr><tr><td>&quot;Javier Moroni&quot;</td></tr><tr><td>&quot;Amazon Group&quot;</td></tr><tr><td>&quot;Amazon Group&quot;</td></tr><tr><td>&quot;Manganello S.R.L&quot;</td></tr><tr><td>&hellip;</td></tr><tr><td>&quot;Hernandez S.A.&quot;</td></tr><tr><td>&quot;Etigand S.A.&quot;</td></tr><tr><td>&quot;Etigand S.A.&quot;</td></tr><tr><td>&quot;Ferrari Hnos S.A.&quot;</td></tr><tr><td>&quot;Ferrari Hnos S.A.&quot;</td></tr></tbody></table></div>"
            ]
          },
          "metadata": {},
          "execution_count": 28
        }
      ]
    },
    {
      "cell_type": "code",
      "source": [
        "type(df.select(pl.col(\"ORGANIZACION\")))"
      ],
      "metadata": {
        "colab": {
          "base_uri": "https://localhost:8080/",
          "height": 221
        },
        "id": "D9OzcUyQRSAn",
        "outputId": "9b597b51-6728-4067-c2b2-c5f347be40c5"
      },
      "execution_count": 31,
      "outputs": [
        {
          "output_type": "execute_result",
          "data": {
            "text/plain": [
              "polars.dataframe.frame.DataFrame"
            ],
            "text/html": [
              "<div style=\"max-width:800px; border: 1px solid var(--colab-border-color);\"><style>\n",
              "      pre.function-repr-contents {\n",
              "        overflow-x: auto;\n",
              "        padding: 8px 12px;\n",
              "        max-height: 500px;\n",
              "      }\n",
              "\n",
              "      pre.function-repr-contents.function-repr-contents-collapsed {\n",
              "        cursor: pointer;\n",
              "        max-height: 100px;\n",
              "      }\n",
              "    </style>\n",
              "    <pre style=\"white-space: initial; background:\n",
              "         var(--colab-secondary-surface-color); padding: 8px 12px;\n",
              "         border-bottom: 1px solid var(--colab-border-color);\"><b>polars.dataframe.frame.DataFrame</b><br/>def __init__(data: FrameInitTypes | None=None, schema: SchemaDefinition | None=None, *, schema_overrides: SchemaDict | None=None, strict: bool=True, orient: Orientation | None=None, infer_schema_length: int | None=N_INFER_DEFAULT, nan_to_null: bool=False) -&gt; None</pre><pre class=\"function-repr-contents function-repr-contents-collapsed\" style=\"\"><a class=\"filepath\" style=\"display:none\" href=\"#\">/usr/local/lib/python3.10/dist-packages/polars/dataframe/frame.py</a>Two-dimensional data structure representing data as a table with rows and columns.\n",
              "\n",
              "Parameters\n",
              "----------\n",
              "data : dict, Sequence, ndarray, Series, or pandas.DataFrame\n",
              "    Two-dimensional data in various forms; dict input must contain Sequences,\n",
              "    Generators, or a `range`. Sequence may contain Series or other Sequences.\n",
              "schema : Sequence of str, (str,DataType) pairs, or a {str:DataType,} dict\n",
              "    The schema of the resulting DataFrame. The schema may be declared in several\n",
              "    ways:\n",
              "\n",
              "    * As a dict of {name:type} pairs; if type is None, it will be auto-inferred.\n",
              "    * As a list of column names; in this case types are automatically inferred.\n",
              "    * As a list of (name,type) pairs; this is equivalent to the dictionary form.\n",
              "\n",
              "    If you supply a list of column names that does not match the names in the\n",
              "    underlying data, the names given here will overwrite them. The number\n",
              "    of names given in the schema should match the underlying data dimensions.\n",
              "\n",
              "    If set to `None` (default), the schema is inferred from the data.\n",
              "schema_overrides : dict, default None\n",
              "    Support type specification or override of one or more columns; note that\n",
              "    any dtypes inferred from the schema param will be overridden.\n",
              "\n",
              "    The number of entries in the schema should match the underlying data\n",
              "    dimensions, unless a sequence of dictionaries is being passed, in which case\n",
              "    a *partial* schema can be declared to prevent specific fields from being loaded.\n",
              "strict : bool, default True\n",
              "    Throw an error if any `data` value does not exactly match the given or inferred\n",
              "    data type for that column. If set to `False`, values that do not match the data\n",
              "    type are cast to that data type or, if casting is not possible, set to null\n",
              "    instead.\n",
              "orient : {&#x27;col&#x27;, &#x27;row&#x27;}, default None\n",
              "    Whether to interpret two-dimensional data as columns or as rows. If None,\n",
              "    the orientation is inferred by matching the columns and data dimensions. If\n",
              "    this does not yield conclusive results, column orientation is used.\n",
              "infer_schema_length : int or None\n",
              "    The maximum number of rows to scan for schema inference. If set to `None`, the\n",
              "    full data may be scanned *(this can be slow)*. This parameter only applies if\n",
              "    the input data is a sequence or generator of rows; other input is read as-is.\n",
              "nan_to_null : bool, default False\n",
              "    If the data comes from one or more numpy arrays, can optionally convert input\n",
              "    data np.nan values to null instead. This is a no-op for all other input data.\n",
              "\n",
              "Notes\n",
              "-----\n",
              "Polars explicitly does not support subclassing of its core data types. See\n",
              "the following GitHub issue for possible workarounds:\n",
              "https://github.com/pola-rs/polars/issues/2846#issuecomment-1711799869\n",
              "\n",
              "Examples\n",
              "--------\n",
              "Constructing a DataFrame from a dictionary:\n",
              "\n",
              "&gt;&gt;&gt; data = {&quot;a&quot;: [1, 2], &quot;b&quot;: [3, 4]}\n",
              "&gt;&gt;&gt; df = pl.DataFrame(data)\n",
              "&gt;&gt;&gt; df\n",
              "shape: (2, 2)\n",
              "┌─────┬─────┐\n",
              "│ a   ┆ b   │\n",
              "│ --- ┆ --- │\n",
              "│ i64 ┆ i64 │\n",
              "╞═════╪═════╡\n",
              "│ 1   ┆ 3   │\n",
              "│ 2   ┆ 4   │\n",
              "└─────┴─────┘\n",
              "\n",
              "Notice that the dtypes are automatically inferred as polars Int64:\n",
              "\n",
              "&gt;&gt;&gt; df.dtypes\n",
              "[Int64, Int64]\n",
              "\n",
              "To specify a more detailed/specific frame schema you can supply the `schema`\n",
              "parameter with a dictionary of (name,dtype) pairs...\n",
              "\n",
              "&gt;&gt;&gt; data = {&quot;col1&quot;: [0, 2], &quot;col2&quot;: [3, 7]}\n",
              "&gt;&gt;&gt; df2 = pl.DataFrame(data, schema={&quot;col1&quot;: pl.Float32, &quot;col2&quot;: pl.Int64})\n",
              "&gt;&gt;&gt; df2\n",
              "shape: (2, 2)\n",
              "┌──────┬──────┐\n",
              "│ col1 ┆ col2 │\n",
              "│ ---  ┆ ---  │\n",
              "│ f32  ┆ i64  │\n",
              "╞══════╪══════╡\n",
              "│ 0.0  ┆ 3    │\n",
              "│ 2.0  ┆ 7    │\n",
              "└──────┴──────┘\n",
              "\n",
              "...a sequence of (name,dtype) pairs...\n",
              "\n",
              "&gt;&gt;&gt; data = {&quot;col1&quot;: [1, 2], &quot;col2&quot;: [3, 4]}\n",
              "&gt;&gt;&gt; df3 = pl.DataFrame(data, schema=[(&quot;col1&quot;, pl.Float32), (&quot;col2&quot;, pl.Int64)])\n",
              "&gt;&gt;&gt; df3\n",
              "shape: (2, 2)\n",
              "┌──────┬──────┐\n",
              "│ col1 ┆ col2 │\n",
              "│ ---  ┆ ---  │\n",
              "│ f32  ┆ i64  │\n",
              "╞══════╪══════╡\n",
              "│ 1.0  ┆ 3    │\n",
              "│ 2.0  ┆ 4    │\n",
              "└──────┴──────┘\n",
              "\n",
              "...or a list of typed Series.\n",
              "\n",
              "&gt;&gt;&gt; data = [\n",
              "...     pl.Series(&quot;col1&quot;, [1, 2], dtype=pl.Float32),\n",
              "...     pl.Series(&quot;col2&quot;, [3, 4], dtype=pl.Int64),\n",
              "... ]\n",
              "&gt;&gt;&gt; df4 = pl.DataFrame(data)\n",
              "&gt;&gt;&gt; df4\n",
              "shape: (2, 2)\n",
              "┌──────┬──────┐\n",
              "│ col1 ┆ col2 │\n",
              "│ ---  ┆ ---  │\n",
              "│ f32  ┆ i64  │\n",
              "╞══════╪══════╡\n",
              "│ 1.0  ┆ 3    │\n",
              "│ 2.0  ┆ 4    │\n",
              "└──────┴──────┘\n",
              "\n",
              "Constructing a DataFrame from a numpy ndarray, specifying column names:\n",
              "\n",
              "&gt;&gt;&gt; import numpy as np\n",
              "&gt;&gt;&gt; data = np.array([(1, 2), (3, 4)], dtype=np.int64)\n",
              "&gt;&gt;&gt; df5 = pl.DataFrame(data, schema=[&quot;a&quot;, &quot;b&quot;], orient=&quot;col&quot;)\n",
              "&gt;&gt;&gt; df5\n",
              "shape: (2, 2)\n",
              "┌─────┬─────┐\n",
              "│ a   ┆ b   │\n",
              "│ --- ┆ --- │\n",
              "│ i64 ┆ i64 │\n",
              "╞═════╪═════╡\n",
              "│ 1   ┆ 3   │\n",
              "│ 2   ┆ 4   │\n",
              "└─────┴─────┘\n",
              "\n",
              "Constructing a DataFrame from a list of lists, row orientation specified:\n",
              "\n",
              "&gt;&gt;&gt; data = [[1, 2, 3], [4, 5, 6]]\n",
              "&gt;&gt;&gt; df6 = pl.DataFrame(data, schema=[&quot;a&quot;, &quot;b&quot;, &quot;c&quot;], orient=&quot;row&quot;)\n",
              "&gt;&gt;&gt; df6\n",
              "shape: (2, 3)\n",
              "┌─────┬─────┬─────┐\n",
              "│ a   ┆ b   ┆ c   │\n",
              "│ --- ┆ --- ┆ --- │\n",
              "│ i64 ┆ i64 ┆ i64 │\n",
              "╞═════╪═════╪═════╡\n",
              "│ 1   ┆ 2   ┆ 3   │\n",
              "│ 4   ┆ 5   ┆ 6   │\n",
              "└─────┴─────┴─────┘</pre>\n",
              "      <script>\n",
              "      if (google.colab.kernel.accessAllowed && google.colab.files && google.colab.files.view) {\n",
              "        for (const element of document.querySelectorAll('.filepath')) {\n",
              "          element.style.display = 'block'\n",
              "          element.onclick = (event) => {\n",
              "            event.preventDefault();\n",
              "            event.stopPropagation();\n",
              "            google.colab.files.view(element.textContent, 190);\n",
              "          };\n",
              "        }\n",
              "      }\n",
              "      for (const element of document.querySelectorAll('.function-repr-contents')) {\n",
              "        element.onclick = (event) => {\n",
              "          event.preventDefault();\n",
              "          event.stopPropagation();\n",
              "          element.classList.toggle('function-repr-contents-collapsed');\n",
              "        };\n",
              "      }\n",
              "      </script>\n",
              "      </div>"
            ]
          },
          "metadata": {},
          "execution_count": 31
        }
      ]
    },
    {
      "cell_type": "markdown",
      "source": [
        "`Cómo podemos observar en este ejemplo, hemos utilizado el método .select() para seleccionar una columna específica de nuestro DataFrame (\"REGIONAL_OFFICE_NAME\"). Por defecto, este método nos retorna un otro DataFrame (polars.internals.dataframe.frame.DataFrame)`\n",
        "\n",
        "Para seleccionar columnas podemos pasar una lista con las columnas deseadas:"
      ],
      "metadata": {
        "id": "NjktPdjDRglo"
      }
    },
    {
      "cell_type": "code",
      "source": [
        "df.select(\n",
        "    [\n",
        "        pl.col(\"DOCUMENTO\"),\n",
        "        pl.col(\"ORGANIZACION\"),\n",
        "        pl.sum(\"IMPORTEMONTRANSACCION\").alias(\"suma_importe\"),\n",
        "        pl.mean(\"IMPORTEMONTRANSACCION\").alias(\"media_importe\"),\n",
        "    ]\n",
        ")\n",
        "\n"
      ],
      "metadata": {
        "colab": {
          "base_uri": "https://localhost:8080/",
          "height": 443
        },
        "id": "KIIJdYuORkOY",
        "outputId": "6e7681fc-10fb-4707-bebe-f3958509bfea"
      },
      "execution_count": 36,
      "outputs": [
        {
          "output_type": "execute_result",
          "data": {
            "text/plain": [
              "shape: (159, 4)\n",
              "┌─────────────────┬───────────────────┬──────────────┬───────────────┐\n",
              "│ DOCUMENTO       ┆ ORGANIZACION      ┆ suma_importe ┆ media_importe │\n",
              "│ ---             ┆ ---               ┆ ---          ┆ ---           │\n",
              "│ str             ┆ str               ┆ f64          ┆ f64           │\n",
              "╞═════════════════╪═══════════════════╪══════════════╪═══════════════╡\n",
              "│ B-0001-00000102 ┆ Etigand S.A.      ┆ 9.2867e6     ┆ 58406.882767  │\n",
              "│ B-0001-00000101 ┆ Javier Moroni     ┆ 9.2867e6     ┆ 58406.882767  │\n",
              "│ A-0001-00000231 ┆ Amazon Group      ┆ 9.2867e6     ┆ 58406.882767  │\n",
              "│ A-0001-00000230 ┆ Amazon Group      ┆ 9.2867e6     ┆ 58406.882767  │\n",
              "│ A-0001-00000229 ┆ Manganello S.R.L  ┆ 9.2867e6     ┆ 58406.882767  │\n",
              "│ …               ┆ …                 ┆ …            ┆ …             │\n",
              "│ A-0001-00000128 ┆ Hernandez S.A.    ┆ 9.2867e6     ┆ 58406.882767  │\n",
              "│ B-0001-00000069 ┆ Etigand S.A.      ┆ 9.2867e6     ┆ 58406.882767  │\n",
              "│ B-0001-00000069 ┆ Etigand S.A.      ┆ 9.2867e6     ┆ 58406.882767  │\n",
              "│ B-0001-00000068 ┆ Ferrari Hnos S.A. ┆ 9.2867e6     ┆ 58406.882767  │\n",
              "│ B-0001-00000068 ┆ Ferrari Hnos S.A. ┆ 9.2867e6     ┆ 58406.882767  │\n",
              "└─────────────────┴───────────────────┴──────────────┴───────────────┘"
            ],
            "text/html": [
              "<div><style>\n",
              ".dataframe > thead > tr,\n",
              ".dataframe > tbody > tr {\n",
              "  text-align: right;\n",
              "  white-space: pre-wrap;\n",
              "}\n",
              "</style>\n",
              "<small>shape: (159, 4)</small><table border=\"1\" class=\"dataframe\"><thead><tr><th>DOCUMENTO</th><th>ORGANIZACION</th><th>suma_importe</th><th>media_importe</th></tr><tr><td>str</td><td>str</td><td>f64</td><td>f64</td></tr></thead><tbody><tr><td>&quot;B-0001-00000102&quot;</td><td>&quot;Etigand S.A.&quot;</td><td>9.2867e6</td><td>58406.882767</td></tr><tr><td>&quot;B-0001-00000101&quot;</td><td>&quot;Javier Moroni&quot;</td><td>9.2867e6</td><td>58406.882767</td></tr><tr><td>&quot;A-0001-00000231&quot;</td><td>&quot;Amazon Group&quot;</td><td>9.2867e6</td><td>58406.882767</td></tr><tr><td>&quot;A-0001-00000230&quot;</td><td>&quot;Amazon Group&quot;</td><td>9.2867e6</td><td>58406.882767</td></tr><tr><td>&quot;A-0001-00000229&quot;</td><td>&quot;Manganello S.R.L&quot;</td><td>9.2867e6</td><td>58406.882767</td></tr><tr><td>&hellip;</td><td>&hellip;</td><td>&hellip;</td><td>&hellip;</td></tr><tr><td>&quot;A-0001-00000128&quot;</td><td>&quot;Hernandez S.A.&quot;</td><td>9.2867e6</td><td>58406.882767</td></tr><tr><td>&quot;B-0001-00000069&quot;</td><td>&quot;Etigand S.A.&quot;</td><td>9.2867e6</td><td>58406.882767</td></tr><tr><td>&quot;B-0001-00000069&quot;</td><td>&quot;Etigand S.A.&quot;</td><td>9.2867e6</td><td>58406.882767</td></tr><tr><td>&quot;B-0001-00000068&quot;</td><td>&quot;Ferrari Hnos S.A.&quot;</td><td>9.2867e6</td><td>58406.882767</td></tr><tr><td>&quot;B-0001-00000068&quot;</td><td>&quot;Ferrari Hnos S.A.&quot;</td><td>9.2867e6</td><td>58406.882767</td></tr></tbody></table></div>"
            ]
          },
          "metadata": {},
          "execution_count": 36
        }
      ]
    },
    {
      "cell_type": "markdown",
      "source": [
        "`Para la selección de columnas, también se puede pasar un string o una lista de strings directamente al método .select() (ejemplo abajo). Sin embargo, en general, la utilización de la expression pl.col() para seleccionar columnas es más indicada ya que tiene la ventaja de permitir encadenar y paralelizar la ejecución de otras tareas.`"
      ],
      "metadata": {
        "id": "hejG5JaISjUg"
      }
    },
    {
      "cell_type": "code",
      "source": [
        "# Selección de una única columna\n",
        "# ==============================================================================\n",
        "display(df.select(\"ORGANIZACION\").head())\n",
        "\n"
      ],
      "metadata": {
        "colab": {
          "base_uri": "https://localhost:8080/",
          "height": 255
        },
        "id": "rLxE6qPrSpFx",
        "outputId": "d4249baf-5163-4c13-da99-d487db17aeef"
      },
      "execution_count": 40,
      "outputs": [
        {
          "output_type": "display_data",
          "data": {
            "text/plain": [
              "shape: (5, 1)\n",
              "┌──────────────────┐\n",
              "│ ORGANIZACION     │\n",
              "│ ---              │\n",
              "│ str              │\n",
              "╞══════════════════╡\n",
              "│ Etigand S.A.     │\n",
              "│ Javier Moroni    │\n",
              "│ Amazon Group     │\n",
              "│ Amazon Group     │\n",
              "│ Manganello S.R.L │\n",
              "└──────────────────┘"
            ],
            "text/html": [
              "<div><style>\n",
              ".dataframe > thead > tr,\n",
              ".dataframe > tbody > tr {\n",
              "  text-align: right;\n",
              "  white-space: pre-wrap;\n",
              "}\n",
              "</style>\n",
              "<small>shape: (5, 1)</small><table border=\"1\" class=\"dataframe\"><thead><tr><th>ORGANIZACION</th></tr><tr><td>str</td></tr></thead><tbody><tr><td>&quot;Etigand S.A.&quot;</td></tr><tr><td>&quot;Javier Moroni&quot;</td></tr><tr><td>&quot;Amazon Group&quot;</td></tr><tr><td>&quot;Amazon Group&quot;</td></tr><tr><td>&quot;Manganello S.R.L&quot;</td></tr></tbody></table></div>"
            ]
          },
          "metadata": {}
        }
      ]
    },
    {
      "cell_type": "code",
      "source": [
        "\n",
        "# Selección de múltiples columnas\n",
        "# ==============================================================================\n",
        "display(df.select([\"ORGANIZACION\",\"DOCUMENTO\"]).head())"
      ],
      "metadata": {
        "colab": {
          "base_uri": "https://localhost:8080/",
          "height": 255
        },
        "id": "I8D38d0eS2lH",
        "outputId": "7acfdbb1-63a8-45a2-c3c1-072765b69213"
      },
      "execution_count": 39,
      "outputs": [
        {
          "output_type": "display_data",
          "data": {
            "text/plain": [
              "shape: (5, 2)\n",
              "┌──────────────────┬─────────────────┐\n",
              "│ ORGANIZACION     ┆ DOCUMENTO       │\n",
              "│ ---              ┆ ---             │\n",
              "│ str              ┆ str             │\n",
              "╞══════════════════╪═════════════════╡\n",
              "│ Etigand S.A.     ┆ B-0001-00000102 │\n",
              "│ Javier Moroni    ┆ B-0001-00000101 │\n",
              "│ Amazon Group     ┆ A-0001-00000231 │\n",
              "│ Amazon Group     ┆ A-0001-00000230 │\n",
              "│ Manganello S.R.L ┆ A-0001-00000229 │\n",
              "└──────────────────┴─────────────────┘"
            ],
            "text/html": [
              "<div><style>\n",
              ".dataframe > thead > tr,\n",
              ".dataframe > tbody > tr {\n",
              "  text-align: right;\n",
              "  white-space: pre-wrap;\n",
              "}\n",
              "</style>\n",
              "<small>shape: (5, 2)</small><table border=\"1\" class=\"dataframe\"><thead><tr><th>ORGANIZACION</th><th>DOCUMENTO</th></tr><tr><td>str</td><td>str</td></tr></thead><tbody><tr><td>&quot;Etigand S.A.&quot;</td><td>&quot;B-0001-00000102&quot;</td></tr><tr><td>&quot;Javier Moroni&quot;</td><td>&quot;B-0001-00000101&quot;</td></tr><tr><td>&quot;Amazon Group&quot;</td><td>&quot;A-0001-00000231&quot;</td></tr><tr><td>&quot;Amazon Group&quot;</td><td>&quot;A-0001-00000230&quot;</td></tr><tr><td>&quot;Manganello S.R.L&quot;</td><td>&quot;A-0001-00000229&quot;</td></tr></tbody></table></div>"
            ]
          },
          "metadata": {}
        }
      ]
    },
    {
      "cell_type": "markdown",
      "source": [
        "# **Creando una secuencia de tareas**\n",
        "En esta sección vamos a entender de manera muy sencilla cómo podemos crear una secuencia de pasos para manipular nuestros datos.\n",
        "\n",
        "Estos serán los pasos que vamos a implementar:\n",
        "\n",
        "Seleccionar y renombrar columnas\n",
        "\n",
        "Crear una nueva columna\n",
        "\n",
        "Aplicar un filtro a una determinada columna\n",
        "\n",
        "Realizar una ordenación"
      ],
      "metadata": {
        "id": "ADoANoXYS_C2"
      }
    },
    {
      "cell_type": "code",
      "source": [
        "df.head(3)"
      ],
      "metadata": {
        "colab": {
          "base_uri": "https://localhost:8080/",
          "height": 192
        },
        "id": "bGURWa-VTGdZ",
        "outputId": "54ea5c03-0a73-4e9b-a1e0-a1d26ded7569"
      },
      "execution_count": 41,
      "outputs": [
        {
          "output_type": "execute_result",
          "data": {
            "text/plain": [
              "shape: (3, 9)\n",
              "┌────────────┬───────────┬──────────┬───────────┬───┬──────────┬───────────┬───────────┬───────────┐\n",
              "│ DOCUMENTO  ┆ ORGANIZAC ┆ FECHA    ┆ TIPOFACTU ┆ … ┆ CANTIDAD ┆ PRECIO    ┆ IMPORTEMO ┆ MONEDA    │\n",
              "│ ---        ┆ ION       ┆ ---      ┆ RA        ┆   ┆ ---      ┆ ---       ┆ NTRANSACC ┆ ---       │\n",
              "│ str        ┆ ---       ┆ str      ┆ ---       ┆   ┆ f64      ┆ f64       ┆ ION       ┆ str       │\n",
              "│            ┆ str       ┆          ┆ str       ┆   ┆          ┆           ┆ ---       ┆           │\n",
              "│            ┆           ┆          ┆           ┆   ┆          ┆           ┆ f64       ┆           │\n",
              "╞════════════╪═══════════╪══════════╪═══════════╪═══╪══════════╪═══════════╪═══════════╪═══════════╡\n",
              "│ B-0001-000 ┆ Etigand   ┆ 27/12/19 ┆ Factura   ┆ … ┆ 50.0     ┆ 5785.124  ┆ 289256.2  ┆ Pesos Arg │\n",
              "│ 00102      ┆ S.A.      ┆          ┆           ┆   ┆          ┆           ┆           ┆ entinos   │\n",
              "│ B-0001-000 ┆ Javier    ┆ 21/12/19 ┆ Factura   ┆ … ┆ 1.0      ┆ 99586.776 ┆ 99586.78  ┆ Pesos Arg │\n",
              "│ 00101      ┆ Moroni    ┆          ┆           ┆   ┆          ┆ 9         ┆           ┆ entinos   │\n",
              "│ A-0001-000 ┆ Amazon    ┆ 10/12/19 ┆ Factura   ┆ … ┆ 30.0     ┆ 1990.0    ┆ 59700.0   ┆ Pesos Arg │\n",
              "│ 00231      ┆ Group     ┆          ┆           ┆   ┆          ┆           ┆           ┆ entinos   │\n",
              "└────────────┴───────────┴──────────┴───────────┴───┴──────────┴───────────┴───────────┴───────────┘"
            ],
            "text/html": [
              "<div><style>\n",
              ".dataframe > thead > tr,\n",
              ".dataframe > tbody > tr {\n",
              "  text-align: right;\n",
              "  white-space: pre-wrap;\n",
              "}\n",
              "</style>\n",
              "<small>shape: (3, 9)</small><table border=\"1\" class=\"dataframe\"><thead><tr><th>DOCUMENTO</th><th>ORGANIZACION</th><th>FECHA</th><th>TIPOFACTURA</th><th>PRODUCTO</th><th>CANTIDAD</th><th>PRECIO</th><th>IMPORTEMONTRANSACCION</th><th>MONEDA</th></tr><tr><td>str</td><td>str</td><td>str</td><td>str</td><td>str</td><td>f64</td><td>f64</td><td>f64</td><td>str</td></tr></thead><tbody><tr><td>&quot;B-0001-00000102&quot;</td><td>&quot;Etigand S.A.&quot;</td><td>&quot;27/12/19&quot;</td><td>&quot;Factura&quot;</td><td>&quot;Consultoria Web&quot;</td><td>50.0</td><td>5785.124</td><td>289256.2</td><td>&quot;Pesos Argentinos&quot;</td></tr><tr><td>&quot;B-0001-00000101&quot;</td><td>&quot;Javier Moroni&quot;</td><td>&quot;21/12/19&quot;</td><td>&quot;Factura&quot;</td><td>&quot;Honorarios&quot;</td><td>1.0</td><td>99586.7769</td><td>99586.78</td><td>&quot;Pesos Argentinos&quot;</td></tr><tr><td>&quot;A-0001-00000231&quot;</td><td>&quot;Amazon Group&quot;</td><td>&quot;10/12/19&quot;</td><td>&quot;Factura&quot;</td><td>&quot;Parlantes para PC&quot;</td><td>30.0</td><td>1990.0</td><td>59700.0</td><td>&quot;Pesos Argentinos&quot;</td></tr></tbody></table></div>"
            ]
          },
          "metadata": {},
          "execution_count": 41
        }
      ]
    },
    {
      "cell_type": "code",
      "source": [
        "# 1. Seleccionar y renombrar columnas: \"REGIONAL_OFFICE_NAME\", \"AREA_TEAM_NAME\", \"BNF_DESCRIPTION\", \"TOTAL_QUANTITY\", \"NIC\"\n",
        "# ==============================================================================\n",
        "processed_df = (\n",
        "df.select(\n",
        "        [\n",
        "            pl.col(\"ORGANIZACION\").alias(\"ORG_name\"),\n",
        "            pl.col(\"DOCUMENTO\").alias(\"DOC_name\"),\n",
        "            pl.col(\"TIPOFACTURA\").alias(\"TIP_name\"),\n",
        "            pl.col(\"PRECIO\").alias(\"PRECIO_qt\"),\n",
        "            pl.col(\"IMPORTEMONTRANSACCION\").alias(\"MONTO_cost\"),\n",
        "        ]\n",
        "    )\n",
        ")\n",
        "\n",
        "processed_df.head()"
      ],
      "metadata": {
        "colab": {
          "base_uri": "https://localhost:8080/",
          "height": 255
        },
        "id": "4JRedT6YTEow",
        "outputId": "9dc459d6-a6fb-48b1-ca0b-63c0610f8d54"
      },
      "execution_count": 42,
      "outputs": [
        {
          "output_type": "execute_result",
          "data": {
            "text/plain": [
              "shape: (5, 5)\n",
              "┌──────────────────┬─────────────────┬──────────┬────────────┬────────────┐\n",
              "│ ORG_name         ┆ DOC_name        ┆ TIP_name ┆ PRECIO_qt  ┆ MONTO_cost │\n",
              "│ ---              ┆ ---             ┆ ---      ┆ ---        ┆ ---        │\n",
              "│ str              ┆ str             ┆ str      ┆ f64        ┆ f64        │\n",
              "╞══════════════════╪═════════════════╪══════════╪════════════╪════════════╡\n",
              "│ Etigand S.A.     ┆ B-0001-00000102 ┆ Factura  ┆ 5785.124   ┆ 289256.2   │\n",
              "│ Javier Moroni    ┆ B-0001-00000101 ┆ Factura  ┆ 99586.7769 ┆ 99586.78   │\n",
              "│ Amazon Group     ┆ A-0001-00000231 ┆ Factura  ┆ 1990.0     ┆ 59700.0    │\n",
              "│ Amazon Group     ┆ A-0001-00000230 ┆ Factura  ┆ 10358.0    ┆ 310740.0   │\n",
              "│ Manganello S.R.L ┆ A-0001-00000229 ┆ Factura  ┆ 6300.0     ┆ 315000.0   │\n",
              "└──────────────────┴─────────────────┴──────────┴────────────┴────────────┘"
            ],
            "text/html": [
              "<div><style>\n",
              ".dataframe > thead > tr,\n",
              ".dataframe > tbody > tr {\n",
              "  text-align: right;\n",
              "  white-space: pre-wrap;\n",
              "}\n",
              "</style>\n",
              "<small>shape: (5, 5)</small><table border=\"1\" class=\"dataframe\"><thead><tr><th>ORG_name</th><th>DOC_name</th><th>TIP_name</th><th>PRECIO_qt</th><th>MONTO_cost</th></tr><tr><td>str</td><td>str</td><td>str</td><td>f64</td><td>f64</td></tr></thead><tbody><tr><td>&quot;Etigand S.A.&quot;</td><td>&quot;B-0001-00000102&quot;</td><td>&quot;Factura&quot;</td><td>5785.124</td><td>289256.2</td></tr><tr><td>&quot;Javier Moroni&quot;</td><td>&quot;B-0001-00000101&quot;</td><td>&quot;Factura&quot;</td><td>99586.7769</td><td>99586.78</td></tr><tr><td>&quot;Amazon Group&quot;</td><td>&quot;A-0001-00000231&quot;</td><td>&quot;Factura&quot;</td><td>1990.0</td><td>59700.0</td></tr><tr><td>&quot;Amazon Group&quot;</td><td>&quot;A-0001-00000230&quot;</td><td>&quot;Factura&quot;</td><td>10358.0</td><td>310740.0</td></tr><tr><td>&quot;Manganello S.R.L&quot;</td><td>&quot;A-0001-00000229&quot;</td><td>&quot;Factura&quot;</td><td>6300.0</td><td>315000.0</td></tr></tbody></table></div>"
            ]
          },
          "metadata": {},
          "execution_count": 42
        }
      ]
    },
    {
      "cell_type": "markdown",
      "source": [
        "Cómo podemos ver, una manera de renombrar las columnas es a través de la expresión alias() que puede ser encadenada a cada una de las columnas dentro del select()."
      ],
      "metadata": {
        "id": "fe0NjqUZTp22"
      }
    },
    {
      "cell_type": "code",
      "source": [
        "# 2. Creación de nuevas columnas: unit_cost, execution_date\n",
        "# ==============================================================================\n",
        "processed_df = (\n",
        "    processed_df\n",
        "    .with_columns([\n",
        "        (pl.col(\"MONTO_cost\")/pl.col(\"PRECIO_qt\")).alias(\"unit_cost\"),  # Use the renamed column \"MONTO_cost\"\n",
        "        (pl.lit(datetime.now().date()).alias(\"execution_date\")),\n",
        "    ])\n",
        ")\n",
        "\n",
        "processed_df.head()"
      ],
      "metadata": {
        "colab": {
          "base_uri": "https://localhost:8080/",
          "height": 255
        },
        "id": "M7jGnX57U9TN",
        "outputId": "0778a41d-47c9-4df0-8937-b3de977dfdca"
      },
      "execution_count": 44,
      "outputs": [
        {
          "output_type": "execute_result",
          "data": {
            "text/plain": [
              "shape: (5, 7)\n",
              "┌────────────────┬────────────────┬──────────┬────────────┬────────────┬───────────┬───────────────┐\n",
              "│ ORG_name       ┆ DOC_name       ┆ TIP_name ┆ PRECIO_qt  ┆ MONTO_cost ┆ unit_cost ┆ execution_dat │\n",
              "│ ---            ┆ ---            ┆ ---      ┆ ---        ┆ ---        ┆ ---       ┆ e             │\n",
              "│ str            ┆ str            ┆ str      ┆ f64        ┆ f64        ┆ f64       ┆ ---           │\n",
              "│                ┆                ┆          ┆            ┆            ┆           ┆ date          │\n",
              "╞════════════════╪════════════════╪══════════╪════════════╪════════════╪═══════════╪═══════════════╡\n",
              "│ Etigand S.A.   ┆ B-0001-0000010 ┆ Factura  ┆ 5785.124   ┆ 289256.2   ┆ 50.0      ┆ 2024-11-16    │\n",
              "│                ┆ 2              ┆          ┆            ┆            ┆           ┆               │\n",
              "│ Javier Moroni  ┆ B-0001-0000010 ┆ Factura  ┆ 99586.7769 ┆ 99586.78   ┆ 1.0       ┆ 2024-11-16    │\n",
              "│                ┆ 1              ┆          ┆            ┆            ┆           ┆               │\n",
              "│ Amazon Group   ┆ A-0001-0000023 ┆ Factura  ┆ 1990.0     ┆ 59700.0    ┆ 30.0      ┆ 2024-11-16    │\n",
              "│                ┆ 1              ┆          ┆            ┆            ┆           ┆               │\n",
              "│ Amazon Group   ┆ A-0001-0000023 ┆ Factura  ┆ 10358.0    ┆ 310740.0   ┆ 30.0      ┆ 2024-11-16    │\n",
              "│                ┆ 0              ┆          ┆            ┆            ┆           ┆               │\n",
              "│ Manganello     ┆ A-0001-0000022 ┆ Factura  ┆ 6300.0     ┆ 315000.0   ┆ 50.0      ┆ 2024-11-16    │\n",
              "│ S.R.L          ┆ 9              ┆          ┆            ┆            ┆           ┆               │\n",
              "└────────────────┴────────────────┴──────────┴────────────┴────────────┴───────────┴───────────────┘"
            ],
            "text/html": [
              "<div><style>\n",
              ".dataframe > thead > tr,\n",
              ".dataframe > tbody > tr {\n",
              "  text-align: right;\n",
              "  white-space: pre-wrap;\n",
              "}\n",
              "</style>\n",
              "<small>shape: (5, 7)</small><table border=\"1\" class=\"dataframe\"><thead><tr><th>ORG_name</th><th>DOC_name</th><th>TIP_name</th><th>PRECIO_qt</th><th>MONTO_cost</th><th>unit_cost</th><th>execution_date</th></tr><tr><td>str</td><td>str</td><td>str</td><td>f64</td><td>f64</td><td>f64</td><td>date</td></tr></thead><tbody><tr><td>&quot;Etigand S.A.&quot;</td><td>&quot;B-0001-00000102&quot;</td><td>&quot;Factura&quot;</td><td>5785.124</td><td>289256.2</td><td>50.0</td><td>2024-11-16</td></tr><tr><td>&quot;Javier Moroni&quot;</td><td>&quot;B-0001-00000101&quot;</td><td>&quot;Factura&quot;</td><td>99586.7769</td><td>99586.78</td><td>1.0</td><td>2024-11-16</td></tr><tr><td>&quot;Amazon Group&quot;</td><td>&quot;A-0001-00000231&quot;</td><td>&quot;Factura&quot;</td><td>1990.0</td><td>59700.0</td><td>30.0</td><td>2024-11-16</td></tr><tr><td>&quot;Amazon Group&quot;</td><td>&quot;A-0001-00000230&quot;</td><td>&quot;Factura&quot;</td><td>10358.0</td><td>310740.0</td><td>30.0</td><td>2024-11-16</td></tr><tr><td>&quot;Manganello S.R.L&quot;</td><td>&quot;A-0001-00000229&quot;</td><td>&quot;Factura&quot;</td><td>6300.0</td><td>315000.0</td><td>50.0</td><td>2024-11-16</td></tr></tbody></table></div>"
            ]
          },
          "metadata": {},
          "execution_count": 44
        }
      ]
    },
    {
      "cell_type": "markdown",
      "source": [
        "##Para crear columnas utilizamos la expresión with_columns() donde podemos crear varias columnas a la vez. pl.lit() se utiliza cuando queremos propagar una constante para todo el DataFrame. En este ejemplo hemos creado una fecha de ejecución que ha sido propagada en todo el DataFrame en la nueva columna execution_date que fue automáticamente inferida cómo tipo date por Polars."
      ],
      "metadata": {
        "id": "zU7CFK2DVDFL"
      }
    },
    {
      "cell_type": "code",
      "source": [
        "# 3. Filtrar filas: region_name = 'LONDON' or  'SOUTH OF ENGLAND'\n",
        "# ==============================================================================\n",
        "processed_df = (\n",
        "    processed_df\n",
        "    .filter(\n",
        "        (pl.col(\"ORG_name\") == \"Javier Moroni\") | (pl.col(\"TIP_name\") == \"FACTURA\")\n",
        "    )\n",
        ")\n",
        "\n",
        "processed_df.head()"
      ],
      "metadata": {
        "colab": {
          "base_uri": "https://localhost:8080/",
          "height": 255
        },
        "id": "cuFiOOuVVIg2",
        "outputId": "61def372-3f43-4443-dd1a-56930d388fa5"
      },
      "execution_count": 45,
      "outputs": [
        {
          "output_type": "execute_result",
          "data": {
            "text/plain": [
              "shape: (5, 7)\n",
              "┌───────────────┬────────────────┬──────────┬────────────┬────────────┬───────────┬────────────────┐\n",
              "│ ORG_name      ┆ DOC_name       ┆ TIP_name ┆ PRECIO_qt  ┆ MONTO_cost ┆ unit_cost ┆ execution_date │\n",
              "│ ---           ┆ ---            ┆ ---      ┆ ---        ┆ ---        ┆ ---       ┆ ---            │\n",
              "│ str           ┆ str            ┆ str      ┆ f64        ┆ f64        ┆ f64       ┆ date           │\n",
              "╞═══════════════╪════════════════╪══════════╪════════════╪════════════╪═══════════╪════════════════╡\n",
              "│ Javier Moroni ┆ B-0001-0000010 ┆ Factura  ┆ 99586.7769 ┆ 99586.78   ┆ 1.0       ┆ 2024-11-16     │\n",
              "│               ┆ 1              ┆          ┆            ┆            ┆           ┆                │\n",
              "│ Javier Moroni ┆ B-0001-0000009 ┆ Factura  ┆ 6300.0     ┆ 6300.0     ┆ 1.0       ┆ 2024-11-16     │\n",
              "│               ┆ 9              ┆          ┆            ┆            ┆           ┆                │\n",
              "│ Javier Moroni ┆ B-0001-0000009 ┆ Factura  ┆ 60633.4842 ┆ 60633.48   ┆ 1.0       ┆ 2024-11-16     │\n",
              "│               ┆ 8              ┆          ┆            ┆            ┆           ┆                │\n",
              "│ Javier Moroni ┆ B-0001-0000009 ┆ Factura  ┆ 63800.905  ┆ 63800.91   ┆ 1.0       ┆ 2024-11-16     │\n",
              "│               ┆ 4              ┆          ┆            ┆            ┆           ┆                │\n",
              "│ Javier Moroni ┆ B-0001-0000009 ┆ Factura  ┆ 560.0      ┆ 26880.0    ┆ 48.0      ┆ 2024-11-16     │\n",
              "│               ┆ 1              ┆          ┆            ┆            ┆           ┆                │\n",
              "└───────────────┴────────────────┴──────────┴────────────┴────────────┴───────────┴────────────────┘"
            ],
            "text/html": [
              "<div><style>\n",
              ".dataframe > thead > tr,\n",
              ".dataframe > tbody > tr {\n",
              "  text-align: right;\n",
              "  white-space: pre-wrap;\n",
              "}\n",
              "</style>\n",
              "<small>shape: (5, 7)</small><table border=\"1\" class=\"dataframe\"><thead><tr><th>ORG_name</th><th>DOC_name</th><th>TIP_name</th><th>PRECIO_qt</th><th>MONTO_cost</th><th>unit_cost</th><th>execution_date</th></tr><tr><td>str</td><td>str</td><td>str</td><td>f64</td><td>f64</td><td>f64</td><td>date</td></tr></thead><tbody><tr><td>&quot;Javier Moroni&quot;</td><td>&quot;B-0001-00000101&quot;</td><td>&quot;Factura&quot;</td><td>99586.7769</td><td>99586.78</td><td>1.0</td><td>2024-11-16</td></tr><tr><td>&quot;Javier Moroni&quot;</td><td>&quot;B-0001-00000099&quot;</td><td>&quot;Factura&quot;</td><td>6300.0</td><td>6300.0</td><td>1.0</td><td>2024-11-16</td></tr><tr><td>&quot;Javier Moroni&quot;</td><td>&quot;B-0001-00000098&quot;</td><td>&quot;Factura&quot;</td><td>60633.4842</td><td>60633.48</td><td>1.0</td><td>2024-11-16</td></tr><tr><td>&quot;Javier Moroni&quot;</td><td>&quot;B-0001-00000094&quot;</td><td>&quot;Factura&quot;</td><td>63800.905</td><td>63800.91</td><td>1.0</td><td>2024-11-16</td></tr><tr><td>&quot;Javier Moroni&quot;</td><td>&quot;B-0001-00000091&quot;</td><td>&quot;Factura&quot;</td><td>560.0</td><td>26880.0</td><td>48.0</td><td>2024-11-16</td></tr></tbody></table></div>"
            ]
          },
          "metadata": {},
          "execution_count": 45
        }
      ]
    },
    {
      "cell_type": "code",
      "source": [
        "# 4. Ordenar resultados: net_ingredient_cost desc\n",
        "# ==============================================================================\n",
        "processed_df = (\n",
        "    processed_df\n",
        "    .sort(\"MONTO_cost\", descending=True)\n",
        ")\n",
        "\n",
        "processed_df.head()"
      ],
      "metadata": {
        "colab": {
          "base_uri": "https://localhost:8080/",
          "height": 255
        },
        "id": "L16CO2t_VhnY",
        "outputId": "3952b2a2-0e49-4964-ffe4-692ba620cf35"
      },
      "execution_count": 47,
      "outputs": [
        {
          "output_type": "execute_result",
          "data": {
            "text/plain": [
              "shape: (5, 7)\n",
              "┌───────────────┬────────────────┬──────────┬────────────┬────────────┬───────────┬────────────────┐\n",
              "│ ORG_name      ┆ DOC_name       ┆ TIP_name ┆ PRECIO_qt  ┆ MONTO_cost ┆ unit_cost ┆ execution_date │\n",
              "│ ---           ┆ ---            ┆ ---      ┆ ---        ┆ ---        ┆ ---       ┆ ---            │\n",
              "│ str           ┆ str            ┆ str      ┆ f64        ┆ f64        ┆ f64       ┆ date           │\n",
              "╞═══════════════╪════════════════╪══════════╪════════════╪════════════╪═══════════╪════════════════╡\n",
              "│ Javier Moroni ┆ B-0001-0000010 ┆ Factura  ┆ 99586.7769 ┆ 99586.78   ┆ 1.0       ┆ 2024-11-16     │\n",
              "│               ┆ 1              ┆          ┆            ┆            ┆           ┆                │\n",
              "│ Javier Moroni ┆ B-0001-0000009 ┆ Factura  ┆ 63800.905  ┆ 63800.91   ┆ 1.0       ┆ 2024-11-16     │\n",
              "│               ┆ 4              ┆          ┆            ┆            ┆           ┆                │\n",
              "│ Javier Moroni ┆ B-0001-0000009 ┆ Factura  ┆ 60633.4842 ┆ 60633.48   ┆ 1.0       ┆ 2024-11-16     │\n",
              "│               ┆ 8              ┆          ┆            ┆            ┆           ┆                │\n",
              "│ Javier Moroni ┆ B-0001-0000007 ┆ Factura  ┆ 53719.0083 ┆ 53719.01   ┆ 1.0       ┆ 2024-11-16     │\n",
              "│               ┆ 1              ┆          ┆            ┆            ┆           ┆                │\n",
              "│ Javier Moroni ┆ B-0001-0000008 ┆ Factura  ┆ 37190.0826 ┆ 37190.08   ┆ 1.0       ┆ 2024-11-16     │\n",
              "│               ┆ 2              ┆          ┆            ┆            ┆           ┆                │\n",
              "└───────────────┴────────────────┴──────────┴────────────┴────────────┴───────────┴────────────────┘"
            ],
            "text/html": [
              "<div><style>\n",
              ".dataframe > thead > tr,\n",
              ".dataframe > tbody > tr {\n",
              "  text-align: right;\n",
              "  white-space: pre-wrap;\n",
              "}\n",
              "</style>\n",
              "<small>shape: (5, 7)</small><table border=\"1\" class=\"dataframe\"><thead><tr><th>ORG_name</th><th>DOC_name</th><th>TIP_name</th><th>PRECIO_qt</th><th>MONTO_cost</th><th>unit_cost</th><th>execution_date</th></tr><tr><td>str</td><td>str</td><td>str</td><td>f64</td><td>f64</td><td>f64</td><td>date</td></tr></thead><tbody><tr><td>&quot;Javier Moroni&quot;</td><td>&quot;B-0001-00000101&quot;</td><td>&quot;Factura&quot;</td><td>99586.7769</td><td>99586.78</td><td>1.0</td><td>2024-11-16</td></tr><tr><td>&quot;Javier Moroni&quot;</td><td>&quot;B-0001-00000094&quot;</td><td>&quot;Factura&quot;</td><td>63800.905</td><td>63800.91</td><td>1.0</td><td>2024-11-16</td></tr><tr><td>&quot;Javier Moroni&quot;</td><td>&quot;B-0001-00000098&quot;</td><td>&quot;Factura&quot;</td><td>60633.4842</td><td>60633.48</td><td>1.0</td><td>2024-11-16</td></tr><tr><td>&quot;Javier Moroni&quot;</td><td>&quot;B-0001-00000071&quot;</td><td>&quot;Factura&quot;</td><td>53719.0083</td><td>53719.01</td><td>1.0</td><td>2024-11-16</td></tr><tr><td>&quot;Javier Moroni&quot;</td><td>&quot;B-0001-00000082&quot;</td><td>&quot;Factura&quot;</td><td>37190.0826</td><td>37190.08</td><td>1.0</td><td>2024-11-16</td></tr></tbody></table></div>"
            ]
          },
          "metadata": {},
          "execution_count": 47
        }
      ]
    },
    {
      "cell_type": "markdown",
      "source": [
        "# Para ordenar todo un DataFrame se utiliza la expresión .sort() que permite ordenar datos a partir de varias columnas de manera ascendente o descendente.\n",
        "\n",
        "# La principal ventaja de trabajar con las Polars Expressions es poder concatenarlas dentro de un solo bloque de código. Abajo, vamos a crear una función de preprocesado para ejemplificar esta secuencia de tareas:"
      ],
      "metadata": {
        "id": "oG0XncwIV6FB"
      }
    },
    {
      "cell_type": "code",
      "source": [
        "# Función de preprocesado\n",
        "# ==============================================================================\n",
        "def preprocess_raw_data(raw_data):\n",
        "\n",
        "    df = (\n",
        "        raw_data\n",
        "        .select(\n",
        "            [\n",
        "            pl.col(\"ORGANIZACION\").alias(\"ORG_name\"),\n",
        "            pl.col(\"DOCUMENTO\").alias(\"DOC_name\"),\n",
        "            pl.col(\"TIPOFACTURA\").alias(\"TIP_name\"),\n",
        "            pl.col(\"PRECIO\").alias(\"PRECIO_qt\"),\n",
        "            pl.col(\"IMPORTEMONTRANSACCION\").alias(\"MONTO_cost\"),\n",
        "            ]\n",
        "        )\n",
        "        .with_columns([\n",
        "             (pl.col(\"MONTO_cost\")/pl.col(\"PRECIO_qt\")).alias(\"unit_cost\"),  # Use the renamed column \"MONTO_cost\"\n",
        "             (pl.lit(datetime.now().date()).alias(\"execution_date\")),\n",
        "        ])\n",
        "        .filter(\n",
        "             (pl.col(\"ORG_name\") == \"Javier Moroni\") | (pl.col(\"TIP_name\") == \"FACTURA\")\n",
        "        )\n",
        "        .sort(\"MONTO_cost\", descending=True)\n",
        "    )\n",
        "\n",
        "    return df\n",
        "\n",
        "nhs_processed_df = preprocess_raw_data(raw_data=df)\n",
        "\n",
        "print(nhs_processed_df.shape)\n",
        "display(nhs_processed_df.head())"
      ],
      "metadata": {
        "colab": {
          "base_uri": "https://localhost:8080/",
          "height": 272
        },
        "id": "zMVeMJsMV_Ji",
        "outputId": "df6f4e9d-bd89-4724-b7a1-829df205dd2f"
      },
      "execution_count": 48,
      "outputs": [
        {
          "output_type": "stream",
          "name": "stdout",
          "text": [
            "(16, 7)\n"
          ]
        },
        {
          "output_type": "display_data",
          "data": {
            "text/plain": [
              "shape: (5, 7)\n",
              "┌───────────────┬────────────────┬──────────┬────────────┬────────────┬───────────┬────────────────┐\n",
              "│ ORG_name      ┆ DOC_name       ┆ TIP_name ┆ PRECIO_qt  ┆ MONTO_cost ┆ unit_cost ┆ execution_date │\n",
              "│ ---           ┆ ---            ┆ ---      ┆ ---        ┆ ---        ┆ ---       ┆ ---            │\n",
              "│ str           ┆ str            ┆ str      ┆ f64        ┆ f64        ┆ f64       ┆ date           │\n",
              "╞═══════════════╪════════════════╪══════════╪════════════╪════════════╪═══════════╪════════════════╡\n",
              "│ Javier Moroni ┆ B-0001-0000010 ┆ Factura  ┆ 99586.7769 ┆ 99586.78   ┆ 1.0       ┆ 2024-11-16     │\n",
              "│               ┆ 1              ┆          ┆            ┆            ┆           ┆                │\n",
              "│ Javier Moroni ┆ B-0001-0000009 ┆ Factura  ┆ 63800.905  ┆ 63800.91   ┆ 1.0       ┆ 2024-11-16     │\n",
              "│               ┆ 4              ┆          ┆            ┆            ┆           ┆                │\n",
              "│ Javier Moroni ┆ B-0001-0000009 ┆ Factura  ┆ 60633.4842 ┆ 60633.48   ┆ 1.0       ┆ 2024-11-16     │\n",
              "│               ┆ 8              ┆          ┆            ┆            ┆           ┆                │\n",
              "│ Javier Moroni ┆ B-0001-0000007 ┆ Factura  ┆ 53719.0083 ┆ 53719.01   ┆ 1.0       ┆ 2024-11-16     │\n",
              "│               ┆ 1              ┆          ┆            ┆            ┆           ┆                │\n",
              "│ Javier Moroni ┆ B-0001-0000008 ┆ Factura  ┆ 37190.0826 ┆ 37190.08   ┆ 1.0       ┆ 2024-11-16     │\n",
              "│               ┆ 2              ┆          ┆            ┆            ┆           ┆                │\n",
              "└───────────────┴────────────────┴──────────┴────────────┴────────────┴───────────┴────────────────┘"
            ],
            "text/html": [
              "<div><style>\n",
              ".dataframe > thead > tr,\n",
              ".dataframe > tbody > tr {\n",
              "  text-align: right;\n",
              "  white-space: pre-wrap;\n",
              "}\n",
              "</style>\n",
              "<small>shape: (5, 7)</small><table border=\"1\" class=\"dataframe\"><thead><tr><th>ORG_name</th><th>DOC_name</th><th>TIP_name</th><th>PRECIO_qt</th><th>MONTO_cost</th><th>unit_cost</th><th>execution_date</th></tr><tr><td>str</td><td>str</td><td>str</td><td>f64</td><td>f64</td><td>f64</td><td>date</td></tr></thead><tbody><tr><td>&quot;Javier Moroni&quot;</td><td>&quot;B-0001-00000101&quot;</td><td>&quot;Factura&quot;</td><td>99586.7769</td><td>99586.78</td><td>1.0</td><td>2024-11-16</td></tr><tr><td>&quot;Javier Moroni&quot;</td><td>&quot;B-0001-00000094&quot;</td><td>&quot;Factura&quot;</td><td>63800.905</td><td>63800.91</td><td>1.0</td><td>2024-11-16</td></tr><tr><td>&quot;Javier Moroni&quot;</td><td>&quot;B-0001-00000098&quot;</td><td>&quot;Factura&quot;</td><td>60633.4842</td><td>60633.48</td><td>1.0</td><td>2024-11-16</td></tr><tr><td>&quot;Javier Moroni&quot;</td><td>&quot;B-0001-00000071&quot;</td><td>&quot;Factura&quot;</td><td>53719.0083</td><td>53719.01</td><td>1.0</td><td>2024-11-16</td></tr><tr><td>&quot;Javier Moroni&quot;</td><td>&quot;B-0001-00000082&quot;</td><td>&quot;Factura&quot;</td><td>37190.0826</td><td>37190.08</td><td>1.0</td><td>2024-11-16</td></tr></tbody></table></div>"
            ]
          },
          "metadata": {}
        }
      ]
    },
    {
      "cell_type": "markdown",
      "source": [
        "# **Lazy evaluation**\n",
        "Hasta el momento, todo lo que hemos ejecutado en nuestro DataFrame (df:polars.DataFrame) se ejecutó en modo Eager, es decir, de manera instantánea de acuerdo con lo que hemos definido en las celdas, tal cómo ocurriría si fuera un DataFrame de Pandas.\n",
        "\n",
        "`Sin embargo, Polars también tiene una forma Lazy para evaluar/ejecutar las instrucciones de código.`\n",
        "\n",
        "\n",
        " Esta forma Lazy permite a Polars evaluar la sintaxis de nuestro código/expresión, optimizarla y finalmente ejecutarla dentro de su engine. Esto permite, en general, mejorar aún más el rendimiento y optimizar el uso de la memoria. En modo Lazy, Polars crea y realiza un seguimiento de nuestro código en un plan lógico donde es capaz de optimizar y reordenar cada tarea antes de ejecutarlo. Vamos ahora a explorar un poco el universo de las Lazy Evaluations."
      ],
      "metadata": {
        "id": "Yrxy2Tw4Whkp"
      }
    },
    {
      "cell_type": "code",
      "source": [
        "lazy_df = df.lazy()\n",
        "print(f\"Object type: {type(lazy_df)}\")"
      ],
      "metadata": {
        "colab": {
          "base_uri": "https://localhost:8080/"
        },
        "id": "Twrmk2gSWsRg",
        "outputId": "90e824f2-3511-427c-d0ac-eb07914e12f8"
      },
      "execution_count": 49,
      "outputs": [
        {
          "output_type": "stream",
          "name": "stdout",
          "text": [
            "Object type: <class 'polars.lazyframe.frame.LazyFrame'>\n"
          ]
        }
      ]
    },
    {
      "cell_type": "code",
      "source": [
        "lazy_df"
      ],
      "metadata": {
        "colab": {
          "base_uri": "https://localhost:8080/",
          "height": 168
        },
        "id": "AqA4FWRqWypm",
        "outputId": "646c9058-893e-4134-ca7a-06677ee0cc79"
      },
      "execution_count": 50,
      "outputs": [
        {
          "output_type": "execute_result",
          "data": {
            "text/plain": [
              "<LazyFrame at 0x781AFE4897E0>"
            ],
            "text/html": [
              "<h4>NAIVE QUERY PLAN</h4><p>run <b>LazyFrame.show_graph()</b> to see the optimized version</p><?xml version=\"1.0\" encoding=\"UTF-8\" standalone=\"no\"?>\n",
              "<!DOCTYPE svg PUBLIC \"-//W3C//DTD SVG 1.1//EN\"\n",
              " \"http://www.w3.org/Graphics/SVG/1.1/DTD/svg11.dtd\">\n",
              "<!-- Generated by graphviz version 2.43.0 (0)\n",
              " -->\n",
              "<!-- Title: polars_query Pages: 1 -->\n",
              "<svg width=\"67pt\" height=\"61pt\"\n",
              " viewBox=\"0.00 0.00 67.00 61.00\" xmlns=\"http://www.w3.org/2000/svg\" xmlns:xlink=\"http://www.w3.org/1999/xlink\">\n",
              "<g id=\"graph0\" class=\"graph\" transform=\"scale(1 1) rotate(0) translate(4 57)\">\n",
              "<title>polars_query</title>\n",
              "<polygon fill=\"white\" stroke=\"transparent\" points=\"-4,4 -4,-57 63,-57 63,4 -4,4\"/>\n",
              "<!-- p1 -->\n",
              "<g id=\"node1\" class=\"node\">\n",
              "<title>p1</title>\n",
              "<polygon fill=\"none\" stroke=\"black\" points=\"59,-53 0,-53 0,0 59,0 59,-53\"/>\n",
              "<text text-anchor=\"middle\" x=\"29.5\" y=\"-37.8\" font-family=\"Times,serif\" font-size=\"14.00\">TABLE</text>\n",
              "<text text-anchor=\"middle\" x=\"29.5\" y=\"-22.8\" font-family=\"Times,serif\" font-size=\"14.00\">π */9;</text>\n",
              "<text text-anchor=\"middle\" x=\"29.5\" y=\"-7.8\" font-family=\"Times,serif\" font-size=\"14.00\">σ None</text>\n",
              "</g>\n",
              "</g>\n",
              "</svg>\n"
            ]
          },
          "metadata": {},
          "execution_count": 50
        }
      ]
    },
    {
      "cell_type": "code",
      "source": [
        "print(lazy_df)"
      ],
      "metadata": {
        "colab": {
          "base_uri": "https://localhost:8080/"
        },
        "id": "wmOKPCBMW3w4",
        "outputId": "03e65310-b797-4054-857f-b7192db0b436"
      },
      "execution_count": 51,
      "outputs": [
        {
          "output_type": "stream",
          "name": "stdout",
          "text": [
            "naive plan: (run LazyFrame.explain(optimized=True) to see the optimized plan)\n",
            "\n",
            "DF [\"DOCUMENTO\", \"ORGANIZACION\", \"FECHA\", \"TIPOFACTURA\"]; PROJECT */9 COLUMNS; SELECTION: None\n"
          ]
        }
      ]
    },
    {
      "cell_type": "markdown",
      "source": [
        "`En primer lugar hemos creado un polars.LazyFrame a partir de nuestro polars.DataFrame inicial a través del método .lazy().`\n",
        "\n",
        "`Un LazyFrame es un objeto sobre el cual Polars es capaz de crear un plan de ejecución y optimizar queries, volviendo así más eficiente el proceso de transformación y manipulación de los datos.`\n",
        "\n",
        "`Existen también maneras de realizar una lectura de datos en modo Lazy directamente, como por ejemplo: pl.scan_csv, pl.scan_parquet, etc.`\n",
        "\n",
        "Al intentar mostrar el shape de nuestro lazy dataframe se obtiene un error porque no todos los métodos disponibles para los polars.DataFrame están disponibles también para polars.LazyFrame, entre ellos el .shape()\n",
        "\n",
        "Al llamar a nuestro polars.LazyFrame directamente, lo que nos devuelve es el plan de ejecución de datos. En este caso, no está haciendo nada en especial ya que solamente estamos cargando los datos. Pero es importante entender que, a medida que vamos trabajando con este DataFrame, el plan de ejecución también va cambiando y cuando necesitemos ejecutarlo, Polars es capaz de optimizarlo y paralelizar la ejecución de las tareas siempre que sea posible.\n",
        "\n",
        "\n",
        "Vamos ahora llamar a la misma función de preprocesado pero utilizando nuestro polars.LazyFrame:"
      ],
      "metadata": {
        "id": "FI9fdiYDW_pb"
      }
    },
    {
      "cell_type": "code",
      "source": [
        "lazy_df = preprocess_raw_data(raw_data=lazy_df)\n",
        "lazy_df"
      ],
      "metadata": {
        "colab": {
          "base_uri": "https://localhost:8080/",
          "height": 552
        },
        "id": "KdcL_pSBXP5O",
        "outputId": "f95fac5a-82f6-4af5-cc63-286e5eecbff2"
      },
      "execution_count": 52,
      "outputs": [
        {
          "output_type": "execute_result",
          "data": {
            "text/plain": [
              "<LazyFrame at 0x781AFE489450>"
            ],
            "text/html": [
              "<h4>NAIVE QUERY PLAN</h4><p>run <b>LazyFrame.show_graph()</b> to see the optimized version</p><?xml version=\"1.0\" encoding=\"UTF-8\" standalone=\"no\"?>\n",
              "<!DOCTYPE svg PUBLIC \"-//W3C//DTD SVG 1.1//EN\"\n",
              " \"http://www.w3.org/Graphics/SVG/1.1/DTD/svg11.dtd\">\n",
              "<!-- Generated by graphviz version 2.43.0 (0)\n",
              " -->\n",
              "<!-- Title: polars_query Pages: 1 -->\n",
              "<svg width=\"702pt\" height=\"349pt\"\n",
              " viewBox=\"0.00 0.00 702.00 349.00\" xmlns=\"http://www.w3.org/2000/svg\" xmlns:xlink=\"http://www.w3.org/1999/xlink\">\n",
              "<g id=\"graph0\" class=\"graph\" transform=\"scale(1 1) rotate(0) translate(4 345)\">\n",
              "<title>polars_query</title>\n",
              "<polygon fill=\"white\" stroke=\"transparent\" points=\"-4,4 -4,-345 698,-345 698,4 -4,4\"/>\n",
              "<!-- p1 -->\n",
              "<g id=\"node1\" class=\"node\">\n",
              "<title>p1</title>\n",
              "<polygon fill=\"none\" stroke=\"black\" points=\"448,-341 246,-341 246,-305 448,-305 448,-341\"/>\n",
              "<text text-anchor=\"middle\" x=\"347\" y=\"-319.3\" font-family=\"Times,serif\" font-size=\"14.00\">SORT BY [col(&quot;MONTO_cost&quot;)]</text>\n",
              "</g>\n",
              "<!-- p2 -->\n",
              "<g id=\"node2\" class=\"node\">\n",
              "<title>p2</title>\n",
              "<polygon fill=\"none\" stroke=\"black\" points=\"671,-269 23,-269 23,-233 671,-233 671,-269\"/>\n",
              "<text text-anchor=\"middle\" x=\"347\" y=\"-247.3\" font-family=\"Times,serif\" font-size=\"14.00\">FILTER BY [([(col(&quot;ORG_name&quot;)) == (String(Javier Moroni))]) | ([(col(&quot;TIP_name&quot;)) == (String(FACTURA))])]</text>\n",
              "</g>\n",
              "<!-- p1&#45;&#45;p2 -->\n",
              "<g id=\"edge1\" class=\"edge\">\n",
              "<title>p1&#45;&#45;p2</title>\n",
              "<path fill=\"none\" stroke=\"black\" d=\"M347,-304.7C347,-293.85 347,-279.92 347,-269.1\"/>\n",
              "</g>\n",
              "<!-- p3 -->\n",
              "<g id=\"node3\" class=\"node\">\n",
              "<title>p3</title>\n",
              "<polygon fill=\"none\" stroke=\"black\" points=\"694,-197 0,-197 0,-161 694,-161 694,-197\"/>\n",
              "<text text-anchor=\"middle\" x=\"347\" y=\"-175.3\" font-family=\"Times,serif\" font-size=\"14.00\">WITH COLUMNS [[(col(&quot;MONTO_cost&quot;)) / (col(&quot;PRECIO_qt&quot;))].alias(&quot;unit_cost&quot;), 2024&#45;11&#45;16.alias(&quot;execution_date&quot;)]</text>\n",
              "</g>\n",
              "<!-- p2&#45;&#45;p3 -->\n",
              "<g id=\"edge2\" class=\"edge\">\n",
              "<title>p2&#45;&#45;p3</title>\n",
              "<path fill=\"none\" stroke=\"black\" d=\"M347,-232.7C347,-221.85 347,-207.92 347,-197.1\"/>\n",
              "</g>\n",
              "<!-- p4 -->\n",
              "<g id=\"node4\" class=\"node\">\n",
              "<title>p4</title>\n",
              "<polygon fill=\"none\" stroke=\"black\" points=\"374,-125 320,-125 320,-89 374,-89 374,-125\"/>\n",
              "<text text-anchor=\"middle\" x=\"347\" y=\"-103.3\" font-family=\"Times,serif\" font-size=\"14.00\">π 5/5</text>\n",
              "</g>\n",
              "<!-- p3&#45;&#45;p4 -->\n",
              "<g id=\"edge3\" class=\"edge\">\n",
              "<title>p3&#45;&#45;p4</title>\n",
              "<path fill=\"none\" stroke=\"black\" d=\"M347,-160.7C347,-149.85 347,-135.92 347,-125.1\"/>\n",
              "</g>\n",
              "<!-- p5 -->\n",
              "<g id=\"node5\" class=\"node\">\n",
              "<title>p5</title>\n",
              "<polygon fill=\"none\" stroke=\"black\" points=\"376.5,-53 317.5,-53 317.5,0 376.5,0 376.5,-53\"/>\n",
              "<text text-anchor=\"middle\" x=\"347\" y=\"-37.8\" font-family=\"Times,serif\" font-size=\"14.00\">TABLE</text>\n",
              "<text text-anchor=\"middle\" x=\"347\" y=\"-22.8\" font-family=\"Times,serif\" font-size=\"14.00\">π */9;</text>\n",
              "<text text-anchor=\"middle\" x=\"347\" y=\"-7.8\" font-family=\"Times,serif\" font-size=\"14.00\">σ None</text>\n",
              "</g>\n",
              "<!-- p4&#45;&#45;p5 -->\n",
              "<g id=\"edge4\" class=\"edge\">\n",
              "<title>p4&#45;&#45;p5</title>\n",
              "<path fill=\"none\" stroke=\"black\" d=\"M347,-88.97C347,-78.51 347,-64.9 347,-53.16\"/>\n",
              "</g>\n",
              "</g>\n",
              "</svg>\n"
            ]
          },
          "metadata": {},
          "execution_count": 52
        }
      ]
    },
    {
      "cell_type": "code",
      "source": [
        "lazy_df.show_graph(optimized=True)"
      ],
      "metadata": {
        "colab": {
          "base_uri": "https://localhost:8080/",
          "height": 391
        },
        "id": "RZsq-wjBXa6o",
        "outputId": "48e62251-44da-41d1-90ec-4fb3d3559820"
      },
      "execution_count": 53,
      "outputs": [
        {
          "output_type": "display_data",
          "data": {
            "text/plain": [
              "<IPython.core.display.SVG object>"
            ],
            "image/svg+xml": "<svg xmlns=\"http://www.w3.org/2000/svg\" xmlns:xlink=\"http://www.w3.org/1999/xlink\" width=\"702pt\" height=\"277pt\" viewBox=\"0.00 0.00 702.00 277.00\">\n<g id=\"graph0\" class=\"graph\" transform=\"scale(1 1) rotate(0) translate(4 273)\">\n<title>polars_query</title>\n<polygon fill=\"white\" stroke=\"transparent\" points=\"-4,4 -4,-273 698,-273 698,4 -4,4\"/>\n<!-- p1 -->\n<g id=\"node1\" class=\"node\">\n<title>p1</title>\n<polygon fill=\"none\" stroke=\"black\" points=\"448,-269 246,-269 246,-233 448,-233 448,-269\"/>\n<text text-anchor=\"middle\" x=\"347\" y=\"-247.3\" font-family=\"Times,serif\" font-size=\"14.00\">SORT BY [col(&quot;MONTO_cost&quot;)]</text>\n</g>\n<!-- p2 -->\n<g id=\"node2\" class=\"node\">\n<title>p2</title>\n<polygon fill=\"none\" stroke=\"black\" points=\"694,-197 0,-197 0,-161 694,-161 694,-197\"/>\n<text text-anchor=\"middle\" x=\"347\" y=\"-175.3\" font-family=\"Times,serif\" font-size=\"14.00\">WITH COLUMNS [[(col(&quot;MONTO_cost&quot;)) / (col(&quot;PRECIO_qt&quot;))].alias(&quot;unit_cost&quot;), 2024-11-16.alias(&quot;execution_date&quot;)]</text>\n</g>\n<!-- p1&#45;&#45;p2 -->\n<g id=\"edge1\" class=\"edge\">\n<title>p1--p2</title>\n<path fill=\"none\" stroke=\"black\" d=\"M347,-232.7C347,-221.85 347,-207.92 347,-197.1\"/>\n</g>\n<!-- p3 -->\n<g id=\"node3\" class=\"node\">\n<title>p3</title>\n<polygon fill=\"none\" stroke=\"black\" points=\"374,-125 320,-125 320,-89 374,-89 374,-125\"/>\n<text text-anchor=\"middle\" x=\"347\" y=\"-103.3\" font-family=\"Times,serif\" font-size=\"14.00\">π 5/5</text>\n</g>\n<!-- p2&#45;&#45;p3 -->\n<g id=\"edge2\" class=\"edge\">\n<title>p2--p3</title>\n<path fill=\"none\" stroke=\"black\" d=\"M347,-160.7C347,-149.85 347,-135.92 347,-125.1\"/>\n</g>\n<!-- p4 -->\n<g id=\"node4\" class=\"node\">\n<title>p4</title>\n<polygon fill=\"none\" stroke=\"black\" points=\"678,-53 16,-53 16,0 678,0 678,-53\"/>\n<text text-anchor=\"middle\" x=\"347\" y=\"-37.8\" font-family=\"Times,serif\" font-size=\"14.00\">TABLE</text>\n<text text-anchor=\"middle\" x=\"347\" y=\"-22.8\" font-family=\"Times,serif\" font-size=\"14.00\">π 5/9;</text>\n<text text-anchor=\"middle\" x=\"347\" y=\"-7.8\" font-family=\"Times,serif\" font-size=\"14.00\">σ [([(col(&quot;ORGANIZACION&quot;)) == (String(Javier Moroni))]) | ([(col(&quot;TIPOFACTURA&quot;)) == (String(FACTURA))])]</text>\n</g>\n<!-- p3&#45;&#45;p4 -->\n<g id=\"edge3\" class=\"edge\">\n<title>p3--p4</title>\n<path fill=\"none\" stroke=\"black\" d=\"M347,-88.97C347,-78.51 347,-64.9 347,-53.16\"/>\n</g>\n</g>\n</svg>"
          },
          "metadata": {}
        }
      ]
    },
    {
      "cell_type": "markdown",
      "source": [
        "Nuestra función se ha ejecutado sin problemas y nos ha devuelto un otro objeto LazyFrame. Al intentar visualizar este objeto, cómo ya sabemos, nos salta su plan de ejecución no optimizado (NAIVE QUERY PLAN). Podemos visualizar los planes de ejecución (NAIVE QUERY PLAN/OPTIMIZED QUERY PLAN) de nuestro DataFrame a través del método: lazy_nhs_processed_df.show_graph(optimized_graph:bool)\n",
        "\n",
        "Si comparamos el plan optimizado con el naive podemos notar que la optimizador de queries de Polars ha sido capaz de cambiar el orden de las transformaciones, poniendo la operación de filtrado de la columna \"region_name\" (FILTER BY) antes de la creación de las nuevas columnas (WITH COLUMNS).\n",
        "\n",
        "Nota: Para poder visualizar los planos de ejecución puede ser necesario tener instalado graphviz en el sistema (link)."
      ],
      "metadata": {
        "id": "e_N7Yi2kXiqg"
      }
    },
    {
      "cell_type": "markdown",
      "source": [
        "![image.png](data:image/png;base64,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)"
      ],
      "metadata": {
        "id": "s9hrStVyXkqh"
      }
    },
    {
      "cell_type": "markdown",
      "source": [
        "# **collect() y fetch()**\n",
        "Si en algún momento de nuestro +pipeline+ necesitamos realmente visualizar el pl.LazyDataFrame con sus datos, podemos utilizar métodos como collect() y fetch() que nos van a retornar un pl.DataFrame. El método fetch() es muy indicado para hacer debugging ya que es una operación rápida y que limita el número final de filas devueltas."
      ],
      "metadata": {
        "id": "ZYj1AvJmXtP4"
      }
    },
    {
      "cell_type": "code",
      "source": [
        "# .fetch(): devuelve un número limitado de líneas para hacer debugging\n",
        "# ==============================================================================\n",
        "print(type(lazy_df.fetch(20)))\n",
        "lazy_df.fetch(20)"
      ],
      "metadata": {
        "colab": {
          "base_uri": "https://localhost:8080/",
          "height": 549
        },
        "id": "PHixjiCTXypg",
        "outputId": "e268e058-518e-4ebb-8e79-a7d1bf6351b7"
      },
      "execution_count": 54,
      "outputs": [
        {
          "output_type": "stream",
          "name": "stdout",
          "text": [
            "<class 'polars.dataframe.frame.DataFrame'>\n"
          ]
        },
        {
          "output_type": "stream",
          "name": "stderr",
          "text": [
            "<ipython-input-54-57495d336b2d>:3: DeprecationWarning: `LazyFrame.fetch` is deprecated. `LazyFrame.fetch` is deprecated; use `LazyFrame.collect` instead, in conjunction with a call to `head`.\n",
            "  print(type(lazy_df.fetch(20)))\n",
            "<ipython-input-54-57495d336b2d>:4: DeprecationWarning: `LazyFrame.fetch` is deprecated. `LazyFrame.fetch` is deprecated; use `LazyFrame.collect` instead, in conjunction with a call to `head`.\n",
            "  lazy_df.fetch(20)\n"
          ]
        },
        {
          "output_type": "execute_result",
          "data": {
            "text/plain": [
              "shape: (16, 7)\n",
              "┌───────────────┬────────────────┬──────────┬────────────┬────────────┬───────────┬────────────────┐\n",
              "│ ORG_name      ┆ DOC_name       ┆ TIP_name ┆ PRECIO_qt  ┆ MONTO_cost ┆ unit_cost ┆ execution_date │\n",
              "│ ---           ┆ ---            ┆ ---      ┆ ---        ┆ ---        ┆ ---       ┆ ---            │\n",
              "│ str           ┆ str            ┆ str      ┆ f64        ┆ f64        ┆ f64       ┆ date           │\n",
              "╞═══════════════╪════════════════╪══════════╪════════════╪════════════╪═══════════╪════════════════╡\n",
              "│ Javier Moroni ┆ B-0001-0000010 ┆ Factura  ┆ 99586.7769 ┆ 99586.78   ┆ 1.0       ┆ 2024-11-16     │\n",
              "│               ┆ 1              ┆          ┆            ┆            ┆           ┆                │\n",
              "│ Javier Moroni ┆ B-0001-0000009 ┆ Factura  ┆ 63800.905  ┆ 63800.91   ┆ 1.0       ┆ 2024-11-16     │\n",
              "│               ┆ 4              ┆          ┆            ┆            ┆           ┆                │\n",
              "│ Javier Moroni ┆ B-0001-0000009 ┆ Factura  ┆ 60633.4842 ┆ 60633.48   ┆ 1.0       ┆ 2024-11-16     │\n",
              "│               ┆ 8              ┆          ┆            ┆            ┆           ┆                │\n",
              "│ Javier Moroni ┆ B-0001-0000007 ┆ Factura  ┆ 53719.0083 ┆ 53719.01   ┆ 1.0       ┆ 2024-11-16     │\n",
              "│               ┆ 1              ┆          ┆            ┆            ┆           ┆                │\n",
              "│ Javier Moroni ┆ B-0001-0000008 ┆ Factura  ┆ 37190.0826 ┆ 37190.08   ┆ 1.0       ┆ 2024-11-16     │\n",
              "│               ┆ 2              ┆          ┆            ┆            ┆           ┆                │\n",
              "│ …             ┆ …              ┆ …        ┆ …          ┆ …          ┆ …         ┆ …              │\n",
              "│ Javier Moroni ┆ B-0001-0000007 ┆ Factura  ┆ 13223.1405 ┆ 13223.14   ┆ 1.0       ┆ 2024-11-16     │\n",
              "│               ┆ 5              ┆          ┆            ┆            ┆           ┆                │\n",
              "│ Javier Moroni ┆ B-0001-0000007 ┆ Factura  ┆ 11570.2479 ┆ 11570.25   ┆ 1.0       ┆ 2024-11-16     │\n",
              "│               ┆ 3              ┆          ┆            ┆            ┆           ┆                │\n",
              "│ Javier Moroni ┆ B-0001-0000009 ┆ Factura  ┆ 6300.0     ┆ 6300.0     ┆ 1.0       ┆ 2024-11-16     │\n",
              "│               ┆ 9              ┆          ┆            ┆            ┆           ┆                │\n",
              "│ Javier Moroni ┆ B-0001-0000007 ┆ Factura  ┆ 1000.0     ┆ 6000.0     ┆ 6.0       ┆ 2024-11-16     │\n",
              "│               ┆ 7              ┆          ┆            ┆            ┆           ┆                │\n",
              "│ Javier Moroni ┆ B-0001-0000008 ┆ Factura  ┆ 107.438    ┆ 2148.76    ┆ 20.0      ┆ 2024-11-16     │\n",
              "│               ┆ 9              ┆          ┆            ┆            ┆           ┆                │\n",
              "└───────────────┴────────────────┴──────────┴────────────┴────────────┴───────────┴────────────────┘"
            ],
            "text/html": [
              "<div><style>\n",
              ".dataframe > thead > tr,\n",
              ".dataframe > tbody > tr {\n",
              "  text-align: right;\n",
              "  white-space: pre-wrap;\n",
              "}\n",
              "</style>\n",
              "<small>shape: (16, 7)</small><table border=\"1\" class=\"dataframe\"><thead><tr><th>ORG_name</th><th>DOC_name</th><th>TIP_name</th><th>PRECIO_qt</th><th>MONTO_cost</th><th>unit_cost</th><th>execution_date</th></tr><tr><td>str</td><td>str</td><td>str</td><td>f64</td><td>f64</td><td>f64</td><td>date</td></tr></thead><tbody><tr><td>&quot;Javier Moroni&quot;</td><td>&quot;B-0001-00000101&quot;</td><td>&quot;Factura&quot;</td><td>99586.7769</td><td>99586.78</td><td>1.0</td><td>2024-11-16</td></tr><tr><td>&quot;Javier Moroni&quot;</td><td>&quot;B-0001-00000094&quot;</td><td>&quot;Factura&quot;</td><td>63800.905</td><td>63800.91</td><td>1.0</td><td>2024-11-16</td></tr><tr><td>&quot;Javier Moroni&quot;</td><td>&quot;B-0001-00000098&quot;</td><td>&quot;Factura&quot;</td><td>60633.4842</td><td>60633.48</td><td>1.0</td><td>2024-11-16</td></tr><tr><td>&quot;Javier Moroni&quot;</td><td>&quot;B-0001-00000071&quot;</td><td>&quot;Factura&quot;</td><td>53719.0083</td><td>53719.01</td><td>1.0</td><td>2024-11-16</td></tr><tr><td>&quot;Javier Moroni&quot;</td><td>&quot;B-0001-00000082&quot;</td><td>&quot;Factura&quot;</td><td>37190.0826</td><td>37190.08</td><td>1.0</td><td>2024-11-16</td></tr><tr><td>&hellip;</td><td>&hellip;</td><td>&hellip;</td><td>&hellip;</td><td>&hellip;</td><td>&hellip;</td><td>&hellip;</td></tr><tr><td>&quot;Javier Moroni&quot;</td><td>&quot;B-0001-00000075&quot;</td><td>&quot;Factura&quot;</td><td>13223.1405</td><td>13223.14</td><td>1.0</td><td>2024-11-16</td></tr><tr><td>&quot;Javier Moroni&quot;</td><td>&quot;B-0001-00000073&quot;</td><td>&quot;Factura&quot;</td><td>11570.2479</td><td>11570.25</td><td>1.0</td><td>2024-11-16</td></tr><tr><td>&quot;Javier Moroni&quot;</td><td>&quot;B-0001-00000099&quot;</td><td>&quot;Factura&quot;</td><td>6300.0</td><td>6300.0</td><td>1.0</td><td>2024-11-16</td></tr><tr><td>&quot;Javier Moroni&quot;</td><td>&quot;B-0001-00000077&quot;</td><td>&quot;Factura&quot;</td><td>1000.0</td><td>6000.0</td><td>6.0</td><td>2024-11-16</td></tr><tr><td>&quot;Javier Moroni&quot;</td><td>&quot;B-0001-00000089&quot;</td><td>&quot;Factura&quot;</td><td>107.438</td><td>2148.76</td><td>20.0</td><td>2024-11-16</td></tr></tbody></table></div>"
            ]
          },
          "metadata": {},
          "execution_count": 54
        }
      ]
    },
    {
      "cell_type": "code",
      "source": [
        "# .collect(): devuelve todo el DataFrame\n",
        "# ==============================================================================\n",
        "print(type(lazy_df.collect()))\n",
        "lazy_df.collect()"
      ],
      "metadata": {
        "colab": {
          "base_uri": "https://localhost:8080/",
          "height": 460
        },
        "id": "PFPQauvHX-mg",
        "outputId": "9c884837-3258-4090-99f8-d5cc32179b4f"
      },
      "execution_count": 55,
      "outputs": [
        {
          "output_type": "stream",
          "name": "stdout",
          "text": [
            "<class 'polars.dataframe.frame.DataFrame'>\n"
          ]
        },
        {
          "output_type": "execute_result",
          "data": {
            "text/plain": [
              "shape: (16, 7)\n",
              "┌───────────────┬────────────────┬──────────┬────────────┬────────────┬───────────┬────────────────┐\n",
              "│ ORG_name      ┆ DOC_name       ┆ TIP_name ┆ PRECIO_qt  ┆ MONTO_cost ┆ unit_cost ┆ execution_date │\n",
              "│ ---           ┆ ---            ┆ ---      ┆ ---        ┆ ---        ┆ ---       ┆ ---            │\n",
              "│ str           ┆ str            ┆ str      ┆ f64        ┆ f64        ┆ f64       ┆ date           │\n",
              "╞═══════════════╪════════════════╪══════════╪════════════╪════════════╪═══════════╪════════════════╡\n",
              "│ Javier Moroni ┆ B-0001-0000010 ┆ Factura  ┆ 99586.7769 ┆ 99586.78   ┆ 1.0       ┆ 2024-11-16     │\n",
              "│               ┆ 1              ┆          ┆            ┆            ┆           ┆                │\n",
              "│ Javier Moroni ┆ B-0001-0000009 ┆ Factura  ┆ 63800.905  ┆ 63800.91   ┆ 1.0       ┆ 2024-11-16     │\n",
              "│               ┆ 4              ┆          ┆            ┆            ┆           ┆                │\n",
              "│ Javier Moroni ┆ B-0001-0000009 ┆ Factura  ┆ 60633.4842 ┆ 60633.48   ┆ 1.0       ┆ 2024-11-16     │\n",
              "│               ┆ 8              ┆          ┆            ┆            ┆           ┆                │\n",
              "│ Javier Moroni ┆ B-0001-0000007 ┆ Factura  ┆ 53719.0083 ┆ 53719.01   ┆ 1.0       ┆ 2024-11-16     │\n",
              "│               ┆ 1              ┆          ┆            ┆            ┆           ┆                │\n",
              "│ Javier Moroni ┆ B-0001-0000008 ┆ Factura  ┆ 37190.0826 ┆ 37190.08   ┆ 1.0       ┆ 2024-11-16     │\n",
              "│               ┆ 2              ┆          ┆            ┆            ┆           ┆                │\n",
              "│ …             ┆ …              ┆ …        ┆ …          ┆ …          ┆ …         ┆ …              │\n",
              "│ Javier Moroni ┆ B-0001-0000007 ┆ Factura  ┆ 13223.1405 ┆ 13223.14   ┆ 1.0       ┆ 2024-11-16     │\n",
              "│               ┆ 5              ┆          ┆            ┆            ┆           ┆                │\n",
              "│ Javier Moroni ┆ B-0001-0000007 ┆ Factura  ┆ 11570.2479 ┆ 11570.25   ┆ 1.0       ┆ 2024-11-16     │\n",
              "│               ┆ 3              ┆          ┆            ┆            ┆           ┆                │\n",
              "│ Javier Moroni ┆ B-0001-0000009 ┆ Factura  ┆ 6300.0     ┆ 6300.0     ┆ 1.0       ┆ 2024-11-16     │\n",
              "│               ┆ 9              ┆          ┆            ┆            ┆           ┆                │\n",
              "│ Javier Moroni ┆ B-0001-0000007 ┆ Factura  ┆ 1000.0     ┆ 6000.0     ┆ 6.0       ┆ 2024-11-16     │\n",
              "│               ┆ 7              ┆          ┆            ┆            ┆           ┆                │\n",
              "│ Javier Moroni ┆ B-0001-0000008 ┆ Factura  ┆ 107.438    ┆ 2148.76    ┆ 20.0      ┆ 2024-11-16     │\n",
              "│               ┆ 9              ┆          ┆            ┆            ┆           ┆                │\n",
              "└───────────────┴────────────────┴──────────┴────────────┴────────────┴───────────┴────────────────┘"
            ],
            "text/html": [
              "<div><style>\n",
              ".dataframe > thead > tr,\n",
              ".dataframe > tbody > tr {\n",
              "  text-align: right;\n",
              "  white-space: pre-wrap;\n",
              "}\n",
              "</style>\n",
              "<small>shape: (16, 7)</small><table border=\"1\" class=\"dataframe\"><thead><tr><th>ORG_name</th><th>DOC_name</th><th>TIP_name</th><th>PRECIO_qt</th><th>MONTO_cost</th><th>unit_cost</th><th>execution_date</th></tr><tr><td>str</td><td>str</td><td>str</td><td>f64</td><td>f64</td><td>f64</td><td>date</td></tr></thead><tbody><tr><td>&quot;Javier Moroni&quot;</td><td>&quot;B-0001-00000101&quot;</td><td>&quot;Factura&quot;</td><td>99586.7769</td><td>99586.78</td><td>1.0</td><td>2024-11-16</td></tr><tr><td>&quot;Javier Moroni&quot;</td><td>&quot;B-0001-00000094&quot;</td><td>&quot;Factura&quot;</td><td>63800.905</td><td>63800.91</td><td>1.0</td><td>2024-11-16</td></tr><tr><td>&quot;Javier Moroni&quot;</td><td>&quot;B-0001-00000098&quot;</td><td>&quot;Factura&quot;</td><td>60633.4842</td><td>60633.48</td><td>1.0</td><td>2024-11-16</td></tr><tr><td>&quot;Javier Moroni&quot;</td><td>&quot;B-0001-00000071&quot;</td><td>&quot;Factura&quot;</td><td>53719.0083</td><td>53719.01</td><td>1.0</td><td>2024-11-16</td></tr><tr><td>&quot;Javier Moroni&quot;</td><td>&quot;B-0001-00000082&quot;</td><td>&quot;Factura&quot;</td><td>37190.0826</td><td>37190.08</td><td>1.0</td><td>2024-11-16</td></tr><tr><td>&hellip;</td><td>&hellip;</td><td>&hellip;</td><td>&hellip;</td><td>&hellip;</td><td>&hellip;</td><td>&hellip;</td></tr><tr><td>&quot;Javier Moroni&quot;</td><td>&quot;B-0001-00000075&quot;</td><td>&quot;Factura&quot;</td><td>13223.1405</td><td>13223.14</td><td>1.0</td><td>2024-11-16</td></tr><tr><td>&quot;Javier Moroni&quot;</td><td>&quot;B-0001-00000073&quot;</td><td>&quot;Factura&quot;</td><td>11570.2479</td><td>11570.25</td><td>1.0</td><td>2024-11-16</td></tr><tr><td>&quot;Javier Moroni&quot;</td><td>&quot;B-0001-00000099&quot;</td><td>&quot;Factura&quot;</td><td>6300.0</td><td>6300.0</td><td>1.0</td><td>2024-11-16</td></tr><tr><td>&quot;Javier Moroni&quot;</td><td>&quot;B-0001-00000077&quot;</td><td>&quot;Factura&quot;</td><td>1000.0</td><td>6000.0</td><td>6.0</td><td>2024-11-16</td></tr><tr><td>&quot;Javier Moroni&quot;</td><td>&quot;B-0001-00000089&quot;</td><td>&quot;Factura&quot;</td><td>107.438</td><td>2148.76</td><td>20.0</td><td>2024-11-16</td></tr></tbody></table></div>"
            ]
          },
          "metadata": {},
          "execution_count": 55
        }
      ]
    },
    {
      "cell_type": "markdown",
      "source": [
        "# **Agrupación de Datos - GroupBy**\n",
        "En esta sección, vamos a explorar un ejemplo sencillo de cómo hacer un GroupBy en Polars. Básicamente, vamos a agrupar nuestros datos preprocesados a nivel del \"ORGANIZACION\" y calcular la cantidad total de FACTURAS y la media de unidades solicitadas (total_sales y avg_qt)."
      ],
      "metadata": {
        "id": "HGpfv609YWjp"
      }
    },
    {
      "cell_type": "code",
      "source": [
        "lazy_df.collect()"
      ],
      "metadata": {
        "colab": {
          "base_uri": "https://localhost:8080/",
          "height": 443
        },
        "id": "EVkC8t_3ZbEv",
        "outputId": "8d2d8e66-3b06-4028-b65d-f235fc56e746"
      },
      "execution_count": 61,
      "outputs": [
        {
          "output_type": "execute_result",
          "data": {
            "text/plain": [
              "shape: (16, 7)\n",
              "┌───────────────┬────────────────┬──────────┬────────────┬────────────┬───────────┬────────────────┐\n",
              "│ ORG_name      ┆ DOC_name       ┆ TIP_name ┆ PRECIO_qt  ┆ MONTO_cost ┆ unit_cost ┆ execution_date │\n",
              "│ ---           ┆ ---            ┆ ---      ┆ ---        ┆ ---        ┆ ---       ┆ ---            │\n",
              "│ str           ┆ str            ┆ str      ┆ f64        ┆ f64        ┆ f64       ┆ date           │\n",
              "╞═══════════════╪════════════════╪══════════╪════════════╪════════════╪═══════════╪════════════════╡\n",
              "│ Javier Moroni ┆ B-0001-0000010 ┆ Factura  ┆ 99586.7769 ┆ 99586.78   ┆ 1.0       ┆ 2024-11-16     │\n",
              "│               ┆ 1              ┆          ┆            ┆            ┆           ┆                │\n",
              "│ Javier Moroni ┆ B-0001-0000009 ┆ Factura  ┆ 63800.905  ┆ 63800.91   ┆ 1.0       ┆ 2024-11-16     │\n",
              "│               ┆ 4              ┆          ┆            ┆            ┆           ┆                │\n",
              "│ Javier Moroni ┆ B-0001-0000009 ┆ Factura  ┆ 60633.4842 ┆ 60633.48   ┆ 1.0       ┆ 2024-11-16     │\n",
              "│               ┆ 8              ┆          ┆            ┆            ┆           ┆                │\n",
              "│ Javier Moroni ┆ B-0001-0000007 ┆ Factura  ┆ 53719.0083 ┆ 53719.01   ┆ 1.0       ┆ 2024-11-16     │\n",
              "│               ┆ 1              ┆          ┆            ┆            ┆           ┆                │\n",
              "│ Javier Moroni ┆ B-0001-0000008 ┆ Factura  ┆ 37190.0826 ┆ 37190.08   ┆ 1.0       ┆ 2024-11-16     │\n",
              "│               ┆ 2              ┆          ┆            ┆            ┆           ┆                │\n",
              "│ …             ┆ …              ┆ …        ┆ …          ┆ …          ┆ …         ┆ …              │\n",
              "│ Javier Moroni ┆ B-0001-0000007 ┆ Factura  ┆ 13223.1405 ┆ 13223.14   ┆ 1.0       ┆ 2024-11-16     │\n",
              "│               ┆ 5              ┆          ┆            ┆            ┆           ┆                │\n",
              "│ Javier Moroni ┆ B-0001-0000007 ┆ Factura  ┆ 11570.2479 ┆ 11570.25   ┆ 1.0       ┆ 2024-11-16     │\n",
              "│               ┆ 3              ┆          ┆            ┆            ┆           ┆                │\n",
              "│ Javier Moroni ┆ B-0001-0000009 ┆ Factura  ┆ 6300.0     ┆ 6300.0     ┆ 1.0       ┆ 2024-11-16     │\n",
              "│               ┆ 9              ┆          ┆            ┆            ┆           ┆                │\n",
              "│ Javier Moroni ┆ B-0001-0000007 ┆ Factura  ┆ 1000.0     ┆ 6000.0     ┆ 6.0       ┆ 2024-11-16     │\n",
              "│               ┆ 7              ┆          ┆            ┆            ┆           ┆                │\n",
              "│ Javier Moroni ┆ B-0001-0000008 ┆ Factura  ┆ 107.438    ┆ 2148.76    ┆ 20.0      ┆ 2024-11-16     │\n",
              "│               ┆ 9              ┆          ┆            ┆            ┆           ┆                │\n",
              "└───────────────┴────────────────┴──────────┴────────────┴────────────┴───────────┴────────────────┘"
            ],
            "text/html": [
              "<div><style>\n",
              ".dataframe > thead > tr,\n",
              ".dataframe > tbody > tr {\n",
              "  text-align: right;\n",
              "  white-space: pre-wrap;\n",
              "}\n",
              "</style>\n",
              "<small>shape: (16, 7)</small><table border=\"1\" class=\"dataframe\"><thead><tr><th>ORG_name</th><th>DOC_name</th><th>TIP_name</th><th>PRECIO_qt</th><th>MONTO_cost</th><th>unit_cost</th><th>execution_date</th></tr><tr><td>str</td><td>str</td><td>str</td><td>f64</td><td>f64</td><td>f64</td><td>date</td></tr></thead><tbody><tr><td>&quot;Javier Moroni&quot;</td><td>&quot;B-0001-00000101&quot;</td><td>&quot;Factura&quot;</td><td>99586.7769</td><td>99586.78</td><td>1.0</td><td>2024-11-16</td></tr><tr><td>&quot;Javier Moroni&quot;</td><td>&quot;B-0001-00000094&quot;</td><td>&quot;Factura&quot;</td><td>63800.905</td><td>63800.91</td><td>1.0</td><td>2024-11-16</td></tr><tr><td>&quot;Javier Moroni&quot;</td><td>&quot;B-0001-00000098&quot;</td><td>&quot;Factura&quot;</td><td>60633.4842</td><td>60633.48</td><td>1.0</td><td>2024-11-16</td></tr><tr><td>&quot;Javier Moroni&quot;</td><td>&quot;B-0001-00000071&quot;</td><td>&quot;Factura&quot;</td><td>53719.0083</td><td>53719.01</td><td>1.0</td><td>2024-11-16</td></tr><tr><td>&quot;Javier Moroni&quot;</td><td>&quot;B-0001-00000082&quot;</td><td>&quot;Factura&quot;</td><td>37190.0826</td><td>37190.08</td><td>1.0</td><td>2024-11-16</td></tr><tr><td>&hellip;</td><td>&hellip;</td><td>&hellip;</td><td>&hellip;</td><td>&hellip;</td><td>&hellip;</td><td>&hellip;</td></tr><tr><td>&quot;Javier Moroni&quot;</td><td>&quot;B-0001-00000075&quot;</td><td>&quot;Factura&quot;</td><td>13223.1405</td><td>13223.14</td><td>1.0</td><td>2024-11-16</td></tr><tr><td>&quot;Javier Moroni&quot;</td><td>&quot;B-0001-00000073&quot;</td><td>&quot;Factura&quot;</td><td>11570.2479</td><td>11570.25</td><td>1.0</td><td>2024-11-16</td></tr><tr><td>&quot;Javier Moroni&quot;</td><td>&quot;B-0001-00000099&quot;</td><td>&quot;Factura&quot;</td><td>6300.0</td><td>6300.0</td><td>1.0</td><td>2024-11-16</td></tr><tr><td>&quot;Javier Moroni&quot;</td><td>&quot;B-0001-00000077&quot;</td><td>&quot;Factura&quot;</td><td>1000.0</td><td>6000.0</td><td>6.0</td><td>2024-11-16</td></tr><tr><td>&quot;Javier Moroni&quot;</td><td>&quot;B-0001-00000089&quot;</td><td>&quot;Factura&quot;</td><td>107.438</td><td>2148.76</td><td>20.0</td><td>2024-11-16</td></tr></tbody></table></div>"
            ]
          },
          "metadata": {},
          "execution_count": 61
        }
      ]
    },
    {
      "cell_type": "code",
      "source": [
        "# Group by Operation\n",
        "# ==============================================================================\n",
        "agg_df = (\n",
        "    lazy_df\n",
        "    .group_by([\"ORG_name\"])\n",
        "    .agg(\n",
        "        [\n",
        "            pl.col(\"MONTO_cost\").sum().alias(\"total_sales\"),\n",
        "            pl.col(\"PRECIO_qt\").mean().alias(\"avg_qt\"),\n",
        "            # Include execution_date in the aggregation if needed.\n",
        "            # For example, to get the first execution_date for each group:\n",
        "            pl.col(\"execution_date\").first().alias(\"execution_date\")\n",
        "        ]\n",
        "    )\n",
        "    .sort(\"execution_date\", descending=True)\n",
        "\n",
        ").collect()\n",
        "\n",
        "agg_df"
      ],
      "metadata": {
        "colab": {
          "base_uri": "https://localhost:8080/",
          "height": 129
        },
        "id": "Ra9_Tys_Zyto",
        "outputId": "52b0079f-5f18-4893-c0c1-29dfc2e05c48"
      },
      "execution_count": 64,
      "outputs": [
        {
          "output_type": "execute_result",
          "data": {
            "text/plain": [
              "shape: (1, 4)\n",
              "┌───────────────┬─────────────┬──────────────┬────────────────┐\n",
              "│ ORG_name      ┆ total_sales ┆ avg_qt       ┆ execution_date │\n",
              "│ ---           ┆ ---         ┆ ---          ┆ ---            │\n",
              "│ str           ┆ f64         ┆ f64          ┆ date           │\n",
              "╞═══════════════╪═════════════╪══════════════╪════════════════╡\n",
              "│ Javier Moroni ┆ 500097.87   ┆ 28156.467506 ┆ 2024-11-16     │\n",
              "└───────────────┴─────────────┴──────────────┴────────────────┘"
            ],
            "text/html": [
              "<div><style>\n",
              ".dataframe > thead > tr,\n",
              ".dataframe > tbody > tr {\n",
              "  text-align: right;\n",
              "  white-space: pre-wrap;\n",
              "}\n",
              "</style>\n",
              "<small>shape: (1, 4)</small><table border=\"1\" class=\"dataframe\"><thead><tr><th>ORG_name</th><th>total_sales</th><th>avg_qt</th><th>execution_date</th></tr><tr><td>str</td><td>f64</td><td>f64</td><td>date</td></tr></thead><tbody><tr><td>&quot;Javier Moroni&quot;</td><td>500097.87</td><td>28156.467506</td><td>2024-11-16</td></tr></tbody></table></div>"
            ]
          },
          "metadata": {},
          "execution_count": 64
        }
      ]
    },
    {
      "cell_type": "markdown",
      "source": [
        "En este ejemplo hemos utilizado las funciones .sum() y .mean() para agrupar los datos. En este enlace se puede obtener más información sobre otras funciones disponibles: link"
      ],
      "metadata": {
        "id": "rqJjmK0yZ64C"
      }
    },
    {
      "cell_type": "markdown",
      "source": [
        "# *Conclusiones*\n",
        "En conclusión, como hemos visto en este artículo de introducción, Polars es una librería capaz de procesar datos tabulares de forma rápida y eficiente, a través de sus características avanzadas como la capacidad de paralelizar tareas y su modo de Lazy Evaluation. También por tener una API amigable, una syntax muy intuitiva y una robusta documentación, se convierte en una excelente opción para procesar datos en Python."
      ],
      "metadata": {
        "id": "lpha6S8SZ9I_"
      }
    }
  ]
}